{
 "cells": [
  {
   "cell_type": "markdown",
   "metadata": {},
   "source": [
    "<div style=\"background:#d4d6fa; color:#000; padding:10px\">\n",
    "    <p><big><b> Комментарий тимлида: </b></big></p> \n",
    "\n",
    "Привет! Я буду использовать стандартную цветовую разметку комментариев:\n",
    "    \n",
    "<div class=\"alert alert-success\">\n",
    "        <strong>Зелёным</strong> цветом я буду выделять удачные и элегантные решения, на которые можно опираться в будущих проектах. \n",
    "    </div> \n",
    "    <div class=\"alert alert-warning\">\n",
    "        <strong>Желтым</strong> будет выделено то, что в следующий раз стоит сделать по-другому. Одно-два таких замечаний в проекте допустимы, но если их будет больше, то нужно будет внести изменения.\n",
    "    </div>\n",
    "    <div class=\"alert alert-danger\">\n",
    "        <strong>Красным</strong> - то, что необходимо исправить, прежде чем я смогу принять твой проект.\n",
    "    </div> \n",
    "    \n",
    "Пожалуйста, не удаляй и не передвигай их.\n",
    "    \n",
    "    "
   ]
  },
  {
   "cell_type": "markdown",
   "metadata": {},
   "source": [
    "<div style=\"background:#d4d6fa;color:#000; padding:10px; margin-top:10px\">\n",
    "    <p><big><b> Итоговый Комментарий тимлида:</b></big></p>\n",
    "    \n",
    "**Проект - Почти зачтено**\n",
    "      \n",
    "Хорошее исследование, все ключевые моменты ты рассмотрела, да и с основными результатами я согласен. Однако сейчас код не отрабатывает до конца, потому принять проект я не могу.\n",
    "    \n",
    "---\n",
    "    \n",
    "**Презентация - Зачтено**\n",
    "\n",
    "\n",
    "\n",
    "Всегда рекомендую нумеровать слайды. Это значительно облегчает навигацию, особенно если в презентации более 7 слайдов, или предполагается блок с ответами на вопросы, когда нужно переключаться на разные слайды.\n",
    "\n",
    "\n",
    "Будь, пожалуйста, аккуратнее с полями слайдов. Так как зачастую аппаратура оказывается настроена неидеально и искажаются края презентации. Будет обидно, если там окажется что-то важное.\n",
    "\n",
    "В остальном - всё хорошо. все ключевые результаты ты рассказала (а сейчас это самое главное), слайды оформлены аккуратно и в единой стилистике. Разве что мне не нравится pie-chart на слайде 6, но о нём я уже писал в проекте. Так что презентация принята.\n",
    "    \n",
    "---\n",
    "    \n",
    "**Дашборд**\n",
    "\n",
    "    \n",
    "Набор 2:\n",
    "* нет графика количества событий по дням\n",
    "</div>"
   ]
  },
  {
   "cell_type": "markdown",
   "metadata": {},
   "source": [
    "<div style=\"background:#d4d6fa;color:#000; padding:10px; margin-top:10px\">\n",
    "    <p><big><b> Итоговый Комментарий тимлида v2:</b></big></p>\n",
    "    \n",
    "* **Проект - зачтено**  \n",
    "* **Презентация - Зачтено**\n",
    "* **Дашборд** - **Зачтено по втормоу набору**\n",
    "\n",
    "Спасибо, что проработала даже некритические замечания. На этом основной проект принят. \n",
    "    \n",
    "Сейчас дашборд вынесли отдельным проектом, потому прошу тебя скопировать туда ссылку и мой комментарии про дашборд.\n",
    "    \n",
    "\n",
    "    \n",
    "</div>"
   ]
  },
  {
   "cell_type": "markdown",
   "metadata": {},
   "source": [
    "**Игры — Анализ рекламных источников**\n",
    "\n",
    "*Задача:*\n",
    "- Проанализируйте поведения игроков в зависимости от источника перехода\n",
    "- Проведите исследовательский анализ данных\n",
    "- Проанализируйте влияние источника перехода в игру на поведение пользователя\n",
    "- Проверьте статистические гипотезы: \n",
    "  - Проверьте гипотезу: время завершения уровня различается в зависимости способа прохождения:\n",
    "    через реализацию проекта,\n",
    "    через победу над первым игроком.\n",
    "    \n",
    "  - Сформулируйте собственную статистическую гипотезу, дополните её: нулевой и альтернативной гипотезами. Проверьте гипотезу с помощью статистического теста. \n",
    "\n",
    "\n",
    "Глобальные задачи исследования после вводной встречи:\n",
    "- ранжирование каналов по эффективности (соотношение цена/качество):\n",
    "  - исследуем финансовые метрики \n",
    "  - сравниваем поведение игроков\n",
    "РЕЗУЛЬТАТ ИСЛЕДОВАНИЯ:\n",
    "Ранжирование каналов - какой канал наиболее эффективно привлекает наиболее качественных игроков. "
   ]
  },
  {
   "cell_type": "markdown",
   "metadata": {},
   "source": [
    "**Декомпозиция**\n",
    "1. Загрузка датасетов. Изучение общей информации: \n",
    "-  Подключить библиотеки\n",
    "-  Загрузить данные\n",
    "-  Сделать первые выводы\n",
    "\n",
    "\n",
    "\n",
    "2. Предобработка данных: \n",
    "-  обработка типов данных (их коррекция при необходимости)\n",
    "-  проверка на наличие дубликатов, при необходимости их удаление/замена\n",
    "-  обработка и поиск ошибок в данных \n",
    "\n",
    "\n",
    "3. Исследовательский анализ: \n",
    "- поиск общей информации:\n",
    "  - количество пользователей за весь период, \n",
    "  - количество событий за весь период, \n",
    "  - доли пользователей завершивших игру (можно по категориям - с победой над другими пользователями PVP, или с научной победой PVE)  \n",
    "  - количество построенных зданий за весь период,\n",
    "  - количество использованных источников трафика за весь период, \n",
    "   - количество пользователей пришедших с каждого источника трафика)\n",
    "- задача определиться с объектом исследования, узнать стоимость првлечения полоьзователей\n",
    "- исследовать вопрос, что такое качественный клиент: по каким каналам тафика наиболее дешевое привлечение игроков, которые закончили первый уровень. \n",
    "- Вывод\n",
    "\n",
    "4. Проверка статистических гипотез:\n",
    "  - Проверьте гипотезу: время завершения уровня различается в зависимости способа прохождения:\n",
    "    через реализацию проекта,\n",
    "    через победу над первым игроком.\n",
    "  - Проверка гипотезы о равенсте количества построенных зданий среди игроков, одержавших победу над другими игроками и построивших спутник.\n",
    " \n",
    "\n",
    "5. Формулирование наглядного ответа на запрос заказчика:\n",
    "- ранжирование каналов по эффективности (соотношение цена/качество):\n",
    "  - даем результаты сравнения финансовых метрик\n",
    "  - даем результаты сравнения поведение игроков\n",
    "\n",
    "6. Общие выводы и рекоммендации.\n",
    "- Ранжирование каналов - какой канал наиболее эффективно привлекает наиболее качественных игроков \n",
    "- рекомендации на основании этого, а так же обсуждение ключевых метрик проекта."
   ]
  },
  {
   "cell_type": "markdown",
   "metadata": {},
   "source": [
    "Дашборд: https://public.tableau.com/views/_16952468927440/Sheet3?:language=en-US&publish=yes&:display_count=n&:origin=viz_share_link\n",
    "Скорректировала: https://public.tableau.com/views/2_0_16953821159820/Dashboard1?:language=en-US&publish=yes&:display_count=n&:origin=viz_share_link\n",
    "\n",
    "Презентация: https://disk.yandex.ru/i/U5MOWsPdnmDzCA\n",
    "добавила нумерацию: https://disk.yandex.ru/i/OrLll9uKZ1cNWg\n",
    "добавила нумерацию: "
   ]
  },
  {
   "cell_type": "markdown",
   "metadata": {},
   "source": [
    "### Загрузка датасетов. Изучение общей информации:\n",
    "\n",
    "Для начала подключим необходимые библиотеки для дальнейшей работы, прочитаем данные из файлов, выведем информацию о каждом"
   ]
  },
  {
   "cell_type": "markdown",
   "metadata": {},
   "source": [
    "#### Подключить библиотеки"
   ]
  },
  {
   "cell_type": "code",
   "execution_count": 1,
   "metadata": {},
   "outputs": [
    {
     "name": "stdout",
     "output_type": "stream",
     "text": [
      "Collecting seaborn==0.11.2\n",
      "  Downloading seaborn-0.11.2-py3-none-any.whl (292 kB)\n",
      "\u001b[K     |████████████████████████████████| 292 kB 1.8 MB/s eta 0:00:01\n",
      "\u001b[?25hRequirement already satisfied: pandas>=0.23 in /opt/conda/lib/python3.9/site-packages (from seaborn==0.11.2) (1.2.4)\n",
      "Requirement already satisfied: matplotlib>=2.2 in /opt/conda/lib/python3.9/site-packages (from seaborn==0.11.2) (3.3.4)\n",
      "Requirement already satisfied: numpy>=1.15 in /opt/conda/lib/python3.9/site-packages (from seaborn==0.11.2) (1.21.1)\n",
      "Requirement already satisfied: scipy>=1.0 in /opt/conda/lib/python3.9/site-packages (from seaborn==0.11.2) (1.9.1)\n",
      "Requirement already satisfied: pyparsing!=2.0.4,!=2.1.2,!=2.1.6,>=2.0.3 in /opt/conda/lib/python3.9/site-packages (from matplotlib>=2.2->seaborn==0.11.2) (2.4.7)\n",
      "Requirement already satisfied: kiwisolver>=1.0.1 in /opt/conda/lib/python3.9/site-packages (from matplotlib>=2.2->seaborn==0.11.2) (1.4.4)\n",
      "Requirement already satisfied: pillow>=6.2.0 in /opt/conda/lib/python3.9/site-packages (from matplotlib>=2.2->seaborn==0.11.2) (8.4.0)\n",
      "Requirement already satisfied: python-dateutil>=2.1 in /opt/conda/lib/python3.9/site-packages (from matplotlib>=2.2->seaborn==0.11.2) (2.8.1)\n",
      "Requirement already satisfied: cycler>=0.10 in /opt/conda/lib/python3.9/site-packages (from matplotlib>=2.2->seaborn==0.11.2) (0.11.0)\n",
      "Requirement already satisfied: pytz>=2017.3 in /opt/conda/lib/python3.9/site-packages (from pandas>=0.23->seaborn==0.11.2) (2021.1)\n",
      "Requirement already satisfied: six>=1.5 in /opt/conda/lib/python3.9/site-packages (from python-dateutil>=2.1->matplotlib>=2.2->seaborn==0.11.2) (1.16.0)\n",
      "Installing collected packages: seaborn\n",
      "  Attempting uninstall: seaborn\n",
      "    Found existing installation: seaborn 0.11.1\n",
      "    Uninstalling seaborn-0.11.1:\n",
      "      Successfully uninstalled seaborn-0.11.1\n",
      "Successfully installed seaborn-0.11.2\n"
     ]
    }
   ],
   "source": [
    "!pip install seaborn==0.11.2"
   ]
  },
  {
   "cell_type": "code",
   "execution_count": 2,
   "metadata": {},
   "outputs": [],
   "source": [
    "import pandas as pd\n",
    "import numpy as np\n",
    "import seaborn as sns\n",
    "import matplotlib.pyplot as plt\n",
    "from scipy import stats as st\n",
    "import plotly.express as px"
   ]
  },
  {
   "cell_type": "markdown",
   "metadata": {},
   "source": [
    "#### Загрузить данные"
   ]
  },
  {
   "cell_type": "code",
   "execution_count": 3,
   "metadata": {},
   "outputs": [],
   "source": [
    "ad_costs = pd.read_csv('/datasets/ad_costs.csv')\n",
    "game_actions = pd.read_csv('/datasets/game_actions.csv')\n",
    "user_source = pd.read_csv('/datasets/user_source.csv')"
   ]
  },
  {
   "cell_type": "code",
   "execution_count": 4,
   "metadata": {},
   "outputs": [],
   "source": [
    "# назовем датасеты: \n",
    "ad_costs.name = 'ad_costs'\n",
    "game_actions.name = 'game_actions'\n",
    "user_source.name = 'user_source'\n",
    "\n",
    "file_list = [ad_costs, game_actions, user_source]"
   ]
  },
  {
   "cell_type": "code",
   "execution_count": 5,
   "metadata": {},
   "outputs": [
    {
     "data": {
      "text/html": [
       "<div>\n",
       "<style scoped>\n",
       "    .dataframe tbody tr th:only-of-type {\n",
       "        vertical-align: middle;\n",
       "    }\n",
       "\n",
       "    .dataframe tbody tr th {\n",
       "        vertical-align: top;\n",
       "    }\n",
       "\n",
       "    .dataframe thead th {\n",
       "        text-align: right;\n",
       "    }\n",
       "</style>\n",
       "<table border=\"1\" class=\"dataframe\">\n",
       "  <thead>\n",
       "    <tr style=\"text-align: right;\">\n",
       "      <th></th>\n",
       "      <th>user_id</th>\n",
       "      <th>source</th>\n",
       "    </tr>\n",
       "  </thead>\n",
       "  <tbody>\n",
       "    <tr>\n",
       "      <th>0</th>\n",
       "      <td>0001f83c-c6ac-4621-b7f0-8a28b283ac30</td>\n",
       "      <td>facebook_ads</td>\n",
       "    </tr>\n",
       "    <tr>\n",
       "      <th>1</th>\n",
       "      <td>00151b4f-ba38-44a8-a650-d7cf130a0105</td>\n",
       "      <td>yandex_direct</td>\n",
       "    </tr>\n",
       "    <tr>\n",
       "      <th>2</th>\n",
       "      <td>001aaea6-3d14-43f1-8ca8-7f48820f17aa</td>\n",
       "      <td>youtube_channel_reklama</td>\n",
       "    </tr>\n",
       "    <tr>\n",
       "      <th>3</th>\n",
       "      <td>001d39dc-366c-4021-9604-6a3b9ff01e25</td>\n",
       "      <td>instagram_new_adverts</td>\n",
       "    </tr>\n",
       "    <tr>\n",
       "      <th>4</th>\n",
       "      <td>002f508f-67b6-479f-814b-b05f00d4e995</td>\n",
       "      <td>facebook_ads</td>\n",
       "    </tr>\n",
       "    <tr>\n",
       "      <th>5</th>\n",
       "      <td>003b80c6-4164-4157-bb2a-03d0181d39c4</td>\n",
       "      <td>yandex_direct</td>\n",
       "    </tr>\n",
       "    <tr>\n",
       "      <th>6</th>\n",
       "      <td>003ee7e8-6356-4286-a715-62f22a18d2a1</td>\n",
       "      <td>instagram_new_adverts</td>\n",
       "    </tr>\n",
       "    <tr>\n",
       "      <th>7</th>\n",
       "      <td>004074f8-251a-4776-922c-8348dca1a2f6</td>\n",
       "      <td>facebook_ads</td>\n",
       "    </tr>\n",
       "    <tr>\n",
       "      <th>8</th>\n",
       "      <td>00440efd-aa50-4b4b-aae8-ffcd1782729d</td>\n",
       "      <td>facebook_ads</td>\n",
       "    </tr>\n",
       "    <tr>\n",
       "      <th>9</th>\n",
       "      <td>00464e5e-28ed-4be6-bf44-517ef7b3937b</td>\n",
       "      <td>yandex_direct</td>\n",
       "    </tr>\n",
       "  </tbody>\n",
       "</table>\n",
       "</div>"
      ],
      "text/plain": [
       "                                user_id                   source\n",
       "0  0001f83c-c6ac-4621-b7f0-8a28b283ac30             facebook_ads\n",
       "1  00151b4f-ba38-44a8-a650-d7cf130a0105            yandex_direct\n",
       "2  001aaea6-3d14-43f1-8ca8-7f48820f17aa  youtube_channel_reklama\n",
       "3  001d39dc-366c-4021-9604-6a3b9ff01e25    instagram_new_adverts\n",
       "4  002f508f-67b6-479f-814b-b05f00d4e995             facebook_ads\n",
       "5  003b80c6-4164-4157-bb2a-03d0181d39c4            yandex_direct\n",
       "6  003ee7e8-6356-4286-a715-62f22a18d2a1    instagram_new_adverts\n",
       "7  004074f8-251a-4776-922c-8348dca1a2f6             facebook_ads\n",
       "8  00440efd-aa50-4b4b-aae8-ffcd1782729d             facebook_ads\n",
       "9  00464e5e-28ed-4be6-bf44-517ef7b3937b            yandex_direct"
      ]
     },
     "execution_count": 5,
     "metadata": {},
     "output_type": "execute_result"
    }
   ],
   "source": [
    "user_source.head(10)"
   ]
  },
  {
   "cell_type": "code",
   "execution_count": 6,
   "metadata": {},
   "outputs": [
    {
     "name": "stdout",
     "output_type": "stream",
     "text": [
      "<class 'pandas.core.frame.DataFrame'>\n",
      "RangeIndex: 13576 entries, 0 to 13575\n",
      "Data columns (total 2 columns):\n",
      " #   Column   Non-Null Count  Dtype \n",
      "---  ------   --------------  ----- \n",
      " 0   user_id  13576 non-null  object\n",
      " 1   source   13576 non-null  object\n",
      "dtypes: object(2)\n",
      "memory usage: 212.2+ KB\n"
     ]
    }
   ],
   "source": [
    "user_source.info()"
   ]
  },
  {
   "cell_type": "code",
   "execution_count": 7,
   "metadata": {},
   "outputs": [
    {
     "data": {
      "text/html": [
       "<div>\n",
       "<style scoped>\n",
       "    .dataframe tbody tr th:only-of-type {\n",
       "        vertical-align: middle;\n",
       "    }\n",
       "\n",
       "    .dataframe tbody tr th {\n",
       "        vertical-align: top;\n",
       "    }\n",
       "\n",
       "    .dataframe thead th {\n",
       "        text-align: right;\n",
       "    }\n",
       "</style>\n",
       "<table border=\"1\" class=\"dataframe\">\n",
       "  <thead>\n",
       "    <tr style=\"text-align: right;\">\n",
       "      <th></th>\n",
       "      <th>source</th>\n",
       "      <th>day</th>\n",
       "      <th>cost</th>\n",
       "    </tr>\n",
       "  </thead>\n",
       "  <tbody>\n",
       "    <tr>\n",
       "      <th>0</th>\n",
       "      <td>facebook_ads</td>\n",
       "      <td>2020-05-03</td>\n",
       "      <td>935.882786</td>\n",
       "    </tr>\n",
       "    <tr>\n",
       "      <th>1</th>\n",
       "      <td>facebook_ads</td>\n",
       "      <td>2020-05-04</td>\n",
       "      <td>548.354480</td>\n",
       "    </tr>\n",
       "    <tr>\n",
       "      <th>2</th>\n",
       "      <td>facebook_ads</td>\n",
       "      <td>2020-05-05</td>\n",
       "      <td>260.185754</td>\n",
       "    </tr>\n",
       "    <tr>\n",
       "      <th>3</th>\n",
       "      <td>facebook_ads</td>\n",
       "      <td>2020-05-06</td>\n",
       "      <td>177.982200</td>\n",
       "    </tr>\n",
       "    <tr>\n",
       "      <th>4</th>\n",
       "      <td>facebook_ads</td>\n",
       "      <td>2020-05-07</td>\n",
       "      <td>111.766796</td>\n",
       "    </tr>\n",
       "    <tr>\n",
       "      <th>5</th>\n",
       "      <td>facebook_ads</td>\n",
       "      <td>2020-05-08</td>\n",
       "      <td>68.009276</td>\n",
       "    </tr>\n",
       "    <tr>\n",
       "      <th>6</th>\n",
       "      <td>facebook_ads</td>\n",
       "      <td>2020-05-09</td>\n",
       "      <td>38.723350</td>\n",
       "    </tr>\n",
       "    <tr>\n",
       "      <th>7</th>\n",
       "      <td>instagram_new_adverts</td>\n",
       "      <td>2020-05-03</td>\n",
       "      <td>943.204717</td>\n",
       "    </tr>\n",
       "    <tr>\n",
       "      <th>8</th>\n",
       "      <td>instagram_new_adverts</td>\n",
       "      <td>2020-05-04</td>\n",
       "      <td>502.925451</td>\n",
       "    </tr>\n",
       "    <tr>\n",
       "      <th>9</th>\n",
       "      <td>instagram_new_adverts</td>\n",
       "      <td>2020-05-05</td>\n",
       "      <td>313.970984</td>\n",
       "    </tr>\n",
       "  </tbody>\n",
       "</table>\n",
       "</div>"
      ],
      "text/plain": [
       "                  source         day        cost\n",
       "0           facebook_ads  2020-05-03  935.882786\n",
       "1           facebook_ads  2020-05-04  548.354480\n",
       "2           facebook_ads  2020-05-05  260.185754\n",
       "3           facebook_ads  2020-05-06  177.982200\n",
       "4           facebook_ads  2020-05-07  111.766796\n",
       "5           facebook_ads  2020-05-08   68.009276\n",
       "6           facebook_ads  2020-05-09   38.723350\n",
       "7  instagram_new_adverts  2020-05-03  943.204717\n",
       "8  instagram_new_adverts  2020-05-04  502.925451\n",
       "9  instagram_new_adverts  2020-05-05  313.970984"
      ]
     },
     "execution_count": 7,
     "metadata": {},
     "output_type": "execute_result"
    }
   ],
   "source": [
    "ad_costs.head(10)\n"
   ]
  },
  {
   "cell_type": "code",
   "execution_count": 8,
   "metadata": {},
   "outputs": [
    {
     "name": "stdout",
     "output_type": "stream",
     "text": [
      "<class 'pandas.core.frame.DataFrame'>\n",
      "RangeIndex: 28 entries, 0 to 27\n",
      "Data columns (total 3 columns):\n",
      " #   Column  Non-Null Count  Dtype  \n",
      "---  ------  --------------  -----  \n",
      " 0   source  28 non-null     object \n",
      " 1   day     28 non-null     object \n",
      " 2   cost    28 non-null     float64\n",
      "dtypes: float64(1), object(2)\n",
      "memory usage: 800.0+ bytes\n"
     ]
    }
   ],
   "source": [
    "ad_costs.info()"
   ]
  },
  {
   "cell_type": "code",
   "execution_count": 9,
   "metadata": {},
   "outputs": [
    {
     "data": {
      "text/html": [
       "<div>\n",
       "<style scoped>\n",
       "    .dataframe tbody tr th:only-of-type {\n",
       "        vertical-align: middle;\n",
       "    }\n",
       "\n",
       "    .dataframe tbody tr th {\n",
       "        vertical-align: top;\n",
       "    }\n",
       "\n",
       "    .dataframe thead th {\n",
       "        text-align: right;\n",
       "    }\n",
       "</style>\n",
       "<table border=\"1\" class=\"dataframe\">\n",
       "  <thead>\n",
       "    <tr style=\"text-align: right;\">\n",
       "      <th></th>\n",
       "      <th>event_datetime</th>\n",
       "      <th>event</th>\n",
       "      <th>building_type</th>\n",
       "      <th>user_id</th>\n",
       "      <th>project_type</th>\n",
       "    </tr>\n",
       "  </thead>\n",
       "  <tbody>\n",
       "    <tr>\n",
       "      <th>0</th>\n",
       "      <td>2020-05-04 00:00:01</td>\n",
       "      <td>building</td>\n",
       "      <td>assembly_shop</td>\n",
       "      <td>55e92310-cb8e-4754-b622-597e124b03de</td>\n",
       "      <td>NaN</td>\n",
       "    </tr>\n",
       "    <tr>\n",
       "      <th>1</th>\n",
       "      <td>2020-05-04 00:00:03</td>\n",
       "      <td>building</td>\n",
       "      <td>assembly_shop</td>\n",
       "      <td>c07b1c10-f477-44dc-81dc-ec82254b1347</td>\n",
       "      <td>NaN</td>\n",
       "    </tr>\n",
       "    <tr>\n",
       "      <th>2</th>\n",
       "      <td>2020-05-04 00:00:16</td>\n",
       "      <td>building</td>\n",
       "      <td>assembly_shop</td>\n",
       "      <td>6edd42cc-e753-4ff6-a947-2107cd560710</td>\n",
       "      <td>NaN</td>\n",
       "    </tr>\n",
       "    <tr>\n",
       "      <th>3</th>\n",
       "      <td>2020-05-04 00:00:16</td>\n",
       "      <td>building</td>\n",
       "      <td>assembly_shop</td>\n",
       "      <td>92c69003-d60a-444a-827f-8cc51bf6bf4c</td>\n",
       "      <td>NaN</td>\n",
       "    </tr>\n",
       "    <tr>\n",
       "      <th>4</th>\n",
       "      <td>2020-05-04 00:00:35</td>\n",
       "      <td>building</td>\n",
       "      <td>assembly_shop</td>\n",
       "      <td>cdc6bb92-0ccb-4490-9866-ef142f09139d</td>\n",
       "      <td>NaN</td>\n",
       "    </tr>\n",
       "    <tr>\n",
       "      <th>5</th>\n",
       "      <td>2020-05-04 00:00:36</td>\n",
       "      <td>building</td>\n",
       "      <td>assembly_shop</td>\n",
       "      <td>06c592ca-902d-42bb-bac3-75ce84cca159</td>\n",
       "      <td>NaN</td>\n",
       "    </tr>\n",
       "    <tr>\n",
       "      <th>6</th>\n",
       "      <td>2020-05-04 00:00:36</td>\n",
       "      <td>building</td>\n",
       "      <td>assembly_shop</td>\n",
       "      <td>4fe0f101-694b-4e31-9740-d1d87f7208ea</td>\n",
       "      <td>NaN</td>\n",
       "    </tr>\n",
       "    <tr>\n",
       "      <th>7</th>\n",
       "      <td>2020-05-04 00:00:38</td>\n",
       "      <td>building</td>\n",
       "      <td>assembly_shop</td>\n",
       "      <td>beb8ca15-33a9-465d-b47b-89aa96f89c9a</td>\n",
       "      <td>NaN</td>\n",
       "    </tr>\n",
       "    <tr>\n",
       "      <th>8</th>\n",
       "      <td>2020-05-04 00:00:44</td>\n",
       "      <td>building</td>\n",
       "      <td>assembly_shop</td>\n",
       "      <td>65a92713-5969-48b1-8945-bfefa5063887</td>\n",
       "      <td>NaN</td>\n",
       "    </tr>\n",
       "    <tr>\n",
       "      <th>9</th>\n",
       "      <td>2020-05-04 00:01:33</td>\n",
       "      <td>building</td>\n",
       "      <td>assembly_shop</td>\n",
       "      <td>fa352362-d258-472c-b295-2796ccc39fa3</td>\n",
       "      <td>NaN</td>\n",
       "    </tr>\n",
       "  </tbody>\n",
       "</table>\n",
       "</div>"
      ],
      "text/plain": [
       "        event_datetime     event  building_type  \\\n",
       "0  2020-05-04 00:00:01  building  assembly_shop   \n",
       "1  2020-05-04 00:00:03  building  assembly_shop   \n",
       "2  2020-05-04 00:00:16  building  assembly_shop   \n",
       "3  2020-05-04 00:00:16  building  assembly_shop   \n",
       "4  2020-05-04 00:00:35  building  assembly_shop   \n",
       "5  2020-05-04 00:00:36  building  assembly_shop   \n",
       "6  2020-05-04 00:00:36  building  assembly_shop   \n",
       "7  2020-05-04 00:00:38  building  assembly_shop   \n",
       "8  2020-05-04 00:00:44  building  assembly_shop   \n",
       "9  2020-05-04 00:01:33  building  assembly_shop   \n",
       "\n",
       "                                user_id project_type  \n",
       "0  55e92310-cb8e-4754-b622-597e124b03de          NaN  \n",
       "1  c07b1c10-f477-44dc-81dc-ec82254b1347          NaN  \n",
       "2  6edd42cc-e753-4ff6-a947-2107cd560710          NaN  \n",
       "3  92c69003-d60a-444a-827f-8cc51bf6bf4c          NaN  \n",
       "4  cdc6bb92-0ccb-4490-9866-ef142f09139d          NaN  \n",
       "5  06c592ca-902d-42bb-bac3-75ce84cca159          NaN  \n",
       "6  4fe0f101-694b-4e31-9740-d1d87f7208ea          NaN  \n",
       "7  beb8ca15-33a9-465d-b47b-89aa96f89c9a          NaN  \n",
       "8  65a92713-5969-48b1-8945-bfefa5063887          NaN  \n",
       "9  fa352362-d258-472c-b295-2796ccc39fa3          NaN  "
      ]
     },
     "execution_count": 9,
     "metadata": {},
     "output_type": "execute_result"
    }
   ],
   "source": [
    "game_actions.head(10)\n"
   ]
  },
  {
   "cell_type": "code",
   "execution_count": 10,
   "metadata": {},
   "outputs": [
    {
     "name": "stdout",
     "output_type": "stream",
     "text": [
      "<class 'pandas.core.frame.DataFrame'>\n",
      "RangeIndex: 135640 entries, 0 to 135639\n",
      "Data columns (total 5 columns):\n",
      " #   Column          Non-Null Count   Dtype \n",
      "---  ------          --------------   ----- \n",
      " 0   event_datetime  135640 non-null  object\n",
      " 1   event           135640 non-null  object\n",
      " 2   building_type   127957 non-null  object\n",
      " 3   user_id         135640 non-null  object\n",
      " 4   project_type    1866 non-null    object\n",
      "dtypes: object(5)\n",
      "memory usage: 5.2+ MB\n"
     ]
    }
   ],
   "source": [
    "game_actions.info()"
   ]
  },
  {
   "cell_type": "markdown",
   "metadata": {},
   "source": [
    "#### Сделать первые выводы"
   ]
  },
  {
   "cell_type": "markdown",
   "metadata": {},
   "source": [
    "- Посмотрим на наличие пропусков в датасетах:\n",
    "\n",
    "в  ad_costs - не пропусков, \n",
    "\n",
    "в game_actions - пропуски в колонках building_type (7683), project_type (133774). Предполагаю, что большое количество пропусков в типе реализованного проекта связанно с pvp-победой - при этом не строится спутник, а уровень завершается путем победы над другим игроком.  \n",
    "\n",
    "а в user_source - нет пропусков.\n",
    "\n",
    "- Типы данных в колонках: \n",
    "\n",
    "в ad_costs - изменть в колонке day на date, \n",
    "\n",
    "в game_actions - в столбце event_datetime  изменть на date, \n",
    "\n",
    "в датафрейме user_source нет вопросов к типам данных.  \n"
   ]
  },
  {
   "cell_type": "markdown",
   "metadata": {},
   "source": [
    "### Предобработка данных\n"
   ]
  },
  {
   "cell_type": "markdown",
   "metadata": {},
   "source": [
    "#### обработка типов данных (их коррекция при необходимости)\n",
    "Меняем тип данных столбца event_datetime в датафрейме game_actions: "
   ]
  },
  {
   "cell_type": "code",
   "execution_count": 11,
   "metadata": {},
   "outputs": [],
   "source": [
    "game_actions['event_datetime'] = pd.to_datetime(game_actions['event_datetime'], format = '%Y-%m-%d %H:%M:%S')"
   ]
  },
  {
   "cell_type": "markdown",
   "metadata": {},
   "source": [
    "Проверим, всегда ли при постройке указывается тип здания:"
   ]
  },
  {
   "cell_type": "code",
   "execution_count": 12,
   "metadata": {},
   "outputs": [
    {
     "data": {
      "text/plain": [
       "event_datetime    0.0\n",
       "event             0.0\n",
       "building_type     0.0\n",
       "user_id           0.0\n",
       "project_type      1.0\n",
       "dtype: float64"
      ]
     },
     "execution_count": 12,
     "metadata": {},
     "output_type": "execute_result"
    }
   ],
   "source": [
    "game_actions.query('event == \"building\"').isna().mean()"
   ]
  },
  {
   "cell_type": "markdown",
   "metadata": {},
   "source": [
    "И при реализации проекта всегда указан тип проекта:"
   ]
  },
  {
   "cell_type": "code",
   "execution_count": 13,
   "metadata": {},
   "outputs": [
    {
     "data": {
      "text/plain": [
       "event_datetime    0.0\n",
       "event             0.0\n",
       "building_type     1.0\n",
       "user_id           0.0\n",
       "project_type      0.0\n",
       "dtype: float64"
      ]
     },
     "execution_count": 13,
     "metadata": {},
     "output_type": "execute_result"
    }
   ],
   "source": [
    "game_actions.query('event == \"project\"').isna().mean()"
   ]
  },
  {
   "cell_type": "markdown",
   "metadata": {},
   "source": [
    "проверяем значения колонки project_type"
   ]
  },
  {
   "cell_type": "code",
   "execution_count": 14,
   "metadata": {},
   "outputs": [
    {
     "data": {
      "text/plain": [
       "array([nan, 'satellite_orbital_assembly'], dtype=object)"
      ]
     },
     "execution_count": 14,
     "metadata": {},
     "output_type": "execute_result"
    }
   ],
   "source": [
    "game_actions['project_type'].unique()"
   ]
  },
  {
   "cell_type": "markdown",
   "metadata": {},
   "source": [
    "<div style=\"background:#d4d6fa; color:#000; padding:10px; margin-top:10px\">\n",
    "    <p><b> Комментарий тимлида: </b></p>\n",
    "    \n",
    "Тут стоит рассказать о природе пропусков, о том, как именно они появляются из-за механики сбора данных.\n",
    "</div>\n"
   ]
  },
  {
   "cell_type": "markdown",
   "metadata": {},
   "source": [
    "добавила коментарий по пропускам к выводу выше)"
   ]
  },
  {
   "cell_type": "markdown",
   "metadata": {},
   "source": [
    "#### проверка на наличие дубликатов"
   ]
  },
  {
   "cell_type": "markdown",
   "metadata": {},
   "source": [
    "Тип проекта только постройка спутника, по какой то причине нет данных о победе над игроком. Видимо, если игрок закончил уровень без отметки satellite_orbital_assembly, то он победил другого игрока.  "
   ]
  },
  {
   "cell_type": "code",
   "execution_count": 15,
   "metadata": {},
   "outputs": [
    {
     "name": "stdout",
     "output_type": "stream",
     "text": [
      "<class 'pandas.core.frame.DataFrame'>\n",
      "RangeIndex: 135640 entries, 0 to 135639\n",
      "Data columns (total 5 columns):\n",
      " #   Column          Non-Null Count   Dtype         \n",
      "---  ------          --------------   -----         \n",
      " 0   event_datetime  135640 non-null  datetime64[ns]\n",
      " 1   event           135640 non-null  object        \n",
      " 2   building_type   127957 non-null  object        \n",
      " 3   user_id         135640 non-null  object        \n",
      " 4   project_type    1866 non-null    object        \n",
      "dtypes: datetime64[ns](1), object(4)\n",
      "memory usage: 5.2+ MB\n"
     ]
    }
   ],
   "source": [
    "game_actions.info()"
   ]
  },
  {
   "cell_type": "markdown",
   "metadata": {},
   "source": [
    "Посмотрим на общее кол-во дубликатов"
   ]
  },
  {
   "cell_type": "code",
   "execution_count": 16,
   "metadata": {},
   "outputs": [
    {
     "data": {
      "text/plain": [
       "1"
      ]
     },
     "execution_count": 16,
     "metadata": {},
     "output_type": "execute_result"
    }
   ],
   "source": [
    "game_actions.duplicated().sum()"
   ]
  },
  {
   "cell_type": "markdown",
   "metadata": {},
   "source": [
    "У нас один дубликат, посмотрим и проанализируем что же у нас задвоилось:"
   ]
  },
  {
   "cell_type": "code",
   "execution_count": 17,
   "metadata": {},
   "outputs": [
    {
     "data": {
      "text/html": [
       "<div>\n",
       "<style scoped>\n",
       "    .dataframe tbody tr th:only-of-type {\n",
       "        vertical-align: middle;\n",
       "    }\n",
       "\n",
       "    .dataframe tbody tr th {\n",
       "        vertical-align: top;\n",
       "    }\n",
       "\n",
       "    .dataframe thead th {\n",
       "        text-align: right;\n",
       "    }\n",
       "</style>\n",
       "<table border=\"1\" class=\"dataframe\">\n",
       "  <thead>\n",
       "    <tr style=\"text-align: right;\">\n",
       "      <th></th>\n",
       "      <th>event_datetime</th>\n",
       "      <th>event</th>\n",
       "      <th>building_type</th>\n",
       "      <th>user_id</th>\n",
       "      <th>project_type</th>\n",
       "    </tr>\n",
       "  </thead>\n",
       "  <tbody>\n",
       "    <tr>\n",
       "      <th>74890</th>\n",
       "      <td>2020-05-10 18:41:56</td>\n",
       "      <td>building</td>\n",
       "      <td>research_center</td>\n",
       "      <td>c9af55d2-b0ae-4bb4-b3d5-f32aa9ac03af</td>\n",
       "      <td>NaN</td>\n",
       "    </tr>\n",
       "    <tr>\n",
       "      <th>74891</th>\n",
       "      <td>2020-05-10 18:41:56</td>\n",
       "      <td>building</td>\n",
       "      <td>research_center</td>\n",
       "      <td>c9af55d2-b0ae-4bb4-b3d5-f32aa9ac03af</td>\n",
       "      <td>NaN</td>\n",
       "    </tr>\n",
       "  </tbody>\n",
       "</table>\n",
       "</div>"
      ],
      "text/plain": [
       "           event_datetime     event    building_type  \\\n",
       "74890 2020-05-10 18:41:56  building  research_center   \n",
       "74891 2020-05-10 18:41:56  building  research_center   \n",
       "\n",
       "                                    user_id project_type  \n",
       "74890  c9af55d2-b0ae-4bb4-b3d5-f32aa9ac03af          NaN  \n",
       "74891  c9af55d2-b0ae-4bb4-b3d5-f32aa9ac03af          NaN  "
      ]
     },
     "execution_count": 17,
     "metadata": {},
     "output_type": "execute_result"
    }
   ],
   "source": [
    "game_actions[game_actions.duplicated(keep = False)]"
   ]
  },
  {
   "cell_type": "markdown",
   "metadata": {},
   "source": [
    "Один игрок в течение одной секунды построил два исследовательских центра. Это физически не возможно, скорее всего это баг и его можно удалить"
   ]
  },
  {
   "cell_type": "markdown",
   "metadata": {},
   "source": [
    "\n",
    "<div class=\"alert alert-success\">\n",
    "    <p><b>Комментарий тимлида: </b></p>\n",
    "    \n",
    "Согласен, дубликат нам не нужен\n",
    "</div> "
   ]
  },
  {
   "cell_type": "code",
   "execution_count": 18,
   "metadata": {},
   "outputs": [
    {
     "data": {
      "text/plain": [
       "0"
      ]
     },
     "execution_count": 18,
     "metadata": {},
     "output_type": "execute_result"
    }
   ],
   "source": [
    "game_actions = game_actions.drop_duplicates()\n",
    "game_actions.duplicated().sum()"
   ]
  },
  {
   "cell_type": "markdown",
   "metadata": {},
   "source": [
    "Теперь посмотрим на временные интервалы колонки event_datetime: "
   ]
  },
  {
   "cell_type": "code",
   "execution_count": 19,
   "metadata": {},
   "outputs": [
    {
     "data": {
      "text/plain": [
       "Timestamp('2020-05-04 00:00:01')"
      ]
     },
     "execution_count": 19,
     "metadata": {},
     "output_type": "execute_result"
    }
   ],
   "source": [
    "game_actions['event_datetime'].min()"
   ]
  },
  {
   "cell_type": "code",
   "execution_count": 20,
   "metadata": {},
   "outputs": [
    {
     "data": {
      "text/plain": [
       "Timestamp('2020-06-05 12:32:49')"
      ]
     },
     "execution_count": 20,
     "metadata": {},
     "output_type": "execute_result"
    }
   ],
   "source": [
    "game_actions['event_datetime'].max()"
   ]
  },
  {
   "cell_type": "markdown",
   "metadata": {},
   "source": [
    "Перейдем к таблице затрат на маркетинг ad_costs:"
   ]
  },
  {
   "cell_type": "code",
   "execution_count": 21,
   "metadata": {},
   "outputs": [
    {
     "data": {
      "text/html": [
       "<div>\n",
       "<style scoped>\n",
       "    .dataframe tbody tr th:only-of-type {\n",
       "        vertical-align: middle;\n",
       "    }\n",
       "\n",
       "    .dataframe tbody tr th {\n",
       "        vertical-align: top;\n",
       "    }\n",
       "\n",
       "    .dataframe thead th {\n",
       "        text-align: right;\n",
       "    }\n",
       "</style>\n",
       "<table border=\"1\" class=\"dataframe\">\n",
       "  <thead>\n",
       "    <tr style=\"text-align: right;\">\n",
       "      <th></th>\n",
       "      <th>source</th>\n",
       "      <th>day</th>\n",
       "      <th>cost</th>\n",
       "    </tr>\n",
       "  </thead>\n",
       "  <tbody>\n",
       "    <tr>\n",
       "      <th>0</th>\n",
       "      <td>facebook_ads</td>\n",
       "      <td>2020-05-03</td>\n",
       "      <td>935.882786</td>\n",
       "    </tr>\n",
       "    <tr>\n",
       "      <th>1</th>\n",
       "      <td>facebook_ads</td>\n",
       "      <td>2020-05-04</td>\n",
       "      <td>548.354480</td>\n",
       "    </tr>\n",
       "    <tr>\n",
       "      <th>2</th>\n",
       "      <td>facebook_ads</td>\n",
       "      <td>2020-05-05</td>\n",
       "      <td>260.185754</td>\n",
       "    </tr>\n",
       "    <tr>\n",
       "      <th>3</th>\n",
       "      <td>facebook_ads</td>\n",
       "      <td>2020-05-06</td>\n",
       "      <td>177.982200</td>\n",
       "    </tr>\n",
       "    <tr>\n",
       "      <th>4</th>\n",
       "      <td>facebook_ads</td>\n",
       "      <td>2020-05-07</td>\n",
       "      <td>111.766796</td>\n",
       "    </tr>\n",
       "  </tbody>\n",
       "</table>\n",
       "</div>"
      ],
      "text/plain": [
       "         source         day        cost\n",
       "0  facebook_ads  2020-05-03  935.882786\n",
       "1  facebook_ads  2020-05-04  548.354480\n",
       "2  facebook_ads  2020-05-05  260.185754\n",
       "3  facebook_ads  2020-05-06  177.982200\n",
       "4  facebook_ads  2020-05-07  111.766796"
      ]
     },
     "execution_count": 21,
     "metadata": {},
     "output_type": "execute_result"
    }
   ],
   "source": [
    "ad_costs.head()"
   ]
  },
  {
   "cell_type": "markdown",
   "metadata": {},
   "source": [
    "Посмотрим, есть ли дубликаты: "
   ]
  },
  {
   "cell_type": "code",
   "execution_count": 22,
   "metadata": {},
   "outputs": [
    {
     "data": {
      "text/plain": [
       "0"
      ]
     },
     "execution_count": 22,
     "metadata": {},
     "output_type": "execute_result"
    }
   ],
   "source": [
    "ad_costs.duplicated().sum()"
   ]
  },
  {
   "cell_type": "markdown",
   "metadata": {},
   "source": [
    "Переведём формат даты столбца day в datetime:"
   ]
  },
  {
   "cell_type": "code",
   "execution_count": 23,
   "metadata": {},
   "outputs": [],
   "source": [
    "ad_costs['day'] = pd.to_datetime(ad_costs['day'], format = '%Y-%m-%d %H:%M:%S')"
   ]
  },
  {
   "cell_type": "code",
   "execution_count": 24,
   "metadata": {},
   "outputs": [
    {
     "name": "stdout",
     "output_type": "stream",
     "text": [
      "<class 'pandas.core.frame.DataFrame'>\n",
      "RangeIndex: 28 entries, 0 to 27\n",
      "Data columns (total 3 columns):\n",
      " #   Column  Non-Null Count  Dtype         \n",
      "---  ------  --------------  -----         \n",
      " 0   source  28 non-null     object        \n",
      " 1   day     28 non-null     datetime64[ns]\n",
      " 2   cost    28 non-null     float64       \n",
      "dtypes: datetime64[ns](1), float64(1), object(1)\n",
      "memory usage: 800.0+ bytes\n"
     ]
    }
   ],
   "source": [
    "ad_costs.info()"
   ]
  },
  {
   "cell_type": "code",
   "execution_count": 25,
   "metadata": {},
   "outputs": [
    {
     "data": {
      "text/plain": [
       "Timestamp('2020-05-03 00:00:00')"
      ]
     },
     "execution_count": 25,
     "metadata": {},
     "output_type": "execute_result"
    }
   ],
   "source": [
    "ad_costs['day'].min()"
   ]
  },
  {
   "cell_type": "code",
   "execution_count": 26,
   "metadata": {},
   "outputs": [
    {
     "data": {
      "text/plain": [
       "Timestamp('2020-05-09 00:00:00')"
      ]
     },
     "execution_count": 26,
     "metadata": {},
     "output_type": "execute_result"
    }
   ],
   "source": [
    "ad_costs['day'].max()"
   ]
  },
  {
   "cell_type": "markdown",
   "metadata": {},
   "source": [
    "**Работа с таблицей user_source:**\n",
    "Сначала посмотрим на наличие дубликатов: "
   ]
  },
  {
   "cell_type": "code",
   "execution_count": 27,
   "metadata": {},
   "outputs": [
    {
     "data": {
      "text/plain": [
       "0"
      ]
     },
     "execution_count": 27,
     "metadata": {},
     "output_type": "execute_result"
    }
   ],
   "source": [
    "user_source.duplicated().sum()"
   ]
  },
  {
   "cell_type": "markdown",
   "metadata": {},
   "source": [
    "Посмотрим, какое количество уникальных источников у нас есть:"
   ]
  },
  {
   "cell_type": "code",
   "execution_count": 28,
   "metadata": {},
   "outputs": [
    {
     "data": {
      "text/plain": [
       "array(['facebook_ads', 'yandex_direct', 'youtube_channel_reklama',\n",
       "       'instagram_new_adverts'], dtype=object)"
      ]
     },
     "execution_count": 28,
     "metadata": {},
     "output_type": "execute_result"
    }
   ],
   "source": [
    "user_source['source'].unique()"
   ]
  },
  {
   "cell_type": "markdown",
   "metadata": {},
   "source": [
    "#### Обработка и поиск ошибок в данных\n",
    "Проведем проверку, что игрок мог сыграть два и более раз"
   ]
  },
  {
   "cell_type": "code",
   "execution_count": 29,
   "metadata": {},
   "outputs": [
    {
     "data": {
      "text/html": [
       "<div>\n",
       "<style scoped>\n",
       "    .dataframe tbody tr th:only-of-type {\n",
       "        vertical-align: middle;\n",
       "    }\n",
       "\n",
       "    .dataframe tbody tr th {\n",
       "        vertical-align: top;\n",
       "    }\n",
       "\n",
       "    .dataframe thead th {\n",
       "        text-align: right;\n",
       "    }\n",
       "</style>\n",
       "<table border=\"1\" class=\"dataframe\">\n",
       "  <thead>\n",
       "    <tr style=\"text-align: right;\">\n",
       "      <th></th>\n",
       "      <th></th>\n",
       "      <th>count</th>\n",
       "    </tr>\n",
       "    <tr>\n",
       "      <th>user_id</th>\n",
       "      <th>event</th>\n",
       "      <th></th>\n",
       "    </tr>\n",
       "  </thead>\n",
       "  <tbody>\n",
       "    <tr>\n",
       "      <th>001d39dc-366c-4021-9604-6a3b9ff01e25</th>\n",
       "      <th>finished_stage_1</th>\n",
       "      <td>1</td>\n",
       "    </tr>\n",
       "    <tr>\n",
       "      <th>a9ff93bd-0b96-4e89-bef7-c29326643faf</th>\n",
       "      <th>finished_stage_1</th>\n",
       "      <td>1</td>\n",
       "    </tr>\n",
       "    <tr>\n",
       "      <th>a9fdac24-7f99-4c08-a4cd-32aaa4f45891</th>\n",
       "      <th>finished_stage_1</th>\n",
       "      <td>1</td>\n",
       "    </tr>\n",
       "    <tr>\n",
       "      <th>a9f014cc-fa01-475c-9002-a9dad7d2a1f9</th>\n",
       "      <th>finished_stage_1</th>\n",
       "      <td>1</td>\n",
       "    </tr>\n",
       "    <tr>\n",
       "      <th>a9c72aaf-a840-4871-8dd5-bf6f0dc42dee</th>\n",
       "      <th>project</th>\n",
       "      <td>1</td>\n",
       "    </tr>\n",
       "    <tr>\n",
       "      <th>...</th>\n",
       "      <th>...</th>\n",
       "      <td>...</td>\n",
       "    </tr>\n",
       "    <tr>\n",
       "      <th>52f1231a-50bc-49ad-aa1c-43355c6e9872</th>\n",
       "      <th>finished_stage_1</th>\n",
       "      <td>1</td>\n",
       "    </tr>\n",
       "    <tr>\n",
       "      <th>52c8f5fe-6d2b-495a-8985-d58941089fb9</th>\n",
       "      <th>finished_stage_1</th>\n",
       "      <td>1</td>\n",
       "    </tr>\n",
       "    <tr>\n",
       "      <th>52c654b7-2af1-41c9-98c4-1d657c263aa9</th>\n",
       "      <th>finished_stage_1</th>\n",
       "      <td>1</td>\n",
       "    </tr>\n",
       "    <tr>\n",
       "      <th>3d609251-7d4b-49d0-975c-8d5bcabb682a</th>\n",
       "      <th>finished_stage_1</th>\n",
       "      <td>1</td>\n",
       "    </tr>\n",
       "    <tr>\n",
       "      <th>ffff69cc-fec1-4fd3-9f98-93be1112a6b8</th>\n",
       "      <th>project</th>\n",
       "      <td>1</td>\n",
       "    </tr>\n",
       "  </tbody>\n",
       "</table>\n",
       "<p>7683 rows × 1 columns</p>\n",
       "</div>"
      ],
      "text/plain": [
       "                                                       count\n",
       "user_id                              event                  \n",
       "001d39dc-366c-4021-9604-6a3b9ff01e25 finished_stage_1      1\n",
       "a9ff93bd-0b96-4e89-bef7-c29326643faf finished_stage_1      1\n",
       "a9fdac24-7f99-4c08-a4cd-32aaa4f45891 finished_stage_1      1\n",
       "a9f014cc-fa01-475c-9002-a9dad7d2a1f9 finished_stage_1      1\n",
       "a9c72aaf-a840-4871-8dd5-bf6f0dc42dee project               1\n",
       "...                                                      ...\n",
       "52f1231a-50bc-49ad-aa1c-43355c6e9872 finished_stage_1      1\n",
       "52c8f5fe-6d2b-495a-8985-d58941089fb9 finished_stage_1      1\n",
       "52c654b7-2af1-41c9-98c4-1d657c263aa9 finished_stage_1      1\n",
       "3d609251-7d4b-49d0-975c-8d5bcabb682a finished_stage_1      1\n",
       "ffff69cc-fec1-4fd3-9f98-93be1112a6b8 project               1\n",
       "\n",
       "[7683 rows x 1 columns]"
      ]
     },
     "execution_count": 29,
     "metadata": {},
     "output_type": "execute_result"
    }
   ],
   "source": [
    "# проверяем на то что игрок мог сыграть два и более раз\n",
    "(game_actions[game_actions['event'] != 'building']\n",
    " .groupby(['user_id', 'event'])\n",
    " .agg({'event':'count'})\n",
    " .rename(columns={'event':'count'}).sort_values(by='count'))"
   ]
  },
  {
   "cell_type": "markdown",
   "metadata": {},
   "source": [
    "Мы не обнаружили ошибок в данных. "
   ]
  },
  {
   "cell_type": "markdown",
   "metadata": {},
   "source": [
    "**Вывод:** Мы подгрузили датафреймы, изучили их на пропуски и дубликаты. В целом, данные достаточно высокого качества, нам потребовалась минимальная обработка датафрейма.\n",
    "\n",
    "Мы убрали один дубликат, а так же поменяли тип данных столбцов, связанных с датами. \n",
    "\n",
    "Данные по активности у нас с 4.05 по 5.06, при этом данные по рекламе датируются с 3.05 по 9.05. В рамках поставленной задачи мы изучаем группу пользователей, которая зашла в игру с 4.05 по 10.05. Видмо в течение месяца мы наблюдаем за игроками, которые пришли с рекламной компании, проходившей в течение 3.05 - 9.05. \n",
    "Данные готовы к исследованию, перейдем к исследовательствомку анализу. "
   ]
  },
  {
   "cell_type": "markdown",
   "metadata": {},
   "source": [
    "### Исследовательский анализ\n",
    "#### поиск общей информации\n",
    "##### количество пользователей за весь период"
   ]
  },
  {
   "cell_type": "code",
   "execution_count": 30,
   "metadata": {},
   "outputs": [
    {
     "data": {
      "text/plain": [
       "13576"
      ]
     },
     "execution_count": 30,
     "metadata": {},
     "output_type": "execute_result"
    }
   ],
   "source": [
    "game_actions['user_id'].nunique()"
   ]
  },
  {
   "cell_type": "markdown",
   "metadata": {},
   "source": [
    "##### количество событий за весь период"
   ]
  },
  {
   "cell_type": "code",
   "execution_count": 31,
   "metadata": {},
   "outputs": [
    {
     "data": {
      "text/plain": [
       "135639"
      ]
     },
     "execution_count": 31,
     "metadata": {},
     "output_type": "execute_result"
    }
   ],
   "source": [
    "game_actions['event'].count()"
   ]
  },
  {
   "cell_type": "code",
   "execution_count": 32,
   "metadata": {},
   "outputs": [
    {
     "data": {
      "text/plain": [
       "10.0"
      ]
     },
     "execution_count": 32,
     "metadata": {},
     "output_type": "execute_result"
    }
   ],
   "source": [
    "# Посмотрим на медианное количество событий на пользователя:\n",
    "med_event = game_actions.groupby('user_id')['user_id'].count()\n",
    "med_event.median()"
   ]
  },
  {
   "cell_type": "markdown",
   "metadata": {},
   "source": [
    "##### доли пользователей завершивших игру с разным типом победы"
   ]
  },
  {
   "cell_type": "markdown",
   "metadata": {},
   "source": [
    "Наше целевое событие - завершение уровня. Завершить уровень можно двумя способами:\n",
    "\n",
    "- PVP (победить другого игрока);\n",
    "- PVE (успешно реализовать научный проект);\n",
    "Посмотрим на оба типа игроков. Помним, что у первых не заполнена колонка о реализации проекта:"
   ]
  },
  {
   "cell_type": "code",
   "execution_count": 33,
   "metadata": {},
   "outputs": [
    {
     "data": {
      "text/html": [
       "<div>\n",
       "<style scoped>\n",
       "    .dataframe tbody tr th:only-of-type {\n",
       "        vertical-align: middle;\n",
       "    }\n",
       "\n",
       "    .dataframe tbody tr th {\n",
       "        vertical-align: top;\n",
       "    }\n",
       "\n",
       "    .dataframe thead th {\n",
       "        text-align: right;\n",
       "    }\n",
       "</style>\n",
       "<table border=\"1\" class=\"dataframe\">\n",
       "  <thead>\n",
       "    <tr style=\"text-align: right;\">\n",
       "      <th></th>\n",
       "      <th>event_datetime</th>\n",
       "      <th>event</th>\n",
       "      <th>building_type</th>\n",
       "      <th>user_id</th>\n",
       "      <th>project_type</th>\n",
       "    </tr>\n",
       "  </thead>\n",
       "  <tbody>\n",
       "    <tr>\n",
       "      <th>6659</th>\n",
       "      <td>2020-05-04 19:47:29</td>\n",
       "      <td>finished_stage_1</td>\n",
       "      <td>NaN</td>\n",
       "      <td>ced7b368-818f-48f6-9461-2346de0892c5</td>\n",
       "      <td>NaN</td>\n",
       "    </tr>\n",
       "    <tr>\n",
       "      <th>13134</th>\n",
       "      <td>2020-05-05 13:22:09</td>\n",
       "      <td>finished_stage_1</td>\n",
       "      <td>NaN</td>\n",
       "      <td>7ef7fc89-2779-46ea-b328-9e5035b83af5</td>\n",
       "      <td>NaN</td>\n",
       "    </tr>\n",
       "    <tr>\n",
       "      <th>15274</th>\n",
       "      <td>2020-05-05 18:54:37</td>\n",
       "      <td>finished_stage_1</td>\n",
       "      <td>NaN</td>\n",
       "      <td>70db22b3-c2f4-43bc-94ea-51c8d2904a29</td>\n",
       "      <td>NaN</td>\n",
       "    </tr>\n",
       "    <tr>\n",
       "      <th>16284</th>\n",
       "      <td>2020-05-05 21:27:29</td>\n",
       "      <td>finished_stage_1</td>\n",
       "      <td>NaN</td>\n",
       "      <td>903fc9ef-ba97-4b12-9d5c-ac8d602fbd8b</td>\n",
       "      <td>NaN</td>\n",
       "    </tr>\n",
       "    <tr>\n",
       "      <th>19650</th>\n",
       "      <td>2020-05-06 06:02:22</td>\n",
       "      <td>finished_stage_1</td>\n",
       "      <td>NaN</td>\n",
       "      <td>58e077ba-feb1-4556-a5a0-d96bd04efa39</td>\n",
       "      <td>NaN</td>\n",
       "    </tr>\n",
       "  </tbody>\n",
       "</table>\n",
       "</div>"
      ],
      "text/plain": [
       "           event_datetime             event building_type  \\\n",
       "6659  2020-05-04 19:47:29  finished_stage_1           NaN   \n",
       "13134 2020-05-05 13:22:09  finished_stage_1           NaN   \n",
       "15274 2020-05-05 18:54:37  finished_stage_1           NaN   \n",
       "16284 2020-05-05 21:27:29  finished_stage_1           NaN   \n",
       "19650 2020-05-06 06:02:22  finished_stage_1           NaN   \n",
       "\n",
       "                                    user_id project_type  \n",
       "6659   ced7b368-818f-48f6-9461-2346de0892c5          NaN  \n",
       "13134  7ef7fc89-2779-46ea-b328-9e5035b83af5          NaN  \n",
       "15274  70db22b3-c2f4-43bc-94ea-51c8d2904a29          NaN  \n",
       "16284  903fc9ef-ba97-4b12-9d5c-ac8d602fbd8b          NaN  \n",
       "19650  58e077ba-feb1-4556-a5a0-d96bd04efa39          NaN  "
      ]
     },
     "execution_count": 33,
     "metadata": {},
     "output_type": "execute_result"
    }
   ],
   "source": [
    "winners = game_actions.query('event == \"finished_stage_1\"')\n",
    "finished_stage_1 = winners\n",
    "finished_stage_1.head()"
   ]
  },
  {
   "cell_type": "code",
   "execution_count": 34,
   "metadata": {},
   "outputs": [
    {
     "name": "stdout",
     "output_type": "stream",
     "text": [
      "5817 игроков завешили 1й уровень за время наблюдения\n"
     ]
    }
   ],
   "source": [
    "print(len(finished_stage_1), 'игроков завешили 1й уровень за время наблюдения')\n"
   ]
  },
  {
   "cell_type": "markdown",
   "metadata": {},
   "source": [
    "Узнаем, сколько игроков прошли уровень через PVE: "
   ]
  },
  {
   "cell_type": "code",
   "execution_count": 35,
   "metadata": {},
   "outputs": [],
   "source": [
    "finished_project = game_actions.query('event == \"project\"')"
   ]
  },
  {
   "cell_type": "code",
   "execution_count": 36,
   "metadata": {},
   "outputs": [
    {
     "name": "stdout",
     "output_type": "stream",
     "text": [
      "1866 игроков прошли уровень\n"
     ]
    }
   ],
   "source": [
    "complete_lvl_project = set(finished_project['user_id'])&set(finished_stage_1['user_id'])\n",
    "print(len(complete_lvl_project), 'игроков прошли уровень')"
   ]
  },
  {
   "cell_type": "markdown",
   "metadata": {},
   "source": [
    "Теперь отберем игроков которые завершили уровень через PVP(при этом не реализовали научный проект):"
   ]
  },
  {
   "cell_type": "code",
   "execution_count": 37,
   "metadata": {},
   "outputs": [
    {
     "name": "stdout",
     "output_type": "stream",
     "text": [
      "3951 игроков прошли уровень через PVP\n"
     ]
    }
   ],
   "source": [
    "print((len(finished_stage_1) - len(complete_lvl_project)), 'игроков прошли уровень через PVP')"
   ]
  },
  {
   "cell_type": "markdown",
   "metadata": {},
   "source": [
    "Посмотрим на соотношение игроков, которые успешно прошли уровень через PVP и PVE. \n",
    "\n",
    "Для того чтобы увидеть это визуально, вынесем в отдельную таблицу и построим график:"
   ]
  },
  {
   "cell_type": "code",
   "execution_count": 38,
   "metadata": {},
   "outputs": [
    {
     "data": {
      "text/html": [
       "<div>\n",
       "<style scoped>\n",
       "    .dataframe tbody tr th:only-of-type {\n",
       "        vertical-align: middle;\n",
       "    }\n",
       "\n",
       "    .dataframe tbody tr th {\n",
       "        vertical-align: top;\n",
       "    }\n",
       "\n",
       "    .dataframe thead th {\n",
       "        text-align: right;\n",
       "    }\n",
       "</style>\n",
       "<table border=\"1\" class=\"dataframe\">\n",
       "  <thead>\n",
       "    <tr style=\"text-align: right;\">\n",
       "      <th></th>\n",
       "      <th>win_type</th>\n",
       "      <th>user_id</th>\n",
       "    </tr>\n",
       "  </thead>\n",
       "  <tbody>\n",
       "    <tr>\n",
       "      <th>0</th>\n",
       "      <td>enemy_defeat</td>\n",
       "      <td>3951</td>\n",
       "    </tr>\n",
       "    <tr>\n",
       "      <th>1</th>\n",
       "      <td>satellite_orbital_assembly</td>\n",
       "      <td>1866</td>\n",
       "    </tr>\n",
       "  </tbody>\n",
       "</table>\n",
       "</div>"
      ],
      "text/plain": [
       "                     win_type  user_id\n",
       "0                enemy_defeat     3951\n",
       "1  satellite_orbital_assembly     1866"
      ]
     },
     "execution_count": 38,
     "metadata": {},
     "output_type": "execute_result"
    }
   ],
   "source": [
    "finished_stage_1 = finished_stage_1.merge(finished_project[['user_id', 'project_type']], how = 'left', on = 'user_id')\n",
    "finished_stage_1 = finished_stage_1.rename(columns = {'project_type_y':'win_type'})\n",
    "finished_stage_1['win_type'] = finished_stage_1['win_type'].fillna('enemy_defeat')\n",
    "win_types = finished_stage_1.groupby('win_type')['user_id'].count().reset_index()\n",
    "win_types"
   ]
  },
  {
   "cell_type": "code",
   "execution_count": 39,
   "metadata": {},
   "outputs": [
    {
     "data": {
      "image/png": "[encoded data removed]",
      "text/plain": [
       "<Figure size 432x288 with 1 Axes>"
      ]
     },
     "metadata": {},
     "output_type": "display_data"
    }
   ],
   "source": [
    "labels = ['Победа над противником(PVP)', 'Научный проект(PVE)']\n",
    "wins = win_types['user_id']\n",
    "\n",
    "fig1, ax1 = plt.subplots()\n",
    "ax1.pie(wins, labels = labels, autopct = '%1.2f%%')\n",
    "\n",
    "plt.title(\"Доли пользователей завершивших игру через PVE и PVP\")\n",
    "\n",
    "plt.show()"
   ]
  },
  {
   "cell_type": "markdown",
   "metadata": {},
   "source": [
    "#####  - количество построенных зданий за весь период"
   ]
  },
  {
   "cell_type": "markdown",
   "metadata": {},
   "source": [
    "Выясню, сколько и каких зданий строят игроки первого уровня и построю график для визуализации (сразу отберу игроков, которые завершили уровень):"
   ]
  },
  {
   "cell_type": "code",
   "execution_count": 40,
   "metadata": {},
   "outputs": [
    {
     "data": {
      "text/html": [
       "<div>\n",
       "<style scoped>\n",
       "    .dataframe tbody tr th:only-of-type {\n",
       "        vertical-align: middle;\n",
       "    }\n",
       "\n",
       "    .dataframe tbody tr th {\n",
       "        vertical-align: top;\n",
       "    }\n",
       "\n",
       "    .dataframe thead th {\n",
       "        text-align: right;\n",
       "    }\n",
       "</style>\n",
       "<table border=\"1\" class=\"dataframe\">\n",
       "  <thead>\n",
       "    <tr style=\"text-align: right;\">\n",
       "      <th></th>\n",
       "      <th>building_type</th>\n",
       "      <th>build_number</th>\n",
       "    </tr>\n",
       "  </thead>\n",
       "  <tbody>\n",
       "    <tr>\n",
       "      <th>2</th>\n",
       "      <td>spaceport</td>\n",
       "      <td>59325</td>\n",
       "    </tr>\n",
       "    <tr>\n",
       "      <th>0</th>\n",
       "      <td>assembly_shop</td>\n",
       "      <td>54494</td>\n",
       "    </tr>\n",
       "    <tr>\n",
       "      <th>1</th>\n",
       "      <td>research_center</td>\n",
       "      <td>14137</td>\n",
       "    </tr>\n",
       "  </tbody>\n",
       "</table>\n",
       "</div>"
      ],
      "text/plain": [
       "     building_type  build_number\n",
       "2        spaceport         59325\n",
       "0    assembly_shop         54494\n",
       "1  research_center         14137"
      ]
     },
     "execution_count": 40,
     "metadata": {},
     "output_type": "execute_result"
    }
   ],
   "source": [
    "#здания по игрокам на первом уровне: \n",
    "buildings = game_actions.groupby('building_type')['event'].count().reset_index().sort_values(by = 'event', \n",
    "                                                                                             ascending = False)\n",
    "buildings = buildings.rename(columns = {'event':'build_number'})\n",
    "buildings"
   ]
  },
  {
   "cell_type": "markdown",
   "metadata": {},
   "source": [
    "<div class=\"alert alert-danger\">\n",
    "    <p><b>Комментарий тимлида: </b></p>\n",
    "Далее код не отрабатывает\n",
    "</div>"
   ]
  },
  {
   "cell_type": "markdown",
   "metadata": {},
   "source": [
    "Скорректировала+"
   ]
  },
  {
   "cell_type": "markdown",
   "metadata": {},
   "source": [
    "<div class=\"alert alert-success\">\n",
    "    <p><b>Комментарий тимлида v2: </b>👍</p>\n",
    "</div>"
   ]
  },
  {
   "cell_type": "code",
   "execution_count": 41,
   "metadata": {},
   "outputs": [
    {
     "data": {
      "text/html": [
       "<div>\n",
       "<style scoped>\n",
       "    .dataframe tbody tr th:only-of-type {\n",
       "        vertical-align: middle;\n",
       "    }\n",
       "\n",
       "    .dataframe tbody tr th {\n",
       "        vertical-align: top;\n",
       "    }\n",
       "\n",
       "    .dataframe thead th {\n",
       "        text-align: right;\n",
       "    }\n",
       "</style>\n",
       "<table border=\"1\" class=\"dataframe\">\n",
       "  <thead>\n",
       "    <tr style=\"text-align: right;\">\n",
       "      <th></th>\n",
       "      <th>building_type</th>\n",
       "      <th>build_number</th>\n",
       "    </tr>\n",
       "  </thead>\n",
       "  <tbody>\n",
       "    <tr>\n",
       "      <th>2</th>\n",
       "      <td>spaceport</td>\n",
       "      <td>27920</td>\n",
       "    </tr>\n",
       "    <tr>\n",
       "      <th>0</th>\n",
       "      <td>assembly_shop</td>\n",
       "      <td>25414</td>\n",
       "    </tr>\n",
       "    <tr>\n",
       "      <th>1</th>\n",
       "      <td>research_center</td>\n",
       "      <td>7452</td>\n",
       "    </tr>\n",
       "  </tbody>\n",
       "</table>\n",
       "</div>"
      ],
      "text/plain": [
       "     building_type  build_number\n",
       "2        spaceport         27920\n",
       "0    assembly_shop         25414\n",
       "1  research_center          7452"
      ]
     },
     "execution_count": 41,
     "metadata": {},
     "output_type": "execute_result"
    }
   ],
   "source": [
    "#здания по игрокам на первом уровне с условием завершением уровня: \n",
    "finished_user_id = finished_stage_1['user_id']\n",
    "finished_buildings = game_actions.query('user_id in @finished_user_id').groupby('building_type')['event'].count().reset_index().sort_values(by = 'event', ascending = False)\n",
    "buildings_finished_lvl = finished_buildings.rename(columns = {'event':'build_number'})\n",
    "buildings_finished_lvl"
   ]
  },
  {
   "cell_type": "code",
   "execution_count": 42,
   "metadata": {},
   "outputs": [
    {
     "data": {
      "text/html": [
       "<div>\n",
       "<style scoped>\n",
       "    .dataframe tbody tr th:only-of-type {\n",
       "        vertical-align: middle;\n",
       "    }\n",
       "\n",
       "    .dataframe tbody tr th {\n",
       "        vertical-align: top;\n",
       "    }\n",
       "\n",
       "    .dataframe thead th {\n",
       "        text-align: right;\n",
       "    }\n",
       "</style>\n",
       "<table border=\"1\" class=\"dataframe\">\n",
       "  <thead>\n",
       "    <tr style=\"text-align: right;\">\n",
       "      <th></th>\n",
       "      <th>user_id</th>\n",
       "      <th>build_count</th>\n",
       "    </tr>\n",
       "  </thead>\n",
       "  <tbody>\n",
       "    <tr>\n",
       "      <th>0</th>\n",
       "      <td>001d39dc-366c-4021-9604-6a3b9ff01e25</td>\n",
       "      <td>8</td>\n",
       "    </tr>\n",
       "    <tr>\n",
       "      <th>1</th>\n",
       "      <td>003ee7e8-6356-4286-a715-62f22a18d2a1</td>\n",
       "      <td>8</td>\n",
       "    </tr>\n",
       "    <tr>\n",
       "      <th>2</th>\n",
       "      <td>004074f8-251a-4776-922c-8348dca1a2f6</td>\n",
       "      <td>12</td>\n",
       "    </tr>\n",
       "    <tr>\n",
       "      <th>3</th>\n",
       "      <td>00464e5e-28ed-4be6-bf44-517ef7b3937b</td>\n",
       "      <td>8</td>\n",
       "    </tr>\n",
       "    <tr>\n",
       "      <th>4</th>\n",
       "      <td>0056c007-c082-43cc-bdef-afc49bca4cb9</td>\n",
       "      <td>3</td>\n",
       "    </tr>\n",
       "  </tbody>\n",
       "</table>\n",
       "</div>"
      ],
      "text/plain": [
       "                                user_id  build_count\n",
       "0  001d39dc-366c-4021-9604-6a3b9ff01e25            8\n",
       "1  003ee7e8-6356-4286-a715-62f22a18d2a1            8\n",
       "2  004074f8-251a-4776-922c-8348dca1a2f6           12\n",
       "3  00464e5e-28ed-4be6-bf44-517ef7b3937b            8\n",
       "4  0056c007-c082-43cc-bdef-afc49bca4cb9            3"
      ]
     },
     "execution_count": 42,
     "metadata": {},
     "output_type": "execute_result"
    }
   ],
   "source": [
    "#посмотрим, сколько построек приходится на каждого игрока (и выведем топ-5)\n",
    "finished_actions = game_actions.query('user_id in @finished_user_id')\n",
    "finished_buildings = finished_actions.query('event == \"building\"').groupby('user_id')['event'].count().reset_index()\n",
    "finished_buildings.columns = ['user_id', 'build_count']\n",
    "finished_buildings.head()"
   ]
  },
  {
   "cell_type": "code",
   "execution_count": 43,
   "metadata": {},
   "outputs": [
    {
     "data": {
      "image/png": "[encoded data removed]",
      "text/plain": [
       "<Figure size 432x288 with 1 Axes>"
      ]
     },
     "metadata": {},
     "output_type": "display_data"
    }
   ],
   "source": [
    "sns.set_style(\"whitegrid\")\n",
    "ax = sns.barplot(data = buildings_finished_lvl, x = 'building_type', y = 'build_number')\n",
    "plt.title('Распределение количества зданий по типам')\n",
    "plt.show()"
   ]
  },
  {
   "cell_type": "markdown",
   "metadata": {},
   "source": [
    "Теперь к визуализации подойдем чуть чуть по-другому: попробуем построить круговую диаграмму с процентным соотношением построек. "
   ]
  },
  {
   "cell_type": "code",
   "execution_count": 44,
   "metadata": {},
   "outputs": [
    {
     "data": {
      "image/png": "[encoded data removed]",
      "text/plain": [
       "<Figure size 432x288 with 1 Axes>"
      ]
     },
     "metadata": {},
     "output_type": "display_data"
    }
   ],
   "source": [
    "fig, ax = plt.subplots()\n",
    "ax.pie(buildings_finished_lvl['build_number'],\n",
    "       labels=buildings_finished_lvl['building_type'],\n",
    "       autopct='%1.1f%%')\n",
    "plt.title(\"Соотношение построек\")\n",
    "plt.show()"
   ]
  },
  {
   "cell_type": "markdown",
   "metadata": {},
   "source": [
    "**Промежуточный вывод:**\n",
    "\n",
    "Самое популярное здание - космопорт. Его построили 27920 раз и лидирует он с небольшим отрывом. На самом деле я ожидала увидеть, что первое место займет сборочный цех (тк именно он обеспечивет необходимое количество производственных мощностей для развития игрока, вероятно)\n",
    "На втором месте 25414 раз построили сборочный цех, ну и замыкает тройку исследовательский центр - 7452 раз (что соответствует картине распределения научной/милитаристической победы игроков). \n",
    "Типы зданий по круговой диаграмме распределены следующим образом: сборочный цех - 42.6%, космопорт - 46.4%, исследовательский центр - 11%\n",
    "\n",
    "Исследование игроков показало, что тех, заканчивающих уровень через PVP (3951) практически вдвое больше чем игроков заканчивающих PVE (1866);\n",
    "Самое востребованное здание - космопорт (27920), на втором месте сборочный цех (25414), на третьем исследовательский центр (7452). В процентном соотношении типы зданий по круговой диаграмме распределены следующим образом: сборочный цех - 42.6%, космопорт - 46.4%, исследовательский центр - 11%\n",
    "\n",
    "Среднее количество построек среди тех кто завершил 1 уровень - 10,5;\n",
    "7 построек - роковое число. На этом этапе пользователям что-то не нравится и есть какие-то сложности. Скорее всего у многих на этом количестве построек пропадает интерес или возникает какой-либо другой раздражительный фактор, который сильно влияет на отток. Об этом необходимо оповестить команду разработчиков и геймдизайнеров"
   ]
  },
  {
   "cell_type": "markdown",
   "metadata": {},
   "source": [
    "<div class=\"alert alert-success\">\n",
    "    <p><b>Комментарий тимлида: </b></p>\n",
    "    \n",
    "Верно, провал и правда подозрительный. Возможно там есть что-то в механике, что сложно выполнить, так как пользователи отваливаются до этого события, а часть pvp игроков предпочитают успеть завершить уровень тоже до того, как столкнуться с этим моментом.\n",
    "    \n",
    "Возможна и обратная ситуация, так, например, может быть, что после постройки седьмого здания, следующее строится почти мгновенно, потому никто не останавливается именно на 7.\n",
    "    \n",
    "В любом случае мы тут можем только гадать. Стоит сообщить о данном моменте геймдизайнерам, баланс в игре - это уже их боль.\n",
    "</div>"
   ]
  },
  {
   "cell_type": "markdown",
   "metadata": {},
   "source": [
    "#### количество использованных источников трафика за весь период\n",
    "Посмотрим на источники трафика, а далее на соотношение количества событий по источникам трафика: "
   ]
  },
  {
   "cell_type": "code",
   "execution_count": 45,
   "metadata": {},
   "outputs": [
    {
     "data": {
      "text/html": [
       "<div>\n",
       "<style scoped>\n",
       "    .dataframe tbody tr th:only-of-type {\n",
       "        vertical-align: middle;\n",
       "    }\n",
       "\n",
       "    .dataframe tbody tr th {\n",
       "        vertical-align: top;\n",
       "    }\n",
       "\n",
       "    .dataframe thead th {\n",
       "        text-align: right;\n",
       "    }\n",
       "</style>\n",
       "<table border=\"1\" class=\"dataframe\">\n",
       "  <thead>\n",
       "    <tr style=\"text-align: right;\">\n",
       "      <th></th>\n",
       "      <th>event_datetime</th>\n",
       "      <th>event</th>\n",
       "      <th>building_type</th>\n",
       "      <th>user_id</th>\n",
       "      <th>project_type</th>\n",
       "    </tr>\n",
       "  </thead>\n",
       "  <tbody>\n",
       "    <tr>\n",
       "      <th>0</th>\n",
       "      <td>2020-05-04 00:00:01</td>\n",
       "      <td>building</td>\n",
       "      <td>assembly_shop</td>\n",
       "      <td>55e92310-cb8e-4754-b622-597e124b03de</td>\n",
       "      <td>NaN</td>\n",
       "    </tr>\n",
       "    <tr>\n",
       "      <th>1</th>\n",
       "      <td>2020-05-04 00:00:03</td>\n",
       "      <td>building</td>\n",
       "      <td>assembly_shop</td>\n",
       "      <td>c07b1c10-f477-44dc-81dc-ec82254b1347</td>\n",
       "      <td>NaN</td>\n",
       "    </tr>\n",
       "    <tr>\n",
       "      <th>2</th>\n",
       "      <td>2020-05-04 00:00:16</td>\n",
       "      <td>building</td>\n",
       "      <td>assembly_shop</td>\n",
       "      <td>6edd42cc-e753-4ff6-a947-2107cd560710</td>\n",
       "      <td>NaN</td>\n",
       "    </tr>\n",
       "    <tr>\n",
       "      <th>3</th>\n",
       "      <td>2020-05-04 00:00:16</td>\n",
       "      <td>building</td>\n",
       "      <td>assembly_shop</td>\n",
       "      <td>92c69003-d60a-444a-827f-8cc51bf6bf4c</td>\n",
       "      <td>NaN</td>\n",
       "    </tr>\n",
       "    <tr>\n",
       "      <th>4</th>\n",
       "      <td>2020-05-04 00:00:35</td>\n",
       "      <td>building</td>\n",
       "      <td>assembly_shop</td>\n",
       "      <td>cdc6bb92-0ccb-4490-9866-ef142f09139d</td>\n",
       "      <td>NaN</td>\n",
       "    </tr>\n",
       "    <tr>\n",
       "      <th>5</th>\n",
       "      <td>2020-05-04 00:00:36</td>\n",
       "      <td>building</td>\n",
       "      <td>assembly_shop</td>\n",
       "      <td>06c592ca-902d-42bb-bac3-75ce84cca159</td>\n",
       "      <td>NaN</td>\n",
       "    </tr>\n",
       "    <tr>\n",
       "      <th>6</th>\n",
       "      <td>2020-05-04 00:00:36</td>\n",
       "      <td>building</td>\n",
       "      <td>assembly_shop</td>\n",
       "      <td>4fe0f101-694b-4e31-9740-d1d87f7208ea</td>\n",
       "      <td>NaN</td>\n",
       "    </tr>\n",
       "    <tr>\n",
       "      <th>7</th>\n",
       "      <td>2020-05-04 00:00:38</td>\n",
       "      <td>building</td>\n",
       "      <td>assembly_shop</td>\n",
       "      <td>beb8ca15-33a9-465d-b47b-89aa96f89c9a</td>\n",
       "      <td>NaN</td>\n",
       "    </tr>\n",
       "    <tr>\n",
       "      <th>8</th>\n",
       "      <td>2020-05-04 00:00:44</td>\n",
       "      <td>building</td>\n",
       "      <td>assembly_shop</td>\n",
       "      <td>65a92713-5969-48b1-8945-bfefa5063887</td>\n",
       "      <td>NaN</td>\n",
       "    </tr>\n",
       "    <tr>\n",
       "      <th>9</th>\n",
       "      <td>2020-05-04 00:01:33</td>\n",
       "      <td>building</td>\n",
       "      <td>assembly_shop</td>\n",
       "      <td>fa352362-d258-472c-b295-2796ccc39fa3</td>\n",
       "      <td>NaN</td>\n",
       "    </tr>\n",
       "  </tbody>\n",
       "</table>\n",
       "</div>"
      ],
      "text/plain": [
       "       event_datetime     event  building_type  \\\n",
       "0 2020-05-04 00:00:01  building  assembly_shop   \n",
       "1 2020-05-04 00:00:03  building  assembly_shop   \n",
       "2 2020-05-04 00:00:16  building  assembly_shop   \n",
       "3 2020-05-04 00:00:16  building  assembly_shop   \n",
       "4 2020-05-04 00:00:35  building  assembly_shop   \n",
       "5 2020-05-04 00:00:36  building  assembly_shop   \n",
       "6 2020-05-04 00:00:36  building  assembly_shop   \n",
       "7 2020-05-04 00:00:38  building  assembly_shop   \n",
       "8 2020-05-04 00:00:44  building  assembly_shop   \n",
       "9 2020-05-04 00:01:33  building  assembly_shop   \n",
       "\n",
       "                                user_id project_type  \n",
       "0  55e92310-cb8e-4754-b622-597e124b03de          NaN  \n",
       "1  c07b1c10-f477-44dc-81dc-ec82254b1347          NaN  \n",
       "2  6edd42cc-e753-4ff6-a947-2107cd560710          NaN  \n",
       "3  92c69003-d60a-444a-827f-8cc51bf6bf4c          NaN  \n",
       "4  cdc6bb92-0ccb-4490-9866-ef142f09139d          NaN  \n",
       "5  06c592ca-902d-42bb-bac3-75ce84cca159          NaN  \n",
       "6  4fe0f101-694b-4e31-9740-d1d87f7208ea          NaN  \n",
       "7  beb8ca15-33a9-465d-b47b-89aa96f89c9a          NaN  \n",
       "8  65a92713-5969-48b1-8945-bfefa5063887          NaN  \n",
       "9  fa352362-d258-472c-b295-2796ccc39fa3          NaN  "
      ]
     },
     "execution_count": 45,
     "metadata": {},
     "output_type": "execute_result"
    }
   ],
   "source": [
    "game_actions.head(10)"
   ]
  },
  {
   "cell_type": "code",
   "execution_count": 46,
   "metadata": {},
   "outputs": [
    {
     "data": {
      "text/plain": [
       "yandex_direct              4817\n",
       "instagram_new_adverts      3347\n",
       "facebook_ads               2726\n",
       "youtube_channel_reklama    2686\n",
       "Name: source, dtype: int64"
      ]
     },
     "execution_count": 46,
     "metadata": {},
     "output_type": "execute_result"
    }
   ],
   "source": [
    "user_source['source'].value_counts()"
   ]
  },
  {
   "cell_type": "code",
   "execution_count": 47,
   "metadata": {},
   "outputs": [
    {
     "data": {
      "image/png": "[encoded data removed]",
      "text/plain": [
       "<Figure size 432x288 with 1 Axes>"
      ]
     },
     "metadata": {},
     "output_type": "display_data"
    }
   ],
   "source": [
    "user_source[\"source\"].value_counts().plot.bar(rot=15, grid=True)\n",
    "plt.title(\"Соотношение количества событий из разных источников\")\n",
    "plt.show()"
   ]
  },
  {
   "cell_type": "markdown",
   "metadata": {},
   "source": [
    "Всего 4 источника трафика - Я.Директ, Instagram, Facebook, Youtube. Большая часть пришла из Яндекса, меньшая - из Youtube. Теперь исследуем подробнее источники: \n",
    "1. Количество пользователей, пришедших с каждого источника трафика\n",
    "2. суммарную стоимость клика, а так же построим диаграмму соотношения стоимости клика по источнику и среднюю цену клика по источникам: "
   ]
  },
  {
   "cell_type": "markdown",
   "metadata": {},
   "source": [
    "#### количество пользователей пришедших с каждого источника трафика"
   ]
  },
  {
   "cell_type": "code",
   "execution_count": 48,
   "metadata": {},
   "outputs": [
    {
     "data": {
      "text/html": [
       "<div>\n",
       "<style scoped>\n",
       "    .dataframe tbody tr th:only-of-type {\n",
       "        vertical-align: middle;\n",
       "    }\n",
       "\n",
       "    .dataframe tbody tr th {\n",
       "        vertical-align: top;\n",
       "    }\n",
       "\n",
       "    .dataframe thead th {\n",
       "        text-align: right;\n",
       "    }\n",
       "</style>\n",
       "<table border=\"1\" class=\"dataframe\">\n",
       "  <thead>\n",
       "    <tr style=\"text-align: right;\">\n",
       "      <th></th>\n",
       "      <th>source</th>\n",
       "      <th>users</th>\n",
       "    </tr>\n",
       "  </thead>\n",
       "  <tbody>\n",
       "    <tr>\n",
       "      <th>0</th>\n",
       "      <td>facebook_ads</td>\n",
       "      <td>2726</td>\n",
       "    </tr>\n",
       "    <tr>\n",
       "      <th>1</th>\n",
       "      <td>instagram_new_adverts</td>\n",
       "      <td>3347</td>\n",
       "    </tr>\n",
       "    <tr>\n",
       "      <th>2</th>\n",
       "      <td>yandex_direct</td>\n",
       "      <td>4817</td>\n",
       "    </tr>\n",
       "    <tr>\n",
       "      <th>3</th>\n",
       "      <td>youtube_channel_reklama</td>\n",
       "      <td>2686</td>\n",
       "    </tr>\n",
       "  </tbody>\n",
       "</table>\n",
       "</div>"
      ],
      "text/plain": [
       "                    source  users\n",
       "0             facebook_ads   2726\n",
       "1    instagram_new_adverts   3347\n",
       "2            yandex_direct   4817\n",
       "3  youtube_channel_reklama   2686"
      ]
     },
     "execution_count": 48,
     "metadata": {},
     "output_type": "execute_result"
    }
   ],
   "source": [
    "users_from_sources = (user_source\n",
    "              .groupby('source')\n",
    "              .agg({'user_id':'nunique'})\n",
    "              .rename(columns={'user_id':'users'})\n",
    "              .round({'users': 2})\n",
    "              .reset_index())\n",
    "users_from_sources"
   ]
  },
  {
   "cell_type": "markdown",
   "metadata": {},
   "source": [
    "Наибольшее количество пользователей пришло из Яндекса (4817), далее instagram_new_adverts (3347), между источниками youtube и facebook значительной разницы нет."
   ]
  },
  {
   "cell_type": "markdown",
   "metadata": {},
   "source": [
    "#### определяем объект исследования:\n",
    "##### стоимость привлечения пользователей "
   ]
  },
  {
   "cell_type": "markdown",
   "metadata": {},
   "source": [
    "Сначала определим (и выведем графически) суммарную стоимость привлечения пользователей по источникам и посмотрим процентное соотношение"
   ]
  },
  {
   "cell_type": "code",
   "execution_count": 49,
   "metadata": {},
   "outputs": [
    {
     "data": {
      "text/html": [
       "<div>\n",
       "<style scoped>\n",
       "    .dataframe tbody tr th:only-of-type {\n",
       "        vertical-align: middle;\n",
       "    }\n",
       "\n",
       "    .dataframe tbody tr th {\n",
       "        vertical-align: top;\n",
       "    }\n",
       "\n",
       "    .dataframe thead th {\n",
       "        text-align: right;\n",
       "    }\n",
       "</style>\n",
       "<table border=\"1\" class=\"dataframe\">\n",
       "  <thead>\n",
       "    <tr style=\"text-align: right;\">\n",
       "      <th></th>\n",
       "      <th>source</th>\n",
       "      <th>sum</th>\n",
       "    </tr>\n",
       "  </thead>\n",
       "  <tbody>\n",
       "    <tr>\n",
       "      <th>0</th>\n",
       "      <td>facebook_ads</td>\n",
       "      <td>2140.904643</td>\n",
       "    </tr>\n",
       "    <tr>\n",
       "      <th>1</th>\n",
       "      <td>instagram_new_adverts</td>\n",
       "      <td>2161.441691</td>\n",
       "    </tr>\n",
       "    <tr>\n",
       "      <th>2</th>\n",
       "      <td>yandex_direct</td>\n",
       "      <td>2233.111449</td>\n",
       "    </tr>\n",
       "    <tr>\n",
       "      <th>3</th>\n",
       "      <td>youtube_channel_reklama</td>\n",
       "      <td>1068.119204</td>\n",
       "    </tr>\n",
       "  </tbody>\n",
       "</table>\n",
       "</div>"
      ],
      "text/plain": [
       "                    source          sum\n",
       "0             facebook_ads  2140.904643\n",
       "1    instagram_new_adverts  2161.441691\n",
       "2            yandex_direct  2233.111449\n",
       "3  youtube_channel_reklama  1068.119204"
      ]
     },
     "execution_count": 49,
     "metadata": {},
     "output_type": "execute_result"
    }
   ],
   "source": [
    "traffic_sources = (ad_costs\n",
    "       .groupby('source')\n",
    "       .agg({'cost':'sum'})         \n",
    "       .reset_index()\n",
    "       .rename(columns={'cost':'sum'}))\n",
    "traffic_sources"
   ]
  },
  {
   "cell_type": "code",
   "execution_count": 50,
   "metadata": {},
   "outputs": [
    {
     "data": {
      "image/png": "[encoded data removed]",
      "text/plain": [
       "<Figure size 432x288 with 1 Axes>"
      ]
     },
     "metadata": {},
     "output_type": "display_data"
    }
   ],
   "source": [
    "fig, ax = plt.subplots()\n",
    "ax.pie(traffic_sources['sum'], labels=traffic_sources['source'], autopct='%1.1f%%')\n",
    "plt.title(\"Соотношение суммарной стоимости привлечения по источнику\")\n",
    "plt.show()"
   ]
  },
  {
   "cell_type": "markdown",
   "metadata": {},
   "source": [
    "Узнаем стоимость одного клика (т.е. стоимость привлечения одного пользователя на разных ресурсах) и наглядно отобразим на графике: "
   ]
  },
  {
   "cell_type": "code",
   "execution_count": 51,
   "metadata": {},
   "outputs": [
    {
     "data": {
      "text/html": [
       "<div>\n",
       "<style scoped>\n",
       "    .dataframe tbody tr th:only-of-type {\n",
       "        vertical-align: middle;\n",
       "    }\n",
       "\n",
       "    .dataframe tbody tr th {\n",
       "        vertical-align: top;\n",
       "    }\n",
       "\n",
       "    .dataframe thead th {\n",
       "        text-align: right;\n",
       "    }\n",
       "</style>\n",
       "<table border=\"1\" class=\"dataframe\">\n",
       "  <thead>\n",
       "    <tr style=\"text-align: right;\">\n",
       "      <th></th>\n",
       "      <th>source</th>\n",
       "      <th>sum</th>\n",
       "      <th>users</th>\n",
       "      <th>one_click</th>\n",
       "    </tr>\n",
       "  </thead>\n",
       "  <tbody>\n",
       "    <tr>\n",
       "      <th>0</th>\n",
       "      <td>facebook_ads</td>\n",
       "      <td>2140.904643</td>\n",
       "      <td>2726</td>\n",
       "      <td>0.785365</td>\n",
       "    </tr>\n",
       "    <tr>\n",
       "      <th>1</th>\n",
       "      <td>instagram_new_adverts</td>\n",
       "      <td>2161.441691</td>\n",
       "      <td>3347</td>\n",
       "      <td>0.645785</td>\n",
       "    </tr>\n",
       "    <tr>\n",
       "      <th>2</th>\n",
       "      <td>yandex_direct</td>\n",
       "      <td>2233.111449</td>\n",
       "      <td>4817</td>\n",
       "      <td>0.463590</td>\n",
       "    </tr>\n",
       "    <tr>\n",
       "      <th>3</th>\n",
       "      <td>youtube_channel_reklama</td>\n",
       "      <td>1068.119204</td>\n",
       "      <td>2686</td>\n",
       "      <td>0.397662</td>\n",
       "    </tr>\n",
       "  </tbody>\n",
       "</table>\n",
       "</div>"
      ],
      "text/plain": [
       "                    source          sum  users  one_click\n",
       "0             facebook_ads  2140.904643   2726   0.785365\n",
       "1    instagram_new_adverts  2161.441691   3347   0.645785\n",
       "2            yandex_direct  2233.111449   4817   0.463590\n",
       "3  youtube_channel_reklama  1068.119204   2686   0.397662"
      ]
     },
     "execution_count": 51,
     "metadata": {},
     "output_type": "execute_result"
    }
   ],
   "source": [
    "counting_clicks = traffic_sources[['source','sum']].merge(users_from_sources, how='left', on='source')\n",
    "counting_clicks['one_click'] = counting_clicks['sum']/counting_clicks['users']\n",
    "counting_clicks"
   ]
  },
  {
   "cell_type": "code",
   "execution_count": 52,
   "metadata": {},
   "outputs": [
    {
     "data": {
      "image/png": "[encoded data removed]",
      "text/plain": [
       "<Figure size 432x288 with 1 Axes>"
      ]
     },
     "metadata": {},
     "output_type": "display_data"
    }
   ],
   "source": [
    "sns.set_style(\"whitegrid\")\n",
    "ax = sns.barplot(data = counting_clicks, x = 'source', y = 'one_click')\n",
    "plt.xticks(rotation=25)\n",
    "plt.title('Стоимость клика по источникам')\n",
    "plt.show()"
   ]
  },
  {
   "cell_type": "markdown",
   "metadata": {},
   "source": [
    "- Реклама на фейсбуке(0.79)  самая дорогая\n",
    "- Инстаграм приносит больше посетителей (3347), по стоимости за клик второй (0.65)\n",
    "- Youtube приносит почти столько же(2686, у фейсбука - 2726). Однако, у ютуба реклама самая дешевая(0.40)при небольшом потоке пользователей.\n",
    "- Реклама у Яндекса - 0.46 (почти самый дешевый), при самом большом потоке пользователей. (4817)"
   ]
  },
  {
   "cell_type": "markdown",
   "metadata": {},
   "source": [
    "<div class=\"alert alert-success\">\n",
    "    <p><b>Комментарий тимлида: </b></p>\n",
    "    \n",
    "В целом - всё так, правда немного странно говорить о том, что у Ютубу малый поток пользоватеелей, когда в него вложили почти в два раза меньше, чем в остальные.\n",
    "    \n",
    "В том смысле, что при разном распределении бюджета, общее количество пользователей - не самый показательный фактор.\n",
    "</div>"
   ]
  },
  {
   "cell_type": "markdown",
   "metadata": {},
   "source": [
    "**Промежуточный вывод**\n",
    "- Количествово пользователей = 13576\n",
    "- Количествово событий = 135639\n",
    "- Среднее количество событий на пользователя - 10.0\n",
    "- Самое популярное здание - космопорт. Его построили 27920 раз и лидирует он с небольшим отрывом. На самом деле я ожидала увидеть, что первое место займет сборочный цех (тк именно он обеспечивет необходимое количество производственных мощностей для развития игрока)\n",
    "- На втором месте 25414 раз построили сборочный цех, ну и замыкает тройку исследовательский центр - 7452 раз (что соответствует картине распределения научной/милитаристической победы игроков). \n",
    "- Типы зданий по круговой диаграмме распределены следующим образом: сборочный цех - 42.6%, космопорт - 46.4%, исследовательский центр - 11%\n",
    "- Всего 4 источника трафика - Я.Директ, Instagram, Facebook, Youtube. Большая часть пришла из Директа, меньшая - из Youtube. Теперь посмотрим распределение суммарной стоимости кликов по источникам\n",
    "- Реклама на фейсбуке(0.79) самая дорогая\n",
    "- Инстаграм приносит больше посетителей (3347), по стоимости за клик второй (0.65)\n",
    "- Youtube приносит почти столько же(2686, у фейсбука - 2726). Однако, у ютуба реклама самая дешевая(0.40)при небольшом потоке пользователей.\n",
    "- Реклама у Яндекса - 0.46 (почти самый дешевый), при самом большом потоке пользователей. (4817)"
   ]
  },
  {
   "cell_type": "markdown",
   "metadata": {},
   "source": [
    "#### исследовать вопрос, что такое качественный клиент\n",
    "Теперь исследуем вопрос \"качества пользователей\": по каким каналам тафика наиболее дешевое привлечение игроков, которые закончили первый уровень. \n",
    "\n",
    "Для этого создадим датасет с  информацией об игроках:\n",
    "- дату первого посещения сайта\n",
    "- источник привлечения\n",
    "- закончил ли пользователь уровень\n",
    "- каким способом закончил уровень и когда\n"
   ]
  },
  {
   "cell_type": "code",
   "execution_count": 53,
   "metadata": {},
   "outputs": [],
   "source": [
    "#определяем пользователей, которые завершили первый уровень, и определяем тип победы (pvp/pve)\n",
    "pve_winners = game_actions[game_actions['user_id'].isin(winners['user_id'].unique())\n",
    "                       & (game_actions['project_type'] == 'satellite_orbital_assembly')]\n",
    "\n",
    "pvp_winners = game_actions[(game_actions['user_id'].isin(winners['user_id'].unique()))\n",
    "                       & (~game_actions['user_id'].isin(pve_winners['user_id'].unique()))]"
   ]
  },
  {
   "cell_type": "code",
   "execution_count": 54,
   "metadata": {},
   "outputs": [],
   "source": [
    "profiles = (\n",
    "    game_actions.sort_values(by=['user_id','event_datetime','project_type']).groupby('user_id')\n",
    "    .agg({'event_datetime':['first','last'],'event':['first','last'], 'project_type':'last'}).reset_index()\n",
    "\n",
    ")\n",
    "\n",
    "profiles = profiles.droplevel(0,axis=1)\n",
    "profiles.columns = ['user_id','first_ts','last_ts','first_event','last_event','project_type']\n",
    "\n",
    "# создаем столбцы с определением победителей и с определением типа победы\n",
    "profiles['winners'] = profiles['user_id'].isin(winners['user_id'].unique())\n",
    "profiles['pvp_winners'] = profiles['user_id'].isin(pvp_winners['user_id'].unique())\n",
    "profiles['pve_winners'] = profiles['user_id'].isin(pve_winners['user_id'].unique())\n",
    "\n",
    "#определяем дату первого события в игре\n",
    "profiles['first_dt'] = profiles['first_ts'].dt.date\n",
    "\n",
    "# добавляем данные об источнике привлечения \n",
    "profiles = profiles.merge(user_source, on='user_id', how='left')\n",
    "\n",
    "# добавляем дату завершения первого уровня игры\n",
    "profiles = profiles.merge(winners[['user_id','event_datetime']],on='user_id', how='left')\n",
    "profiles = profiles.rename(columns={'event_datetime':'finish_ts'})"
   ]
  },
  {
   "cell_type": "markdown",
   "metadata": {},
   "source": [
    "Теперь посмотрим на доли победителей по источникам трафика, создадим для этого сводную таблицу: "
   ]
  },
  {
   "cell_type": "code",
   "execution_count": 55,
   "metadata": {},
   "outputs": [
    {
     "data": {
      "text/html": [
       "<div>\n",
       "<style scoped>\n",
       "    .dataframe tbody tr th:only-of-type {\n",
       "        vertical-align: middle;\n",
       "    }\n",
       "\n",
       "    .dataframe tbody tr th {\n",
       "        vertical-align: top;\n",
       "    }\n",
       "\n",
       "    .dataframe thead th {\n",
       "        text-align: right;\n",
       "    }\n",
       "</style>\n",
       "<table border=\"1\" class=\"dataframe\">\n",
       "  <thead>\n",
       "    <tr style=\"text-align: right;\">\n",
       "      <th></th>\n",
       "      <th>source</th>\n",
       "      <th>sum</th>\n",
       "      <th>count</th>\n",
       "      <th>winners_ratio</th>\n",
       "    </tr>\n",
       "  </thead>\n",
       "  <tbody>\n",
       "    <tr>\n",
       "      <th>0</th>\n",
       "      <td>facebook_ads</td>\n",
       "      <td>1150</td>\n",
       "      <td>2726</td>\n",
       "      <td>0.421864</td>\n",
       "    </tr>\n",
       "    <tr>\n",
       "      <th>1</th>\n",
       "      <td>instagram_new_adverts</td>\n",
       "      <td>1466</td>\n",
       "      <td>3347</td>\n",
       "      <td>0.438004</td>\n",
       "    </tr>\n",
       "    <tr>\n",
       "      <th>2</th>\n",
       "      <td>yandex_direct</td>\n",
       "      <td>2042</td>\n",
       "      <td>4817</td>\n",
       "      <td>0.423915</td>\n",
       "    </tr>\n",
       "    <tr>\n",
       "      <th>3</th>\n",
       "      <td>youtube_channel_reklama</td>\n",
       "      <td>1159</td>\n",
       "      <td>2686</td>\n",
       "      <td>0.431497</td>\n",
       "    </tr>\n",
       "  </tbody>\n",
       "</table>\n",
       "</div>"
      ],
      "text/plain": [
       "                    source   sum  count  winners_ratio\n",
       "0             facebook_ads  1150   2726       0.421864\n",
       "1    instagram_new_adverts  1466   3347       0.438004\n",
       "2            yandex_direct  2042   4817       0.423915\n",
       "3  youtube_channel_reklama  1159   2686       0.431497"
      ]
     },
     "execution_count": 55,
     "metadata": {},
     "output_type": "execute_result"
    }
   ],
   "source": [
    "\n",
    "winners_pivot = profiles.pivot_table(\n",
    "    index='source', values='winners', aggfunc=['sum','count']).droplevel(1,axis=1).reset_index()\n",
    "winners_pivot['winners_ratio'] = winners_pivot['sum'] / winners_pivot['count']\n",
    "winners_pivot"
   ]
  },
  {
   "cell_type": "markdown",
   "metadata": {},
   "source": [
    "Дни работы маркетинговой компании с 03.05.20 по 10.05.20. Посмотрим на количество привлеченных пользователей по дням и построим график для наглядности:"
   ]
  },
  {
   "cell_type": "code",
   "execution_count": 56,
   "metadata": {},
   "outputs": [
    {
     "data": {
      "image/png": "[encoded data removed]",
      "text/plain": [
       "<Figure size 1080x360 with 1 Axes>"
      ]
     },
     "metadata": {},
     "output_type": "display_data"
    }
   ],
   "source": [
    "profiles.pivot_table(\n",
    "    index='first_dt', columns='source', values='user_id', aggfunc='nunique').plot(figsize=(15, 5), grid=True)\n",
    "\n",
    "plt.ylabel('Количество пользователей')\n",
    "plt.xlabel('Дата первого события')\n",
    "plt.title('Количество пользователей по типу источника');\n",
    "plt.show()"
   ]
  },
  {
   "cell_type": "markdown",
   "metadata": {},
   "source": [
    "- Больше всего игроков привлечено из Яндекса за период маркетинговой акции.\n",
    "- Меньше всего из Фэйсбука и Ютюба\n",
    "- Однако снижение количества новых игроков по дням абслютно пропорционально (независимо от источника привлечения) \n",
    "\n",
    "Вероятно распределение бюджета на маркетинг было неравномерно? или объявление о рекламе просто \"устаревало\"?\n",
    "\n",
    "Теперь хочу визуализировать данны в круговой диаграмме: доля победителей по источнику: "
   ]
  },
  {
   "cell_type": "code",
   "execution_count": 57,
   "metadata": {},
   "outputs": [
    {
     "data": {
      "image/png": "[encoded data removed]",
      "text/plain": [
       "<Figure size 432x288 with 1 Axes>"
      ]
     },
     "metadata": {},
     "output_type": "display_data"
    }
   ],
   "source": [
    "fig, ax = plt.subplots()\n",
    "ax.pie(winners_pivot['winners_ratio'], labels=winners_pivot['source'], autopct='%1.1f%%')\n",
    "plt.title(\"Доля победителей от общего числа игроков по источнику\")\n",
    "plt.show()"
   ]
  },
  {
   "cell_type": "markdown",
   "metadata": {},
   "source": [
    "<div class=\"alert alert-warning\">\n",
    "    <p><b>Комментарий тимлида: </b></p>\n",
    "    \n",
    "Все секторы круговой диаграммы должны составлять 100%. 100% от чего составляют доли доли завершивших? То есть это график доли от суммы всех долей?\n",
    "</div>"
   ]
  },
  {
   "cell_type": "markdown",
   "metadata": {},
   "source": [
    "Да, я хотела посмотреть долю победителей от общего числа игроков по источнику привлечения. Круговая диаграмма тут наверное не репрезентативна. Поменяю на такой вариант: "
   ]
  },
  {
   "cell_type": "code",
   "execution_count": 58,
   "metadata": {},
   "outputs": [
    {
     "data": {
      "image/png": "[encoded data removed]",
      "text/plain": [
       "<Figure size 720x360 with 1 Axes>"
      ]
     },
     "metadata": {},
     "output_type": "display_data"
    }
   ],
   "source": [
    "\n",
    "plt.figure(figsize=(10,5))\n",
    "sns.barplot(data=winners_pivot,x='source',y='winners_ratio');\n",
    "plt.title('Доля победителей от общего числа игроков по виду источников привлечения');\n"
   ]
  },
  {
   "cell_type": "markdown",
   "metadata": {},
   "source": [
    "Как будто достаточно неполхо настроено таргетирование рекламы по источникам: Мы видим примерно равномерное распределение \"качественных\" игроков, которые завершили первый уровень независимо от рекламного источника. \n",
    "\n",
    "Далее рассмотрим долю прошедших первый уровень по источникам рекламы с разным типом победы: "
   ]
  },
  {
   "cell_type": "code",
   "execution_count": 59,
   "metadata": {},
   "outputs": [
    {
     "data": {
      "text/html": [
       "<div>\n",
       "<style scoped>\n",
       "    .dataframe tbody tr th:only-of-type {\n",
       "        vertical-align: middle;\n",
       "    }\n",
       "\n",
       "    .dataframe tbody tr th {\n",
       "        vertical-align: top;\n",
       "    }\n",
       "\n",
       "    .dataframe thead th {\n",
       "        text-align: right;\n",
       "    }\n",
       "</style>\n",
       "<table border=\"1\" class=\"dataframe\">\n",
       "  <thead>\n",
       "    <tr style=\"text-align: right;\">\n",
       "      <th></th>\n",
       "      <th>pve_winners</th>\n",
       "      <th>pvp_winners</th>\n",
       "      <th>winners</th>\n",
       "      <th>pvp_ratio</th>\n",
       "      <th>pve_ratio</th>\n",
       "    </tr>\n",
       "    <tr>\n",
       "      <th>source</th>\n",
       "      <th></th>\n",
       "      <th></th>\n",
       "      <th></th>\n",
       "      <th></th>\n",
       "      <th></th>\n",
       "    </tr>\n",
       "  </thead>\n",
       "  <tbody>\n",
       "    <tr>\n",
       "      <th>facebook_ads</th>\n",
       "      <td>391</td>\n",
       "      <td>759</td>\n",
       "      <td>1150</td>\n",
       "      <td>0.660000</td>\n",
       "      <td>0.340000</td>\n",
       "    </tr>\n",
       "    <tr>\n",
       "      <th>instagram_new_adverts</th>\n",
       "      <td>476</td>\n",
       "      <td>990</td>\n",
       "      <td>1466</td>\n",
       "      <td>0.675307</td>\n",
       "      <td>0.324693</td>\n",
       "    </tr>\n",
       "    <tr>\n",
       "      <th>yandex_direct</th>\n",
       "      <td>620</td>\n",
       "      <td>1422</td>\n",
       "      <td>2042</td>\n",
       "      <td>0.696376</td>\n",
       "      <td>0.303624</td>\n",
       "    </tr>\n",
       "    <tr>\n",
       "      <th>youtube_channel_reklama</th>\n",
       "      <td>379</td>\n",
       "      <td>780</td>\n",
       "      <td>1159</td>\n",
       "      <td>0.672994</td>\n",
       "      <td>0.327006</td>\n",
       "    </tr>\n",
       "  </tbody>\n",
       "</table>\n",
       "</div>"
      ],
      "text/plain": [
       "                         pve_winners  pvp_winners  winners  pvp_ratio  \\\n",
       "source                                                                  \n",
       "facebook_ads                     391          759     1150   0.660000   \n",
       "instagram_new_adverts            476          990     1466   0.675307   \n",
       "yandex_direct                    620         1422     2042   0.696376   \n",
       "youtube_channel_reklama          379          780     1159   0.672994   \n",
       "\n",
       "                         pve_ratio  \n",
       "source                              \n",
       "facebook_ads              0.340000  \n",
       "instagram_new_adverts     0.324693  \n",
       "yandex_direct             0.303624  \n",
       "youtube_channel_reklama   0.327006  "
      ]
     },
     "execution_count": 59,
     "metadata": {},
     "output_type": "execute_result"
    }
   ],
   "source": [
    "winners_pivot = profiles.pivot_table(\n",
    "    index='source', values=['winners','pvp_winners','pve_winners'], aggfunc='sum')\n",
    "\n",
    "winners_pivot['pvp_ratio'] = winners_pivot['pvp_winners'] / winners_pivot['winners']\n",
    "winners_pivot['pve_ratio'] = winners_pivot['pve_winners'] / winners_pivot['winners']\n",
    "winners_pivot\n"
   ]
  },
  {
   "cell_type": "code",
   "execution_count": 60,
   "metadata": {},
   "outputs": [
    {
     "data": {
      "image/png": "[encoded data removed]",
      "text/plain": [
       "<Figure size 1080x360 with 1 Axes>"
      ]
     },
     "metadata": {},
     "output_type": "display_data"
    }
   ],
   "source": [
    "plt.style.use('fivethirtyeight') \n",
    "winners_pivot[['pvp_ratio','pve_ratio']].plot(kind='bar',figsize=(15, 5), grid=True)\n",
    "plt.xticks(rotation=30)\n",
    "plt.xlabel('Источник привлечения')\n",
    "plt.ylabel('Доля победителей из общего числа победителей')\n",
    "plt.title('Сравнение игроков по способу завершения первого уровня завершения');\n",
    "plt.show()"
   ]
  },
  {
   "cell_type": "markdown",
   "metadata": {},
   "source": [
    "- игроков, побеждающих посредством победы над другим игроком (pvp/ player versus player) существенно выше по всем типам источников\n",
    "- игроков, побеждающих посредством научной победы  (pvp/ player versus player) существенно выше по всем типам источников\n",
    "- нет существенного различия в типе источника, что свидетельствовало бы о более высоком \"качестве\" привлекаемых игроков. "
   ]
  },
  {
   "cell_type": "markdown",
   "metadata": {},
   "source": [
    "\n",
    "\n",
    "<div class=\"alert alert-success\">\n",
    "    <p><b>Комментарий тимлида: </b></p>\n",
    "    \n",
    "Согласен, судя по долям завершивших и долям стратегий вовлечённость игроков практически не зависит от канала. Можно будет ещё посмотреть на время завершения и количество зданий, но пока всё идет к тому, что поводение не зависит от источника.\n",
    "</div>\n"
   ]
  },
  {
   "cell_type": "markdown",
   "metadata": {},
   "source": [
    "В таком случае оценим медианную метрику заврешения первого уровня игры по источнику привлечения: "
   ]
  },
  {
   "cell_type": "code",
   "execution_count": 61,
   "metadata": {},
   "outputs": [
    {
     "data": {
      "image/png": "[encoded data removed]",
      "text/plain": [
       "<Figure size 720x360 with 1 Axes>"
      ]
     },
     "metadata": {},
     "output_type": "display_data"
    }
   ],
   "source": [
    "profiles['time_delta'] = profiles['finish_ts'].dt.date - profiles['first_ts'].dt.date\n",
    "profiles['time_delta'] = profiles['time_delta'].apply(lambda x: x.days)\n",
    "profiles.groupby('source')['time_delta'].median().plot(kind='bar',figsize=(10,5), color='maroon')\n",
    "plt.xticks(rotation=30)\n",
    "plt.title('Медианное время прохождения первого уровня игры');"
   ]
  },
  {
   "cell_type": "markdown",
   "metadata": {},
   "source": [
    "А вот тут мы наконец увидели различия! Как то так вышло, что пользователи, которые перешли в игру от Яндекса, проходят первый уровень не за 12 дней, а за 11 (медиана). \n",
    "Теперь оценим медианное количество зданий, построенных по группам привлечения пользователей: "
   ]
  },
  {
   "cell_type": "code",
   "execution_count": 62,
   "metadata": {},
   "outputs": [
    {
     "data": {
      "text/html": [
       "<div>\n",
       "<style scoped>\n",
       "    .dataframe tbody tr th:only-of-type {\n",
       "        vertical-align: middle;\n",
       "    }\n",
       "\n",
       "    .dataframe tbody tr th {\n",
       "        vertical-align: top;\n",
       "    }\n",
       "\n",
       "    .dataframe thead th {\n",
       "        text-align: right;\n",
       "    }\n",
       "</style>\n",
       "<table border=\"1\" class=\"dataframe\">\n",
       "  <thead>\n",
       "    <tr style=\"text-align: right;\">\n",
       "      <th></th>\n",
       "      <th>source</th>\n",
       "      <th>num_of_users</th>\n",
       "      <th>num_of_buildings</th>\n",
       "      <th>avg_buildings</th>\n",
       "    </tr>\n",
       "  </thead>\n",
       "  <tbody>\n",
       "    <tr>\n",
       "      <th>0</th>\n",
       "      <td>facebook_ads</td>\n",
       "      <td>2726</td>\n",
       "      <td>26131</td>\n",
       "      <td>9.585840</td>\n",
       "    </tr>\n",
       "    <tr>\n",
       "      <th>1</th>\n",
       "      <td>instagram_new_adverts</td>\n",
       "      <td>3347</td>\n",
       "      <td>31815</td>\n",
       "      <td>9.505527</td>\n",
       "    </tr>\n",
       "    <tr>\n",
       "      <th>2</th>\n",
       "      <td>yandex_direct</td>\n",
       "      <td>4817</td>\n",
       "      <td>45032</td>\n",
       "      <td>9.348557</td>\n",
       "    </tr>\n",
       "    <tr>\n",
       "      <th>3</th>\n",
       "      <td>youtube_channel_reklama</td>\n",
       "      <td>2686</td>\n",
       "      <td>24978</td>\n",
       "      <td>9.299330</td>\n",
       "    </tr>\n",
       "  </tbody>\n",
       "</table>\n",
       "</div>"
      ],
      "text/plain": [
       "                    source  num_of_users  num_of_buildings  avg_buildings\n",
       "0             facebook_ads          2726             26131       9.585840\n",
       "1    instagram_new_adverts          3347             31815       9.505527\n",
       "2            yandex_direct          4817             45032       9.348557\n",
       "3  youtube_channel_reklama          2686             24978       9.299330"
      ]
     },
     "execution_count": 62,
     "metadata": {},
     "output_type": "execute_result"
    }
   ],
   "source": [
    "builders = (\n",
    "    game_actions.merge(profiles[['user_id','source']], on='user_id', how='left')\n",
    "    .query('event==\"building\"')\n",
    "    .groupby(['source'],as_index=False).agg({'user_id':'nunique','event':'count'})\n",
    "    .rename(columns={'user_id':'num_of_users','event':'num_of_buildings'})\n",
    "    )\n",
    "builders['avg_buildings'] =  builders['num_of_buildings'] / builders['num_of_users'] \n",
    "builders"
   ]
  },
  {
   "cell_type": "code",
   "execution_count": 63,
   "metadata": {},
   "outputs": [
    {
     "data": {
      "image/png": "[encoded data removed]",
      "text/plain": [
       "<Figure size 720x360 with 1 Axes>"
      ]
     },
     "metadata": {},
     "output_type": "display_data"
    }
   ],
   "source": [
    "plt.figure(figsize=(10,5))\n",
    "sns.barplot(data= builders,x='source', y='avg_buildings')\n",
    "plt.title('среднее количество построенных зданий на игрока')\n",
    "plt.ylim(8,10);"
   ]
  },
  {
   "cell_type": "markdown",
   "metadata": {},
   "source": [
    "<div class=\"alert alert-warning\">\n",
    "    <p><b>Комментарий тимлида: </b></p>\n",
    "    \n",
    "медианно? разве тут графики медиан?\n",
    "</div>"
   ]
  },
  {
   "cell_type": "markdown",
   "metadata": {},
   "source": [
    "Нет, среднее. Я поправила."
   ]
  },
  {
   "cell_type": "markdown",
   "metadata": {},
   "source": [
    "Интересная закономерность: как будто в среднем больше зданий построили игроки, привлеченные из Фейсбука (9.585), далее из Инстаграмма (9.505), далее из Яндекса (9.348) и замыкает график Ютюб (9.299), но различия невелики. \n",
    "\n",
    "С одной стороны, пользователи, которые пришли с Яндекс Директа как будто быстрее заканчивали уровень, но при этом строили чуть меньшее количество зданий, чем игроки из Фейсбука и Инстаграмма. "
   ]
  },
  {
   "cell_type": "markdown",
   "metadata": {},
   "source": [
    "<div class=\"alert alert-success\">\n",
    "    <p><b>Комментарий тимлида: </b></p>\n",
    "    \n",
    "Да, какие-то небольшие различия имеются, но учитывая то, что стоимость пользователей отличается в разы, я бы назвал эти различия  несуществеными.\n",
    "    \n",
    "То есть итоговое ранжирование в своей оснвое будет опираться на стоимость привлечения\n",
    "    \n",
    "</div>\n"
   ]
  },
  {
   "cell_type": "markdown",
   "metadata": {},
   "source": [
    "#### ВЫВОД \n",
    "\n",
    "- Самое популярное здание - космопорт. Его построили 27920 раз и лидирует он с небольшим отрывом. На самом деле я ожидала увидеть, что первое место займет сборочный цех (тк именно он обеспечивет необходимое количество производственных мощностей для развития игрока)\n",
    "\n",
    "- На втором месте 25414 раз построили сборочный цех, ну и замыкает тройку исследовательский центр - 7452 раз (что соответствует картине распределения научной/милитаристической победы игроков).\n",
    "\n",
    "- Типы зданий по круговой диаграмме распределены следующим образом: сборочный цех - 42.6%, космопорт - 46.4%, исследовательский центр - 11%\n",
    "\n",
    "- Всего 4 источника трафика - Я.Директ, Instagram, Facebook, Youtube. Большая часть пришла из Директа, меньшая - из Youtube. Теперь посмотрим распределение суммарной стоимости кликов по источникам.\n",
    "\n",
    "- Реклама на фейсбуке(0.79) самая дорогая, Инстаграм приносит больше посетителей (3347), по стоимости за клик второй (0.65). Youtube приносит почти столько же(2686, у фейсбука - 2726). Однако, у ютуба реклама самая дешевая(0.40)при небольшом потоке пользователей. Реклама у Яндекса - 0.46 (почти самый дешевый), при самом большом потоке пользователей. (4817)\n",
    "\n",
    "- Больше всего игроков привлечено из Яндекса за период маркетинговой акции. Меньше всего из Фэйсбука и Ютюба. Однако снижение количества новых игроков по дням абслютно пропорционально (независимо от источника привлечения)\n",
    "\n",
    "- хорошо настроено таргетирование рекламы по источникам: Мы видим примерно равномерное распределение \"качественных\" игроков, которые завершили первый уровень независимо от рекламного источника.\n",
    "\n",
    "- пользователи, которые перешли в игру от Яндекса, проходят первый уровень не за 12 дней, а за 11 (медиана). Теперь оценим медианное количество зданий, построенных по группам привлечения пользователей:\n",
    "\n",
    "- медианно больше зданий построили игроки, привлеченные из Фейсбука (9.585), далее из Инстаграмма (9.505), далее из Яндекса (9.348) и замыкает график Ютюб (9.299), но различия невелики. \n",
    "\n",
    "- пользователи, которые пришли с Яндекс Директа как будто быстрее заканчивали уровень, но при этом строили чуть меньшее количество зданий, чем игроки из Фейсбука и Инстаграмма. \n"
   ]
  },
  {
   "cell_type": "markdown",
   "metadata": {},
   "source": [
    "### Проверка статистических гипотез:\n",
    "#### Проверьте гипотезу: время завершения уровня различается в зависимости способа прохождения через реализацию проекта и через победу над первым игроком.\n",
    " \n",
    " \n",
    " H0: Статистически значимой разницы во времени между двумя типами игроков нет\n",
    "\n",
    "Н1: Существует статистическая разница между двумя типами игроков"
   ]
  },
  {
   "cell_type": "markdown",
   "metadata": {},
   "source": [
    "Выведем графическое распределение игроков, которые одержади победу путем научной постройки или через победу над другими игроками:"
   ]
  },
  {
   "cell_type": "code",
   "execution_count": 64,
   "metadata": {},
   "outputs": [
    {
     "data": {
      "image/png": "[encoded data removed]",
      "text/plain": [
       "<Figure size 1080x360 with 1 Axes>"
      ]
     },
     "metadata": {},
     "output_type": "display_data"
    }
   ],
   "source": [
    "plt.figure(figsize=(15,5))\n",
    "plt.hist(profiles[(profiles['winners'] ==True) & (profiles['pvp_winners'] ==True)]['time_delta'],bins=15,label='Победили других');\n",
    "\n",
    "plt.hist(profiles[(profiles['winners'] ==True) & (profiles['pve_winners'] ==True)]['time_delta'],bins=15,label='Научная победа')\n",
    "plt.legend()\n",
    "plt.xlabel('Дни')\n",
    "plt.ylabel('Количество игроков')\n",
    "plt.title('гистограмма распределения дней завершения первого уровня');\n"
   ]
  },
  {
   "cell_type": "code",
   "execution_count": 65,
   "metadata": {},
   "outputs": [
    {
     "data": {
      "text/plain": [
       "count    3951.000000\n",
       "mean       11.058466\n",
       "std         4.104875\n",
       "min         0.000000\n",
       "25%         8.000000\n",
       "50%        11.000000\n",
       "75%        13.000000\n",
       "max        31.000000\n",
       "Name: time_delta, dtype: float64"
      ]
     },
     "execution_count": 65,
     "metadata": {},
     "output_type": "execute_result"
    }
   ],
   "source": [
    "# проверим наличие выбросов в двух выборках игроков (сначала pvp)\n",
    "pvp_descr = profiles[(profiles['winners'] == True) & (profiles['pvp_winners'] ==True)]['time_delta']\n",
    "\n",
    "pvp_descr.describe()"
   ]
  },
  {
   "cell_type": "code",
   "execution_count": 66,
   "metadata": {},
   "outputs": [
    {
     "data": {
      "text/plain": [
       "count    1866.000000\n",
       "mean       13.396570\n",
       "std         3.522622\n",
       "min         5.000000\n",
       "25%        11.000000\n",
       "50%        13.000000\n",
       "75%        15.000000\n",
       "max        29.000000\n",
       "Name: time_delta, dtype: float64"
      ]
     },
     "execution_count": 66,
     "metadata": {},
     "output_type": "execute_result"
    }
   ],
   "source": [
    "# проверим наличие выбросов в двух выборках игроков (pve)\n",
    "pve_descr = profiles[(profiles['winners'] ==True) & (profiles['pve_winners'] == True)]['time_delta']\n",
    "\n",
    "pve_descr.describe()"
   ]
  },
  {
   "cell_type": "markdown",
   "metadata": {},
   "source": [
    "- меньше игроков выбирают строительство спутника (научная победа, но здесь есть два пика, когда были построены спутники: на 11 и на 14 день. \n",
    "- наибольшее количество игроков в среденм за 12 дней одержало победу над другими игроками.\n",
    "\n",
    "\n",
    "Мы сравниваем две выборки одной совокупности, в которых есть выбросы, а распределение не является нормальным, для проверки гипотезы применим непараметрический тест Манна-Уитни. \n",
    "Уровень статистической значимости будет равен 0.05 "
   ]
  },
  {
   "cell_type": "code",
   "execution_count": 67,
   "metadata": {},
   "outputs": [
    {
     "name": "stdout",
     "output_type": "stream",
     "text": [
      "p-значение:  4.7866103584542195e-105\n",
      "Существует статистическая разница между двумя типами игроков\n",
      "\n",
      "Cреднее значение времени перехода на второй уровень игроков, победивших в pvp меньше на 1.21 дней, чем у игроков простроивших станцию\n"
     ]
    }
   ],
   "source": [
    "# лист с таймингом pvp - победивших пользователей: \n",
    "pvp_array = list(profiles[(profiles['winners'] ==True) & (profiles['pvp_winners'] ==True)]['time_delta'])\n",
    "\n",
    "# лист с таймингом pve - победивших пользователей: \n",
    "pve_array = list(profiles[(profiles['winners'] ==True) & (profiles['pve_winners'] ==True)]['time_delta'])\n",
    "\n",
    "alpha = .05  \n",
    "\n",
    "test1 = st.mannwhitneyu(pvp_array, pve_array)\n",
    "\n",
    "print('p-значение: ', test1.pvalue)\n",
    "\n",
    "if test1.pvalue < alpha:\n",
    "    print('Существует статистическая разница между двумя типами игроков')\n",
    "else:\n",
    "    print('Статистически значимой разницы во времени между двумя типами игроков нет') \n",
    "\n",
    "print()\n",
    "print('Cреднее значение времени перехода на второй уровень игроков, победивших в pvp меньше на {:.2f} дней, чем у игроков простроивших станцию'\n",
    "      .format(((profiles[(profiles['winners'] ==True) & (profiles['pve_winners'] ==True)]['time_delta'].mean())\n",
    "/(profiles[(profiles['winners'] ==True) & (profiles['pvp_winners'] ==True)]['time_delta'].mean()))))\n"
   ]
  },
  {
   "cell_type": "markdown",
   "metadata": {},
   "source": [
    "Трактовка результатов: \n",
    "- Существует статистическая разница во времени завершения первого уровня между игроками победившими в pvp и pve. \n",
    "- Среднее значение времени прохождения уровня через pvp ниже\n",
    "- При увеличении количества наблюдений статистическая разница будет аналогичной. "
   ]
  },
  {
   "cell_type": "markdown",
   "metadata": {},
   "source": [
    "#### Проверка гипотезы 2: \n",
    "Количество построенных зданий среди игроков, одержавших победу над другими игроками и построивших спутник, равно. \n",
    "\n",
    "\n",
    "H0: Статистически значимой разницы между количеством построенных зданий среди игроков, одержавших победу над другими игроками и построивших спутник нет. \n",
    "\n",
    "\n",
    "Н1: Статистически значимая разница между количеством построенных зданий среди игроков, одержавших победу над другими игроками и построивших спутник есть. \n",
    "\n",
    "\n",
    "Мы выберем t-test для сравнения двух выборок и назчначим критический уровень статистической значимости .05\n"
   ]
  },
  {
   "cell_type": "markdown",
   "metadata": {},
   "source": [
    "Теперь объединим таблицы закончивших первый уровень с подсчитанным количеством зданий на игрока: "
   ]
  },
  {
   "cell_type": "code",
   "execution_count": 68,
   "metadata": {},
   "outputs": [],
   "source": [
    "winners_blds = winners.merge(finished_buildings, how = 'left', on = 'user_id')\n"
   ]
  },
  {
   "cell_type": "markdown",
   "metadata": {},
   "source": [
    "Теперь узнаем, сколько в среднем игроки, которые завершили первый уровень, построили зданий при pvp/pve победах: "
   ]
  },
  {
   "cell_type": "code",
   "execution_count": 69,
   "metadata": {},
   "outputs": [],
   "source": [
    "pvp_user_id  = set(winners['user_id']) - set(finished_project['user_id'])\n",
    "pve_user_id = finished_project['user_id']\n"
   ]
  },
  {
   "cell_type": "code",
   "execution_count": 70,
   "metadata": {},
   "outputs": [],
   "source": [
    "finished_pvp = winners_blds.query('user_id in @pvp_user_id')\n",
    "finished_pve = winners_blds.query('user_id in @pve_user_id')\n"
   ]
  },
  {
   "cell_type": "code",
   "execution_count": 71,
   "metadata": {},
   "outputs": [
    {
     "name": "stdout",
     "output_type": "stream",
     "text": [
      "Pve-игроки в среднем построили  12.64790996784566\n",
      "Pvp-игроки в среднем построили  9.411541381928625\n"
     ]
    }
   ],
   "source": [
    "print(\"Pve-игроки в среднем построили \", finished_pve['build_count'].mean())\n",
    "print(\"Pvp-игроки в среднем построили \", finished_pvp['build_count'].mean())\n",
    "\n"
   ]
  },
  {
   "cell_type": "markdown",
   "metadata": {},
   "source": [
    "Выходит, что игрокам, которые выбирают стратегию строительства спутника для победы, приходится строить больше зданий (возможно данный вид прохождения первого уровня требует больше ресурсов?)"
   ]
  },
  {
   "cell_type": "markdown",
   "metadata": {},
   "source": [
    "Посмотрим на выбросы, которые могут появляться в столбце подсчета количества зданий на игрока:"
   ]
  },
  {
   "cell_type": "code",
   "execution_count": 72,
   "metadata": {},
   "outputs": [
    {
     "data": {
      "text/plain": [
       "count    3951.000000\n",
       "mean        9.411541\n",
       "std         3.059529\n",
       "min         2.000000\n",
       "25%         8.000000\n",
       "50%        10.000000\n",
       "75%        12.000000\n",
       "max        19.000000\n",
       "Name: build_count, dtype: float64"
      ]
     },
     "execution_count": 72,
     "metadata": {},
     "output_type": "execute_result"
    }
   ],
   "source": [
    "finished_pvp['build_count'].describe()"
   ]
  },
  {
   "cell_type": "code",
   "execution_count": 73,
   "metadata": {},
   "outputs": [
    {
     "data": {
      "text/plain": [
       "count    1866.000000\n",
       "mean       12.647910\n",
       "std         2.162522\n",
       "min        10.000000\n",
       "25%        11.000000\n",
       "50%        12.000000\n",
       "75%        14.000000\n",
       "max        20.000000\n",
       "Name: build_count, dtype: float64"
      ]
     },
     "execution_count": 73,
     "metadata": {},
     "output_type": "execute_result"
    }
   ],
   "source": [
    "finished_pve['build_count'].describe()"
   ]
  },
  {
   "cell_type": "markdown",
   "metadata": {},
   "source": [
    "И для завершивших научный проект PVE, как и для игроков, завершивших уровень победы, характерны одиночные выбросы. "
   ]
  },
  {
   "cell_type": "code",
   "execution_count": 74,
   "metadata": {},
   "outputs": [
    {
     "name": "stdout",
     "output_type": "stream",
     "text": [
      "p-значение: 0.0\n",
      "Отвергаем нулевую гипотезу: статистически значимой разницы между количеством построенных зданий среди игроков, одержавших победу над другими игроками и построивших спутник нет.\n"
     ]
    }
   ],
   "source": [
    "alpha = 0.05\n",
    "results = st.ttest_ind(finished_pvp['build_count'], finished_pve['build_count'], equal_var = True)\n",
    "\n",
    "print('p-значение:', results.pvalue)\n",
    "\n",
    "if results.pvalue < alpha:\n",
    "    print('Отвергаем нулевую гипотезу: статистически значимой разницы между количеством построенных зданий среди игроков, одержавших победу над другими игроками и построивших спутник нет.')\n",
    "else:\n",
    "    print('Не получилось отвергнуть нулевую гипотезу: статистически значимой разницы между количеством построенных зданий среди игроков, одержавших победу над другими игроками и построивших спутник нет.')\n",
    "    "
   ]
  },
  {
   "cell_type": "markdown",
   "metadata": {},
   "source": [
    "Мы вынуждены отвергнуть нулевую гипотезу. Возможно все дело в баллансе игры, но мы убедились что пользователи, которые строили спутник (pve-победа), скорее всего были вынуждены строить больше зданий. Pvp-победившие игроки строили лишь 9,4 здания (в среднем против 12 зданий у pve-игроков)"
   ]
  },
  {
   "cell_type": "markdown",
   "metadata": {},
   "source": [
    "<div class=\"alert alert-success\">\n",
    "    <p><b> Комментарий тимлида: </b></p>\n",
    "    \n",
    "Да, похоже что балас частично нарушен. Уверен, эта инфомарция будет полезна отделу геймдизайна, и они уже самостоятельно глубже погрузятся в данную тему\n",
    "</div>"
   ]
  },
  {
   "cell_type": "markdown",
   "metadata": {},
   "source": [
    "### Формулирование наглядного ответа на запрос заказчика:\n",
    "\n",
    "- Ранжирование\n",
    "\n",
    "Исходя из анализа можно проранжировать приоритетные источники привлечения следующим образом:\n",
    "1. Яндекс Директ. Показывает наилучшие показатели привлечения исходя из текущего бюджета. При этом привлекаемые пользователи довольно активно проходят в игру. Медианное время на прохождение первого уровня составляет 11 дней, тогда как у других игроков - 12 дней.\n",
    "2. Youtube. Даже при низком бюджете привлекает большое количество игроков, а САС самый низкий. Рекомендуется увеличить объем финансирования данного источника, перераспределив часть средств из менее эффективных каналов\n",
    "3. Instagram. Является достаточно дорогостоящим источником, однако привлекает пользователей больше чем Facebook\n",
    "4. Facebook. Самый дорогостоящий источник, при этом не обеспечивающий действительно большое количество новых пользователей\n",
    "\n",
    "\n",
    "Аналитика поведения игроков и работым маркетинговых стратегий:\n",
    "\n",
    "- C 4 по 10 мая 2020 года в игру \"Космические братья\" привлекались игроки из 4 разных маркетинговых источников: Facebook, Youtube, Yandex, Instagram. Больше всего пользователей привлечено через Яндекс-Директ, 4817 игроков, меншье всего из Youtube - 2686 игроков. До 5.06 мы наблюдали за активностью игроков (она достаточно равномерно падала независимо от источника привлечения игрока)\n",
    "- по механикам самой игры: мы видим по зданиям, что среди прошедших первый уровень, самым популярным зданием оказался космопорт 46.4% всех построек, далее сборочный цех - 42.6% и исследовательский центр - 11%. \n",
    "- медианное количество построек среди тех кто завершил 1 уровень - 10,5; \n",
    "- Примерно 65-69% от всех пользователей, кто прошел 1 уровень, получили pvp-победу (над противником). \n",
    "- Анализ маркетинговых показателей демонстрирует, что не все источники привлечения одинаково эффективны: \n",
    "  - Реклама на фейсбуке(0.79) самая дорогая\n",
    "  - Инстаграм приносит больше посетителей (3347), по стоимости за клик второй (0.65)\n",
    "  - Youtube приносит почти столько же(2686, у фейсбука - 2726). Однако, у ютуба реклама самая дешевая(0.40)при небольшом потоке пользователей.\n",
    "  - Реклама у Яндекса - 0.46 (почти самый дешевый), при самом большом потоке пользователей. (4817)\n",
    "  - Стоимость привлечения одного игрока самая низкая у Яндекса и Ютуба. Самая высокая у Фейсбука. Количество привлеченных игроков из Фейсбука и инстаграмма существенно ниже.\n",
    "  - \n",
    "- Хорошо и равномерно настроено таргетирование рекламы по источникам. Мы видим примерно равномерное распределение \"качественных\" игроков, которые завершили первый уровень независимо от рекламного источника.\n",
    "- игроков, побеждающих посредством победы над другим игроком (pvp/ player versus player) существенно выше по всем типам источников\n",
    "- игроков, побеждающих посредством научной победы  (pvp/ player versus player) существенно выше по всем типам источников\n",
    "- нет существенного различия в типе источника, что свидетельствовало бы о более высоком \"качестве\" привлекаемых игроков. \n",
    "- Однако, пользователи, которые перешли в игру от Яндекса, проходят первый уровень не за 12 дней, а за 11 (медиана). \n",
    "\n",
    "- В среднем меньшинство игроков выбирают строительство спутника (научная победа, но здесь есть два пика, чаще всего строительство спутников заканчивают на 11 и на 14 день. \n",
    "Исследуемые гипотезы: \n",
    "Мы узнали, что существует статистическая разница во времени завершения первого уровня между игроками победившими в pvp и pve стратегиях при завершении первого уровня (Cреднее значение времени перехода на второй уровень игроков, победивших в pvp меньше на 1.21 дней, чем у игроков простроивших станцию). \n",
    "\n",
    "\n",
    "Среднее значение времени прохождения уровня через pvp ниже, однако при увеличении количества наблюдений статистическая разница будет аналогичной. \n",
    "\n",
    "Также мы узнали, что пользователи, которые строили спутник, были вынуждены строить большее колличество зданий (12 против 9,4 у pvp-игроков). Возможно все дело в баллансе игры, что научная победа дается сложнее. \n",
    "\n"
   ]
  },
  {
   "cell_type": "markdown",
   "metadata": {},
   "source": [
    "### Общие выводы и рекоммендации.\n",
    "1. При сравнительно симметричном качестве привлеченных пользователей делать акцент на рекламу в Яндексе(4817)  и Ютубе (стоимость ниже без потерь в качестве) \n",
    "2. Более 50 процентов пользователей не проходят первый уровень. Видимо есть необходимость в анализе этого вопроса - почему можетм быть непонятно/неинтересно/неиграбельно половине или даже больше привлеченной аудитории. \n",
    "3. Больше 67% игроков получают первый уровень при помощи победы над врагом. Возможно имеет смысл развивать в самой игре больше милитаристическое направление (делать более высокоюджетные боевки), раз они пользуются большой популярностью. С другой стороны стоит подумать, почему меньшинство (причем с необходимостью строить большее количество зданий, как мы выяснили) строит спутник - возможно имеет смысл попроавить игровой балланс и развивать игру и в этом направлении тоже. \n",
    "4. При одинаковом качестве привлекаемых игроков имеет смысл отказаться от дорогой рекламы в Фейсбуке (0.79), но при этом сохранить рекламу в инстаграмме, так как она приносит значительный процент аудитории\n",
    "5. Таргетирование рекламы на сегодняшний день работает корректно, если судить по качеству игроков, которые приходят с разных маркетинговых каналов (оно достатосно одинаково, единственный интересный нюанс - пользователи, приходящие с Яндекс Директа завершают 1 уровень не за среднестатистические 12 дней, а за 11). Однако в связи с популярностью развития сценария победы над другими игроками, у игры расширится целевая аудитория при раскрытии в маркетинговой стратегии этой ветки сюжета. "
   ]
  }
 ],
 "metadata": {
  "ExecuteTimeLog": [
   {
    "duration": 4178,
    "start_time": "2023-09-18T09:06:26.649Z"
   },
   {
    "duration": 1505,
    "start_time": "2023-09-18T09:06:41.865Z"
   },
   {
    "duration": 89,
    "start_time": "2023-09-18T09:07:08.960Z"
   },
   {
    "duration": 646,
    "start_time": "2023-09-18T09:07:16.867Z"
   },
   {
    "duration": 3,
    "start_time": "2023-09-18T09:07:31.518Z"
   },
   {
    "duration": 3,
    "start_time": "2023-09-18T09:08:16.560Z"
   },
   {
    "duration": 12,
    "start_time": "2023-09-18T09:10:02.974Z"
   },
   {
    "duration": 9,
    "start_time": "2023-09-18T09:12:03.920Z"
   },
   {
    "duration": 10,
    "start_time": "2023-09-18T09:12:11.254Z"
   },
   {
    "duration": 11,
    "start_time": "2023-09-18T09:12:31.687Z"
   },
   {
    "duration": 11,
    "start_time": "2023-09-18T09:12:44.205Z"
   },
   {
    "duration": 37,
    "start_time": "2023-09-18T09:12:52.504Z"
   },
   {
    "duration": 34,
    "start_time": "2023-09-18T09:22:20.623Z"
   },
   {
    "duration": 36,
    "start_time": "2023-09-18T09:24:39.642Z"
   },
   {
    "duration": 12,
    "start_time": "2023-09-18T09:49:04.382Z"
   },
   {
    "duration": 43,
    "start_time": "2023-09-18T09:49:34.279Z"
   },
   {
    "duration": 11,
    "start_time": "2023-09-18T09:50:11.458Z"
   },
   {
    "duration": 34,
    "start_time": "2023-09-18T09:50:23.321Z"
   },
   {
    "duration": 60,
    "start_time": "2023-09-18T09:50:44.306Z"
   },
   {
    "duration": 111,
    "start_time": "2023-09-18T09:50:50.255Z"
   },
   {
    "duration": 69,
    "start_time": "2023-09-18T09:51:08.340Z"
   },
   {
    "duration": 64,
    "start_time": "2023-09-18T09:51:24.922Z"
   },
   {
    "duration": 115,
    "start_time": "2023-09-18T09:51:37.291Z"
   },
   {
    "duration": 5,
    "start_time": "2023-09-18T09:51:52.573Z"
   },
   {
    "duration": 4,
    "start_time": "2023-09-18T09:52:00.273Z"
   },
   {
    "duration": 5,
    "start_time": "2023-09-18T09:52:39.554Z"
   },
   {
    "duration": 5,
    "start_time": "2023-09-18T09:52:39.890Z"
   },
   {
    "duration": 9,
    "start_time": "2023-09-18T09:53:11.339Z"
   },
   {
    "duration": 6,
    "start_time": "2023-09-18T09:53:41.089Z"
   },
   {
    "duration": 84,
    "start_time": "2023-09-18T09:53:54.306Z"
   },
   {
    "duration": 4,
    "start_time": "2023-09-18T09:54:07.006Z"
   },
   {
    "duration": 10,
    "start_time": "2023-09-18T09:54:14.224Z"
   },
   {
    "duration": 4,
    "start_time": "2023-09-18T09:54:22.575Z"
   },
   {
    "duration": 4,
    "start_time": "2023-09-18T09:54:27.636Z"
   },
   {
    "duration": 9,
    "start_time": "2023-09-18T09:55:10.741Z"
   },
   {
    "duration": 4,
    "start_time": "2023-09-18T09:55:22.187Z"
   },
   {
    "duration": 12,
    "start_time": "2023-09-18T10:03:55.173Z"
   },
   {
    "duration": 47,
    "start_time": "2023-09-18T10:27:03.672Z"
   },
   {
    "duration": 28,
    "start_time": "2023-09-18T10:34:11.107Z"
   },
   {
    "duration": 43,
    "start_time": "2023-09-18T10:34:26.252Z"
   },
   {
    "duration": 20,
    "start_time": "2023-09-18T10:34:57.377Z"
   },
   {
    "duration": 3,
    "start_time": "2023-09-18T10:36:33.942Z"
   },
   {
    "duration": 38,
    "start_time": "2023-09-18T10:36:52.202Z"
   },
   {
    "duration": 212,
    "start_time": "2023-09-18T10:37:21.307Z"
   },
   {
    "duration": 20,
    "start_time": "2023-09-18T10:39:39.275Z"
   },
   {
    "duration": 4,
    "start_time": "2023-09-18T10:40:39.725Z"
   },
   {
    "duration": 4,
    "start_time": "2023-09-18T10:41:34.693Z"
   },
   {
    "duration": 3,
    "start_time": "2023-09-18T10:41:44.265Z"
   },
   {
    "duration": 7,
    "start_time": "2023-09-18T10:42:51.913Z"
   },
   {
    "duration": 6,
    "start_time": "2023-09-18T10:42:57.612Z"
   },
   {
    "duration": 6,
    "start_time": "2023-09-18T10:43:03.348Z"
   },
   {
    "duration": 9,
    "start_time": "2023-09-18T10:43:16.882Z"
   },
   {
    "duration": 3,
    "start_time": "2023-09-18T10:44:01.356Z"
   },
   {
    "duration": 20,
    "start_time": "2023-09-18T10:44:53.298Z"
   },
   {
    "duration": 100,
    "start_time": "2023-09-18T10:44:58.847Z"
   },
   {
    "duration": 86,
    "start_time": "2023-09-18T10:45:26.462Z"
   },
   {
    "duration": 17,
    "start_time": "2023-09-18T10:47:18.631Z"
   },
   {
    "duration": 27,
    "start_time": "2023-09-18T10:47:21.731Z"
   },
   {
    "duration": 22,
    "start_time": "2023-09-18T10:47:38.295Z"
   },
   {
    "duration": 85,
    "start_time": "2023-09-18T10:47:39.374Z"
   },
   {
    "duration": 27,
    "start_time": "2023-09-18T10:47:44.265Z"
   },
   {
    "duration": 86,
    "start_time": "2023-09-18T10:47:51.620Z"
   },
   {
    "duration": 30,
    "start_time": "2023-09-18T10:48:02.432Z"
   },
   {
    "duration": 92,
    "start_time": "2023-09-18T10:48:03.275Z"
   },
   {
    "duration": 2428,
    "start_time": "2023-09-18T10:48:08.678Z"
   },
   {
    "duration": 4,
    "start_time": "2023-09-18T10:48:11.108Z"
   },
   {
    "duration": 307,
    "start_time": "2023-09-18T10:48:11.114Z"
   },
   {
    "duration": 6,
    "start_time": "2023-09-18T10:48:11.423Z"
   },
   {
    "duration": 12,
    "start_time": "2023-09-18T10:48:11.431Z"
   },
   {
    "duration": 17,
    "start_time": "2023-09-18T10:48:11.445Z"
   },
   {
    "duration": 32,
    "start_time": "2023-09-18T10:48:11.464Z"
   },
   {
    "duration": 20,
    "start_time": "2023-09-18T10:48:11.500Z"
   },
   {
    "duration": 16,
    "start_time": "2023-09-18T10:48:11.522Z"
   },
   {
    "duration": 61,
    "start_time": "2023-09-18T10:48:11.541Z"
   },
   {
    "duration": 32,
    "start_time": "2023-09-18T10:48:11.604Z"
   },
   {
    "duration": 61,
    "start_time": "2023-09-18T10:48:11.638Z"
   },
   {
    "duration": 10,
    "start_time": "2023-09-18T10:48:11.701Z"
   },
   {
    "duration": 18,
    "start_time": "2023-09-18T10:48:11.713Z"
   },
   {
    "duration": 33,
    "start_time": "2023-09-18T10:48:12.020Z"
   },
   {
    "duration": 58,
    "start_time": "2023-09-18T10:48:12.410Z"
   },
   {
    "duration": 70,
    "start_time": "2023-09-18T10:48:12.739Z"
   },
   {
    "duration": 132,
    "start_time": "2023-09-18T10:48:13.110Z"
   },
   {
    "duration": 5,
    "start_time": "2023-09-18T10:48:13.494Z"
   },
   {
    "duration": 5,
    "start_time": "2023-09-18T10:48:13.816Z"
   },
   {
    "duration": 8,
    "start_time": "2023-09-18T10:48:14.247Z"
   },
   {
    "duration": 6,
    "start_time": "2023-09-18T10:48:14.632Z"
   },
   {
    "duration": 5,
    "start_time": "2023-09-18T10:48:15.054Z"
   },
   {
    "duration": 11,
    "start_time": "2023-09-18T10:48:15.255Z"
   },
   {
    "duration": 4,
    "start_time": "2023-09-18T10:48:15.472Z"
   },
   {
    "duration": 5,
    "start_time": "2023-09-18T10:48:15.724Z"
   },
   {
    "duration": 10,
    "start_time": "2023-09-18T10:48:16.195Z"
   },
   {
    "duration": 5,
    "start_time": "2023-09-18T10:48:16.673Z"
   },
   {
    "duration": 65,
    "start_time": "2023-09-18T10:48:17.131Z"
   },
   {
    "duration": 34,
    "start_time": "2023-09-18T10:48:18.260Z"
   },
   {
    "duration": 10,
    "start_time": "2023-09-18T10:48:18.541Z"
   },
   {
    "duration": 2,
    "start_time": "2023-09-18T10:48:18.807Z"
   },
   {
    "duration": 38,
    "start_time": "2023-09-18T10:48:19.094Z"
   },
   {
    "duration": 15,
    "start_time": "2023-09-18T10:48:19.611Z"
   },
   {
    "duration": 3,
    "start_time": "2023-09-18T10:48:19.894Z"
   },
   {
    "duration": 46,
    "start_time": "2023-09-18T10:48:29.747Z"
   },
   {
    "duration": 20,
    "start_time": "2023-09-18T10:48:30.380Z"
   },
   {
    "duration": 86,
    "start_time": "2023-09-18T10:48:30.557Z"
   },
   {
    "duration": 225,
    "start_time": "2023-09-18T10:48:31.045Z"
   },
   {
    "duration": 201,
    "start_time": "2023-09-18T10:48:31.273Z"
   },
   {
    "duration": 3,
    "start_time": "2023-09-18T10:48:31.926Z"
   },
   {
    "duration": 19,
    "start_time": "2023-09-18T10:48:32.512Z"
   },
   {
    "duration": 85,
    "start_time": "2023-09-18T10:48:33.663Z"
   },
   {
    "duration": 37,
    "start_time": "2023-09-18T10:49:13.477Z"
   },
   {
    "duration": 208,
    "start_time": "2023-09-18T10:49:48.425Z"
   },
   {
    "duration": 141,
    "start_time": "2023-09-18T10:50:04.761Z"
   },
   {
    "duration": 140,
    "start_time": "2023-09-18T10:50:31.829Z"
   },
   {
    "duration": 35,
    "start_time": "2023-09-18T10:52:52.594Z"
   },
   {
    "duration": 134,
    "start_time": "2023-09-18T10:53:11.498Z"
   },
   {
    "duration": 36,
    "start_time": "2023-09-18T10:55:39.082Z"
   },
   {
    "duration": 24,
    "start_time": "2023-09-18T10:56:24.489Z"
   },
   {
    "duration": 35,
    "start_time": "2023-09-18T10:56:40.096Z"
   },
   {
    "duration": 114,
    "start_time": "2023-09-18T11:01:55.289Z"
   },
   {
    "duration": 1403,
    "start_time": "2023-09-18T11:03:31.430Z"
   },
   {
    "duration": 147,
    "start_time": "2023-09-18T11:04:18.844Z"
   },
   {
    "duration": 2328,
    "start_time": "2023-09-18T11:04:29.324Z"
   },
   {
    "duration": 16,
    "start_time": "2023-09-18T11:05:44.162Z"
   },
   {
    "duration": 33,
    "start_time": "2023-09-18T11:06:23.463Z"
   },
   {
    "duration": 96,
    "start_time": "2023-09-18T11:06:35.824Z"
   },
   {
    "duration": 91,
    "start_time": "2023-09-18T11:07:11.312Z"
   },
   {
    "duration": 185,
    "start_time": "2023-09-18T11:07:15.920Z"
   },
   {
    "duration": 107,
    "start_time": "2023-09-18T11:07:20.097Z"
   },
   {
    "duration": 114,
    "start_time": "2023-09-18T11:07:37.102Z"
   },
   {
    "duration": 105,
    "start_time": "2023-09-18T11:07:46.378Z"
   },
   {
    "duration": 101,
    "start_time": "2023-09-18T11:07:55.487Z"
   },
   {
    "duration": 85,
    "start_time": "2023-09-18T11:08:05.704Z"
   },
   {
    "duration": 77,
    "start_time": "2023-09-18T11:08:21.389Z"
   },
   {
    "duration": 106,
    "start_time": "2023-09-18T11:08:28.896Z"
   },
   {
    "duration": 125,
    "start_time": "2023-09-18T11:08:32.414Z"
   },
   {
    "duration": 79,
    "start_time": "2023-09-18T11:08:41.226Z"
   },
   {
    "duration": 7,
    "start_time": "2023-09-18T11:10:18.628Z"
   },
   {
    "duration": 83,
    "start_time": "2023-09-18T11:11:37.031Z"
   },
   {
    "duration": 77,
    "start_time": "2023-09-18T11:11:43.832Z"
   },
   {
    "duration": 13,
    "start_time": "2023-09-18T11:15:06.088Z"
   },
   {
    "duration": 10,
    "start_time": "2023-09-18T11:15:22.929Z"
   },
   {
    "duration": 9,
    "start_time": "2023-09-18T11:15:41.472Z"
   },
   {
    "duration": 145,
    "start_time": "2023-09-18T11:15:52.454Z"
   },
   {
    "duration": 11,
    "start_time": "2023-09-18T11:16:16.814Z"
   },
   {
    "duration": 17,
    "start_time": "2023-09-18T11:17:26.987Z"
   },
   {
    "duration": 11,
    "start_time": "2023-09-18T11:19:26.073Z"
   },
   {
    "duration": 13,
    "start_time": "2023-09-18T11:19:49.387Z"
   },
   {
    "duration": 11,
    "start_time": "2023-09-18T11:20:30.328Z"
   },
   {
    "duration": 118,
    "start_time": "2023-09-18T11:20:43.755Z"
   },
   {
    "duration": 174,
    "start_time": "2023-09-18T11:21:28.422Z"
   },
   {
    "duration": 14,
    "start_time": "2023-09-18T11:21:50.598Z"
   },
   {
    "duration": 95,
    "start_time": "2023-09-18T11:22:58.472Z"
   },
   {
    "duration": 97,
    "start_time": "2023-09-18T11:23:10.532Z"
   },
   {
    "duration": 222,
    "start_time": "2023-09-18T11:23:45.326Z"
   },
   {
    "duration": 236,
    "start_time": "2023-09-18T11:24:08.729Z"
   },
   {
    "duration": 240,
    "start_time": "2023-09-18T11:24:18.297Z"
   },
   {
    "duration": 364,
    "start_time": "2023-09-18T11:25:37.854Z"
   },
   {
    "duration": 496,
    "start_time": "2023-09-18T11:25:58.374Z"
   },
   {
    "duration": 387,
    "start_time": "2023-09-18T11:26:17.623Z"
   },
   {
    "duration": 143,
    "start_time": "2023-09-18T11:26:29.904Z"
   },
   {
    "duration": 54,
    "start_time": "2023-09-18T11:51:43.130Z"
   },
   {
    "duration": 14,
    "start_time": "2023-09-18T11:51:47.094Z"
   },
   {
    "duration": 18,
    "start_time": "2023-09-18T11:53:33.357Z"
   },
   {
    "duration": 13,
    "start_time": "2023-09-18T11:53:58.838Z"
   },
   {
    "duration": 50,
    "start_time": "2023-09-18T11:54:14.523Z"
   },
   {
    "duration": 14,
    "start_time": "2023-09-18T11:54:20.061Z"
   },
   {
    "duration": 218,
    "start_time": "2023-09-18T11:56:48.810Z"
   },
   {
    "duration": 198,
    "start_time": "2023-09-18T11:57:55.411Z"
   },
   {
    "duration": 6,
    "start_time": "2023-09-18T11:58:09.094Z"
   },
   {
    "duration": 14,
    "start_time": "2023-09-18T11:59:30.555Z"
   },
   {
    "duration": 33,
    "start_time": "2023-09-18T11:59:38.498Z"
   },
   {
    "duration": 401,
    "start_time": "2023-09-18T12:02:05.287Z"
   },
   {
    "duration": 98,
    "start_time": "2023-09-18T12:05:45.226Z"
   },
   {
    "duration": 106,
    "start_time": "2023-09-18T12:06:16.805Z"
   },
   {
    "duration": 19,
    "start_time": "2023-09-18T12:11:10.546Z"
   },
   {
    "duration": 13,
    "start_time": "2023-09-18T12:11:35.441Z"
   },
   {
    "duration": 37,
    "start_time": "2023-09-18T12:11:42.494Z"
   },
   {
    "duration": 21,
    "start_time": "2023-09-18T12:11:59.201Z"
   },
   {
    "duration": 242,
    "start_time": "2023-09-18T12:12:08.573Z"
   },
   {
    "duration": 193,
    "start_time": "2023-09-18T12:12:51.323Z"
   },
   {
    "duration": 244,
    "start_time": "2023-09-18T12:15:47.659Z"
   },
   {
    "duration": 312,
    "start_time": "2023-09-18T12:16:13.722Z"
   },
   {
    "duration": 221,
    "start_time": "2023-09-18T12:16:20.842Z"
   },
   {
    "duration": 222,
    "start_time": "2023-09-18T12:16:35.836Z"
   },
   {
    "duration": 13,
    "start_time": "2023-09-18T12:16:56.559Z"
   },
   {
    "duration": 272,
    "start_time": "2023-09-18T12:17:17.723Z"
   },
   {
    "duration": 293,
    "start_time": "2023-09-18T12:19:06.632Z"
   },
   {
    "duration": 266,
    "start_time": "2023-09-18T12:19:14.942Z"
   },
   {
    "duration": 12,
    "start_time": "2023-09-18T12:24:37.128Z"
   },
   {
    "duration": 255,
    "start_time": "2023-09-18T12:25:39.150Z"
   },
   {
    "duration": 246,
    "start_time": "2023-09-18T12:25:52.359Z"
   },
   {
    "duration": 237,
    "start_time": "2023-09-18T12:28:20.209Z"
   },
   {
    "duration": 20,
    "start_time": "2023-09-18T12:30:27.794Z"
   },
   {
    "duration": 141,
    "start_time": "2023-09-18T12:35:04.578Z"
   },
   {
    "duration": 182,
    "start_time": "2023-09-18T12:35:13.937Z"
   },
   {
    "duration": 2474,
    "start_time": "2023-09-18T12:41:22.547Z"
   },
   {
    "duration": 300,
    "start_time": "2023-09-18T12:42:19.232Z"
   },
   {
    "duration": 382,
    "start_time": "2023-09-18T12:42:39.233Z"
   },
   {
    "duration": 168,
    "start_time": "2023-09-18T12:49:12.464Z"
   },
   {
    "duration": 1453,
    "start_time": "2023-09-18T12:49:41.889Z"
   },
   {
    "duration": 1419,
    "start_time": "2023-09-18T12:51:33.011Z"
   },
   {
    "duration": 2087,
    "start_time": "2023-09-18T12:51:53.692Z"
   },
   {
    "duration": 11,
    "start_time": "2023-09-18T12:52:17.396Z"
   },
   {
    "duration": 11,
    "start_time": "2023-09-18T12:53:09.293Z"
   },
   {
    "duration": 11,
    "start_time": "2023-09-18T12:53:10.416Z"
   },
   {
    "duration": 10,
    "start_time": "2023-09-18T12:53:44.135Z"
   },
   {
    "duration": 1616,
    "start_time": "2023-09-18T12:56:56.279Z"
   },
   {
    "duration": 1952,
    "start_time": "2023-09-18T12:57:14.348Z"
   },
   {
    "duration": 1721,
    "start_time": "2023-09-18T12:57:40.115Z"
   },
   {
    "duration": 1846,
    "start_time": "2023-09-18T12:57:56.622Z"
   },
   {
    "duration": 21,
    "start_time": "2023-09-18T12:58:31.658Z"
   },
   {
    "duration": 9,
    "start_time": "2023-09-18T13:16:03.306Z"
   },
   {
    "duration": 29,
    "start_time": "2023-09-18T13:16:18.330Z"
   },
   {
    "duration": 1406,
    "start_time": "2023-09-18T13:16:52.124Z"
   },
   {
    "duration": 2583,
    "start_time": "2023-09-18T13:17:29.408Z"
   },
   {
    "duration": 13,
    "start_time": "2023-09-18T13:17:48.163Z"
   },
   {
    "duration": 15,
    "start_time": "2023-09-18T13:18:46.738Z"
   },
   {
    "duration": 15,
    "start_time": "2023-09-18T13:19:09.254Z"
   },
   {
    "duration": 12,
    "start_time": "2023-09-18T13:20:57.406Z"
   },
   {
    "duration": 18,
    "start_time": "2023-09-18T13:22:09.197Z"
   },
   {
    "duration": 20,
    "start_time": "2023-09-18T13:23:30.310Z"
   },
   {
    "duration": 11,
    "start_time": "2023-09-18T13:24:24.800Z"
   },
   {
    "duration": 60,
    "start_time": "2023-09-18T13:24:33.370Z"
   },
   {
    "duration": 35,
    "start_time": "2023-09-18T13:26:44.657Z"
   },
   {
    "duration": 13,
    "start_time": "2023-09-18T13:26:54.060Z"
   },
   {
    "duration": 67,
    "start_time": "2023-09-18T13:27:32.792Z"
   },
   {
    "duration": 1978,
    "start_time": "2023-09-18T13:28:08.799Z"
   },
   {
    "duration": 55,
    "start_time": "2023-09-18T13:28:19.565Z"
   },
   {
    "duration": 2127,
    "start_time": "2023-09-18T13:28:23.092Z"
   },
   {
    "duration": 2497,
    "start_time": "2023-09-18T13:28:28.502Z"
   },
   {
    "duration": 9,
    "start_time": "2023-09-18T13:28:40.734Z"
   },
   {
    "duration": 13,
    "start_time": "2023-09-18T13:29:50.528Z"
   },
   {
    "duration": 18,
    "start_time": "2023-09-18T13:30:07.968Z"
   },
   {
    "duration": 17,
    "start_time": "2023-09-18T13:30:26.588Z"
   },
   {
    "duration": 1986,
    "start_time": "2023-09-18T13:31:01.168Z"
   },
   {
    "duration": 13,
    "start_time": "2023-09-18T13:31:11.738Z"
   },
   {
    "duration": 2218,
    "start_time": "2023-09-18T13:32:08.333Z"
   },
   {
    "duration": 2451,
    "start_time": "2023-09-18T13:32:45.890Z"
   },
   {
    "duration": 2415,
    "start_time": "2023-09-18T13:33:40.302Z"
   },
   {
    "duration": 2663,
    "start_time": "2023-09-18T13:34:34.056Z"
   },
   {
    "duration": 11,
    "start_time": "2023-09-18T13:35:18.261Z"
   },
   {
    "duration": 24,
    "start_time": "2023-09-18T13:35:29.694Z"
   },
   {
    "duration": 30,
    "start_time": "2023-09-18T13:35:34.497Z"
   },
   {
    "duration": 2046,
    "start_time": "2023-09-18T13:35:41.600Z"
   },
   {
    "duration": 12,
    "start_time": "2023-09-18T13:36:04.452Z"
   },
   {
    "duration": 2231,
    "start_time": "2023-09-18T13:36:50.795Z"
   },
   {
    "duration": 10,
    "start_time": "2023-09-18T13:37:26.045Z"
   },
   {
    "duration": 2665,
    "start_time": "2023-09-18T13:37:37.867Z"
   },
   {
    "duration": 10,
    "start_time": "2023-09-18T13:37:53.410Z"
   },
   {
    "duration": 2239,
    "start_time": "2023-09-18T13:38:06.566Z"
   },
   {
    "duration": 1862,
    "start_time": "2023-09-18T13:57:19.109Z"
   },
   {
    "duration": 66,
    "start_time": "2023-09-18T13:58:34.057Z"
   },
   {
    "duration": 1963,
    "start_time": "2023-09-18T13:58:40.164Z"
   },
   {
    "duration": 14,
    "start_time": "2023-09-18T13:59:01.465Z"
   },
   {
    "duration": 9,
    "start_time": "2023-09-18T13:59:52.365Z"
   },
   {
    "duration": 11,
    "start_time": "2023-09-18T14:00:00.657Z"
   },
   {
    "duration": 2174,
    "start_time": "2023-09-18T14:00:12.668Z"
   },
   {
    "duration": 16,
    "start_time": "2023-09-18T14:00:33.797Z"
   },
   {
    "duration": 13,
    "start_time": "2023-09-18T14:01:33.618Z"
   },
   {
    "duration": 22,
    "start_time": "2023-09-18T14:01:37.918Z"
   },
   {
    "duration": 19,
    "start_time": "2023-09-18T14:03:30.057Z"
   },
   {
    "duration": 55,
    "start_time": "2023-09-18T14:03:32.879Z"
   },
   {
    "duration": 18,
    "start_time": "2023-09-18T14:03:35.221Z"
   },
   {
    "duration": 2020,
    "start_time": "2023-09-18T14:05:21.481Z"
   },
   {
    "duration": 1932,
    "start_time": "2023-09-18T14:05:24.111Z"
   },
   {
    "duration": 10,
    "start_time": "2023-09-18T14:05:58.752Z"
   },
   {
    "duration": 24,
    "start_time": "2023-09-18T14:06:03.206Z"
   },
   {
    "duration": 7,
    "start_time": "2023-09-18T14:06:07.362Z"
   },
   {
    "duration": 13,
    "start_time": "2023-09-18T14:06:11.385Z"
   },
   {
    "duration": 12,
    "start_time": "2023-09-18T14:07:48.571Z"
   },
   {
    "duration": 54,
    "start_time": "2023-09-18T14:38:37.152Z"
   },
   {
    "duration": 51,
    "start_time": "2023-09-18T14:39:54.026Z"
   },
   {
    "duration": 12,
    "start_time": "2023-09-18T14:40:49.144Z"
   },
   {
    "duration": 19,
    "start_time": "2023-09-18T14:40:59.282Z"
   },
   {
    "duration": 55,
    "start_time": "2023-09-18T14:44:51.276Z"
   },
   {
    "duration": 21,
    "start_time": "2023-09-18T14:44:51.654Z"
   },
   {
    "duration": 14,
    "start_time": "2023-09-18T14:45:00.974Z"
   },
   {
    "duration": 9,
    "start_time": "2023-09-18T14:45:04.233Z"
   },
   {
    "duration": 10,
    "start_time": "2023-09-18T14:45:14.069Z"
   },
   {
    "duration": 6,
    "start_time": "2023-09-18T14:45:17.727Z"
   },
   {
    "duration": 2622,
    "start_time": "2023-09-18T14:45:41.687Z"
   },
   {
    "duration": 4,
    "start_time": "2023-09-18T14:45:44.311Z"
   },
   {
    "duration": 312,
    "start_time": "2023-09-18T14:45:44.316Z"
   },
   {
    "duration": 6,
    "start_time": "2023-09-18T14:45:44.630Z"
   },
   {
    "duration": 19,
    "start_time": "2023-09-18T14:45:44.637Z"
   },
   {
    "duration": 15,
    "start_time": "2023-09-18T14:45:44.658Z"
   },
   {
    "duration": 21,
    "start_time": "2023-09-18T14:45:44.675Z"
   },
   {
    "duration": 12,
    "start_time": "2023-09-18T14:45:44.698Z"
   },
   {
    "duration": 13,
    "start_time": "2023-09-18T14:45:44.712Z"
   },
   {
    "duration": 54,
    "start_time": "2023-09-18T14:45:44.728Z"
   },
   {
    "duration": 33,
    "start_time": "2023-09-18T14:45:49.816Z"
   },
   {
    "duration": 43,
    "start_time": "2023-09-18T14:45:50.592Z"
   },
   {
    "duration": 11,
    "start_time": "2023-09-18T14:45:51.561Z"
   },
   {
    "duration": 11,
    "start_time": "2023-09-18T14:45:52.422Z"
   },
   {
    "duration": 36,
    "start_time": "2023-09-18T14:45:53.212Z"
   },
   {
    "duration": 65,
    "start_time": "2023-09-18T14:45:53.977Z"
   },
   {
    "duration": 63,
    "start_time": "2023-09-18T14:45:54.699Z"
   },
   {
    "duration": 119,
    "start_time": "2023-09-18T14:45:55.427Z"
   },
   {
    "duration": 5,
    "start_time": "2023-09-18T14:45:56.114Z"
   },
   {
    "duration": 5,
    "start_time": "2023-09-18T14:45:56.514Z"
   },
   {
    "duration": 8,
    "start_time": "2023-09-18T14:45:57.214Z"
   },
   {
    "duration": 5,
    "start_time": "2023-09-18T14:45:57.973Z"
   },
   {
    "duration": 5,
    "start_time": "2023-09-18T14:45:58.921Z"
   },
   {
    "duration": 11,
    "start_time": "2023-09-18T14:45:59.292Z"
   },
   {
    "duration": 5,
    "start_time": "2023-09-18T14:45:59.572Z"
   },
   {
    "duration": 4,
    "start_time": "2023-09-18T14:45:59.921Z"
   },
   {
    "duration": 11,
    "start_time": "2023-09-18T14:46:00.724Z"
   },
   {
    "duration": 8,
    "start_time": "2023-09-18T14:46:01.584Z"
   },
   {
    "duration": 40,
    "start_time": "2023-09-18T14:46:02.236Z"
   },
   {
    "duration": 40,
    "start_time": "2023-09-18T14:46:04.112Z"
   },
   {
    "duration": 11,
    "start_time": "2023-09-18T14:46:04.450Z"
   },
   {
    "duration": 42,
    "start_time": "2023-09-18T14:46:04.823Z"
   },
   {
    "duration": 17,
    "start_time": "2023-09-18T14:46:05.716Z"
   },
   {
    "duration": 6,
    "start_time": "2023-09-18T14:46:06.100Z"
   },
   {
    "duration": 8,
    "start_time": "2023-09-18T14:46:07.001Z"
   },
   {
    "duration": 10,
    "start_time": "2023-09-18T14:46:07.403Z"
   },
   {
    "duration": 9,
    "start_time": "2023-09-18T14:46:08.186Z"
   },
   {
    "duration": 26,
    "start_time": "2023-09-18T14:46:08.949Z"
   },
   {
    "duration": 107,
    "start_time": "2023-09-18T14:46:09.397Z"
   },
   {
    "duration": 25,
    "start_time": "2023-09-18T14:46:10.242Z"
   },
   {
    "duration": 44,
    "start_time": "2023-09-18T14:46:10.764Z"
   },
   {
    "duration": 143,
    "start_time": "2023-09-18T14:46:11.233Z"
   },
   {
    "duration": 95,
    "start_time": "2023-09-18T14:46:12.053Z"
   },
   {
    "duration": 10,
    "start_time": "2023-09-18T14:46:14.264Z"
   },
   {
    "duration": 7,
    "start_time": "2023-09-18T14:46:14.654Z"
   },
   {
    "duration": 175,
    "start_time": "2023-09-18T14:46:15.012Z"
   },
   {
    "duration": 28,
    "start_time": "2023-09-18T14:46:15.864Z"
   },
   {
    "duration": 16,
    "start_time": "2023-09-18T14:46:16.764Z"
   },
   {
    "duration": 170,
    "start_time": "2023-09-18T14:46:17.133Z"
   },
   {
    "duration": 15,
    "start_time": "2023-09-18T14:46:17.450Z"
   },
   {
    "duration": 143,
    "start_time": "2023-09-18T14:46:17.832Z"
   },
   {
    "duration": 46,
    "start_time": "2023-09-18T14:46:20.717Z"
   },
   {
    "duration": 217,
    "start_time": "2023-09-18T14:46:21.343Z"
   },
   {
    "duration": 38,
    "start_time": "2023-09-18T14:46:24.241Z"
   },
   {
    "duration": 373,
    "start_time": "2023-09-18T14:46:25.285Z"
   },
   {
    "duration": 151,
    "start_time": "2023-09-18T14:46:26.906Z"
   },
   {
    "duration": 18,
    "start_time": "2023-09-18T14:46:28.007Z"
   },
   {
    "duration": 257,
    "start_time": "2023-09-18T14:46:28.544Z"
   },
   {
    "duration": 269,
    "start_time": "2023-09-18T14:46:29.525Z"
   },
   {
    "duration": 156,
    "start_time": "2023-09-18T14:46:30.661Z"
   },
   {
    "duration": 323,
    "start_time": "2023-09-18T14:46:31.174Z"
   },
   {
    "duration": 301,
    "start_time": "2023-09-18T14:46:33.550Z"
   },
   {
    "duration": 10,
    "start_time": "2023-09-18T14:46:34.030Z"
   },
   {
    "duration": 11,
    "start_time": "2023-09-18T14:46:35.103Z"
   },
   {
    "duration": 12,
    "start_time": "2023-09-18T14:46:42.766Z"
   },
   {
    "duration": 20,
    "start_time": "2023-09-18T14:46:43.814Z"
   },
   {
    "duration": 51,
    "start_time": "2023-09-18T14:46:47.798Z"
   },
   {
    "duration": 19,
    "start_time": "2023-09-18T14:46:48.673Z"
   },
   {
    "duration": 60,
    "start_time": "2023-09-18T15:03:29.431Z"
   },
   {
    "duration": 48,
    "start_time": "2023-09-18T15:03:39.204Z"
   },
   {
    "duration": 14,
    "start_time": "2023-09-18T15:04:49.223Z"
   },
   {
    "duration": 13,
    "start_time": "2023-09-18T15:05:04.721Z"
   },
   {
    "duration": 2585,
    "start_time": "2023-09-18T15:05:37.663Z"
   },
   {
    "duration": 3,
    "start_time": "2023-09-18T15:05:40.251Z"
   },
   {
    "duration": 381,
    "start_time": "2023-09-18T15:05:40.256Z"
   },
   {
    "duration": 5,
    "start_time": "2023-09-18T15:05:40.640Z"
   },
   {
    "duration": 77,
    "start_time": "2023-09-18T15:05:40.647Z"
   },
   {
    "duration": 52,
    "start_time": "2023-09-18T15:05:40.725Z"
   },
   {
    "duration": 57,
    "start_time": "2023-09-18T15:05:40.779Z"
   },
   {
    "duration": 45,
    "start_time": "2023-09-18T15:05:40.838Z"
   },
   {
    "duration": 77,
    "start_time": "2023-09-18T15:05:40.888Z"
   },
   {
    "duration": 69,
    "start_time": "2023-09-18T15:05:40.967Z"
   },
   {
    "duration": 78,
    "start_time": "2023-09-18T15:05:41.038Z"
   },
   {
    "duration": 106,
    "start_time": "2023-09-18T15:05:41.118Z"
   },
   {
    "duration": 12,
    "start_time": "2023-09-18T15:05:41.226Z"
   },
   {
    "duration": 14,
    "start_time": "2023-09-18T15:05:41.576Z"
   },
   {
    "duration": 37,
    "start_time": "2023-09-18T15:05:41.805Z"
   },
   {
    "duration": 70,
    "start_time": "2023-09-18T15:05:42.228Z"
   },
   {
    "duration": 72,
    "start_time": "2023-09-18T15:05:44.115Z"
   },
   {
    "duration": 138,
    "start_time": "2023-09-18T15:05:44.190Z"
   },
   {
    "duration": 6,
    "start_time": "2023-09-18T15:05:44.330Z"
   },
   {
    "duration": 13,
    "start_time": "2023-09-18T15:05:45.289Z"
   },
   {
    "duration": 31,
    "start_time": "2023-09-18T15:05:45.308Z"
   },
   {
    "duration": 38,
    "start_time": "2023-09-18T15:05:45.340Z"
   },
   {
    "duration": 56,
    "start_time": "2023-09-18T15:05:45.381Z"
   },
   {
    "duration": 45,
    "start_time": "2023-09-18T15:05:45.440Z"
   },
   {
    "duration": 37,
    "start_time": "2023-09-18T15:05:45.489Z"
   },
   {
    "duration": 39,
    "start_time": "2023-09-18T15:05:45.528Z"
   },
   {
    "duration": 11,
    "start_time": "2023-09-18T15:05:45.805Z"
   },
   {
    "duration": 5,
    "start_time": "2023-09-18T15:05:46.144Z"
   },
   {
    "duration": 36,
    "start_time": "2023-09-18T15:05:46.506Z"
   },
   {
    "duration": 53,
    "start_time": "2023-09-18T15:05:47.143Z"
   },
   {
    "duration": 13,
    "start_time": "2023-09-18T15:05:47.251Z"
   },
   {
    "duration": 69,
    "start_time": "2023-09-18T15:05:47.436Z"
   },
   {
    "duration": 17,
    "start_time": "2023-09-18T15:05:47.808Z"
   },
   {
    "duration": 5,
    "start_time": "2023-09-18T15:05:47.981Z"
   },
   {
    "duration": 7,
    "start_time": "2023-09-18T15:05:48.369Z"
   },
   {
    "duration": 10,
    "start_time": "2023-09-18T15:05:48.600Z"
   },
   {
    "duration": 3,
    "start_time": "2023-09-18T15:05:49.024Z"
   },
   {
    "duration": 20,
    "start_time": "2023-09-18T15:05:49.404Z"
   },
   {
    "duration": 105,
    "start_time": "2023-09-18T15:05:50.007Z"
   },
   {
    "duration": 24,
    "start_time": "2023-09-18T15:05:50.115Z"
   },
   {
    "duration": 53,
    "start_time": "2023-09-18T15:05:50.141Z"
   },
   {
    "duration": 146,
    "start_time": "2023-09-18T15:05:50.293Z"
   },
   {
    "duration": 92,
    "start_time": "2023-09-18T15:05:50.659Z"
   },
   {
    "duration": 18,
    "start_time": "2023-09-18T15:05:51.881Z"
   },
   {
    "duration": 8,
    "start_time": "2023-09-18T15:05:52.031Z"
   },
   {
    "duration": 164,
    "start_time": "2023-09-18T15:05:52.224Z"
   },
   {
    "duration": 16,
    "start_time": "2023-09-18T15:05:52.601Z"
   },
   {
    "duration": 11,
    "start_time": "2023-09-18T15:05:52.995Z"
   },
   {
    "duration": 134,
    "start_time": "2023-09-18T15:05:53.186Z"
   },
   {
    "duration": 13,
    "start_time": "2023-09-18T15:05:53.366Z"
   },
   {
    "duration": 171,
    "start_time": "2023-09-18T15:05:53.581Z"
   },
   {
    "duration": 60,
    "start_time": "2023-09-18T15:05:54.589Z"
   },
   {
    "duration": 262,
    "start_time": "2023-09-18T15:05:55.066Z"
   },
   {
    "duration": 25,
    "start_time": "2023-09-18T15:05:55.931Z"
   },
   {
    "duration": 469,
    "start_time": "2023-09-18T15:05:56.266Z"
   },
   {
    "duration": 179,
    "start_time": "2023-09-18T15:05:56.737Z"
   },
   {
    "duration": 30,
    "start_time": "2023-09-18T15:05:57.037Z"
   },
   {
    "duration": 283,
    "start_time": "2023-09-18T15:05:57.249Z"
   },
   {
    "duration": 401,
    "start_time": "2023-09-18T15:05:57.701Z"
   },
   {
    "duration": 144,
    "start_time": "2023-09-18T15:05:58.601Z"
   },
   {
    "duration": 219,
    "start_time": "2023-09-18T15:06:01.066Z"
   },
   {
    "duration": 335,
    "start_time": "2023-09-18T15:06:02.505Z"
   },
   {
    "duration": 17,
    "start_time": "2023-09-18T15:06:02.844Z"
   },
   {
    "duration": 15,
    "start_time": "2023-09-18T15:06:03.002Z"
   },
   {
    "duration": 34,
    "start_time": "2023-09-18T15:06:03.573Z"
   },
   {
    "duration": 62,
    "start_time": "2023-09-18T15:06:05.473Z"
   },
   {
    "duration": 13,
    "start_time": "2023-09-18T15:06:06.722Z"
   },
   {
    "duration": 16,
    "start_time": "2023-09-18T15:06:07.354Z"
   },
   {
    "duration": 11,
    "start_time": "2023-09-18T15:06:07.943Z"
   },
   {
    "duration": 9,
    "start_time": "2023-09-18T15:06:08.845Z"
   },
   {
    "duration": 7,
    "start_time": "2023-09-18T15:06:09.903Z"
   },
   {
    "duration": 4,
    "start_time": "2023-09-18T15:08:25.653Z"
   },
   {
    "duration": 5,
    "start_time": "2023-09-18T15:11:43.947Z"
   },
   {
    "duration": 12,
    "start_time": "2023-09-18T15:24:11.843Z"
   },
   {
    "duration": 4,
    "start_time": "2023-09-18T15:24:12.146Z"
   },
   {
    "duration": 8,
    "start_time": "2023-09-18T15:24:13.253Z"
   },
   {
    "duration": 11,
    "start_time": "2023-09-18T15:24:13.763Z"
   },
   {
    "duration": 5,
    "start_time": "2023-09-18T15:24:14.346Z"
   },
   {
    "duration": 7,
    "start_time": "2023-09-18T15:25:35.935Z"
   },
   {
    "duration": 99,
    "start_time": "2023-09-18T16:26:29.219Z"
   },
   {
    "duration": 57,
    "start_time": "2023-09-18T20:31:16.010Z"
   },
   {
    "duration": 3400,
    "start_time": "2023-09-18T20:31:22.829Z"
   },
   {
    "duration": 1381,
    "start_time": "2023-09-18T20:31:26.231Z"
   },
   {
    "duration": 642,
    "start_time": "2023-09-18T20:31:27.613Z"
   },
   {
    "duration": 3,
    "start_time": "2023-09-18T20:31:28.257Z"
   },
   {
    "duration": 15,
    "start_time": "2023-09-18T20:31:28.261Z"
   },
   {
    "duration": 15,
    "start_time": "2023-09-18T20:31:28.277Z"
   },
   {
    "duration": 13,
    "start_time": "2023-09-18T20:31:28.294Z"
   },
   {
    "duration": 19,
    "start_time": "2023-09-18T20:31:28.308Z"
   },
   {
    "duration": 22,
    "start_time": "2023-09-18T20:31:28.328Z"
   },
   {
    "duration": 34,
    "start_time": "2023-09-18T20:31:28.352Z"
   },
   {
    "duration": 34,
    "start_time": "2023-09-18T20:31:28.388Z"
   },
   {
    "duration": 57,
    "start_time": "2023-09-18T20:31:28.424Z"
   },
   {
    "duration": 10,
    "start_time": "2023-09-18T20:31:28.483Z"
   },
   {
    "duration": 10,
    "start_time": "2023-09-18T20:31:28.494Z"
   },
   {
    "duration": 74,
    "start_time": "2023-09-18T20:31:28.506Z"
   },
   {
    "duration": 51,
    "start_time": "2023-09-18T20:31:28.582Z"
   },
   {
    "duration": 71,
    "start_time": "2023-09-18T20:31:28.635Z"
   },
   {
    "duration": 123,
    "start_time": "2023-09-18T20:31:28.707Z"
   },
   {
    "duration": 4,
    "start_time": "2023-09-18T20:31:28.831Z"
   },
   {
    "duration": 24,
    "start_time": "2023-09-18T20:31:28.836Z"
   },
   {
    "duration": 7,
    "start_time": "2023-09-18T20:31:28.862Z"
   },
   {
    "duration": 14,
    "start_time": "2023-09-18T20:31:28.871Z"
   },
   {
    "duration": 4,
    "start_time": "2023-09-18T20:31:29.108Z"
   },
   {
    "duration": 11,
    "start_time": "2023-09-18T20:31:29.301Z"
   },
   {
    "duration": 5,
    "start_time": "2023-09-18T20:31:29.441Z"
   },
   {
    "duration": 5,
    "start_time": "2023-09-18T20:31:29.637Z"
   },
   {
    "duration": 10,
    "start_time": "2023-09-18T20:31:30.029Z"
   },
   {
    "duration": 6,
    "start_time": "2023-09-18T20:31:30.348Z"
   },
   {
    "duration": 31,
    "start_time": "2023-09-18T20:31:30.689Z"
   },
   {
    "duration": 26,
    "start_time": "2023-09-18T20:31:31.382Z"
   },
   {
    "duration": 13,
    "start_time": "2023-09-18T20:31:31.542Z"
   },
   {
    "duration": 36,
    "start_time": "2023-09-18T20:31:31.721Z"
   },
   {
    "duration": 13,
    "start_time": "2023-09-18T20:31:32.141Z"
   },
   {
    "duration": 3,
    "start_time": "2023-09-18T20:31:32.290Z"
   },
   {
    "duration": 7,
    "start_time": "2023-09-18T20:31:32.897Z"
   },
   {
    "duration": 6,
    "start_time": "2023-09-18T20:31:33.149Z"
   },
   {
    "duration": 3,
    "start_time": "2023-09-18T20:31:33.481Z"
   },
   {
    "duration": 26,
    "start_time": "2023-09-18T20:31:33.877Z"
   },
   {
    "duration": 84,
    "start_time": "2023-09-18T20:31:34.021Z"
   },
   {
    "duration": 23,
    "start_time": "2023-09-18T20:31:34.408Z"
   },
   {
    "duration": 31,
    "start_time": "2023-09-18T20:31:34.561Z"
   },
   {
    "duration": 112,
    "start_time": "2023-09-18T20:31:34.761Z"
   },
   {
    "duration": 71,
    "start_time": "2023-09-18T20:31:35.133Z"
   },
   {
    "duration": 17,
    "start_time": "2023-09-18T20:31:35.881Z"
   },
   {
    "duration": 8,
    "start_time": "2023-09-18T20:31:36.065Z"
   },
   {
    "duration": 133,
    "start_time": "2023-09-18T20:31:36.289Z"
   },
   {
    "duration": 14,
    "start_time": "2023-09-18T20:31:36.622Z"
   },
   {
    "duration": 10,
    "start_time": "2023-09-18T20:31:37.009Z"
   },
   {
    "duration": 98,
    "start_time": "2023-09-18T20:31:37.202Z"
   },
   {
    "duration": 12,
    "start_time": "2023-09-18T20:31:37.362Z"
   },
   {
    "duration": 135,
    "start_time": "2023-09-18T20:31:37.609Z"
   },
   {
    "duration": 62,
    "start_time": "2023-09-18T20:31:38.890Z"
   },
   {
    "duration": 249,
    "start_time": "2023-09-18T20:31:39.085Z"
   },
   {
    "duration": 18,
    "start_time": "2023-09-18T20:31:39.516Z"
   },
   {
    "duration": 15,
    "start_time": "2023-09-18T20:31:39.924Z"
   },
   {
    "duration": 125,
    "start_time": "2023-09-18T20:31:40.308Z"
   },
   {
    "duration": 11,
    "start_time": "2023-09-18T20:31:40.749Z"
   },
   {
    "duration": 10,
    "start_time": "2023-09-18T20:31:40.921Z"
   },
   {
    "duration": 1396,
    "start_time": "2023-09-18T20:31:41.410Z"
   },
   {
    "duration": 0,
    "start_time": "2023-09-18T20:31:42.808Z"
   },
   {
    "duration": 0,
    "start_time": "2023-09-18T20:31:42.809Z"
   },
   {
    "duration": 1530,
    "start_time": "2023-09-18T20:31:43.017Z"
   },
   {
    "duration": 0,
    "start_time": "2023-09-18T20:31:44.549Z"
   },
   {
    "duration": 0,
    "start_time": "2023-09-18T20:31:44.550Z"
   },
   {
    "duration": 0,
    "start_time": "2023-09-18T20:31:44.550Z"
   },
   {
    "duration": 46,
    "start_time": "2023-09-18T20:31:45.780Z"
   },
   {
    "duration": 12,
    "start_time": "2023-09-18T20:31:46.169Z"
   },
   {
    "duration": 26,
    "start_time": "2023-09-18T20:31:46.602Z"
   },
   {
    "duration": 9,
    "start_time": "2023-09-18T20:31:46.761Z"
   },
   {
    "duration": 8,
    "start_time": "2023-09-18T20:31:47.181Z"
   },
   {
    "duration": 8,
    "start_time": "2023-09-18T20:31:47.377Z"
   },
   {
    "duration": 10,
    "start_time": "2023-09-18T20:31:47.607Z"
   },
   {
    "duration": 10,
    "start_time": "2023-09-18T20:32:57.145Z"
   },
   {
    "duration": 11,
    "start_time": "2023-09-18T20:33:07.673Z"
   },
   {
    "duration": 216,
    "start_time": "2023-09-18T20:33:08.645Z"
   },
   {
    "duration": 9,
    "start_time": "2023-09-18T20:33:37.663Z"
   },
   {
    "duration": 36,
    "start_time": "2023-09-18T20:33:57.622Z"
   },
   {
    "duration": 184,
    "start_time": "2023-09-18T20:34:03.083Z"
   },
   {
    "duration": 22,
    "start_time": "2023-09-18T20:34:12.819Z"
   },
   {
    "duration": 430,
    "start_time": "2023-09-18T20:34:14.910Z"
   },
   {
    "duration": 107,
    "start_time": "2023-09-18T20:34:19.127Z"
   },
   {
    "duration": 18,
    "start_time": "2023-09-18T20:34:25.353Z"
   },
   {
    "duration": 226,
    "start_time": "2023-09-18T20:34:26.238Z"
   },
   {
    "duration": 213,
    "start_time": "2023-09-18T20:34:27.215Z"
   },
   {
    "duration": 119,
    "start_time": "2023-09-18T20:34:29.085Z"
   },
   {
    "duration": 148,
    "start_time": "2023-09-18T20:34:29.914Z"
   },
   {
    "duration": 240,
    "start_time": "2023-09-18T20:34:32.531Z"
   },
   {
    "duration": 10,
    "start_time": "2023-09-18T20:34:32.873Z"
   },
   {
    "duration": 9,
    "start_time": "2023-09-18T20:34:33.660Z"
   },
   {
    "duration": 26,
    "start_time": "2023-09-18T20:34:34.673Z"
   },
   {
    "duration": 43,
    "start_time": "2023-09-18T20:34:36.769Z"
   },
   {
    "duration": 8,
    "start_time": "2023-09-18T20:34:37.681Z"
   },
   {
    "duration": 27,
    "start_time": "2023-09-18T20:34:38.558Z"
   },
   {
    "duration": 9,
    "start_time": "2023-09-18T20:34:39.176Z"
   },
   {
    "duration": 243,
    "start_time": "2023-09-18T20:39:54.363Z"
   },
   {
    "duration": 207,
    "start_time": "2023-09-18T20:40:05.435Z"
   },
   {
    "duration": 258,
    "start_time": "2023-09-18T20:40:33.666Z"
   },
   {
    "duration": 281,
    "start_time": "2023-09-18T20:41:29.394Z"
   },
   {
    "duration": 187,
    "start_time": "2023-09-18T20:41:47.793Z"
   },
   {
    "duration": 6,
    "start_time": "2023-09-18T20:41:56.166Z"
   },
   {
    "duration": 129,
    "start_time": "2023-09-18T20:42:40.198Z"
   },
   {
    "duration": 108,
    "start_time": "2023-09-18T20:42:55.334Z"
   },
   {
    "duration": 7,
    "start_time": "2023-09-18T20:44:02.976Z"
   },
   {
    "duration": 12,
    "start_time": "2023-09-18T20:44:15.124Z"
   },
   {
    "duration": 7,
    "start_time": "2023-09-18T20:44:17.864Z"
   },
   {
    "duration": 10,
    "start_time": "2023-09-18T20:45:01.536Z"
   },
   {
    "duration": 5,
    "start_time": "2023-09-18T20:45:03.456Z"
   },
   {
    "duration": 7,
    "start_time": "2023-09-18T20:45:58.194Z"
   },
   {
    "duration": 10,
    "start_time": "2023-09-18T20:45:58.466Z"
   },
   {
    "duration": 5,
    "start_time": "2023-09-18T20:45:58.973Z"
   },
   {
    "duration": 9,
    "start_time": "2023-09-18T20:46:06.481Z"
   },
   {
    "duration": 7,
    "start_time": "2023-09-18T20:46:08.714Z"
   },
   {
    "duration": 4,
    "start_time": "2023-09-18T20:46:33.205Z"
   },
   {
    "duration": 5,
    "start_time": "2023-09-18T20:47:24.110Z"
   },
   {
    "duration": 9,
    "start_time": "2023-09-18T20:48:31.574Z"
   },
   {
    "duration": 10,
    "start_time": "2023-09-18T20:48:32.085Z"
   },
   {
    "duration": 6,
    "start_time": "2023-09-18T20:48:32.833Z"
   },
   {
    "duration": 88,
    "start_time": "2023-09-18T20:48:43.983Z"
   },
   {
    "duration": 85,
    "start_time": "2023-09-18T21:24:26.447Z"
   },
   {
    "duration": 9,
    "start_time": "2023-09-18T21:25:07.145Z"
   },
   {
    "duration": 5,
    "start_time": "2023-09-18T21:25:08.281Z"
   },
   {
    "duration": 13,
    "start_time": "2023-09-18T21:25:09.152Z"
   },
   {
    "duration": 5,
    "start_time": "2023-09-18T21:25:09.800Z"
   },
   {
    "duration": 13,
    "start_time": "2023-09-18T21:34:37.494Z"
   },
   {
    "duration": 15,
    "start_time": "2023-09-18T21:35:31.266Z"
   },
   {
    "duration": 5,
    "start_time": "2023-09-18T21:35:32.137Z"
   },
   {
    "duration": 16,
    "start_time": "2023-09-18T21:35:32.473Z"
   },
   {
    "duration": 4,
    "start_time": "2023-09-18T21:35:32.837Z"
   },
   {
    "duration": 7,
    "start_time": "2023-09-18T21:35:36.589Z"
   },
   {
    "duration": 8,
    "start_time": "2023-09-18T21:35:37.211Z"
   },
   {
    "duration": 5,
    "start_time": "2023-09-18T21:35:37.844Z"
   },
   {
    "duration": 3235,
    "start_time": "2023-09-20T19:59:06.844Z"
   },
   {
    "duration": 1414,
    "start_time": "2023-09-20T19:59:10.082Z"
   },
   {
    "duration": 858,
    "start_time": "2023-09-20T19:59:55.959Z"
   },
   {
    "duration": 267,
    "start_time": "2023-09-20T19:59:59.436Z"
   },
   {
    "duration": 3,
    "start_time": "2023-09-20T19:59:59.850Z"
   },
   {
    "duration": 11,
    "start_time": "2023-09-20T20:00:00.509Z"
   },
   {
    "duration": 11,
    "start_time": "2023-09-20T20:00:01.119Z"
   },
   {
    "duration": 8,
    "start_time": "2023-09-20T20:00:02.015Z"
   },
   {
    "duration": 10,
    "start_time": "2023-09-20T20:00:02.497Z"
   },
   {
    "duration": 10,
    "start_time": "2023-09-20T20:00:03.047Z"
   },
   {
    "duration": 33,
    "start_time": "2023-09-20T20:00:03.538Z"
   },
   {
    "duration": 33,
    "start_time": "2023-09-20T20:01:15.318Z"
   },
   {
    "duration": 28,
    "start_time": "2023-09-20T20:01:31.857Z"
   },
   {
    "duration": 40,
    "start_time": "2023-09-20T20:01:32.763Z"
   },
   {
    "duration": 16,
    "start_time": "2023-09-20T20:01:34.210Z"
   },
   {
    "duration": 10,
    "start_time": "2023-09-20T20:01:35.352Z"
   },
   {
    "duration": 30,
    "start_time": "2023-09-20T20:01:48.342Z"
   },
   {
    "duration": 51,
    "start_time": "2023-09-20T20:01:50.345Z"
   },
   {
    "duration": 11,
    "start_time": "2023-09-20T20:05:07.962Z"
   },
   {
    "duration": 34,
    "start_time": "2023-09-20T20:05:08.712Z"
   },
   {
    "duration": 11,
    "start_time": "2023-09-20T20:05:09.194Z"
   },
   {
    "duration": 10,
    "start_time": "2023-09-20T20:05:09.723Z"
   },
   {
    "duration": 27,
    "start_time": "2023-09-20T20:05:11.275Z"
   },
   {
    "duration": 48,
    "start_time": "2023-09-20T20:05:12.357Z"
   },
   {
    "duration": 53,
    "start_time": "2023-09-20T20:05:13.121Z"
   },
   {
    "duration": 97,
    "start_time": "2023-09-20T20:05:13.903Z"
   },
   {
    "duration": 5,
    "start_time": "2023-09-20T20:05:14.745Z"
   },
   {
    "duration": 4,
    "start_time": "2023-09-20T20:05:15.123Z"
   },
   {
    "duration": 8,
    "start_time": "2023-09-20T20:05:15.952Z"
   },
   {
    "duration": 5,
    "start_time": "2023-09-20T20:05:16.893Z"
   },
   {
    "duration": 4,
    "start_time": "2023-09-20T20:05:17.776Z"
   },
   {
    "duration": 12,
    "start_time": "2023-09-20T20:05:18.308Z"
   },
   {
    "duration": 4,
    "start_time": "2023-09-20T20:05:18.789Z"
   },
   {
    "duration": 4,
    "start_time": "2023-09-20T20:05:19.157Z"
   },
   {
    "duration": 9,
    "start_time": "2023-09-20T20:05:19.864Z"
   },
   {
    "duration": 4,
    "start_time": "2023-09-20T20:05:20.484Z"
   },
   {
    "duration": 30,
    "start_time": "2023-09-20T20:05:21.449Z"
   },
   {
    "duration": 26,
    "start_time": "2023-09-20T20:08:25.184Z"
   },
   {
    "duration": 8,
    "start_time": "2023-09-20T20:09:09.694Z"
   },
   {
    "duration": 34,
    "start_time": "2023-09-20T20:09:10.292Z"
   },
   {
    "duration": 91,
    "start_time": "2023-09-20T20:10:03.577Z"
   },
   {
    "duration": 24,
    "start_time": "2023-09-20T20:10:07.619Z"
   },
   {
    "duration": 9,
    "start_time": "2023-09-20T20:10:08.924Z"
   },
   {
    "duration": 34,
    "start_time": "2023-09-20T20:10:09.396Z"
   },
   {
    "duration": 14,
    "start_time": "2023-09-20T20:10:10.453Z"
   },
   {
    "duration": 14,
    "start_time": "2023-09-20T20:10:15.121Z"
   },
   {
    "duration": 3,
    "start_time": "2023-09-20T20:10:15.941Z"
   },
   {
    "duration": 8,
    "start_time": "2023-09-20T20:11:07.778Z"
   },
   {
    "duration": 6,
    "start_time": "2023-09-20T20:11:08.257Z"
   },
   {
    "duration": 3,
    "start_time": "2023-09-20T20:11:11.616Z"
   },
   {
    "duration": 17,
    "start_time": "2023-09-20T20:11:30.036Z"
   },
   {
    "duration": 79,
    "start_time": "2023-09-20T20:11:32.948Z"
   },
   {
    "duration": 22,
    "start_time": "2023-09-20T20:12:07.925Z"
   },
   {
    "duration": 30,
    "start_time": "2023-09-20T20:12:22.786Z"
   },
   {
    "duration": 29,
    "start_time": "2023-09-20T20:20:43.124Z"
   },
   {
    "duration": 104,
    "start_time": "2023-09-20T20:20:43.831Z"
   },
   {
    "duration": 66,
    "start_time": "2023-09-20T20:20:52.427Z"
   },
   {
    "duration": 9,
    "start_time": "2023-09-20T20:23:06.923Z"
   },
   {
    "duration": 6,
    "start_time": "2023-09-20T20:23:11.477Z"
   },
   {
    "duration": 123,
    "start_time": "2023-09-20T20:23:12.353Z"
   },
   {
    "duration": 15,
    "start_time": "2023-09-20T20:24:39.818Z"
   },
   {
    "duration": 19,
    "start_time": "2023-09-20T20:25:14.023Z"
   },
   {
    "duration": 18,
    "start_time": "2023-09-20T20:26:42.624Z"
   },
   {
    "duration": 15,
    "start_time": "2023-09-20T20:26:55.289Z"
   },
   {
    "duration": 14,
    "start_time": "2023-09-20T20:27:14.970Z"
   },
   {
    "duration": 11,
    "start_time": "2023-09-20T20:30:01.759Z"
   },
   {
    "duration": 96,
    "start_time": "2023-09-20T20:30:06.564Z"
   },
   {
    "duration": 13,
    "start_time": "2023-09-20T20:34:12.359Z"
   },
   {
    "duration": 12,
    "start_time": "2023-09-20T20:34:47.858Z"
   },
   {
    "duration": 126,
    "start_time": "2023-09-20T20:34:49.622Z"
   },
   {
    "duration": 138,
    "start_time": "2023-09-20T20:35:18.889Z"
   },
   {
    "duration": 187,
    "start_time": "2023-09-20T20:35:24.572Z"
   },
   {
    "duration": 135,
    "start_time": "2023-09-20T20:35:59.571Z"
   },
   {
    "duration": 40,
    "start_time": "2023-09-20T20:39:43.980Z"
   },
   {
    "duration": 190,
    "start_time": "2023-09-20T20:39:44.695Z"
   },
   {
    "duration": 39,
    "start_time": "2023-09-20T20:40:50.635Z"
   },
   {
    "duration": 204,
    "start_time": "2023-09-20T20:40:51.124Z"
   },
   {
    "duration": 21,
    "start_time": "2023-09-20T20:40:52.250Z"
   },
   {
    "duration": 378,
    "start_time": "2023-09-20T20:41:23.412Z"
   },
   {
    "duration": 301,
    "start_time": "2023-09-20T20:41:30.836Z"
   },
   {
    "duration": 299,
    "start_time": "2023-09-20T20:41:36.345Z"
   },
   {
    "duration": 274,
    "start_time": "2023-09-20T20:41:47.162Z"
   },
   {
    "duration": 275,
    "start_time": "2023-09-20T20:41:56.589Z"
   },
   {
    "duration": 84,
    "start_time": "2023-09-20T20:44:27.949Z"
   },
   {
    "duration": 21,
    "start_time": "2023-09-20T20:44:33.301Z"
   },
   {
    "duration": 192,
    "start_time": "2023-09-20T20:44:58.257Z"
   },
   {
    "duration": 121,
    "start_time": "2023-09-20T20:45:14.713Z"
   },
   {
    "duration": 220,
    "start_time": "2023-09-20T20:45:25.280Z"
   },
   {
    "duration": 171,
    "start_time": "2023-09-20T20:46:04.459Z"
   },
   {
    "duration": 249,
    "start_time": "2023-09-20T20:56:18.747Z"
   },
   {
    "duration": 255,
    "start_time": "2023-09-20T20:56:21.819Z"
   },
   {
    "duration": 10,
    "start_time": "2023-09-20T20:56:22.253Z"
   },
   {
    "duration": 10,
    "start_time": "2023-09-20T20:56:30.018Z"
   },
   {
    "duration": 21,
    "start_time": "2023-09-20T20:56:31.371Z"
   },
   {
    "duration": 9,
    "start_time": "2023-09-20T20:56:37.322Z"
   },
   {
    "duration": 35,
    "start_time": "2023-09-20T20:59:39.157Z"
   },
   {
    "duration": 45,
    "start_time": "2023-09-20T21:03:18.616Z"
   },
   {
    "duration": 9,
    "start_time": "2023-09-20T21:03:31.405Z"
   },
   {
    "duration": 5,
    "start_time": "2023-09-20T21:03:35.215Z"
   },
   {
    "duration": 10,
    "start_time": "2023-09-20T21:03:35.858Z"
   },
   {
    "duration": 4,
    "start_time": "2023-09-20T21:03:36.593Z"
   },
   {
    "duration": 6,
    "start_time": "2023-09-20T21:04:15.700Z"
   },
   {
    "duration": 9,
    "start_time": "2023-09-20T21:04:18.994Z"
   },
   {
    "duration": 6,
    "start_time": "2023-09-20T21:04:20.158Z"
   },
   {
    "duration": 5,
    "start_time": "2023-09-20T21:04:28.260Z"
   },
   {
    "duration": 9,
    "start_time": "2023-09-20T21:04:28.710Z"
   },
   {
    "duration": 5,
    "start_time": "2023-09-20T21:04:29.193Z"
   },
   {
    "duration": 9,
    "start_time": "2023-09-20T21:06:51.969Z"
   },
   {
    "duration": 4,
    "start_time": "2023-09-20T21:06:52.368Z"
   },
   {
    "duration": 7,
    "start_time": "2023-09-20T21:07:18.854Z"
   },
   {
    "duration": 8,
    "start_time": "2023-09-20T21:07:19.524Z"
   },
   {
    "duration": 167,
    "start_time": "2023-09-20T21:09:10.530Z"
   },
   {
    "duration": 2070,
    "start_time": "2023-09-20T22:12:36.230Z"
   },
   {
    "duration": 3,
    "start_time": "2023-09-20T22:12:38.303Z"
   },
   {
    "duration": 270,
    "start_time": "2023-09-20T22:12:38.307Z"
   },
   {
    "duration": 5,
    "start_time": "2023-09-20T22:12:38.579Z"
   },
   {
    "duration": 9,
    "start_time": "2023-09-20T22:12:38.585Z"
   },
   {
    "duration": 12,
    "start_time": "2023-09-20T22:12:38.596Z"
   },
   {
    "duration": 7,
    "start_time": "2023-09-20T22:12:38.609Z"
   },
   {
    "duration": 9,
    "start_time": "2023-09-20T22:12:38.617Z"
   },
   {
    "duration": 9,
    "start_time": "2023-09-20T22:12:38.663Z"
   },
   {
    "duration": 33,
    "start_time": "2023-09-20T22:12:38.893Z"
   },
   {
    "duration": 28,
    "start_time": "2023-09-20T22:12:40.095Z"
   },
   {
    "duration": 34,
    "start_time": "2023-09-20T22:12:40.533Z"
   },
   {
    "duration": 12,
    "start_time": "2023-09-20T22:12:41.019Z"
   },
   {
    "duration": 10,
    "start_time": "2023-09-20T22:12:41.579Z"
   },
   {
    "duration": 30,
    "start_time": "2023-09-20T22:12:42.683Z"
   },
   {
    "duration": 48,
    "start_time": "2023-09-20T22:12:43.172Z"
   },
   {
    "duration": 54,
    "start_time": "2023-09-20T22:12:43.589Z"
   },
   {
    "duration": 97,
    "start_time": "2023-09-20T22:12:44.272Z"
   },
   {
    "duration": 5,
    "start_time": "2023-09-20T22:12:44.842Z"
   },
   {
    "duration": 4,
    "start_time": "2023-09-20T22:12:45.040Z"
   },
   {
    "duration": 7,
    "start_time": "2023-09-20T22:12:45.693Z"
   },
   {
    "duration": 6,
    "start_time": "2023-09-20T22:12:46.122Z"
   },
   {
    "duration": 3,
    "start_time": "2023-09-20T22:12:46.519Z"
   },
   {
    "duration": 10,
    "start_time": "2023-09-20T22:12:46.717Z"
   },
   {
    "duration": 4,
    "start_time": "2023-09-20T22:12:46.920Z"
   },
   {
    "duration": 5,
    "start_time": "2023-09-20T22:12:47.038Z"
   },
   {
    "duration": 9,
    "start_time": "2023-09-20T22:12:47.565Z"
   },
   {
    "duration": 4,
    "start_time": "2023-09-20T22:12:47.927Z"
   },
   {
    "duration": 30,
    "start_time": "2023-09-20T22:12:48.318Z"
   },
   {
    "duration": 24,
    "start_time": "2023-09-20T22:12:49.273Z"
   },
   {
    "duration": 9,
    "start_time": "2023-09-20T22:12:49.883Z"
   },
   {
    "duration": 34,
    "start_time": "2023-09-20T22:12:50.067Z"
   },
   {
    "duration": 12,
    "start_time": "2023-09-20T22:12:50.680Z"
   },
   {
    "duration": 3,
    "start_time": "2023-09-20T22:12:50.878Z"
   },
   {
    "duration": 8,
    "start_time": "2023-09-20T22:12:51.322Z"
   },
   {
    "duration": 7,
    "start_time": "2023-09-20T22:12:51.510Z"
   },
   {
    "duration": 3,
    "start_time": "2023-09-20T22:12:51.937Z"
   },
   {
    "duration": 16,
    "start_time": "2023-09-20T22:12:52.659Z"
   },
   {
    "duration": 12,
    "start_time": "2023-09-20T22:13:13.574Z"
   },
   {
    "duration": 3,
    "start_time": "2023-09-20T22:13:14.426Z"
   },
   {
    "duration": 8,
    "start_time": "2023-09-20T22:13:15.714Z"
   },
   {
    "duration": 6,
    "start_time": "2023-09-20T22:13:16.290Z"
   },
   {
    "duration": 3,
    "start_time": "2023-09-20T22:13:16.897Z"
   },
   {
    "duration": 16,
    "start_time": "2023-09-20T22:13:17.490Z"
   },
   {
    "duration": 73,
    "start_time": "2023-09-20T22:13:17.816Z"
   },
   {
    "duration": 22,
    "start_time": "2023-09-20T22:13:18.860Z"
   },
   {
    "duration": 50,
    "start_time": "2023-09-20T22:13:22.581Z"
   },
   {
    "duration": 36,
    "start_time": "2023-09-20T22:13:22.993Z"
   },
   {
    "duration": 40,
    "start_time": "2023-09-20T22:13:58.874Z"
   },
   {
    "duration": 29,
    "start_time": "2023-09-20T22:13:59.275Z"
   },
   {
    "duration": 109,
    "start_time": "2023-09-20T22:14:06.907Z"
   },
   {
    "duration": 71,
    "start_time": "2023-09-20T22:14:07.558Z"
   },
   {
    "duration": 9,
    "start_time": "2023-09-20T22:14:08.862Z"
   },
   {
    "duration": 6,
    "start_time": "2023-09-20T22:14:09.331Z"
   },
   {
    "duration": 116,
    "start_time": "2023-09-20T22:14:09.796Z"
   },
   {
    "duration": 15,
    "start_time": "2023-09-20T22:14:11.466Z"
   },
   {
    "duration": 10,
    "start_time": "2023-09-20T22:14:13.550Z"
   },
   {
    "duration": 106,
    "start_time": "2023-09-20T22:14:14.009Z"
   },
   {
    "duration": 13,
    "start_time": "2023-09-20T22:14:14.432Z"
   },
   {
    "duration": 133,
    "start_time": "2023-09-20T22:14:14.601Z"
   },
   {
    "duration": 38,
    "start_time": "2023-09-20T22:14:15.330Z"
   },
   {
    "duration": 168,
    "start_time": "2023-09-20T22:14:15.498Z"
   },
   {
    "duration": 21,
    "start_time": "2023-09-20T22:14:15.934Z"
   },
   {
    "duration": 281,
    "start_time": "2023-09-20T22:14:16.816Z"
   },
   {
    "duration": 166,
    "start_time": "2023-09-20T22:14:17.280Z"
   },
   {
    "duration": 16,
    "start_time": "2023-09-20T22:14:17.831Z"
   },
   {
    "duration": 201,
    "start_time": "2023-09-20T22:14:18.125Z"
   },
   {
    "duration": 202,
    "start_time": "2023-09-20T22:14:18.915Z"
   },
   {
    "duration": 114,
    "start_time": "2023-09-20T22:14:19.578Z"
   },
   {
    "duration": 141,
    "start_time": "2023-09-20T22:14:19.911Z"
   },
   {
    "duration": 232,
    "start_time": "2023-09-20T22:14:21.714Z"
   },
   {
    "duration": 9,
    "start_time": "2023-09-20T22:14:21.971Z"
   },
   {
    "duration": 9,
    "start_time": "2023-09-20T22:14:22.249Z"
   },
   {
    "duration": 17,
    "start_time": "2023-09-20T22:14:22.818Z"
   },
   {
    "duration": 16,
    "start_time": "2023-09-20T22:14:23.897Z"
   },
   {
    "duration": 5,
    "start_time": "2023-09-20T22:14:24.463Z"
   },
   {
    "duration": 10,
    "start_time": "2023-09-20T22:14:24.774Z"
   },
   {
    "duration": 4,
    "start_time": "2023-09-20T22:14:25.030Z"
   },
   {
    "duration": 7,
    "start_time": "2023-09-20T22:14:25.920Z"
   },
   {
    "duration": 7,
    "start_time": "2023-09-20T22:14:26.538Z"
   },
   {
    "duration": 5,
    "start_time": "2023-09-20T22:14:27.696Z"
   },
   {
    "duration": 3858,
    "start_time": "2023-09-21T14:55:57.707Z"
   },
   {
    "duration": 1431,
    "start_time": "2023-09-21T14:56:01.568Z"
   },
   {
    "duration": 632,
    "start_time": "2023-09-21T14:56:03.001Z"
   },
   {
    "duration": 3,
    "start_time": "2023-09-21T14:56:03.636Z"
   },
   {
    "duration": 52,
    "start_time": "2023-09-21T14:56:03.641Z"
   },
   {
    "duration": 15,
    "start_time": "2023-09-21T14:56:03.695Z"
   },
   {
    "duration": 24,
    "start_time": "2023-09-21T14:56:03.712Z"
   },
   {
    "duration": 27,
    "start_time": "2023-09-21T14:56:03.738Z"
   },
   {
    "duration": 39,
    "start_time": "2023-09-21T14:56:03.767Z"
   },
   {
    "duration": 48,
    "start_time": "2023-09-21T14:56:03.809Z"
   },
   {
    "duration": 72,
    "start_time": "2023-09-21T14:56:03.858Z"
   },
   {
    "duration": 62,
    "start_time": "2023-09-21T14:56:03.931Z"
   },
   {
    "duration": 10,
    "start_time": "2023-09-21T14:56:03.994Z"
   },
   {
    "duration": 36,
    "start_time": "2023-09-21T14:56:04.005Z"
   },
   {
    "duration": 54,
    "start_time": "2023-09-21T14:56:04.043Z"
   },
   {
    "duration": 61,
    "start_time": "2023-09-21T14:56:04.099Z"
   },
   {
    "duration": 62,
    "start_time": "2023-09-21T14:56:04.162Z"
   },
   {
    "duration": 120,
    "start_time": "2023-09-21T14:56:04.225Z"
   },
   {
    "duration": 15,
    "start_time": "2023-09-21T14:56:04.349Z"
   },
   {
    "duration": 23,
    "start_time": "2023-09-21T14:56:04.366Z"
   },
   {
    "duration": 50,
    "start_time": "2023-09-21T14:56:04.391Z"
   },
   {
    "duration": 50,
    "start_time": "2023-09-21T14:56:04.443Z"
   },
   {
    "duration": 91,
    "start_time": "2023-09-21T14:56:04.494Z"
   },
   {
    "duration": 41,
    "start_time": "2023-09-21T14:56:04.587Z"
   },
   {
    "duration": 15,
    "start_time": "2023-09-21T14:56:04.629Z"
   },
   {
    "duration": 37,
    "start_time": "2023-09-21T14:56:04.646Z"
   },
   {
    "duration": 26,
    "start_time": "2023-09-21T14:56:04.685Z"
   },
   {
    "duration": 5,
    "start_time": "2023-09-21T14:56:04.715Z"
   },
   {
    "duration": 42,
    "start_time": "2023-09-21T14:56:04.721Z"
   },
   {
    "duration": 26,
    "start_time": "2023-09-21T14:56:04.765Z"
   },
   {
    "duration": 20,
    "start_time": "2023-09-21T14:56:04.793Z"
   },
   {
    "duration": 47,
    "start_time": "2023-09-21T14:56:04.814Z"
   },
   {
    "duration": 14,
    "start_time": "2023-09-21T14:56:04.862Z"
   },
   {
    "duration": 6,
    "start_time": "2023-09-21T14:56:04.877Z"
   },
   {
    "duration": 15,
    "start_time": "2023-09-21T14:56:04.884Z"
   },
   {
    "duration": 6,
    "start_time": "2023-09-21T14:56:04.900Z"
   },
   {
    "duration": 21,
    "start_time": "2023-09-21T14:56:04.907Z"
   },
   {
    "duration": 39,
    "start_time": "2023-09-21T14:56:04.929Z"
   },
   {
    "duration": 85,
    "start_time": "2023-09-21T14:56:04.970Z"
   },
   {
    "duration": 31,
    "start_time": "2023-09-21T14:56:05.058Z"
   },
   {
    "duration": 123,
    "start_time": "2023-09-21T14:56:05.091Z"
   },
   {
    "duration": 0,
    "start_time": "2023-09-21T14:56:05.216Z"
   },
   {
    "duration": 0,
    "start_time": "2023-09-21T14:56:05.217Z"
   },
   {
    "duration": 0,
    "start_time": "2023-09-21T14:56:05.218Z"
   },
   {
    "duration": 0,
    "start_time": "2023-09-21T14:56:05.219Z"
   },
   {
    "duration": 0,
    "start_time": "2023-09-21T14:56:05.220Z"
   },
   {
    "duration": 0,
    "start_time": "2023-09-21T14:56:05.221Z"
   },
   {
    "duration": 0,
    "start_time": "2023-09-21T14:56:05.223Z"
   },
   {
    "duration": 0,
    "start_time": "2023-09-21T14:56:05.224Z"
   },
   {
    "duration": 0,
    "start_time": "2023-09-21T14:56:05.226Z"
   },
   {
    "duration": 0,
    "start_time": "2023-09-21T14:56:05.227Z"
   },
   {
    "duration": 0,
    "start_time": "2023-09-21T14:56:05.249Z"
   },
   {
    "duration": 0,
    "start_time": "2023-09-21T14:56:05.250Z"
   },
   {
    "duration": 0,
    "start_time": "2023-09-21T14:56:05.251Z"
   },
   {
    "duration": 0,
    "start_time": "2023-09-21T14:56:05.253Z"
   },
   {
    "duration": 0,
    "start_time": "2023-09-21T14:56:05.254Z"
   },
   {
    "duration": 0,
    "start_time": "2023-09-21T14:56:05.255Z"
   },
   {
    "duration": 0,
    "start_time": "2023-09-21T14:56:05.256Z"
   },
   {
    "duration": 0,
    "start_time": "2023-09-21T14:56:05.257Z"
   },
   {
    "duration": 0,
    "start_time": "2023-09-21T14:56:05.258Z"
   },
   {
    "duration": 0,
    "start_time": "2023-09-21T14:56:05.259Z"
   },
   {
    "duration": 0,
    "start_time": "2023-09-21T14:56:05.260Z"
   },
   {
    "duration": 0,
    "start_time": "2023-09-21T14:56:05.261Z"
   },
   {
    "duration": 0,
    "start_time": "2023-09-21T14:56:05.262Z"
   },
   {
    "duration": 0,
    "start_time": "2023-09-21T14:56:05.264Z"
   },
   {
    "duration": 0,
    "start_time": "2023-09-21T14:56:05.265Z"
   },
   {
    "duration": 0,
    "start_time": "2023-09-21T14:56:05.266Z"
   },
   {
    "duration": 0,
    "start_time": "2023-09-21T14:56:05.267Z"
   },
   {
    "duration": 0,
    "start_time": "2023-09-21T14:56:05.268Z"
   },
   {
    "duration": 0,
    "start_time": "2023-09-21T14:56:05.269Z"
   },
   {
    "duration": 0,
    "start_time": "2023-09-21T14:56:05.270Z"
   },
   {
    "duration": 0,
    "start_time": "2023-09-21T14:56:05.271Z"
   },
   {
    "duration": 0,
    "start_time": "2023-09-21T14:56:05.272Z"
   },
   {
    "duration": 571,
    "start_time": "2023-09-21T15:00:47.178Z"
   },
   {
    "duration": 36,
    "start_time": "2023-09-21T15:00:52.356Z"
   },
   {
    "duration": 121,
    "start_time": "2023-09-21T15:00:54.126Z"
   },
   {
    "duration": 120,
    "start_time": "2023-09-21T15:00:55.853Z"
   },
   {
    "duration": 12,
    "start_time": "2023-09-21T15:02:06.457Z"
   },
   {
    "duration": 6,
    "start_time": "2023-09-21T15:02:06.697Z"
   },
   {
    "duration": 131,
    "start_time": "2023-09-21T15:02:06.940Z"
   },
   {
    "duration": 16,
    "start_time": "2023-09-21T15:02:07.785Z"
   },
   {
    "duration": 11,
    "start_time": "2023-09-21T15:02:08.790Z"
   },
   {
    "duration": 90,
    "start_time": "2023-09-21T15:02:08.993Z"
   },
   {
    "duration": 14,
    "start_time": "2023-09-21T15:02:09.615Z"
   },
   {
    "duration": 173,
    "start_time": "2023-09-21T15:02:09.804Z"
   },
   {
    "duration": 60,
    "start_time": "2023-09-21T15:02:10.900Z"
   },
   {
    "duration": 181,
    "start_time": "2023-09-21T15:02:11.385Z"
   },
   {
    "duration": 23,
    "start_time": "2023-09-21T15:02:11.980Z"
   },
   {
    "duration": 363,
    "start_time": "2023-09-21T15:02:12.511Z"
   },
   {
    "duration": 182,
    "start_time": "2023-09-21T15:02:12.877Z"
   },
   {
    "duration": 16,
    "start_time": "2023-09-21T15:02:13.284Z"
   },
   {
    "duration": 236,
    "start_time": "2023-09-21T15:02:13.472Z"
   },
   {
    "duration": 227,
    "start_time": "2023-09-21T15:02:13.873Z"
   },
   {
    "duration": 130,
    "start_time": "2023-09-21T15:02:14.261Z"
   },
   {
    "duration": 180,
    "start_time": "2023-09-21T15:02:14.450Z"
   },
   {
    "duration": 241,
    "start_time": "2023-09-21T15:02:15.618Z"
   },
   {
    "duration": 10,
    "start_time": "2023-09-21T15:02:15.861Z"
   },
   {
    "duration": 14,
    "start_time": "2023-09-21T15:02:15.919Z"
   },
   {
    "duration": 18,
    "start_time": "2023-09-21T15:02:16.415Z"
   },
   {
    "duration": 21,
    "start_time": "2023-09-21T15:14:59.920Z"
   },
   {
    "duration": 7,
    "start_time": "2023-09-21T15:15:00.405Z"
   },
   {
    "duration": 11,
    "start_time": "2023-09-21T15:15:06.255Z"
   },
   {
    "duration": 9,
    "start_time": "2023-09-21T15:15:06.566Z"
   },
   {
    "duration": 11,
    "start_time": "2023-09-21T15:15:07.207Z"
   },
   {
    "duration": 10,
    "start_time": "2023-09-21T15:15:07.404Z"
   },
   {
    "duration": 10,
    "start_time": "2023-09-21T15:15:07.783Z"
   },
   {
    "duration": 54,
    "start_time": "2023-09-22T08:13:51.690Z"
   },
   {
    "duration": 4795,
    "start_time": "2023-09-22T08:13:59.566Z"
   },
   {
    "duration": 1621,
    "start_time": "2023-09-22T08:14:04.363Z"
   },
   {
    "duration": 666,
    "start_time": "2023-09-22T08:14:05.986Z"
   },
   {
    "duration": 3,
    "start_time": "2023-09-22T08:14:06.655Z"
   },
   {
    "duration": 21,
    "start_time": "2023-09-22T08:14:06.660Z"
   },
   {
    "duration": 16,
    "start_time": "2023-09-22T08:14:06.682Z"
   },
   {
    "duration": 16,
    "start_time": "2023-09-22T08:14:06.700Z"
   },
   {
    "duration": 28,
    "start_time": "2023-09-22T08:14:06.718Z"
   },
   {
    "duration": 17,
    "start_time": "2023-09-22T08:14:06.748Z"
   },
   {
    "duration": 40,
    "start_time": "2023-09-22T08:14:06.767Z"
   },
   {
    "duration": 48,
    "start_time": "2023-09-22T08:14:06.808Z"
   },
   {
    "duration": 49,
    "start_time": "2023-09-22T08:14:06.858Z"
   },
   {
    "duration": 10,
    "start_time": "2023-09-22T08:14:06.909Z"
   },
   {
    "duration": 26,
    "start_time": "2023-09-22T08:14:06.921Z"
   },
   {
    "duration": 35,
    "start_time": "2023-09-22T08:14:07.522Z"
   },
   {
    "duration": 36,
    "start_time": "2023-09-22T08:14:49.082Z"
   },
   {
    "duration": 66,
    "start_time": "2023-09-22T08:14:49.719Z"
   },
   {
    "duration": 70,
    "start_time": "2023-09-22T08:14:50.520Z"
   },
   {
    "duration": 135,
    "start_time": "2023-09-22T08:14:51.972Z"
   },
   {
    "duration": 6,
    "start_time": "2023-09-22T08:14:52.770Z"
   },
   {
    "duration": 5,
    "start_time": "2023-09-22T08:14:53.120Z"
   },
   {
    "duration": 8,
    "start_time": "2023-09-22T08:14:53.746Z"
   },
   {
    "duration": 5,
    "start_time": "2023-09-22T08:14:54.485Z"
   },
   {
    "duration": 4,
    "start_time": "2023-09-22T08:14:55.103Z"
   },
   {
    "duration": 12,
    "start_time": "2023-09-22T08:14:55.432Z"
   },
   {
    "duration": 4,
    "start_time": "2023-09-22T08:14:55.733Z"
   },
   {
    "duration": 5,
    "start_time": "2023-09-22T08:14:56.119Z"
   },
   {
    "duration": 10,
    "start_time": "2023-09-22T08:14:56.756Z"
   },
   {
    "duration": 5,
    "start_time": "2023-09-22T08:14:57.351Z"
   },
   {
    "duration": 35,
    "start_time": "2023-09-22T08:14:58.021Z"
   },
   {
    "duration": 30,
    "start_time": "2023-09-22T08:14:59.639Z"
   },
   {
    "duration": 11,
    "start_time": "2023-09-22T08:15:00.286Z"
   },
   {
    "duration": 46,
    "start_time": "2023-09-22T08:15:00.635Z"
   },
   {
    "duration": 14,
    "start_time": "2023-09-22T08:15:01.555Z"
   },
   {
    "duration": 3,
    "start_time": "2023-09-22T08:15:01.932Z"
   },
   {
    "duration": 9,
    "start_time": "2023-09-22T08:15:02.653Z"
   },
   {
    "duration": 7,
    "start_time": "2023-09-22T08:15:03.109Z"
   },
   {
    "duration": 3,
    "start_time": "2023-09-22T08:15:03.564Z"
   },
   {
    "duration": 18,
    "start_time": "2023-09-22T08:15:04.170Z"
   },
   {
    "duration": 95,
    "start_time": "2023-09-22T08:15:04.488Z"
   },
   {
    "duration": 26,
    "start_time": "2023-09-22T08:15:05.540Z"
   },
   {
    "duration": 96,
    "start_time": "2023-09-22T08:15:10.880Z"
   },
   {
    "duration": 27,
    "start_time": "2023-09-22T11:02:42.779Z"
   },
   {
    "duration": 43,
    "start_time": "2023-09-22T11:02:44.226Z"
   },
   {
    "duration": 65,
    "start_time": "2023-09-22T11:02:45.340Z"
   },
   {
    "duration": 43,
    "start_time": "2023-09-22T11:03:08.132Z"
   },
   {
    "duration": 56,
    "start_time": "2023-09-22T11:03:08.540Z"
   },
   {
    "duration": 167,
    "start_time": "2023-09-22T11:03:10.201Z"
   },
   {
    "duration": 87,
    "start_time": "2023-09-22T11:03:11.302Z"
   },
   {
    "duration": 11,
    "start_time": "2023-09-22T11:03:29.765Z"
   },
   {
    "duration": 11,
    "start_time": "2023-09-22T11:03:30.043Z"
   },
   {
    "duration": 197,
    "start_time": "2023-09-22T11:03:30.325Z"
   },
   {
    "duration": 17,
    "start_time": "2023-09-22T11:03:31.410Z"
   },
   {
    "duration": 12,
    "start_time": "2023-09-22T11:03:32.516Z"
   },
   {
    "duration": 119,
    "start_time": "2023-09-22T11:03:32.742Z"
   },
   {
    "duration": 16,
    "start_time": "2023-09-22T11:03:33.310Z"
   },
   {
    "duration": 171,
    "start_time": "2023-09-22T11:03:33.613Z"
   },
   {
    "duration": 52,
    "start_time": "2023-09-22T11:03:43.728Z"
   },
   {
    "duration": 263,
    "start_time": "2023-09-22T11:03:44.042Z"
   },
   {
    "duration": 28,
    "start_time": "2023-09-22T11:03:44.610Z"
   },
   {
    "duration": 492,
    "start_time": "2023-09-22T11:03:45.148Z"
   },
   {
    "duration": 214,
    "start_time": "2023-09-22T11:03:45.774Z"
   },
   {
    "duration": 14,
    "start_time": "2023-09-22T11:07:01.910Z"
   },
   {
    "duration": 160,
    "start_time": "2023-09-22T11:07:46.595Z"
   },
   {
    "duration": 175,
    "start_time": "2023-09-22T11:07:58.603Z"
   },
   {
    "duration": 157,
    "start_time": "2023-09-22T11:08:17.194Z"
   },
   {
    "duration": 20,
    "start_time": "2023-09-22T11:08:48.428Z"
   },
   {
    "duration": 270,
    "start_time": "2023-09-22T11:08:49.288Z"
   },
   {
    "duration": 279,
    "start_time": "2023-09-22T11:09:00.052Z"
   },
   {
    "duration": 152,
    "start_time": "2023-09-22T11:09:01.166Z"
   },
   {
    "duration": 191,
    "start_time": "2023-09-22T11:09:01.658Z"
   },
   {
    "duration": 326,
    "start_time": "2023-09-22T11:09:41.114Z"
   },
   {
    "duration": 12,
    "start_time": "2023-09-22T11:09:41.514Z"
   },
   {
    "duration": 13,
    "start_time": "2023-09-22T11:09:41.823Z"
   },
   {
    "duration": 29,
    "start_time": "2023-09-22T11:09:42.604Z"
   },
   {
    "duration": 14,
    "start_time": "2023-09-22T11:09:44.048Z"
   },
   {
    "duration": 5,
    "start_time": "2023-09-22T11:09:48.852Z"
   },
   {
    "duration": 11,
    "start_time": "2023-09-22T11:09:49.295Z"
   },
   {
    "duration": 5,
    "start_time": "2023-09-22T11:09:49.891Z"
   },
   {
    "duration": 8,
    "start_time": "2023-09-22T11:09:51.342Z"
   },
   {
    "duration": 10,
    "start_time": "2023-09-22T11:09:51.859Z"
   },
   {
    "duration": 7,
    "start_time": "2023-09-22T11:09:52.778Z"
   },
   {
    "duration": 4113,
    "start_time": "2023-09-22T14:02:35.684Z"
   },
   {
    "duration": 1460,
    "start_time": "2023-09-22T14:02:39.800Z"
   },
   {
    "duration": 316,
    "start_time": "2023-09-22T14:02:41.262Z"
   },
   {
    "duration": 4,
    "start_time": "2023-09-22T14:02:41.581Z"
   },
   {
    "duration": 30,
    "start_time": "2023-09-22T14:02:41.587Z"
   },
   {
    "duration": 29,
    "start_time": "2023-09-22T14:02:41.619Z"
   },
   {
    "duration": 54,
    "start_time": "2023-09-22T14:02:41.650Z"
   },
   {
    "duration": 17,
    "start_time": "2023-09-22T14:02:41.706Z"
   },
   {
    "duration": 42,
    "start_time": "2023-09-22T14:02:41.725Z"
   },
   {
    "duration": 74,
    "start_time": "2023-09-22T14:02:41.770Z"
   },
   {
    "duration": 68,
    "start_time": "2023-09-22T14:02:41.845Z"
   },
   {
    "duration": 60,
    "start_time": "2023-09-22T14:02:41.915Z"
   },
   {
    "duration": 14,
    "start_time": "2023-09-22T14:02:41.977Z"
   },
   {
    "duration": 12,
    "start_time": "2023-09-22T14:02:41.993Z"
   },
   {
    "duration": 57,
    "start_time": "2023-09-22T14:02:42.007Z"
   },
   {
    "duration": 88,
    "start_time": "2023-09-22T14:02:42.066Z"
   },
   {
    "duration": 110,
    "start_time": "2023-09-22T14:02:42.156Z"
   },
   {
    "duration": 294,
    "start_time": "2023-09-22T14:02:42.267Z"
   },
   {
    "duration": 6,
    "start_time": "2023-09-22T14:02:42.563Z"
   },
   {
    "duration": 17,
    "start_time": "2023-09-22T14:02:42.570Z"
   },
   {
    "duration": 14,
    "start_time": "2023-09-22T14:02:42.589Z"
   },
   {
    "duration": 8,
    "start_time": "2023-09-22T14:02:42.606Z"
   },
   {
    "duration": 7,
    "start_time": "2023-09-22T14:02:42.616Z"
   },
   {
    "duration": 36,
    "start_time": "2023-09-22T14:02:42.626Z"
   },
   {
    "duration": 9,
    "start_time": "2023-09-22T14:02:42.664Z"
   },
   {
    "duration": 15,
    "start_time": "2023-09-22T14:02:42.676Z"
   },
   {
    "duration": 41,
    "start_time": "2023-09-22T14:02:42.693Z"
   },
   {
    "duration": 6,
    "start_time": "2023-09-22T14:02:42.741Z"
   },
   {
    "duration": 56,
    "start_time": "2023-09-22T14:02:42.749Z"
   },
   {
    "duration": 53,
    "start_time": "2023-09-22T14:02:42.807Z"
   },
   {
    "duration": 15,
    "start_time": "2023-09-22T14:02:42.866Z"
   },
   {
    "duration": 75,
    "start_time": "2023-09-22T14:02:42.884Z"
   },
   {
    "duration": 20,
    "start_time": "2023-09-22T14:02:42.962Z"
   },
   {
    "duration": 8,
    "start_time": "2023-09-22T14:02:42.984Z"
   },
   {
    "duration": 33,
    "start_time": "2023-09-22T14:02:42.996Z"
   },
   {
    "duration": 23,
    "start_time": "2023-09-22T14:02:43.031Z"
   },
   {
    "duration": 35,
    "start_time": "2023-09-22T14:02:43.056Z"
   },
   {
    "duration": 68,
    "start_time": "2023-09-22T14:02:43.093Z"
   },
   {
    "duration": 123,
    "start_time": "2023-09-22T14:02:43.163Z"
   },
   {
    "duration": 28,
    "start_time": "2023-09-22T14:02:43.288Z"
   },
   {
    "duration": 57,
    "start_time": "2023-09-22T14:02:43.318Z"
   },
   {
    "duration": 53,
    "start_time": "2023-09-22T14:02:43.377Z"
   },
   {
    "duration": 168,
    "start_time": "2023-09-22T14:02:43.432Z"
   },
   {
    "duration": 110,
    "start_time": "2023-09-22T14:02:43.602Z"
   },
   {
    "duration": 14,
    "start_time": "2023-09-22T14:02:43.715Z"
   },
   {
    "duration": 27,
    "start_time": "2023-09-22T14:02:43.731Z"
   },
   {
    "duration": 178,
    "start_time": "2023-09-22T14:02:43.760Z"
   },
   {
    "duration": 27,
    "start_time": "2023-09-22T14:02:43.940Z"
   },
   {
    "duration": 13,
    "start_time": "2023-09-22T14:02:43.970Z"
   },
   {
    "duration": 154,
    "start_time": "2023-09-22T14:02:43.986Z"
   },
   {
    "duration": 28,
    "start_time": "2023-09-22T14:02:44.143Z"
   },
   {
    "duration": 194,
    "start_time": "2023-09-22T14:02:44.173Z"
   },
   {
    "duration": 43,
    "start_time": "2023-09-22T14:02:44.369Z"
   },
   {
    "duration": 259,
    "start_time": "2023-09-22T14:02:44.414Z"
   },
   {
    "duration": 28,
    "start_time": "2023-09-22T14:02:44.675Z"
   },
   {
    "duration": 479,
    "start_time": "2023-09-22T14:02:44.705Z"
   },
   {
    "duration": 221,
    "start_time": "2023-09-22T14:02:45.186Z"
   },
   {
    "duration": 174,
    "start_time": "2023-09-22T14:02:45.409Z"
   },
   {
    "duration": 20,
    "start_time": "2023-09-22T14:02:45.585Z"
   },
   {
    "duration": 306,
    "start_time": "2023-09-22T14:02:45.607Z"
   },
   {
    "duration": 249,
    "start_time": "2023-09-22T14:02:45.916Z"
   },
   {
    "duration": 159,
    "start_time": "2023-09-22T14:02:46.166Z"
   },
   {
    "duration": 194,
    "start_time": "2023-09-22T14:02:46.327Z"
   },
   {
    "duration": 327,
    "start_time": "2023-09-22T14:02:46.524Z"
   },
   {
    "duration": 13,
    "start_time": "2023-09-22T14:02:46.857Z"
   },
   {
    "duration": 51,
    "start_time": "2023-09-22T14:02:46.872Z"
   },
   {
    "duration": 71,
    "start_time": "2023-09-22T14:02:46.925Z"
   },
   {
    "duration": 27,
    "start_time": "2023-09-22T14:02:46.998Z"
   },
   {
    "duration": 24,
    "start_time": "2023-09-22T14:02:47.027Z"
   },
   {
    "duration": 55,
    "start_time": "2023-09-22T14:02:47.053Z"
   },
   {
    "duration": 92,
    "start_time": "2023-09-22T14:02:47.110Z"
   },
   {
    "duration": 28,
    "start_time": "2023-09-22T14:02:47.204Z"
   },
   {
    "duration": 32,
    "start_time": "2023-09-22T14:02:47.234Z"
   },
   {
    "duration": 20,
    "start_time": "2023-09-22T14:02:47.267Z"
   }
  ],
  "kernelspec": {
   "display_name": "Python 3 (ipykernel)",
   "language": "python",
   "name": "python3"
  },
  "language_info": {
   "codemirror_mode": {
    "name": "ipython",
    "version": 3
   },
   "file_extension": ".py",
   "mimetype": "text/x-python",
   "name": "python",
   "nbconvert_exporter": "python",
   "pygments_lexer": "ipython3",
   "version": "3.9.5"
  },
  "toc": {
   "base_numbering": 1,
   "nav_menu": {},
   "number_sections": true,
   "sideBar": true,
   "skip_h1_title": true,
   "title_cell": "Table of Contents",
   "title_sidebar": "Contents",
   "toc_cell": false,
   "toc_position": {},
   "toc_section_display": true,
   "toc_window_display": false
  }
 },
 "nbformat": 4,
 "nbformat_minor": 2
}
