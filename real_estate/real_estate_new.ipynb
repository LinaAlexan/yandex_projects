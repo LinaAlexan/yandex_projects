{
 "cells": [
  {
   "cell_type": "markdown",
   "metadata": {},
   "source": [
    "# Исследование объявлений о продаже квартир\n",
    "\n",
    "В вашем распоряжении данные сервиса Яндекс.Недвижимость — архив объявлений о продаже квартир в Санкт-Петербурге и соседних населённых пунктов за несколько лет. Нужно научиться определять рыночную стоимость объектов недвижимости. Ваша задача — установить параметры. Это позволит построить автоматизированную систему: она отследит аномалии и мошенническую деятельность. \n",
    "\n",
    "По каждой квартире на продажу доступны два вида данных. Первые вписаны пользователем, вторые — получены автоматически на основе картографических данных. Например, расстояние до центра, аэропорта, ближайшего парка и водоёма. "
   ]
  },
  {
   "cell_type": "markdown",
   "metadata": {},
   "source": [
    "Отличный пример! Александр, скажи пожалуйста, как отмечать маркдауны цветом? Туплю и не понимаю как)"
   ]
  },
  {
   "cell_type": "markdown",
   "metadata": {},
   "source": [
    "### Откройте файл с данными и изучите общую информацию. "
   ]
  },
  {
   "cell_type": "code",
   "execution_count": 1,
   "metadata": {
    "scrolled": false
   },
   "outputs": [
    {
     "name": "stdout",
     "output_type": "stream",
     "text": [
      "<class 'pandas.core.frame.DataFrame'>\n",
      "RangeIndex: 23699 entries, 0 to 23698\n",
      "Data columns (total 22 columns):\n",
      " #   Column                Non-Null Count  Dtype  \n",
      "---  ------                --------------  -----  \n",
      " 0   total_images          23699 non-null  int64  \n",
      " 1   last_price            23699 non-null  float64\n",
      " 2   total_area            23699 non-null  float64\n",
      " 3   first_day_exposition  23699 non-null  object \n",
      " 4   rooms                 23699 non-null  int64  \n",
      " 5   ceiling_height        14504 non-null  float64\n",
      " 6   floors_total          23613 non-null  float64\n",
      " 7   living_area           21796 non-null  float64\n",
      " 8   floor                 23699 non-null  int64  \n",
      " 9   is_apartment          2775 non-null   object \n",
      " 10  studio                23699 non-null  bool   \n",
      " 11  open_plan             23699 non-null  bool   \n",
      " 12  kitchen_area          21421 non-null  float64\n",
      " 13  balcony               12180 non-null  float64\n",
      " 14  locality_name         23650 non-null  object \n",
      " 15  airports_nearest      18157 non-null  float64\n",
      " 16  cityCenters_nearest   18180 non-null  float64\n",
      " 17  parks_around3000      18181 non-null  float64\n",
      " 18  parks_nearest         8079 non-null   float64\n",
      " 19  ponds_around3000      18181 non-null  float64\n",
      " 20  ponds_nearest         9110 non-null   float64\n",
      " 21  days_exposition       20518 non-null  float64\n",
      "dtypes: bool(2), float64(14), int64(3), object(3)\n",
      "memory usage: 3.7+ MB\n"
     ]
    },
    {
     "data": {
      "text/html": [
       "<div>\n",
       "<style scoped>\n",
       "    .dataframe tbody tr th:only-of-type {\n",
       "        vertical-align: middle;\n",
       "    }\n",
       "\n",
       "    .dataframe tbody tr th {\n",
       "        vertical-align: top;\n",
       "    }\n",
       "\n",
       "    .dataframe thead th {\n",
       "        text-align: right;\n",
       "    }\n",
       "</style>\n",
       "<table border=\"1\" class=\"dataframe\">\n",
       "  <thead>\n",
       "    <tr style=\"text-align: right;\">\n",
       "      <th></th>\n",
       "      <th>total_images</th>\n",
       "      <th>last_price</th>\n",
       "      <th>total_area</th>\n",
       "      <th>first_day_exposition</th>\n",
       "      <th>rooms</th>\n",
       "      <th>ceiling_height</th>\n",
       "      <th>floors_total</th>\n",
       "      <th>living_area</th>\n",
       "      <th>floor</th>\n",
       "      <th>is_apartment</th>\n",
       "      <th>...</th>\n",
       "      <th>kitchen_area</th>\n",
       "      <th>balcony</th>\n",
       "      <th>locality_name</th>\n",
       "      <th>airports_nearest</th>\n",
       "      <th>cityCenters_nearest</th>\n",
       "      <th>parks_around3000</th>\n",
       "      <th>parks_nearest</th>\n",
       "      <th>ponds_around3000</th>\n",
       "      <th>ponds_nearest</th>\n",
       "      <th>days_exposition</th>\n",
       "    </tr>\n",
       "  </thead>\n",
       "  <tbody>\n",
       "    <tr>\n",
       "      <th>0</th>\n",
       "      <td>20</td>\n",
       "      <td>13000000.0</td>\n",
       "      <td>108.00</td>\n",
       "      <td>2019-03-07T00:00:00</td>\n",
       "      <td>3</td>\n",
       "      <td>2.70</td>\n",
       "      <td>16.0</td>\n",
       "      <td>51.00</td>\n",
       "      <td>8</td>\n",
       "      <td>NaN</td>\n",
       "      <td>...</td>\n",
       "      <td>25.00</td>\n",
       "      <td>NaN</td>\n",
       "      <td>Санкт-Петербург</td>\n",
       "      <td>18863.0</td>\n",
       "      <td>16028.0</td>\n",
       "      <td>1.0</td>\n",
       "      <td>482.0</td>\n",
       "      <td>2.0</td>\n",
       "      <td>755.0</td>\n",
       "      <td>NaN</td>\n",
       "    </tr>\n",
       "    <tr>\n",
       "      <th>1</th>\n",
       "      <td>7</td>\n",
       "      <td>3350000.0</td>\n",
       "      <td>40.40</td>\n",
       "      <td>2018-12-04T00:00:00</td>\n",
       "      <td>1</td>\n",
       "      <td>NaN</td>\n",
       "      <td>11.0</td>\n",
       "      <td>18.60</td>\n",
       "      <td>1</td>\n",
       "      <td>NaN</td>\n",
       "      <td>...</td>\n",
       "      <td>11.00</td>\n",
       "      <td>2.0</td>\n",
       "      <td>посёлок Шушары</td>\n",
       "      <td>12817.0</td>\n",
       "      <td>18603.0</td>\n",
       "      <td>0.0</td>\n",
       "      <td>NaN</td>\n",
       "      <td>0.0</td>\n",
       "      <td>NaN</td>\n",
       "      <td>81.0</td>\n",
       "    </tr>\n",
       "    <tr>\n",
       "      <th>2</th>\n",
       "      <td>10</td>\n",
       "      <td>5196000.0</td>\n",
       "      <td>56.00</td>\n",
       "      <td>2015-08-20T00:00:00</td>\n",
       "      <td>2</td>\n",
       "      <td>NaN</td>\n",
       "      <td>5.0</td>\n",
       "      <td>34.30</td>\n",
       "      <td>4</td>\n",
       "      <td>NaN</td>\n",
       "      <td>...</td>\n",
       "      <td>8.30</td>\n",
       "      <td>0.0</td>\n",
       "      <td>Санкт-Петербург</td>\n",
       "      <td>21741.0</td>\n",
       "      <td>13933.0</td>\n",
       "      <td>1.0</td>\n",
       "      <td>90.0</td>\n",
       "      <td>2.0</td>\n",
       "      <td>574.0</td>\n",
       "      <td>558.0</td>\n",
       "    </tr>\n",
       "    <tr>\n",
       "      <th>3</th>\n",
       "      <td>0</td>\n",
       "      <td>64900000.0</td>\n",
       "      <td>159.00</td>\n",
       "      <td>2015-07-24T00:00:00</td>\n",
       "      <td>3</td>\n",
       "      <td>NaN</td>\n",
       "      <td>14.0</td>\n",
       "      <td>NaN</td>\n",
       "      <td>9</td>\n",
       "      <td>NaN</td>\n",
       "      <td>...</td>\n",
       "      <td>NaN</td>\n",
       "      <td>0.0</td>\n",
       "      <td>Санкт-Петербург</td>\n",
       "      <td>28098.0</td>\n",
       "      <td>6800.0</td>\n",
       "      <td>2.0</td>\n",
       "      <td>84.0</td>\n",
       "      <td>3.0</td>\n",
       "      <td>234.0</td>\n",
       "      <td>424.0</td>\n",
       "    </tr>\n",
       "    <tr>\n",
       "      <th>4</th>\n",
       "      <td>2</td>\n",
       "      <td>10000000.0</td>\n",
       "      <td>100.00</td>\n",
       "      <td>2018-06-19T00:00:00</td>\n",
       "      <td>2</td>\n",
       "      <td>3.03</td>\n",
       "      <td>14.0</td>\n",
       "      <td>32.00</td>\n",
       "      <td>13</td>\n",
       "      <td>NaN</td>\n",
       "      <td>...</td>\n",
       "      <td>41.00</td>\n",
       "      <td>NaN</td>\n",
       "      <td>Санкт-Петербург</td>\n",
       "      <td>31856.0</td>\n",
       "      <td>8098.0</td>\n",
       "      <td>2.0</td>\n",
       "      <td>112.0</td>\n",
       "      <td>1.0</td>\n",
       "      <td>48.0</td>\n",
       "      <td>121.0</td>\n",
       "    </tr>\n",
       "    <tr>\n",
       "      <th>5</th>\n",
       "      <td>10</td>\n",
       "      <td>2890000.0</td>\n",
       "      <td>30.40</td>\n",
       "      <td>2018-09-10T00:00:00</td>\n",
       "      <td>1</td>\n",
       "      <td>NaN</td>\n",
       "      <td>12.0</td>\n",
       "      <td>14.40</td>\n",
       "      <td>5</td>\n",
       "      <td>NaN</td>\n",
       "      <td>...</td>\n",
       "      <td>9.10</td>\n",
       "      <td>NaN</td>\n",
       "      <td>городской посёлок Янино-1</td>\n",
       "      <td>NaN</td>\n",
       "      <td>NaN</td>\n",
       "      <td>NaN</td>\n",
       "      <td>NaN</td>\n",
       "      <td>NaN</td>\n",
       "      <td>NaN</td>\n",
       "      <td>55.0</td>\n",
       "    </tr>\n",
       "    <tr>\n",
       "      <th>6</th>\n",
       "      <td>6</td>\n",
       "      <td>3700000.0</td>\n",
       "      <td>37.30</td>\n",
       "      <td>2017-11-02T00:00:00</td>\n",
       "      <td>1</td>\n",
       "      <td>NaN</td>\n",
       "      <td>26.0</td>\n",
       "      <td>10.60</td>\n",
       "      <td>6</td>\n",
       "      <td>NaN</td>\n",
       "      <td>...</td>\n",
       "      <td>14.40</td>\n",
       "      <td>1.0</td>\n",
       "      <td>посёлок Парголово</td>\n",
       "      <td>52996.0</td>\n",
       "      <td>19143.0</td>\n",
       "      <td>0.0</td>\n",
       "      <td>NaN</td>\n",
       "      <td>0.0</td>\n",
       "      <td>NaN</td>\n",
       "      <td>155.0</td>\n",
       "    </tr>\n",
       "    <tr>\n",
       "      <th>7</th>\n",
       "      <td>5</td>\n",
       "      <td>7915000.0</td>\n",
       "      <td>71.60</td>\n",
       "      <td>2019-04-18T00:00:00</td>\n",
       "      <td>2</td>\n",
       "      <td>NaN</td>\n",
       "      <td>24.0</td>\n",
       "      <td>NaN</td>\n",
       "      <td>22</td>\n",
       "      <td>NaN</td>\n",
       "      <td>...</td>\n",
       "      <td>18.90</td>\n",
       "      <td>2.0</td>\n",
       "      <td>Санкт-Петербург</td>\n",
       "      <td>23982.0</td>\n",
       "      <td>11634.0</td>\n",
       "      <td>0.0</td>\n",
       "      <td>NaN</td>\n",
       "      <td>0.0</td>\n",
       "      <td>NaN</td>\n",
       "      <td>NaN</td>\n",
       "    </tr>\n",
       "    <tr>\n",
       "      <th>8</th>\n",
       "      <td>20</td>\n",
       "      <td>2900000.0</td>\n",
       "      <td>33.16</td>\n",
       "      <td>2018-05-23T00:00:00</td>\n",
       "      <td>1</td>\n",
       "      <td>NaN</td>\n",
       "      <td>27.0</td>\n",
       "      <td>15.43</td>\n",
       "      <td>26</td>\n",
       "      <td>NaN</td>\n",
       "      <td>...</td>\n",
       "      <td>8.81</td>\n",
       "      <td>NaN</td>\n",
       "      <td>посёлок Мурино</td>\n",
       "      <td>NaN</td>\n",
       "      <td>NaN</td>\n",
       "      <td>NaN</td>\n",
       "      <td>NaN</td>\n",
       "      <td>NaN</td>\n",
       "      <td>NaN</td>\n",
       "      <td>189.0</td>\n",
       "    </tr>\n",
       "    <tr>\n",
       "      <th>9</th>\n",
       "      <td>18</td>\n",
       "      <td>5400000.0</td>\n",
       "      <td>61.00</td>\n",
       "      <td>2017-02-26T00:00:00</td>\n",
       "      <td>3</td>\n",
       "      <td>2.50</td>\n",
       "      <td>9.0</td>\n",
       "      <td>43.60</td>\n",
       "      <td>7</td>\n",
       "      <td>NaN</td>\n",
       "      <td>...</td>\n",
       "      <td>6.50</td>\n",
       "      <td>2.0</td>\n",
       "      <td>Санкт-Петербург</td>\n",
       "      <td>50898.0</td>\n",
       "      <td>15008.0</td>\n",
       "      <td>0.0</td>\n",
       "      <td>NaN</td>\n",
       "      <td>0.0</td>\n",
       "      <td>NaN</td>\n",
       "      <td>289.0</td>\n",
       "    </tr>\n",
       "    <tr>\n",
       "      <th>10</th>\n",
       "      <td>5</td>\n",
       "      <td>5050000.0</td>\n",
       "      <td>39.60</td>\n",
       "      <td>2017-11-16T00:00:00</td>\n",
       "      <td>1</td>\n",
       "      <td>2.67</td>\n",
       "      <td>12.0</td>\n",
       "      <td>20.30</td>\n",
       "      <td>3</td>\n",
       "      <td>NaN</td>\n",
       "      <td>...</td>\n",
       "      <td>8.50</td>\n",
       "      <td>NaN</td>\n",
       "      <td>Санкт-Петербург</td>\n",
       "      <td>38357.0</td>\n",
       "      <td>13878.0</td>\n",
       "      <td>1.0</td>\n",
       "      <td>310.0</td>\n",
       "      <td>2.0</td>\n",
       "      <td>553.0</td>\n",
       "      <td>137.0</td>\n",
       "    </tr>\n",
       "    <tr>\n",
       "      <th>11</th>\n",
       "      <td>9</td>\n",
       "      <td>3300000.0</td>\n",
       "      <td>44.00</td>\n",
       "      <td>2018-08-27T00:00:00</td>\n",
       "      <td>2</td>\n",
       "      <td>NaN</td>\n",
       "      <td>5.0</td>\n",
       "      <td>31.00</td>\n",
       "      <td>4</td>\n",
       "      <td>False</td>\n",
       "      <td>...</td>\n",
       "      <td>6.00</td>\n",
       "      <td>1.0</td>\n",
       "      <td>Ломоносов</td>\n",
       "      <td>48252.0</td>\n",
       "      <td>51677.0</td>\n",
       "      <td>0.0</td>\n",
       "      <td>NaN</td>\n",
       "      <td>0.0</td>\n",
       "      <td>NaN</td>\n",
       "      <td>7.0</td>\n",
       "    </tr>\n",
       "    <tr>\n",
       "      <th>12</th>\n",
       "      <td>10</td>\n",
       "      <td>3890000.0</td>\n",
       "      <td>54.00</td>\n",
       "      <td>2016-06-30T00:00:00</td>\n",
       "      <td>2</td>\n",
       "      <td>NaN</td>\n",
       "      <td>5.0</td>\n",
       "      <td>30.00</td>\n",
       "      <td>5</td>\n",
       "      <td>NaN</td>\n",
       "      <td>...</td>\n",
       "      <td>9.00</td>\n",
       "      <td>0.0</td>\n",
       "      <td>Сертолово</td>\n",
       "      <td>NaN</td>\n",
       "      <td>NaN</td>\n",
       "      <td>NaN</td>\n",
       "      <td>NaN</td>\n",
       "      <td>NaN</td>\n",
       "      <td>NaN</td>\n",
       "      <td>90.0</td>\n",
       "    </tr>\n",
       "    <tr>\n",
       "      <th>13</th>\n",
       "      <td>20</td>\n",
       "      <td>3550000.0</td>\n",
       "      <td>42.80</td>\n",
       "      <td>2017-07-01T00:00:00</td>\n",
       "      <td>2</td>\n",
       "      <td>2.56</td>\n",
       "      <td>5.0</td>\n",
       "      <td>27.00</td>\n",
       "      <td>5</td>\n",
       "      <td>NaN</td>\n",
       "      <td>...</td>\n",
       "      <td>5.20</td>\n",
       "      <td>1.0</td>\n",
       "      <td>Петергоф</td>\n",
       "      <td>37868.0</td>\n",
       "      <td>33058.0</td>\n",
       "      <td>1.0</td>\n",
       "      <td>294.0</td>\n",
       "      <td>3.0</td>\n",
       "      <td>298.0</td>\n",
       "      <td>366.0</td>\n",
       "    </tr>\n",
       "    <tr>\n",
       "      <th>14</th>\n",
       "      <td>1</td>\n",
       "      <td>4400000.0</td>\n",
       "      <td>36.00</td>\n",
       "      <td>2016-06-23T00:00:00</td>\n",
       "      <td>1</td>\n",
       "      <td>NaN</td>\n",
       "      <td>6.0</td>\n",
       "      <td>17.00</td>\n",
       "      <td>1</td>\n",
       "      <td>NaN</td>\n",
       "      <td>...</td>\n",
       "      <td>8.00</td>\n",
       "      <td>0.0</td>\n",
       "      <td>Пушкин</td>\n",
       "      <td>20782.0</td>\n",
       "      <td>30759.0</td>\n",
       "      <td>0.0</td>\n",
       "      <td>NaN</td>\n",
       "      <td>1.0</td>\n",
       "      <td>96.0</td>\n",
       "      <td>203.0</td>\n",
       "    </tr>\n",
       "  </tbody>\n",
       "</table>\n",
       "<p>15 rows × 22 columns</p>\n",
       "</div>"
      ],
      "text/plain": [
       "    total_images  last_price  total_area first_day_exposition  rooms  \\\n",
       "0             20  13000000.0      108.00  2019-03-07T00:00:00      3   \n",
       "1              7   3350000.0       40.40  2018-12-04T00:00:00      1   \n",
       "2             10   5196000.0       56.00  2015-08-20T00:00:00      2   \n",
       "3              0  64900000.0      159.00  2015-07-24T00:00:00      3   \n",
       "4              2  10000000.0      100.00  2018-06-19T00:00:00      2   \n",
       "5             10   2890000.0       30.40  2018-09-10T00:00:00      1   \n",
       "6              6   3700000.0       37.30  2017-11-02T00:00:00      1   \n",
       "7              5   7915000.0       71.60  2019-04-18T00:00:00      2   \n",
       "8             20   2900000.0       33.16  2018-05-23T00:00:00      1   \n",
       "9             18   5400000.0       61.00  2017-02-26T00:00:00      3   \n",
       "10             5   5050000.0       39.60  2017-11-16T00:00:00      1   \n",
       "11             9   3300000.0       44.00  2018-08-27T00:00:00      2   \n",
       "12            10   3890000.0       54.00  2016-06-30T00:00:00      2   \n",
       "13            20   3550000.0       42.80  2017-07-01T00:00:00      2   \n",
       "14             1   4400000.0       36.00  2016-06-23T00:00:00      1   \n",
       "\n",
       "    ceiling_height  floors_total  living_area  floor is_apartment  ...  \\\n",
       "0             2.70          16.0        51.00      8          NaN  ...   \n",
       "1              NaN          11.0        18.60      1          NaN  ...   \n",
       "2              NaN           5.0        34.30      4          NaN  ...   \n",
       "3              NaN          14.0          NaN      9          NaN  ...   \n",
       "4             3.03          14.0        32.00     13          NaN  ...   \n",
       "5              NaN          12.0        14.40      5          NaN  ...   \n",
       "6              NaN          26.0        10.60      6          NaN  ...   \n",
       "7              NaN          24.0          NaN     22          NaN  ...   \n",
       "8              NaN          27.0        15.43     26          NaN  ...   \n",
       "9             2.50           9.0        43.60      7          NaN  ...   \n",
       "10            2.67          12.0        20.30      3          NaN  ...   \n",
       "11             NaN           5.0        31.00      4        False  ...   \n",
       "12             NaN           5.0        30.00      5          NaN  ...   \n",
       "13            2.56           5.0        27.00      5          NaN  ...   \n",
       "14             NaN           6.0        17.00      1          NaN  ...   \n",
       "\n",
       "    kitchen_area  balcony              locality_name  airports_nearest  \\\n",
       "0          25.00      NaN            Санкт-Петербург           18863.0   \n",
       "1          11.00      2.0             посёлок Шушары           12817.0   \n",
       "2           8.30      0.0            Санкт-Петербург           21741.0   \n",
       "3            NaN      0.0            Санкт-Петербург           28098.0   \n",
       "4          41.00      NaN            Санкт-Петербург           31856.0   \n",
       "5           9.10      NaN  городской посёлок Янино-1               NaN   \n",
       "6          14.40      1.0          посёлок Парголово           52996.0   \n",
       "7          18.90      2.0            Санкт-Петербург           23982.0   \n",
       "8           8.81      NaN             посёлок Мурино               NaN   \n",
       "9           6.50      2.0            Санкт-Петербург           50898.0   \n",
       "10          8.50      NaN            Санкт-Петербург           38357.0   \n",
       "11          6.00      1.0                  Ломоносов           48252.0   \n",
       "12          9.00      0.0                  Сертолово               NaN   \n",
       "13          5.20      1.0                   Петергоф           37868.0   \n",
       "14          8.00      0.0                     Пушкин           20782.0   \n",
       "\n",
       "   cityCenters_nearest  parks_around3000  parks_nearest  ponds_around3000  \\\n",
       "0              16028.0               1.0          482.0               2.0   \n",
       "1              18603.0               0.0            NaN               0.0   \n",
       "2              13933.0               1.0           90.0               2.0   \n",
       "3               6800.0               2.0           84.0               3.0   \n",
       "4               8098.0               2.0          112.0               1.0   \n",
       "5                  NaN               NaN            NaN               NaN   \n",
       "6              19143.0               0.0            NaN               0.0   \n",
       "7              11634.0               0.0            NaN               0.0   \n",
       "8                  NaN               NaN            NaN               NaN   \n",
       "9              15008.0               0.0            NaN               0.0   \n",
       "10             13878.0               1.0          310.0               2.0   \n",
       "11             51677.0               0.0            NaN               0.0   \n",
       "12                 NaN               NaN            NaN               NaN   \n",
       "13             33058.0               1.0          294.0               3.0   \n",
       "14             30759.0               0.0            NaN               1.0   \n",
       "\n",
       "    ponds_nearest  days_exposition  \n",
       "0           755.0              NaN  \n",
       "1             NaN             81.0  \n",
       "2           574.0            558.0  \n",
       "3           234.0            424.0  \n",
       "4            48.0            121.0  \n",
       "5             NaN             55.0  \n",
       "6             NaN            155.0  \n",
       "7             NaN              NaN  \n",
       "8             NaN            189.0  \n",
       "9             NaN            289.0  \n",
       "10          553.0            137.0  \n",
       "11            NaN              7.0  \n",
       "12            NaN             90.0  \n",
       "13          298.0            366.0  \n",
       "14           96.0            203.0  \n",
       "\n",
       "[15 rows x 22 columns]"
      ]
     },
     "execution_count": 1,
     "metadata": {},
     "output_type": "execute_result"
    }
   ],
   "source": [
    "import pandas as pd\n",
    "import numpy as np\n",
    "data = pd.read_csv('/datasets/real_estate_data.csv', sep = '\\t')\n",
    "data.info()\n",
    "data.head(15)\n",
    "#изучаем общую информацию, смотрим, какие нулевые и \n",
    "#не нулевые значения есть, какие в столбцах типы данных\n",
    "#проблемы датафрейма, требующие предобработки:\n"
   ]
  },
  {
   "cell_type": "markdown",
   "metadata": {},
   "source": [
    "#Проблемы датафрейма, требующие исследования и предобработки:\n",
    "В строке с индексом 3 \"first_day_exposition\" хранятся данные типа object, а должен быть тип datetime\n",
    "\n",
    "строка с индексом 5 - \"ceiling_height\" как будто много пропусков, количество non-null объектов 14504 вместо 23699\n",
    "\n",
    "строка с индексом 6 - \"floors_total\" - есть нулевые значения, но их не так много как в \"ceiling_height\", \n",
    "однако нужно проверить , насколько они повлияют на данные анализа. Так же похоже, что количество этажей \n",
    "это целое число (должен быть тип int64), а у нас float64\n",
    "\n",
    "строка с индексом 7 - \"living_area \" есть некоторое количество нулевых значений, Ненулевых 21796 из  23699\n",
    "\n",
    "строка с индексом 9 - \"is_apartment\" - большое количество Nan - значений, должен быть вид заполнения столбца True/False (булевы значения только(bool))\n",
    "\n",
    "строка с индексом 12 - \"kitchen_area\" - ненулевых значений 21421 из 23699, есть пропуски, оценим их важность\n",
    "\n",
    "строка с индексом 13 - \"balcony\" - ненулевых значений 12180 из 23699, меньше половины, встречаются и 0.0 и NaN - \n",
    "проверим и приведем к одному формату\n",
    "\n",
    "строка с индексом 14 - \"locality_name\" - название населенного пункта, есть малое количество пропусков, заполено 23650 из 23699\n",
    "\n",
    "строка с индексом 15 - \"airports_nearest\" - много нулевых значений, заполнено 18157 из 23699\n",
    "\n",
    "строка с индексом 16 - \"cityCenters_nearest\" - много нулевых значений, заполнено 18180 из 23699\n",
    "строка с индексом 17 - \"parks_around3000\" - много нулевых значений, заполнено 18181 из 23699, тип значений float64 можно преобразовать в int64\n",
    "(выводя первые 15 строк заметила, что числа целые, есть 0.0 и NaN) \n",
    "строка с индексом 18 - \"parks_nearest\" - много нулевых значений, заполнено 8079 из 23699, проверим единицы измерения\n",
    "строка с индексом 19 - \"ponds_around3000\" - много нулевых значений, заполнено 18181 из 23699, \n",
    "поменяем название заголовка на более лаконичное, тип значений float64 можно преобразовать в int64 \n",
    "(выводя первые 15 строк заметила, что числа целые, есть 0.0 и NaN) \n",
    "строка с индексом 20 - \"ponds_nearest\" - много нулевых значений, заполнено 9110 из 23699\n",
    "строка с индексом 21 - \"days_exposition\" - много нулевых значений, заполнено 20518 из 23699, \n",
    "количество дней мы считаем по целому дню, поэтмоу тип значений float64 можно преобразовать в int64 \n",
    "\n",
    "\n",
    "\n",
    "\n",
    "\n",
    "\n",
    "\n",
    "\n",
    "\n"
   ]
  },
  {
   "cell_type": "markdown",
   "metadata": {},
   "source": [
    "Строю общую гистограмму для всех числовых столбцов таблицы: "
   ]
  },
  {
   "cell_type": "code",
   "execution_count": 2,
   "metadata": {},
   "outputs": [
    {
     "data": {
      "text/plain": [
       "array([[<AxesSubplot:title={'center':'total_images'}>,\n",
       "        <AxesSubplot:title={'center':'last_price'}>,\n",
       "        <AxesSubplot:title={'center':'total_area'}>,\n",
       "        <AxesSubplot:title={'center':'rooms'}>],\n",
       "       [<AxesSubplot:title={'center':'ceiling_height'}>,\n",
       "        <AxesSubplot:title={'center':'floors_total'}>,\n",
       "        <AxesSubplot:title={'center':'living_area'}>,\n",
       "        <AxesSubplot:title={'center':'floor'}>],\n",
       "       [<AxesSubplot:title={'center':'kitchen_area'}>,\n",
       "        <AxesSubplot:title={'center':'balcony'}>,\n",
       "        <AxesSubplot:title={'center':'airports_nearest'}>,\n",
       "        <AxesSubplot:title={'center':'cityCenters_nearest'}>],\n",
       "       [<AxesSubplot:title={'center':'parks_around3000'}>,\n",
       "        <AxesSubplot:title={'center':'parks_nearest'}>,\n",
       "        <AxesSubplot:title={'center':'ponds_around3000'}>,\n",
       "        <AxesSubplot:title={'center':'ponds_nearest'}>],\n",
       "       [<AxesSubplot:title={'center':'days_exposition'}>, <AxesSubplot:>,\n",
       "        <AxesSubplot:>, <AxesSubplot:>]], dtype=object)"
      ]
     },
     "execution_count": 2,
     "metadata": {},
     "output_type": "execute_result"
    },
    {
     "data": {
      "image/png": "[encoded data removed]",
      "text/plain": [
       "<Figure size 1080x1440 with 20 Axes>"
      ]
     },
     "metadata": {
      "needs_background": "light"
     },
     "output_type": "display_data"
    }
   ],
   "source": [
    "data.hist(figsize=(15, 20))"
   ]
  },
  {
   "cell_type": "markdown",
   "metadata": {},
   "source": [
    "### Предобработка данных"
   ]
  },
  {
   "cell_type": "markdown",
   "metadata": {},
   "source": [
    "Ой, как здорово! Я не встречала еще кажется такого метода. Опробуем его в деле:"
   ]
  },
  {
   "cell_type": "code",
   "execution_count": 3,
   "metadata": {
    "scrolled": false
   },
   "outputs": [
    {
     "data": {
      "text/html": [
       "<div>\n",
       "<style scoped>\n",
       "    .dataframe tbody tr th:only-of-type {\n",
       "        vertical-align: middle;\n",
       "    }\n",
       "\n",
       "    .dataframe tbody tr th {\n",
       "        vertical-align: top;\n",
       "    }\n",
       "\n",
       "    .dataframe thead th {\n",
       "        text-align: right;\n",
       "    }\n",
       "</style>\n",
       "<table border=\"1\" class=\"dataframe\">\n",
       "  <thead>\n",
       "    <tr style=\"text-align: right;\">\n",
       "      <th></th>\n",
       "      <th>total_images</th>\n",
       "      <th>last_price</th>\n",
       "      <th>total_area</th>\n",
       "      <th>first_day_exposition</th>\n",
       "      <th>rooms</th>\n",
       "      <th>ceiling_height</th>\n",
       "      <th>floors_total</th>\n",
       "      <th>living_area</th>\n",
       "      <th>floor</th>\n",
       "      <th>is_apartment</th>\n",
       "      <th>...</th>\n",
       "      <th>kitchen_area</th>\n",
       "      <th>balcony</th>\n",
       "      <th>locality_name</th>\n",
       "      <th>airports_nearest</th>\n",
       "      <th>cityCenters_nearest</th>\n",
       "      <th>parks_around3000</th>\n",
       "      <th>parks_nearest</th>\n",
       "      <th>ponds_around3000</th>\n",
       "      <th>ponds_nearest</th>\n",
       "      <th>days_exposition</th>\n",
       "    </tr>\n",
       "  </thead>\n",
       "  <tbody>\n",
       "    <tr>\n",
       "      <th>0</th>\n",
       "      <td>20</td>\n",
       "      <td>13000000.0</td>\n",
       "      <td>108.0</td>\n",
       "      <td>2019-03-07T00:00:00</td>\n",
       "      <td>3</td>\n",
       "      <td>2.70</td>\n",
       "      <td>16.0</td>\n",
       "      <td>51.0</td>\n",
       "      <td>8</td>\n",
       "      <td>NaN</td>\n",
       "      <td>...</td>\n",
       "      <td>25.0</td>\n",
       "      <td>NaN</td>\n",
       "      <td>Санкт-Петербург</td>\n",
       "      <td>18863.0</td>\n",
       "      <td>16028.0</td>\n",
       "      <td>1.0</td>\n",
       "      <td>482.0</td>\n",
       "      <td>2.0</td>\n",
       "      <td>755.0</td>\n",
       "      <td>NaN</td>\n",
       "    </tr>\n",
       "    <tr>\n",
       "      <th>1</th>\n",
       "      <td>7</td>\n",
       "      <td>3350000.0</td>\n",
       "      <td>40.4</td>\n",
       "      <td>2018-12-04T00:00:00</td>\n",
       "      <td>1</td>\n",
       "      <td>NaN</td>\n",
       "      <td>11.0</td>\n",
       "      <td>18.6</td>\n",
       "      <td>1</td>\n",
       "      <td>NaN</td>\n",
       "      <td>...</td>\n",
       "      <td>11.0</td>\n",
       "      <td>2.0</td>\n",
       "      <td>посёлок Шушары</td>\n",
       "      <td>12817.0</td>\n",
       "      <td>18603.0</td>\n",
       "      <td>0.0</td>\n",
       "      <td>NaN</td>\n",
       "      <td>0.0</td>\n",
       "      <td>NaN</td>\n",
       "      <td>81.0</td>\n",
       "    </tr>\n",
       "    <tr>\n",
       "      <th>2</th>\n",
       "      <td>10</td>\n",
       "      <td>5196000.0</td>\n",
       "      <td>56.0</td>\n",
       "      <td>2015-08-20T00:00:00</td>\n",
       "      <td>2</td>\n",
       "      <td>NaN</td>\n",
       "      <td>5.0</td>\n",
       "      <td>34.3</td>\n",
       "      <td>4</td>\n",
       "      <td>NaN</td>\n",
       "      <td>...</td>\n",
       "      <td>8.3</td>\n",
       "      <td>0.0</td>\n",
       "      <td>Санкт-Петербург</td>\n",
       "      <td>21741.0</td>\n",
       "      <td>13933.0</td>\n",
       "      <td>1.0</td>\n",
       "      <td>90.0</td>\n",
       "      <td>2.0</td>\n",
       "      <td>574.0</td>\n",
       "      <td>558.0</td>\n",
       "    </tr>\n",
       "    <tr>\n",
       "      <th>3</th>\n",
       "      <td>0</td>\n",
       "      <td>64900000.0</td>\n",
       "      <td>159.0</td>\n",
       "      <td>2015-07-24T00:00:00</td>\n",
       "      <td>3</td>\n",
       "      <td>NaN</td>\n",
       "      <td>14.0</td>\n",
       "      <td>NaN</td>\n",
       "      <td>9</td>\n",
       "      <td>NaN</td>\n",
       "      <td>...</td>\n",
       "      <td>NaN</td>\n",
       "      <td>0.0</td>\n",
       "      <td>Санкт-Петербург</td>\n",
       "      <td>28098.0</td>\n",
       "      <td>6800.0</td>\n",
       "      <td>2.0</td>\n",
       "      <td>84.0</td>\n",
       "      <td>3.0</td>\n",
       "      <td>234.0</td>\n",
       "      <td>424.0</td>\n",
       "    </tr>\n",
       "    <tr>\n",
       "      <th>4</th>\n",
       "      <td>2</td>\n",
       "      <td>10000000.0</td>\n",
       "      <td>100.0</td>\n",
       "      <td>2018-06-19T00:00:00</td>\n",
       "      <td>2</td>\n",
       "      <td>3.03</td>\n",
       "      <td>14.0</td>\n",
       "      <td>32.0</td>\n",
       "      <td>13</td>\n",
       "      <td>NaN</td>\n",
       "      <td>...</td>\n",
       "      <td>41.0</td>\n",
       "      <td>NaN</td>\n",
       "      <td>Санкт-Петербург</td>\n",
       "      <td>31856.0</td>\n",
       "      <td>8098.0</td>\n",
       "      <td>2.0</td>\n",
       "      <td>112.0</td>\n",
       "      <td>1.0</td>\n",
       "      <td>48.0</td>\n",
       "      <td>121.0</td>\n",
       "    </tr>\n",
       "  </tbody>\n",
       "</table>\n",
       "<p>5 rows × 22 columns</p>\n",
       "</div>"
      ],
      "text/plain": [
       "   total_images  last_price  total_area first_day_exposition  rooms  \\\n",
       "0            20  13000000.0       108.0  2019-03-07T00:00:00      3   \n",
       "1             7   3350000.0        40.4  2018-12-04T00:00:00      1   \n",
       "2            10   5196000.0        56.0  2015-08-20T00:00:00      2   \n",
       "3             0  64900000.0       159.0  2015-07-24T00:00:00      3   \n",
       "4             2  10000000.0       100.0  2018-06-19T00:00:00      2   \n",
       "\n",
       "   ceiling_height  floors_total  living_area  floor is_apartment  ...  \\\n",
       "0            2.70          16.0         51.0      8          NaN  ...   \n",
       "1             NaN          11.0         18.6      1          NaN  ...   \n",
       "2             NaN           5.0         34.3      4          NaN  ...   \n",
       "3             NaN          14.0          NaN      9          NaN  ...   \n",
       "4            3.03          14.0         32.0     13          NaN  ...   \n",
       "\n",
       "   kitchen_area  balcony    locality_name  airports_nearest  \\\n",
       "0          25.0      NaN  Санкт-Петербург           18863.0   \n",
       "1          11.0      2.0   посёлок Шушары           12817.0   \n",
       "2           8.3      0.0  Санкт-Петербург           21741.0   \n",
       "3           NaN      0.0  Санкт-Петербург           28098.0   \n",
       "4          41.0      NaN  Санкт-Петербург           31856.0   \n",
       "\n",
       "  cityCenters_nearest  parks_around3000  parks_nearest  ponds_around3000  \\\n",
       "0             16028.0               1.0          482.0               2.0   \n",
       "1             18603.0               0.0            NaN               0.0   \n",
       "2             13933.0               1.0           90.0               2.0   \n",
       "3              6800.0               2.0           84.0               3.0   \n",
       "4              8098.0               2.0          112.0               1.0   \n",
       "\n",
       "   ponds_nearest  days_exposition  \n",
       "0          755.0              NaN  \n",
       "1            NaN             81.0  \n",
       "2          574.0            558.0  \n",
       "3          234.0            424.0  \n",
       "4           48.0            121.0  \n",
       "\n",
       "[5 rows x 22 columns]"
      ]
     },
     "execution_count": 3,
     "metadata": {},
     "output_type": "execute_result"
    }
   ],
   "source": [
    "data.columns\n",
    "data.head(5)"
   ]
  },
  {
   "cell_type": "markdown",
   "metadata": {},
   "source": [
    "Определим количество пропусков в Датафрейме: "
   ]
  },
  {
   "cell_type": "code",
   "execution_count": 4,
   "metadata": {},
   "outputs": [
    {
     "data": {
      "text/html": [
       "<style  type=\"text/css\" >\n",
       "#T_96fb3_row0_col0,#T_96fb3_row1_col0,#T_96fb3_row2_col0,#T_96fb3_row3_col0,#T_96fb3_row4_col0,#T_96fb3_row6_col0,#T_96fb3_row8_col0,#T_96fb3_row10_col0,#T_96fb3_row11_col0,#T_96fb3_row14_col0{\n",
       "            background-color:  #3b4cc0;\n",
       "            color:  #f1f1f1;\n",
       "        }#T_96fb3_row5_col0{\n",
       "            background-color:  #cdd9ec;\n",
       "            color:  #000000;\n",
       "        }#T_96fb3_row7_col0{\n",
       "            background-color:  #5673e0;\n",
       "            color:  #000000;\n",
       "        }#T_96fb3_row9_col0{\n",
       "            background-color:  #b40426;\n",
       "            color:  #f1f1f1;\n",
       "        }#T_96fb3_row12_col0{\n",
       "            background-color:  #5e7de7;\n",
       "            color:  #000000;\n",
       "        }#T_96fb3_row13_col0{\n",
       "            background-color:  #ead4c8;\n",
       "            color:  #000000;\n",
       "        }#T_96fb3_row15_col0,#T_96fb3_row16_col0,#T_96fb3_row17_col0,#T_96fb3_row19_col0{\n",
       "            background-color:  #90b2fe;\n",
       "            color:  #000000;\n",
       "        }#T_96fb3_row18_col0{\n",
       "            background-color:  #f4987a;\n",
       "            color:  #000000;\n",
       "        }#T_96fb3_row20_col0{\n",
       "            background-color:  #f7aa8c;\n",
       "            color:  #000000;\n",
       "        }#T_96fb3_row21_col0{\n",
       "            background-color:  #688aef;\n",
       "            color:  #000000;\n",
       "        }</style><table id=\"T_96fb3_\" ><thead>    <tr>        <th class=\"blank level0\" ></th>        <th class=\"col_heading level0 col0\" >0</th>    </tr></thead><tbody>\n",
       "                <tr>\n",
       "                        <th id=\"T_96fb3_level0_row0\" class=\"row_heading level0 row0\" >total_images</th>\n",
       "                        <td id=\"T_96fb3_row0_col0\" class=\"data row0 col0\" >0.000000</td>\n",
       "            </tr>\n",
       "            <tr>\n",
       "                        <th id=\"T_96fb3_level0_row1\" class=\"row_heading level0 row1\" >last_price</th>\n",
       "                        <td id=\"T_96fb3_row1_col0\" class=\"data row1 col0\" >0.000000</td>\n",
       "            </tr>\n",
       "            <tr>\n",
       "                        <th id=\"T_96fb3_level0_row2\" class=\"row_heading level0 row2\" >total_area</th>\n",
       "                        <td id=\"T_96fb3_row2_col0\" class=\"data row2 col0\" >0.000000</td>\n",
       "            </tr>\n",
       "            <tr>\n",
       "                        <th id=\"T_96fb3_level0_row3\" class=\"row_heading level0 row3\" >first_day_exposition</th>\n",
       "                        <td id=\"T_96fb3_row3_col0\" class=\"data row3 col0\" >0.000000</td>\n",
       "            </tr>\n",
       "            <tr>\n",
       "                        <th id=\"T_96fb3_level0_row4\" class=\"row_heading level0 row4\" >rooms</th>\n",
       "                        <td id=\"T_96fb3_row4_col0\" class=\"data row4 col0\" >0.000000</td>\n",
       "            </tr>\n",
       "            <tr>\n",
       "                        <th id=\"T_96fb3_level0_row5\" class=\"row_heading level0 row5\" >ceiling_height</th>\n",
       "                        <td id=\"T_96fb3_row5_col0\" class=\"data row5 col0\" >39.000000</td>\n",
       "            </tr>\n",
       "            <tr>\n",
       "                        <th id=\"T_96fb3_level0_row6\" class=\"row_heading level0 row6\" >floors_total</th>\n",
       "                        <td id=\"T_96fb3_row6_col0\" class=\"data row6 col0\" >0.000000</td>\n",
       "            </tr>\n",
       "            <tr>\n",
       "                        <th id=\"T_96fb3_level0_row7\" class=\"row_heading level0 row7\" >living_area</th>\n",
       "                        <td id=\"T_96fb3_row7_col0\" class=\"data row7 col0\" >8.000000</td>\n",
       "            </tr>\n",
       "            <tr>\n",
       "                        <th id=\"T_96fb3_level0_row8\" class=\"row_heading level0 row8\" >floor</th>\n",
       "                        <td id=\"T_96fb3_row8_col0\" class=\"data row8 col0\" >0.000000</td>\n",
       "            </tr>\n",
       "            <tr>\n",
       "                        <th id=\"T_96fb3_level0_row9\" class=\"row_heading level0 row9\" >is_apartment</th>\n",
       "                        <td id=\"T_96fb3_row9_col0\" class=\"data row9 col0\" >88.000000</td>\n",
       "            </tr>\n",
       "            <tr>\n",
       "                        <th id=\"T_96fb3_level0_row10\" class=\"row_heading level0 row10\" >studio</th>\n",
       "                        <td id=\"T_96fb3_row10_col0\" class=\"data row10 col0\" >0.000000</td>\n",
       "            </tr>\n",
       "            <tr>\n",
       "                        <th id=\"T_96fb3_level0_row11\" class=\"row_heading level0 row11\" >open_plan</th>\n",
       "                        <td id=\"T_96fb3_row11_col0\" class=\"data row11 col0\" >0.000000</td>\n",
       "            </tr>\n",
       "            <tr>\n",
       "                        <th id=\"T_96fb3_level0_row12\" class=\"row_heading level0 row12\" >kitchen_area</th>\n",
       "                        <td id=\"T_96fb3_row12_col0\" class=\"data row12 col0\" >10.000000</td>\n",
       "            </tr>\n",
       "            <tr>\n",
       "                        <th id=\"T_96fb3_level0_row13\" class=\"row_heading level0 row13\" >balcony</th>\n",
       "                        <td id=\"T_96fb3_row13_col0\" class=\"data row13 col0\" >49.000000</td>\n",
       "            </tr>\n",
       "            <tr>\n",
       "                        <th id=\"T_96fb3_level0_row14\" class=\"row_heading level0 row14\" >locality_name</th>\n",
       "                        <td id=\"T_96fb3_row14_col0\" class=\"data row14 col0\" >0.000000</td>\n",
       "            </tr>\n",
       "            <tr>\n",
       "                        <th id=\"T_96fb3_level0_row15\" class=\"row_heading level0 row15\" >airports_nearest</th>\n",
       "                        <td id=\"T_96fb3_row15_col0\" class=\"data row15 col0\" >23.000000</td>\n",
       "            </tr>\n",
       "            <tr>\n",
       "                        <th id=\"T_96fb3_level0_row16\" class=\"row_heading level0 row16\" >cityCenters_nearest</th>\n",
       "                        <td id=\"T_96fb3_row16_col0\" class=\"data row16 col0\" >23.000000</td>\n",
       "            </tr>\n",
       "            <tr>\n",
       "                        <th id=\"T_96fb3_level0_row17\" class=\"row_heading level0 row17\" >parks_around3000</th>\n",
       "                        <td id=\"T_96fb3_row17_col0\" class=\"data row17 col0\" >23.000000</td>\n",
       "            </tr>\n",
       "            <tr>\n",
       "                        <th id=\"T_96fb3_level0_row18\" class=\"row_heading level0 row18\" >parks_nearest</th>\n",
       "                        <td id=\"T_96fb3_row18_col0\" class=\"data row18 col0\" >66.000000</td>\n",
       "            </tr>\n",
       "            <tr>\n",
       "                        <th id=\"T_96fb3_level0_row19\" class=\"row_heading level0 row19\" >ponds_around3000</th>\n",
       "                        <td id=\"T_96fb3_row19_col0\" class=\"data row19 col0\" >23.000000</td>\n",
       "            </tr>\n",
       "            <tr>\n",
       "                        <th id=\"T_96fb3_level0_row20\" class=\"row_heading level0 row20\" >ponds_nearest</th>\n",
       "                        <td id=\"T_96fb3_row20_col0\" class=\"data row20 col0\" >62.000000</td>\n",
       "            </tr>\n",
       "            <tr>\n",
       "                        <th id=\"T_96fb3_level0_row21\" class=\"row_heading level0 row21\" >days_exposition</th>\n",
       "                        <td id=\"T_96fb3_row21_col0\" class=\"data row21 col0\" >13.000000</td>\n",
       "            </tr>\n",
       "    </tbody></table>"
      ],
      "text/plain": [
       "<pandas.io.formats.style.Styler at 0x7fc353da6d90>"
      ]
     },
     "execution_count": 4,
     "metadata": {},
     "output_type": "execute_result"
    }
   ],
   "source": [
    "pd.DataFrame(round(data.isna().mean()*100,)).style.background_gradient('coolwarm')\n"
   ]
  },
  {
   "cell_type": "markdown",
   "metadata": {},
   "source": [
    "Вывод: по цветовой маркировке и численным значениям вижу, что больше всего пропусков в столбце 'is_apartment', так же много пропусков в 'parks_nearest', 'ponds_nearest', 'balcony', 'ceiling_height'"
   ]
  },
  {
   "cell_type": "markdown",
   "metadata": {},
   "source": [
    "изучу каждый столбец: моя задача выявить странные и ошибочные значения\n",
    "далее заменим пропуски, но сначала оставим данные как есть "
   ]
  },
  {
   "cell_type": "code",
   "execution_count": 5,
   "metadata": {
    "scrolled": true
   },
   "outputs": [
    {
     "data": {
      "text/plain": [
       "10    1798\n",
       "9     1725\n",
       "20    1694\n",
       "8     1585\n",
       "7     1521\n",
       "6     1482\n",
       "11    1362\n",
       "5     1301\n",
       "12    1225\n",
       "0     1059\n",
       "13    1015\n",
       "4      986\n",
       "14     986\n",
       "15     948\n",
       "1      872\n",
       "3      769\n",
       "16     761\n",
       "17     650\n",
       "18     642\n",
       "2      640\n",
       "19     603\n",
       "23      16\n",
       "21      12\n",
       "24       8\n",
       "22       8\n",
       "26       5\n",
       "28       4\n",
       "32       4\n",
       "29       3\n",
       "50       3\n",
       "27       2\n",
       "35       2\n",
       "30       2\n",
       "31       2\n",
       "39       1\n",
       "25       1\n",
       "42       1\n",
       "37       1\n",
       "Name: total_images, dtype: int64"
      ]
     },
     "execution_count": 5,
     "metadata": {},
     "output_type": "execute_result"
    }
   ],
   "source": [
    "data['total_images'].value_counts()"
   ]
  },
  {
   "cell_type": "code",
   "execution_count": 6,
   "metadata": {},
   "outputs": [
    {
     "data": {
      "text/plain": [
       "4500000.0     342\n",
       "3500000.0     291\n",
       "4000000.0     260\n",
       "4300000.0     260\n",
       "4200000.0     259\n",
       "             ... \n",
       "10430000.0      1\n",
       "9917600.0       1\n",
       "3180500.0       1\n",
       "7297000.0       1\n",
       "4386000.0       1\n",
       "Name: last_price, Length: 2978, dtype: int64"
      ]
     },
     "execution_count": 6,
     "metadata": {},
     "output_type": "execute_result"
    }
   ],
   "source": [
    "data['last_price'].value_counts()"
   ]
  },
  {
   "cell_type": "markdown",
   "metadata": {},
   "source": [
    "тип данных поменяем на int64 для удобства чтения"
   ]
  },
  {
   "cell_type": "code",
   "execution_count": 7,
   "metadata": {},
   "outputs": [
    {
     "data": {
      "text/plain": [
       "45.00     419\n",
       "42.00     383\n",
       "60.00     347\n",
       "31.00     346\n",
       "44.00     345\n",
       "         ... \n",
       "44.24       1\n",
       "56.85       1\n",
       "37.92       1\n",
       "115.60      1\n",
       "55.06       1\n",
       "Name: total_area, Length: 2182, dtype: int64"
      ]
     },
     "execution_count": 7,
     "metadata": {},
     "output_type": "execute_result"
    }
   ],
   "source": [
    "data['total_area'].value_counts()"
   ]
  },
  {
   "cell_type": "code",
   "execution_count": 8,
   "metadata": {},
   "outputs": [
    {
     "data": {
      "text/plain": [
       "2018-02-01T00:00:00    368\n",
       "2017-11-10T00:00:00    240\n",
       "2017-10-13T00:00:00    124\n",
       "2017-09-27T00:00:00    111\n",
       "2018-03-26T00:00:00     97\n",
       "                      ... \n",
       "2014-12-18T00:00:00      1\n",
       "2015-04-19T00:00:00      1\n",
       "2015-08-16T00:00:00      1\n",
       "2016-07-21T00:00:00      1\n",
       "2016-09-25T00:00:00      1\n",
       "Name: first_day_exposition, Length: 1491, dtype: int64"
      ]
     },
     "execution_count": 8,
     "metadata": {},
     "output_type": "execute_result"
    }
   ],
   "source": [
    "data['first_day_exposition'].value_counts()"
   ]
  },
  {
   "cell_type": "markdown",
   "metadata": {},
   "source": [
    "Нам важно оставить здесь даты, когда была выставленна квартира, время не указывается в столбцах"
   ]
  },
  {
   "cell_type": "code",
   "execution_count": 9,
   "metadata": {},
   "outputs": [
    {
     "data": {
      "text/plain": [
       "1     8047\n",
       "2     7940\n",
       "3     5814\n",
       "4     1180\n",
       "5      326\n",
       "0      197\n",
       "6      105\n",
       "7       59\n",
       "8       12\n",
       "9        8\n",
       "10       3\n",
       "11       2\n",
       "14       2\n",
       "19       1\n",
       "16       1\n",
       "12       1\n",
       "15       1\n",
       "Name: rooms, dtype: int64"
      ]
     },
     "execution_count": 9,
     "metadata": {},
     "output_type": "execute_result"
    }
   ],
   "source": [
    "data['rooms'].value_counts()"
   ]
  },
  {
   "cell_type": "markdown",
   "metadata": {},
   "source": [
    "есть 197 квартир без комнат, и в 11 квартирах 10 комнат и более"
   ]
  },
  {
   "cell_type": "code",
   "execution_count": 10,
   "metadata": {},
   "outputs": [
    {
     "name": "stdout",
     "output_type": "stream",
     "text": [
      "       total_images   last_price  total_area first_day_exposition  rooms  \\\n",
      "10159            14   11500000.0        85.6  2018-12-18T00:00:00      3   \n",
      "3067             13    6600000.0        95.0  2018-09-08T00:00:00      2   \n",
      "2823              8    2700000.0        39.0  2018-02-01T00:00:00      1   \n",
      "13224             8   16900000.0       170.0  2019-03-27T00:00:00      6   \n",
      "14519            17   17600000.0       112.0  2017-01-19T00:00:00      4   \n",
      "12401            20   91500000.0       495.0  2017-06-19T00:00:00      7   \n",
      "19142            10    8650000.0        87.7  2017-07-18T00:00:00      2   \n",
      "1300             14  120000000.0       280.0  2018-07-12T00:00:00      5   \n",
      "2802              7   14950000.0        50.0  2016-03-06T00:00:00      2   \n",
      "21923            10  115490000.0       235.0  2017-04-09T00:00:00      5   \n",
      "1053             13     550000.0        29.0  2018-02-01T00:00:00      1   \n",
      "464              15   66571000.0       280.3  2015-06-11T00:00:00      6   \n",
      "12628            14    3900000.0        50.0  2018-03-29T00:00:00      1   \n",
      "1026             20  155000000.0       310.0  2018-10-12T00:00:00      5   \n",
      "7578             17   38000000.0       143.0  2017-11-02T00:00:00      3   \n",
      "1388             20   59800000.0       399.0  2015-01-21T00:00:00      5   \n",
      "21227             0    8200000.0        71.0  2017-07-21T00:00:00      0   \n",
      "20264            17  119000000.0       187.6  2017-07-10T00:00:00      4   \n",
      "15743            14    5600000.0        67.0  2016-11-11T00:00:00      3   \n",
      "17442             0    5350000.0        54.0  2015-06-16T00:00:00      2   \n",
      "3474              3    1400000.0        30.0  2018-03-16T00:00:00      1   \n",
      "5863             20    5650000.0        45.0  2018-08-15T00:00:00      1   \n",
      "22869             0   15000000.0        25.0  2018-07-25T00:00:00      1   \n",
      "22309            20    5300000.0        45.0  2017-09-30T00:00:00      1   \n",
      "15061            19    5600000.0        56.4  2018-05-11T00:00:00      2   \n",
      "\n",
      "       ceiling_height  floors_total  living_area  floor is_apartment  ...  \\\n",
      "10159            4.50           3.0         63.0      3          NaN  ...   \n",
      "3067             4.50           7.0         45.0      7         True  ...   \n",
      "2823             4.50           6.0         18.3      6          NaN  ...   \n",
      "13224            4.50           4.0        115.5      4          NaN  ...   \n",
      "14519            4.50           4.0         83.0      2          NaN  ...   \n",
      "12401            4.65           7.0        347.5      7          NaN  ...   \n",
      "19142            4.70          26.0         57.4     26          NaN  ...   \n",
      "1300             4.70           4.0        162.0      3          NaN  ...   \n",
      "2802             4.80           3.0         30.0      2          NaN  ...   \n",
      "21923            4.90           5.0        140.0      5          NaN  ...   \n",
      "1053             5.00           3.0          NaN      1        False  ...   \n",
      "464              5.20           8.0        159.5      7          NaN  ...   \n",
      "12628            5.30           5.0          NaN      5          NaN  ...   \n",
      "1026             5.30           3.0        190.0      3          NaN  ...   \n",
      "7578             5.50           5.0         83.0      5          NaN  ...   \n",
      "1388             5.60           6.0          NaN      6          NaN  ...   \n",
      "21227            5.80           5.0         68.0      5          NaN  ...   \n",
      "20264            6.00           7.0        147.0      7          NaN  ...   \n",
      "15743            8.00          16.0         41.0      1          NaN  ...   \n",
      "17442            8.00           5.0         29.0      2          NaN  ...   \n",
      "3474             8.00           5.0         15.3      2        False  ...   \n",
      "5863             8.30          16.0         19.3     14          NaN  ...   \n",
      "22869           10.00           5.0         14.0      5         True  ...   \n",
      "22309           10.30          16.0         15.5     15          NaN  ...   \n",
      "15061           14.00          14.0         32.4      5          NaN  ...   \n",
      "\n",
      "       kitchen_area  balcony                    locality_name  \\\n",
      "10159          12.0      NaN                  Санкт-Петербург   \n",
      "3067           25.0      2.0                           Выборг   \n",
      "2823            8.4      NaN  посёлок городского типа Токсово   \n",
      "13224          16.0      NaN                  Санкт-Петербург   \n",
      "14519          10.0      NaN                  Санкт-Петербург   \n",
      "12401          25.0      0.0                  Санкт-Петербург   \n",
      "19142          25.0      2.0                  Санкт-Петербург   \n",
      "1300           30.0      NaN                  Санкт-Петербург   \n",
      "2802           10.0      0.0                  Санкт-Петербург   \n",
      "21923          50.0      NaN                  Санкт-Петербург   \n",
      "1053            NaN      NaN                     Бокситогорск   \n",
      "464            21.1      0.0                  Санкт-Петербург   \n",
      "12628           NaN      NaN                  Санкт-Петербург   \n",
      "1026           63.0      2.0                  Санкт-Петербург   \n",
      "7578           29.0      1.0                  Санкт-Петербург   \n",
      "1388            NaN      0.0                  Санкт-Петербург   \n",
      "21227           NaN      0.0                  Санкт-Петербург   \n",
      "20264          15.6      NaN                  Санкт-Петербург   \n",
      "15743           8.0      NaN                  Санкт-Петербург   \n",
      "17442           NaN      1.0                     Красное Село   \n",
      "3474            7.3      NaN                    деревня Нурма   \n",
      "5863            8.3      1.0                  Санкт-Петербург   \n",
      "22869          11.0      5.0                  Санкт-Петербург   \n",
      "22309           NaN      NaN                  Санкт-Петербург   \n",
      "15061           9.1      2.0                  Санкт-Петербург   \n",
      "\n",
      "       airports_nearest cityCenters_nearest  parks_around3000  parks_nearest  \\\n",
      "10159           51944.0             16170.0               0.0            NaN   \n",
      "3067                NaN                 NaN               NaN            NaN   \n",
      "2823                NaN                 NaN               NaN            NaN   \n",
      "13224           26619.0              5579.0               0.0            NaN   \n",
      "14519           22794.0              1645.0               2.0          276.0   \n",
      "12401               NaN              5735.0               2.0          110.0   \n",
      "19142           40648.0              9888.0               1.0         1248.0   \n",
      "1300            24680.0              4247.0               1.0          464.0   \n",
      "2802            24433.0              1725.0               1.0          589.0   \n",
      "21923           22777.0              1328.0               3.0          652.0   \n",
      "1053                NaN                 NaN               NaN            NaN   \n",
      "464             26316.0              6655.0               3.0          187.0   \n",
      "12628           19644.0              3918.0               1.0          505.0   \n",
      "1026            24899.0              4785.0               0.0            NaN   \n",
      "7578            26333.0              6448.0               3.0          479.0   \n",
      "1388            26204.0              6934.0               2.0          149.0   \n",
      "21227           20170.0              1261.0               2.0          295.0   \n",
      "20264           26902.0              5605.0               3.0          484.0   \n",
      "15743           32691.0             11035.0               1.0          723.0   \n",
      "17442           24638.0             28062.0               0.0            NaN   \n",
      "3474                NaN                 NaN               NaN            NaN   \n",
      "5863            13069.0             10763.0               0.0            NaN   \n",
      "22869           34963.0              8283.0               1.0          223.0   \n",
      "22309           36353.0             11936.0               2.0          440.0   \n",
      "15061           14814.0             13610.0               0.0            NaN   \n",
      "\n",
      "       ponds_around3000  ponds_nearest  days_exposition  \n",
      "10159               2.0          389.0             34.0  \n",
      "3067                NaN            NaN             96.0  \n",
      "2823                NaN            NaN              NaN  \n",
      "13224               1.0          281.0              NaN  \n",
      "14519               3.0          485.0              NaN  \n",
      "12401               0.0            NaN             14.0  \n",
      "19142               0.0            NaN             15.0  \n",
      "1300                3.0          339.0            225.0  \n",
      "2802                3.0          161.0            160.0  \n",
      "21923               3.0          253.0            351.0  \n",
      "1053                NaN            NaN              6.0  \n",
      "464                 1.0          616.0            578.0  \n",
      "12628               1.0           92.0              8.0  \n",
      "1026                1.0          603.0              NaN  \n",
      "7578                0.0            NaN              NaN  \n",
      "1388                2.0          577.0            719.0  \n",
      "21227               3.0          366.0             30.0  \n",
      "20264               1.0          305.0            259.0  \n",
      "15743               0.0            NaN            474.0  \n",
      "17442               0.0            NaN            469.0  \n",
      "3474                NaN            NaN            125.0  \n",
      "5863                1.0          613.0             14.0  \n",
      "22869               3.0           30.0             19.0  \n",
      "22309               2.0          450.0            136.0  \n",
      "15061               0.0            NaN            315.0  \n",
      "\n",
      "[25 rows x 22 columns]\n"
     ]
    }
   ],
   "source": [
    "data['ceiling_height'].max()\n",
    "data['ceiling_height'].value_counts()\n",
    "data['ceiling_height'].fillna(0)\n",
    "data['ceiling_height'].describe()\n",
    "data[data['ceiling_height'] > 4].sort_values('ceiling_height').tail(25)\n",
    "data.loc[data['ceiling_height'] >= 20.00, 'ceiling_height'] = data.loc[data['ceiling_height'] >= 20.00,'ceiling_height'] / 10\n",
    "print(data[data['ceiling_height'] > 4].sort_values('ceiling_height').tail(25))\n"
   ]
  },
  {
   "cell_type": "markdown",
   "metadata": {},
   "source": [
    "интересно, как будто максимальная высота потолка 100.0! И в каких единицах она считалась... однако самые распостраненные значения: 2.50 - 2.80"
   ]
  },
  {
   "cell_type": "code",
   "execution_count": 11,
   "metadata": {},
   "outputs": [
    {
     "data": {
      "text/plain": [
       "count    23699.000000\n",
       "mean        10.671379\n",
       "std          6.585316\n",
       "min          1.000000\n",
       "25%          5.000000\n",
       "50%          9.000000\n",
       "75%         16.000000\n",
       "max         60.000000\n",
       "Name: floors_total, dtype: float64"
      ]
     },
     "execution_count": 11,
     "metadata": {},
     "output_type": "execute_result"
    }
   ],
   "source": [
    "data['floors_total'].value_counts()\n",
    "data['floors_total'] = data['floors_total'].fillna(data['floors_total'].mean()).astype('int64')\n",
    "data['floors_total'].describe()"
   ]
  },
  {
   "cell_type": "markdown",
   "metadata": {},
   "source": [
    "как будто тут все впорядке"
   ]
  },
  {
   "cell_type": "code",
   "execution_count": 12,
   "metadata": {
    "scrolled": true
   },
   "outputs": [
    {
     "data": {
      "text/plain": [
       "count    21796.000000\n",
       "mean        34.457852\n",
       "std         22.030445\n",
       "min          2.000000\n",
       "25%         18.600000\n",
       "50%         30.000000\n",
       "75%         42.300000\n",
       "max        409.700000\n",
       "Name: living_area, dtype: float64"
      ]
     },
     "execution_count": 12,
     "metadata": {},
     "output_type": "execute_result"
    }
   ],
   "source": [
    "data['living_area'].value_counts()\n",
    "data['living_area'].describe()"
   ]
  },
  {
   "cell_type": "markdown",
   "metadata": {},
   "source": [
    "тут много знаков после запятой, есть пропущенные 1963 значения"
   ]
  },
  {
   "cell_type": "code",
   "execution_count": 13,
   "metadata": {},
   "outputs": [
    {
     "data": {
      "text/plain": [
       "2     3368\n",
       "3     3073\n",
       "1     2917\n",
       "4     2804\n",
       "5     2621\n",
       "6     1305\n",
       "7     1218\n",
       "8     1083\n",
       "9     1051\n",
       "10     687\n",
       "12     526\n",
       "11     523\n",
       "13     379\n",
       "15     343\n",
       "14     337\n",
       "16     315\n",
       "17     227\n",
       "18     178\n",
       "19     147\n",
       "21     125\n",
       "22     113\n",
       "20     110\n",
       "23     100\n",
       "24      63\n",
       "25      46\n",
       "26      24\n",
       "27      10\n",
       "28       1\n",
       "29       1\n",
       "32       1\n",
       "30       1\n",
       "33       1\n",
       "31       1\n",
       "Name: floor, dtype: int64"
      ]
     },
     "execution_count": 13,
     "metadata": {},
     "output_type": "execute_result"
    }
   ],
   "source": [
    "data['floor'].value_counts()"
   ]
  },
  {
   "cell_type": "markdown",
   "metadata": {},
   "source": [
    "Наиболее популярные этажи квартир, выставленных на продажу: 1-5, а наиболее редкие объявления о продаже квартир на 28-31 этажах"
   ]
  },
  {
   "cell_type": "code",
   "execution_count": 14,
   "metadata": {},
   "outputs": [
    {
     "data": {
      "text/plain": [
       "False    2725\n",
       "True       50\n",
       "Name: is_apartment, dtype: int64"
      ]
     },
     "execution_count": 14,
     "metadata": {},
     "output_type": "execute_result"
    }
   ],
   "source": [
    "data['is_apartment'].value_counts()"
   ]
  },
  {
   "cell_type": "markdown",
   "metadata": {},
   "source": [
    "данный столбец содержит булевы значения (True/False), но так же 20,924 пропусков, надо разбираться дальше. Может быть это связано с тем, что столбец добавили позже,а не с момента появления датафрейма"
   ]
  },
  {
   "cell_type": "code",
   "execution_count": 15,
   "metadata": {
    "scrolled": true
   },
   "outputs": [
    {
     "data": {
      "text/plain": [
       "False    23550\n",
       "True       149\n",
       "Name: studio, dtype: int64"
      ]
     },
     "execution_count": 15,
     "metadata": {},
     "output_type": "execute_result"
    }
   ],
   "source": [
    "data['studio'].value_counts()"
   ]
  },
  {
   "cell_type": "code",
   "execution_count": 16,
   "metadata": {},
   "outputs": [
    {
     "data": {
      "text/plain": [
       "False    23632\n",
       "True        67\n",
       "Name: open_plan, dtype: int64"
      ]
     },
     "execution_count": 16,
     "metadata": {},
     "output_type": "execute_result"
    }
   ],
   "source": [
    "data['open_plan'].value_counts()"
   ]
  },
  {
   "cell_type": "code",
   "execution_count": 17,
   "metadata": {},
   "outputs": [
    {
     "data": {
      "text/plain": [
       "6.00     1300\n",
       "10.00    1262\n",
       "8.00     1110\n",
       "9.00     1101\n",
       "7.00     1062\n",
       "         ... \n",
       "7.12        1\n",
       "13.73       1\n",
       "14.74       1\n",
       "53.10       1\n",
       "16.74       1\n",
       "Name: kitchen_area, Length: 971, dtype: int64"
      ]
     },
     "execution_count": 17,
     "metadata": {},
     "output_type": "execute_result"
    }
   ],
   "source": [
    "data['kitchen_area'].value_counts()"
   ]
  },
  {
   "cell_type": "code",
   "execution_count": 18,
   "metadata": {},
   "outputs": [
    {
     "data": {
      "text/plain": [
       "0    15277\n",
       "1     4195\n",
       "2     3659\n",
       "5      304\n",
       "4      183\n",
       "3       81\n",
       "Name: balcony, dtype: int64"
      ]
     },
     "execution_count": 18,
     "metadata": {},
     "output_type": "execute_result"
    }
   ],
   "source": [
    "data['balcony'] = data['balcony'].fillna(0).astype('int64')\n",
    "data['balcony'].value_counts()"
   ]
  },
  {
   "cell_type": "markdown",
   "metadata": {},
   "source": [
    "в столбце 3758 0.0 значений (заменим все пропуски на 0), а так же поменяем формат на int64"
   ]
  },
  {
   "cell_type": "code",
   "execution_count": 19,
   "metadata": {},
   "outputs": [
    {
     "data": {
      "text/plain": [
       "array(['Санкт-Петербург', 'поселок Шушары', 'городской поселок Янино-1',\n",
       "       'поселок Парголово', 'поселок Мурино', 'Ломоносов', 'Сертолово',\n",
       "       'Петергоф', 'Пушкин', 'Кудрово', 'Коммунар', 'Колпино',\n",
       "       'поселок городского типа Красный Бор', 'Гатчина',\n",
       "       'деревня Федоровское', 'Выборг', 'Кронштадт', 'Кировск',\n",
       "       'деревня Новое Девяткино', 'поселок Металлострой',\n",
       "       'поселок городского типа Лебяжье',\n",
       "       'поселок городского типа Сиверский', 'поселок Молодцово',\n",
       "       'поселок городского типа Кузьмоловский',\n",
       "       'садовое товарищество Новая Ропша', 'Павловск',\n",
       "       'деревня Пикколово', 'Всеволожск', 'Волхов', 'Кингисепп',\n",
       "       'Приозерск', 'Сестрорецк', 'деревня Куттузи', 'поселок Аннино',\n",
       "       'поселок городского типа Ефимовский', 'поселок Плодовое',\n",
       "       'деревня Заклинье', 'поселок Торковичи', 'поселок Первомайское',\n",
       "       'Красное Село', 'поселок Понтонный', 'Сясьстрой', 'деревня Старая',\n",
       "       'деревня Лесколово', 'поселок Новый Свет', 'Сланцы',\n",
       "       'село Путилово', 'Ивангород', 'Мурино', 'Шлиссельбург',\n",
       "       'Никольское', 'Зеленогорск', 'Сосновый Бор', 'деревня Оржицы',\n",
       "       'деревня Кальтино', 'поселок Романовка', 'поселок Бугры',\n",
       "       'поселок городского типа Рощино', 'Кириши', 'Луга', 'Волосово',\n",
       "       'Отрадное', 'село Павлово', 'поселок Оредеж', 'село Копорье',\n",
       "       'поселок Молодежное', 'Тихвин', 'поселок Победа', 'деревня Нурма',\n",
       "       'поселок городского типа Синявино', 'Тосно', 'поселок Стрельна',\n",
       "       'Бокситогорск', 'поселок Александровская', 'деревня Лопухинка',\n",
       "       'Пикалево', 'поселок Терволово',\n",
       "       'поселок городского типа Советский', 'Подпорожье',\n",
       "       'поселок Петровское', 'поселок городского типа Токсово',\n",
       "       'поселок Сельцо', 'поселок городского типа Вырица',\n",
       "       'деревня Кипень', 'деревня Келози', 'деревня Вартемяги',\n",
       "       'поселок Тельмана', 'поселок Севастьяново',\n",
       "       'городской поселок Большая Ижора', nan,\n",
       "       'городской поселок Павлово', 'деревня Агалатово',\n",
       "       'поселок Новогорелово', 'городской поселок Лесогорский',\n",
       "       'деревня Лаголово', 'поселок Цвелодубово',\n",
       "       'поселок городского типа Рахья', 'деревня Белогорка',\n",
       "       'поселок Заводской', 'городской поселок Новоселье',\n",
       "       'деревня Большие Колпаны', 'деревня Горбунки', 'деревня Батово',\n",
       "       'деревня Заневка', 'деревня Иссад', 'Приморск',\n",
       "       'городской поселок Федоровское', 'деревня Мистолово',\n",
       "       'Новая Ладога', 'поселок Зимитицы', 'поселок Барышево',\n",
       "       'деревня Разметелево', 'поселок городского типа имени Свердлова',\n",
       "       'деревня Пеники', 'поселок Рябово', 'деревня Пудомяги',\n",
       "       'поселок станции Корнево', 'деревня Низино', 'деревня Бегуницы',\n",
       "       'поселок Поляны', 'поселок городского типа Мга',\n",
       "       'поселок Елизаветино', 'поселок городского типа Кузнечное',\n",
       "       'деревня Колтуши', 'поселок Запорожское', 'деревня Гостилицы',\n",
       "       'деревня Малое Карлино', 'поселок Мичуринское',\n",
       "       'поселок городского типа имени Морозова', 'поселок Песочный',\n",
       "       'поселок Сосново', 'деревня Аро', 'поселок Ильичево',\n",
       "       'поселок городского типа Тайцы', 'деревня Малое Верево',\n",
       "       'деревня Извара', 'поселок станции Вещево', 'село Паша',\n",
       "       'деревня Калитино', 'поселок городского типа Ульяновка',\n",
       "       'деревня Чудской Бор', 'поселок городского типа Дубровка',\n",
       "       'деревня Мины', 'поселок Войсковицы', 'деревня Коркино',\n",
       "       'поселок Ропша', 'поселок городского типа Приладожский',\n",
       "       'поселок Щеглово', 'поселок Гаврилово', 'Лодейное Поле',\n",
       "       'поселок Рабитицы', 'поселок городского типа Никольский',\n",
       "       'деревня Кузьмолово', 'деревня Малые Колпаны',\n",
       "       'поселок Петро-Славянка', 'городской поселок Назия',\n",
       "       'поселок Репино', 'поселок Углово', 'поселок Старая Малукса',\n",
       "       'садовое товарищество Рахья', 'деревня Меньково',\n",
       "       'деревня Старые Бегуницы', 'поселок Саперный', 'поселок Семрино',\n",
       "       'поселок Глажево', 'поселок Кобринское', 'деревня Гарболово',\n",
       "       'деревня Юкки', 'поселок станции Приветнинское',\n",
       "       'деревня Мануйлово', 'деревня Пчева', 'поселок Цвылево',\n",
       "       'поселок Мельниково', 'поселок Пудость', 'поселок Усть-Луга',\n",
       "       'Светогорск', 'Любань', 'поселок Селезнево', 'Каменногорск',\n",
       "       'деревня Кривко', 'поселок Глебычево', 'деревня Парицы',\n",
       "       'поселок Жилпоселок', 'поселок Войскорово', 'поселок Стеклянный',\n",
       "       'поселок городского типа Важины', 'поселок Мыза-Ивановка',\n",
       "       'село Русско-Высоцкое', 'поселок городского типа Форносово',\n",
       "       'село Старая Ладога', 'поселок Житково',\n",
       "       'городской поселок Виллози', 'деревня Лампово',\n",
       "       'деревня Шпаньково', 'деревня Лаврики', 'поселок Сумино',\n",
       "       'поселок Возрождение', 'деревня Старосиверская',\n",
       "       'поселок Кикерино', 'деревня Старое Хинколово',\n",
       "       'поселок Пригородный', 'поселок Торфяное',\n",
       "       'городской поселок Будогощь', 'поселок Суходолье',\n",
       "       'поселок Красная Долина', 'деревня Хапо-Ое',\n",
       "       'поселок городского типа Дружная Горка', 'поселок Лисий Нос',\n",
       "       'деревня Яльгелево', 'село Рождествено', 'деревня Старополье',\n",
       "       'поселок Левашово', 'деревня Сяськелево', 'деревня Камышовка',\n",
       "       'садоводческое некоммерческое товарищество Лесная Поляна',\n",
       "       'деревня Хязельки', 'поселок Жилгородок',\n",
       "       'поселок городского типа Павлово', 'деревня Ялгино',\n",
       "       'поселок Новый Учхоз', 'поселок Гончарово', 'поселок Почап',\n",
       "       'поселок Саперное', 'поселок Платформа 69-й километр',\n",
       "       'поселок Каложицы', 'деревня Фалилеево', 'деревня Пельгора',\n",
       "       'деревня Торошковичи', 'поселок Белоостров', 'поселок Алексеевка',\n",
       "       'поселок Серебрянский', 'поселок Лукаши', 'деревня Щеглово',\n",
       "       'деревня Тарасово', 'поселок Кингисеппский', 'поселок Ушаки',\n",
       "       'деревня Котлы', 'деревня Сижно', 'деревня Торосово',\n",
       "       'поселок Форт Красная Горка', 'деревня Новолисино',\n",
       "       'поселок Громово', 'деревня Глинка',\n",
       "       'поселок городского типа Назия', 'деревня Старая Пустошь',\n",
       "       'поселок Коммунары', 'поселок Починок',\n",
       "       'поселок городского типа Вознесенье', 'деревня Разбегаево',\n",
       "       'поселок Гладкое', 'поселок Тесово-4', 'деревня Бор',\n",
       "       'поселок Коробицыно', 'деревня Большая Вруда', 'деревня Курковицы',\n",
       "       'городской поселок Советский', 'поселок Кобралово',\n",
       "       'деревня Суоранда', 'поселок городского типа Кондратьево',\n",
       "       'коттеджный поселок Счастье', 'поселок Любань', 'деревня Реброво',\n",
       "       'деревня Зимитицы', 'деревня Тойворово', 'поселок Семиозерье',\n",
       "       'поселок Лесное', 'поселок Совхозный', 'поселок Ленинское',\n",
       "       'поселок Суйда', 'деревня Нижние Осельки', 'поселок станции Свирь',\n",
       "       'поселок Перово', 'Высоцк', 'село Шум', 'поселок Котельский',\n",
       "       'поселок станции Лужайка', 'деревня Большая Пустомержа',\n",
       "       'поселок Красносельское', 'деревня Вахнова Кара', 'деревня Пижма',\n",
       "       'коттеджный поселок Кивеннапа Север', 'поселок Ромашки',\n",
       "       'деревня Каськово', 'деревня Куровицы', 'поселок Плоское',\n",
       "       'поселок Кирпичное', 'деревня Ям-Тесово', 'деревня Раздолье',\n",
       "       'деревня Терпилицы', 'поселок Шугозеро', 'деревня Ваганово',\n",
       "       'поселок Пушное', 'садовое товарищество Садко',\n",
       "       'поселок Усть-Ижора', 'деревня Выскатка',\n",
       "       'городской поселок Свирьстрой', 'деревня Кисельня',\n",
       "       'деревня Трубников Бор', 'поселок Калитино',\n",
       "       'поселок Высокоключевой', 'поселок Пансионат Зеленый Бор',\n",
       "       'деревня Ненимяки', 'деревня Снегиревка', 'деревня Рапполово',\n",
       "       'деревня Пустынка', 'деревня Большой Сабск', 'деревня Русско',\n",
       "       'деревня Лупполово', 'деревня Большое Рейзино',\n",
       "       'деревня Малая Романовка', 'поселок Дружноселье', 'поселок Пчевжа',\n",
       "       'поселок Володарское', 'деревня Нижняя', 'Лесное',\n",
       "       'деревня Тихковицы', 'деревня Борисова Грива',\n",
       "       'поселок Дзержинского'], dtype=object)"
      ]
     },
     "execution_count": 19,
     "metadata": {},
     "output_type": "execute_result"
    }
   ],
   "source": [
    "data['locality_name'].value_counts(ascending=True)\n",
    "data['locality_name'].unique()\n",
    "data['locality_name'].duplicated().sum()\n",
    "duplicated_df = data[data['locality_name'].duplicated()] \n",
    "duplicated_df\n",
    "#data['locality_name'] = data['locality_name'].drop_duplicates().reset_index(drop=True)\n",
    "data['locality_name'].head(10)\n",
    "data['locality_name'].unique()\n",
    "data['locality_name'] = data['locality_name'].str.replace('ё', 'е')\n",
    "data['locality_name'].unique()\n",
    "data['locality_name'] = data['locality_name'].replace('село Никольское', 'Никольское')\n",
    "data['locality_name'] = data['locality_name'].replace('деревня Кудрово', 'Кудрово')\n",
    "data['locality_name'] = data['locality_name'].replace('городской посёлок Рощино', 'поселок городского типа Рощино')\n",
    "data['locality_name'] = data['locality_name'].replace('коттеджный поселок Лесное', 'Лесное')\n",
    "data['locality_name'] = data['locality_name'].replace('деревня Рабитицы', 'поселок Рабитицы')\n",
    "data['locality_name'] = data['locality_name'].replace('садовое товарищество Приладожский', 'поселок городского типа Приладожский')\n",
    "data['locality_name'] = data['locality_name'].replace('городской поселок Рощино', 'поселок городского типа Рощино')\n",
    "data['locality_name'] = data['locality_name'].replace('поселок станции Громово', 'поселок Громово')\n",
    "data['locality_name'] = data['locality_name'].replace('поселок городского типа Большая Ижора', 'городской поселок Большая Ижора')\n",
    "data['locality_name'] = data['locality_name'].replace('поселок Гарболово', 'деревня Гарболово')\n",
    "data['locality_name'] = data['locality_name'].replace('поселок при железнодорожной станции Приветнинское', 'поселок станции Приветнинское')\n",
    "data['locality_name'] = data['locality_name'].replace('поселок при железнодорожной станции Вещево', 'поселок станции Вещево')\n",
    "data['locality_name'] = data['locality_name'].replace('поселок городского типа Лесогорский', 'городской поселок Лесогорский')\n",
    "data['locality_name'] = data['locality_name'].replace('городской поселок Мга', 'поселок городского типа Мга')\n",
    "data['locality_name'] = data['locality_name'].replace('поселок городского типа Рябово', 'поселок Рябово')\n",
    "data['locality_name'].unique()\n",
    "\n"
   ]
  },
  {
   "cell_type": "markdown",
   "metadata": {},
   "source": []
  },
  {
   "cell_type": "markdown",
   "metadata": {},
   "source": [
    "заменили букву ё на е, убрали неявные дубликаты методом replace() но слишком громоздкое решение, наверное тут нужен цикл или словарь"
   ]
  },
  {
   "cell_type": "code",
   "execution_count": 20,
   "metadata": {},
   "outputs": [
    {
     "data": {
      "text/plain": [
       "37434.0    61\n",
       "21928.0    32\n",
       "39946.0    30\n",
       "44870.0    30\n",
       "18732.0    27\n",
       "           ..\n",
       "53478.0     1\n",
       "20335.0     1\n",
       "33699.0     1\n",
       "26945.0     1\n",
       "20875.0     1\n",
       "Name: airports_nearest, Length: 8275, dtype: int64"
      ]
     },
     "execution_count": 20,
     "metadata": {},
     "output_type": "execute_result"
    }
   ],
   "source": [
    "data['airports_nearest'].value_counts()"
   ]
  },
  {
   "cell_type": "code",
   "execution_count": 21,
   "metadata": {},
   "outputs": [
    {
     "data": {
      "text/plain": [
       "0.0        5519\n",
       "8460.0       61\n",
       "20802.0      32\n",
       "10720.0      30\n",
       "20444.0      27\n",
       "           ... \n",
       "5278.0        1\n",
       "11575.0       1\n",
       "3205.0        1\n",
       "12747.0       1\n",
       "4234.0        1\n",
       "Name: cityCenters_nearest, Length: 7643, dtype: int64"
      ]
     },
     "execution_count": 21,
     "metadata": {},
     "output_type": "execute_result"
    }
   ],
   "source": [
    "data['cityCenters_nearest'] = data['cityCenters_nearest'].fillna(0)\n",
    "data['cityCenters_nearest'].value_counts()"
   ]
  },
  {
   "cell_type": "markdown",
   "metadata": {},
   "source": [
    "заменили пропуски на 0, посмотрели результаты"
   ]
  },
  {
   "cell_type": "code",
   "execution_count": 22,
   "metadata": {},
   "outputs": [
    {
     "data": {
      "text/plain": [
       "0.0    10106\n",
       "1.0     5681\n",
       "2.0     1747\n",
       "3.0      647\n",
       "Name: parks_around3000, dtype: int64"
      ]
     },
     "execution_count": 22,
     "metadata": {},
     "output_type": "execute_result"
    }
   ],
   "source": [
    "data['parks_around3000'].value_counts()"
   ]
  },
  {
   "cell_type": "markdown",
   "metadata": {},
   "source": [
    "в столбце 10106 0.0 значений, а остальные: 1.0 2.0 3.0 (можно привести к int64)"
   ]
  },
  {
   "cell_type": "code",
   "execution_count": 23,
   "metadata": {},
   "outputs": [
    {
     "data": {
      "text/plain": [
       "441.0     67\n",
       "392.0     41\n",
       "173.0     41\n",
       "456.0     40\n",
       "471.0     32\n",
       "          ..\n",
       "2489.0     1\n",
       "786.0      1\n",
       "793.0      1\n",
       "92.0       1\n",
       "929.0      1\n",
       "Name: parks_nearest, Length: 995, dtype: int64"
      ]
     },
     "execution_count": 23,
     "metadata": {},
     "output_type": "execute_result"
    }
   ],
   "source": [
    "data['parks_nearest'].value_counts()"
   ]
  },
  {
   "cell_type": "code",
   "execution_count": 24,
   "metadata": {},
   "outputs": [
    {
     "data": {
      "text/plain": [
       "0.0    9071\n",
       "1.0    5717\n",
       "2.0    1892\n",
       "3.0    1501\n",
       "Name: ponds_around3000, dtype: int64"
      ]
     },
     "execution_count": 24,
     "metadata": {},
     "output_type": "execute_result"
    }
   ],
   "source": [
    "data['ponds_around3000'].value_counts()"
   ]
  },
  {
   "cell_type": "markdown",
   "metadata": {},
   "source": [
    "в столбце 9071 0.0 значений, а остальные: 1.0 2.0 3.0 можно привести к int64"
   ]
  },
  {
   "cell_type": "code",
   "execution_count": 25,
   "metadata": {},
   "outputs": [
    {
     "data": {
      "text/plain": [
       "427.0     70\n",
       "454.0     41\n",
       "153.0     40\n",
       "433.0     39\n",
       "564.0     37\n",
       "          ..\n",
       "1075.0     1\n",
       "74.0       1\n",
       "1236.0     1\n",
       "395.0      1\n",
       "995.0      1\n",
       "Name: ponds_nearest, Length: 1096, dtype: int64"
      ]
     },
     "execution_count": 25,
     "metadata": {},
     "output_type": "execute_result"
    }
   ],
   "source": [
    "data['ponds_nearest'].value_counts()"
   ]
  },
  {
   "cell_type": "code",
   "execution_count": 77,
   "metadata": {
    "scrolled": true
   },
   "outputs": [
    {
     "data": {
      "text/plain": [
       "0       3181\n",
       "45       880\n",
       "60       538\n",
       "7        234\n",
       "30       208\n",
       "        ... \n",
       "1112       1\n",
       "1080       1\n",
       "1064       1\n",
       "1032       1\n",
       "1391       1\n",
       "Name: days_exposition, Length: 1142, dtype: int64"
      ]
     },
     "execution_count": 77,
     "metadata": {},
     "output_type": "execute_result"
    }
   ],
   "source": [
    "data['days_exposition'].value_counts()"
   ]
  },
  {
   "cell_type": "markdown",
   "metadata": {},
   "source": [
    "переведем в int64 и заменим пропуски на 0"
   ]
  },
  {
   "cell_type": "markdown",
   "metadata": {},
   "source": [
    "теперь преобразуем данные:"
   ]
  },
  {
   "cell_type": "markdown",
   "metadata": {},
   "source": [
    "поменяем тип данных в столбце на int64 и выведем результат:"
   ]
  },
  {
   "cell_type": "code",
   "execution_count": 27,
   "metadata": {
    "scrolled": false
   },
   "outputs": [
    {
     "data": {
      "text/plain": [
       "0        13000000\n",
       "1         3350000\n",
       "2         5196000\n",
       "3        64900000\n",
       "4        10000000\n",
       "           ...   \n",
       "23694     9700000\n",
       "23695     3100000\n",
       "23696     2500000\n",
       "23697    11475000\n",
       "23698     1350000\n",
       "Name: last_price, Length: 23699, dtype: int64"
      ]
     },
     "execution_count": 27,
     "metadata": {},
     "output_type": "execute_result"
    }
   ],
   "source": [
    "data['last_price'] = data['last_price'].astype('int64')\n",
    "data['last_price']"
   ]
  },
  {
   "cell_type": "markdown",
   "metadata": {},
   "source": [
    "приведем формат столбца только к дате, ведь время не указано и выведем результат: "
   ]
  },
  {
   "cell_type": "code",
   "execution_count": 28,
   "metadata": {
    "scrolled": true
   },
   "outputs": [
    {
     "data": {
      "text/plain": [
       "0        2019-03-07\n",
       "1        2018-12-04\n",
       "2        2015-08-20\n",
       "3        2015-07-24\n",
       "4        2018-06-19\n",
       "            ...    \n",
       "23694    2017-03-21\n",
       "23695    2018-01-15\n",
       "23696    2018-02-11\n",
       "23697    2017-03-28\n",
       "23698    2017-07-21\n",
       "Name: first_day_exposition, Length: 23699, dtype: object"
      ]
     },
     "execution_count": 28,
     "metadata": {},
     "output_type": "execute_result"
    }
   ],
   "source": [
    "\n",
    "data['first_day_exposition'] = pd.to_datetime(data['first_day_exposition']).dt.date\n",
    "data['first_day_exposition']\n"
   ]
  },
  {
   "cell_type": "markdown",
   "metadata": {},
   "source": [
    "Убрала черновой вариант)"
   ]
  },
  {
   "cell_type": "code",
   "execution_count": 29,
   "metadata": {},
   "outputs": [
    {
     "data": {
      "text/plain": [
       "21908    9.8\n",
       "22473    9.1\n",
       "4542     9.0\n",
       "4100     9.0\n",
       "19620    9.0\n",
       "22252    9.0\n",
       "1326     9.0\n",
       "7312     9.0\n",
       "8325     9.0\n",
       "15833    9.0\n",
       "680      9.0\n",
       "17248    8.9\n",
       "21505    8.5\n",
       "2309     8.4\n",
       "114      8.3\n",
       "20994    8.0\n",
       "23208    8.0\n",
       "19251    6.5\n",
       "16431    6.0\n",
       "21943    5.4\n",
       "17582    5.0\n",
       "3242     3.0\n",
       "23574    3.0\n",
       "13915    2.0\n",
       "21758    2.0\n",
       "Name: living_area, dtype: float64"
      ]
     },
     "execution_count": 29,
     "metadata": {},
     "output_type": "execute_result"
    }
   ],
   "source": [
    "data['living_area'].value_counts()\n",
    "data['living_area'].describe()\n",
    "#много знаков после запятой и пропусков. \n",
    "#можем посчитать процент жилой площади по всей в выборке \n",
    "data['living_area'].mean()\n",
    "#и добавить для строк с пропусками \n",
    "data['living_area'] = data['living_area'].fillna(data['living_area'].mean())\n",
    "data['living_area'].sort_values(ascending=False).tail(25)\n",
    "#и посмотрим, как выглядят последние отсортированные значения списка"
   ]
  },
  {
   "cell_type": "code",
   "execution_count": 30,
   "metadata": {
    "scrolled": false
   },
   "outputs": [
    {
     "data": {
      "text/plain": [
       "False    23649\n",
       "True        50\n",
       "Name: is_apartment, dtype: int64"
      ]
     },
     "execution_count": 30,
     "metadata": {},
     "output_type": "execute_result"
    }
   ],
   "source": [
    "data['is_apartment'] = data['is_apartment'].fillna(False)\n",
    "data['is_apartment'].value_counts()"
   ]
  },
  {
   "cell_type": "markdown",
   "metadata": {},
   "source": [
    "пропуски в столбце is_apartment поменяли на False"
   ]
  },
  {
   "cell_type": "code",
   "execution_count": 32,
   "metadata": {
    "scrolled": true
   },
   "outputs": [
    {
     "data": {
      "text/html": [
       "<div>\n",
       "<style scoped>\n",
       "    .dataframe tbody tr th:only-of-type {\n",
       "        vertical-align: middle;\n",
       "    }\n",
       "\n",
       "    .dataframe tbody tr th {\n",
       "        vertical-align: top;\n",
       "    }\n",
       "\n",
       "    .dataframe thead th {\n",
       "        text-align: right;\n",
       "    }\n",
       "</style>\n",
       "<table border=\"1\" class=\"dataframe\">\n",
       "  <thead>\n",
       "    <tr style=\"text-align: right;\">\n",
       "      <th></th>\n",
       "      <th>total_images</th>\n",
       "      <th>last_price</th>\n",
       "      <th>total_area</th>\n",
       "      <th>first_day_exposition</th>\n",
       "      <th>rooms</th>\n",
       "      <th>ceiling_height</th>\n",
       "      <th>floors_total</th>\n",
       "      <th>living_area</th>\n",
       "      <th>floor</th>\n",
       "      <th>is_apartment</th>\n",
       "      <th>...</th>\n",
       "      <th>kitchen_area</th>\n",
       "      <th>balcony</th>\n",
       "      <th>locality_name</th>\n",
       "      <th>airports_nearest</th>\n",
       "      <th>cityCenters_nearest</th>\n",
       "      <th>parks_around3000</th>\n",
       "      <th>parks_nearest</th>\n",
       "      <th>ponds_around3000</th>\n",
       "      <th>ponds_nearest</th>\n",
       "      <th>days_exposition</th>\n",
       "    </tr>\n",
       "  </thead>\n",
       "  <tbody>\n",
       "    <tr>\n",
       "      <th>1097</th>\n",
       "      <td>3</td>\n",
       "      <td>8600000</td>\n",
       "      <td>81.7</td>\n",
       "      <td>2016-04-15</td>\n",
       "      <td>3</td>\n",
       "      <td>3.55</td>\n",
       "      <td>5</td>\n",
       "      <td>50.8</td>\n",
       "      <td>2</td>\n",
       "      <td>False</td>\n",
       "      <td>...</td>\n",
       "      <td>8.8</td>\n",
       "      <td>0</td>\n",
       "      <td>NaN</td>\n",
       "      <td>23478.0</td>\n",
       "      <td>4258.0</td>\n",
       "      <td>0.0</td>\n",
       "      <td>NaN</td>\n",
       "      <td>0.0</td>\n",
       "      <td>NaN</td>\n",
       "      <td>147</td>\n",
       "    </tr>\n",
       "    <tr>\n",
       "      <th>2033</th>\n",
       "      <td>6</td>\n",
       "      <td>5398000</td>\n",
       "      <td>80.0</td>\n",
       "      <td>2017-05-30</td>\n",
       "      <td>3</td>\n",
       "      <td>NaN</td>\n",
       "      <td>4</td>\n",
       "      <td>42.6</td>\n",
       "      <td>2</td>\n",
       "      <td>False</td>\n",
       "      <td>...</td>\n",
       "      <td>18.6</td>\n",
       "      <td>0</td>\n",
       "      <td>NaN</td>\n",
       "      <td>NaN</td>\n",
       "      <td>0.0</td>\n",
       "      <td>NaN</td>\n",
       "      <td>NaN</td>\n",
       "      <td>NaN</td>\n",
       "      <td>NaN</td>\n",
       "      <td>34</td>\n",
       "    </tr>\n",
       "    <tr>\n",
       "      <th>2603</th>\n",
       "      <td>20</td>\n",
       "      <td>3351765</td>\n",
       "      <td>42.7</td>\n",
       "      <td>2015-09-20</td>\n",
       "      <td>1</td>\n",
       "      <td>NaN</td>\n",
       "      <td>24</td>\n",
       "      <td>15.6</td>\n",
       "      <td>3</td>\n",
       "      <td>False</td>\n",
       "      <td>...</td>\n",
       "      <td>10.7</td>\n",
       "      <td>0</td>\n",
       "      <td>NaN</td>\n",
       "      <td>22041.0</td>\n",
       "      <td>17369.0</td>\n",
       "      <td>0.0</td>\n",
       "      <td>NaN</td>\n",
       "      <td>1.0</td>\n",
       "      <td>374.0</td>\n",
       "      <td>276</td>\n",
       "    </tr>\n",
       "    <tr>\n",
       "      <th>2632</th>\n",
       "      <td>2</td>\n",
       "      <td>5130593</td>\n",
       "      <td>62.4</td>\n",
       "      <td>2015-10-11</td>\n",
       "      <td>2</td>\n",
       "      <td>NaN</td>\n",
       "      <td>24</td>\n",
       "      <td>33.1</td>\n",
       "      <td>21</td>\n",
       "      <td>False</td>\n",
       "      <td>...</td>\n",
       "      <td>8.2</td>\n",
       "      <td>0</td>\n",
       "      <td>NaN</td>\n",
       "      <td>22041.0</td>\n",
       "      <td>17369.0</td>\n",
       "      <td>0.0</td>\n",
       "      <td>NaN</td>\n",
       "      <td>1.0</td>\n",
       "      <td>374.0</td>\n",
       "      <td>256</td>\n",
       "    </tr>\n",
       "    <tr>\n",
       "      <th>3574</th>\n",
       "      <td>10</td>\n",
       "      <td>4200000</td>\n",
       "      <td>46.5</td>\n",
       "      <td>2016-05-28</td>\n",
       "      <td>2</td>\n",
       "      <td>NaN</td>\n",
       "      <td>5</td>\n",
       "      <td>30.8</td>\n",
       "      <td>5</td>\n",
       "      <td>False</td>\n",
       "      <td>...</td>\n",
       "      <td>6.5</td>\n",
       "      <td>0</td>\n",
       "      <td>NaN</td>\n",
       "      <td>27419.0</td>\n",
       "      <td>8127.0</td>\n",
       "      <td>0.0</td>\n",
       "      <td>NaN</td>\n",
       "      <td>1.0</td>\n",
       "      <td>603.0</td>\n",
       "      <td>45</td>\n",
       "    </tr>\n",
       "  </tbody>\n",
       "</table>\n",
       "<p>5 rows × 22 columns</p>\n",
       "</div>"
      ],
      "text/plain": [
       "      total_images  last_price  total_area first_day_exposition  rooms  \\\n",
       "1097             3     8600000        81.7           2016-04-15      3   \n",
       "2033             6     5398000        80.0           2017-05-30      3   \n",
       "2603            20     3351765        42.7           2015-09-20      1   \n",
       "2632             2     5130593        62.4           2015-10-11      2   \n",
       "3574            10     4200000        46.5           2016-05-28      2   \n",
       "\n",
       "      ceiling_height  floors_total  living_area  floor  is_apartment  ...  \\\n",
       "1097            3.55             5         50.8      2         False  ...   \n",
       "2033             NaN             4         42.6      2         False  ...   \n",
       "2603             NaN            24         15.6      3         False  ...   \n",
       "2632             NaN            24         33.1     21         False  ...   \n",
       "3574             NaN             5         30.8      5         False  ...   \n",
       "\n",
       "      kitchen_area  balcony  locality_name  airports_nearest  \\\n",
       "1097           8.8        0            NaN           23478.0   \n",
       "2033          18.6        0            NaN               NaN   \n",
       "2603          10.7        0            NaN           22041.0   \n",
       "2632           8.2        0            NaN           22041.0   \n",
       "3574           6.5        0            NaN           27419.0   \n",
       "\n",
       "     cityCenters_nearest  parks_around3000  parks_nearest  ponds_around3000  \\\n",
       "1097              4258.0               0.0            NaN               0.0   \n",
       "2033                 0.0               NaN            NaN               NaN   \n",
       "2603             17369.0               0.0            NaN               1.0   \n",
       "2632             17369.0               0.0            NaN               1.0   \n",
       "3574              8127.0               0.0            NaN               1.0   \n",
       "\n",
       "      ponds_nearest  days_exposition  \n",
       "1097            NaN              147  \n",
       "2033            NaN               34  \n",
       "2603          374.0              276  \n",
       "2632          374.0              256  \n",
       "3574          603.0               45  \n",
       "\n",
       "[5 rows x 22 columns]"
      ]
     },
     "execution_count": 32,
     "metadata": {},
     "output_type": "execute_result"
    }
   ],
   "source": [
    "#data['locality_name'].value_counts()\n",
    "data[data['locality_name'].isna()].head()"
   ]
  },
  {
   "cell_type": "markdown",
   "metadata": {},
   "source": [
    "Не очень понятна пророда пропусков в столбце. "
   ]
  },
  {
   "cell_type": "code",
   "execution_count": 33,
   "metadata": {},
   "outputs": [],
   "source": [
    "data['airports_nearest'].describe()\n",
    "data[data['airports_nearest'].isna()].head(30)\n",
    "data['airports_nearest'] = data['airports_nearest'].fillna(0).astype('int64')"
   ]
  },
  {
   "cell_type": "markdown",
   "metadata": {},
   "source": [
    "Переведем растояние до аэропорта в int64 и заменим пропуски. Однако во всем столбце их очень много, заполнено только 18157 из 23699. Вопрос в том, можем ли мы еще где то подчерпнуть информацию (например, запросить у коллег) или можем пренебречь данными столбца."
   ]
  },
  {
   "cell_type": "code",
   "execution_count": 34,
   "metadata": {},
   "outputs": [
    {
     "data": {
      "text/plain": [
       "count    23699.000000\n",
       "mean         0.469049\n",
       "std          0.748534\n",
       "min          0.000000\n",
       "25%          0.000000\n",
       "50%          0.000000\n",
       "75%          1.000000\n",
       "max          3.000000\n",
       "Name: parks_around3000, dtype: float64"
      ]
     },
     "execution_count": 34,
     "metadata": {},
     "output_type": "execute_result"
    }
   ],
   "source": [
    "data['parks_around3000'] = data['parks_around3000'].fillna(0)\n",
    "data['parks_around3000'].describe()\n"
   ]
  },
  {
   "cell_type": "code",
   "execution_count": 35,
   "metadata": {
    "scrolled": false
   },
   "outputs": [
    {
     "data": {
      "text/plain": [
       "count    8079.000000\n",
       "mean      490.804555\n",
       "std       342.317995\n",
       "min         1.000000\n",
       "25%       288.000000\n",
       "50%       455.000000\n",
       "75%       612.000000\n",
       "max      3190.000000\n",
       "Name: parks_nearest, dtype: float64"
      ]
     },
     "execution_count": 35,
     "metadata": {},
     "output_type": "execute_result"
    }
   ],
   "source": [
    "data['parks_nearest'].describe()"
   ]
  },
  {
   "cell_type": "code",
   "execution_count": 36,
   "metadata": {
    "scrolled": true
   },
   "outputs": [
    {
     "data": {
      "text/plain": [
       "count    18181.000000\n",
       "mean         0.770255\n",
       "std          0.938346\n",
       "min          0.000000\n",
       "25%          0.000000\n",
       "50%          1.000000\n",
       "75%          1.000000\n",
       "max          3.000000\n",
       "Name: ponds_around3000, dtype: float64"
      ]
     },
     "execution_count": 36,
     "metadata": {},
     "output_type": "execute_result"
    }
   ],
   "source": [
    "data['ponds_around3000'].describe()"
   ]
  },
  {
   "cell_type": "code",
   "execution_count": 37,
   "metadata": {
    "scrolled": true
   },
   "outputs": [
    {
     "data": {
      "text/plain": [
       "count    9110.000000\n",
       "mean      517.980900\n",
       "std       277.720643\n",
       "min        13.000000\n",
       "25%       294.000000\n",
       "50%       502.000000\n",
       "75%       729.000000\n",
       "max      1344.000000\n",
       "Name: ponds_nearest, dtype: float64"
      ]
     },
     "execution_count": 37,
     "metadata": {},
     "output_type": "execute_result"
    }
   ],
   "source": [
    "data['ponds_nearest'].describe()"
   ]
  },
  {
   "cell_type": "markdown",
   "metadata": {},
   "source": [
    "заменили пропуски на 0, перевели в int64 для удобства просмотра"
   ]
  },
  {
   "cell_type": "markdown",
   "metadata": {},
   "source": [
    "Посмотрим общую финальную информацию"
   ]
  },
  {
   "cell_type": "code",
   "execution_count": 39,
   "metadata": {},
   "outputs": [
    {
     "name": "stdout",
     "output_type": "stream",
     "text": [
      "<class 'pandas.core.frame.DataFrame'>\n",
      "RangeIndex: 23699 entries, 0 to 23698\n",
      "Data columns (total 22 columns):\n",
      " #   Column                Non-Null Count  Dtype  \n",
      "---  ------                --------------  -----  \n",
      " 0   total_images          23699 non-null  int64  \n",
      " 1   last_price            23699 non-null  int64  \n",
      " 2   total_area            23699 non-null  float64\n",
      " 3   first_day_exposition  23699 non-null  object \n",
      " 4   rooms                 23699 non-null  int64  \n",
      " 5   ceiling_height        14504 non-null  float64\n",
      " 6   floors_total          23699 non-null  int64  \n",
      " 7   living_area           23699 non-null  float64\n",
      " 8   floor                 23699 non-null  int64  \n",
      " 9   is_apartment          23699 non-null  bool   \n",
      " 10  studio                23699 non-null  bool   \n",
      " 11  open_plan             23699 non-null  bool   \n",
      " 12  kitchen_area          21421 non-null  float64\n",
      " 13  balcony               23699 non-null  int64  \n",
      " 14  locality_name         23650 non-null  object \n",
      " 15  airports_nearest      23699 non-null  int64  \n",
      " 16  cityCenters_nearest   23699 non-null  float64\n",
      " 17  parks_around3000      23699 non-null  float64\n",
      " 18  parks_nearest         8079 non-null   float64\n",
      " 19  ponds_around3000      18181 non-null  float64\n",
      " 20  ponds_nearest         9110 non-null   float64\n",
      " 21  days_exposition       23699 non-null  int64  \n",
      "dtypes: bool(3), float64(9), int64(8), object(2)\n",
      "memory usage: 3.5+ MB\n"
     ]
    }
   ],
   "source": [
    "data.info()"
   ]
  },
  {
   "cell_type": "markdown",
   "metadata": {},
   "source": [
    "### Посчитайте и добавьте в таблицу новые столбцы"
   ]
  },
  {
   "cell_type": "markdown",
   "metadata": {},
   "source": [
    "Добавляем новый столбец с ценой одного квардратного метра: "
   ]
  },
  {
   "cell_type": "code",
   "execution_count": 40,
   "metadata": {},
   "outputs": [
    {
     "data": {
      "text/plain": [
       "0    120370\n",
       "1     82920\n",
       "2     92785\n",
       "3    408176\n",
       "4    100000\n",
       "5     95065\n",
       "6     99195\n",
       "7    110544\n",
       "8     87454\n",
       "9     88524\n",
       "Name: square_meter_price, dtype: int64"
      ]
     },
     "execution_count": 40,
     "metadata": {},
     "output_type": "execute_result"
    }
   ],
   "source": [
    "data['square_meter_price'] = data['last_price'] / data['total_area']\n",
    "data['square_meter_price'] = data['square_meter_price'].astype('int64')\n",
    "data['square_meter_price'].head(10)\n"
   ]
  },
  {
   "cell_type": "markdown",
   "metadata": {},
   "source": [
    "для удобства просмотра приведем к целочисленным значениям, выведем 10 значений для просмотра"
   ]
  },
  {
   "cell_type": "markdown",
   "metadata": {},
   "source": [
    "Добавляем день недели публикации объявления (0 — понедельник, 1 — вторник и так далее), а далее месяц и год: \n",
    "Будем выводить первые 10 значений для проверки корректности работы кода. "
   ]
  },
  {
   "cell_type": "code",
   "execution_count": 41,
   "metadata": {},
   "outputs": [
    {
     "data": {
      "text/plain": [
       "0    3\n",
       "1    1\n",
       "2    3\n",
       "3    4\n",
       "4    1\n",
       "5    0\n",
       "6    3\n",
       "7    3\n",
       "8    2\n",
       "9    6\n",
       "Name: day_of_exposition, dtype: int64"
      ]
     },
     "execution_count": 41,
     "metadata": {},
     "output_type": "execute_result"
    }
   ],
   "source": [
    "#добавляю столбец дня:\n",
    "data['day_of_exposition'] = pd.to_datetime(data['first_day_exposition']).dt.weekday\n",
    "data['day_of_exposition'].head(10)\n",
    "\n"
   ]
  },
  {
   "cell_type": "code",
   "execution_count": 42,
   "metadata": {},
   "outputs": [
    {
     "data": {
      "text/plain": [
       "0     3\n",
       "1    12\n",
       "2     8\n",
       "3     7\n",
       "4     6\n",
       "5     9\n",
       "6    11\n",
       "7     4\n",
       "8     5\n",
       "9     2\n",
       "Name: month_exposition, dtype: int64"
      ]
     },
     "execution_count": 42,
     "metadata": {},
     "output_type": "execute_result"
    }
   ],
   "source": [
    "#добавляю столбец месяца:\n",
    "data['month_exposition'] = pd.to_datetime(data['first_day_exposition']).dt.month\n",
    "data['month_exposition'].head(10)\n"
   ]
  },
  {
   "cell_type": "code",
   "execution_count": 43,
   "metadata": {},
   "outputs": [
    {
     "data": {
      "text/plain": [
       "0    2019\n",
       "1    2018\n",
       "2    2015\n",
       "3    2015\n",
       "4    2018\n",
       "5    2018\n",
       "6    2017\n",
       "7    2019\n",
       "8    2018\n",
       "9    2017\n",
       "Name: year_exposition, dtype: int64"
      ]
     },
     "execution_count": 43,
     "metadata": {},
     "output_type": "execute_result"
    }
   ],
   "source": [
    "#добавляю столбец года:\n",
    "data['year_exposition'] = pd.to_datetime(data['first_day_exposition']).dt.year\n",
    "data['year_exposition'].head(10)"
   ]
  },
  {
   "cell_type": "markdown",
   "metadata": {},
   "source": [
    "Добавляю тип этажа квартиры (значения — «первый», «последний», «другой»):"
   ]
  },
  {
   "cell_type": "code",
   "execution_count": 44,
   "metadata": {},
   "outputs": [
    {
     "data": {
      "text/plain": [
       "другой       17443\n",
       "последний     3339\n",
       "первый        2917\n",
       "Name: floor_cat, dtype: int64"
      ]
     },
     "execution_count": 44,
     "metadata": {},
     "output_type": "execute_result"
    }
   ],
   "source": [
    "def cat_floor(row):\n",
    "    floors_total = row['floors_total']\n",
    "    floor = row['floor']\n",
    "    if floor == 1:\n",
    "        return 'первый'\n",
    "    elif floor == floors_total:\n",
    "        return 'последний'\n",
    "    else:\n",
    "        return 'другой'\n",
    "data['floor_cat'] = data.apply(cat_floor, axis=1)  \n",
    "data['floor_cat'].value_counts()"
   ]
  },
  {
   "cell_type": "markdown",
   "metadata": {},
   "source": [
    "Тут я создала функцию, котора проверяет, является ли этаж первым или совпадает с числом этажей в здании, если иное - выведет \"другое\"\n",
    "Вывод: у нас в датафрейме преобладают квартиры, расположенные не на первом и не на последнем этажах"
   ]
  },
  {
   "cell_type": "markdown",
   "metadata": {},
   "source": [
    "Добавлю столбец с расстоянием до центра города в километрах (переведем из м в км и округлим до целых значений:"
   ]
  },
  {
   "cell_type": "code",
   "execution_count": 45,
   "metadata": {},
   "outputs": [
    {
     "data": {
      "text/plain": [
       "0    16\n",
       "1    18\n",
       "2    13\n",
       "3     6\n",
       "4     8\n",
       "5     0\n",
       "6    19\n",
       "7    11\n",
       "8     0\n",
       "9    15\n",
       "Name: distance_to_center, dtype: int64"
      ]
     },
     "execution_count": 45,
     "metadata": {},
     "output_type": "execute_result"
    }
   ],
   "source": [
    "\n",
    "data['distance_to_center'] = (data['cityCenters_nearest'] / 1000).fillna(0).astype('int64')\n",
    "data['distance_to_center'].head(10)\n"
   ]
  },
  {
   "cell_type": "markdown",
   "metadata": {},
   "source": [
    "### Проведите исследовательский анализ данных"
   ]
  },
  {
   "cell_type": "markdown",
   "metadata": {},
   "source": [
    "#### Общая жилплощадь:"
   ]
  },
  {
   "cell_type": "code",
   "execution_count": 46,
   "metadata": {
    "scrolled": false
   },
   "outputs": [
    {
     "data": {
      "text/plain": [
       "count    23699.000000\n",
       "mean        60.348651\n",
       "std         35.654083\n",
       "min         12.000000\n",
       "25%         40.000000\n",
       "50%         52.000000\n",
       "75%         69.900000\n",
       "max        900.000000\n",
       "Name: total_area, dtype: float64"
      ]
     },
     "execution_count": 46,
     "metadata": {},
     "output_type": "execute_result"
    },
    {
     "data": {
      "image/png": "[encoded data removed]",
      "text/plain": [
       "<Figure size 360x216 with 1 Axes>"
      ]
     },
     "metadata": {
      "needs_background": "light"
     },
     "output_type": "display_data"
    }
   ],
   "source": [
    "data.plot(y = 'total_area', kind = 'hist', bins = 30, grid=True, figsize = (5,3), range = (0,400))\n",
    "data['total_area'].describe()\n"
   ]
  },
  {
   "cell_type": "markdown",
   "metadata": {},
   "source": [
    "Вывод:Общая площадь в нашей выборке колеблется от 12 до 900 м2, среднее значение 60.348651, а медиана 52 кв м. Распределение данных нормальное или Гаусса. Наибольшее количество квартир имеет среднюю площадь в районе 45-52 кв м, с 200 м кв тянется хвост графика, там мы встречаем одиночные значения квартир большей площади"
   ]
  },
  {
   "cell_type": "markdown",
   "metadata": {},
   "source": [
    "#### Жилая площадь"
   ]
  },
  {
   "cell_type": "code",
   "execution_count": 47,
   "metadata": {
    "scrolled": false
   },
   "outputs": [
    {
     "data": {
      "text/plain": [
       "count    23699.000000\n",
       "mean        34.457852\n",
       "std         21.127391\n",
       "min          2.000000\n",
       "25%         19.000000\n",
       "50%         31.100000\n",
       "75%         41.100000\n",
       "max        409.700000\n",
       "Name: living_area, dtype: float64"
      ]
     },
     "execution_count": 47,
     "metadata": {},
     "output_type": "execute_result"
    },
    {
     "data": {
      "image/png": "[encoded data removed]",
      "text/plain": [
       "<Figure size 360x216 with 1 Axes>"
      ]
     },
     "metadata": {
      "needs_background": "light"
     },
     "output_type": "display_data"
    }
   ],
   "source": [
    "data.plot(y = 'living_area', kind = 'hist', bins = 30, grid=True, figsize = (5,3), range = (0,300))\n",
    "data['living_area'].describe()\n"
   ]
  },
  {
   "cell_type": "markdown",
   "metadata": {},
   "source": [
    "Вывод: жилая  площадь в нашей выборке колеблется от 2 до 409,7 м2, среднее значение 34.457852, а медиана 31,1 кв м. Распределение данных похоже на распределение Пуассона. Наибольшее количество квартир имеет среднюю жилую площадь в районе 30 кв м, с 130 м кв тянется хвост графика, там мы встречаем одиночные значения квартир большей жилой площади"
   ]
  },
  {
   "cell_type": "markdown",
   "metadata": {},
   "source": [
    "#### Площадь кухни:"
   ]
  },
  {
   "cell_type": "code",
   "execution_count": 48,
   "metadata": {
    "scrolled": true
   },
   "outputs": [
    {
     "data": {
      "text/plain": [
       "count    21421.000000\n",
       "mean        10.569807\n",
       "std          5.905438\n",
       "min          1.300000\n",
       "25%          7.000000\n",
       "50%          9.100000\n",
       "75%         12.000000\n",
       "max        112.000000\n",
       "Name: kitchen_area, dtype: float64"
      ]
     },
     "execution_count": 48,
     "metadata": {},
     "output_type": "execute_result"
    },
    {
     "data": {
      "image/png": "[encoded data removed]",
      "text/plain": [
       "<Figure size 360x216 with 1 Axes>"
      ]
     },
     "metadata": {
      "needs_background": "light"
     },
     "output_type": "display_data"
    }
   ],
   "source": [
    "data.plot(y = 'kitchen_area', kind = 'hist', bins = 3030, grid=True, figsize = (5,3), range = (0,300))\n",
    "data['kitchen_area'].describe()\n"
   ]
  },
  {
   "cell_type": "markdown",
   "metadata": {},
   "source": [
    "Вывод: площадь кухни в нашей выборке колеблется от 1,3 до 112 м2, среднее значение 10.569807, а медиана 9.1 кв м. Распределение данных похоже на распределение Пуассона. Наибольшее количество квартир имеет среднюю  площадь кухни в районе 5-7 кв м, с 70 м кв тянется хвост графика, там мы встречаем одиночные значения квартир большей  площади кухни "
   ]
  },
  {
   "cell_type": "markdown",
   "metadata": {},
   "source": [
    "#### Цена объекта: "
   ]
  },
  {
   "cell_type": "code",
   "execution_count": 49,
   "metadata": {},
   "outputs": [
    {
     "data": {
      "text/plain": [
       "count    2.369900e+04\n",
       "mean     6.541549e+06\n",
       "std      1.088701e+07\n",
       "min      1.219000e+04\n",
       "25%      3.400000e+06\n",
       "50%      4.650000e+06\n",
       "75%      6.800000e+06\n",
       "max      7.630000e+08\n",
       "Name: last_price, dtype: float64"
      ]
     },
     "execution_count": 49,
     "metadata": {},
     "output_type": "execute_result"
    },
    {
     "data": {
      "image/png": "[encoded data removed]",
      "text/plain": [
       "<Figure size 360x216 with 1 Axes>"
      ]
     },
     "metadata": {
      "needs_background": "light"
     },
     "output_type": "display_data"
    }
   ],
   "source": [
    "data.plot(y = 'last_price', kind = 'hist', bins = 70, grid=True, figsize = (5,3), range = (0, 25000000))\n",
    "data['last_price'].describe()\n"
   ]
  },
  {
   "cell_type": "markdown",
   "metadata": {},
   "source": [
    "Вывод: стоимость объекта в нашей выборке колеблется от 12190 до 763млн, среднее значение 6.54 млн, а медиана 4,65 млн. Распределение данных нормальное или Гаусса. Наибольшее количество квартир имеет среднюю  стоимость районе 3-5 млн, с 17 млн остаются малые количества более дорогих квартир"
   ]
  },
  {
   "cell_type": "markdown",
   "metadata": {},
   "source": [
    "#### Количество комнат"
   ]
  },
  {
   "cell_type": "code",
   "execution_count": 50,
   "metadata": {
    "scrolled": true
   },
   "outputs": [
    {
     "data": {
      "text/plain": [
       "count    23699.000000\n",
       "mean         2.070636\n",
       "std          1.078405\n",
       "min          0.000000\n",
       "25%          1.000000\n",
       "50%          2.000000\n",
       "75%          3.000000\n",
       "max         19.000000\n",
       "Name: rooms, dtype: float64"
      ]
     },
     "execution_count": 50,
     "metadata": {},
     "output_type": "execute_result"
    },
    {
     "data": {
      "image/png": "[encoded data removed]",
      "text/plain": [
       "<Figure size 360x216 with 1 Axes>"
      ]
     },
     "metadata": {
      "needs_background": "light"
     },
     "output_type": "display_data"
    }
   ],
   "source": [
    "data.plot(y = 'rooms', kind = 'hist', bins = 5, grid=True, figsize = (5,3), range = (0, 10))\n",
    "data['rooms'].describe()\n"
   ]
  },
  {
   "cell_type": "markdown",
   "metadata": {},
   "source": [
    "Вывод: количество комнат в нашей выборке колеблется от 0 (возможно, это студии или свободная планировка) до 19(тут могут иметь место выбросы или загородные дома), среднее значение 2 комнаты, а медиана так же 2 комнаты. Распределение данных похоже на распределение Пуассона. Наибольшее количество квартир имеет от 2 до 4 комнат, с 8 комнат тянется хвост графика, там лишь одиночные значения"
   ]
  },
  {
   "cell_type": "markdown",
   "metadata": {},
   "source": [
    "#### Высота потолков"
   ]
  },
  {
   "cell_type": "code",
   "execution_count": 51,
   "metadata": {},
   "outputs": [
    {
     "data": {
      "text/plain": [
       "count    14504.000000\n",
       "mean         2.729608\n",
       "std          0.319850\n",
       "min          1.000000\n",
       "25%          2.510000\n",
       "50%          2.650000\n",
       "75%          2.800000\n",
       "max         14.000000\n",
       "Name: ceiling_height, dtype: float64"
      ]
     },
     "execution_count": 51,
     "metadata": {},
     "output_type": "execute_result"
    },
    {
     "data": {
      "image/png": "[encoded data removed]",
      "text/plain": [
       "<Figure size 360x216 with 1 Axes>"
      ]
     },
     "metadata": {
      "needs_background": "light"
     },
     "output_type": "display_data"
    }
   ],
   "source": [
    "data.plot(y = 'ceiling_height', kind = 'hist', bins = 10, grid=True, figsize = (5,3), range = (0, 10))\n",
    "data['ceiling_height'].describe()\n"
   ]
  },
  {
   "cell_type": "markdown",
   "metadata": {},
   "source": [
    "Вывод: высота потолков в нашей выборке колеблется от 1 (возможно, кладовые или технические помещения) до 14(тут могут иметь место выбросы или загородные дома, а так же двухуровневые квартиры и складские зоны), среднее значение 2,7 метра, а медиана 2,65 метра. Сказать точно про распределение данных тяжело, у нас очень небольшой разброс значений. Наибольшее количество квартир имеет высоту потолков от 2 до 3 метров, с 5 метров тянется хвост графика, там лишь одиночные значения"
   ]
  },
  {
   "cell_type": "markdown",
   "metadata": {},
   "source": [
    "#### этаж квартиры"
   ]
  },
  {
   "cell_type": "code",
   "execution_count": 52,
   "metadata": {},
   "outputs": [
    {
     "data": {
      "text/plain": [
       "count    23699.000000\n",
       "mean         5.892358\n",
       "std          4.885249\n",
       "min          1.000000\n",
       "25%          2.000000\n",
       "50%          4.000000\n",
       "75%          8.000000\n",
       "max         33.000000\n",
       "Name: floor, dtype: float64"
      ]
     },
     "execution_count": 52,
     "metadata": {},
     "output_type": "execute_result"
    },
    {
     "data": {
      "image/png": "[encoded data removed]",
      "text/plain": [
       "<Figure size 360x216 with 1 Axes>"
      ]
     },
     "metadata": {
      "needs_background": "light"
     },
     "output_type": "display_data"
    }
   ],
   "source": [
    "data.plot(y = 'floor', kind = 'hist', bins = 20, grid=True, figsize = (5,3), range = (0, 30))\n",
    "data['floor'].describe()\n",
    "\n",
    "\n"
   ]
  },
  {
   "cell_type": "markdown",
   "metadata": {},
   "source": [
    "Вывод: Этажность квартир в нашей выборке колеблется от 1 (квартиры на первом этаже или торговые помещения) до 33(тут могут иметь место выбросы квартиры в небоскребах), среднее значение 5,9, а медиана соответствует 4 этажу. Вид графика похож на распределение данных Пуассона. Наибольшее количество квартир находится на 3-4 этажах, с 27 этажа метров тянется хвост графика, там лишь одиночные значения"
   ]
  },
  {
   "cell_type": "markdown",
   "metadata": {},
   "source": [
    "#### тип этажа квартиры («первый», «последний», «другой»)"
   ]
  },
  {
   "cell_type": "code",
   "execution_count": 53,
   "metadata": {},
   "outputs": [
    {
     "data": {
      "text/plain": [
       "другой       17443\n",
       "последний     3339\n",
       "первый        2917\n",
       "Name: floor_cat, dtype: int64"
      ]
     },
     "execution_count": 53,
     "metadata": {},
     "output_type": "execute_result"
    },
    {
     "data": {
      "image/png": "[encoded data removed]",
      "text/plain": [
       "<Figure size 432x288 with 1 Axes>"
      ]
     },
     "metadata": {
      "needs_background": "light"
     },
     "output_type": "display_data"
    }
   ],
   "source": [
    "data['floor_cat'].hist()\n",
    "data['floor_cat'].value_counts()"
   ]
  },
  {
   "cell_type": "markdown",
   "metadata": {},
   "source": [
    "Вывод: гистограмма составлена по выборке по столбцу из датафрейма, где есть всего 3 варианта значения. Наиболее распостранены объекты недвижимости, расположенные не на 1 и не на последнем этаже, их количество составляет 73,6% от общего числа объектов недвижимости, значительно меньше (около 14,4%) объектов располагаются на последнем этаже, а 12% объектов находятся на первом этаже. "
   ]
  },
  {
   "cell_type": "markdown",
   "metadata": {},
   "source": [
    "#### общее количество этажей в доме"
   ]
  },
  {
   "cell_type": "code",
   "execution_count": 54,
   "metadata": {},
   "outputs": [
    {
     "data": {
      "text/plain": [
       "count    23699.000000\n",
       "mean        10.671379\n",
       "std          6.585316\n",
       "min          1.000000\n",
       "25%          5.000000\n",
       "50%          9.000000\n",
       "75%         16.000000\n",
       "max         60.000000\n",
       "Name: floors_total, dtype: float64"
      ]
     },
     "execution_count": 54,
     "metadata": {},
     "output_type": "execute_result"
    },
    {
     "data": {
      "image/png": "[encoded data removed]",
      "text/plain": [
       "<Figure size 432x216 with 1 Axes>"
      ]
     },
     "metadata": {
      "needs_background": "light"
     },
     "output_type": "display_data"
    }
   ],
   "source": [
    "data.plot(y = 'floors_total', kind = 'hist', bins = 25, grid=True, figsize = (6,3), range = (0, 35))\n",
    "data['floors_total'].describe()\n"
   ]
  },
  {
   "cell_type": "markdown",
   "metadata": {},
   "source": [
    "Вывод: Этажность домов в нашей выборке колеблется от 1 (квартиры на первом этаже или торговые помещения) до 60 (тут могут иметь место выбросы или небоскребы), среднее значение высоты здания 10,7 этажей, а медиана соответствует 9 этажу. Вид графика похож на распределение данных Пуассона. Наибольшее количество домов имеет 4-6 этажей, с 30 этажных домов тянется хвост графика, там лишь одиночные значения (есть небольшое скопление значений около 35 этажности домов). "
   ]
  },
  {
   "cell_type": "markdown",
   "metadata": {},
   "source": [
    "#### расстояние до центра города в метрах"
   ]
  },
  {
   "cell_type": "code",
   "execution_count": 55,
   "metadata": {},
   "outputs": [
    {
     "data": {
      "text/plain": [
       "count    23699.000000\n",
       "mean     10886.426896\n",
       "std       9634.613697\n",
       "min          0.000000\n",
       "25%       2242.000000\n",
       "50%      11247.000000\n",
       "75%      15248.500000\n",
       "max      65968.000000\n",
       "Name: cityCenters_nearest, dtype: float64"
      ]
     },
     "execution_count": 55,
     "metadata": {},
     "output_type": "execute_result"
    },
    {
     "data": {
      "image/png": "[encoded data removed]",
      "text/plain": [
       "<Figure size 432x288 with 1 Axes>"
      ]
     },
     "metadata": {
      "needs_background": "light"
     },
     "output_type": "display_data"
    }
   ],
   "source": [
    "data['cityCenters_nearest'].hist()\n",
    "data['cityCenters_nearest'].describe()\n",
    "data['cityCenters_nearest'].value_counts()\n",
    "data['cityCenters_nearest'].describe()"
   ]
  },
  {
   "cell_type": "markdown",
   "metadata": {},
   "source": [
    "Вывод: Если посмотреть через value_counts()значения в столбце, то как будто много пустых значений (5519). Однако график распределения похож на распределение данных Пуассона. При этом наибольшая часть объектов находится на расстоянии менее 700м до центра города, а небольшой пик в хвосте гистограммы приходится на 50 км от центра города. Мы видим по параметру describe() среднее расстояние до центра города 10886.426896, а медиана призодится на 11247м. При этом наименьшее расстояние до центра соответствует 0 м. Может быть это квартиры, находящиеся в самом центре населенного пункта? Максимальная удаленность от центра города составляет 65968м, что может быть вбросом (или объект находится в поселке, например, а расстояние считалось, скажем, до центра Санкт-Петербурга). "
   ]
  },
  {
   "cell_type": "markdown",
   "metadata": {},
   "source": [
    "#### расстояние до ближайшего аэропорта"
   ]
  },
  {
   "cell_type": "code",
   "execution_count": 56,
   "metadata": {},
   "outputs": [
    {
     "data": {
      "text/plain": [
       "count    23699.000000\n",
       "mean     22060.285497\n",
       "std      16455.276292\n",
       "min          0.000000\n",
       "25%      10196.500000\n",
       "50%      21869.000000\n",
       "75%      34327.000000\n",
       "max      84869.000000\n",
       "Name: airports_nearest, dtype: float64"
      ]
     },
     "execution_count": 56,
     "metadata": {},
     "output_type": "execute_result"
    },
    {
     "data": {
      "image/png": "[encoded data removed]",
      "text/plain": [
       "<Figure size 432x288 with 1 Axes>"
      ]
     },
     "metadata": {
      "needs_background": "light"
     },
     "output_type": "display_data"
    }
   ],
   "source": [
    "data['airports_nearest'].hist()\n",
    "data['airports_nearest'].describe()\n",
    "#data['airports_nearest'].value_counts()\n"
   ]
  },
  {
   "cell_type": "markdown",
   "metadata": {},
   "source": [
    "Вывод: Если посмотреть через value_counts()значения в столбце, то как будто много пустых значений (5543). Однако график распределения похож на распределение данных Пуассона. При этом наибольшая часть объектов находится на расстоянии менее 10 км до аэропорта, а второй пик объектов располагается на расстоянии около 19-23км от аэропорта, хвост гистограммы тянется до 80км от аэропорта, далее количество значений стремится к нулю. Мы видим по параметру describe() среднее расстояние до аэропорта 22060.28м, а медиана призодится на 21869м. При этом наименьшее расстояние до аэропорта соответствует 0 м(может быть здесь представленны объекты, расположенные прямо на взлетно-посадочной полосе? Думаю, имеют дело пропущенные данные). Максимальная удаленность от аэропорта составляет почти 85км, что может быть вбросом. "
   ]
  },
  {
   "cell_type": "markdown",
   "metadata": {},
   "source": [
    "#### расстояние до ближайшего парка"
   ]
  },
  {
   "cell_type": "code",
   "execution_count": 57,
   "metadata": {},
   "outputs": [
    {
     "data": {
      "text/plain": [
       "count    8079.000000\n",
       "mean      490.804555\n",
       "std       342.317995\n",
       "min         1.000000\n",
       "25%       288.000000\n",
       "50%       455.000000\n",
       "75%       612.000000\n",
       "max      3190.000000\n",
       "Name: parks_nearest, dtype: float64"
      ]
     },
     "execution_count": 57,
     "metadata": {},
     "output_type": "execute_result"
    },
    {
     "data": {
      "image/png": "[encoded data removed]",
      "text/plain": [
       "<Figure size 432x288 with 1 Axes>"
      ]
     },
     "metadata": {
      "needs_background": "light"
     },
     "output_type": "display_data"
    }
   ],
   "source": [
    "data['parks_nearest'].hist()\n",
    "data['parks_nearest'].describe()"
   ]
  },
  {
   "cell_type": "markdown",
   "metadata": {},
   "source": [
    "Вывод: расстояние до парка в нашей выборке колеблется от 1м (квартиры вероятно с выходом к парку или в домах, граничащих с парковой зоной) до 3190 (тут могут иметь место выбросы просчитаны расстояния до крупных заповедников и парков), среднее значение расстояния до парка составляет 490м, а медиана соответствует 455м. Вид графика похож на распределение данных Пуассона. Наибольшее количество домов расположено примернов полукилометре от парка, с а значений более 2500м от парка становится крайне мало, тут тянется хвост гистограммы. "
   ]
  },
  {
   "cell_type": "markdown",
   "metadata": {},
   "source": [
    "#### день и месяц публикации объявления"
   ]
  },
  {
   "cell_type": "code",
   "execution_count": 58,
   "metadata": {},
   "outputs": [
    {
     "data": {
      "text/plain": [
       "count    23699.000000\n",
       "mean         6.400101\n",
       "std          3.491561\n",
       "min          1.000000\n",
       "25%          3.000000\n",
       "50%          6.000000\n",
       "75%         10.000000\n",
       "max         12.000000\n",
       "Name: month_exposition, dtype: float64"
      ]
     },
     "execution_count": 58,
     "metadata": {},
     "output_type": "execute_result"
    },
    {
     "data": {
      "image/png": "[encoded data removed]",
      "text/plain": [
       "<Figure size 432x216 with 1 Axes>"
      ]
     },
     "metadata": {
      "needs_background": "light"
     },
     "output_type": "display_data"
    }
   ],
   "source": [
    "\n",
    "data.plot(y = 'month_exposition', kind = 'hist', bins = 25, grid=True, figsize = (6,3), range = (0, 15))\n",
    "data['month_exposition'].describe()\n"
   ]
  },
  {
   "cell_type": "markdown",
   "metadata": {},
   "source": [
    "Вывод: месяц продажи домов в нашей выборке колеблется от 1 (пик гистограммы тут приходится на 2 месяца) до 12, среднее значение месяца продажи 6,4, а медиана соответствует 6 месяцу.  Наибольшее количество домов было продано в феврале, следующий значительный пик приходится март, а далее на ноябрь, летом мы видим спад продаж квартир"
   ]
  },
  {
   "cell_type": "code",
   "execution_count": 59,
   "metadata": {},
   "outputs": [
    {
     "data": {
      "text/plain": [
       "count    23699.000000\n",
       "mean         2.569307\n",
       "std          1.789082\n",
       "min          0.000000\n",
       "25%          1.000000\n",
       "50%          3.000000\n",
       "75%          4.000000\n",
       "max          6.000000\n",
       "Name: day_of_exposition, dtype: float64"
      ]
     },
     "execution_count": 59,
     "metadata": {},
     "output_type": "execute_result"
    },
    {
     "data": {
      "image/png": "[encoded data removed]",
      "text/plain": [
       "<Figure size 432x216 with 1 Axes>"
      ]
     },
     "metadata": {
      "needs_background": "light"
     },
     "output_type": "display_data"
    }
   ],
   "source": [
    "data.plot(y = 'day_of_exposition', kind = 'hist', bins = 7, grid=True, figsize = (6,3), range = (0, 7))\n",
    "data['day_of_exposition'].describe()\n"
   ]
  },
  {
   "cell_type": "markdown",
   "metadata": {},
   "source": [
    "Вывод: день продажи домов в нашей выборке колеблется от понедельника (=0) (пик гистограммы приходится на четверг) до воскресения(=6), среднее значение дня продажи среда, а медиана соответствует четвергу.  Наибольшее количество домов было продано в четверг, еще один значительный пик приходится на вторник, а далее на четверг, хуже всего с продажами в выходыне"
   ]
  },
  {
   "cell_type": "markdown",
   "metadata": {},
   "source": [
    "#### Изучите, как быстро продавались квартиры (столбец days_exposition). Этот параметр показывает, сколько дней было размещено каждое объявление. \n",
    "\n",
    "##### Постройте гистограмму.\n",
    "##### Посчитайте среднее и медиану.\n",
    "##### В ячейке типа markdown опишите, сколько времени обычно занимает продажа. Какие продажи можно считать быстрыми, а какие — необычно долгими?"
   ]
  },
  {
   "cell_type": "code",
   "execution_count": 60,
   "metadata": {},
   "outputs": [
    {
     "data": {
      "text/plain": [
       "count    23699.000000\n",
       "mean       156.608844\n",
       "std        213.546873\n",
       "min          0.000000\n",
       "25%         22.000000\n",
       "50%         74.000000\n",
       "75%        199.000000\n",
       "max       1580.000000\n",
       "Name: days_exposition, dtype: float64"
      ]
     },
     "execution_count": 60,
     "metadata": {},
     "output_type": "execute_result"
    },
    {
     "data": {
      "image/png": "[encoded data removed]",
      "text/plain": [
       "<Figure size 432x216 with 1 Axes>"
      ]
     },
     "metadata": {
      "needs_background": "light"
     },
     "output_type": "display_data"
    }
   ],
   "source": [
    "data.plot(y = 'days_exposition', kind = 'hist', bins = 15, grid=True, figsize = (6,3), range = (0, 1000))\n",
    "data['days_exposition'].describe()\n"
   ]
  },
  {
   "cell_type": "markdown",
   "metadata": {},
   "source": [
    "Вывод: Скорость продажи квартир в нашей выборке колеблется от 0 (либо это молниеносные продажи квартир, либо не заполненные значения) до 1580 дней (квартиры, котороые по ряду причин продавались длительное время), среднее значение продажи квартиры составляет 156.6 дней, а медиана соответствует 74 дням (в два раза ниже среднеарефметического значения. Вид графика похож на распределение данных Пуассона. Наибольшее количество квартир продавалось менее чем за 65 дней, с 800 дня продаж тянется хвост графика, там лишь одиночные значения. \n",
    "Быстрыми продажами мы посчитаем те, которые принадлежат пику на гистограмме - до 65 дней. Необычно длительными продажами мы посчитаем те, которые составляют более 800 дней (но может здесь квартиры, которые просто формально не были сняты с объявления или возникла ошибка при заполнении датафрейма?). "
   ]
  },
  {
   "cell_type": "code",
   "execution_count": 79,
   "metadata": {},
   "outputs": [
    {
     "data": {
      "text/plain": [
       "count    23699.000000\n",
       "mean       156.608844\n",
       "std        213.546873\n",
       "min          0.000000\n",
       "25%         22.000000\n",
       "50%         74.000000\n",
       "75%        199.000000\n",
       "max       1580.000000\n",
       "Name: days_exposition, dtype: float64"
      ]
     },
     "execution_count": 79,
     "metadata": {},
     "output_type": "execute_result"
    },
    {
     "data": {
      "image/png": "[encoded data removed]",
      "text/plain": [
       "<Figure size 432x216 with 1 Axes>"
      ]
     },
     "metadata": {
      "needs_background": "light"
     },
     "output_type": "display_data"
    }
   ],
   "source": [
    "data.plot(y = 'days_exposition', kind = 'hist', bins = 100, grid=True, figsize = (6,3), range = (0, 200))\n",
    "data['days_exposition'].describe()\n"
   ]
  },
  {
   "cell_type": "markdown",
   "metadata": {},
   "source": [
    "Вывод: Близко ко нулю есть большое количество значений продажи квартир - возможно это некорректно заполненные данные или квартиры по очень привлекательной стоимости, которые были очень быстро куплены. Второй пик прихотится на примерно на 45 день продажи, а третий примерно на 60-ый. Далее скорость продаж квартир начинает постепенно уменьшатся и после 200 дня стремится к 0. "
   ]
  },
  {
   "cell_type": "markdown",
   "metadata": {},
   "source": [
    "#### Какие факторы больше всего влияют на общую (полную) стоимость объекта?\n",
    "#### Изучите, зависит ли цена от:\n",
    "\n",
    "#### общей площади;\n",
    "#### жилой площади;\n",
    "#### площади кухни;\n",
    "#### количества комнат;\n",
    "#### этажа, на котором расположена квартира (первый, последний, другой);\n",
    "#### даты размещения (день недели, месяц, год).\n",
    "\n",
    "##### Постройте графики, которые покажут зависимость цены от указанных выше параметров. Для подготовки данных перед визуализацией вы можете использовать сводные таблицы."
   ]
  },
  {
   "cell_type": "markdown",
   "metadata": {},
   "source": [
    "Зависимость цены от общей площади недвижимости:"
   ]
  },
  {
   "cell_type": "code",
   "execution_count": 61,
   "metadata": {},
   "outputs": [
    {
     "data": {
      "text/plain": [
       "0.6536750579657242"
      ]
     },
     "execution_count": 61,
     "metadata": {},
     "output_type": "execute_result"
    },
    {
     "data": {
      "image/png": "[encoded data removed]",
      "text/plain": [
       "<Figure size 432x288 with 1 Axes>"
      ]
     },
     "metadata": {
      "needs_background": "light"
     },
     "output_type": "display_data"
    }
   ],
   "source": [
    "data.plot(x='total_area', y='last_price', kind = 'scatter', grid=True)\n",
    "data['total_area'].corr(data['last_price'])"
   ]
  },
  {
   "cell_type": "markdown",
   "metadata": {},
   "source": [
    "Вывод: На графике мы распределили точечно значения зависимости  площади от стоимости продажи квартиры для оценки корреляции. И посчитали коэффициет корреляции Пирсона.значения графика сливаются в горизонтальную фигуру с небольшим уклоном на верх, но есть отдельные точки, не принадлежащие общей массе, вероятно они соответствуют некоторым выбросам. \n",
    "Коэффициент Пирсона положительный и составляет 0.6536750579657242. Это нам говорит о наличии прямой зависимости между площадью квартиры и стоимостью ее продажи, но эта зависимость не велика. \n"
   ]
  },
  {
   "cell_type": "markdown",
   "metadata": {},
   "source": [
    "Зависимость цены от жилой площади недвижимости: "
   ]
  },
  {
   "cell_type": "code",
   "execution_count": 62,
   "metadata": {},
   "outputs": [
    {
     "data": {
      "text/plain": [
       "0.5422603540381887"
      ]
     },
     "execution_count": 62,
     "metadata": {},
     "output_type": "execute_result"
    },
    {
     "data": {
      "image/png": "[encoded data removed]",
      "text/plain": [
       "<Figure size 432x288 with 1 Axes>"
      ]
     },
     "metadata": {
      "needs_background": "light"
     },
     "output_type": "display_data"
    }
   ],
   "source": [
    "data.plot(x='living_area', y='last_price', kind = 'scatter', grid=True)\n",
    "data['living_area'].corr(data['last_price'])"
   ]
  },
  {
   "cell_type": "markdown",
   "metadata": {},
   "source": [
    "Вывод: На графике мы распределили точечно значения зависимости жилой площади от стоимости продажи квартиры для оценки корреляции. И посчитали коэффициет корреляции Пирсона.\n",
    "Значения графика сливаются в горизонтальную фигуру, но есть отдельные точки, не принадлежащие общей массе, вероятно они соответствуют некоторым выбросам. \n",
    "Коэффициент Пирсона положительный и составляет 0.5422603540381887. Это нам говорит о наличии незначительной прямой зависимости между жилой площадью квартиры и стоимостью ее продажи. "
   ]
  },
  {
   "cell_type": "markdown",
   "metadata": {},
   "source": [
    "Зависимость цены от площади кухни недвижимости: "
   ]
  },
  {
   "cell_type": "code",
   "execution_count": 63,
   "metadata": {},
   "outputs": [
    {
     "data": {
      "text/plain": [
       "0.5198690130216392"
      ]
     },
     "execution_count": 63,
     "metadata": {},
     "output_type": "execute_result"
    },
    {
     "data": {
      "image/png": "[encoded data removed]",
      "text/plain": [
       "<Figure size 432x288 with 1 Axes>"
      ]
     },
     "metadata": {
      "needs_background": "light"
     },
     "output_type": "display_data"
    }
   ],
   "source": [
    "data.plot(x='kitchen_area', y='last_price', kind = 'scatter', grid=True)\n",
    "data['kitchen_area'].corr(data['last_price'])\n",
    "#data_pivot = data.pivot_table(index='last_price',  columns=['total_area', 'living_area', 'kitchen_area'])\n",
    "#data_pivot = data.pivot_table(index=['category_name', 'subcategory_name'], columns='source', values='visits', aggfunc='sum')\n",
    "\n"
   ]
  },
  {
   "cell_type": "markdown",
   "metadata": {},
   "source": [
    "Вывод: На графике мы распределили точечно значения зависимости площади кухни от стоимости продажи квартиры для оценки корреляции. И посчитали коэффициет корреляции Пирсона.\n",
    "Значения графика сливаются в горизонтальную фигуру, но есть отдельные точки, не принадлежащие общей массе, вероятно они соответствуют некоторым выбросам. \n",
    "Коэффициент Пирсона положительный и составляет 0.5198690130216392. Это нам говорит о наличии незначительной прямой зависимости между жилой площадью квартиры и стоимостью ее продажи, но площадь кухни влияет много меньше, чем зависимоть от жилой и общей площади квартиры. "
   ]
  },
  {
   "cell_type": "markdown",
   "metadata": {},
   "source": [
    "Зависимость цены от количества комнат в недвижимости: "
   ]
  },
  {
   "cell_type": "code",
   "execution_count": 64,
   "metadata": {},
   "outputs": [
    {
     "data": {
      "text/plain": [
       "0.3633428499648948"
      ]
     },
     "execution_count": 64,
     "metadata": {},
     "output_type": "execute_result"
    },
    {
     "data": {
      "image/png": "[encoded data removed]",
      "text/plain": [
       "<Figure size 432x288 with 1 Axes>"
      ]
     },
     "metadata": {
      "needs_background": "light"
     },
     "output_type": "display_data"
    }
   ],
   "source": [
    "data.plot(x='rooms', y='last_price', kind = 'scatter', grid=True)\n",
    "data['rooms'].corr(data['last_price'])"
   ]
  },
  {
   "cell_type": "markdown",
   "metadata": {},
   "source": [
    "Вывод: На графике мы распределили точечно значения зависимости количества комнат от стоимости продажи квартиры для оценки корреляции. И посчитали коэффициет корреляции Пирсона. Значения графика распределяются по столбцам соответствующим количеству комнат (тут не может быть промежуточных значений) но есть отдельные точки, не принадлежащие общей массе, вероятно они соответствуют некоторым выбросам. Коэффициент Пирсона положительный и составляет 0.3633428499648948. Это нам говорит о наличии незначительной прямой зависимости между количеством комнат квартиры и стоимостью ее продажи, но количество комнат влияет много меньше, чем зависимоть от жилой и общей площади квартиры."
   ]
  },
  {
   "cell_type": "markdown",
   "metadata": {},
   "source": [
    "Зависимость цены от этажа, на котором расположена квартира (первый, последний, другой) в недвижимости: "
   ]
  },
  {
   "cell_type": "code",
   "execution_count": 65,
   "metadata": {},
   "outputs": [
    {
     "data": {
      "text/html": [
       "<div>\n",
       "<style scoped>\n",
       "    .dataframe tbody tr th:only-of-type {\n",
       "        vertical-align: middle;\n",
       "    }\n",
       "\n",
       "    .dataframe tbody tr th {\n",
       "        vertical-align: top;\n",
       "    }\n",
       "\n",
       "    .dataframe thead th {\n",
       "        text-align: right;\n",
       "    }\n",
       "</style>\n",
       "<table border=\"1\" class=\"dataframe\">\n",
       "  <thead>\n",
       "    <tr style=\"text-align: right;\">\n",
       "      <th></th>\n",
       "      <th>mean</th>\n",
       "      <th>count</th>\n",
       "      <th>median</th>\n",
       "    </tr>\n",
       "    <tr>\n",
       "      <th>floor_cat</th>\n",
       "      <th></th>\n",
       "      <th></th>\n",
       "      <th></th>\n",
       "    </tr>\n",
       "  </thead>\n",
       "  <tbody>\n",
       "    <tr>\n",
       "      <th>другой</th>\n",
       "      <td>6.675470e+06</td>\n",
       "      <td>17443</td>\n",
       "      <td>4850000</td>\n",
       "    </tr>\n",
       "    <tr>\n",
       "      <th>первый</th>\n",
       "      <td>4.803560e+06</td>\n",
       "      <td>2917</td>\n",
       "      <td>3900000</td>\n",
       "    </tr>\n",
       "    <tr>\n",
       "      <th>последний</th>\n",
       "      <td>7.360274e+06</td>\n",
       "      <td>3339</td>\n",
       "      <td>4300000</td>\n",
       "    </tr>\n",
       "  </tbody>\n",
       "</table>\n",
       "</div>"
      ],
      "text/plain": [
       "                   mean  count   median\n",
       "floor_cat                              \n",
       "другой     6.675470e+06  17443  4850000\n",
       "первый     4.803560e+06   2917  3900000\n",
       "последний  7.360274e+06   3339  4300000"
      ]
     },
     "execution_count": 65,
     "metadata": {},
     "output_type": "execute_result"
    },
    {
     "data": {
      "image/png": "[encoded data removed]",
      "text/plain": [
       "<Figure size 432x288 with 1 Axes>"
      ]
     },
     "metadata": {
      "needs_background": "light"
     },
     "output_type": "display_data"
    }
   ],
   "source": [
    "#data_pivot = data.pivot_table(index='last_price', values= 'floor_cat', aggfunc='mean')\n",
    "\n",
    "#data_pivot.plot(x='floor_cat', y='last_price', kind = 'bar', grid=True)\n",
    "#data_pivot['floor_cat'].corr(data_pivot['last_price'])\n",
    "\n",
    "pivot_table_floor_category = data.pivot_table(index = 'floor_cat', values = 'last_price', aggfunc = ['mean', 'count', 'median'])\n",
    "pivot_table_floor_category.columns = ['mean', 'count', 'median']\n",
    "pivot_table_floor_category.plot(y = 'mean')\n",
    "pivot_table_floor_category\n"
   ]
  },
  {
   "cell_type": "markdown",
   "metadata": {},
   "source": [
    "Вывод: На графике мы распределили  значения зависимости типа этажа от стоимости продажи квартиры для оценки корреляции.  Значения графика распределяются следущим образом: пик приходится на последний этаж - любой кроме первого и последнего, а низшая точка графика соответствует объявлениям о продаже на первом этаже. Сделать какие то значительные выводы на основании этого графика проблематично."
   ]
  },
  {
   "cell_type": "markdown",
   "metadata": {},
   "source": [
    "Зависимость цены от этажа, на котором расположена квартира (первый, последний, другой) в недвижимости (сгрупировано по медиане):"
   ]
  },
  {
   "cell_type": "code",
   "execution_count": 80,
   "metadata": {},
   "outputs": [
    {
     "data": {
      "text/html": [
       "<div>\n",
       "<style scoped>\n",
       "    .dataframe tbody tr th:only-of-type {\n",
       "        vertical-align: middle;\n",
       "    }\n",
       "\n",
       "    .dataframe tbody tr th {\n",
       "        vertical-align: top;\n",
       "    }\n",
       "\n",
       "    .dataframe thead th {\n",
       "        text-align: right;\n",
       "    }\n",
       "</style>\n",
       "<table border=\"1\" class=\"dataframe\">\n",
       "  <thead>\n",
       "    <tr style=\"text-align: right;\">\n",
       "      <th></th>\n",
       "      <th>mean</th>\n",
       "      <th>count</th>\n",
       "      <th>median</th>\n",
       "    </tr>\n",
       "    <tr>\n",
       "      <th>floor_cat</th>\n",
       "      <th></th>\n",
       "      <th></th>\n",
       "      <th></th>\n",
       "    </tr>\n",
       "  </thead>\n",
       "  <tbody>\n",
       "    <tr>\n",
       "      <th>другой</th>\n",
       "      <td>6.675470e+06</td>\n",
       "      <td>17443</td>\n",
       "      <td>4850000</td>\n",
       "    </tr>\n",
       "    <tr>\n",
       "      <th>первый</th>\n",
       "      <td>4.803560e+06</td>\n",
       "      <td>2917</td>\n",
       "      <td>3900000</td>\n",
       "    </tr>\n",
       "    <tr>\n",
       "      <th>последний</th>\n",
       "      <td>7.360274e+06</td>\n",
       "      <td>3339</td>\n",
       "      <td>4300000</td>\n",
       "    </tr>\n",
       "  </tbody>\n",
       "</table>\n",
       "</div>"
      ],
      "text/plain": [
       "                   mean  count   median\n",
       "floor_cat                              \n",
       "другой     6.675470e+06  17443  4850000\n",
       "первый     4.803560e+06   2917  3900000\n",
       "последний  7.360274e+06   3339  4300000"
      ]
     },
     "execution_count": 80,
     "metadata": {},
     "output_type": "execute_result"
    },
    {
     "data": {
      "image/png": "[encoded data removed]",
      "text/plain": [
       "<Figure size 432x288 with 1 Axes>"
      ]
     },
     "metadata": {
      "needs_background": "light"
     },
     "output_type": "display_data"
    }
   ],
   "source": [
    "\n",
    "pivot_table_floor_category = data.pivot_table(index = 'floor_cat', values = 'last_price', aggfunc = ['mean', 'count', 'median'])\n",
    "pivot_table_floor_category.columns = ['mean', 'count', 'median']\n",
    "pivot_table_floor_category.plot(y = 'median')\n",
    "pivot_table_floor_category"
   ]
  },
  {
   "cell_type": "markdown",
   "metadata": {},
   "source": [
    "Вывод: Вывод: На графике мы распределили значения зависимости типа этажа от стоимости продажи квартиры для оценки корреляции значений. Значения графика распределяются следущим образом: пик приходится на \"другой\" этаж - любой кроме первого и последнего, а низшая точка графика соответствует объявлениям о продаже на первом этаже. \n",
    "Почему возникает такая разница при использовании среднеарифметического и медианы? Думаю, среднеарифметическое здесь очень сильно корректируется за счет вборсов: Поэтому при подсчете по среднеарифметическому мы видим, что наибольшее значение кривой графика соответствует последнему этажу. Вероятно, кроме стандартных квартир там продавалось еще некоторое количество, скажем, пентхаусов. Даже если их было немного, но они повлияли на распределение значений на графике. "
   ]
  },
  {
   "cell_type": "markdown",
   "metadata": {},
   "source": [
    "Зависимость цены от даты размещения (день недели, месяц, год) в недвижимости: "
   ]
  },
  {
   "cell_type": "markdown",
   "metadata": {},
   "source": [
    "Зависимость от дня"
   ]
  },
  {
   "cell_type": "code",
   "execution_count": 66,
   "metadata": {},
   "outputs": [
    {
     "data": {
      "text/html": [
       "<div>\n",
       "<style scoped>\n",
       "    .dataframe tbody tr th:only-of-type {\n",
       "        vertical-align: middle;\n",
       "    }\n",
       "\n",
       "    .dataframe tbody tr th {\n",
       "        vertical-align: top;\n",
       "    }\n",
       "\n",
       "    .dataframe thead th {\n",
       "        text-align: right;\n",
       "    }\n",
       "</style>\n",
       "<table border=\"1\" class=\"dataframe\">\n",
       "  <thead>\n",
       "    <tr style=\"text-align: right;\">\n",
       "      <th></th>\n",
       "      <th>mean</th>\n",
       "      <th>count</th>\n",
       "      <th>median</th>\n",
       "    </tr>\n",
       "    <tr>\n",
       "      <th>day_of_exposition</th>\n",
       "      <th></th>\n",
       "      <th></th>\n",
       "      <th></th>\n",
       "    </tr>\n",
       "  </thead>\n",
       "  <tbody>\n",
       "    <tr>\n",
       "      <th>1</th>\n",
       "      <td>6.394233e+06</td>\n",
       "      <td>4183</td>\n",
       "      <td>4730000</td>\n",
       "    </tr>\n",
       "    <tr>\n",
       "      <th>2</th>\n",
       "      <td>6.627970e+06</td>\n",
       "      <td>3974</td>\n",
       "      <td>4700000</td>\n",
       "    </tr>\n",
       "    <tr>\n",
       "      <th>0</th>\n",
       "      <td>6.511613e+06</td>\n",
       "      <td>3612</td>\n",
       "      <td>4650000</td>\n",
       "    </tr>\n",
       "    <tr>\n",
       "      <th>3</th>\n",
       "      <td>6.708663e+06</td>\n",
       "      <td>4295</td>\n",
       "      <td>4650000</td>\n",
       "    </tr>\n",
       "    <tr>\n",
       "      <th>4</th>\n",
       "      <td>6.372131e+06</td>\n",
       "      <td>4000</td>\n",
       "      <td>4585000</td>\n",
       "    </tr>\n",
       "    <tr>\n",
       "      <th>5</th>\n",
       "      <td>6.976804e+06</td>\n",
       "      <td>1936</td>\n",
       "      <td>4555000</td>\n",
       "    </tr>\n",
       "    <tr>\n",
       "      <th>6</th>\n",
       "      <td>6.246180e+06</td>\n",
       "      <td>1699</td>\n",
       "      <td>4550000</td>\n",
       "    </tr>\n",
       "  </tbody>\n",
       "</table>\n",
       "</div>"
      ],
      "text/plain": [
       "                           mean  count   median\n",
       "day_of_exposition                              \n",
       "1                  6.394233e+06   4183  4730000\n",
       "2                  6.627970e+06   3974  4700000\n",
       "0                  6.511613e+06   3612  4650000\n",
       "3                  6.708663e+06   4295  4650000\n",
       "4                  6.372131e+06   4000  4585000\n",
       "5                  6.976804e+06   1936  4555000\n",
       "6                  6.246180e+06   1699  4550000"
      ]
     },
     "execution_count": 66,
     "metadata": {},
     "output_type": "execute_result"
    },
    {
     "data": {
      "image/png": "[encoded data removed]",
      "text/plain": [
       "<Figure size 432x288 with 1 Axes>"
      ]
     },
     "metadata": {
      "needs_background": "light"
     },
     "output_type": "display_data"
    }
   ],
   "source": [
    "#data.plot(x='day_of_exposition', y='last_price', kind = 'hexbin', grid=True)\n",
    "data['day_of_exposition'].corr(data['last_price'])\n",
    "pivot_table_day_expo = data.pivot_table(index = 'day_of_exposition', values = 'last_price', aggfunc = ['mean', 'count', 'median'])\n",
    "pivot_table_day_expo.columns = ['mean', 'count', 'median']\n",
    "pivot_table_day_expo.plot(y = 'median')\n",
    "\n",
    "pivot_table_day_expo.sort_values('median', ascending = False)"
   ]
  },
  {
   "cell_type": "markdown",
   "metadata": {},
   "source": [
    "Вывод: На графике мы распределили  значения зависимости стоимости от дня продажи квартиры для оценки корреляции.  Значения графика распределяются следущим образом: пик приходится на вторник, а низшая точка графика соответствует объявлениям о продаже выходных.\n",
    "коэффициент корреляции Пирсона:0.0015501452176215405, прямой зависимости между значением дня недели и стоимостью продаж не наблюдается."
   ]
  },
  {
   "cell_type": "markdown",
   "metadata": {},
   "source": [
    "Зависимость от месяца"
   ]
  },
  {
   "cell_type": "markdown",
   "metadata": {},
   "source": [
    "\n"
   ]
  },
  {
   "cell_type": "code",
   "execution_count": 67,
   "metadata": {},
   "outputs": [
    {
     "data": {
      "text/html": [
       "<div>\n",
       "<style scoped>\n",
       "    .dataframe tbody tr th:only-of-type {\n",
       "        vertical-align: middle;\n",
       "    }\n",
       "\n",
       "    .dataframe tbody tr th {\n",
       "        vertical-align: top;\n",
       "    }\n",
       "\n",
       "    .dataframe thead th {\n",
       "        text-align: right;\n",
       "    }\n",
       "</style>\n",
       "<table border=\"1\" class=\"dataframe\">\n",
       "  <thead>\n",
       "    <tr style=\"text-align: right;\">\n",
       "      <th></th>\n",
       "      <th>mean</th>\n",
       "      <th>count</th>\n",
       "      <th>median</th>\n",
       "    </tr>\n",
       "    <tr>\n",
       "      <th>month_exposition</th>\n",
       "      <th></th>\n",
       "      <th></th>\n",
       "      <th></th>\n",
       "    </tr>\n",
       "  </thead>\n",
       "  <tbody>\n",
       "    <tr>\n",
       "      <th>4</th>\n",
       "      <td>6.737198e+06</td>\n",
       "      <td>2379</td>\n",
       "      <td>4800000</td>\n",
       "    </tr>\n",
       "    <tr>\n",
       "      <th>9</th>\n",
       "      <td>6.825470e+06</td>\n",
       "      <td>1981</td>\n",
       "      <td>4700000</td>\n",
       "    </tr>\n",
       "    <tr>\n",
       "      <th>11</th>\n",
       "      <td>6.461363e+06</td>\n",
       "      <td>2371</td>\n",
       "      <td>4700000</td>\n",
       "    </tr>\n",
       "    <tr>\n",
       "      <th>12</th>\n",
       "      <td>7.011731e+06</td>\n",
       "      <td>1641</td>\n",
       "      <td>4700000</td>\n",
       "    </tr>\n",
       "    <tr>\n",
       "      <th>2</th>\n",
       "      <td>6.468500e+06</td>\n",
       "      <td>2640</td>\n",
       "      <td>4650000</td>\n",
       "    </tr>\n",
       "    <tr>\n",
       "      <th>3</th>\n",
       "      <td>6.359275e+06</td>\n",
       "      <td>2587</td>\n",
       "      <td>4650000</td>\n",
       "    </tr>\n",
       "    <tr>\n",
       "      <th>7</th>\n",
       "      <td>6.649337e+06</td>\n",
       "      <td>1695</td>\n",
       "      <td>4650000</td>\n",
       "    </tr>\n",
       "    <tr>\n",
       "      <th>1</th>\n",
       "      <td>6.668233e+06</td>\n",
       "      <td>1500</td>\n",
       "      <td>4600000</td>\n",
       "    </tr>\n",
       "    <tr>\n",
       "      <th>8</th>\n",
       "      <td>6.350233e+06</td>\n",
       "      <td>1744</td>\n",
       "      <td>4570000</td>\n",
       "    </tr>\n",
       "    <tr>\n",
       "      <th>10</th>\n",
       "      <td>6.235013e+06</td>\n",
       "      <td>2127</td>\n",
       "      <td>4570000</td>\n",
       "    </tr>\n",
       "    <tr>\n",
       "      <th>5</th>\n",
       "      <td>6.600435e+06</td>\n",
       "      <td>1274</td>\n",
       "      <td>4515000</td>\n",
       "    </tr>\n",
       "    <tr>\n",
       "      <th>6</th>\n",
       "      <td>6.310269e+06</td>\n",
       "      <td>1760</td>\n",
       "      <td>4400000</td>\n",
       "    </tr>\n",
       "  </tbody>\n",
       "</table>\n",
       "</div>"
      ],
      "text/plain": [
       "                          mean  count   median\n",
       "month_exposition                              \n",
       "4                 6.737198e+06   2379  4800000\n",
       "9                 6.825470e+06   1981  4700000\n",
       "11                6.461363e+06   2371  4700000\n",
       "12                7.011731e+06   1641  4700000\n",
       "2                 6.468500e+06   2640  4650000\n",
       "3                 6.359275e+06   2587  4650000\n",
       "7                 6.649337e+06   1695  4650000\n",
       "1                 6.668233e+06   1500  4600000\n",
       "8                 6.350233e+06   1744  4570000\n",
       "10                6.235013e+06   2127  4570000\n",
       "5                 6.600435e+06   1274  4515000\n",
       "6                 6.310269e+06   1760  4400000"
      ]
     },
     "execution_count": 67,
     "metadata": {},
     "output_type": "execute_result"
    },
    {
     "data": {
      "image/png": "[encoded data removed]",
      "text/plain": [
       "<Figure size 432x288 with 1 Axes>"
      ]
     },
     "metadata": {
      "needs_background": "light"
     },
     "output_type": "display_data"
    }
   ],
   "source": [
    "#data.plot(x='month_exposition', y='last_price', kind = 'scatter', grid=True)\n",
    "data['month_exposition'].corr(data['last_price'])\n",
    "pivot_table_month_expo = data.pivot_table(index = 'month_exposition', values = 'last_price', aggfunc = ['mean', 'count', 'median'])\n",
    "pivot_table_month_expo.columns = ['mean', 'count', 'median']\n",
    "pivot_table_month_expo.plot(y = 'median')\n",
    "\n",
    "pivot_table_month_expo.sort_values('median', ascending = False)\n"
   ]
  },
  {
   "cell_type": "markdown",
   "metadata": {},
   "source": [
    "\n",
    "Вывод:На графике мы распределили  значения зависимости стоимости от месяца продажи квартиры для оценки корреляции.  Значения графика распределяются следущим образом: пик приходится на апрель, второй пик на сентябрь, а низшая точка графика соответствует объявлениям о продаже в июне, но фактически спад продаж затрагивает все лето. Коэффициент Пирсона положительный и составляет 0.0027791287507397166. прямой зависимости между значением месяца продажи  и стоимостью не наблюдается."
   ]
  },
  {
   "cell_type": "markdown",
   "metadata": {},
   "source": [
    "Зависимость от года"
   ]
  },
  {
   "cell_type": "code",
   "execution_count": 68,
   "metadata": {},
   "outputs": [
    {
     "data": {
      "text/html": [
       "<div>\n",
       "<style scoped>\n",
       "    .dataframe tbody tr th:only-of-type {\n",
       "        vertical-align: middle;\n",
       "    }\n",
       "\n",
       "    .dataframe tbody tr th {\n",
       "        vertical-align: top;\n",
       "    }\n",
       "\n",
       "    .dataframe thead th {\n",
       "        text-align: right;\n",
       "    }\n",
       "</style>\n",
       "<table border=\"1\" class=\"dataframe\">\n",
       "  <thead>\n",
       "    <tr style=\"text-align: right;\">\n",
       "      <th></th>\n",
       "      <th>mean</th>\n",
       "      <th>count</th>\n",
       "      <th>median</th>\n",
       "    </tr>\n",
       "    <tr>\n",
       "      <th>year_exposition</th>\n",
       "      <th></th>\n",
       "      <th></th>\n",
       "      <th></th>\n",
       "    </tr>\n",
       "  </thead>\n",
       "  <tbody>\n",
       "    <tr>\n",
       "      <th>2014</th>\n",
       "      <td>1.208714e+07</td>\n",
       "      <td>137</td>\n",
       "      <td>7700000</td>\n",
       "    </tr>\n",
       "    <tr>\n",
       "      <th>2015</th>\n",
       "      <td>8.572833e+06</td>\n",
       "      <td>1191</td>\n",
       "      <td>5350000</td>\n",
       "    </tr>\n",
       "    <tr>\n",
       "      <th>2019</th>\n",
       "      <td>6.782388e+06</td>\n",
       "      <td>2879</td>\n",
       "      <td>5050000</td>\n",
       "    </tr>\n",
       "    <tr>\n",
       "      <th>2016</th>\n",
       "      <td>6.827912e+06</td>\n",
       "      <td>2783</td>\n",
       "      <td>4550000</td>\n",
       "    </tr>\n",
       "    <tr>\n",
       "      <th>2018</th>\n",
       "      <td>5.950966e+06</td>\n",
       "      <td>8519</td>\n",
       "      <td>4550000</td>\n",
       "    </tr>\n",
       "    <tr>\n",
       "      <th>2017</th>\n",
       "      <td>6.585729e+06</td>\n",
       "      <td>8190</td>\n",
       "      <td>4500000</td>\n",
       "    </tr>\n",
       "  </tbody>\n",
       "</table>\n",
       "</div>"
      ],
      "text/plain": [
       "                         mean  count   median\n",
       "year_exposition                              \n",
       "2014             1.208714e+07    137  7700000\n",
       "2015             8.572833e+06   1191  5350000\n",
       "2019             6.782388e+06   2879  5050000\n",
       "2016             6.827912e+06   2783  4550000\n",
       "2018             5.950966e+06   8519  4550000\n",
       "2017             6.585729e+06   8190  4500000"
      ]
     },
     "execution_count": 68,
     "metadata": {},
     "output_type": "execute_result"
    },
    {
     "data": {
      "image/png": "[encoded data removed]",
      "text/plain": [
       "<Figure size 432x288 with 1 Axes>"
      ]
     },
     "metadata": {
      "needs_background": "light"
     },
     "output_type": "display_data"
    }
   ],
   "source": [
    "data['year_exposition'].corr(data['last_price'])\n",
    "\n",
    "pivot_table_year = data.pivot_table(index = 'year_exposition', values = 'last_price', aggfunc = ['mean', 'count', 'median'])\n",
    "pivot_table_year.columns = ['mean', 'count', 'median']\n",
    "pivot_table_year.plot(y = 'median')\n",
    "\n",
    "pivot_table_year.sort_values('median', ascending = False)"
   ]
  },
  {
   "cell_type": "markdown",
   "metadata": {},
   "source": [
    "Вывод: На графике мы распределили  значения зависимости стоимости от года продажи квартиры для оценки корреляции.  Значения графика распределяются следущим образом: пик приходится на 14 год, небольшой подъем на 19 год, а низшая точка графика соответствует объявлениям о продаже 16-17 годах. Коэффициент Пирсона отрицательный и составляет -0.043089036199508615 есть признаки обратной зависимости, незначительные.\n",
    "Фактически мы видим падение цен на продажу квартир с 14 по 16 год (в среднем).  "
   ]
  },
  {
   "cell_type": "markdown",
   "metadata": {},
   "source": [
    "Корреляция стоимости недвижимости от площади продаваемых квартир:"
   ]
  },
  {
   "cell_type": "code",
   "execution_count": 82,
   "metadata": {},
   "outputs": [
    {
     "data": {
      "text/html": [
       "<div>\n",
       "<style scoped>\n",
       "    .dataframe tbody tr th:only-of-type {\n",
       "        vertical-align: middle;\n",
       "    }\n",
       "\n",
       "    .dataframe tbody tr th {\n",
       "        vertical-align: top;\n",
       "    }\n",
       "\n",
       "    .dataframe thead th {\n",
       "        text-align: right;\n",
       "    }\n",
       "</style>\n",
       "<table border=\"1\" class=\"dataframe\">\n",
       "  <thead>\n",
       "    <tr style=\"text-align: right;\">\n",
       "      <th></th>\n",
       "      <th>mean</th>\n",
       "      <th>count</th>\n",
       "      <th>median</th>\n",
       "    </tr>\n",
       "    <tr>\n",
       "      <th>total_area</th>\n",
       "      <th></th>\n",
       "      <th></th>\n",
       "      <th></th>\n",
       "    </tr>\n",
       "  </thead>\n",
       "  <tbody>\n",
       "    <tr>\n",
       "      <th>900.00</th>\n",
       "      <td>420000000.0</td>\n",
       "      <td>1</td>\n",
       "      <td>420000000.0</td>\n",
       "    </tr>\n",
       "    <tr>\n",
       "      <th>401.00</th>\n",
       "      <td>401300000.0</td>\n",
       "      <td>1</td>\n",
       "      <td>401300000.0</td>\n",
       "    </tr>\n",
       "    <tr>\n",
       "      <th>618.00</th>\n",
       "      <td>300000000.0</td>\n",
       "      <td>1</td>\n",
       "      <td>300000000.0</td>\n",
       "    </tr>\n",
       "    <tr>\n",
       "      <th>285.70</th>\n",
       "      <td>245000000.0</td>\n",
       "      <td>1</td>\n",
       "      <td>245000000.0</td>\n",
       "    </tr>\n",
       "    <tr>\n",
       "      <th>410.00</th>\n",
       "      <td>240000000.0</td>\n",
       "      <td>1</td>\n",
       "      <td>240000000.0</td>\n",
       "    </tr>\n",
       "    <tr>\n",
       "      <th>...</th>\n",
       "      <td>...</td>\n",
       "      <td>...</td>\n",
       "      <td>...</td>\n",
       "    </tr>\n",
       "    <tr>\n",
       "      <th>54.33</th>\n",
       "      <td>1300000.0</td>\n",
       "      <td>1</td>\n",
       "      <td>1300000.0</td>\n",
       "    </tr>\n",
       "    <tr>\n",
       "      <th>14.00</th>\n",
       "      <td>1190000.0</td>\n",
       "      <td>1</td>\n",
       "      <td>1190000.0</td>\n",
       "    </tr>\n",
       "    <tr>\n",
       "      <th>28.60</th>\n",
       "      <td>2034000.0</td>\n",
       "      <td>5</td>\n",
       "      <td>1060000.0</td>\n",
       "    </tr>\n",
       "    <tr>\n",
       "      <th>19.50</th>\n",
       "      <td>945750.0</td>\n",
       "      <td>1</td>\n",
       "      <td>945750.0</td>\n",
       "    </tr>\n",
       "    <tr>\n",
       "      <th>28.66</th>\n",
       "      <td>690000.0</td>\n",
       "      <td>1</td>\n",
       "      <td>690000.0</td>\n",
       "    </tr>\n",
       "  </tbody>\n",
       "</table>\n",
       "<p>2182 rows × 3 columns</p>\n",
       "</div>"
      ],
      "text/plain": [
       "                   mean  count       median\n",
       "total_area                                 \n",
       "900.00      420000000.0      1  420000000.0\n",
       "401.00      401300000.0      1  401300000.0\n",
       "618.00      300000000.0      1  300000000.0\n",
       "285.70      245000000.0      1  245000000.0\n",
       "410.00      240000000.0      1  240000000.0\n",
       "...                 ...    ...          ...\n",
       "54.33         1300000.0      1    1300000.0\n",
       "14.00         1190000.0      1    1190000.0\n",
       "28.60         2034000.0      5    1060000.0\n",
       "19.50          945750.0      1     945750.0\n",
       "28.66          690000.0      1     690000.0\n",
       "\n",
       "[2182 rows x 3 columns]"
      ]
     },
     "execution_count": 82,
     "metadata": {},
     "output_type": "execute_result"
    },
    {
     "data": {
      "image/png": "[encoded data removed]",
      "text/plain": [
       "<Figure size 432x288 with 1 Axes>"
      ]
     },
     "metadata": {
      "needs_background": "light"
     },
     "output_type": "display_data"
    }
   ],
   "source": [
    "data['total_area'].corr(data['last_price'])\n",
    "\n",
    "pivot_table_year = data.pivot_table(index = 'total_area', values = 'last_price', aggfunc = ['mean', 'count', 'median'])\n",
    "pivot_table_year.columns = ['mean', 'count', 'median']\n",
    "pivot_table_year.plot(y = 'median')\n",
    "\n",
    "pivot_table_year.sort_values('median', ascending = False)\n"
   ]
  },
  {
   "cell_type": "markdown",
   "metadata": {},
   "source": [
    "Вывод: На графике мы распределили значения зависимости стоимости недвижимости  от площади квартиры для оценки корреляции значений. Значения графика распределяются следущим образом: пик приходится на 400 метров,  подъем и пик кривой на 600 метрах, а низшая точка графика стремится к нулеовй отметке. Коэффициент Пирсона положительный и составляет 0.6536750579657242 наблюдается прямая зависимость между параметрами.  Фактически мы видим пропорциональный рост стоимости недвижимости от общей площади квартир (вероятно резкие пики еще имеет смысл соотнести с выбросами)."
   ]
  },
  {
   "cell_type": "code",
   "execution_count": 81,
   "metadata": {},
   "outputs": [
    {
     "data": {
      "text/html": [
       "<div>\n",
       "<style scoped>\n",
       "    .dataframe tbody tr th:only-of-type {\n",
       "        vertical-align: middle;\n",
       "    }\n",
       "\n",
       "    .dataframe tbody tr th {\n",
       "        vertical-align: top;\n",
       "    }\n",
       "\n",
       "    .dataframe thead th {\n",
       "        text-align: right;\n",
       "    }\n",
       "</style>\n",
       "<table border=\"1\" class=\"dataframe\">\n",
       "  <thead>\n",
       "    <tr style=\"text-align: right;\">\n",
       "      <th></th>\n",
       "      <th>mean</th>\n",
       "      <th>count</th>\n",
       "      <th>median</th>\n",
       "    </tr>\n",
       "    <tr>\n",
       "      <th>year_exposition</th>\n",
       "      <th></th>\n",
       "      <th></th>\n",
       "      <th></th>\n",
       "    </tr>\n",
       "  </thead>\n",
       "  <tbody>\n",
       "    <tr>\n",
       "      <th>2014</th>\n",
       "      <td>1.208714e+07</td>\n",
       "      <td>137</td>\n",
       "      <td>7700000</td>\n",
       "    </tr>\n",
       "    <tr>\n",
       "      <th>2015</th>\n",
       "      <td>8.572833e+06</td>\n",
       "      <td>1191</td>\n",
       "      <td>5350000</td>\n",
       "    </tr>\n",
       "    <tr>\n",
       "      <th>2019</th>\n",
       "      <td>6.782388e+06</td>\n",
       "      <td>2879</td>\n",
       "      <td>5050000</td>\n",
       "    </tr>\n",
       "    <tr>\n",
       "      <th>2016</th>\n",
       "      <td>6.827912e+06</td>\n",
       "      <td>2783</td>\n",
       "      <td>4550000</td>\n",
       "    </tr>\n",
       "    <tr>\n",
       "      <th>2018</th>\n",
       "      <td>5.950966e+06</td>\n",
       "      <td>8519</td>\n",
       "      <td>4550000</td>\n",
       "    </tr>\n",
       "    <tr>\n",
       "      <th>2017</th>\n",
       "      <td>6.585729e+06</td>\n",
       "      <td>8190</td>\n",
       "      <td>4500000</td>\n",
       "    </tr>\n",
       "  </tbody>\n",
       "</table>\n",
       "</div>"
      ],
      "text/plain": [
       "                         mean  count   median\n",
       "year_exposition                              \n",
       "2014             1.208714e+07    137  7700000\n",
       "2015             8.572833e+06   1191  5350000\n",
       "2019             6.782388e+06   2879  5050000\n",
       "2016             6.827912e+06   2783  4550000\n",
       "2018             5.950966e+06   8519  4550000\n",
       "2017             6.585729e+06   8190  4500000"
      ]
     },
     "execution_count": 81,
     "metadata": {},
     "output_type": "execute_result"
    },
    {
     "data": {
      "image/png": "[encoded data removed]",
      "text/plain": [
       "<Figure size 432x288 with 1 Axes>"
      ]
     },
     "metadata": {
      "needs_background": "light"
     },
     "output_type": "display_data"
    }
   ],
   "source": [
    "data['year_exposition'].corr(data['last_price'])\n",
    "\n",
    "pivot_table_year = data.pivot_table(index = 'year_exposition', values = 'last_price', aggfunc = ['mean', 'count', 'median'])\n",
    "pivot_table_year.columns = ['mean', 'count', 'median']\n",
    "pivot_table_year.plot(y = 'median')\n",
    "\n",
    "pivot_table_year.sort_values('median', ascending = False)"
   ]
  },
  {
   "cell_type": "code",
   "execution_count": 82,
   "metadata": {},
   "outputs": [
    {
     "data": {
      "text/html": [
       "<div>\n",
       "<style scoped>\n",
       "    .dataframe tbody tr th:only-of-type {\n",
       "        vertical-align: middle;\n",
       "    }\n",
       "\n",
       "    .dataframe tbody tr th {\n",
       "        vertical-align: top;\n",
       "    }\n",
       "\n",
       "    .dataframe thead th {\n",
       "        text-align: right;\n",
       "    }\n",
       "</style>\n",
       "<table border=\"1\" class=\"dataframe\">\n",
       "  <thead>\n",
       "    <tr style=\"text-align: right;\">\n",
       "      <th></th>\n",
       "      <th>mean</th>\n",
       "      <th>count</th>\n",
       "      <th>median</th>\n",
       "    </tr>\n",
       "    <tr>\n",
       "      <th>year_exposition</th>\n",
       "      <th></th>\n",
       "      <th></th>\n",
       "      <th></th>\n",
       "    </tr>\n",
       "  </thead>\n",
       "  <tbody>\n",
       "    <tr>\n",
       "      <th>2014</th>\n",
       "      <td>86.249854</td>\n",
       "      <td>137</td>\n",
       "      <td>76.26</td>\n",
       "    </tr>\n",
       "    <tr>\n",
       "      <th>2015</th>\n",
       "      <td>71.558371</td>\n",
       "      <td>1191</td>\n",
       "      <td>60.00</td>\n",
       "    </tr>\n",
       "    <tr>\n",
       "      <th>2016</th>\n",
       "      <td>62.156144</td>\n",
       "      <td>2783</td>\n",
       "      <td>53.10</td>\n",
       "    </tr>\n",
       "    <tr>\n",
       "      <th>2017</th>\n",
       "      <td>60.759249</td>\n",
       "      <td>8190</td>\n",
       "      <td>52.00</td>\n",
       "    </tr>\n",
       "    <tr>\n",
       "      <th>2019</th>\n",
       "      <td>59.467864</td>\n",
       "      <td>2879</td>\n",
       "      <td>52.00</td>\n",
       "    </tr>\n",
       "    <tr>\n",
       "      <th>2018</th>\n",
       "      <td>57.677386</td>\n",
       "      <td>8519</td>\n",
       "      <td>50.50</td>\n",
       "    </tr>\n",
       "  </tbody>\n",
       "</table>\n",
       "</div>"
      ],
      "text/plain": [
       "                      mean  count  median\n",
       "year_exposition                          \n",
       "2014             86.249854    137   76.26\n",
       "2015             71.558371   1191   60.00\n",
       "2016             62.156144   2783   53.10\n",
       "2017             60.759249   8190   52.00\n",
       "2019             59.467864   2879   52.00\n",
       "2018             57.677386   8519   50.50"
      ]
     },
     "execution_count": 82,
     "metadata": {},
     "output_type": "execute_result"
    },
    {
     "data": {
      "image/png": "[encoded data removed]",
      "text/plain": [
       "<Figure size 432x288 with 1 Axes>"
      ]
     },
     "metadata": {
      "needs_background": "light"
     },
     "output_type": "display_data"
    }
   ],
   "source": [
    "data['year_exposition'].corr(data['last_price'])\n",
    "\n",
    "pivot_table_year = data.pivot_table(index = 'year_exposition', values = 'total_area', aggfunc = ['mean', 'count', 'median'])\n",
    "pivot_table_year.columns = ['mean', 'count', 'median']\n",
    "pivot_table_year.plot(y = 'median')\n",
    "\n",
    "pivot_table_year.sort_values('median', ascending = False)"
   ]
  },
  {
   "cell_type": "markdown",
   "metadata": {},
   "source": [
    "#### Посчитайте среднюю цену одного квадратного метра в 10 населённых пунктах с наибольшим числом объявлений. Выделите населённые пункты с самой высокой и низкой стоимостью квадратного метра. Эти данные можно найти по имени в столбце locality_name."
   ]
  },
  {
   "cell_type": "code",
   "execution_count": 69,
   "metadata": {},
   "outputs": [
    {
     "data": {
      "text/html": [
       "<div>\n",
       "<style scoped>\n",
       "    .dataframe tbody tr th:only-of-type {\n",
       "        vertical-align: middle;\n",
       "    }\n",
       "\n",
       "    .dataframe tbody tr th {\n",
       "        vertical-align: top;\n",
       "    }\n",
       "\n",
       "    .dataframe thead th {\n",
       "        text-align: right;\n",
       "    }\n",
       "</style>\n",
       "<table border=\"1\" class=\"dataframe\">\n",
       "  <thead>\n",
       "    <tr style=\"text-align: right;\">\n",
       "      <th></th>\n",
       "      <th>count</th>\n",
       "      <th>mean</th>\n",
       "    </tr>\n",
       "    <tr>\n",
       "      <th>locality_name</th>\n",
       "      <th></th>\n",
       "      <th></th>\n",
       "    </tr>\n",
       "  </thead>\n",
       "  <tbody>\n",
       "    <tr>\n",
       "      <th>Санкт-Петербург</th>\n",
       "      <td>15721</td>\n",
       "      <td>114848.565231</td>\n",
       "    </tr>\n",
       "    <tr>\n",
       "      <th>поселок Мурино</th>\n",
       "      <td>556</td>\n",
       "      <td>85681.305755</td>\n",
       "    </tr>\n",
       "    <tr>\n",
       "      <th>Кудрово</th>\n",
       "      <td>472</td>\n",
       "      <td>95324.476695</td>\n",
       "    </tr>\n",
       "    <tr>\n",
       "      <th>поселок Шушары</th>\n",
       "      <td>440</td>\n",
       "      <td>78676.904545</td>\n",
       "    </tr>\n",
       "    <tr>\n",
       "      <th>Всеволожск</th>\n",
       "      <td>398</td>\n",
       "      <td>68654.007538</td>\n",
       "    </tr>\n",
       "    <tr>\n",
       "      <th>Пушкин</th>\n",
       "      <td>369</td>\n",
       "      <td>103125.373984</td>\n",
       "    </tr>\n",
       "    <tr>\n",
       "      <th>Колпино</th>\n",
       "      <td>338</td>\n",
       "      <td>75424.150888</td>\n",
       "    </tr>\n",
       "    <tr>\n",
       "      <th>поселок Парголово</th>\n",
       "      <td>327</td>\n",
       "      <td>90175.489297</td>\n",
       "    </tr>\n",
       "    <tr>\n",
       "      <th>Гатчина</th>\n",
       "      <td>307</td>\n",
       "      <td>68745.693811</td>\n",
       "    </tr>\n",
       "    <tr>\n",
       "      <th>Выборг</th>\n",
       "      <td>237</td>\n",
       "      <td>58141.489451</td>\n",
       "    </tr>\n",
       "  </tbody>\n",
       "</table>\n",
       "</div>"
      ],
      "text/plain": [
       "                   count           mean\n",
       "locality_name                          \n",
       "Санкт-Петербург    15721  114848.565231\n",
       "поселок Мурино       556   85681.305755\n",
       "Кудрово              472   95324.476695\n",
       "поселок Шушары       440   78676.904545\n",
       "Всеволожск           398   68654.007538\n",
       "Пушкин               369  103125.373984\n",
       "Колпино              338   75424.150888\n",
       "поселок Парголово    327   90175.489297\n",
       "Гатчина              307   68745.693811\n",
       "Выборг               237   58141.489451"
      ]
     },
     "execution_count": 69,
     "metadata": {},
     "output_type": "execute_result"
    }
   ],
   "source": [
    "data_locality = data.pivot_table(index='locality_name', values='square_meter_price', aggfunc=['count', 'mean'])\n",
    "data_locality.columns = ['count', 'mean']\n",
    "\n",
    "data_locality = data_locality.sort_values('count', ascending = False).head(10)\n",
    "data_locality\n"
   ]
  },
  {
   "cell_type": "markdown",
   "metadata": {},
   "source": [
    "Самая высока стоимпость квадратного метра в Санкт-Петербурге, здесь же и самое большое количество объявлений"
   ]
  },
  {
   "cell_type": "markdown",
   "metadata": {},
   "source": [
    "Пересчитаем через медиану:"
   ]
  },
  {
   "cell_type": "code",
   "execution_count": 83,
   "metadata": {},
   "outputs": [
    {
     "data": {
      "text/html": [
       "<div>\n",
       "<style scoped>\n",
       "    .dataframe tbody tr th:only-of-type {\n",
       "        vertical-align: middle;\n",
       "    }\n",
       "\n",
       "    .dataframe tbody tr th {\n",
       "        vertical-align: top;\n",
       "    }\n",
       "\n",
       "    .dataframe thead th {\n",
       "        text-align: right;\n",
       "    }\n",
       "</style>\n",
       "<table border=\"1\" class=\"dataframe\">\n",
       "  <thead>\n",
       "    <tr style=\"text-align: right;\">\n",
       "      <th></th>\n",
       "      <th>count</th>\n",
       "      <th>median</th>\n",
       "    </tr>\n",
       "    <tr>\n",
       "      <th>locality_name</th>\n",
       "      <th></th>\n",
       "      <th></th>\n",
       "    </tr>\n",
       "  </thead>\n",
       "  <tbody>\n",
       "    <tr>\n",
       "      <th>Санкт-Петербург</th>\n",
       "      <td>15721</td>\n",
       "      <td>104761.0</td>\n",
       "    </tr>\n",
       "    <tr>\n",
       "      <th>поселок Мурино</th>\n",
       "      <td>556</td>\n",
       "      <td>85878.0</td>\n",
       "    </tr>\n",
       "    <tr>\n",
       "      <th>Кудрово</th>\n",
       "      <td>472</td>\n",
       "      <td>95675.0</td>\n",
       "    </tr>\n",
       "    <tr>\n",
       "      <th>поселок Шушары</th>\n",
       "      <td>440</td>\n",
       "      <td>76876.0</td>\n",
       "    </tr>\n",
       "    <tr>\n",
       "      <th>Всеволожск</th>\n",
       "      <td>398</td>\n",
       "      <td>65789.0</td>\n",
       "    </tr>\n",
       "    <tr>\n",
       "      <th>Пушкин</th>\n",
       "      <td>369</td>\n",
       "      <td>100000.0</td>\n",
       "    </tr>\n",
       "    <tr>\n",
       "      <th>Колпино</th>\n",
       "      <td>338</td>\n",
       "      <td>74723.5</td>\n",
       "    </tr>\n",
       "    <tr>\n",
       "      <th>поселок Парголово</th>\n",
       "      <td>327</td>\n",
       "      <td>91642.0</td>\n",
       "    </tr>\n",
       "    <tr>\n",
       "      <th>Гатчина</th>\n",
       "      <td>307</td>\n",
       "      <td>67796.0</td>\n",
       "    </tr>\n",
       "    <tr>\n",
       "      <th>Выборг</th>\n",
       "      <td>237</td>\n",
       "      <td>58158.0</td>\n",
       "    </tr>\n",
       "  </tbody>\n",
       "</table>\n",
       "</div>"
      ],
      "text/plain": [
       "                   count    median\n",
       "locality_name                     \n",
       "Санкт-Петербург    15721  104761.0\n",
       "поселок Мурино       556   85878.0\n",
       "Кудрово              472   95675.0\n",
       "поселок Шушары       440   76876.0\n",
       "Всеволожск           398   65789.0\n",
       "Пушкин               369  100000.0\n",
       "Колпино              338   74723.5\n",
       "поселок Парголово    327   91642.0\n",
       "Гатчина              307   67796.0\n",
       "Выборг               237   58158.0"
      ]
     },
     "execution_count": 83,
     "metadata": {},
     "output_type": "execute_result"
    }
   ],
   "source": [
    "data_locality = data.pivot_table(index='locality_name', values='square_meter_price', aggfunc=['count', 'median'])\n",
    "data_locality.columns = ['count', 'median']\n",
    "\n",
    "data_locality = data_locality.sort_values('count', ascending = False).head(10)\n",
    "data_locality"
   ]
  },
  {
   "cell_type": "markdown",
   "metadata": {},
   "source": [
    "Вывод: видно на примере Санкт-Петербурга и  Пушкино, насколько разнятся медиана и среднее арифметическое. Вероятно именно тут имеют место аномально высокие нечасто появляющиеся цены на недвижимость или выбросы. "
   ]
  },
  {
   "cell_type": "markdown",
   "metadata": {},
   "source": [
    "максимальная стоимость"
   ]
  },
  {
   "cell_type": "code",
   "execution_count": 70,
   "metadata": {},
   "outputs": [
    {
     "data": {
      "text/html": [
       "<div>\n",
       "<style scoped>\n",
       "    .dataframe tbody tr th:only-of-type {\n",
       "        vertical-align: middle;\n",
       "    }\n",
       "\n",
       "    .dataframe tbody tr th {\n",
       "        vertical-align: top;\n",
       "    }\n",
       "\n",
       "    .dataframe thead th {\n",
       "        text-align: right;\n",
       "    }\n",
       "</style>\n",
       "<table border=\"1\" class=\"dataframe\">\n",
       "  <thead>\n",
       "    <tr style=\"text-align: right;\">\n",
       "      <th></th>\n",
       "      <th>count</th>\n",
       "      <th>mean</th>\n",
       "    </tr>\n",
       "    <tr>\n",
       "      <th>locality_name</th>\n",
       "      <th></th>\n",
       "      <th></th>\n",
       "    </tr>\n",
       "  </thead>\n",
       "  <tbody>\n",
       "    <tr>\n",
       "      <th>Санкт-Петербург</th>\n",
       "      <td>15721</td>\n",
       "      <td>114848.565231</td>\n",
       "    </tr>\n",
       "  </tbody>\n",
       "</table>\n",
       "</div>"
      ],
      "text/plain": [
       "                 count           mean\n",
       "locality_name                        \n",
       "Санкт-Петербург  15721  114848.565231"
      ]
     },
     "execution_count": 70,
     "metadata": {},
     "output_type": "execute_result"
    }
   ],
   "source": [
    "data_locality = data.pivot_table(index='locality_name', values='square_meter_price', aggfunc=['count', 'mean'])\n",
    "data_locality.columns = ['count', 'mean']\n",
    "data_locality = data_locality.sort_values('count', ascending = False).head(10)    \n",
    "data_locality[data_locality['mean'] == data_locality['mean'].max()]"
   ]
  },
  {
   "cell_type": "markdown",
   "metadata": {},
   "source": [
    "минимальная стоимость"
   ]
  },
  {
   "cell_type": "code",
   "execution_count": 71,
   "metadata": {},
   "outputs": [
    {
     "data": {
      "text/html": [
       "<div>\n",
       "<style scoped>\n",
       "    .dataframe tbody tr th:only-of-type {\n",
       "        vertical-align: middle;\n",
       "    }\n",
       "\n",
       "    .dataframe tbody tr th {\n",
       "        vertical-align: top;\n",
       "    }\n",
       "\n",
       "    .dataframe thead th {\n",
       "        text-align: right;\n",
       "    }\n",
       "</style>\n",
       "<table border=\"1\" class=\"dataframe\">\n",
       "  <thead>\n",
       "    <tr style=\"text-align: right;\">\n",
       "      <th></th>\n",
       "      <th>count</th>\n",
       "      <th>mean</th>\n",
       "    </tr>\n",
       "    <tr>\n",
       "      <th>locality_name</th>\n",
       "      <th></th>\n",
       "      <th></th>\n",
       "    </tr>\n",
       "  </thead>\n",
       "  <tbody>\n",
       "    <tr>\n",
       "      <th>деревня Старополье</th>\n",
       "      <td>3</td>\n",
       "      <td>11206.0</td>\n",
       "    </tr>\n",
       "  </tbody>\n",
       "</table>\n",
       "</div>"
      ],
      "text/plain": [
       "                    count     mean\n",
       "locality_name                     \n",
       "деревня Старополье      3  11206.0"
      ]
     },
     "execution_count": 71,
     "metadata": {},
     "output_type": "execute_result"
    }
   ],
   "source": [
    "data_locality = data.pivot_table(index='locality_name', values='square_meter_price', aggfunc=['count', 'mean'])\n",
    "data_locality.columns = ['count', 'mean']\n",
    "data_locality[data_locality['mean'] == data_locality['mean'].min()]"
   ]
  },
  {
   "cell_type": "markdown",
   "metadata": {},
   "source": [
    "#### Ранее вы посчитали расстояние до центра в километрах. Теперь выделите квартиры в Санкт-Петербурге с помощью столбца locality_name и вычислите среднюю цену каждого километра. Опишите, как стоимость объектов зависит от расстояния до центра города."
   ]
  },
  {
   "cell_type": "code",
   "execution_count": 72,
   "metadata": {},
   "outputs": [
    {
     "name": "stdout",
     "output_type": "stream",
     "text": [
      "<class 'pandas.core.frame.DataFrame'>\n",
      "Int64Index: 15721 entries, 0 to 23697\n",
      "Data columns (total 28 columns):\n",
      " #   Column                Non-Null Count  Dtype  \n",
      "---  ------                --------------  -----  \n",
      " 0   total_images          15721 non-null  int64  \n",
      " 1   last_price            15721 non-null  int64  \n",
      " 2   total_area            15721 non-null  float64\n",
      " 3   first_day_exposition  15721 non-null  object \n",
      " 4   rooms                 15721 non-null  int64  \n",
      " 5   ceiling_height        10104 non-null  float64\n",
      " 6   floors_total          15721 non-null  int64  \n",
      " 7   living_area           15721 non-null  float64\n",
      " 8   floor                 15721 non-null  int64  \n",
      " 9   is_apartment          15721 non-null  bool   \n",
      " 10  studio                15721 non-null  bool   \n",
      " 11  open_plan             15721 non-null  bool   \n",
      " 12  kitchen_area          14342 non-null  float64\n",
      " 13  balcony               15721 non-null  int64  \n",
      " 14  locality_name         15721 non-null  object \n",
      " 15  airports_nearest      15721 non-null  int64  \n",
      " 16  cityCenters_nearest   15721 non-null  float64\n",
      " 17  parks_around3000      15721 non-null  float64\n",
      " 18  parks_nearest         7284 non-null   float64\n",
      " 19  ponds_around3000      15660 non-null  float64\n",
      " 20  ponds_nearest         7983 non-null   float64\n",
      " 21  days_exposition       15721 non-null  int64  \n",
      " 22  square_meter_price    15721 non-null  int64  \n",
      " 23  day_of_exposition     15721 non-null  int64  \n",
      " 24  month_exposition      15721 non-null  int64  \n",
      " 25  year_exposition       15721 non-null  int64  \n",
      " 26  floor_cat             15721 non-null  object \n",
      " 27  distance_to_center    15721 non-null  int64  \n",
      "dtypes: bool(3), float64(9), int64(13), object(3)\n",
      "memory usage: 3.2+ MB\n"
     ]
    }
   ],
   "source": [
    "sp_data_sale = data.query('locality_name == \"Санкт-Петербург\"')\n",
    "sp_data_sale.info()\n",
    "\n",
    "\n"
   ]
  },
  {
   "cell_type": "code",
   "execution_count": 73,
   "metadata": {
    "scrolled": true
   },
   "outputs": [
    {
     "name": "stderr",
     "output_type": "stream",
     "text": [
      "/tmp/ipykernel_48/1826478991.py:1: SettingWithCopyWarning: \n",
      "A value is trying to be set on a copy of a slice from a DataFrame.\n",
      "Try using .loc[row_indexer,col_indexer] = value instead\n",
      "\n",
      "See the caveats in the documentation: https://pandas.pydata.org/pandas-docs/stable/user_guide/indexing.html#returning-a-view-versus-a-copy\n",
      "  sp_data_sale['kilometers_from_center'] = data['cityCenters_nearest'] / 1000\n",
      "/tmp/ipykernel_48/1826478991.py:2: SettingWithCopyWarning: \n",
      "A value is trying to be set on a copy of a slice from a DataFrame.\n",
      "Try using .loc[row_indexer,col_indexer] = value instead\n",
      "\n",
      "See the caveats in the documentation: https://pandas.pydata.org/pandas-docs/stable/user_guide/indexing.html#returning-a-view-versus-a-copy\n",
      "  sp_data_sale['kilometers_from_center'] = sp_data_sale['kilometers_from_center'].fillna(999999)\n",
      "/tmp/ipykernel_48/1826478991.py:3: SettingWithCopyWarning: \n",
      "A value is trying to be set on a copy of a slice from a DataFrame.\n",
      "Try using .loc[row_indexer,col_indexer] = value instead\n",
      "\n",
      "See the caveats in the documentation: https://pandas.pydata.org/pandas-docs/stable/user_guide/indexing.html#returning-a-view-versus-a-copy\n",
      "  sp_data_sale['kilometers_from_center'] = sp_data_sale['kilometers_from_center'].astype('int')\n"
     ]
    },
    {
     "data": {
      "text/html": [
       "<div>\n",
       "<style scoped>\n",
       "    .dataframe tbody tr th:only-of-type {\n",
       "        vertical-align: middle;\n",
       "    }\n",
       "\n",
       "    .dataframe tbody tr th {\n",
       "        vertical-align: top;\n",
       "    }\n",
       "\n",
       "    .dataframe thead th {\n",
       "        text-align: right;\n",
       "    }\n",
       "</style>\n",
       "<table border=\"1\" class=\"dataframe\">\n",
       "  <thead>\n",
       "    <tr style=\"text-align: right;\">\n",
       "      <th></th>\n",
       "      <th>square_meter_price</th>\n",
       "    </tr>\n",
       "    <tr>\n",
       "      <th>kilometers_from_center</th>\n",
       "      <th></th>\n",
       "    </tr>\n",
       "  </thead>\n",
       "  <tbody>\n",
       "    <tr>\n",
       "      <th>0</th>\n",
       "      <td>174401.571429</td>\n",
       "    </tr>\n",
       "    <tr>\n",
       "      <th>1</th>\n",
       "      <td>166603.312500</td>\n",
       "    </tr>\n",
       "    <tr>\n",
       "      <th>2</th>\n",
       "      <td>146662.420195</td>\n",
       "    </tr>\n",
       "    <tr>\n",
       "      <th>3</th>\n",
       "      <td>129415.891635</td>\n",
       "    </tr>\n",
       "    <tr>\n",
       "      <th>4</th>\n",
       "      <td>137475.039691</td>\n",
       "    </tr>\n",
       "    <tr>\n",
       "      <th>5</th>\n",
       "      <td>146978.789337</td>\n",
       "    </tr>\n",
       "    <tr>\n",
       "      <th>6</th>\n",
       "      <td>152277.455319</td>\n",
       "    </tr>\n",
       "    <tr>\n",
       "      <th>7</th>\n",
       "      <td>141399.287469</td>\n",
       "    </tr>\n",
       "    <tr>\n",
       "      <th>8</th>\n",
       "      <td>120580.929851</td>\n",
       "    </tr>\n",
       "    <tr>\n",
       "      <th>9</th>\n",
       "      <td>110012.108696</td>\n",
       "    </tr>\n",
       "    <tr>\n",
       "      <th>10</th>\n",
       "      <td>111640.850877</td>\n",
       "    </tr>\n",
       "    <tr>\n",
       "      <th>11</th>\n",
       "      <td>106790.438163</td>\n",
       "    </tr>\n",
       "    <tr>\n",
       "      <th>12</th>\n",
       "      <td>108295.312211</td>\n",
       "    </tr>\n",
       "    <tr>\n",
       "      <th>13</th>\n",
       "      <td>107208.716120</td>\n",
       "    </tr>\n",
       "    <tr>\n",
       "      <th>14</th>\n",
       "      <td>104986.032407</td>\n",
       "    </tr>\n",
       "    <tr>\n",
       "      <th>15</th>\n",
       "      <td>101882.678077</td>\n",
       "    </tr>\n",
       "    <tr>\n",
       "      <th>16</th>\n",
       "      <td>100085.150995</td>\n",
       "    </tr>\n",
       "    <tr>\n",
       "      <th>17</th>\n",
       "      <td>94095.434457</td>\n",
       "    </tr>\n",
       "    <tr>\n",
       "      <th>18</th>\n",
       "      <td>94831.528736</td>\n",
       "    </tr>\n",
       "    <tr>\n",
       "      <th>19</th>\n",
       "      <td>95433.951220</td>\n",
       "    </tr>\n",
       "    <tr>\n",
       "      <th>20</th>\n",
       "      <td>107045.773810</td>\n",
       "    </tr>\n",
       "    <tr>\n",
       "      <th>21</th>\n",
       "      <td>91492.220513</td>\n",
       "    </tr>\n",
       "    <tr>\n",
       "      <th>22</th>\n",
       "      <td>88714.237410</td>\n",
       "    </tr>\n",
       "    <tr>\n",
       "      <th>23</th>\n",
       "      <td>92720.233333</td>\n",
       "    </tr>\n",
       "    <tr>\n",
       "      <th>24</th>\n",
       "      <td>82439.909091</td>\n",
       "    </tr>\n",
       "    <tr>\n",
       "      <th>25</th>\n",
       "      <td>91135.600000</td>\n",
       "    </tr>\n",
       "    <tr>\n",
       "      <th>26</th>\n",
       "      <td>75171.333333</td>\n",
       "    </tr>\n",
       "    <tr>\n",
       "      <th>27</th>\n",
       "      <td>132115.000000</td>\n",
       "    </tr>\n",
       "    <tr>\n",
       "      <th>28</th>\n",
       "      <td>81840.200000</td>\n",
       "    </tr>\n",
       "    <tr>\n",
       "      <th>29</th>\n",
       "      <td>62481.666667</td>\n",
       "    </tr>\n",
       "  </tbody>\n",
       "</table>\n",
       "</div>"
      ],
      "text/plain": [
       "                        square_meter_price\n",
       "kilometers_from_center                    \n",
       "0                            174401.571429\n",
       "1                            166603.312500\n",
       "2                            146662.420195\n",
       "3                            129415.891635\n",
       "4                            137475.039691\n",
       "5                            146978.789337\n",
       "6                            152277.455319\n",
       "7                            141399.287469\n",
       "8                            120580.929851\n",
       "9                            110012.108696\n",
       "10                           111640.850877\n",
       "11                           106790.438163\n",
       "12                           108295.312211\n",
       "13                           107208.716120\n",
       "14                           104986.032407\n",
       "15                           101882.678077\n",
       "16                           100085.150995\n",
       "17                            94095.434457\n",
       "18                            94831.528736\n",
       "19                            95433.951220\n",
       "20                           107045.773810\n",
       "21                            91492.220513\n",
       "22                            88714.237410\n",
       "23                            92720.233333\n",
       "24                            82439.909091\n",
       "25                            91135.600000\n",
       "26                            75171.333333\n",
       "27                           132115.000000\n",
       "28                            81840.200000\n",
       "29                            62481.666667"
      ]
     },
     "execution_count": 73,
     "metadata": {},
     "output_type": "execute_result"
    }
   ],
   "source": [
    "sp_data_sale['kilometers_from_center'] = data['cityCenters_nearest'] / 1000\n",
    "sp_data_sale['kilometers_from_center'] = sp_data_sale['kilometers_from_center'].fillna(999999)\n",
    "sp_data_sale['kilometers_from_center'] = sp_data_sale['kilometers_from_center'].astype('int')\n",
    "sp_data_sale['kilometers_from_center'].value_counts().index\n",
    "\n",
    "price_km = (sp_data_sale.pivot_table(index='kilometers_from_center', values='square_meter_price', aggfunc='mean'))\n",
    "price_km\n"
   ]
  },
  {
   "cell_type": "code",
   "execution_count": null,
   "metadata": {
    "scrolled": true
   },
   "outputs": [],
   "source": [
    "plot_price_km = price_km\n",
    "plot_price_km['km'] = price_km.index\n",
    "plot_price_km"
   ]
  },
  {
   "cell_type": "code",
   "execution_count": null,
   "metadata": {
    "scrolled": false
   },
   "outputs": [],
   "source": [
    "plot_price_km.plot(x='km', y='square_meter_price' ,style='o-', title = 'Зависимость стоимости квадратного метра от расстояния до центра города', grid = True);\n",
    "\n"
   ]
  },
  {
   "cell_type": "code",
   "execution_count": 76,
   "metadata": {},
   "outputs": [
    {
     "data": {
      "text/plain": [
       "-0.30132211346656096"
      ]
     },
     "execution_count": 76,
     "metadata": {},
     "output_type": "execute_result"
    }
   ],
   "source": [
    "\n",
    "plot_price_km['km'].corr(data['square_meter_price'])"
   ]
  },
  {
   "cell_type": "markdown",
   "metadata": {},
   "source": [
    "##### Опишите, как стоимость объектов зависит от расстояния до центра города:\n",
    "Вывод: На графике мы распределили значения зависимости стоимости квадратного метра от удаленности от центра города для оценки корреляции параметров. \n",
    "Значения графика распределяются следущим образом: пик приходится на минимальную удаленность от центра города, так же некоторое пиковое значение приходится на объект, расположенный в пяти километрах от центра города, а низшая точка графика соответствует объявлениям о продаже около 28-30 км от центра города. Но еще один пик появляется в области 26 км от центра города, коэффициент корреляции Пирсона:-0.30132211346656096, что отображает небольшую обратную зависимость между параметрами: чем меньше удаленность от центра города, тем выше цена объекта. \n"
   ]
  },
  {
   "cell_type": "markdown",
   "metadata": {},
   "source": [
    "### Общий вывод"
   ]
  },
  {
   "cell_type": "markdown",
   "metadata": {},
   "source": [
    "### Шаг 5. Напишите общий вывод"
   ]
  },
  {
   "cell_type": "markdown",
   "metadata": {},
   "source": [
    "Я обработала полученный датафрейм: обработала пропущенные значения в необходимых ячейках, поменяла типы данных на оптимальные для работы и анализа данных. Я посчитала новые сводные значения: стоимость квадратного метра жилья, определила день, месяц и год публикации объявления и вынесла это в отдельные столбцы, а так же классифицировали все объявления по типу этажей в квартире. Так же я определила расстояние до центра города в километрах. Я изучила параметры на наличие аномальных значений: площадь, цена, число комнат, высота потолков и скорректировали аномальные значения. Определение времени, даты и года продаж помогает определить оптимальные даты для продвижения продажи квартиры. Я определила зависимость количества проданных квартир от этажности: оказалось, что в большинстве своем успешно продаются квартиры, расположенные не на первом и не на последнем этаже. Вероятно это связано с тем, что квартиры на первом этаже могут быть небезопасными, а квартиры на последнем этаже могут иметь проблемы с сохранением тепла и подтеканиием крыши и самыми комфортными для проживания являются промежуточные варианты. По удаленности от центра города мы определили, что стоимость квартир снижается, видимо изза снижения престижа и снижения уровня комфортного окружения. В центре квартиры имеют сравнительно более высокую стоимость.\n",
    "\n",
    "Мы достигли поставленных в исследовании целей:\n",
    "- Определили рыночную стоимость недвижимости\n",
    "- Построили автоматизированную модель, которая визуализирует и помогает отслежиывать выбросы и аномалии\n",
    "- Установили, какие факторы (и благодаря коэффициенту корреляции Пирсона оценили, в какой мере) влияют на стоимость продажи квартир\n",
    "\n",
    "Оказалось, что на рыночную стоимость продажи квартир в большей степени влияет площадь квартиры, а так же день и месяц выставления объявления на продажу, а так же важную роль играет локация квартиры - ее близость к центру города ( или нахождения в крупном городе - Санкт-Петербурге). Как оказалось, площадь кухни и количество жилых комнат в меньшей мере влияло на стоимость продажи квартиры, а так же сама этажность квартиры не так важна, но лучше, если она не находится на первом этаже. \n",
    "\n",
    "Рекомендации: наиболее любопытный фактор, на который возможно влиять это планирование публикация объявлений, ведь теперь мы знаем, что ближе ко вторнику-среде, в марте-апреле и октябре квартиры продаются в большем объеме, а летом нормально ожидать спад продаж. Так же мы можем рекомендовать более тщательно собирать информацию об общей площади квартиры, ее близости к центру, чтобы не было ошибочных данных и пропусков, ведь это важный параметр для определения стоимости квартиры. Так же мы провели большую работу с устранением дубликатов в разделе названий населенных пунктов - возможно можно предлагать пользователю выбрать название из списка, чтобы избежать потери важной информации. "
   ]
  },
  {
   "cell_type": "markdown",
   "metadata": {},
   "source": [
    "(мне пришла в голову идея, что было бы еще интересно посмотреть корреляцию между количеством фотографий и скоростью и суммой продажи квартиры, тут определенно должна быть закономерность, которая позволила бы конкретизировать наши рекомендации бизнесу)\n"
   ]
  }
 ],
 "metadata": {
  "ExecuteTimeLog": [
   {
    "duration": 776,
    "start_time": "2023-03-10T15:02:41.856Z"
   },
   {
    "duration": 100,
    "start_time": "2023-03-10T15:02:44.790Z"
   },
   {
    "duration": 118,
    "start_time": "2023-03-10T15:03:07.457Z"
   },
   {
    "duration": 114,
    "start_time": "2023-03-10T15:05:28.430Z"
   },
   {
    "duration": 124,
    "start_time": "2023-03-10T15:05:42.223Z"
   },
   {
    "duration": 112,
    "start_time": "2023-03-10T15:08:26.411Z"
   },
   {
    "duration": 147,
    "start_time": "2023-03-10T15:12:49.257Z"
   },
   {
    "duration": 565,
    "start_time": "2023-03-11T12:20:21.440Z"
   },
   {
    "duration": 116,
    "start_time": "2023-03-11T12:20:28.359Z"
   },
   {
    "duration": 4,
    "start_time": "2023-03-11T12:25:43.544Z"
   },
   {
    "duration": 5,
    "start_time": "2023-03-11T12:33:33.659Z"
   },
   {
    "duration": 7,
    "start_time": "2023-03-11T12:35:31.630Z"
   },
   {
    "duration": 6,
    "start_time": "2023-03-11T12:35:58.844Z"
   },
   {
    "duration": 8,
    "start_time": "2023-03-11T12:36:47.768Z"
   },
   {
    "duration": 5,
    "start_time": "2023-03-11T12:37:14.656Z"
   },
   {
    "duration": 6,
    "start_time": "2023-03-11T12:38:31.987Z"
   },
   {
    "duration": 5,
    "start_time": "2023-03-11T12:39:29.619Z"
   },
   {
    "duration": 3,
    "start_time": "2023-03-11T12:39:38.426Z"
   },
   {
    "duration": 7,
    "start_time": "2023-03-11T12:40:47.466Z"
   },
   {
    "duration": 8,
    "start_time": "2023-03-11T12:41:34.786Z"
   },
   {
    "duration": 6,
    "start_time": "2023-03-11T12:41:49.882Z"
   },
   {
    "duration": 6,
    "start_time": "2023-03-11T12:43:13.742Z"
   },
   {
    "duration": 6,
    "start_time": "2023-03-11T12:43:37.838Z"
   },
   {
    "duration": 4,
    "start_time": "2023-03-11T12:43:43.624Z"
   },
   {
    "duration": 5,
    "start_time": "2023-03-11T12:43:58.117Z"
   },
   {
    "duration": 5,
    "start_time": "2023-03-11T12:47:38.057Z"
   },
   {
    "duration": 11,
    "start_time": "2023-03-11T12:49:54.209Z"
   },
   {
    "duration": 5,
    "start_time": "2023-03-11T12:54:22.738Z"
   },
   {
    "duration": 6,
    "start_time": "2023-03-11T12:56:01.057Z"
   },
   {
    "duration": 5,
    "start_time": "2023-03-11T12:56:10.252Z"
   },
   {
    "duration": 6,
    "start_time": "2023-03-11T12:56:31.519Z"
   },
   {
    "duration": 6,
    "start_time": "2023-03-11T12:57:05.071Z"
   },
   {
    "duration": 5,
    "start_time": "2023-03-11T12:57:23.111Z"
   },
   {
    "duration": 7,
    "start_time": "2023-03-11T12:58:05.027Z"
   },
   {
    "duration": 61,
    "start_time": "2023-03-11T12:59:18.622Z"
   },
   {
    "duration": 6,
    "start_time": "2023-03-11T12:59:28.601Z"
   },
   {
    "duration": 7,
    "start_time": "2023-03-11T12:59:39.119Z"
   },
   {
    "duration": 6,
    "start_time": "2023-03-11T13:00:10.918Z"
   },
   {
    "duration": 7,
    "start_time": "2023-03-11T13:11:31.655Z"
   },
   {
    "duration": 5,
    "start_time": "2023-03-11T13:12:01.714Z"
   },
   {
    "duration": 6,
    "start_time": "2023-03-11T13:13:42.961Z"
   },
   {
    "duration": 5,
    "start_time": "2023-03-11T13:14:10.555Z"
   },
   {
    "duration": 6,
    "start_time": "2023-03-11T13:14:33.323Z"
   },
   {
    "duration": 6,
    "start_time": "2023-03-11T13:14:39.618Z"
   },
   {
    "duration": 8,
    "start_time": "2023-03-11T13:19:55.087Z"
   },
   {
    "duration": 3,
    "start_time": "2023-03-11T13:24:43.488Z"
   },
   {
    "duration": 51,
    "start_time": "2023-03-11T13:26:39.282Z"
   },
   {
    "duration": 4,
    "start_time": "2023-03-11T13:26:49.754Z"
   },
   {
    "duration": 5,
    "start_time": "2023-03-11T13:27:02.627Z"
   },
   {
    "duration": 362,
    "start_time": "2023-03-11T13:30:55.573Z"
   },
   {
    "duration": 325,
    "start_time": "2023-03-11T13:31:02.375Z"
   },
   {
    "duration": 17,
    "start_time": "2023-03-11T13:32:55.865Z"
   },
   {
    "duration": 6,
    "start_time": "2023-03-11T13:34:41.320Z"
   },
   {
    "duration": 4,
    "start_time": "2023-03-11T13:34:52.430Z"
   },
   {
    "duration": 7,
    "start_time": "2023-03-11T13:34:58.360Z"
   },
   {
    "duration": 44,
    "start_time": "2023-03-11T13:38:03.806Z"
   },
   {
    "duration": 528,
    "start_time": "2023-03-11T13:38:10.108Z"
   },
   {
    "duration": 154,
    "start_time": "2023-03-11T13:38:55.592Z"
   },
   {
    "duration": 152,
    "start_time": "2023-03-11T13:39:23.606Z"
   },
   {
    "duration": 191,
    "start_time": "2023-03-11T13:39:36.211Z"
   },
   {
    "duration": 163,
    "start_time": "2023-03-11T13:42:10.663Z"
   },
   {
    "duration": 186,
    "start_time": "2023-03-11T13:42:22.694Z"
   },
   {
    "duration": 183,
    "start_time": "2023-03-11T13:44:27.830Z"
   },
   {
    "duration": 48,
    "start_time": "2023-03-11T13:47:53.867Z"
   },
   {
    "duration": 8,
    "start_time": "2023-03-11T13:48:00.537Z"
   },
   {
    "duration": 9,
    "start_time": "2023-03-11T13:51:12.000Z"
   },
   {
    "duration": 8,
    "start_time": "2023-03-11T13:51:55.741Z"
   },
   {
    "duration": 7,
    "start_time": "2023-03-11T13:51:58.895Z"
   },
   {
    "duration": 9,
    "start_time": "2023-03-11T13:52:05.337Z"
   },
   {
    "duration": 8,
    "start_time": "2023-03-11T13:52:11.235Z"
   },
   {
    "duration": 8,
    "start_time": "2023-03-11T13:52:18.982Z"
   },
   {
    "duration": 8,
    "start_time": "2023-03-11T13:52:37.503Z"
   },
   {
    "duration": 7,
    "start_time": "2023-03-11T13:52:44.931Z"
   },
   {
    "duration": 7,
    "start_time": "2023-03-11T13:52:48.498Z"
   },
   {
    "duration": 12,
    "start_time": "2023-03-11T13:53:07.239Z"
   },
   {
    "duration": 10,
    "start_time": "2023-03-11T13:53:28.477Z"
   },
   {
    "duration": 13,
    "start_time": "2023-03-11T13:54:40.116Z"
   },
   {
    "duration": 14,
    "start_time": "2023-03-11T13:54:54.201Z"
   },
   {
    "duration": 46,
    "start_time": "2023-03-11T14:07:06.970Z"
   },
   {
    "duration": 158,
    "start_time": "2023-03-11T14:07:28.226Z"
   },
   {
    "duration": 163,
    "start_time": "2023-03-11T14:07:42.119Z"
   },
   {
    "duration": 173,
    "start_time": "2023-03-11T14:07:53.438Z"
   },
   {
    "duration": 174,
    "start_time": "2023-03-11T14:08:54.428Z"
   },
   {
    "duration": 161,
    "start_time": "2023-03-11T14:09:07.294Z"
   },
   {
    "duration": 16,
    "start_time": "2023-03-11T14:11:57.843Z"
   },
   {
    "duration": 18,
    "start_time": "2023-03-11T14:12:18.327Z"
   },
   {
    "duration": 17,
    "start_time": "2023-03-11T14:12:47.241Z"
   },
   {
    "duration": 16,
    "start_time": "2023-03-11T14:12:51.287Z"
   },
   {
    "duration": 14,
    "start_time": "2023-03-11T14:13:15.952Z"
   },
   {
    "duration": 12,
    "start_time": "2023-03-11T14:14:24.472Z"
   },
   {
    "duration": 9,
    "start_time": "2023-03-11T14:16:21.228Z"
   },
   {
    "duration": 7,
    "start_time": "2023-03-11T14:16:34.395Z"
   },
   {
    "duration": 8,
    "start_time": "2023-03-11T14:20:33.366Z"
   },
   {
    "duration": 54,
    "start_time": "2023-03-12T08:45:19.337Z"
   },
   {
    "duration": 9,
    "start_time": "2023-03-12T08:45:26.305Z"
   },
   {
    "duration": 622,
    "start_time": "2023-03-12T08:45:32.687Z"
   },
   {
    "duration": 4,
    "start_time": "2023-03-12T08:45:58.905Z"
   },
   {
    "duration": 8,
    "start_time": "2023-03-12T08:45:59.337Z"
   },
   {
    "duration": 8,
    "start_time": "2023-03-12T08:45:59.471Z"
   },
   {
    "duration": 6,
    "start_time": "2023-03-12T08:45:59.967Z"
   },
   {
    "duration": 9,
    "start_time": "2023-03-12T08:46:00.173Z"
   },
   {
    "duration": 8,
    "start_time": "2023-03-12T08:46:00.843Z"
   },
   {
    "duration": 7,
    "start_time": "2023-03-12T08:46:01.160Z"
   },
   {
    "duration": 15,
    "start_time": "2023-03-12T08:46:01.508Z"
   },
   {
    "duration": 10,
    "start_time": "2023-03-12T08:46:02.084Z"
   },
   {
    "duration": 7,
    "start_time": "2023-03-12T08:46:02.541Z"
   },
   {
    "duration": 7,
    "start_time": "2023-03-12T08:46:03.168Z"
   },
   {
    "duration": 13,
    "start_time": "2023-03-12T08:46:03.824Z"
   },
   {
    "duration": 18,
    "start_time": "2023-03-12T08:46:04.038Z"
   },
   {
    "duration": 10,
    "start_time": "2023-03-12T08:46:04.246Z"
   },
   {
    "duration": 15,
    "start_time": "2023-03-12T08:46:04.429Z"
   },
   {
    "duration": 13,
    "start_time": "2023-03-12T08:46:04.806Z"
   },
   {
    "duration": 8,
    "start_time": "2023-03-12T08:46:05.358Z"
   },
   {
    "duration": 8,
    "start_time": "2023-03-12T08:46:05.549Z"
   },
   {
    "duration": 10,
    "start_time": "2023-03-12T08:46:05.741Z"
   },
   {
    "duration": 14,
    "start_time": "2023-03-12T08:46:06.135Z"
   },
   {
    "duration": 17,
    "start_time": "2023-03-12T08:46:06.312Z"
   },
   {
    "duration": 7,
    "start_time": "2023-03-12T08:46:06.757Z"
   },
   {
    "duration": 7,
    "start_time": "2023-03-12T08:46:06.966Z"
   },
   {
    "duration": 7,
    "start_time": "2023-03-12T08:46:07.558Z"
   },
   {
    "duration": 27,
    "start_time": "2023-03-12T08:46:07.802Z"
   },
   {
    "duration": 685,
    "start_time": "2023-03-12T08:46:08.006Z"
   },
   {
    "duration": 21,
    "start_time": "2023-03-12T08:46:08.694Z"
   },
   {
    "duration": 10,
    "start_time": "2023-03-12T08:46:13.855Z"
   },
   {
    "duration": 6,
    "start_time": "2023-03-12T08:46:17.069Z"
   },
   {
    "duration": 21,
    "start_time": "2023-03-12T08:46:18.011Z"
   },
   {
    "duration": 6,
    "start_time": "2023-03-12T08:46:19.050Z"
   },
   {
    "duration": 13,
    "start_time": "2023-03-12T08:46:42.441Z"
   },
   {
    "duration": 20,
    "start_time": "2023-03-12T08:48:36.045Z"
   },
   {
    "duration": 16,
    "start_time": "2023-03-12T08:48:39.938Z"
   },
   {
    "duration": 17,
    "start_time": "2023-03-12T08:48:43.912Z"
   },
   {
    "duration": 10,
    "start_time": "2023-03-12T08:49:41.759Z"
   },
   {
    "duration": 39,
    "start_time": "2023-03-12T08:54:20.208Z"
   },
   {
    "duration": 207,
    "start_time": "2023-03-12T08:57:19.939Z"
   },
   {
    "duration": 35,
    "start_time": "2023-03-12T08:57:36.405Z"
   },
   {
    "duration": 12,
    "start_time": "2023-03-12T09:00:17.747Z"
   },
   {
    "duration": 58,
    "start_time": "2023-03-12T09:00:54.203Z"
   },
   {
    "duration": 10,
    "start_time": "2023-03-12T09:05:03.250Z"
   },
   {
    "duration": 18,
    "start_time": "2023-03-12T09:05:16.956Z"
   },
   {
    "duration": 9,
    "start_time": "2023-03-12T09:05:37.957Z"
   },
   {
    "duration": 20,
    "start_time": "2023-03-12T09:08:39.426Z"
   },
   {
    "duration": 17,
    "start_time": "2023-03-12T09:08:50.813Z"
   },
   {
    "duration": 10,
    "start_time": "2023-03-12T09:18:58.337Z"
   },
   {
    "duration": 9,
    "start_time": "2023-03-12T09:19:47.858Z"
   },
   {
    "duration": 9,
    "start_time": "2023-03-12T09:20:29.732Z"
   },
   {
    "duration": 39,
    "start_time": "2023-03-12T09:20:45.951Z"
   },
   {
    "duration": 10,
    "start_time": "2023-03-12T09:21:33.668Z"
   },
   {
    "duration": 47,
    "start_time": "2023-03-12T09:22:53.152Z"
   },
   {
    "duration": 84,
    "start_time": "2023-03-12T09:23:06.000Z"
   },
   {
    "duration": 27,
    "start_time": "2023-03-12T09:23:16.100Z"
   },
   {
    "duration": 10,
    "start_time": "2023-03-12T09:23:43.661Z"
   },
   {
    "duration": 12,
    "start_time": "2023-03-12T09:23:53.302Z"
   },
   {
    "duration": 10,
    "start_time": "2023-03-12T09:24:06.750Z"
   },
   {
    "duration": 8,
    "start_time": "2023-03-12T09:24:23.849Z"
   },
   {
    "duration": 8,
    "start_time": "2023-03-12T09:24:30.641Z"
   },
   {
    "duration": 15,
    "start_time": "2023-03-12T09:24:42.329Z"
   },
   {
    "duration": 168,
    "start_time": "2023-03-12T09:25:05.485Z"
   },
   {
    "duration": 10,
    "start_time": "2023-03-12T09:25:13.781Z"
   },
   {
    "duration": 9,
    "start_time": "2023-03-12T09:25:45.072Z"
   },
   {
    "duration": 11,
    "start_time": "2023-03-12T09:26:06.434Z"
   },
   {
    "duration": 10,
    "start_time": "2023-03-12T09:26:31.257Z"
   },
   {
    "duration": 20,
    "start_time": "2023-03-12T09:27:10.537Z"
   },
   {
    "duration": 17,
    "start_time": "2023-03-12T09:27:20.283Z"
   },
   {
    "duration": 9,
    "start_time": "2023-03-12T09:27:38.370Z"
   },
   {
    "duration": 12,
    "start_time": "2023-03-12T09:27:44.963Z"
   },
   {
    "duration": 111,
    "start_time": "2023-03-12T09:29:25.607Z"
   },
   {
    "duration": 111,
    "start_time": "2023-03-12T09:30:25.871Z"
   },
   {
    "duration": 81,
    "start_time": "2023-03-12T09:30:41.087Z"
   },
   {
    "duration": 12,
    "start_time": "2023-03-12T10:15:32.822Z"
   },
   {
    "duration": 11,
    "start_time": "2023-03-12T10:15:51.545Z"
   },
   {
    "duration": 11,
    "start_time": "2023-03-12T10:15:58.788Z"
   },
   {
    "duration": 12,
    "start_time": "2023-03-12T10:16:12.080Z"
   },
   {
    "duration": 18,
    "start_time": "2023-03-12T10:16:16.714Z"
   },
   {
    "duration": 18,
    "start_time": "2023-03-12T10:16:31.610Z"
   },
   {
    "duration": 11,
    "start_time": "2023-03-12T10:16:36.361Z"
   },
   {
    "duration": 10,
    "start_time": "2023-03-12T10:17:36.975Z"
   },
   {
    "duration": 9,
    "start_time": "2023-03-12T10:20:55.601Z"
   },
   {
    "duration": 11,
    "start_time": "2023-03-12T10:24:34.148Z"
   },
   {
    "duration": 13,
    "start_time": "2023-03-12T10:25:09.102Z"
   },
   {
    "duration": 60,
    "start_time": "2023-03-12T10:25:18.501Z"
   },
   {
    "duration": 15,
    "start_time": "2023-03-12T10:25:55.333Z"
   },
   {
    "duration": 23,
    "start_time": "2023-03-12T10:26:15.001Z"
   },
   {
    "duration": 16,
    "start_time": "2023-03-12T10:26:38.753Z"
   },
   {
    "duration": 15,
    "start_time": "2023-03-12T10:31:47.837Z"
   },
   {
    "duration": 25,
    "start_time": "2023-03-12T10:31:52.734Z"
   },
   {
    "duration": 20,
    "start_time": "2023-03-12T10:33:56.042Z"
   },
   {
    "duration": 26,
    "start_time": "2023-03-12T10:34:06.434Z"
   },
   {
    "duration": 42,
    "start_time": "2023-03-12T10:53:59.393Z"
   },
   {
    "duration": 32,
    "start_time": "2023-03-12T10:54:21.545Z"
   },
   {
    "duration": 41,
    "start_time": "2023-03-12T11:01:46.433Z"
   },
   {
    "duration": 37,
    "start_time": "2023-03-12T11:01:56.366Z"
   },
   {
    "duration": 48,
    "start_time": "2023-03-12T11:23:01.025Z"
   },
   {
    "duration": 228,
    "start_time": "2023-03-12T11:29:02.505Z"
   },
   {
    "duration": 242,
    "start_time": "2023-03-12T11:31:10.068Z"
   },
   {
    "duration": 216,
    "start_time": "2023-03-12T11:31:57.787Z"
   },
   {
    "duration": 220,
    "start_time": "2023-03-12T11:35:08.554Z"
   },
   {
    "duration": 224,
    "start_time": "2023-03-12T11:39:40.273Z"
   },
   {
    "duration": 223,
    "start_time": "2023-03-12T11:40:11.141Z"
   },
   {
    "duration": 52,
    "start_time": "2023-03-12T15:08:14.841Z"
   },
   {
    "duration": 661,
    "start_time": "2023-03-12T15:08:22.845Z"
   },
   {
    "duration": 724,
    "start_time": "2023-03-12T15:08:27.948Z"
   },
   {
    "duration": 255,
    "start_time": "2023-03-12T15:08:50.528Z"
   },
   {
    "duration": 10,
    "start_time": "2023-03-12T15:09:26.274Z"
   },
   {
    "duration": 11,
    "start_time": "2023-03-12T15:09:50.082Z"
   },
   {
    "duration": 21,
    "start_time": "2023-03-12T15:10:06.430Z"
   },
   {
    "duration": 53,
    "start_time": "2023-03-12T15:10:22.143Z"
   },
   {
    "duration": 90,
    "start_time": "2023-03-12T15:12:33.886Z"
   },
   {
    "duration": 24,
    "start_time": "2023-03-12T15:13:02.543Z"
   },
   {
    "duration": 14,
    "start_time": "2023-03-12T15:13:21.770Z"
   },
   {
    "duration": 21,
    "start_time": "2023-03-12T15:13:46.834Z"
   },
   {
    "duration": 13,
    "start_time": "2023-03-12T15:13:54.548Z"
   },
   {
    "duration": 20,
    "start_time": "2023-03-12T15:15:12.251Z"
   },
   {
    "duration": 89,
    "start_time": "2023-03-12T15:15:35.251Z"
   },
   {
    "duration": 61,
    "start_time": "2023-03-12T15:16:01.029Z"
   },
   {
    "duration": 68,
    "start_time": "2023-03-12T15:16:39.199Z"
   },
   {
    "duration": 69,
    "start_time": "2023-03-12T15:22:05.985Z"
   },
   {
    "duration": 64,
    "start_time": "2023-03-12T15:24:56.303Z"
   },
   {
    "duration": 49,
    "start_time": "2023-03-12T15:26:00.550Z"
   },
   {
    "duration": 28,
    "start_time": "2023-03-12T15:26:15.610Z"
   },
   {
    "duration": 18,
    "start_time": "2023-03-12T15:26:45.846Z"
   },
   {
    "duration": 62,
    "start_time": "2023-03-12T15:27:06.682Z"
   },
   {
    "duration": 16,
    "start_time": "2023-03-12T15:28:25.279Z"
   },
   {
    "duration": 50,
    "start_time": "2023-03-12T15:29:06.242Z"
   },
   {
    "duration": 16,
    "start_time": "2023-03-12T15:31:50.481Z"
   },
   {
    "duration": 145,
    "start_time": "2023-03-12T15:32:15.837Z"
   },
   {
    "duration": 4,
    "start_time": "2023-03-12T15:32:16.840Z"
   },
   {
    "duration": 6,
    "start_time": "2023-03-12T15:32:17.446Z"
   },
   {
    "duration": 7,
    "start_time": "2023-03-12T15:32:17.747Z"
   },
   {
    "duration": 6,
    "start_time": "2023-03-12T15:32:18.287Z"
   },
   {
    "duration": 8,
    "start_time": "2023-03-12T15:32:18.550Z"
   },
   {
    "duration": 5,
    "start_time": "2023-03-12T15:32:19.060Z"
   },
   {
    "duration": 25,
    "start_time": "2023-03-12T15:32:19.609Z"
   },
   {
    "duration": 9,
    "start_time": "2023-03-12T15:32:20.137Z"
   },
   {
    "duration": 9,
    "start_time": "2023-03-12T15:32:20.651Z"
   },
   {
    "duration": 5,
    "start_time": "2023-03-12T15:32:21.167Z"
   },
   {
    "duration": 6,
    "start_time": "2023-03-12T15:32:21.641Z"
   },
   {
    "duration": 6,
    "start_time": "2023-03-12T15:32:22.241Z"
   },
   {
    "duration": 7,
    "start_time": "2023-03-12T15:32:22.501Z"
   },
   {
    "duration": 15,
    "start_time": "2023-03-12T15:32:22.808Z"
   },
   {
    "duration": 8,
    "start_time": "2023-03-12T15:32:23.034Z"
   },
   {
    "duration": 58,
    "start_time": "2023-03-12T15:32:23.502Z"
   },
   {
    "duration": 14,
    "start_time": "2023-03-12T15:32:24.811Z"
   },
   {
    "duration": 7,
    "start_time": "2023-03-12T15:32:25.147Z"
   },
   {
    "duration": 9,
    "start_time": "2023-03-12T15:32:25.422Z"
   },
   {
    "duration": 12,
    "start_time": "2023-03-12T15:32:25.908Z"
   },
   {
    "duration": 8,
    "start_time": "2023-03-12T15:32:26.233Z"
   },
   {
    "duration": 7,
    "start_time": "2023-03-12T15:32:26.786Z"
   },
   {
    "duration": 6,
    "start_time": "2023-03-12T15:32:26.999Z"
   },
   {
    "duration": 12,
    "start_time": "2023-03-12T15:32:27.737Z"
   },
   {
    "duration": 20,
    "start_time": "2023-03-12T15:32:27.945Z"
   },
   {
    "duration": 48,
    "start_time": "2023-03-12T15:32:28.348Z"
   },
   {
    "duration": 18,
    "start_time": "2023-03-12T15:32:29.356Z"
   },
   {
    "duration": 9,
    "start_time": "2023-03-12T15:32:29.770Z"
   },
   {
    "duration": 9,
    "start_time": "2023-03-12T15:32:30.270Z"
   },
   {
    "duration": 28,
    "start_time": "2023-03-12T15:32:30.768Z"
   },
   {
    "duration": 12,
    "start_time": "2023-03-12T15:32:31.695Z"
   },
   {
    "duration": 10,
    "start_time": "2023-03-12T15:32:32.587Z"
   },
   {
    "duration": 10,
    "start_time": "2023-03-12T15:32:33.675Z"
   },
   {
    "duration": 11,
    "start_time": "2023-03-12T15:32:34.100Z"
   },
   {
    "duration": 10,
    "start_time": "2023-03-12T15:32:34.450Z"
   },
   {
    "duration": 10,
    "start_time": "2023-03-12T15:32:34.838Z"
   },
   {
    "duration": 13,
    "start_time": "2023-03-12T15:32:36.494Z"
   },
   {
    "duration": 25,
    "start_time": "2023-03-12T15:33:26.368Z"
   },
   {
    "duration": 53,
    "start_time": "2023-03-12T15:42:57.077Z"
   },
   {
    "duration": 44,
    "start_time": "2023-03-12T15:46:34.388Z"
   },
   {
    "duration": 27,
    "start_time": "2023-03-12T15:47:18.157Z"
   },
   {
    "duration": 55,
    "start_time": "2023-03-12T15:47:38.901Z"
   },
   {
    "duration": 32,
    "start_time": "2023-03-12T15:47:44.063Z"
   },
   {
    "duration": 27,
    "start_time": "2023-03-12T15:48:15.651Z"
   },
   {
    "duration": 42,
    "start_time": "2023-03-12T15:48:25.344Z"
   },
   {
    "duration": 27,
    "start_time": "2023-03-12T15:48:37.038Z"
   },
   {
    "duration": 14,
    "start_time": "2023-03-12T15:58:25.615Z"
   },
   {
    "duration": 6,
    "start_time": "2023-03-12T15:59:05.250Z"
   },
   {
    "duration": 9,
    "start_time": "2023-03-12T15:59:16.605Z"
   },
   {
    "duration": 32,
    "start_time": "2023-03-12T16:06:32.372Z"
   },
   {
    "duration": 8,
    "start_time": "2023-03-12T16:10:03.443Z"
   },
   {
    "duration": 56,
    "start_time": "2023-03-12T16:11:35.287Z"
   },
   {
    "duration": 9,
    "start_time": "2023-03-12T16:14:14.485Z"
   },
   {
    "duration": 9,
    "start_time": "2023-03-12T16:14:22.121Z"
   },
   {
    "duration": 10,
    "start_time": "2023-03-12T16:20:18.791Z"
   },
   {
    "duration": 10,
    "start_time": "2023-03-12T16:21:28.688Z"
   },
   {
    "duration": 11,
    "start_time": "2023-03-12T16:21:52.487Z"
   },
   {
    "duration": 16,
    "start_time": "2023-03-12T16:22:57.049Z"
   },
   {
    "duration": 9,
    "start_time": "2023-03-12T16:23:16.777Z"
   },
   {
    "duration": 50,
    "start_time": "2023-03-12T16:31:22.047Z"
   },
   {
    "duration": 9,
    "start_time": "2023-03-12T16:31:29.481Z"
   },
   {
    "duration": 11,
    "start_time": "2023-03-12T16:31:40.028Z"
   },
   {
    "duration": 44,
    "start_time": "2023-03-12T16:31:47.773Z"
   },
   {
    "duration": 10,
    "start_time": "2023-03-12T16:31:52.896Z"
   },
   {
    "duration": 8,
    "start_time": "2023-03-12T16:32:03.573Z"
   },
   {
    "duration": 10,
    "start_time": "2023-03-12T16:33:54.196Z"
   },
   {
    "duration": 8,
    "start_time": "2023-03-12T16:34:22.446Z"
   },
   {
    "duration": 9,
    "start_time": "2023-03-12T16:34:26.175Z"
   },
   {
    "duration": 10,
    "start_time": "2023-03-12T16:34:45.727Z"
   },
   {
    "duration": 12,
    "start_time": "2023-03-12T16:35:39.503Z"
   },
   {
    "duration": 10,
    "start_time": "2023-03-12T16:36:06.787Z"
   },
   {
    "duration": 10,
    "start_time": "2023-03-12T16:37:17.793Z"
   },
   {
    "duration": 11,
    "start_time": "2023-03-12T16:38:04.269Z"
   },
   {
    "duration": 219,
    "start_time": "2023-03-12T16:46:13.148Z"
   },
   {
    "duration": 216,
    "start_time": "2023-03-12T16:46:33.530Z"
   },
   {
    "duration": 13,
    "start_time": "2023-03-12T17:00:43.313Z"
   },
   {
    "duration": 711,
    "start_time": "2023-03-12T17:01:18.981Z"
   },
   {
    "duration": 8,
    "start_time": "2023-03-12T17:01:43.517Z"
   },
   {
    "duration": 7,
    "start_time": "2023-03-12T17:03:06.937Z"
   },
   {
    "duration": 242,
    "start_time": "2023-03-12T17:06:35.033Z"
   },
   {
    "duration": 188,
    "start_time": "2023-03-12T17:08:17.883Z"
   },
   {
    "duration": 186,
    "start_time": "2023-03-12T17:10:41.582Z"
   },
   {
    "duration": 178,
    "start_time": "2023-03-12T17:14:47.017Z"
   },
   {
    "duration": 56,
    "start_time": "2023-03-12T17:15:31.030Z"
   },
   {
    "duration": 63,
    "start_time": "2023-03-12T17:15:49.437Z"
   },
   {
    "duration": 185,
    "start_time": "2023-03-12T17:16:05.539Z"
   },
   {
    "duration": 195,
    "start_time": "2023-03-12T17:21:59.140Z"
   },
   {
    "duration": 251,
    "start_time": "2023-03-12T17:32:12.328Z"
   },
   {
    "duration": 230,
    "start_time": "2023-03-12T17:32:22.795Z"
   },
   {
    "duration": 323,
    "start_time": "2023-03-12T17:32:30.600Z"
   },
   {
    "duration": 221,
    "start_time": "2023-03-12T17:32:35.721Z"
   },
   {
    "duration": 251,
    "start_time": "2023-03-12T17:32:47.248Z"
   },
   {
    "duration": 244,
    "start_time": "2023-03-12T17:34:17.909Z"
   },
   {
    "duration": 180,
    "start_time": "2023-03-12T17:34:52.404Z"
   },
   {
    "duration": 153,
    "start_time": "2023-03-12T17:34:58.051Z"
   },
   {
    "duration": 158,
    "start_time": "2023-03-12T17:35:02.100Z"
   },
   {
    "duration": 136,
    "start_time": "2023-03-12T17:35:11.301Z"
   },
   {
    "duration": 224,
    "start_time": "2023-03-12T17:35:23.114Z"
   },
   {
    "duration": 151,
    "start_time": "2023-03-12T17:39:21.410Z"
   },
   {
    "duration": 191,
    "start_time": "2023-03-12T17:39:36.601Z"
   },
   {
    "duration": 151,
    "start_time": "2023-03-12T17:39:47.069Z"
   },
   {
    "duration": 165,
    "start_time": "2023-03-12T17:41:47.616Z"
   },
   {
    "duration": 155,
    "start_time": "2023-03-12T17:41:53.284Z"
   },
   {
    "duration": 317,
    "start_time": "2023-03-12T17:45:10.897Z"
   },
   {
    "duration": 302,
    "start_time": "2023-03-12T17:45:53.430Z"
   },
   {
    "duration": 178,
    "start_time": "2023-03-12T17:46:25.319Z"
   },
   {
    "duration": 237,
    "start_time": "2023-03-12T17:46:32.587Z"
   },
   {
    "duration": 15,
    "start_time": "2023-03-12T18:46:36.781Z"
   },
   {
    "duration": 9,
    "start_time": "2023-03-12T18:47:07.141Z"
   },
   {
    "duration": 13,
    "start_time": "2023-03-12T18:47:27.433Z"
   },
   {
    "duration": 143,
    "start_time": "2023-03-12T18:47:45.171Z"
   },
   {
    "duration": 124,
    "start_time": "2023-03-12T18:48:01.748Z"
   },
   {
    "duration": 123,
    "start_time": "2023-03-12T18:48:09.770Z"
   },
   {
    "duration": 125,
    "start_time": "2023-03-12T18:48:32.677Z"
   },
   {
    "duration": 164,
    "start_time": "2023-03-12T18:49:40.498Z"
   },
   {
    "duration": 12,
    "start_time": "2023-03-12T18:50:24.304Z"
   },
   {
    "duration": 12,
    "start_time": "2023-03-12T18:50:40.927Z"
   },
   {
    "duration": 12,
    "start_time": "2023-03-12T18:50:53.419Z"
   },
   {
    "duration": 155,
    "start_time": "2023-03-12T18:51:07.794Z"
   },
   {
    "duration": 124,
    "start_time": "2023-03-12T18:51:17.191Z"
   },
   {
    "duration": 132,
    "start_time": "2023-03-12T18:51:40.918Z"
   },
   {
    "duration": 171,
    "start_time": "2023-03-12T19:01:46.249Z"
   },
   {
    "duration": 196,
    "start_time": "2023-03-12T19:02:04.747Z"
   },
   {
    "duration": 255,
    "start_time": "2023-03-12T19:02:32.398Z"
   },
   {
    "duration": 179,
    "start_time": "2023-03-12T19:02:43.217Z"
   },
   {
    "duration": 182,
    "start_time": "2023-03-12T19:06:27.122Z"
   },
   {
    "duration": 158,
    "start_time": "2023-03-12T19:06:43.521Z"
   },
   {
    "duration": 155,
    "start_time": "2023-03-12T19:07:06.708Z"
   },
   {
    "duration": 139,
    "start_time": "2023-03-12T19:07:12.889Z"
   },
   {
    "duration": 161,
    "start_time": "2023-03-12T19:09:41.989Z"
   },
   {
    "duration": 158,
    "start_time": "2023-03-12T19:10:07.303Z"
   },
   {
    "duration": 177,
    "start_time": "2023-03-12T19:13:33.711Z"
   },
   {
    "duration": 142,
    "start_time": "2023-03-12T19:14:00.206Z"
   },
   {
    "duration": 133,
    "start_time": "2023-03-12T19:15:59.109Z"
   },
   {
    "duration": 267,
    "start_time": "2023-03-12T19:20:26.076Z"
   },
   {
    "duration": 1605,
    "start_time": "2023-03-12T19:20:44.082Z"
   },
   {
    "duration": 207,
    "start_time": "2023-03-12T19:20:53.332Z"
   },
   {
    "duration": 143,
    "start_time": "2023-03-12T19:21:20.518Z"
   },
   {
    "duration": 125,
    "start_time": "2023-03-12T19:23:29.389Z"
   },
   {
    "duration": 147,
    "start_time": "2023-03-12T19:27:07.324Z"
   },
   {
    "duration": 132,
    "start_time": "2023-03-12T19:27:20.473Z"
   },
   {
    "duration": 137,
    "start_time": "2023-03-12T19:34:48.608Z"
   },
   {
    "duration": 49,
    "start_time": "2023-03-12T19:35:14.247Z"
   },
   {
    "duration": 52,
    "start_time": "2023-03-12T19:35:22.878Z"
   },
   {
    "duration": 44,
    "start_time": "2023-03-12T19:35:43.495Z"
   },
   {
    "duration": 43,
    "start_time": "2023-03-12T19:35:54.679Z"
   },
   {
    "duration": 175,
    "start_time": "2023-03-12T19:36:11.940Z"
   },
   {
    "duration": 178,
    "start_time": "2023-03-12T19:36:34.537Z"
   },
   {
    "duration": 197,
    "start_time": "2023-03-12T19:37:00.654Z"
   },
   {
    "duration": 223,
    "start_time": "2023-03-12T19:38:15.510Z"
   },
   {
    "duration": 209,
    "start_time": "2023-03-12T19:38:23.834Z"
   },
   {
    "duration": 250,
    "start_time": "2023-03-12T19:38:41.322Z"
   },
   {
    "duration": 184,
    "start_time": "2023-03-12T19:40:07.719Z"
   },
   {
    "duration": 161,
    "start_time": "2023-03-12T19:45:12.869Z"
   },
   {
    "duration": 146,
    "start_time": "2023-03-12T19:45:25.552Z"
   },
   {
    "duration": 150,
    "start_time": "2023-03-12T19:45:31.295Z"
   },
   {
    "duration": 160,
    "start_time": "2023-03-12T19:52:31.495Z"
   },
   {
    "duration": 170,
    "start_time": "2023-03-12T19:52:49.769Z"
   },
   {
    "duration": 168,
    "start_time": "2023-03-12T19:52:54.933Z"
   },
   {
    "duration": 207,
    "start_time": "2023-03-12T19:52:59.506Z"
   },
   {
    "duration": 163,
    "start_time": "2023-03-12T19:53:03.953Z"
   },
   {
    "duration": 150,
    "start_time": "2023-03-12T19:53:10.636Z"
   },
   {
    "duration": 241,
    "start_time": "2023-03-12T19:53:30.164Z"
   },
   {
    "duration": 162,
    "start_time": "2023-03-12T19:53:37.574Z"
   },
   {
    "duration": 162,
    "start_time": "2023-03-12T19:56:21.623Z"
   },
   {
    "duration": 47,
    "start_time": "2023-03-12T20:01:50.072Z"
   },
   {
    "duration": 46,
    "start_time": "2023-03-12T20:01:58.906Z"
   },
   {
    "duration": 134,
    "start_time": "2023-03-12T20:02:06.982Z"
   },
   {
    "duration": 182,
    "start_time": "2023-03-12T20:02:32.194Z"
   },
   {
    "duration": 162,
    "start_time": "2023-03-12T20:02:56.634Z"
   },
   {
    "duration": 184,
    "start_time": "2023-03-12T20:03:52.331Z"
   },
   {
    "duration": 212,
    "start_time": "2023-03-12T20:14:15.400Z"
   },
   {
    "duration": 213,
    "start_time": "2023-03-12T20:14:28.729Z"
   },
   {
    "duration": 181,
    "start_time": "2023-03-12T20:16:17.487Z"
   },
   {
    "duration": 4,
    "start_time": "2023-03-12T20:22:06.488Z"
   },
   {
    "duration": 231,
    "start_time": "2023-03-12T20:22:19.765Z"
   },
   {
    "duration": 347,
    "start_time": "2023-03-12T20:22:29.195Z"
   },
   {
    "duration": 48,
    "start_time": "2023-03-12T20:24:26.715Z"
   },
   {
    "duration": 581,
    "start_time": "2023-03-12T20:24:43.339Z"
   },
   {
    "duration": 27,
    "start_time": "2023-03-12T20:24:45.582Z"
   },
   {
    "duration": 6,
    "start_time": "2023-03-12T20:24:45.855Z"
   },
   {
    "duration": 8,
    "start_time": "2023-03-12T20:24:46.007Z"
   },
   {
    "duration": 7,
    "start_time": "2023-03-12T20:24:46.318Z"
   },
   {
    "duration": 10,
    "start_time": "2023-03-12T20:24:46.471Z"
   },
   {
    "duration": 6,
    "start_time": "2023-03-12T20:24:46.770Z"
   },
   {
    "duration": 34,
    "start_time": "2023-03-12T20:24:47.080Z"
   },
   {
    "duration": 13,
    "start_time": "2023-03-12T20:24:47.390Z"
   },
   {
    "duration": 10,
    "start_time": "2023-03-12T20:24:47.723Z"
   },
   {
    "duration": 5,
    "start_time": "2023-03-12T20:24:48.047Z"
   },
   {
    "duration": 7,
    "start_time": "2023-03-12T20:24:48.371Z"
   },
   {
    "duration": 6,
    "start_time": "2023-03-12T20:24:48.689Z"
   },
   {
    "duration": 6,
    "start_time": "2023-03-12T20:24:48.858Z"
   },
   {
    "duration": 7,
    "start_time": "2023-03-12T20:24:49.014Z"
   },
   {
    "duration": 6,
    "start_time": "2023-03-12T20:24:49.192Z"
   },
   {
    "duration": 62,
    "start_time": "2023-03-12T20:24:49.522Z"
   },
   {
    "duration": 7,
    "start_time": "2023-03-12T20:24:49.853Z"
   },
   {
    "duration": 8,
    "start_time": "2023-03-12T20:24:50.004Z"
   },
   {
    "duration": 50,
    "start_time": "2023-03-12T20:24:50.179Z"
   },
   {
    "duration": 6,
    "start_time": "2023-03-12T20:24:50.357Z"
   },
   {
    "duration": 7,
    "start_time": "2023-03-12T20:24:50.689Z"
   },
   {
    "duration": 7,
    "start_time": "2023-03-12T20:24:50.875Z"
   },
   {
    "duration": 7,
    "start_time": "2023-03-12T20:24:51.213Z"
   },
   {
    "duration": 7,
    "start_time": "2023-03-12T20:24:51.375Z"
   },
   {
    "duration": 9,
    "start_time": "2023-03-12T20:24:51.892Z"
   },
   {
    "duration": 18,
    "start_time": "2023-03-12T20:24:52.058Z"
   },
   {
    "duration": 14,
    "start_time": "2023-03-12T20:24:52.414Z"
   },
   {
    "duration": 10,
    "start_time": "2023-03-12T20:24:52.593Z"
   },
   {
    "duration": 10,
    "start_time": "2023-03-12T20:24:52.815Z"
   },
   {
    "duration": 29,
    "start_time": "2023-03-12T20:24:52.956Z"
   },
   {
    "duration": 13,
    "start_time": "2023-03-12T20:24:53.314Z"
   },
   {
    "duration": 10,
    "start_time": "2023-03-12T20:24:53.649Z"
   },
   {
    "duration": 13,
    "start_time": "2023-03-12T20:24:54.023Z"
   },
   {
    "duration": 10,
    "start_time": "2023-03-12T20:24:54.211Z"
   },
   {
    "duration": 10,
    "start_time": "2023-03-12T20:24:54.390Z"
   },
   {
    "duration": 13,
    "start_time": "2023-03-12T20:24:54.556Z"
   },
   {
    "duration": 14,
    "start_time": "2023-03-12T20:24:54.931Z"
   },
   {
    "duration": 8,
    "start_time": "2023-03-12T20:24:55.481Z"
   },
   {
    "duration": 11,
    "start_time": "2023-03-12T20:24:56.047Z"
   },
   {
    "duration": 10,
    "start_time": "2023-03-12T20:24:56.214Z"
   },
   {
    "duration": 11,
    "start_time": "2023-03-12T20:24:56.397Z"
   },
   {
    "duration": 216,
    "start_time": "2023-03-12T20:24:56.784Z"
   },
   {
    "duration": 7,
    "start_time": "2023-03-12T20:24:57.313Z"
   },
   {
    "duration": 421,
    "start_time": "2023-03-12T20:24:57.884Z"
   },
   {
    "duration": 187,
    "start_time": "2023-03-12T20:24:58.398Z"
   },
   {
    "duration": 5041,
    "start_time": "2023-03-12T20:24:58.937Z"
   },
   {
    "duration": 318,
    "start_time": "2023-03-12T20:25:03.980Z"
   },
   {
    "duration": 181,
    "start_time": "2023-03-12T20:25:04.300Z"
   },
   {
    "duration": 163,
    "start_time": "2023-03-12T20:25:04.483Z"
   },
   {
    "duration": 509,
    "start_time": "2023-03-12T20:25:04.648Z"
   },
   {
    "duration": 136,
    "start_time": "2023-03-12T20:25:05.159Z"
   },
   {
    "duration": 209,
    "start_time": "2023-03-12T20:25:05.297Z"
   },
   {
    "duration": 148,
    "start_time": "2023-03-12T20:25:05.507Z"
   },
   {
    "duration": 137,
    "start_time": "2023-03-12T20:25:05.656Z"
   },
   {
    "duration": 170,
    "start_time": "2023-03-12T20:25:05.796Z"
   },
   {
    "duration": 199,
    "start_time": "2023-03-12T20:25:05.968Z"
   },
   {
    "duration": 162,
    "start_time": "2023-03-12T20:25:06.169Z"
   },
   {
    "duration": 166,
    "start_time": "2023-03-12T20:25:06.333Z"
   },
   {
    "duration": 183,
    "start_time": "2023-03-12T20:25:06.608Z"
   },
   {
    "duration": 46,
    "start_time": "2023-03-12T20:25:07.032Z"
   },
   {
    "duration": 201,
    "start_time": "2023-03-12T20:25:07.248Z"
   },
   {
    "duration": 50,
    "start_time": "2023-03-12T20:25:31.560Z"
   },
   {
    "duration": 7,
    "start_time": "2023-03-12T20:25:32.023Z"
   },
   {
    "duration": 7,
    "start_time": "2023-03-12T20:25:35.171Z"
   },
   {
    "duration": 630,
    "start_time": "2023-03-12T20:25:43.001Z"
   },
   {
    "duration": 27,
    "start_time": "2023-03-12T20:25:43.634Z"
   },
   {
    "duration": 6,
    "start_time": "2023-03-12T20:25:43.894Z"
   },
   {
    "duration": 11,
    "start_time": "2023-03-12T20:25:44.031Z"
   },
   {
    "duration": 7,
    "start_time": "2023-03-12T20:25:44.347Z"
   },
   {
    "duration": 7,
    "start_time": "2023-03-12T20:25:44.498Z"
   },
   {
    "duration": 5,
    "start_time": "2023-03-12T20:25:44.814Z"
   },
   {
    "duration": 32,
    "start_time": "2023-03-12T20:25:45.135Z"
   },
   {
    "duration": 11,
    "start_time": "2023-03-12T20:25:45.455Z"
   },
   {
    "duration": 10,
    "start_time": "2023-03-12T20:25:45.793Z"
   },
   {
    "duration": 7,
    "start_time": "2023-03-12T20:25:46.127Z"
   },
   {
    "duration": 7,
    "start_time": "2023-03-12T20:25:46.433Z"
   },
   {
    "duration": 7,
    "start_time": "2023-03-12T20:25:46.771Z"
   },
   {
    "duration": 5,
    "start_time": "2023-03-12T20:25:46.940Z"
   },
   {
    "duration": 6,
    "start_time": "2023-03-12T20:25:47.106Z"
   },
   {
    "duration": 6,
    "start_time": "2023-03-12T20:25:47.275Z"
   },
   {
    "duration": 45,
    "start_time": "2023-03-12T20:25:47.627Z"
   },
   {
    "duration": 6,
    "start_time": "2023-03-12T20:25:47.973Z"
   },
   {
    "duration": 8,
    "start_time": "2023-03-12T20:25:48.172Z"
   },
   {
    "duration": 50,
    "start_time": "2023-03-12T20:25:48.342Z"
   },
   {
    "duration": 5,
    "start_time": "2023-03-12T20:25:48.530Z"
   },
   {
    "duration": 7,
    "start_time": "2023-03-12T20:25:48.898Z"
   },
   {
    "duration": 6,
    "start_time": "2023-03-12T20:25:49.081Z"
   },
   {
    "duration": 8,
    "start_time": "2023-03-12T20:25:49.449Z"
   },
   {
    "duration": 7,
    "start_time": "2023-03-12T20:25:49.623Z"
   },
   {
    "duration": 8,
    "start_time": "2023-03-12T20:25:50.176Z"
   },
   {
    "duration": 18,
    "start_time": "2023-03-12T20:25:50.370Z"
   },
   {
    "duration": 14,
    "start_time": "2023-03-12T20:25:50.750Z"
   },
   {
    "duration": 8,
    "start_time": "2023-03-12T20:25:50.931Z"
   },
   {
    "duration": 8,
    "start_time": "2023-03-12T20:25:51.139Z"
   },
   {
    "duration": 28,
    "start_time": "2023-03-12T20:25:51.333Z"
   },
   {
    "duration": 11,
    "start_time": "2023-03-12T20:25:51.694Z"
   },
   {
    "duration": 8,
    "start_time": "2023-03-12T20:25:52.040Z"
   },
   {
    "duration": 10,
    "start_time": "2023-03-12T20:25:52.415Z"
   },
   {
    "duration": 9,
    "start_time": "2023-03-12T20:25:52.871Z"
   },
   {
    "duration": 9,
    "start_time": "2023-03-12T20:25:53.039Z"
   },
   {
    "duration": 11,
    "start_time": "2023-03-12T20:25:53.222Z"
   },
   {
    "duration": 13,
    "start_time": "2023-03-12T20:25:53.614Z"
   },
   {
    "duration": 7,
    "start_time": "2023-03-12T20:25:54.186Z"
   },
   {
    "duration": 10,
    "start_time": "2023-03-12T20:25:54.701Z"
   },
   {
    "duration": 9,
    "start_time": "2023-03-12T20:25:54.896Z"
   },
   {
    "duration": 10,
    "start_time": "2023-03-12T20:25:55.073Z"
   },
   {
    "duration": 247,
    "start_time": "2023-03-12T20:25:55.441Z"
   },
   {
    "duration": 7,
    "start_time": "2023-03-12T20:25:55.997Z"
   },
   {
    "duration": 410,
    "start_time": "2023-03-12T20:25:56.535Z"
   },
   {
    "duration": 190,
    "start_time": "2023-03-12T20:25:57.131Z"
   },
   {
    "duration": 4962,
    "start_time": "2023-03-12T20:25:57.774Z"
   },
   {
    "duration": 47,
    "start_time": "2023-03-12T20:26:27.914Z"
   },
   {
    "duration": 617,
    "start_time": "2023-03-12T20:26:36.703Z"
   },
   {
    "duration": 395,
    "start_time": "2023-03-12T20:26:44.306Z"
   },
   {
    "duration": 606,
    "start_time": "2023-03-12T20:31:20.306Z"
   },
   {
    "duration": 27,
    "start_time": "2023-03-12T20:31:20.914Z"
   },
   {
    "duration": 6,
    "start_time": "2023-03-12T20:31:21.072Z"
   },
   {
    "duration": 6,
    "start_time": "2023-03-12T20:31:21.223Z"
   },
   {
    "duration": 10,
    "start_time": "2023-03-12T20:31:21.535Z"
   },
   {
    "duration": 8,
    "start_time": "2023-03-12T20:31:21.709Z"
   },
   {
    "duration": 499,
    "start_time": "2023-03-12T20:31:39.872Z"
   },
   {
    "duration": 25,
    "start_time": "2023-03-12T20:31:40.374Z"
   },
   {
    "duration": 6,
    "start_time": "2023-03-12T20:31:40.412Z"
   },
   {
    "duration": 7,
    "start_time": "2023-03-12T20:31:40.420Z"
   },
   {
    "duration": 7,
    "start_time": "2023-03-12T20:31:40.430Z"
   },
   {
    "duration": 9,
    "start_time": "2023-03-12T20:31:40.439Z"
   },
   {
    "duration": 9,
    "start_time": "2023-03-12T20:31:40.449Z"
   },
   {
    "duration": 63,
    "start_time": "2023-03-12T20:31:40.459Z"
   },
   {
    "duration": 11,
    "start_time": "2023-03-12T20:31:40.523Z"
   },
   {
    "duration": 9,
    "start_time": "2023-03-12T20:31:40.535Z"
   },
   {
    "duration": 4,
    "start_time": "2023-03-12T20:31:40.546Z"
   },
   {
    "duration": 14,
    "start_time": "2023-03-12T20:31:40.551Z"
   },
   {
    "duration": 6,
    "start_time": "2023-03-12T20:31:40.566Z"
   },
   {
    "duration": 4,
    "start_time": "2023-03-12T20:31:40.575Z"
   },
   {
    "duration": 34,
    "start_time": "2023-03-12T20:31:40.581Z"
   },
   {
    "duration": 6,
    "start_time": "2023-03-12T20:31:40.616Z"
   },
   {
    "duration": 46,
    "start_time": "2023-03-12T20:31:40.623Z"
   },
   {
    "duration": 6,
    "start_time": "2023-03-12T20:31:40.670Z"
   },
   {
    "duration": 36,
    "start_time": "2023-03-12T20:31:40.677Z"
   },
   {
    "duration": 47,
    "start_time": "2023-03-12T20:31:40.715Z"
   },
   {
    "duration": 0,
    "start_time": "2023-03-12T20:31:40.764Z"
   },
   {
    "duration": 0,
    "start_time": "2023-03-12T20:31:40.765Z"
   },
   {
    "duration": 0,
    "start_time": "2023-03-12T20:31:40.766Z"
   },
   {
    "duration": 0,
    "start_time": "2023-03-12T20:31:40.767Z"
   },
   {
    "duration": 0,
    "start_time": "2023-03-12T20:31:40.768Z"
   },
   {
    "duration": 0,
    "start_time": "2023-03-12T20:31:40.769Z"
   },
   {
    "duration": 0,
    "start_time": "2023-03-12T20:31:40.770Z"
   },
   {
    "duration": 0,
    "start_time": "2023-03-12T20:31:40.771Z"
   },
   {
    "duration": 0,
    "start_time": "2023-03-12T20:31:40.772Z"
   },
   {
    "duration": 0,
    "start_time": "2023-03-12T20:31:40.773Z"
   },
   {
    "duration": 0,
    "start_time": "2023-03-12T20:31:40.774Z"
   },
   {
    "duration": 0,
    "start_time": "2023-03-12T20:31:40.775Z"
   },
   {
    "duration": 0,
    "start_time": "2023-03-12T20:31:40.776Z"
   },
   {
    "duration": 0,
    "start_time": "2023-03-12T20:31:40.776Z"
   },
   {
    "duration": 0,
    "start_time": "2023-03-12T20:31:40.777Z"
   },
   {
    "duration": 0,
    "start_time": "2023-03-12T20:31:40.778Z"
   },
   {
    "duration": 0,
    "start_time": "2023-03-12T20:31:40.780Z"
   },
   {
    "duration": 0,
    "start_time": "2023-03-12T20:31:40.781Z"
   },
   {
    "duration": 0,
    "start_time": "2023-03-12T20:31:40.782Z"
   },
   {
    "duration": 0,
    "start_time": "2023-03-12T20:31:40.783Z"
   },
   {
    "duration": 0,
    "start_time": "2023-03-12T20:31:40.784Z"
   },
   {
    "duration": 0,
    "start_time": "2023-03-12T20:31:40.785Z"
   },
   {
    "duration": 0,
    "start_time": "2023-03-12T20:31:40.786Z"
   },
   {
    "duration": 0,
    "start_time": "2023-03-12T20:31:40.787Z"
   },
   {
    "duration": 0,
    "start_time": "2023-03-12T20:31:40.788Z"
   },
   {
    "duration": 0,
    "start_time": "2023-03-12T20:31:40.789Z"
   },
   {
    "duration": 0,
    "start_time": "2023-03-12T20:31:40.790Z"
   },
   {
    "duration": 0,
    "start_time": "2023-03-12T20:31:40.791Z"
   },
   {
    "duration": 0,
    "start_time": "2023-03-12T20:31:40.793Z"
   },
   {
    "duration": 0,
    "start_time": "2023-03-12T20:31:40.794Z"
   },
   {
    "duration": 1,
    "start_time": "2023-03-12T20:31:40.795Z"
   },
   {
    "duration": 0,
    "start_time": "2023-03-12T20:31:40.796Z"
   },
   {
    "duration": 0,
    "start_time": "2023-03-12T20:31:40.812Z"
   },
   {
    "duration": 0,
    "start_time": "2023-03-12T20:31:40.813Z"
   },
   {
    "duration": 0,
    "start_time": "2023-03-12T20:31:40.814Z"
   },
   {
    "duration": 0,
    "start_time": "2023-03-12T20:31:40.815Z"
   },
   {
    "duration": 0,
    "start_time": "2023-03-12T20:31:40.816Z"
   },
   {
    "duration": 0,
    "start_time": "2023-03-12T20:31:40.817Z"
   },
   {
    "duration": 0,
    "start_time": "2023-03-12T20:31:40.818Z"
   },
   {
    "duration": 0,
    "start_time": "2023-03-12T20:31:40.819Z"
   },
   {
    "duration": 0,
    "start_time": "2023-03-12T20:31:40.820Z"
   },
   {
    "duration": 0,
    "start_time": "2023-03-12T20:31:40.822Z"
   },
   {
    "duration": 0,
    "start_time": "2023-03-12T20:31:40.823Z"
   },
   {
    "duration": 0,
    "start_time": "2023-03-12T20:31:40.823Z"
   },
   {
    "duration": 0,
    "start_time": "2023-03-12T20:31:40.824Z"
   },
   {
    "duration": 0,
    "start_time": "2023-03-12T20:31:40.826Z"
   },
   {
    "duration": 474,
    "start_time": "2023-03-12T20:31:54.054Z"
   },
   {
    "duration": 194,
    "start_time": "2023-03-12T20:32:03.428Z"
   },
   {
    "duration": 846,
    "start_time": "2023-03-12T20:34:46.073Z"
   },
   {
    "duration": 687,
    "start_time": "2023-03-12T20:35:48.440Z"
   },
   {
    "duration": 697,
    "start_time": "2023-03-12T20:37:17.686Z"
   },
   {
    "duration": 681,
    "start_time": "2023-03-12T20:39:02.753Z"
   },
   {
    "duration": 1509,
    "start_time": "2023-03-12T20:39:23.470Z"
   },
   {
    "duration": 16,
    "start_time": "2023-03-12T20:40:17.430Z"
   },
   {
    "duration": 664,
    "start_time": "2023-03-12T20:40:56.304Z"
   },
   {
    "duration": 212,
    "start_time": "2023-03-12T20:41:11.937Z"
   },
   {
    "duration": 428,
    "start_time": "2023-03-12T20:41:18.475Z"
   },
   {
    "duration": 6,
    "start_time": "2023-03-12T20:41:33.187Z"
   },
   {
    "duration": 18,
    "start_time": "2023-03-12T20:41:45.895Z"
   },
   {
    "duration": 755,
    "start_time": "2023-03-13T07:43:12.799Z"
   },
   {
    "duration": 25,
    "start_time": "2023-03-13T07:43:13.556Z"
   },
   {
    "duration": 20,
    "start_time": "2023-03-13T07:43:13.583Z"
   },
   {
    "duration": 16,
    "start_time": "2023-03-13T07:43:13.606Z"
   },
   {
    "duration": 22,
    "start_time": "2023-03-13T07:43:13.623Z"
   },
   {
    "duration": 9,
    "start_time": "2023-03-13T07:43:13.647Z"
   },
   {
    "duration": 26,
    "start_time": "2023-03-13T07:43:13.658Z"
   },
   {
    "duration": 33,
    "start_time": "2023-03-13T07:43:13.686Z"
   },
   {
    "duration": 10,
    "start_time": "2023-03-13T07:43:13.721Z"
   },
   {
    "duration": 11,
    "start_time": "2023-03-13T07:43:13.733Z"
   },
   {
    "duration": 16,
    "start_time": "2023-03-13T07:43:13.745Z"
   },
   {
    "duration": 8,
    "start_time": "2023-03-13T07:43:13.763Z"
   },
   {
    "duration": 10,
    "start_time": "2023-03-13T07:43:13.773Z"
   },
   {
    "duration": 6,
    "start_time": "2023-03-13T07:43:13.784Z"
   },
   {
    "duration": 9,
    "start_time": "2023-03-13T07:43:13.791Z"
   },
   {
    "duration": 9,
    "start_time": "2023-03-13T07:43:13.802Z"
   },
   {
    "duration": 72,
    "start_time": "2023-03-13T07:43:13.813Z"
   },
   {
    "duration": 7,
    "start_time": "2023-03-13T07:43:13.886Z"
   },
   {
    "duration": 15,
    "start_time": "2023-03-13T07:43:13.895Z"
   },
   {
    "duration": 72,
    "start_time": "2023-03-13T07:43:13.912Z"
   },
   {
    "duration": 0,
    "start_time": "2023-03-13T07:43:13.987Z"
   },
   {
    "duration": 0,
    "start_time": "2023-03-13T07:43:13.989Z"
   },
   {
    "duration": 0,
    "start_time": "2023-03-13T07:43:13.990Z"
   },
   {
    "duration": 0,
    "start_time": "2023-03-13T07:43:13.991Z"
   },
   {
    "duration": 0,
    "start_time": "2023-03-13T07:43:13.992Z"
   },
   {
    "duration": 0,
    "start_time": "2023-03-13T07:43:13.993Z"
   },
   {
    "duration": 0,
    "start_time": "2023-03-13T07:43:13.994Z"
   },
   {
    "duration": 0,
    "start_time": "2023-03-13T07:43:13.996Z"
   },
   {
    "duration": 0,
    "start_time": "2023-03-13T07:43:13.997Z"
   },
   {
    "duration": 0,
    "start_time": "2023-03-13T07:43:13.998Z"
   },
   {
    "duration": 0,
    "start_time": "2023-03-13T07:43:13.999Z"
   },
   {
    "duration": 0,
    "start_time": "2023-03-13T07:43:14.000Z"
   },
   {
    "duration": 0,
    "start_time": "2023-03-13T07:43:14.001Z"
   },
   {
    "duration": 0,
    "start_time": "2023-03-13T07:43:14.002Z"
   },
   {
    "duration": 0,
    "start_time": "2023-03-13T07:43:14.003Z"
   },
   {
    "duration": 0,
    "start_time": "2023-03-13T07:43:14.004Z"
   },
   {
    "duration": 0,
    "start_time": "2023-03-13T07:43:14.005Z"
   },
   {
    "duration": 0,
    "start_time": "2023-03-13T07:43:14.006Z"
   },
   {
    "duration": 0,
    "start_time": "2023-03-13T07:43:14.008Z"
   },
   {
    "duration": 0,
    "start_time": "2023-03-13T07:43:14.009Z"
   },
   {
    "duration": 0,
    "start_time": "2023-03-13T07:43:14.010Z"
   },
   {
    "duration": 0,
    "start_time": "2023-03-13T07:43:14.011Z"
   },
   {
    "duration": 0,
    "start_time": "2023-03-13T07:43:14.012Z"
   },
   {
    "duration": 0,
    "start_time": "2023-03-13T07:43:14.013Z"
   },
   {
    "duration": 0,
    "start_time": "2023-03-13T07:43:14.014Z"
   },
   {
    "duration": 0,
    "start_time": "2023-03-13T07:43:14.015Z"
   },
   {
    "duration": 0,
    "start_time": "2023-03-13T07:43:14.015Z"
   },
   {
    "duration": 0,
    "start_time": "2023-03-13T07:43:14.016Z"
   },
   {
    "duration": 0,
    "start_time": "2023-03-13T07:43:14.017Z"
   },
   {
    "duration": 0,
    "start_time": "2023-03-13T07:43:14.018Z"
   },
   {
    "duration": 0,
    "start_time": "2023-03-13T07:43:14.019Z"
   },
   {
    "duration": 0,
    "start_time": "2023-03-13T07:43:14.020Z"
   },
   {
    "duration": 0,
    "start_time": "2023-03-13T07:43:14.022Z"
   },
   {
    "duration": 0,
    "start_time": "2023-03-13T07:43:14.057Z"
   },
   {
    "duration": 0,
    "start_time": "2023-03-13T07:43:14.058Z"
   },
   {
    "duration": 0,
    "start_time": "2023-03-13T07:43:14.059Z"
   },
   {
    "duration": 0,
    "start_time": "2023-03-13T07:43:14.060Z"
   },
   {
    "duration": 0,
    "start_time": "2023-03-13T07:43:14.061Z"
   },
   {
    "duration": 0,
    "start_time": "2023-03-13T07:43:14.062Z"
   },
   {
    "duration": 0,
    "start_time": "2023-03-13T07:43:14.063Z"
   },
   {
    "duration": 0,
    "start_time": "2023-03-13T07:43:14.064Z"
   },
   {
    "duration": 0,
    "start_time": "2023-03-13T07:43:14.065Z"
   },
   {
    "duration": 0,
    "start_time": "2023-03-13T07:43:14.066Z"
   },
   {
    "duration": 0,
    "start_time": "2023-03-13T07:43:14.067Z"
   },
   {
    "duration": 0,
    "start_time": "2023-03-13T07:43:14.068Z"
   },
   {
    "duration": 0,
    "start_time": "2023-03-13T07:43:14.069Z"
   },
   {
    "duration": 139,
    "start_time": "2023-03-13T07:44:02.035Z"
   },
   {
    "duration": 27,
    "start_time": "2023-03-13T07:44:02.538Z"
   },
   {
    "duration": 7,
    "start_time": "2023-03-13T07:44:02.877Z"
   },
   {
    "duration": 7,
    "start_time": "2023-03-13T07:44:03.046Z"
   },
   {
    "duration": 8,
    "start_time": "2023-03-13T07:44:03.396Z"
   },
   {
    "duration": 11,
    "start_time": "2023-03-13T07:44:03.589Z"
   },
   {
    "duration": 7,
    "start_time": "2023-03-13T07:44:03.970Z"
   },
   {
    "duration": 36,
    "start_time": "2023-03-13T07:44:04.371Z"
   },
   {
    "duration": 12,
    "start_time": "2023-03-13T07:44:04.719Z"
   },
   {
    "duration": 10,
    "start_time": "2023-03-13T07:44:05.078Z"
   },
   {
    "duration": 7,
    "start_time": "2023-03-13T07:44:05.419Z"
   },
   {
    "duration": 7,
    "start_time": "2023-03-13T07:44:05.782Z"
   },
   {
    "duration": 6,
    "start_time": "2023-03-13T07:44:06.145Z"
   },
   {
    "duration": 6,
    "start_time": "2023-03-13T07:44:06.310Z"
   },
   {
    "duration": 7,
    "start_time": "2023-03-13T07:44:06.489Z"
   },
   {
    "duration": 7,
    "start_time": "2023-03-13T07:44:06.680Z"
   },
   {
    "duration": 47,
    "start_time": "2023-03-13T07:44:07.016Z"
   },
   {
    "duration": 7,
    "start_time": "2023-03-13T07:44:07.389Z"
   },
   {
    "duration": 9,
    "start_time": "2023-03-13T07:44:07.758Z"
   },
   {
    "duration": 5,
    "start_time": "2023-03-13T07:44:08.136Z"
   },
   {
    "duration": 7,
    "start_time": "2023-03-13T07:44:08.528Z"
   },
   {
    "duration": 7,
    "start_time": "2023-03-13T07:44:08.712Z"
   },
   {
    "duration": 8,
    "start_time": "2023-03-13T07:44:09.107Z"
   },
   {
    "duration": 8,
    "start_time": "2023-03-13T07:44:09.310Z"
   },
   {
    "duration": 8,
    "start_time": "2023-03-13T07:44:09.969Z"
   },
   {
    "duration": 19,
    "start_time": "2023-03-13T07:44:10.180Z"
   },
   {
    "duration": 14,
    "start_time": "2023-03-13T07:44:10.628Z"
   },
   {
    "duration": 9,
    "start_time": "2023-03-13T07:44:10.844Z"
   },
   {
    "duration": 7,
    "start_time": "2023-03-13T07:44:11.088Z"
   },
   {
    "duration": 41,
    "start_time": "2023-03-13T07:44:11.331Z"
   },
   {
    "duration": 11,
    "start_time": "2023-03-13T07:44:11.764Z"
   },
   {
    "duration": 10,
    "start_time": "2023-03-13T07:44:12.262Z"
   },
   {
    "duration": 9,
    "start_time": "2023-03-13T07:44:12.763Z"
   },
   {
    "duration": 9,
    "start_time": "2023-03-13T07:44:12.989Z"
   },
   {
    "duration": 10,
    "start_time": "2023-03-13T07:44:13.214Z"
   },
   {
    "duration": 11,
    "start_time": "2023-03-13T07:44:13.402Z"
   },
   {
    "duration": 16,
    "start_time": "2023-03-13T07:44:13.857Z"
   },
   {
    "duration": 8,
    "start_time": "2023-03-13T07:44:15.642Z"
   },
   {
    "duration": 12,
    "start_time": "2023-03-13T07:44:16.265Z"
   },
   {
    "duration": 11,
    "start_time": "2023-03-13T07:44:16.469Z"
   },
   {
    "duration": 10,
    "start_time": "2023-03-13T07:44:16.679Z"
   },
   {
    "duration": 235,
    "start_time": "2023-03-13T07:44:17.116Z"
   },
   {
    "duration": 7,
    "start_time": "2023-03-13T07:44:17.895Z"
   },
   {
    "duration": 631,
    "start_time": "2023-03-13T07:44:18.830Z"
   },
   {
    "duration": 191,
    "start_time": "2023-03-13T07:46:21.791Z"
   },
   {
    "duration": 4983,
    "start_time": "2023-03-13T07:46:22.270Z"
   },
   {
    "duration": 161,
    "start_time": "2023-03-13T07:46:27.532Z"
   },
   {
    "duration": 572,
    "start_time": "2023-03-13T07:46:27.696Z"
   },
   {
    "duration": 156,
    "start_time": "2023-03-13T07:46:32.931Z"
   },
   {
    "duration": 181,
    "start_time": "2023-03-13T07:46:35.537Z"
   },
   {
    "duration": 124,
    "start_time": "2023-03-13T07:46:38.155Z"
   },
   {
    "duration": 194,
    "start_time": "2023-03-13T07:46:41.272Z"
   },
   {
    "duration": 128,
    "start_time": "2023-03-13T07:46:45.134Z"
   },
   {
    "duration": 118,
    "start_time": "2023-03-13T07:46:47.688Z"
   },
   {
    "duration": 145,
    "start_time": "2023-03-13T07:46:50.405Z"
   },
   {
    "duration": 181,
    "start_time": "2023-03-13T07:46:53.448Z"
   },
   {
    "duration": 150,
    "start_time": "2023-03-13T07:46:56.158Z"
   },
   {
    "duration": 252,
    "start_time": "2023-03-13T07:47:00.844Z"
   },
   {
    "duration": 185,
    "start_time": "2023-03-13T07:47:33.340Z"
   },
   {
    "duration": 201,
    "start_time": "2023-03-13T07:47:38.307Z"
   },
   {
    "duration": 51,
    "start_time": "2023-03-13T07:48:14.068Z"
   },
   {
    "duration": 811,
    "start_time": "2023-03-13T07:48:30.138Z"
   },
   {
    "duration": 27,
    "start_time": "2023-03-13T07:48:30.951Z"
   },
   {
    "duration": 51,
    "start_time": "2023-03-13T07:48:30.980Z"
   },
   {
    "duration": 44,
    "start_time": "2023-03-13T07:48:31.033Z"
   },
   {
    "duration": 19,
    "start_time": "2023-03-13T07:48:31.080Z"
   },
   {
    "duration": 39,
    "start_time": "2023-03-13T07:48:31.101Z"
   },
   {
    "duration": 48,
    "start_time": "2023-03-13T07:48:31.141Z"
   },
   {
    "duration": 83,
    "start_time": "2023-03-13T07:48:31.191Z"
   },
   {
    "duration": 36,
    "start_time": "2023-03-13T07:48:31.276Z"
   },
   {
    "duration": 39,
    "start_time": "2023-03-13T07:48:31.314Z"
   },
   {
    "duration": 30,
    "start_time": "2023-03-13T07:48:31.355Z"
   },
   {
    "duration": 48,
    "start_time": "2023-03-13T07:48:31.387Z"
   },
   {
    "duration": 25,
    "start_time": "2023-03-13T07:48:31.437Z"
   },
   {
    "duration": 36,
    "start_time": "2023-03-13T07:48:31.465Z"
   },
   {
    "duration": 29,
    "start_time": "2023-03-13T07:48:31.502Z"
   },
   {
    "duration": 35,
    "start_time": "2023-03-13T07:48:31.533Z"
   },
   {
    "duration": 125,
    "start_time": "2023-03-13T07:48:31.570Z"
   },
   {
    "duration": 29,
    "start_time": "2023-03-13T07:48:31.697Z"
   },
   {
    "duration": 31,
    "start_time": "2023-03-13T07:48:31.727Z"
   },
   {
    "duration": 22,
    "start_time": "2023-03-13T07:48:31.759Z"
   },
   {
    "duration": 29,
    "start_time": "2023-03-13T07:48:31.783Z"
   },
   {
    "duration": 19,
    "start_time": "2023-03-13T07:48:31.814Z"
   },
   {
    "duration": 22,
    "start_time": "2023-03-13T07:48:31.835Z"
   },
   {
    "duration": 10,
    "start_time": "2023-03-13T07:48:31.858Z"
   },
   {
    "duration": 23,
    "start_time": "2023-03-13T07:48:31.870Z"
   },
   {
    "duration": 36,
    "start_time": "2023-03-13T07:48:31.895Z"
   },
   {
    "duration": 29,
    "start_time": "2023-03-13T07:48:31.933Z"
   },
   {
    "duration": 35,
    "start_time": "2023-03-13T07:48:31.964Z"
   },
   {
    "duration": 27,
    "start_time": "2023-03-13T07:48:32.000Z"
   },
   {
    "duration": 48,
    "start_time": "2023-03-13T07:48:32.028Z"
   },
   {
    "duration": 12,
    "start_time": "2023-03-13T07:48:32.078Z"
   },
   {
    "duration": 23,
    "start_time": "2023-03-13T07:48:32.092Z"
   },
   {
    "duration": 19,
    "start_time": "2023-03-13T07:48:32.117Z"
   },
   {
    "duration": 44,
    "start_time": "2023-03-13T07:48:32.138Z"
   },
   {
    "duration": 55,
    "start_time": "2023-03-13T07:48:32.184Z"
   },
   {
    "duration": 29,
    "start_time": "2023-03-13T07:48:32.241Z"
   },
   {
    "duration": 39,
    "start_time": "2023-03-13T07:48:32.273Z"
   },
   {
    "duration": 27,
    "start_time": "2023-03-13T07:48:32.314Z"
   },
   {
    "duration": 41,
    "start_time": "2023-03-13T07:48:32.343Z"
   },
   {
    "duration": 38,
    "start_time": "2023-03-13T07:48:32.386Z"
   },
   {
    "duration": 31,
    "start_time": "2023-03-13T07:48:32.429Z"
   },
   {
    "duration": 278,
    "start_time": "2023-03-13T07:48:32.462Z"
   },
   {
    "duration": 7,
    "start_time": "2023-03-13T07:48:32.741Z"
   },
   {
    "duration": 456,
    "start_time": "2023-03-13T07:48:32.757Z"
   },
   {
    "duration": 223,
    "start_time": "2023-03-13T07:48:33.215Z"
   },
   {
    "duration": 5193,
    "start_time": "2023-03-13T07:48:33.440Z"
   },
   {
    "duration": 268,
    "start_time": "2023-03-13T07:48:38.635Z"
   },
   {
    "duration": 162,
    "start_time": "2023-03-13T07:48:38.905Z"
   },
   {
    "duration": 166,
    "start_time": "2023-03-13T07:48:39.069Z"
   },
   {
    "duration": 486,
    "start_time": "2023-03-13T07:48:39.236Z"
   },
   {
    "duration": 141,
    "start_time": "2023-03-13T07:48:39.724Z"
   },
   {
    "duration": 209,
    "start_time": "2023-03-13T07:48:39.867Z"
   },
   {
    "duration": 154,
    "start_time": "2023-03-13T07:48:40.078Z"
   },
   {
    "duration": 140,
    "start_time": "2023-03-13T07:48:40.233Z"
   },
   {
    "duration": 167,
    "start_time": "2023-03-13T07:48:40.374Z"
   },
   {
    "duration": 207,
    "start_time": "2023-03-13T07:48:40.543Z"
   },
   {
    "duration": 161,
    "start_time": "2023-03-13T07:48:40.757Z"
   },
   {
    "duration": 170,
    "start_time": "2023-03-13T07:48:40.920Z"
   },
   {
    "duration": 197,
    "start_time": "2023-03-13T07:48:41.092Z"
   },
   {
    "duration": 257,
    "start_time": "2023-03-13T07:48:41.508Z"
   },
   {
    "duration": 220,
    "start_time": "2023-03-13T07:48:41.767Z"
   },
   {
    "duration": 1271,
    "start_time": "2023-03-13T07:48:41.988Z"
   },
   {
    "duration": 0,
    "start_time": "2023-03-13T07:48:43.261Z"
   },
   {
    "duration": 0,
    "start_time": "2023-03-13T07:48:43.262Z"
   },
   {
    "duration": 0,
    "start_time": "2023-03-13T07:48:43.263Z"
   },
   {
    "duration": 171,
    "start_time": "2023-03-13T07:48:46.197Z"
   },
   {
    "duration": 200,
    "start_time": "2023-03-13T07:48:50.016Z"
   },
   {
    "duration": 1379,
    "start_time": "2023-03-13T07:49:00.709Z"
   },
   {
    "duration": 1122,
    "start_time": "2023-03-13T07:49:21.273Z"
   },
   {
    "duration": 217,
    "start_time": "2023-03-13T07:49:41.675Z"
   },
   {
    "duration": 1154,
    "start_time": "2023-03-13T07:49:48.402Z"
   },
   {
    "duration": 1296,
    "start_time": "2023-03-13T07:53:52.657Z"
   },
   {
    "duration": 6,
    "start_time": "2023-03-13T07:54:19.778Z"
   },
   {
    "duration": 1135,
    "start_time": "2023-03-13T07:56:24.517Z"
   },
   {
    "duration": 19,
    "start_time": "2023-03-13T07:57:23.143Z"
   },
   {
    "duration": 17,
    "start_time": "2023-03-13T07:59:46.005Z"
   },
   {
    "duration": 156,
    "start_time": "2023-03-13T08:00:43.342Z"
   },
   {
    "duration": 362,
    "start_time": "2023-03-13T08:03:34.108Z"
   },
   {
    "duration": 147,
    "start_time": "2023-03-13T08:03:54.532Z"
   },
   {
    "duration": 1167,
    "start_time": "2023-03-13T08:07:53.501Z"
   },
   {
    "duration": 1523,
    "start_time": "2023-03-13T08:08:01.174Z"
   },
   {
    "duration": 201,
    "start_time": "2023-03-13T08:08:15.480Z"
   },
   {
    "duration": 161,
    "start_time": "2023-03-13T08:11:01.974Z"
   },
   {
    "duration": 203,
    "start_time": "2023-03-13T08:15:22.494Z"
   },
   {
    "duration": 47,
    "start_time": "2023-03-13T08:25:44.783Z"
   },
   {
    "duration": 589,
    "start_time": "2023-03-13T08:25:55.122Z"
   },
   {
    "duration": 37,
    "start_time": "2023-03-13T08:26:12.057Z"
   },
   {
    "duration": 14,
    "start_time": "2023-03-13T08:26:47.185Z"
   },
   {
    "duration": 8,
    "start_time": "2023-03-13T08:26:54.362Z"
   },
   {
    "duration": 14,
    "start_time": "2023-03-13T08:27:01.702Z"
   },
   {
    "duration": 11,
    "start_time": "2023-03-13T08:27:02.088Z"
   },
   {
    "duration": 12,
    "start_time": "2023-03-13T08:27:02.644Z"
   },
   {
    "duration": 525,
    "start_time": "2023-03-13T08:27:10.307Z"
   },
   {
    "duration": 211,
    "start_time": "2023-03-13T08:27:13.312Z"
   },
   {
    "duration": 162,
    "start_time": "2023-03-13T08:27:19.568Z"
   },
   {
    "duration": 570,
    "start_time": "2023-03-13T08:28:24.555Z"
   },
   {
    "duration": 31,
    "start_time": "2023-03-13T08:28:25.127Z"
   },
   {
    "duration": 9,
    "start_time": "2023-03-13T08:28:25.160Z"
   },
   {
    "duration": 34,
    "start_time": "2023-03-13T08:28:25.172Z"
   },
   {
    "duration": 95,
    "start_time": "2023-03-13T08:28:25.208Z"
   },
   {
    "duration": 42,
    "start_time": "2023-03-13T08:28:25.306Z"
   },
   {
    "duration": 46,
    "start_time": "2023-03-13T08:28:25.350Z"
   },
   {
    "duration": 59,
    "start_time": "2023-03-13T08:28:25.398Z"
   },
   {
    "duration": 15,
    "start_time": "2023-03-13T08:28:25.459Z"
   },
   {
    "duration": 17,
    "start_time": "2023-03-13T08:28:25.477Z"
   },
   {
    "duration": 8,
    "start_time": "2023-03-13T08:28:25.496Z"
   },
   {
    "duration": 11,
    "start_time": "2023-03-13T08:28:25.506Z"
   },
   {
    "duration": 14,
    "start_time": "2023-03-13T08:28:25.519Z"
   },
   {
    "duration": 27,
    "start_time": "2023-03-13T08:28:25.535Z"
   },
   {
    "duration": 9,
    "start_time": "2023-03-13T08:28:25.564Z"
   },
   {
    "duration": 6,
    "start_time": "2023-03-13T08:28:25.575Z"
   },
   {
    "duration": 56,
    "start_time": "2023-03-13T08:28:25.583Z"
   },
   {
    "duration": 21,
    "start_time": "2023-03-13T08:28:25.640Z"
   },
   {
    "duration": 8,
    "start_time": "2023-03-13T08:28:25.663Z"
   },
   {
    "duration": 6,
    "start_time": "2023-03-13T08:28:25.673Z"
   },
   {
    "duration": 9,
    "start_time": "2023-03-13T08:28:25.681Z"
   },
   {
    "duration": 7,
    "start_time": "2023-03-13T08:28:25.692Z"
   },
   {
    "duration": 8,
    "start_time": "2023-03-13T08:28:25.701Z"
   },
   {
    "duration": 51,
    "start_time": "2023-03-13T08:28:25.712Z"
   },
   {
    "duration": 10,
    "start_time": "2023-03-13T08:28:25.765Z"
   },
   {
    "duration": 22,
    "start_time": "2023-03-13T08:28:25.777Z"
   },
   {
    "duration": 26,
    "start_time": "2023-03-13T08:28:25.801Z"
   },
   {
    "duration": 27,
    "start_time": "2023-03-13T08:28:25.831Z"
   },
   {
    "duration": 9,
    "start_time": "2023-03-13T08:28:25.860Z"
   },
   {
    "duration": 31,
    "start_time": "2023-03-13T08:28:25.871Z"
   },
   {
    "duration": 13,
    "start_time": "2023-03-13T08:28:25.904Z"
   },
   {
    "duration": 45,
    "start_time": "2023-03-13T08:28:25.919Z"
   },
   {
    "duration": 11,
    "start_time": "2023-03-13T08:28:25.966Z"
   },
   {
    "duration": 17,
    "start_time": "2023-03-13T08:28:25.979Z"
   },
   {
    "duration": 9,
    "start_time": "2023-03-13T08:28:25.997Z"
   },
   {
    "duration": 12,
    "start_time": "2023-03-13T08:28:26.008Z"
   },
   {
    "duration": 45,
    "start_time": "2023-03-13T08:28:26.023Z"
   },
   {
    "duration": 8,
    "start_time": "2023-03-13T08:28:26.070Z"
   },
   {
    "duration": 14,
    "start_time": "2023-03-13T08:28:26.080Z"
   },
   {
    "duration": 11,
    "start_time": "2023-03-13T08:28:26.095Z"
   },
   {
    "duration": 10,
    "start_time": "2023-03-13T08:28:26.108Z"
   },
   {
    "duration": 267,
    "start_time": "2023-03-13T08:28:26.120Z"
   },
   {
    "duration": 6,
    "start_time": "2023-03-13T08:28:26.389Z"
   },
   {
    "duration": 668,
    "start_time": "2023-03-13T08:28:26.397Z"
   },
   {
    "duration": 210,
    "start_time": "2023-03-13T08:28:27.067Z"
   },
   {
    "duration": 4974,
    "start_time": "2023-03-13T08:28:27.279Z"
   },
   {
    "duration": 282,
    "start_time": "2023-03-13T08:28:32.257Z"
   },
   {
    "duration": 182,
    "start_time": "2023-03-13T08:28:32.541Z"
   },
   {
    "duration": 161,
    "start_time": "2023-03-13T08:28:32.724Z"
   },
   {
    "duration": 457,
    "start_time": "2023-03-13T08:28:32.887Z"
   },
   {
    "duration": 146,
    "start_time": "2023-03-13T08:28:33.346Z"
   },
   {
    "duration": 238,
    "start_time": "2023-03-13T08:28:33.494Z"
   },
   {
    "duration": 140,
    "start_time": "2023-03-13T08:28:33.733Z"
   },
   {
    "duration": 133,
    "start_time": "2023-03-13T08:28:33.874Z"
   },
   {
    "duration": 178,
    "start_time": "2023-03-13T08:28:34.008Z"
   },
   {
    "duration": 242,
    "start_time": "2023-03-13T08:28:34.188Z"
   },
   {
    "duration": 170,
    "start_time": "2023-03-13T08:28:34.432Z"
   },
   {
    "duration": 185,
    "start_time": "2023-03-13T08:28:34.603Z"
   },
   {
    "duration": 202,
    "start_time": "2023-03-13T08:28:34.789Z"
   },
   {
    "duration": 224,
    "start_time": "2023-03-13T08:28:34.992Z"
   },
   {
    "duration": 288,
    "start_time": "2023-03-13T08:28:35.218Z"
   },
   {
    "duration": 220,
    "start_time": "2023-03-13T08:28:35.508Z"
   },
   {
    "duration": 155,
    "start_time": "2023-03-13T08:28:35.729Z"
   },
   {
    "duration": 168,
    "start_time": "2023-03-13T08:28:36.439Z"
   },
   {
    "duration": 205,
    "start_time": "2023-03-13T08:28:36.609Z"
   },
   {
    "duration": 278,
    "start_time": "2023-03-13T08:29:26.866Z"
   },
   {
    "duration": 234,
    "start_time": "2023-03-13T08:31:45.934Z"
   },
   {
    "duration": 167,
    "start_time": "2023-03-13T08:31:57.482Z"
   },
   {
    "duration": 243,
    "start_time": "2023-03-13T08:32:03.208Z"
   },
   {
    "duration": 167,
    "start_time": "2023-03-13T08:36:24.708Z"
   },
   {
    "duration": 170,
    "start_time": "2023-03-13T08:36:36.728Z"
   },
   {
    "duration": 6,
    "start_time": "2023-03-13T08:40:47.723Z"
   },
   {
    "duration": 201,
    "start_time": "2023-03-13T08:41:45.159Z"
   },
   {
    "duration": 32,
    "start_time": "2023-03-13T09:00:24.928Z"
   },
   {
    "duration": 33,
    "start_time": "2023-03-13T09:00:36.821Z"
   },
   {
    "duration": 28,
    "start_time": "2023-03-13T09:01:07.977Z"
   },
   {
    "duration": 26,
    "start_time": "2023-03-13T09:01:39.847Z"
   },
   {
    "duration": 27,
    "start_time": "2023-03-13T09:01:46.698Z"
   },
   {
    "duration": 25,
    "start_time": "2023-03-13T09:02:23.128Z"
   },
   {
    "duration": 35,
    "start_time": "2023-03-13T09:02:35.369Z"
   },
   {
    "duration": 28,
    "start_time": "2023-03-13T09:03:56.182Z"
   },
   {
    "duration": 29,
    "start_time": "2023-03-13T09:05:05.725Z"
   },
   {
    "duration": 45,
    "start_time": "2023-03-13T09:05:52.877Z"
   },
   {
    "duration": 49,
    "start_time": "2023-03-13T09:08:54.445Z"
   },
   {
    "duration": 27,
    "start_time": "2023-03-13T09:09:11.046Z"
   },
   {
    "duration": 24,
    "start_time": "2023-03-13T09:10:10.729Z"
   },
   {
    "duration": 819,
    "start_time": "2023-03-13T10:59:21.021Z"
   },
   {
    "duration": 25,
    "start_time": "2023-03-13T10:59:22.256Z"
   },
   {
    "duration": 6,
    "start_time": "2023-03-13T10:59:23.414Z"
   },
   {
    "duration": 6,
    "start_time": "2023-03-13T10:59:23.963Z"
   },
   {
    "duration": 6,
    "start_time": "2023-03-13T10:59:24.626Z"
   },
   {
    "duration": 8,
    "start_time": "2023-03-13T10:59:24.910Z"
   },
   {
    "duration": 5,
    "start_time": "2023-03-13T10:59:25.455Z"
   },
   {
    "duration": 42,
    "start_time": "2023-03-13T10:59:26.011Z"
   },
   {
    "duration": 12,
    "start_time": "2023-03-13T10:59:26.553Z"
   },
   {
    "duration": 9,
    "start_time": "2023-03-13T10:59:27.136Z"
   },
   {
    "duration": 6,
    "start_time": "2023-03-13T10:59:27.833Z"
   },
   {
    "duration": 8,
    "start_time": "2023-03-13T10:59:28.505Z"
   },
   {
    "duration": 7,
    "start_time": "2023-03-13T10:59:29.198Z"
   },
   {
    "duration": 6,
    "start_time": "2023-03-13T10:59:29.514Z"
   },
   {
    "duration": 7,
    "start_time": "2023-03-13T10:59:29.815Z"
   },
   {
    "duration": 6,
    "start_time": "2023-03-13T10:59:30.106Z"
   },
   {
    "duration": 50,
    "start_time": "2023-03-13T10:59:30.606Z"
   },
   {
    "duration": 7,
    "start_time": "2023-03-13T10:59:40.915Z"
   },
   {
    "duration": 11,
    "start_time": "2023-03-13T10:59:46.717Z"
   },
   {
    "duration": 8,
    "start_time": "2023-03-13T10:59:47.307Z"
   },
   {
    "duration": 11,
    "start_time": "2023-03-13T10:59:47.794Z"
   },
   {
    "duration": 7,
    "start_time": "2023-03-13T10:59:48.001Z"
   },
   {
    "duration": 9,
    "start_time": "2023-03-13T10:59:48.422Z"
   },
   {
    "duration": 9,
    "start_time": "2023-03-13T10:59:48.628Z"
   },
   {
    "duration": 8,
    "start_time": "2023-03-13T10:59:49.268Z"
   },
   {
    "duration": 18,
    "start_time": "2023-03-13T10:59:49.502Z"
   },
   {
    "duration": 14,
    "start_time": "2023-03-13T10:59:50.125Z"
   },
   {
    "duration": 9,
    "start_time": "2023-03-13T10:59:50.331Z"
   },
   {
    "duration": 9,
    "start_time": "2023-03-13T10:59:50.745Z"
   },
   {
    "duration": 30,
    "start_time": "2023-03-13T10:59:51.397Z"
   },
   {
    "duration": 12,
    "start_time": "2023-03-13T10:59:52.492Z"
   },
   {
    "duration": 10,
    "start_time": "2023-03-13T10:59:53.132Z"
   },
   {
    "duration": 13,
    "start_time": "2023-03-13T10:59:53.615Z"
   },
   {
    "duration": 12,
    "start_time": "2023-03-13T10:59:53.857Z"
   },
   {
    "duration": 14,
    "start_time": "2023-03-13T10:59:54.097Z"
   },
   {
    "duration": 11,
    "start_time": "2023-03-13T10:59:54.326Z"
   },
   {
    "duration": 15,
    "start_time": "2023-03-13T10:59:54.823Z"
   },
   {
    "duration": 10,
    "start_time": "2023-03-13T10:59:56.714Z"
   },
   {
    "duration": 11,
    "start_time": "2023-03-13T10:59:58.157Z"
   },
   {
    "duration": 15,
    "start_time": "2023-03-13T10:59:58.540Z"
   },
   {
    "duration": 16,
    "start_time": "2023-03-13T10:59:58.970Z"
   },
   {
    "duration": 299,
    "start_time": "2023-03-13T10:59:59.868Z"
   },
   {
    "duration": 8,
    "start_time": "2023-03-13T11:00:01.073Z"
   },
   {
    "duration": 760,
    "start_time": "2023-03-13T11:00:02.461Z"
   },
   {
    "duration": 127,
    "start_time": "2023-03-13T11:30:05.567Z"
   },
   {
    "duration": 38,
    "start_time": "2023-03-13T11:30:17.174Z"
   },
   {
    "duration": 100,
    "start_time": "2023-03-13T11:46:11.095Z"
   },
   {
    "duration": 97,
    "start_time": "2023-03-13T11:46:30.909Z"
   },
   {
    "duration": 110,
    "start_time": "2023-03-13T11:46:36.457Z"
   },
   {
    "duration": 31,
    "start_time": "2023-03-13T11:46:45.275Z"
   },
   {
    "duration": 34,
    "start_time": "2023-03-13T11:47:08.307Z"
   },
   {
    "duration": 40,
    "start_time": "2023-03-13T11:47:44.637Z"
   },
   {
    "duration": 26,
    "start_time": "2023-03-13T11:49:18.878Z"
   },
   {
    "duration": 27,
    "start_time": "2023-03-13T11:49:27.366Z"
   },
   {
    "duration": 373,
    "start_time": "2023-03-13T11:49:50.053Z"
   },
   {
    "duration": 329,
    "start_time": "2023-03-13T12:18:59.036Z"
   },
   {
    "duration": 77,
    "start_time": "2023-03-13T12:19:21.794Z"
   },
   {
    "duration": 26,
    "start_time": "2023-03-13T12:19:33.709Z"
   },
   {
    "duration": 16,
    "start_time": "2023-03-13T12:20:05.869Z"
   },
   {
    "duration": 28,
    "start_time": "2023-03-13T12:20:12.801Z"
   },
   {
    "duration": 17,
    "start_time": "2023-03-13T12:20:49.445Z"
   },
   {
    "duration": 26,
    "start_time": "2023-03-13T12:21:05.241Z"
   },
   {
    "duration": 23,
    "start_time": "2023-03-13T12:21:41.503Z"
   },
   {
    "duration": 27,
    "start_time": "2023-03-13T12:22:08.050Z"
   },
   {
    "duration": 23,
    "start_time": "2023-03-13T12:22:17.895Z"
   },
   {
    "duration": 21,
    "start_time": "2023-03-13T12:23:13.165Z"
   },
   {
    "duration": 21,
    "start_time": "2023-03-13T12:24:02.508Z"
   },
   {
    "duration": 23,
    "start_time": "2023-03-13T12:24:28.992Z"
   },
   {
    "duration": 21,
    "start_time": "2023-03-13T12:25:32.699Z"
   },
   {
    "duration": 21,
    "start_time": "2023-03-13T12:26:00.433Z"
   },
   {
    "duration": 24,
    "start_time": "2023-03-13T12:26:06.288Z"
   },
   {
    "duration": 23,
    "start_time": "2023-03-13T12:26:11.015Z"
   },
   {
    "duration": 25,
    "start_time": "2023-03-13T12:26:14.907Z"
   },
   {
    "duration": 26,
    "start_time": "2023-03-13T12:26:21.346Z"
   },
   {
    "duration": 22,
    "start_time": "2023-03-13T12:27:18.526Z"
   },
   {
    "duration": 22,
    "start_time": "2023-03-13T12:27:30.755Z"
   },
   {
    "duration": 20,
    "start_time": "2023-03-13T12:29:14.112Z"
   },
   {
    "duration": 26,
    "start_time": "2023-03-13T12:29:22.619Z"
   },
   {
    "duration": 43,
    "start_time": "2023-03-13T12:32:44.673Z"
   },
   {
    "duration": 24,
    "start_time": "2023-03-13T12:33:19.385Z"
   },
   {
    "duration": 21,
    "start_time": "2023-03-13T12:34:03.007Z"
   },
   {
    "duration": 15,
    "start_time": "2023-03-13T12:40:33.724Z"
   },
   {
    "duration": 93,
    "start_time": "2023-03-13T12:43:25.204Z"
   },
   {
    "duration": 89,
    "start_time": "2023-03-13T12:43:37.204Z"
   },
   {
    "duration": 33,
    "start_time": "2023-03-13T12:43:47.619Z"
   },
   {
    "duration": 542,
    "start_time": "2023-03-13T12:44:02.426Z"
   },
   {
    "duration": 24,
    "start_time": "2023-03-13T12:44:03.051Z"
   },
   {
    "duration": 5,
    "start_time": "2023-03-13T12:44:03.497Z"
   },
   {
    "duration": 6,
    "start_time": "2023-03-13T12:44:03.642Z"
   },
   {
    "duration": 7,
    "start_time": "2023-03-13T12:44:04.111Z"
   },
   {
    "duration": 8,
    "start_time": "2023-03-13T12:44:04.281Z"
   },
   {
    "duration": 5,
    "start_time": "2023-03-13T12:44:04.582Z"
   },
   {
    "duration": 31,
    "start_time": "2023-03-13T12:44:04.924Z"
   },
   {
    "duration": 11,
    "start_time": "2023-03-13T12:44:05.234Z"
   },
   {
    "duration": 9,
    "start_time": "2023-03-13T12:44:05.585Z"
   },
   {
    "duration": 6,
    "start_time": "2023-03-13T12:44:05.890Z"
   },
   {
    "duration": 10,
    "start_time": "2023-03-13T12:44:06.235Z"
   },
   {
    "duration": 7,
    "start_time": "2023-03-13T12:44:06.544Z"
   },
   {
    "duration": 8,
    "start_time": "2023-03-13T12:44:06.716Z"
   },
   {
    "duration": 6,
    "start_time": "2023-03-13T12:44:06.908Z"
   },
   {
    "duration": 6,
    "start_time": "2023-03-13T12:44:07.090Z"
   },
   {
    "duration": 48,
    "start_time": "2023-03-13T12:44:07.408Z"
   },
   {
    "duration": 7,
    "start_time": "2023-03-13T12:44:07.741Z"
   },
   {
    "duration": 8,
    "start_time": "2023-03-13T12:44:08.082Z"
   },
   {
    "duration": 5,
    "start_time": "2023-03-13T12:44:08.402Z"
   },
   {
    "duration": 7,
    "start_time": "2023-03-13T12:44:08.811Z"
   },
   {
    "duration": 6,
    "start_time": "2023-03-13T12:44:08.949Z"
   },
   {
    "duration": 6,
    "start_time": "2023-03-13T12:44:09.281Z"
   },
   {
    "duration": 7,
    "start_time": "2023-03-13T12:44:09.613Z"
   },
   {
    "duration": 8,
    "start_time": "2023-03-13T12:44:10.240Z"
   },
   {
    "duration": 16,
    "start_time": "2023-03-13T12:44:10.410Z"
   },
   {
    "duration": 14,
    "start_time": "2023-03-13T12:44:10.764Z"
   },
   {
    "duration": 8,
    "start_time": "2023-03-13T12:44:10.924Z"
   },
   {
    "duration": 9,
    "start_time": "2023-03-13T12:44:11.127Z"
   },
   {
    "duration": 25,
    "start_time": "2023-03-13T12:44:11.290Z"
   },
   {
    "duration": 11,
    "start_time": "2023-03-13T12:44:11.598Z"
   },
   {
    "duration": 9,
    "start_time": "2023-03-13T12:44:11.916Z"
   },
   {
    "duration": 9,
    "start_time": "2023-03-13T12:44:12.242Z"
   },
   {
    "duration": 9,
    "start_time": "2023-03-13T12:44:12.411Z"
   },
   {
    "duration": 9,
    "start_time": "2023-03-13T12:44:12.604Z"
   },
   {
    "duration": 11,
    "start_time": "2023-03-13T12:44:12.918Z"
   },
   {
    "duration": 14,
    "start_time": "2023-03-13T12:44:13.144Z"
   },
   {
    "duration": 7,
    "start_time": "2023-03-13T12:44:13.667Z"
   },
   {
    "duration": 9,
    "start_time": "2023-03-13T12:44:14.205Z"
   },
   {
    "duration": 9,
    "start_time": "2023-03-13T12:44:14.533Z"
   },
   {
    "duration": 10,
    "start_time": "2023-03-13T12:44:14.700Z"
   },
   {
    "duration": 222,
    "start_time": "2023-03-13T12:44:15.078Z"
   },
   {
    "duration": 7,
    "start_time": "2023-03-13T12:44:15.613Z"
   },
   {
    "duration": 445,
    "start_time": "2023-03-13T12:44:16.150Z"
   },
   {
    "duration": 237,
    "start_time": "2023-03-13T12:44:16.749Z"
   },
   {
    "duration": 4810,
    "start_time": "2023-03-13T12:44:17.266Z"
   },
   {
    "duration": 279,
    "start_time": "2023-03-13T12:44:22.079Z"
   },
   {
    "duration": 152,
    "start_time": "2023-03-13T12:44:22.359Z"
   },
   {
    "duration": 157,
    "start_time": "2023-03-13T12:44:22.513Z"
   },
   {
    "duration": 431,
    "start_time": "2023-03-13T12:44:22.672Z"
   },
   {
    "duration": 135,
    "start_time": "2023-03-13T12:44:23.104Z"
   },
   {
    "duration": 190,
    "start_time": "2023-03-13T12:44:23.241Z"
   },
   {
    "duration": 146,
    "start_time": "2023-03-13T12:44:23.433Z"
   },
   {
    "duration": 128,
    "start_time": "2023-03-13T12:44:23.581Z"
   },
   {
    "duration": 147,
    "start_time": "2023-03-13T12:44:24.052Z"
   },
   {
    "duration": 179,
    "start_time": "2023-03-13T12:44:24.516Z"
   },
   {
    "duration": 149,
    "start_time": "2023-03-13T12:44:25.051Z"
   },
   {
    "duration": 142,
    "start_time": "2023-03-13T12:44:25.518Z"
   },
   {
    "duration": 213,
    "start_time": "2023-03-13T12:44:26.450Z"
   },
   {
    "duration": 192,
    "start_time": "2023-03-13T12:44:31.599Z"
   },
   {
    "duration": 240,
    "start_time": "2023-03-13T12:44:32.065Z"
   },
   {
    "duration": 184,
    "start_time": "2023-03-13T12:44:32.591Z"
   },
   {
    "duration": 142,
    "start_time": "2023-03-13T12:44:33.007Z"
   },
   {
    "duration": 72,
    "start_time": "2023-03-13T12:44:33.485Z"
   },
   {
    "duration": 157,
    "start_time": "2023-03-13T12:44:33.691Z"
   },
   {
    "duration": 150,
    "start_time": "2023-03-13T12:44:34.406Z"
   },
   {
    "duration": 151,
    "start_time": "2023-03-13T12:44:35.000Z"
   },
   {
    "duration": 24,
    "start_time": "2023-03-13T12:44:43.808Z"
   },
   {
    "duration": 22,
    "start_time": "2023-03-13T12:44:48.930Z"
   },
   {
    "duration": 22,
    "start_time": "2023-03-13T12:44:51.936Z"
   },
   {
    "duration": 21,
    "start_time": "2023-03-13T12:44:56.124Z"
   },
   {
    "duration": 8,
    "start_time": "2023-03-13T12:53:00.708Z"
   },
   {
    "duration": 7,
    "start_time": "2023-03-13T12:53:44.560Z"
   },
   {
    "duration": 7,
    "start_time": "2023-03-13T12:54:08.201Z"
   },
   {
    "duration": 9,
    "start_time": "2023-03-13T12:54:26.696Z"
   },
   {
    "duration": 1613,
    "start_time": "2023-03-13T12:55:14.822Z"
   },
   {
    "duration": 11,
    "start_time": "2023-03-13T12:55:52.101Z"
   },
   {
    "duration": 24,
    "start_time": "2023-03-13T12:57:34.624Z"
   },
   {
    "duration": 9,
    "start_time": "2023-03-13T12:58:26.464Z"
   },
   {
    "duration": 8,
    "start_time": "2023-03-13T12:58:52.813Z"
   },
   {
    "duration": 1921,
    "start_time": "2023-03-13T12:58:58.884Z"
   },
   {
    "duration": 1564,
    "start_time": "2023-03-13T12:59:19.562Z"
   },
   {
    "duration": 132,
    "start_time": "2023-03-13T13:03:53.363Z"
   },
   {
    "duration": 145,
    "start_time": "2023-03-13T13:05:01.127Z"
   },
   {
    "duration": 8,
    "start_time": "2023-03-13T13:10:39.586Z"
   },
   {
    "duration": 5,
    "start_time": "2023-03-13T13:12:10.103Z"
   },
   {
    "duration": 25,
    "start_time": "2023-03-13T13:59:59.383Z"
   },
   {
    "duration": 6,
    "start_time": "2023-03-13T14:00:22.712Z"
   },
   {
    "duration": 6,
    "start_time": "2023-03-13T14:00:25.747Z"
   },
   {
    "duration": 5,
    "start_time": "2023-03-13T14:00:28.709Z"
   },
   {
    "duration": 7,
    "start_time": "2023-03-13T14:01:27.595Z"
   },
   {
    "duration": 7,
    "start_time": "2023-03-13T14:02:45.510Z"
   },
   {
    "duration": 15,
    "start_time": "2023-03-13T14:03:37.639Z"
   },
   {
    "duration": 14,
    "start_time": "2023-03-13T14:04:53.071Z"
   },
   {
    "duration": 16,
    "start_time": "2023-03-13T14:07:04.402Z"
   },
   {
    "duration": 8,
    "start_time": "2023-03-13T14:07:43.669Z"
   },
   {
    "duration": 7,
    "start_time": "2023-03-13T14:07:45.321Z"
   },
   {
    "duration": 10,
    "start_time": "2023-03-13T14:07:53.310Z"
   },
   {
    "duration": 213,
    "start_time": "2023-03-13T14:08:28.505Z"
   },
   {
    "duration": 7,
    "start_time": "2023-03-13T14:08:38.364Z"
   },
   {
    "duration": 189,
    "start_time": "2023-03-13T14:08:42.537Z"
   },
   {
    "duration": 265,
    "start_time": "2023-03-13T14:09:00.219Z"
   },
   {
    "duration": 5102,
    "start_time": "2023-03-13T14:09:17.864Z"
   },
   {
    "duration": 267,
    "start_time": "2023-03-13T14:10:05.828Z"
   },
   {
    "duration": 20,
    "start_time": "2023-03-13T14:11:57.878Z"
   },
   {
    "duration": 500,
    "start_time": "2023-03-13T14:32:31.235Z"
   },
   {
    "duration": 23,
    "start_time": "2023-03-13T14:32:31.736Z"
   },
   {
    "duration": 17,
    "start_time": "2023-03-13T14:32:31.760Z"
   },
   {
    "duration": 22,
    "start_time": "2023-03-13T14:32:31.779Z"
   },
   {
    "duration": 5,
    "start_time": "2023-03-13T14:32:31.803Z"
   },
   {
    "duration": 31,
    "start_time": "2023-03-13T14:32:31.809Z"
   },
   {
    "duration": 11,
    "start_time": "2023-03-13T14:32:31.841Z"
   },
   {
    "duration": 40,
    "start_time": "2023-03-13T14:32:31.853Z"
   },
   {
    "duration": 10,
    "start_time": "2023-03-13T14:32:31.894Z"
   },
   {
    "duration": 9,
    "start_time": "2023-03-13T14:32:31.905Z"
   },
   {
    "duration": 5,
    "start_time": "2023-03-13T14:32:31.915Z"
   },
   {
    "duration": 14,
    "start_time": "2023-03-13T14:32:31.921Z"
   },
   {
    "duration": 11,
    "start_time": "2023-03-13T14:32:31.936Z"
   },
   {
    "duration": 38,
    "start_time": "2023-03-13T14:32:31.950Z"
   },
   {
    "duration": 7,
    "start_time": "2023-03-13T14:32:31.990Z"
   },
   {
    "duration": 30,
    "start_time": "2023-03-13T14:32:31.999Z"
   },
   {
    "duration": 47,
    "start_time": "2023-03-13T14:32:32.034Z"
   },
   {
    "duration": 6,
    "start_time": "2023-03-13T14:32:32.083Z"
   },
   {
    "duration": 15,
    "start_time": "2023-03-13T14:32:32.091Z"
   },
   {
    "duration": 5,
    "start_time": "2023-03-13T14:32:32.108Z"
   },
   {
    "duration": 24,
    "start_time": "2023-03-13T14:32:32.114Z"
   },
   {
    "duration": 21,
    "start_time": "2023-03-13T14:32:32.139Z"
   },
   {
    "duration": 31,
    "start_time": "2023-03-13T14:32:32.234Z"
   },
   {
    "duration": 23,
    "start_time": "2023-03-13T14:32:32.267Z"
   },
   {
    "duration": 14,
    "start_time": "2023-03-13T14:32:32.291Z"
   },
   {
    "duration": 29,
    "start_time": "2023-03-13T14:32:32.306Z"
   },
   {
    "duration": 9,
    "start_time": "2023-03-13T14:32:32.336Z"
   },
   {
    "duration": 7,
    "start_time": "2023-03-13T14:32:32.347Z"
   },
   {
    "duration": 24,
    "start_time": "2023-03-13T14:32:32.355Z"
   },
   {
    "duration": 8,
    "start_time": "2023-03-13T14:32:32.382Z"
   },
   {
    "duration": 7,
    "start_time": "2023-03-13T14:32:32.391Z"
   },
   {
    "duration": 9,
    "start_time": "2023-03-13T14:32:32.399Z"
   },
   {
    "duration": 11,
    "start_time": "2023-03-13T14:32:32.409Z"
   },
   {
    "duration": 14,
    "start_time": "2023-03-13T14:32:32.421Z"
   },
   {
    "duration": 24,
    "start_time": "2023-03-13T14:32:32.437Z"
   },
   {
    "duration": 18,
    "start_time": "2023-03-13T14:32:32.462Z"
   },
   {
    "duration": 10,
    "start_time": "2023-03-13T14:32:32.484Z"
   },
   {
    "duration": 212,
    "start_time": "2023-03-13T14:32:32.495Z"
   },
   {
    "duration": 6,
    "start_time": "2023-03-13T14:32:32.708Z"
   },
   {
    "duration": 374,
    "start_time": "2023-03-13T14:32:32.716Z"
   },
   {
    "duration": 164,
    "start_time": "2023-03-13T14:32:33.092Z"
   },
   {
    "duration": 3951,
    "start_time": "2023-03-13T14:32:33.257Z"
   },
   {
    "duration": 197,
    "start_time": "2023-03-13T14:32:37.209Z"
   },
   {
    "duration": 126,
    "start_time": "2023-03-13T14:32:37.407Z"
   },
   {
    "duration": 125,
    "start_time": "2023-03-13T14:32:37.534Z"
   },
   {
    "duration": 304,
    "start_time": "2023-03-13T14:32:37.661Z"
   },
   {
    "duration": 115,
    "start_time": "2023-03-13T14:32:37.966Z"
   },
   {
    "duration": 151,
    "start_time": "2023-03-13T14:32:38.082Z"
   },
   {
    "duration": 112,
    "start_time": "2023-03-13T14:32:38.235Z"
   },
   {
    "duration": 114,
    "start_time": "2023-03-13T14:32:38.348Z"
   },
   {
    "duration": 132,
    "start_time": "2023-03-13T14:32:38.463Z"
   },
   {
    "duration": 153,
    "start_time": "2023-03-13T14:32:38.596Z"
   },
   {
    "duration": 130,
    "start_time": "2023-03-13T14:32:38.750Z"
   },
   {
    "duration": 134,
    "start_time": "2023-03-13T14:32:38.882Z"
   },
   {
    "duration": 163,
    "start_time": "2023-03-13T14:32:39.018Z"
   },
   {
    "duration": 173,
    "start_time": "2023-03-13T14:32:39.182Z"
   },
   {
    "duration": 189,
    "start_time": "2023-03-13T14:32:39.356Z"
   },
   {
    "duration": 171,
    "start_time": "2023-03-13T14:32:39.546Z"
   },
   {
    "duration": 130,
    "start_time": "2023-03-13T14:32:39.718Z"
   },
   {
    "duration": 63,
    "start_time": "2023-03-13T14:32:39.849Z"
   },
   {
    "duration": 0,
    "start_time": "2023-03-13T14:32:39.913Z"
   },
   {
    "duration": 0,
    "start_time": "2023-03-13T14:32:39.914Z"
   },
   {
    "duration": 0,
    "start_time": "2023-03-13T14:32:39.915Z"
   },
   {
    "duration": 0,
    "start_time": "2023-03-13T14:32:39.916Z"
   },
   {
    "duration": 0,
    "start_time": "2023-03-13T14:32:39.917Z"
   },
   {
    "duration": 1,
    "start_time": "2023-03-13T14:32:39.917Z"
   },
   {
    "duration": 0,
    "start_time": "2023-03-13T14:32:39.921Z"
   },
   {
    "duration": 0,
    "start_time": "2023-03-13T14:32:39.922Z"
   },
   {
    "duration": 0,
    "start_time": "2023-03-13T14:32:39.922Z"
   },
   {
    "duration": 0,
    "start_time": "2023-03-13T14:32:39.923Z"
   },
   {
    "duration": 0,
    "start_time": "2023-03-13T14:32:39.924Z"
   },
   {
    "duration": 67,
    "start_time": "2023-03-13T14:35:09.259Z"
   },
   {
    "duration": 128,
    "start_time": "2023-03-13T14:37:07.823Z"
   },
   {
    "duration": 137,
    "start_time": "2023-03-13T14:37:08.374Z"
   },
   {
    "duration": 122,
    "start_time": "2023-03-13T14:37:08.814Z"
   },
   {
    "duration": 21,
    "start_time": "2023-03-13T14:37:31.547Z"
   },
   {
    "duration": 22,
    "start_time": "2023-03-13T14:37:32.007Z"
   },
   {
    "duration": 20,
    "start_time": "2023-03-13T14:37:32.292Z"
   },
   {
    "duration": 15,
    "start_time": "2023-03-13T14:37:32.606Z"
   },
   {
    "duration": 17,
    "start_time": "2023-03-13T14:37:32.767Z"
   },
   {
    "duration": 8,
    "start_time": "2023-03-13T14:37:32.915Z"
   },
   {
    "duration": 130,
    "start_time": "2023-03-13T14:37:33.067Z"
   },
   {
    "duration": 5,
    "start_time": "2023-03-13T14:37:33.229Z"
   },
   {
    "duration": 115,
    "start_time": "2023-03-13T14:38:13.911Z"
   },
   {
    "duration": 115,
    "start_time": "2023-03-13T14:38:27.906Z"
   },
   {
    "duration": 204,
    "start_time": "2023-03-13T14:38:31.693Z"
   },
   {
    "duration": 110,
    "start_time": "2023-03-13T14:38:36.331Z"
   },
   {
    "duration": 119,
    "start_time": "2023-03-13T15:49:57.461Z"
   },
   {
    "duration": 1406,
    "start_time": "2023-03-13T15:50:02.208Z"
   },
   {
    "duration": 3895,
    "start_time": "2023-03-13T15:50:13.365Z"
   },
   {
    "duration": 151,
    "start_time": "2023-03-13T15:52:21.757Z"
   },
   {
    "duration": 1153,
    "start_time": "2023-03-13T21:21:22.603Z"
   },
   {
    "duration": 2597,
    "start_time": "2023-03-13T21:21:23.758Z"
   },
   {
    "duration": 30,
    "start_time": "2023-03-13T21:21:26.357Z"
   },
   {
    "duration": 59,
    "start_time": "2023-03-13T21:21:26.389Z"
   },
   {
    "duration": 6,
    "start_time": "2023-03-13T21:21:26.450Z"
   },
   {
    "duration": 9,
    "start_time": "2023-03-13T21:21:26.458Z"
   },
   {
    "duration": 14,
    "start_time": "2023-03-13T21:21:26.485Z"
   },
   {
    "duration": 22,
    "start_time": "2023-03-13T21:21:26.501Z"
   },
   {
    "duration": 12,
    "start_time": "2023-03-13T21:21:26.525Z"
   },
   {
    "duration": 65,
    "start_time": "2023-03-13T21:21:26.539Z"
   },
   {
    "duration": 14,
    "start_time": "2023-03-13T21:21:26.607Z"
   },
   {
    "duration": 10,
    "start_time": "2023-03-13T21:21:26.622Z"
   },
   {
    "duration": 6,
    "start_time": "2023-03-13T21:21:26.634Z"
   },
   {
    "duration": 7,
    "start_time": "2023-03-13T21:21:26.643Z"
   },
   {
    "duration": 39,
    "start_time": "2023-03-13T21:21:26.651Z"
   },
   {
    "duration": 18,
    "start_time": "2023-03-13T21:21:26.692Z"
   },
   {
    "duration": 7,
    "start_time": "2023-03-13T21:21:26.712Z"
   },
   {
    "duration": 9,
    "start_time": "2023-03-13T21:21:26.720Z"
   },
   {
    "duration": 67,
    "start_time": "2023-03-13T21:21:26.731Z"
   },
   {
    "duration": 7,
    "start_time": "2023-03-13T21:21:26.800Z"
   },
   {
    "duration": 9,
    "start_time": "2023-03-13T21:21:26.808Z"
   },
   {
    "duration": 20,
    "start_time": "2023-03-13T21:21:26.819Z"
   },
   {
    "duration": 13,
    "start_time": "2023-03-13T21:21:26.840Z"
   },
   {
    "duration": 9,
    "start_time": "2023-03-13T21:21:26.855Z"
   },
   {
    "duration": 23,
    "start_time": "2023-03-13T21:21:26.865Z"
   },
   {
    "duration": 22,
    "start_time": "2023-03-13T21:21:26.890Z"
   },
   {
    "duration": 7,
    "start_time": "2023-03-13T21:21:26.914Z"
   },
   {
    "duration": 19,
    "start_time": "2023-03-13T21:21:26.922Z"
   },
   {
    "duration": 19,
    "start_time": "2023-03-13T21:21:26.942Z"
   },
   {
    "duration": 35,
    "start_time": "2023-03-13T21:21:26.963Z"
   },
   {
    "duration": 19,
    "start_time": "2023-03-13T21:21:27.000Z"
   },
   {
    "duration": 39,
    "start_time": "2023-03-13T21:21:27.020Z"
   },
   {
    "duration": 12,
    "start_time": "2023-03-13T21:21:27.061Z"
   },
   {
    "duration": 19,
    "start_time": "2023-03-13T21:21:27.075Z"
   },
   {
    "duration": 11,
    "start_time": "2023-03-13T21:21:27.096Z"
   },
   {
    "duration": 16,
    "start_time": "2023-03-13T21:21:27.109Z"
   },
   {
    "duration": 13,
    "start_time": "2023-03-13T21:21:27.127Z"
   },
   {
    "duration": 13,
    "start_time": "2023-03-13T21:21:27.142Z"
   },
   {
    "duration": 29,
    "start_time": "2023-03-13T21:21:27.157Z"
   },
   {
    "duration": 8,
    "start_time": "2023-03-13T21:21:27.196Z"
   },
   {
    "duration": 15,
    "start_time": "2023-03-13T21:21:27.208Z"
   },
   {
    "duration": 15,
    "start_time": "2023-03-13T21:21:27.225Z"
   },
   {
    "duration": 13,
    "start_time": "2023-03-13T21:21:27.242Z"
   },
   {
    "duration": 271,
    "start_time": "2023-03-13T21:21:27.257Z"
   },
   {
    "duration": 8,
    "start_time": "2023-03-13T21:21:27.530Z"
   },
   {
    "duration": 222,
    "start_time": "2023-03-13T21:21:27.539Z"
   },
   {
    "duration": 206,
    "start_time": "2023-03-13T21:21:27.763Z"
   },
   {
    "duration": 5757,
    "start_time": "2023-03-13T21:21:27.971Z"
   },
   {
    "duration": 298,
    "start_time": "2023-03-13T21:21:33.730Z"
   },
   {
    "duration": 181,
    "start_time": "2023-03-13T21:21:34.030Z"
   },
   {
    "duration": 185,
    "start_time": "2023-03-13T21:21:34.214Z"
   },
   {
    "duration": 593,
    "start_time": "2023-03-13T21:21:34.401Z"
   },
   {
    "duration": 138,
    "start_time": "2023-03-13T21:21:34.996Z"
   },
   {
    "duration": 212,
    "start_time": "2023-03-13T21:21:35.135Z"
   },
   {
    "duration": 166,
    "start_time": "2023-03-13T21:21:35.349Z"
   },
   {
    "duration": 140,
    "start_time": "2023-03-13T21:21:35.517Z"
   },
   {
    "duration": 163,
    "start_time": "2023-03-13T21:21:35.658Z"
   },
   {
    "duration": 224,
    "start_time": "2023-03-13T21:21:35.823Z"
   },
   {
    "duration": 211,
    "start_time": "2023-03-13T21:21:36.050Z"
   },
   {
    "duration": 163,
    "start_time": "2023-03-13T21:21:36.264Z"
   },
   {
    "duration": 225,
    "start_time": "2023-03-13T21:21:36.428Z"
   },
   {
    "duration": 204,
    "start_time": "2023-03-13T21:21:36.656Z"
   },
   {
    "duration": 192,
    "start_time": "2023-03-13T21:21:36.862Z"
   },
   {
    "duration": 351,
    "start_time": "2023-03-13T21:21:37.056Z"
   },
   {
    "duration": 163,
    "start_time": "2023-03-13T21:21:37.409Z"
   },
   {
    "duration": 176,
    "start_time": "2023-03-13T21:21:37.574Z"
   },
   {
    "duration": 180,
    "start_time": "2023-03-13T21:21:37.751Z"
   },
   {
    "duration": 180,
    "start_time": "2023-03-13T21:21:37.933Z"
   },
   {
    "duration": 28,
    "start_time": "2023-03-13T21:21:38.116Z"
   },
   {
    "duration": 50,
    "start_time": "2023-03-13T21:21:38.146Z"
   },
   {
    "duration": 31,
    "start_time": "2023-03-13T21:21:38.198Z"
   },
   {
    "duration": 32,
    "start_time": "2023-03-13T21:21:38.231Z"
   },
   {
    "duration": 36,
    "start_time": "2023-03-13T21:21:38.264Z"
   },
   {
    "duration": 20,
    "start_time": "2023-03-13T21:21:38.302Z"
   },
   {
    "duration": 190,
    "start_time": "2023-03-13T21:21:38.323Z"
   },
   {
    "duration": 6,
    "start_time": "2023-03-13T21:21:38.515Z"
   },
   {
    "duration": 7,
    "start_time": "2023-03-13T21:26:54.268Z"
   },
   {
    "duration": 565,
    "start_time": "2023-03-13T21:31:40.037Z"
   },
   {
    "duration": 384,
    "start_time": "2023-03-13T21:31:49.046Z"
   },
   {
    "duration": 321,
    "start_time": "2023-03-13T21:37:00.251Z"
   },
   {
    "duration": 7,
    "start_time": "2023-03-13T21:42:21.107Z"
   },
   {
    "duration": 192,
    "start_time": "2023-03-13T21:42:49.605Z"
   },
   {
    "duration": 43,
    "start_time": "2023-03-13T21:47:07.779Z"
   },
   {
    "duration": 162,
    "start_time": "2023-03-13T23:55:55.317Z"
   },
   {
    "duration": 118,
    "start_time": "2023-03-13T23:56:04.352Z"
   }
  ],
  "kernelspec": {
   "display_name": "Python 3 (ipykernel)",
   "language": "python",
   "name": "python3"
  },
  "language_info": {
   "codemirror_mode": {
    "name": "ipython",
    "version": 3
   },
   "file_extension": ".py",
   "mimetype": "text/x-python",
   "name": "python",
   "nbconvert_exporter": "python",
   "pygments_lexer": "ipython3",
   "version": "3.9.5"
  },
  "toc": {
   "base_numbering": 1,
   "nav_menu": {},
   "number_sections": true,
   "sideBar": true,
   "skip_h1_title": true,
   "title_cell": "Table of Contents",
   "title_sidebar": "Contents",
   "toc_cell": false,
   "toc_position": {},
   "toc_section_display": true,
   "toc_window_display": false
  }
 },
 "nbformat": 4,
 "nbformat_minor": 2
}
