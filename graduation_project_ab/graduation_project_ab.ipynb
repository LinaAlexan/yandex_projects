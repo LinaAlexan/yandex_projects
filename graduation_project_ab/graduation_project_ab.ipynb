{
 "cells": [
  {
   "cell_type": "markdown",
   "metadata": {},
   "source": [
    "<div style=\"border:solid green 2px; padding: 20px\">\n",
    "    \n",
    "<b>Галина, привет! Это Александр Матвеевский</b> Я рад тебя видеть на финальном спринте (Проект по А/B-тестированию).\n",
    "\n",
    "---\n",
    "\n",
    "Я буду красить комментарии цветом, пожалуйста, не удаляй их:\n",
    "\n",
    "<div class=\"alert alert-block alert-danger\">✍\n",
    "    \n",
    "\n",
    "__Комментарий от тимлида №1__\n",
    "\n",
    "Такой комментарий нужно исправить обязательно, он критически влияет на удачное выполнение проекта.\n",
    "</div>\n",
    "    \n",
    "---\n",
    "\n",
    "<div class=\"alert alert-block alert-warning\">📝\n",
    "    \n",
    "\n",
    "__Комментарий от тимлида №1__\n",
    "\n",
    "\n",
    "Такой комментарий является рекомендацией или советом. Можешь использовать их на своё усмотрение.\n",
    "</div>\n",
    "\n",
    "---\n",
    "\n",
    "<div class=\"alert alert-block alert-success\">✔️\n",
    "    \n",
    "\n",
    "__Комментарий от тимлида №1__\n",
    "\n",
    "Такой комментарий  говорит о том, что было сделано что-то качественное и правильное =)\n",
    "</div>\n",
    "    \n",
    "---\n",
    "    \n",
    "Так же, мне будет легче отследить изменения, если ты выделишь свои комментарии:   \n",
    "    \n",
    "<div class=\"alert alert-info\"> <b>Комментарии студента:</b> Например, вот так.</div>\n",
    "    \n",
    "    \n",
    "---"
   ]
  },
  {
   "cell_type": "markdown",
   "metadata": {},
   "source": [
    "**Анализ результатов А/В теста. Влияние новой рекомендательной системы на сайте на изменения в платежной воронке пользователей**\n",
    "\n",
    "\n",
    "Цель исследования: провести оценку A\\B-тестирования новой рекомендательной системы товаров для пользователей. Оценить изменились ли продажи после внедрения изменений или нет. Подтвердить или опровергнуть гипотезу, что пользователи из тестовой группы показывают рост конверсии по каждому исследуемому показателю как минимум на 5 процентов\n",
    "\n",
    "Задача исследования: провести оценку результатов A/B-теста исходя из данных датасета с действиями пользователей, технического задания и вспомогательных датасетов: \n",
    "- оценить корректность проведения теста.\n",
    "- проанализировать результаты теста.\n",
    "\n",
    "Проверить:\n",
    "- пересечение тестовой аудитории с конкурирующим тестом;\n",
    "- совпадение теста и маркетинговых событий, другие проблемы временных границ теста.\n",
    "\n",
    "Ожидаемый эффект: за 14 дней с момента регистрации пользователи покажут улучшение каждой метрики не менее, чем на 5%:\n",
    "- конверсии в просмотр карточек товаров — событие product_page\n",
    "- просмотры корзины — product_cart\n",
    "- покупки — purchase.\n",
    "\n",
    "\n",
    "Содержание проекта:\n",
    "- [Загрузка и подготовка данных](#the_download)\n",
    "  - Импорт библиотек и загрузка датафреймов\n",
    "  - Преобразование типов даннных \n",
    "  - Поиск дубликатов и пропущенных значений, оценка их природы\n",
    "- [Оценка корректности проведения теста](#test_correct)\n",
    "  - период набора пользователей в тест и его соответствие требованиям технического задания;\n",
    "  - регион регистрации пользователей \n",
    "- [Пересечения с конкурирующим тестом](#interface_eu_test)\n",
    "- [Данные пользовательской активности](#user_activity)\n",
    "  - Горизонт анализа и лайфтайм совершения события пользователями \n",
    "  - Динамика набора пользователей в группы \n",
    "  - Оценка активности пользователей\n",
    "  - Даты проведения теста в соотетствии с ТЗ\n",
    "  - Вывод о соответствии теста требваниям ТЗ\n",
    "- [Исследовательский анализ данных](#data_analysis)\n",
    "  - Распределение количества событий на пользователя в разрезе групп теста\n",
    "  - Динамика количества событий в группах теста по дням\n",
    "  - Совпадение времени проведения теста с маркетинговыми активностями\n",
    "  - Оценка активности пользователей\n",
    "  - Построение продуктовой воронки \n",
    "  - Общий вывод о изменении пользовательской активности в тестовой группе по сравнению с контрольной\n",
    "- [Оценка результатов A/B тестирования](#ab_results)\n",
    "  - Трактовка результатов А/В тестирования и изменения конверсии \n",
    "  - Статистическая разница долей (проверка z-критерием)\n",
    "- [Итоговый вывод](#conclusion)"
   ]
  },
  {
   "cell_type": "markdown",
   "metadata": {},
   "source": [
    "<div class=\"alert alert-block alert-success\">✔️\n",
    "    \n",
    "\n",
    "__Комментарий от тимлида №1__\n",
    "\n",
    "\n",
    "Отличная практика - расписывать цель и техническое задание перед началом проекта.\n",
    "    \n",
    "Это оглавление вполне можно сделать интерактивным. Описание как это можно сделать вот тут — https://sebastianraschka.com/Articles/2014_ipython_internal_links.html  \n",
    "</div>"
   ]
  },
  {
   "cell_type": "markdown",
   "metadata": {},
   "source": [
    "    \n",
    "<div class=\"alert alert-info\"> <b>Комментарии студента:</b> Спасибо большое, использую информацию! У некоторых пунктов почему то ссылки не работают. Не подскажешь, в чем может быть дело?</div>\n",
    "    "
   ]
  },
  {
   "cell_type": "markdown",
   "metadata": {},
   "source": [
    "<div class=\"alert alert-block alert-success\">✔️\n",
    "    \n",
    "\n",
    "__Комментарий от тимлида №2__\n",
    "\n",
    "\n",
    "У меня работают, странно"
   ]
  },
  {
   "cell_type": "markdown",
   "metadata": {},
   "source": [
    "<a id='the_download'></a>"
   ]
  },
  {
   "cell_type": "markdown",
   "metadata": {},
   "source": [
    "### Загрузка и подготовка данных\n",
    "#### Импорт таблиц"
   ]
  },
  {
   "cell_type": "markdown",
   "metadata": {},
   "source": [
    "<a id='### Загрузка и подготовка данных'></a>"
   ]
  },
  {
   "cell_type": "code",
   "execution_count": 1,
   "metadata": {},
   "outputs": [],
   "source": [
    "import numpy as np\n",
    "import pandas as pd\n",
    "import matplotlib.pyplot as plt\n",
    "import seaborn as sns\n",
    "sns.set()\n",
    "import datetime as dt\n",
    "from datetime import datetime, timedelta\n",
    "import plotly.graph_objects as go\n",
    "import plotly.express as px\n",
    "import math as mth\n",
    "from scipy import stats as st\n",
    "from statsmodels.stats.weightstats import ztest as ztest"
   ]
  },
  {
   "cell_type": "markdown",
   "metadata": {},
   "source": [
    "<div class=\"alert alert-block alert-success\">✔️\n",
    "    \n",
    "\n",
    "__Комментарий от тимлида №1__\n",
    "\n",
    "Хорошо, модули загружены\n",
    "</div>"
   ]
  },
  {
   "cell_type": "code",
   "execution_count": 2,
   "metadata": {},
   "outputs": [
    {
     "name": "stdout",
     "output_type": "stream",
     "text": [
      "Collecting kaleido\n",
      "  Downloading kaleido-0.2.1-py2.py3-none-manylinux1_x86_64.whl (79.9 MB)\n",
      "\u001b[K     |████████████████████████████████| 79.9 MB 70 kB/s s eta 0:00:01\n",
      "\u001b[?25hInstalling collected packages: kaleido\n",
      "Successfully installed kaleido-0.2.1\n",
      "Note: you may need to restart the kernel to use updated packages.\n"
     ]
    }
   ],
   "source": [
    "pip install -U kaleido"
   ]
  },
  {
   "cell_type": "code",
   "execution_count": 3,
   "metadata": {},
   "outputs": [],
   "source": [
    "# загружаем данные датасета final_ab_participants.csv\n",
    "participants = pd.read_csv('/datasets/final_ab_participants.csv')"
   ]
  },
  {
   "cell_type": "code",
   "execution_count": 4,
   "metadata": {},
   "outputs": [
    {
     "name": "stdout",
     "output_type": "stream",
     "text": [
      "<class 'pandas.core.frame.DataFrame'>\n",
      "RangeIndex: 18268 entries, 0 to 18267\n",
      "Data columns (total 3 columns):\n",
      " #   Column   Non-Null Count  Dtype \n",
      "---  ------   --------------  ----- \n",
      " 0   user_id  18268 non-null  object\n",
      " 1   group    18268 non-null  object\n",
      " 2   ab_test  18268 non-null  object\n",
      "dtypes: object(3)\n",
      "memory usage: 428.3+ KB\n"
     ]
    }
   ],
   "source": [
    "# выводим информацию о датасете\n",
    "participants.info()"
   ]
  },
  {
   "cell_type": "code",
   "execution_count": 5,
   "metadata": {},
   "outputs": [
    {
     "data": {
      "text/html": [
       "<div>\n",
       "<style scoped>\n",
       "    .dataframe tbody tr th:only-of-type {\n",
       "        vertical-align: middle;\n",
       "    }\n",
       "\n",
       "    .dataframe tbody tr th {\n",
       "        vertical-align: top;\n",
       "    }\n",
       "\n",
       "    .dataframe thead th {\n",
       "        text-align: right;\n",
       "    }\n",
       "</style>\n",
       "<table border=\"1\" class=\"dataframe\">\n",
       "  <thead>\n",
       "    <tr style=\"text-align: right;\">\n",
       "      <th></th>\n",
       "      <th>user_id</th>\n",
       "      <th>group</th>\n",
       "      <th>ab_test</th>\n",
       "    </tr>\n",
       "  </thead>\n",
       "  <tbody>\n",
       "    <tr>\n",
       "      <th>13206</th>\n",
       "      <td>C41BBCA9DACE544D</td>\n",
       "      <td>A</td>\n",
       "      <td>interface_eu_test</td>\n",
       "    </tr>\n",
       "    <tr>\n",
       "      <th>5556</th>\n",
       "      <td>425B4F03B08D10FC</td>\n",
       "      <td>A</td>\n",
       "      <td>recommender_system_test</td>\n",
       "    </tr>\n",
       "    <tr>\n",
       "      <th>9736</th>\n",
       "      <td>C586A881F11593F8</td>\n",
       "      <td>A</td>\n",
       "      <td>interface_eu_test</td>\n",
       "    </tr>\n",
       "    <tr>\n",
       "      <th>1998</th>\n",
       "      <td>B6E4E414699EFC1F</td>\n",
       "      <td>A</td>\n",
       "      <td>recommender_system_test</td>\n",
       "    </tr>\n",
       "    <tr>\n",
       "      <th>15168</th>\n",
       "      <td>B0F117EEF0615FD4</td>\n",
       "      <td>B</td>\n",
       "      <td>interface_eu_test</td>\n",
       "    </tr>\n",
       "  </tbody>\n",
       "</table>\n",
       "</div>"
      ],
      "text/plain": [
       "                user_id group                  ab_test\n",
       "13206  C41BBCA9DACE544D     A        interface_eu_test\n",
       "5556   425B4F03B08D10FC     A  recommender_system_test\n",
       "9736   C586A881F11593F8     A        interface_eu_test\n",
       "1998   B6E4E414699EFC1F     A  recommender_system_test\n",
       "15168  B0F117EEF0615FD4     B        interface_eu_test"
      ]
     },
     "metadata": {},
     "output_type": "display_data"
    }
   ],
   "source": [
    "# выводим случайные 5 строк таблицы\n",
    "display(participants.sample(5))"
   ]
  },
  {
   "cell_type": "markdown",
   "metadata": {},
   "source": [
    "<div class=\"alert alert-block alert-danger\">✍\n",
    "    \n",
    "\n",
    "__Комментарий от ревьюера №1__\n",
    "\n",
    "\n",
    "Предлагаю разделять логически разные вещи:\n",
    "\n",
    "    - импорты библиотек\n",
    "    - открытие данных (это может быть не тривиальный процесс)\n",
    "    - рабочий код\n",
    "    \n",
    "Такой подход позволит улучшить читаемость кода, снизит время поиска ошибок если они есть и исключит повторное выполнение кода"
   ]
  },
  {
   "cell_type": "markdown",
   "metadata": {},
   "source": [
    "    \n",
    "<div class=\"alert alert-info\"> <b>Комментарии студента:</b> А мне казалось, что такой вид наоборот лаконичнее вглядит) Сейчас исправим!</div>\n",
    "    "
   ]
  },
  {
   "cell_type": "markdown",
   "metadata": {},
   "source": [
    "<div class=\"alert alert-block alert-success\">✔️\n",
    "    \n",
    "\n",
    "__Комментарий от тимлида №2__\n",
    "\n",
    "\n",
    "Не совсем. По стандартам оформления РЕР8, модули/выгрузка данных/рабочий код должен быть в разных ячейках"
   ]
  },
  {
   "cell_type": "code",
   "execution_count": 6,
   "metadata": {},
   "outputs": [],
   "source": [
    "# загружаем данные датасета ab_project_marketing_events.csv\n",
    "marketing_events = pd.read_csv('/datasets/ab_project_marketing_events.csv')\n"
   ]
  },
  {
   "cell_type": "code",
   "execution_count": 7,
   "metadata": {},
   "outputs": [
    {
     "name": "stdout",
     "output_type": "stream",
     "text": [
      "<class 'pandas.core.frame.DataFrame'>\n",
      "RangeIndex: 14 entries, 0 to 13\n",
      "Data columns (total 4 columns):\n",
      " #   Column     Non-Null Count  Dtype \n",
      "---  ------     --------------  ----- \n",
      " 0   name       14 non-null     object\n",
      " 1   regions    14 non-null     object\n",
      " 2   start_dt   14 non-null     object\n",
      " 3   finish_dt  14 non-null     object\n",
      "dtypes: object(4)\n",
      "memory usage: 576.0+ bytes\n"
     ]
    }
   ],
   "source": [
    "# выводим информацию о датасете\n",
    "marketing_events.info()\n"
   ]
  },
  {
   "cell_type": "code",
   "execution_count": 8,
   "metadata": {},
   "outputs": [
    {
     "data": {
      "text/html": [
       "<div>\n",
       "<style scoped>\n",
       "    .dataframe tbody tr th:only-of-type {\n",
       "        vertical-align: middle;\n",
       "    }\n",
       "\n",
       "    .dataframe tbody tr th {\n",
       "        vertical-align: top;\n",
       "    }\n",
       "\n",
       "    .dataframe thead th {\n",
       "        text-align: right;\n",
       "    }\n",
       "</style>\n",
       "<table border=\"1\" class=\"dataframe\">\n",
       "  <thead>\n",
       "    <tr style=\"text-align: right;\">\n",
       "      <th></th>\n",
       "      <th>name</th>\n",
       "      <th>regions</th>\n",
       "      <th>start_dt</th>\n",
       "      <th>finish_dt</th>\n",
       "    </tr>\n",
       "  </thead>\n",
       "  <tbody>\n",
       "    <tr>\n",
       "      <th>12</th>\n",
       "      <td>Single's Day Gift Promo</td>\n",
       "      <td>APAC</td>\n",
       "      <td>2020-11-11</td>\n",
       "      <td>2020-11-12</td>\n",
       "    </tr>\n",
       "    <tr>\n",
       "      <th>5</th>\n",
       "      <td>Black Friday Ads Campaign</td>\n",
       "      <td>EU, CIS, APAC, N.America</td>\n",
       "      <td>2020-11-26</td>\n",
       "      <td>2020-12-01</td>\n",
       "    </tr>\n",
       "    <tr>\n",
       "      <th>2</th>\n",
       "      <td>St. Patric's Day Promo</td>\n",
       "      <td>EU, N.America</td>\n",
       "      <td>2020-03-17</td>\n",
       "      <td>2020-03-19</td>\n",
       "    </tr>\n",
       "    <tr>\n",
       "      <th>7</th>\n",
       "      <td>Labor day (May 1st) Ads Campaign</td>\n",
       "      <td>EU, CIS, APAC</td>\n",
       "      <td>2020-05-01</td>\n",
       "      <td>2020-05-03</td>\n",
       "    </tr>\n",
       "    <tr>\n",
       "      <th>6</th>\n",
       "      <td>Chinese New Year Promo</td>\n",
       "      <td>APAC</td>\n",
       "      <td>2020-01-25</td>\n",
       "      <td>2020-02-07</td>\n",
       "    </tr>\n",
       "  </tbody>\n",
       "</table>\n",
       "</div>"
      ],
      "text/plain": [
       "                                name                   regions    start_dt  \\\n",
       "12           Single's Day Gift Promo                      APAC  2020-11-11   \n",
       "5          Black Friday Ads Campaign  EU, CIS, APAC, N.America  2020-11-26   \n",
       "2             St. Patric's Day Promo             EU, N.America  2020-03-17   \n",
       "7   Labor day (May 1st) Ads Campaign             EU, CIS, APAC  2020-05-01   \n",
       "6             Chinese New Year Promo                      APAC  2020-01-25   \n",
       "\n",
       "     finish_dt  \n",
       "12  2020-11-12  \n",
       "5   2020-12-01  \n",
       "2   2020-03-19  \n",
       "7   2020-05-03  \n",
       "6   2020-02-07  "
      ]
     },
     "metadata": {},
     "output_type": "display_data"
    }
   ],
   "source": [
    "# выводим случайные 5 строк таблицы\n",
    "display(marketing_events.sample(5))"
   ]
  },
  {
   "cell_type": "code",
   "execution_count": 9,
   "metadata": {},
   "outputs": [],
   "source": [
    "# загружаем данные датасета final_ab_new_users.csv\n",
    "users = pd.read_csv('/datasets/final_ab_new_users.csv')\n"
   ]
  },
  {
   "cell_type": "code",
   "execution_count": 10,
   "metadata": {},
   "outputs": [
    {
     "name": "stdout",
     "output_type": "stream",
     "text": [
      "<class 'pandas.core.frame.DataFrame'>\n",
      "RangeIndex: 61733 entries, 0 to 61732\n",
      "Data columns (total 4 columns):\n",
      " #   Column      Non-Null Count  Dtype \n",
      "---  ------      --------------  ----- \n",
      " 0   user_id     61733 non-null  object\n",
      " 1   first_date  61733 non-null  object\n",
      " 2   region      61733 non-null  object\n",
      " 3   device      61733 non-null  object\n",
      "dtypes: object(4)\n",
      "memory usage: 1.9+ MB\n"
     ]
    }
   ],
   "source": [
    "# выводим информацию о датасете\n",
    "users.info()\n"
   ]
  },
  {
   "cell_type": "code",
   "execution_count": 11,
   "metadata": {},
   "outputs": [
    {
     "data": {
      "text/html": [
       "<div>\n",
       "<style scoped>\n",
       "    .dataframe tbody tr th:only-of-type {\n",
       "        vertical-align: middle;\n",
       "    }\n",
       "\n",
       "    .dataframe tbody tr th {\n",
       "        vertical-align: top;\n",
       "    }\n",
       "\n",
       "    .dataframe thead th {\n",
       "        text-align: right;\n",
       "    }\n",
       "</style>\n",
       "<table border=\"1\" class=\"dataframe\">\n",
       "  <thead>\n",
       "    <tr style=\"text-align: right;\">\n",
       "      <th></th>\n",
       "      <th>user_id</th>\n",
       "      <th>first_date</th>\n",
       "      <th>region</th>\n",
       "      <th>device</th>\n",
       "    </tr>\n",
       "  </thead>\n",
       "  <tbody>\n",
       "    <tr>\n",
       "      <th>51383</th>\n",
       "      <td>D4C15EAD40B645ED</td>\n",
       "      <td>2020-12-19</td>\n",
       "      <td>EU</td>\n",
       "      <td>Mac</td>\n",
       "    </tr>\n",
       "    <tr>\n",
       "      <th>32985</th>\n",
       "      <td>254B557786CA738D</td>\n",
       "      <td>2020-12-23</td>\n",
       "      <td>EU</td>\n",
       "      <td>Mac</td>\n",
       "    </tr>\n",
       "    <tr>\n",
       "      <th>29609</th>\n",
       "      <td>2D82D1C3384BD5DC</td>\n",
       "      <td>2020-12-16</td>\n",
       "      <td>EU</td>\n",
       "      <td>iPhone</td>\n",
       "    </tr>\n",
       "    <tr>\n",
       "      <th>11968</th>\n",
       "      <td>0622A8A1D6B7D38A</td>\n",
       "      <td>2020-12-21</td>\n",
       "      <td>EU</td>\n",
       "      <td>Mac</td>\n",
       "    </tr>\n",
       "    <tr>\n",
       "      <th>35180</th>\n",
       "      <td>7591676C34F21ACD</td>\n",
       "      <td>2020-12-10</td>\n",
       "      <td>EU</td>\n",
       "      <td>PC</td>\n",
       "    </tr>\n",
       "  </tbody>\n",
       "</table>\n",
       "</div>"
      ],
      "text/plain": [
       "                user_id  first_date region  device\n",
       "51383  D4C15EAD40B645ED  2020-12-19     EU     Mac\n",
       "32985  254B557786CA738D  2020-12-23     EU     Mac\n",
       "29609  2D82D1C3384BD5DC  2020-12-16     EU  iPhone\n",
       "11968  0622A8A1D6B7D38A  2020-12-21     EU     Mac\n",
       "35180  7591676C34F21ACD  2020-12-10     EU      PC"
      ]
     },
     "metadata": {},
     "output_type": "display_data"
    }
   ],
   "source": [
    "# выводим случайные 5 строк таблицы\n",
    "display(users.sample(5))\n"
   ]
  },
  {
   "cell_type": "code",
   "execution_count": 12,
   "metadata": {},
   "outputs": [],
   "source": [
    "# загружаем данные датасета final_ab_events.csv\n",
    "events = pd.read_csv('/datasets/final_ab_events.csv')\n"
   ]
  },
  {
   "cell_type": "code",
   "execution_count": 13,
   "metadata": {},
   "outputs": [
    {
     "name": "stdout",
     "output_type": "stream",
     "text": [
      "<class 'pandas.core.frame.DataFrame'>\n",
      "RangeIndex: 440317 entries, 0 to 440316\n",
      "Data columns (total 4 columns):\n",
      " #   Column      Non-Null Count   Dtype  \n",
      "---  ------      --------------   -----  \n",
      " 0   user_id     440317 non-null  object \n",
      " 1   event_dt    440317 non-null  object \n",
      " 2   event_name  440317 non-null  object \n",
      " 3   details     62740 non-null   float64\n",
      "dtypes: float64(1), object(3)\n",
      "memory usage: 13.4+ MB\n"
     ]
    }
   ],
   "source": [
    "# выводим информацию о датасете\n",
    "events.info()"
   ]
  },
  {
   "cell_type": "code",
   "execution_count": 14,
   "metadata": {},
   "outputs": [
    {
     "data": {
      "text/html": [
       "<div>\n",
       "<style scoped>\n",
       "    .dataframe tbody tr th:only-of-type {\n",
       "        vertical-align: middle;\n",
       "    }\n",
       "\n",
       "    .dataframe tbody tr th {\n",
       "        vertical-align: top;\n",
       "    }\n",
       "\n",
       "    .dataframe thead th {\n",
       "        text-align: right;\n",
       "    }\n",
       "</style>\n",
       "<table border=\"1\" class=\"dataframe\">\n",
       "  <thead>\n",
       "    <tr style=\"text-align: right;\">\n",
       "      <th></th>\n",
       "      <th>user_id</th>\n",
       "      <th>event_dt</th>\n",
       "      <th>event_name</th>\n",
       "      <th>details</th>\n",
       "    </tr>\n",
       "  </thead>\n",
       "  <tbody>\n",
       "    <tr>\n",
       "      <th>416472</th>\n",
       "      <td>BDE2468B66CF69A5</td>\n",
       "      <td>2020-12-25 14:30:02</td>\n",
       "      <td>login</td>\n",
       "      <td>NaN</td>\n",
       "    </tr>\n",
       "    <tr>\n",
       "      <th>391026</th>\n",
       "      <td>40A6693375A3053F</td>\n",
       "      <td>2020-12-22 15:36:22</td>\n",
       "      <td>login</td>\n",
       "      <td>NaN</td>\n",
       "    </tr>\n",
       "    <tr>\n",
       "      <th>118727</th>\n",
       "      <td>C18F8E6B295095EE</td>\n",
       "      <td>2020-12-26 23:46:30</td>\n",
       "      <td>product_cart</td>\n",
       "      <td>NaN</td>\n",
       "    </tr>\n",
       "    <tr>\n",
       "      <th>83140</th>\n",
       "      <td>D6C8B73961F2774C</td>\n",
       "      <td>2020-12-15 19:06:16</td>\n",
       "      <td>product_cart</td>\n",
       "      <td>NaN</td>\n",
       "    </tr>\n",
       "    <tr>\n",
       "      <th>154775</th>\n",
       "      <td>21B8318A789FACE2</td>\n",
       "      <td>2020-12-14 00:15:06</td>\n",
       "      <td>product_page</td>\n",
       "      <td>NaN</td>\n",
       "    </tr>\n",
       "  </tbody>\n",
       "</table>\n",
       "</div>"
      ],
      "text/plain": [
       "                 user_id             event_dt    event_name  details\n",
       "416472  BDE2468B66CF69A5  2020-12-25 14:30:02         login      NaN\n",
       "391026  40A6693375A3053F  2020-12-22 15:36:22         login      NaN\n",
       "118727  C18F8E6B295095EE  2020-12-26 23:46:30  product_cart      NaN\n",
       "83140   D6C8B73961F2774C  2020-12-15 19:06:16  product_cart      NaN\n",
       "154775  21B8318A789FACE2  2020-12-14 00:15:06  product_page      NaN"
      ]
     },
     "metadata": {},
     "output_type": "display_data"
    }
   ],
   "source": [
    "# выводим случайные 5 строк таблицы\n",
    "display(events.sample(5))"
   ]
  },
  {
   "cell_type": "markdown",
   "metadata": {},
   "source": [
    "#### Присутствуют ли пропущенные значения и дубликаты: оценить их природу, коррекция датасетов. "
   ]
  },
  {
   "cell_type": "code",
   "execution_count": 15,
   "metadata": {},
   "outputs": [],
   "source": [
    "# приведение данных к нужному типу\n",
    "marketing_events['start_dt'] = pd.to_datetime(marketing_events['start_dt']).dt.date\n",
    "marketing_events['finish_dt'] = pd.to_datetime(marketing_events['finish_dt']).dt.date"
   ]
  },
  {
   "cell_type": "code",
   "execution_count": 16,
   "metadata": {},
   "outputs": [
    {
     "data": {
      "text/html": [
       "<div>\n",
       "<style scoped>\n",
       "    .dataframe tbody tr th:only-of-type {\n",
       "        vertical-align: middle;\n",
       "    }\n",
       "\n",
       "    .dataframe tbody tr th {\n",
       "        vertical-align: top;\n",
       "    }\n",
       "\n",
       "    .dataframe thead th {\n",
       "        text-align: right;\n",
       "    }\n",
       "</style>\n",
       "<table border=\"1\" class=\"dataframe\">\n",
       "  <thead>\n",
       "    <tr style=\"text-align: right;\">\n",
       "      <th></th>\n",
       "      <th>name</th>\n",
       "      <th>regions</th>\n",
       "      <th>start_dt</th>\n",
       "      <th>finish_dt</th>\n",
       "    </tr>\n",
       "  </thead>\n",
       "  <tbody>\n",
       "    <tr>\n",
       "      <th>0</th>\n",
       "      <td>Christmas&amp;New Year Promo</td>\n",
       "      <td>EU, N.America</td>\n",
       "      <td>2020-12-25</td>\n",
       "      <td>2021-01-03</td>\n",
       "    </tr>\n",
       "    <tr>\n",
       "      <th>1</th>\n",
       "      <td>St. Valentine's Day Giveaway</td>\n",
       "      <td>EU, CIS, APAC, N.America</td>\n",
       "      <td>2020-02-14</td>\n",
       "      <td>2020-02-16</td>\n",
       "    </tr>\n",
       "    <tr>\n",
       "      <th>2</th>\n",
       "      <td>St. Patric's Day Promo</td>\n",
       "      <td>EU, N.America</td>\n",
       "      <td>2020-03-17</td>\n",
       "      <td>2020-03-19</td>\n",
       "    </tr>\n",
       "    <tr>\n",
       "      <th>3</th>\n",
       "      <td>Easter Promo</td>\n",
       "      <td>EU, CIS, APAC, N.America</td>\n",
       "      <td>2020-04-12</td>\n",
       "      <td>2020-04-19</td>\n",
       "    </tr>\n",
       "    <tr>\n",
       "      <th>4</th>\n",
       "      <td>4th of July Promo</td>\n",
       "      <td>N.America</td>\n",
       "      <td>2020-07-04</td>\n",
       "      <td>2020-07-11</td>\n",
       "    </tr>\n",
       "  </tbody>\n",
       "</table>\n",
       "</div>"
      ],
      "text/plain": [
       "                           name                   regions    start_dt  \\\n",
       "0      Christmas&New Year Promo             EU, N.America  2020-12-25   \n",
       "1  St. Valentine's Day Giveaway  EU, CIS, APAC, N.America  2020-02-14   \n",
       "2        St. Patric's Day Promo             EU, N.America  2020-03-17   \n",
       "3                  Easter Promo  EU, CIS, APAC, N.America  2020-04-12   \n",
       "4             4th of July Promo                 N.America  2020-07-04   \n",
       "\n",
       "    finish_dt  \n",
       "0  2021-01-03  \n",
       "1  2020-02-16  \n",
       "2  2020-03-19  \n",
       "3  2020-04-19  \n",
       "4  2020-07-11  "
      ]
     },
     "execution_count": 16,
     "metadata": {},
     "output_type": "execute_result"
    }
   ],
   "source": [
    "marketing_events.head()"
   ]
  },
  {
   "cell_type": "code",
   "execution_count": 17,
   "metadata": {},
   "outputs": [
    {
     "data": {
      "text/plain": [
       "EU           46270\n",
       "N.America     9155\n",
       "CIS           3155\n",
       "APAC          3153\n",
       "Name: region, dtype: int64"
      ]
     },
     "execution_count": 17,
     "metadata": {},
     "output_type": "execute_result"
    }
   ],
   "source": [
    "# посмотрим на количество регионов и распределение пользователей: \n",
    "users['region'].value_counts()"
   ]
  },
  {
   "cell_type": "code",
   "execution_count": 18,
   "metadata": {},
   "outputs": [
    {
     "data": {
      "text/plain": [
       "Android    27520\n",
       "PC         15599\n",
       "iPhone     12530\n",
       "Mac         6084\n",
       "Name: device, dtype: int64"
      ]
     },
     "execution_count": 18,
     "metadata": {},
     "output_type": "execute_result"
    }
   ],
   "source": [
    "# посмотрим на количество устройств по пользователям:\n",
    "users['device'].value_counts()"
   ]
  },
  {
   "cell_type": "code",
   "execution_count": 19,
   "metadata": {},
   "outputs": [],
   "source": [
    "users['first_date'] = pd.to_datetime(users['first_date'])"
   ]
  },
  {
   "cell_type": "code",
   "execution_count": 20,
   "metadata": {},
   "outputs": [
    {
     "data": {
      "text/plain": [
       "login           189552\n",
       "product_page    125563\n",
       "product_cart     62462\n",
       "Name: event_name, dtype: int64"
      ]
     },
     "execution_count": 20,
     "metadata": {},
     "output_type": "execute_result"
    }
   ],
   "source": [
    "events[events['details'].isna() == True]['event_name'].value_counts()"
   ]
  },
  {
   "cell_type": "code",
   "execution_count": 21,
   "metadata": {},
   "outputs": [
    {
     "data": {
      "text/plain": [
       "377577"
      ]
     },
     "execution_count": 21,
     "metadata": {},
     "output_type": "execute_result"
    }
   ],
   "source": [
    "events[events['details'].isna() == True]['event_name'].value_counts().sum()\n"
   ]
  },
  {
   "cell_type": "markdown",
   "metadata": {},
   "source": [
    "В столбце details датасета events есть 377 577 пропусков. Эти пропуски не являются случайными. В данный столбец сохраняются детали события, такие как сумма совершенной покупки. Из данных мы видим, что для события purchase пропусков нет. Следовательно пропуски обсуловлены отсутстием дополнителной информации, которая бы записывалась в данный столбец при выгрузке"
   ]
  },
  {
   "cell_type": "markdown",
   "metadata": {},
   "source": [
    "<div class=\"alert alert-block alert-success\">✔️\n",
    "    \n",
    "\n",
    "__Комментарий от тимлида №1__\n",
    "\n",
    "\n",
    "Совет на будущее, смотри, не есть хорошо, когда налево и направо пытаться заполнить пропуски. В реальной работе - сейчас заменил на ноль, а через месяц забыл и среднее подсчитал. Плюс могут быть моменты, когда покупка бонусная или подарок, будет ноль стоить. В общем, если можно оставить пропуски пропусками - а тут это можно сделать, то лучше так и сделать, на результаты, даже если мы что-то захотим подсчитать - это не повлияет"
   ]
  },
  {
   "cell_type": "raw",
   "metadata": {},
   "source": [
    "events['event_dt'] = pd.to_datetime(events['event_dt'])\n",
    "events['event_dt'] = events['event_dt'].dt.date"
   ]
  },
  {
   "cell_type": "code",
   "execution_count": 22,
   "metadata": {},
   "outputs": [
    {
     "data": {
      "text/plain": [
       "0"
      ]
     },
     "execution_count": 22,
     "metadata": {},
     "output_type": "execute_result"
    }
   ],
   "source": [
    "events.duplicated().sum()"
   ]
  },
  {
   "cell_type": "code",
   "execution_count": 23,
   "metadata": {},
   "outputs": [
    {
     "data": {
      "text/plain": [
       "ab_test\n",
       "interface_eu_test          11567\n",
       "recommender_system_test     6701\n",
       "Name: user_id, dtype: int64"
      ]
     },
     "execution_count": 23,
     "metadata": {},
     "output_type": "execute_result"
    }
   ],
   "source": [
    "# считаем количество записей по каждому тесту: \n",
    "participants.groupby('ab_test')['user_id'].count()"
   ]
  },
  {
   "cell_type": "markdown",
   "metadata": {},
   "source": [
    "**Вывод этапа**\n",
    "\n",
    "- датасеты users, events и participants содержат уникальные номера пользователей user_id на основе которых возможно объединение информации\n",
    "- назчания колонок во всех датасетах прописаны в ожидаемом формате\n",
    "в качестве преобразования все записи в датасетах приведены к нижнему регистру\n",
    "- информация о датах в таблицах data_marketing_events, data_new_users, data_events приведена к типу datetime64\n",
    "- пропуски присутствует только в талице data_events в колонке details = 377 577 пропусков\n",
    "- дубликаты в таблицах не выявлены\n",
    "- всего в датафреме фигурируют четыре региона: EU (Европейский, наибольшее количество пользователей - 46270), N.America (Северная Америка), CIS (страны постсоветского пространства), А так же APAC (Азиатско-Тихоокеанский регион). \n",
    "- Так же мы видим распределение пользователей по устройствам, которыми они пользовались (самым популярным оказася андроид): Android - 27520, PC - 15599, iPhone - 12530, Mac - 6084\n",
    "- в датафрейме есть информация о двух тестах: recommender_system_test (интересующий нас) и interface_eu_test (сторонний, в котором еще и больше информации о пользователеях - 11567 против 6701)\n",
    "\n",
    "Проведена предподготовка данных. Даты привлечения пользователей проверены на соответсвие ТЗ. Даты приведены к формату datetime. Установлено наличие неслучайных пропусков в данных"
   ]
  },
  {
   "cell_type": "markdown",
   "metadata": {},
   "source": [
    "<div class=\"alert alert-block alert-warning\">📝\n",
    "    \n",
    "\n",
    "__Комментарий от тимлида №1__\n",
    "\n",
    "\n",
    "Было бы хорошо привести более детальные выводы по категориальным данным: количество тестов (именно на этапе предобработки), регионов, устройств.\n",
    "</div>"
   ]
  },
  {
   "cell_type": "markdown",
   "metadata": {},
   "source": [
    "<div class=\"alert alert-info\"> <b>Комментарии студента:</b> Готово, добавила информацию)</div>"
   ]
  },
  {
   "cell_type": "markdown",
   "metadata": {},
   "source": [
    "<div class=\"alert alert-block alert-success\">✔️\n",
    "    \n",
    "\n",
    "__Комментарий от тимлида №2__\n",
    "\n",
    "Ты корректно выгрузила данные и посмотрела их содержимое. Можно приступать к следующему шагу\n",
    "</div>"
   ]
  },
  {
   "cell_type": "markdown",
   "metadata": {},
   "source": [
    "<a id='test_correct'></a>"
   ]
  },
  {
   "cell_type": "markdown",
   "metadata": {},
   "source": [
    "### Оценка корректности проведения теста"
   ]
  },
  {
   "cell_type": "markdown",
   "metadata": {},
   "source": [
    "#### Выделите пользователей участвующих в тесте"
   ]
  },
  {
   "cell_type": "code",
   "execution_count": 24,
   "metadata": {},
   "outputs": [
    {
     "data": {
      "text/plain": [
       "group\n",
       "A    3824\n",
       "B    2877\n",
       "Name: user_id, dtype: int64"
      ]
     },
     "execution_count": 24,
     "metadata": {},
     "output_type": "execute_result"
    }
   ],
   "source": [
    "# считаем количество записей для групп A и В для теста 'recommender_system_test'\n",
    "participants.query(\"ab_test == 'recommender_system_test'\").groupby('group')['user_id'].count()"
   ]
  },
  {
   "cell_type": "markdown",
   "metadata": {},
   "source": [
    "Данные об искомом тесте recommender_system_test присутствуют 6 701 запись, разделение на группы в тесте также есть.\n",
    "Присутствует верное название теста recommender_system_test, в таблице есть данные по конкурирующему тесту interface_eu_test\n",
    "Видимо группа А — контрольная, B — новая платёжная воронка."
   ]
  },
  {
   "cell_type": "code",
   "execution_count": 25,
   "metadata": {},
   "outputs": [
    {
     "name": "stdout",
     "output_type": "stream",
     "text": [
      "2020-12-07 00:00:00\n",
      "2020-12-23 00:00:00\n"
     ]
    }
   ],
   "source": [
    "print (users['first_date'].min())\n",
    "print (users['first_date'].max())"
   ]
  },
  {
   "cell_type": "markdown",
   "metadata": {},
   "source": [
    "Даты регистрации в таблице с новыми пользователями соответствуют ТЗ, но окончание регистрации на 2 дня позже заявлянного в условии). Поэтому сделаем фильтр, чтобы сохранились только пользователи с регистрацией до 21.12.2020 включительно: "
   ]
  },
  {
   "cell_type": "code",
   "execution_count": 26,
   "metadata": {},
   "outputs": [
    {
     "data": {
      "text/html": [
       "<div>\n",
       "<style scoped>\n",
       "    .dataframe tbody tr th:only-of-type {\n",
       "        vertical-align: middle;\n",
       "    }\n",
       "\n",
       "    .dataframe tbody tr th {\n",
       "        vertical-align: top;\n",
       "    }\n",
       "\n",
       "    .dataframe thead th {\n",
       "        text-align: right;\n",
       "    }\n",
       "</style>\n",
       "<table border=\"1\" class=\"dataframe\">\n",
       "  <thead>\n",
       "    <tr style=\"text-align: right;\">\n",
       "      <th></th>\n",
       "      <th>user_id</th>\n",
       "      <th>first_date</th>\n",
       "      <th>region</th>\n",
       "      <th>device</th>\n",
       "      <th>group</th>\n",
       "      <th>ab_test</th>\n",
       "    </tr>\n",
       "  </thead>\n",
       "  <tbody>\n",
       "    <tr>\n",
       "      <th>0</th>\n",
       "      <td>D72A72121175D8BE</td>\n",
       "      <td>2020-12-07</td>\n",
       "      <td>EU</td>\n",
       "      <td>PC</td>\n",
       "      <td>A</td>\n",
       "      <td>recommender_system_test</td>\n",
       "    </tr>\n",
       "    <tr>\n",
       "      <th>1</th>\n",
       "      <td>E6DE857AFBDC6102</td>\n",
       "      <td>2020-12-07</td>\n",
       "      <td>EU</td>\n",
       "      <td>PC</td>\n",
       "      <td>B</td>\n",
       "      <td>recommender_system_test</td>\n",
       "    </tr>\n",
       "    <tr>\n",
       "      <th>2</th>\n",
       "      <td>DD4352CDCF8C3D57</td>\n",
       "      <td>2020-12-07</td>\n",
       "      <td>EU</td>\n",
       "      <td>Android</td>\n",
       "      <td>B</td>\n",
       "      <td>recommender_system_test</td>\n",
       "    </tr>\n",
       "    <tr>\n",
       "      <th>3</th>\n",
       "      <td>831887FE7F2D6CBA</td>\n",
       "      <td>2020-12-07</td>\n",
       "      <td>EU</td>\n",
       "      <td>Android</td>\n",
       "      <td>A</td>\n",
       "      <td>recommender_system_test</td>\n",
       "    </tr>\n",
       "    <tr>\n",
       "      <th>4</th>\n",
       "      <td>4CB179C7F847320B</td>\n",
       "      <td>2020-12-07</td>\n",
       "      <td>EU</td>\n",
       "      <td>iPhone</td>\n",
       "      <td>B</td>\n",
       "      <td>recommender_system_test</td>\n",
       "    </tr>\n",
       "  </tbody>\n",
       "</table>\n",
       "</div>"
      ],
      "text/plain": [
       "            user_id first_date region   device group                  ab_test\n",
       "0  D72A72121175D8BE 2020-12-07     EU       PC     A  recommender_system_test\n",
       "1  E6DE857AFBDC6102 2020-12-07     EU       PC     B  recommender_system_test\n",
       "2  DD4352CDCF8C3D57 2020-12-07     EU  Android     B  recommender_system_test\n",
       "3  831887FE7F2D6CBA 2020-12-07     EU  Android     A  recommender_system_test\n",
       "4  4CB179C7F847320B 2020-12-07     EU   iPhone     B  recommender_system_test"
      ]
     },
     "execution_count": 26,
     "metadata": {},
     "output_type": "execute_result"
    }
   ],
   "source": [
    "\n",
    "part_users = users.merge(participants.query('ab_test == \"recommender_system_test\"'), on='user_id')\n",
    "part_users.head()\n"
   ]
  },
  {
   "cell_type": "code",
   "execution_count": 27,
   "metadata": {},
   "outputs": [
    {
     "name": "stdout",
     "output_type": "stream",
     "text": [
      "2020-12-21 00:00:00\n"
     ]
    }
   ],
   "source": [
    "print (part_users['first_date'].max())"
   ]
  },
  {
   "cell_type": "markdown",
   "metadata": {},
   "source": [
    "<div class=\"alert alert-block alert-warning\">📝\n",
    "    \n",
    "\n",
    "__Комментарий от тимлида №1__\n",
    "\n",
    "\n",
    "По сути срез корректный (его нужно оставить).\n",
    "    \n",
    "Но выше ты смотришь на все логи, они могут хоть за 10 лет быть. Проверять на ТЗ мы должны только данные, которые относятся к нашему тесту.. В данном случае, у тебя получается, что набор новых пользователей был осуществлён 23 числа и мы можем грешить на инженеров. Но давай посмотрим именно дату остановки набора именно нашего теста? Для этого объединим таблицы participants с нужным тестом и new_users. И посмотрим на окончание теста? Соответствует ли оно заданию?\n",
    "</div>"
   ]
  },
  {
   "cell_type": "markdown",
   "metadata": {},
   "source": [
    "<div class=\"alert alert-info\"> <b>Комментарии студента:</b> Вот это да, а получается, что дата соответствует тз) Спасибо за рекомендацию! </div>\n",
    "    "
   ]
  },
  {
   "cell_type": "markdown",
   "metadata": {},
   "source": [
    "<div class=\"alert alert-block alert-success\">✔️\n",
    "    \n",
    "\n",
    "__Комментарий от тимлида №2__\n",
    "\n",
    "Верно, и теперь мы не ругаем инженеров, а наоборот - хвалим)\n",
    "</div>"
   ]
  },
  {
   "cell_type": "code",
   "execution_count": 28,
   "metadata": {},
   "outputs": [],
   "source": [
    "# делаем фильтр до 21 декабря, но как будто можно обойтись и без фильтрации: \n",
    "new_users = users[users['first_date'] <= \"2020-12-21 00:00:00\"]"
   ]
  },
  {
   "cell_type": "markdown",
   "metadata": {},
   "source": [
    "Проверим себя: Сделаю фильтр по recommender_system_test тесту и уточню, что новые пользователи набирались в соответствии датой окончания набора по ТЗ: "
   ]
  },
  {
   "cell_type": "code",
   "execution_count": 29,
   "metadata": {},
   "outputs": [],
   "source": [
    "# фильтр по нужному нам тесту\n",
    "recom_users = users[users['user_id'].isin(participants.query('ab_test == \"recommender_system_test\"')['user_id'])]\n"
   ]
  },
  {
   "cell_type": "code",
   "execution_count": 30,
   "metadata": {},
   "outputs": [
    {
     "data": {
      "text/plain": [
       "Timestamp('2020-12-07 00:00:00')"
      ]
     },
     "metadata": {},
     "output_type": "display_data"
    },
    {
     "data": {
      "text/plain": [
       "Timestamp('2020-12-21 00:00:00')"
      ]
     },
     "execution_count": 30,
     "metadata": {},
     "output_type": "execute_result"
    }
   ],
   "source": [
    "# проверяем даты запуска теста и дата окончания набора новых пользователей\n",
    "display(recom_users['first_date'].min())\n",
    "recom_users['first_date'].max()"
   ]
  },
  {
   "cell_type": "code",
   "execution_count": 31,
   "metadata": {},
   "outputs": [
    {
     "data": {
      "text/plain": [
       "Timestamp('2020-12-23 00:00:00')"
      ]
     },
     "execution_count": 31,
     "metadata": {},
     "output_type": "execute_result"
    }
   ],
   "source": [
    "users['first_date'].max()"
   ]
  },
  {
   "cell_type": "markdown",
   "metadata": {},
   "source": [
    "Максимальная дата нашего теста сходится с ТЗ. Даты запуска теста и дата окончания набора новых пользователей верны - 7 и 21 декабря 2020. "
   ]
  },
  {
   "cell_type": "markdown",
   "metadata": {},
   "source": [
    "#### регион регистрации пользователей: все ли попавшие в тест пользователи представляют целевой регион и составляет ли общее количество пользователей из целевого региона 15% от общего числа пользователей из целевого региона, зарегистрированных в период набора пользователей в тест"
   ]
  },
  {
   "cell_type": "code",
   "execution_count": 32,
   "metadata": {},
   "outputs": [
    {
     "name": "stdout",
     "output_type": "stream",
     "text": [
      "EU           6351\n",
      "N.America     223\n",
      "APAC           72\n",
      "CIS            55\n",
      "Name: region, dtype: int64\n",
      "EU           42340\n",
      "N.America     8347\n",
      "CIS           2900\n",
      "APAC          2883\n",
      "Name: region, dtype: int64\n"
     ]
    }
   ],
   "source": [
    "print(recom_users['region'].value_counts())\n",
    "print(new_users['region'].value_counts())"
   ]
  },
  {
   "cell_type": "code",
   "execution_count": 33,
   "metadata": {},
   "outputs": [
    {
     "data": {
      "text/plain": [
       "15.0"
      ]
     },
     "execution_count": 33,
     "metadata": {},
     "output_type": "execute_result"
    }
   ],
   "source": [
    "# Считаем процент пользователей из EU\n",
    "round((recom_users.query('region == \"EU\"')['region'].count()/new_users.query('region == \"EU\"')['region'].count())*100,2)\n"
   ]
  },
  {
   "cell_type": "markdown",
   "metadata": {},
   "source": [
    "<div class=\"alert alert-block alert-success\">✔️\n",
    "    \n",
    "\n",
    "__Комментарий от тимлида №1__\n",
    "\n",
    "Ты верно посчитала этот пункт\n",
    "</div>"
   ]
  },
  {
   "cell_type": "markdown",
   "metadata": {},
   "source": [
    "Аудитория теста состоит из пользвателей из Европы, Северной Америки, Азии и региона тихого океана, а так же постсоветстких республик. Преобладают пользователи из Европы. По ТЗ сказано, что аудиторией теста должны быть 15% новых пользователей из региона EU, по данным видно, что аудитория из Европы составляет 6351 из всех 43340 новых клиентов с этого региона, что соответствует ТЗ в 15%."
   ]
  },
  {
   "cell_type": "markdown",
   "metadata": {},
   "source": [
    "Вывод:\n",
    "\n",
    "Название теста верное - recommender_system_test, в таблице есть данные по конкурирующему тесту interface_eu_test\n",
    "Группа А — контрольная, B — новая платёжная воронка.\n",
    "Даты запуска теста и дата окончания набора новых пользователей верны - 7 и 21 декабря 2020\n",
    "Дата последнего события - 30 декабря 2020, по ТЗ тест должен длится до 4 января 2021\n",
    "Аудитория теста - это в основном пользователи из Европы, также присутствуют пользователи из других стран. По ТЗ сказано, что аудиторией теста должны быть 15% новых пользователей из региона EU, по данным видно, что аудитория из Европы составляет 6351 из всех 43340 новых клиентов с этого региона, что соответствует ТЗ в 15%."
   ]
  },
  {
   "cell_type": "markdown",
   "metadata": {},
   "source": [
    "<a id='#interface_eu_test'></a>"
   ]
  },
  {
   "cell_type": "markdown",
   "metadata": {},
   "source": [
    "### Пересечения с конкурирующим тестом\n",
    "#### Удостоверьтесь, что нет пересечений с конкурирующим тестом и нет пользователей, участвующих в двух группах теста одновременно."
   ]
  },
  {
   "cell_type": "code",
   "execution_count": 34,
   "metadata": {},
   "outputs": [
    {
     "data": {
      "text/plain": [
       "16666"
      ]
     },
     "execution_count": 34,
     "metadata": {},
     "output_type": "execute_result"
    }
   ],
   "source": [
    "participants['user_id'].nunique()"
   ]
  },
  {
   "cell_type": "code",
   "execution_count": 35,
   "metadata": {},
   "outputs": [
    {
     "data": {
      "text/html": [
       "<div>\n",
       "<style scoped>\n",
       "    .dataframe tbody tr th:only-of-type {\n",
       "        vertical-align: middle;\n",
       "    }\n",
       "\n",
       "    .dataframe tbody tr th {\n",
       "        vertical-align: top;\n",
       "    }\n",
       "\n",
       "    .dataframe thead th {\n",
       "        text-align: right;\n",
       "    }\n",
       "</style>\n",
       "<table border=\"1\" class=\"dataframe\">\n",
       "  <thead>\n",
       "    <tr style=\"text-align: right;\">\n",
       "      <th></th>\n",
       "      <th></th>\n",
       "      <th>user_id</th>\n",
       "    </tr>\n",
       "    <tr>\n",
       "      <th>ab_test</th>\n",
       "      <th>group</th>\n",
       "      <th></th>\n",
       "    </tr>\n",
       "  </thead>\n",
       "  <tbody>\n",
       "    <tr>\n",
       "      <th rowspan=\"2\" valign=\"top\">interface_eu_test</th>\n",
       "      <th>A</th>\n",
       "      <td>5831</td>\n",
       "    </tr>\n",
       "    <tr>\n",
       "      <th>B</th>\n",
       "      <td>5736</td>\n",
       "    </tr>\n",
       "    <tr>\n",
       "      <th rowspan=\"2\" valign=\"top\">recommender_system_test</th>\n",
       "      <th>A</th>\n",
       "      <td>3824</td>\n",
       "    </tr>\n",
       "    <tr>\n",
       "      <th>B</th>\n",
       "      <td>2877</td>\n",
       "    </tr>\n",
       "  </tbody>\n",
       "</table>\n",
       "</div>"
      ],
      "text/plain": [
       "                               user_id\n",
       "ab_test                 group         \n",
       "interface_eu_test       A         5831\n",
       "                        B         5736\n",
       "recommender_system_test A         3824\n",
       "                        B         2877"
      ]
     },
     "execution_count": 35,
     "metadata": {},
     "output_type": "execute_result"
    }
   ],
   "source": [
    "participants.groupby(['ab_test', 'group']).agg({'user_id': 'nunique'})"
   ]
  },
  {
   "cell_type": "code",
   "execution_count": 36,
   "metadata": {},
   "outputs": [
    {
     "data": {
      "text/plain": [
       "A    3824\n",
       "B    2877\n",
       "Name: group, dtype: int64"
      ]
     },
     "execution_count": 36,
     "metadata": {},
     "output_type": "execute_result"
    }
   ],
   "source": [
    "# проверим равномерность распределения пользователей по тестовым группам \n",
    "participants.query('ab_test == \"recommender_system_test\"')['group'].value_counts()"
   ]
  },
  {
   "cell_type": "markdown",
   "metadata": {},
   "source": [
    "В группе А теста  - 3634 человек, а в группе В - 2717 человек, всего 6351 человек. Группы делятся не равномерно - 57% (А) и 43% (В)."
   ]
  },
  {
   "cell_type": "code",
   "execution_count": 37,
   "metadata": {},
   "outputs": [
    {
     "data": {
      "text/plain": [
       "1602"
      ]
     },
     "execution_count": 37,
     "metadata": {},
     "output_type": "execute_result"
    }
   ],
   "source": [
    "tests = participants.groupby('user_id').agg({'ab_test': 'nunique'}).sort_values(by = 'ab_test', ascending = False).reset_index()\n",
    "# добавили к бзерам количество тестов, в которое они входят (1 или 2)\n",
    "two_test = tests.loc[tests['ab_test'] == 2]\n",
    "users_two_test = two_test['user_id']\n",
    "# выделила отдельно список пользователей, которые входят в 2 теста одновременно\n",
    "len(two_test)"
   ]
  },
  {
   "cell_type": "markdown",
   "metadata": {},
   "source": [
    "1602 пользователя входят в оба теста. Посмотрим, как эти пользователи распределяются по группам в обоих тестах: "
   ]
  },
  {
   "cell_type": "code",
   "execution_count": 38,
   "metadata": {},
   "outputs": [
    {
     "data": {
      "text/html": [
       "<div>\n",
       "<style scoped>\n",
       "    .dataframe tbody tr th:only-of-type {\n",
       "        vertical-align: middle;\n",
       "    }\n",
       "\n",
       "    .dataframe tbody tr th {\n",
       "        vertical-align: top;\n",
       "    }\n",
       "\n",
       "    .dataframe thead th {\n",
       "        text-align: right;\n",
       "    }\n",
       "</style>\n",
       "<table border=\"1\" class=\"dataframe\">\n",
       "  <thead>\n",
       "    <tr style=\"text-align: right;\">\n",
       "      <th></th>\n",
       "      <th></th>\n",
       "      <th>user_id</th>\n",
       "    </tr>\n",
       "    <tr>\n",
       "      <th>ab_test</th>\n",
       "      <th>group</th>\n",
       "      <th></th>\n",
       "    </tr>\n",
       "  </thead>\n",
       "  <tbody>\n",
       "    <tr>\n",
       "      <th rowspan=\"2\" valign=\"top\">interface_eu_test</th>\n",
       "      <th>A</th>\n",
       "      <td>819</td>\n",
       "    </tr>\n",
       "    <tr>\n",
       "      <th>B</th>\n",
       "      <td>783</td>\n",
       "    </tr>\n",
       "    <tr>\n",
       "      <th rowspan=\"2\" valign=\"top\">recommender_system_test</th>\n",
       "      <th>A</th>\n",
       "      <td>921</td>\n",
       "    </tr>\n",
       "    <tr>\n",
       "      <th>B</th>\n",
       "      <td>681</td>\n",
       "    </tr>\n",
       "  </tbody>\n",
       "</table>\n",
       "</div>"
      ],
      "text/plain": [
       "                               user_id\n",
       "ab_test                 group         \n",
       "interface_eu_test       A          819\n",
       "                        B          783\n",
       "recommender_system_test A          921\n",
       "                        B          681"
      ]
     },
     "execution_count": 38,
     "metadata": {},
     "output_type": "execute_result"
    }
   ],
   "source": [
    "users_two_test = participants.query('user_id in @users_two_test').reset_index(drop=True)\n",
    "# обрезали данные дублирующимся пользователям\n",
    "users_two_test.groupby(['ab_test', 'group']).agg({'user_id': 'nunique'})\n",
    "# вывели в какие группы входят наши пользователи"
   ]
  },
  {
   "cell_type": "markdown",
   "metadata": {},
   "source": [
    "Видно, что есть пользователи, которые также входят в обе группы recommender_system_test теста. Нельзя отрицать, что этот пользователь может входить в групу А или В теста interface_eu_test, а так же в А или В группу recommender_system_test теста. Проверим, как пользователи группы B из теста interface_eu_test распределены по группам в тесте recommender_system_test: "
   ]
  },
  {
   "cell_type": "code",
   "execution_count": 39,
   "metadata": {},
   "outputs": [
    {
     "data": {
      "text/plain": [
       "A    439\n",
       "B    344\n",
       "Name: group, dtype: int64"
      ]
     },
     "execution_count": 39,
     "metadata": {},
     "output_type": "execute_result"
    }
   ],
   "source": [
    "# смотрим на распределние пользователей из гр В\n",
    "df_test_B = participants[participants['user_id'].duplicated()].query('group == \"B\"')['user_id']\n",
    "(participants[participants['user_id'].isin(df_test_B)]\\\n",
    "                                     .query('ab_test == \"recommender_system_test\"')['group']\\\n",
    "                                     .value_counts())"
   ]
  },
  {
   "cell_type": "markdown",
   "metadata": {},
   "source": [
    "Вывод: Можно заметить практически равномерное распределение пользователей группы B теста interface_eu_test в нашем тесте recommender_system_test (439 против 344, разница около 6%). Делаем вывод, что тест interface_eu_test одинаково влиял на recommender_system_test для групп А и В. Вероятно, это влияние не должно отразиться на итоговом результате - конверсии в группе В к группе А. Далее проверим присутствуют ли пользователи, входящие в обе группы А и В теста recommender_system_test: "
   ]
  },
  {
   "cell_type": "markdown",
   "metadata": {},
   "source": [
    "<div class=\"alert alert-block alert-success\">✔️\n",
    "    \n",
    "\n",
    "__Комментарий от тимлида №1__\n",
    "\n",
    "Верное наблюдение.\n",
    "\n",
    "В данной ситуации, наиболее корректным решением будет проверить в какие именно группы теста interface_eu_test попали пользователи теста recommender_system_test. Ведь если они попали только в контрольную группу - это значит, что тест interface_eu_test никак на них не повлиял"
   ]
  },
  {
   "cell_type": "code",
   "execution_count": 40,
   "metadata": {},
   "outputs": [
    {
     "data": {
      "text/plain": [
       "0"
      ]
     },
     "execution_count": 40,
     "metadata": {},
     "output_type": "execute_result"
    }
   ],
   "source": [
    "participants.query('ab_test == \"recommender_system_test\"')['user_id'].duplicated().sum()\n"
   ]
  },
  {
   "cell_type": "markdown",
   "metadata": {},
   "source": [
    "Мы не обнаружили таких пользователей. "
   ]
  },
  {
   "cell_type": "markdown",
   "metadata": {},
   "source": [
    "<div class=\"alert alert-block alert-success\">✔️\n",
    "    \n",
    "\n",
    "__Комментарий от тимлида №1__\n",
    "\n",
    "Да, внутри теста всё хорошо"
   ]
  },
  {
   "cell_type": "markdown",
   "metadata": {},
   "source": [
    "<a id='user_activity'></a>"
   ]
  },
  {
   "cell_type": "markdown",
   "metadata": {},
   "source": [
    "### Данные пользовательской активности"
   ]
  },
  {
   "cell_type": "markdown",
   "metadata": {},
   "source": [
    "#### Рассчитаем горизонт анализа, лайфтайм совершения события пользователем после регистрации и отфильтруем датафрейм: "
   ]
  },
  {
   "cell_type": "code",
   "execution_count": 41,
   "metadata": {},
   "outputs": [
    {
     "data": {
      "text/plain": [
       "6701"
      ]
     },
     "metadata": {},
     "output_type": "display_data"
    },
    {
     "data": {
      "text/plain": [
       "6701"
      ]
     },
     "metadata": {},
     "output_type": "display_data"
    }
   ],
   "source": [
    "# объединяем таблицы \n",
    "recom_users_ab = recom_users.merge(participants.query('ab_test == \"recommender_system_test\"'), on='user_id')\n",
    "display(recom_users_ab.user_id.nunique())\n",
    "recom_users_ab = recom_users_ab.merge(events, how='left', on='user_id')\n",
    "display(recom_users_ab.user_id.nunique())"
   ]
  },
  {
   "cell_type": "markdown",
   "metadata": {},
   "source": [
    "Приведем столбец датафрейма recom_users_ab['event_dt'] к корректному формату и установим фильтр в 14 дней в соответствии с горизонтом событий: "
   ]
  },
  {
   "cell_type": "code",
   "execution_count": 42,
   "metadata": {},
   "outputs": [],
   "source": [
    "recom_users_ab['event_dt'] = pd.to_datetime(recom_users_ab['event_dt'])\n"
   ]
  },
  {
   "cell_type": "code",
   "execution_count": 43,
   "metadata": {},
   "outputs": [
    {
     "data": {
      "text/plain": [
       "6701"
      ]
     },
     "metadata": {},
     "output_type": "display_data"
    },
    {
     "data": {
      "text/plain": [
       "3165"
      ]
     },
     "metadata": {},
     "output_type": "display_data"
    },
    {
     "name": "stdout",
     "output_type": "stream",
     "text": [
      "3165\n"
     ]
    },
    {
     "name": "stderr",
     "output_type": "stream",
     "text": [
      "/tmp/ipykernel_387/4136099817.py:18: SettingWithCopyWarning: \n",
      "A value is trying to be set on a copy of a slice from a DataFrame.\n",
      "Try using .loc[row_indexer,col_indexer] = value instead\n",
      "\n",
      "See the caveats in the documentation: https://pandas.pydata.org/pandas-docs/stable/user_guide/indexing.html#returning-a-view-versus-a-copy\n",
      "  recom_users_ab['lifetime'] = (recom_users_ab['event_dt'] - recom_users_ab['first_date']).dt.days\n"
     ]
    }
   ],
   "source": [
    "# делаем фильтр в 14 дней\n",
    "\n",
    "#горизонт событий - 14 дней, \n",
    "#последняя дата наблюдения - 4 января, \n",
    "#последняя подходящая для анализа дата (4 января - 14 дней) \n",
    "\n",
    "horizon_days = 14\n",
    "observation_date = datetime(2021, 1, 4).date()\n",
    "last_suitable_acquisition_date = observation_date - timedelta(days = horizon_days)\n",
    "\n",
    "#фильтруем по дате последнего набора пользователей \n",
    "#добавляем лайфтайм пользователя\n",
    "#делаем по нему фильтр в 14 дней \n",
    "display(recom_users_ab.user_id.nunique())\n",
    "test_1 = recom_users_ab\n",
    "recom_users_ab = recom_users_ab.query('event_dt <= @last_suitable_acquisition_date')\n",
    "display(recom_users_ab.user_id.nunique())\n",
    "recom_users_ab['lifetime'] = (recom_users_ab['event_dt'] - recom_users_ab['first_date']).dt.days\n",
    "recom_users_ab = recom_users_ab.query('lifetime <= 14')\n",
    "print(recom_users_ab.user_id.nunique())\n"
   ]
  },
  {
   "cell_type": "code",
   "execution_count": 44,
   "metadata": {},
   "outputs": [
    {
     "data": {
      "text/plain": [
       "datetime.date(2020, 12, 21)"
      ]
     },
     "execution_count": 44,
     "metadata": {},
     "output_type": "execute_result"
    }
   ],
   "source": [
    "last_suitable_acquisition_date"
   ]
  },
  {
   "cell_type": "markdown",
   "metadata": {},
   "source": []
  },
  {
   "cell_type": "markdown",
   "metadata": {},
   "source": [
    "<div class=\"alert alert-block alert-danger\">✍\n",
    "    \n",
    "\n",
    "__Комментарий от  тимлида №1__\n",
    "\n",
    "По ТЗ дата остановки набора новых пользователей: 2020-12-21. Нам следует отфильтровать события с лайфтаймом больше, чем горизонт событий. (т.е. удалить строки, в которых события больше 14 дней)\n",
    "    \n",
    "    \n",
    "    \n",
    "</div>"
   ]
  },
  {
   "cell_type": "markdown",
   "metadata": {},
   "source": [
    "<div class=\"alert alert-info\"> <b>Комментарии студента:</b>Кажется, исправила. Посмотри пожалуйста!</div>\n",
    "    "
   ]
  },
  {
   "cell_type": "markdown",
   "metadata": {},
   "source": [
    "<div class=\"alert alert-block alert-success\">✔️\n",
    "    \n",
    "\n",
    "__Комментарий от тимлида №2__\n",
    "\n",
    "Корректная реализация. Молодец!\n",
    "</div>"
   ]
  },
  {
   "cell_type": "code",
   "execution_count": 45,
   "metadata": {},
   "outputs": [
    {
     "data": {
      "text/plain": [
       "14"
      ]
     },
     "execution_count": 45,
     "metadata": {},
     "output_type": "execute_result"
    }
   ],
   "source": [
    "recom_users_ab.lifetime.nunique()"
   ]
  },
  {
   "cell_type": "markdown",
   "metadata": {},
   "source": [
    "*вывод:*\n",
    "\n",
    "- Мы оценили список участников нашего теста - recommender_system_test,а так же в датафрейме увиделиинформацию по конкурирующему тесту interface_eu_test\n",
    "\n",
    "- Мы предполагаем, что группа А — контрольная, B имеет нововведения.\n",
    "\n",
    "- Даты запуска теста и дата окончания набора новых пользователей верны - 7 и 21 декабря 2020 (по нашему тесту не потребовали коррекции)\n",
    "\n",
    "- Аудитория теста: преобладают пользователи из Европы, также присутствуют пользователи из других регионов. По ТЗ сказано, что аудиторией теста должны быть 15% новых пользователей из региона EU, по данным видно, что аудитория из Европы составляет 6351 из всех 43340 новых клиентов с этого региона, что соответствует ТЗ в 15%.\n",
    "\n",
    "- Можно заметить практически равномерное распределение пользователей группы B теста interface_eu_test в тесте recommender_system_test (разница около 6%). Можно констатировать, что тест interface_eu_test одинаково влиял на recommender_system_test для групп А и В. Следовательно, это влияние не должно отразиться на итоговом результате - конверсии в группе В к группе А."
   ]
  },
  {
   "cell_type": "markdown",
   "metadata": {},
   "source": [
    "#### Оцените динамику набора пользователей в группы теста и проверьте равномерность распределения пользователей по группам теста и корректность их формирования, а так же изобразим графически: "
   ]
  },
  {
   "cell_type": "code",
   "execution_count": 46,
   "metadata": {},
   "outputs": [
    {
     "data": {
      "text/html": [
       "<div>\n",
       "<style scoped>\n",
       "    .dataframe tbody tr th:only-of-type {\n",
       "        vertical-align: middle;\n",
       "    }\n",
       "\n",
       "    .dataframe tbody tr th {\n",
       "        vertical-align: top;\n",
       "    }\n",
       "\n",
       "    .dataframe thead th {\n",
       "        text-align: right;\n",
       "    }\n",
       "</style>\n",
       "<table border=\"1\" class=\"dataframe\">\n",
       "  <thead>\n",
       "    <tr style=\"text-align: right;\">\n",
       "      <th></th>\n",
       "      <th>user_id</th>\n",
       "      <th>first_date</th>\n",
       "      <th>region</th>\n",
       "      <th>device</th>\n",
       "      <th>group</th>\n",
       "      <th>ab_test</th>\n",
       "      <th>event_dt</th>\n",
       "      <th>event_name</th>\n",
       "      <th>details</th>\n",
       "    </tr>\n",
       "  </thead>\n",
       "  <tbody>\n",
       "    <tr>\n",
       "      <th>0</th>\n",
       "      <td>D72A72121175D8BE</td>\n",
       "      <td>2020-12-07</td>\n",
       "      <td>EU</td>\n",
       "      <td>PC</td>\n",
       "      <td>A</td>\n",
       "      <td>recommender_system_test</td>\n",
       "      <td>2020-12-07 21:52:10</td>\n",
       "      <td>product_page</td>\n",
       "      <td>NaN</td>\n",
       "    </tr>\n",
       "    <tr>\n",
       "      <th>1</th>\n",
       "      <td>D72A72121175D8BE</td>\n",
       "      <td>2020-12-07</td>\n",
       "      <td>EU</td>\n",
       "      <td>PC</td>\n",
       "      <td>A</td>\n",
       "      <td>recommender_system_test</td>\n",
       "      <td>2020-12-07 21:52:07</td>\n",
       "      <td>login</td>\n",
       "      <td>NaN</td>\n",
       "    </tr>\n",
       "    <tr>\n",
       "      <th>2</th>\n",
       "      <td>E6DE857AFBDC6102</td>\n",
       "      <td>2020-12-07</td>\n",
       "      <td>EU</td>\n",
       "      <td>PC</td>\n",
       "      <td>B</td>\n",
       "      <td>recommender_system_test</td>\n",
       "      <td>NaT</td>\n",
       "      <td>NaN</td>\n",
       "      <td>NaN</td>\n",
       "    </tr>\n",
       "    <tr>\n",
       "      <th>3</th>\n",
       "      <td>DD4352CDCF8C3D57</td>\n",
       "      <td>2020-12-07</td>\n",
       "      <td>EU</td>\n",
       "      <td>Android</td>\n",
       "      <td>B</td>\n",
       "      <td>recommender_system_test</td>\n",
       "      <td>2020-12-07 15:32:54</td>\n",
       "      <td>product_page</td>\n",
       "      <td>NaN</td>\n",
       "    </tr>\n",
       "    <tr>\n",
       "      <th>4</th>\n",
       "      <td>DD4352CDCF8C3D57</td>\n",
       "      <td>2020-12-07</td>\n",
       "      <td>EU</td>\n",
       "      <td>Android</td>\n",
       "      <td>B</td>\n",
       "      <td>recommender_system_test</td>\n",
       "      <td>2020-12-08 08:29:31</td>\n",
       "      <td>product_page</td>\n",
       "      <td>NaN</td>\n",
       "    </tr>\n",
       "  </tbody>\n",
       "</table>\n",
       "</div>"
      ],
      "text/plain": [
       "            user_id first_date region   device group                  ab_test  \\\n",
       "0  D72A72121175D8BE 2020-12-07     EU       PC     A  recommender_system_test   \n",
       "1  D72A72121175D8BE 2020-12-07     EU       PC     A  recommender_system_test   \n",
       "2  E6DE857AFBDC6102 2020-12-07     EU       PC     B  recommender_system_test   \n",
       "3  DD4352CDCF8C3D57 2020-12-07     EU  Android     B  recommender_system_test   \n",
       "4  DD4352CDCF8C3D57 2020-12-07     EU  Android     B  recommender_system_test   \n",
       "\n",
       "             event_dt    event_name  details  \n",
       "0 2020-12-07 21:52:10  product_page      NaN  \n",
       "1 2020-12-07 21:52:07         login      NaN  \n",
       "2                 NaT           NaN      NaN  \n",
       "3 2020-12-07 15:32:54  product_page      NaN  \n",
       "4 2020-12-08 08:29:31  product_page      NaN  "
      ]
     },
     "execution_count": 46,
     "metadata": {},
     "output_type": "execute_result"
    }
   ],
   "source": [
    "test_1.head()"
   ]
  },
  {
   "cell_type": "code",
   "execution_count": 47,
   "metadata": {},
   "outputs": [
    {
     "data": {
      "text/html": [
       "<div>\n",
       "<style scoped>\n",
       "    .dataframe tbody tr th:only-of-type {\n",
       "        vertical-align: middle;\n",
       "    }\n",
       "\n",
       "    .dataframe tbody tr th {\n",
       "        vertical-align: top;\n",
       "    }\n",
       "\n",
       "    .dataframe thead th {\n",
       "        text-align: right;\n",
       "    }\n",
       "</style>\n",
       "<table border=\"1\" class=\"dataframe\">\n",
       "  <thead>\n",
       "    <tr style=\"text-align: right;\">\n",
       "      <th></th>\n",
       "      <th>first_date</th>\n",
       "      <th>group</th>\n",
       "      <th>users_count</th>\n",
       "    </tr>\n",
       "  </thead>\n",
       "  <tbody>\n",
       "    <tr>\n",
       "      <th>0</th>\n",
       "      <td>2020-12-07</td>\n",
       "      <td>A</td>\n",
       "      <td>204</td>\n",
       "    </tr>\n",
       "    <tr>\n",
       "      <th>1</th>\n",
       "      <td>2020-12-07</td>\n",
       "      <td>B</td>\n",
       "      <td>96</td>\n",
       "    </tr>\n",
       "    <tr>\n",
       "      <th>2</th>\n",
       "      <td>2020-12-08</td>\n",
       "      <td>A</td>\n",
       "      <td>107</td>\n",
       "    </tr>\n",
       "    <tr>\n",
       "      <th>3</th>\n",
       "      <td>2020-12-08</td>\n",
       "      <td>B</td>\n",
       "      <td>115</td>\n",
       "    </tr>\n",
       "    <tr>\n",
       "      <th>4</th>\n",
       "      <td>2020-12-09</td>\n",
       "      <td>A</td>\n",
       "      <td>65</td>\n",
       "    </tr>\n",
       "    <tr>\n",
       "      <th>5</th>\n",
       "      <td>2020-12-09</td>\n",
       "      <td>B</td>\n",
       "      <td>26</td>\n",
       "    </tr>\n",
       "    <tr>\n",
       "      <th>6</th>\n",
       "      <td>2020-12-10</td>\n",
       "      <td>A</td>\n",
       "      <td>133</td>\n",
       "    </tr>\n",
       "    <tr>\n",
       "      <th>7</th>\n",
       "      <td>2020-12-10</td>\n",
       "      <td>B</td>\n",
       "      <td>159</td>\n",
       "    </tr>\n",
       "    <tr>\n",
       "      <th>8</th>\n",
       "      <td>2020-12-11</td>\n",
       "      <td>A</td>\n",
       "      <td>73</td>\n",
       "    </tr>\n",
       "    <tr>\n",
       "      <th>9</th>\n",
       "      <td>2020-12-11</td>\n",
       "      <td>B</td>\n",
       "      <td>91</td>\n",
       "    </tr>\n",
       "    <tr>\n",
       "      <th>10</th>\n",
       "      <td>2020-12-12</td>\n",
       "      <td>A</td>\n",
       "      <td>212</td>\n",
       "    </tr>\n",
       "    <tr>\n",
       "      <th>11</th>\n",
       "      <td>2020-12-12</td>\n",
       "      <td>B</td>\n",
       "      <td>160</td>\n",
       "    </tr>\n",
       "    <tr>\n",
       "      <th>12</th>\n",
       "      <td>2020-12-13</td>\n",
       "      <td>A</td>\n",
       "      <td>283</td>\n",
       "    </tr>\n",
       "    <tr>\n",
       "      <th>13</th>\n",
       "      <td>2020-12-13</td>\n",
       "      <td>B</td>\n",
       "      <td>227</td>\n",
       "    </tr>\n",
       "    <tr>\n",
       "      <th>14</th>\n",
       "      <td>2020-12-14</td>\n",
       "      <td>B</td>\n",
       "      <td>206</td>\n",
       "    </tr>\n",
       "    <tr>\n",
       "      <th>15</th>\n",
       "      <td>2020-12-15</td>\n",
       "      <td>B</td>\n",
       "      <td>119</td>\n",
       "    </tr>\n",
       "    <tr>\n",
       "      <th>16</th>\n",
       "      <td>2020-12-16</td>\n",
       "      <td>B</td>\n",
       "      <td>17</td>\n",
       "    </tr>\n",
       "    <tr>\n",
       "      <th>17</th>\n",
       "      <td>2020-12-17</td>\n",
       "      <td>B</td>\n",
       "      <td>108</td>\n",
       "    </tr>\n",
       "    <tr>\n",
       "      <th>18</th>\n",
       "      <td>2020-12-18</td>\n",
       "      <td>B</td>\n",
       "      <td>127</td>\n",
       "    </tr>\n",
       "    <tr>\n",
       "      <th>19</th>\n",
       "      <td>2020-12-19</td>\n",
       "      <td>B</td>\n",
       "      <td>137</td>\n",
       "    </tr>\n",
       "    <tr>\n",
       "      <th>20</th>\n",
       "      <td>2020-12-20</td>\n",
       "      <td>B</td>\n",
       "      <td>148</td>\n",
       "    </tr>\n",
       "    <tr>\n",
       "      <th>21</th>\n",
       "      <td>2020-12-21</td>\n",
       "      <td>B</td>\n",
       "      <td>213</td>\n",
       "    </tr>\n",
       "  </tbody>\n",
       "</table>\n",
       "</div>"
      ],
      "text/plain": [
       "   first_date group  users_count\n",
       "0  2020-12-07     A          204\n",
       "1  2020-12-07     B           96\n",
       "2  2020-12-08     A          107\n",
       "3  2020-12-08     B          115\n",
       "4  2020-12-09     A           65\n",
       "5  2020-12-09     B           26\n",
       "6  2020-12-10     A          133\n",
       "7  2020-12-10     B          159\n",
       "8  2020-12-11     A           73\n",
       "9  2020-12-11     B           91\n",
       "10 2020-12-12     A          212\n",
       "11 2020-12-12     B          160\n",
       "12 2020-12-13     A          283\n",
       "13 2020-12-13     B          227\n",
       "14 2020-12-14     B          206\n",
       "15 2020-12-15     B          119\n",
       "16 2020-12-16     B           17\n",
       "17 2020-12-17     B          108\n",
       "18 2020-12-18     B          127\n",
       "19 2020-12-19     B          137\n",
       "20 2020-12-20     B          148\n",
       "21 2020-12-21     B          213"
      ]
     },
     "execution_count": 47,
     "metadata": {},
     "output_type": "execute_result"
    }
   ],
   "source": [
    "# фильтруем пользователей, которые прошли только регистрацию\n",
    "test_2 = test_1[test_1['event_dt'].isna()]\n",
    "test_2 = (test_2.groupby(['first_date','group'], as_index=False)['user_id'].nunique()\n",
    "                            .rename(columns={'user_id':'users_count'}))\n",
    "test_2"
   ]
  },
  {
   "cell_type": "code",
   "execution_count": 48,
   "metadata": {},
   "outputs": [
    {
     "data": {
      "image/png": "[encoded data removed]"
     },
     "metadata": {},
     "output_type": "display_data"
    }
   ],
   "source": [
    "fig = px.bar(test_2, x='first_date', y='users_count', color='group', \n",
    "             title='Динамика набора пользователей в тестовые группы по дням', \n",
    "             color_discrete_sequence=[\"goldenrod\", \"purple\"])\n",
    "fig.update_xaxes(title_text='Дата')\n",
    "fig.update_yaxes(title_text='Количество уникальных пользователей')\n",
    "\n",
    "fig.show(\"png\")\n"
   ]
  },
  {
   "cell_type": "code",
   "execution_count": 49,
   "metadata": {},
   "outputs": [
    {
     "data": {
      "text/plain": [
       "3026"
      ]
     },
     "execution_count": 49,
     "metadata": {},
     "output_type": "execute_result"
    }
   ],
   "source": [
    "test_2['users_count'].sum()"
   ]
  },
  {
   "cell_type": "markdown",
   "metadata": {},
   "source": [
    "ВЫВОД:\n",
    "\n",
    "По графику определяем, что после 14 декабря набор происходит только в группу B. Таких пользователей можно отфильтровать"
   ]
  },
  {
   "cell_type": "markdown",
   "metadata": {},
   "source": [
    "<div class=\"alert alert-block alert-success\">✔️\n",
    "    \n",
    "\n",
    "__Комментарий от тимлида №1__\n",
    "\n",
    "Верное наблюдение! "
   ]
  },
  {
   "cell_type": "markdown",
   "metadata": {},
   "source": [
    "#### Изучим активность пользователей: все ли зарегистрированные пользователи прошли авторизацию и совершали переход по продуктовой воронке; если есть пользователи, которые не совершали событий после регистрации, изучите их количество и распределение между группами теста; сделайте вывод о необходимости учитывать пользователей без событий при изучении результатов теста;"
   ]
  },
  {
   "cell_type": "markdown",
   "metadata": {},
   "source": [
    "Изучим количество событий по пользователям:  "
   ]
  },
  {
   "cell_type": "code",
   "execution_count": 50,
   "metadata": {},
   "outputs": [
    {
     "data": {
      "text/html": [
       "<div>\n",
       "<style scoped>\n",
       "    .dataframe tbody tr th:only-of-type {\n",
       "        vertical-align: middle;\n",
       "    }\n",
       "\n",
       "    .dataframe tbody tr th {\n",
       "        vertical-align: top;\n",
       "    }\n",
       "\n",
       "    .dataframe thead th {\n",
       "        text-align: right;\n",
       "    }\n",
       "</style>\n",
       "<table border=\"1\" class=\"dataframe\">\n",
       "  <thead>\n",
       "    <tr style=\"text-align: right;\">\n",
       "      <th></th>\n",
       "      <th>user_id</th>\n",
       "      <th>event_name</th>\n",
       "      <th>events_count</th>\n",
       "      <th>group</th>\n",
       "    </tr>\n",
       "  </thead>\n",
       "  <tbody>\n",
       "    <tr>\n",
       "      <th>0</th>\n",
       "      <td>001064FEAAB631A1</td>\n",
       "      <td>login</td>\n",
       "      <td>1</td>\n",
       "      <td>B</td>\n",
       "    </tr>\n",
       "    <tr>\n",
       "      <th>2</th>\n",
       "      <td>001064FEAAB631A1</td>\n",
       "      <td>product_page</td>\n",
       "      <td>1</td>\n",
       "      <td>B</td>\n",
       "    </tr>\n",
       "    <tr>\n",
       "      <th>4</th>\n",
       "      <td>0010A1C096941592</td>\n",
       "      <td>login</td>\n",
       "      <td>2</td>\n",
       "      <td>A</td>\n",
       "    </tr>\n",
       "    <tr>\n",
       "      <th>10</th>\n",
       "      <td>0010A1C096941592</td>\n",
       "      <td>product_page</td>\n",
       "      <td>2</td>\n",
       "      <td>A</td>\n",
       "    </tr>\n",
       "    <tr>\n",
       "      <th>16</th>\n",
       "      <td>0010A1C096941592</td>\n",
       "      <td>purchase</td>\n",
       "      <td>2</td>\n",
       "      <td>A</td>\n",
       "    </tr>\n",
       "  </tbody>\n",
       "</table>\n",
       "</div>"
      ],
      "text/plain": [
       "             user_id    event_name  events_count group\n",
       "0   001064FEAAB631A1         login             1     B\n",
       "2   001064FEAAB631A1  product_page             1     B\n",
       "4   0010A1C096941592         login             2     A\n",
       "10  0010A1C096941592  product_page             2     A\n",
       "16  0010A1C096941592      purchase             2     A"
      ]
     },
     "execution_count": 50,
     "metadata": {},
     "output_type": "execute_result"
    }
   ],
   "source": [
    "users_events = (recom_users_ab.groupby(['user_id', 'event_name'], as_index=False)['region'].count()\n",
    "                              .rename(columns={'region':'events_count'})\n",
    "                              .merge(recom_users_ab[['user_id', 'group']], on='user_id')\n",
    "                              .drop_duplicates())\n",
    "users_events.head()\n"
   ]
  },
  {
   "cell_type": "markdown",
   "metadata": {},
   "source": [
    "Определим количество событий по группам: "
   ]
  },
  {
   "cell_type": "code",
   "execution_count": 51,
   "metadata": {},
   "outputs": [],
   "source": [
    "users_events_group = (users_events.groupby(['group', 'event_name'], as_index=False)['events_count'].agg('sum'))\n",
    "users_events_group['event_by_user'] = 0"
   ]
  },
  {
   "cell_type": "code",
   "execution_count": 52,
   "metadata": {},
   "outputs": [
    {
     "data": {
      "text/html": [
       "<div>\n",
       "<style scoped>\n",
       "    .dataframe tbody tr th:only-of-type {\n",
       "        vertical-align: middle;\n",
       "    }\n",
       "\n",
       "    .dataframe tbody tr th {\n",
       "        vertical-align: top;\n",
       "    }\n",
       "\n",
       "    .dataframe thead th {\n",
       "        text-align: right;\n",
       "    }\n",
       "</style>\n",
       "<table border=\"1\" class=\"dataframe\">\n",
       "  <thead>\n",
       "    <tr style=\"text-align: right;\">\n",
       "      <th></th>\n",
       "      <th>group</th>\n",
       "      <th>event_name</th>\n",
       "      <th>events_count</th>\n",
       "      <th>event_by_user</th>\n",
       "    </tr>\n",
       "  </thead>\n",
       "  <tbody>\n",
       "    <tr>\n",
       "      <th>0</th>\n",
       "      <td>A</td>\n",
       "      <td>login</td>\n",
       "      <td>5047</td>\n",
       "      <td>0</td>\n",
       "    </tr>\n",
       "    <tr>\n",
       "      <th>1</th>\n",
       "      <td>A</td>\n",
       "      <td>product_cart</td>\n",
       "      <td>1529</td>\n",
       "      <td>0</td>\n",
       "    </tr>\n",
       "    <tr>\n",
       "      <th>2</th>\n",
       "      <td>A</td>\n",
       "      <td>product_page</td>\n",
       "      <td>3207</td>\n",
       "      <td>0</td>\n",
       "    </tr>\n",
       "    <tr>\n",
       "      <th>3</th>\n",
       "      <td>A</td>\n",
       "      <td>purchase</td>\n",
       "      <td>1515</td>\n",
       "      <td>0</td>\n",
       "    </tr>\n",
       "    <tr>\n",
       "      <th>4</th>\n",
       "      <td>B</td>\n",
       "      <td>login</td>\n",
       "      <td>1865</td>\n",
       "      <td>0</td>\n",
       "    </tr>\n",
       "  </tbody>\n",
       "</table>\n",
       "</div>"
      ],
      "text/plain": [
       "  group    event_name  events_count  event_by_user\n",
       "0     A         login          5047              0\n",
       "1     A  product_cart          1529              0\n",
       "2     A  product_page          3207              0\n",
       "3     A      purchase          1515              0\n",
       "4     B         login          1865              0"
      ]
     },
     "execution_count": 52,
     "metadata": {},
     "output_type": "execute_result"
    }
   ],
   "source": [
    "users_events_group.head()"
   ]
  },
  {
   "cell_type": "markdown",
   "metadata": {},
   "source": [
    "А теперь определим количество оставшихся в тесте пользователей в группах А и В: "
   ]
  },
  {
   "cell_type": "code",
   "execution_count": 53,
   "metadata": {},
   "outputs": [],
   "source": [
    "users_A = recom_users_ab.query('group == \"A\"')['user_id'].nunique()\n",
    "users_B = recom_users_ab.query('group == \"B\"')['user_id'].nunique()"
   ]
  },
  {
   "cell_type": "code",
   "execution_count": 54,
   "metadata": {},
   "outputs": [
    {
     "name": "stdout",
     "output_type": "stream",
     "text": [
      "Пользователей из группы А: 2330\n",
      "Пользователй из группы B: 835\n"
     ]
    }
   ],
   "source": [
    "print(\"Пользователей из группы А:\", users_A)\n",
    "print(\"Пользователй из группы B:\", users_B)"
   ]
  },
  {
   "cell_type": "markdown",
   "metadata": {},
   "source": [
    "Разница по количеству пользователей, при оценки пользовательских событий, стала ещё более ощутимой. Группа А - 2747 человек, B - 928 человек."
   ]
  },
  {
   "cell_type": "markdown",
   "metadata": {},
   "source": [
    "<div class=\"alert alert-block alert-warning\">📝\n",
    "    \n",
    "\n",
    "__Комментарий от тимлида №1__\n",
    "\n",
    "Равный размер групп дает оптимальную длительность теста, но, вообще, группы просто должны быть достаточно большими и не обязательно равными.\n",
    "    \n",
    "---\n",
    "    \n",
    "Вот здесь подробно расписано, что не все так страшно в несбалансированных выборках\n",
    "    \n",
    "https://medium.com/statistics-experiments/%D0%B4%D0%B8%D1%81%D0%B1%D0%B0%D0%BB%D0%B0%D0%BD%D1%81-%D0%B2-a-b-%D1%82%D0%B5%D1%81%D1%82%D0%B0%D1%85-%D0%B5%D1%81%D1%82%D1%8C-%D0%BB%D0%B8-%D1%80%D0%B0%D0%B7%D0%BD%D0%B8%D1%86%D0%B0-%D0%BC%D0%B5%D0%B6%D0%B4%D1%83-99-1-%D0%B8-50-50-%D0%B2-%D1%8D%D0%BA%D1%81%D0%BF%D0%B5%D1%80%D0%B8%D0%BC%D0%B5%D0%BD%D1%82%D0%B0%D1%85-11c8f4fe7eb4\n",
    "</div>"
   ]
  },
  {
   "cell_type": "markdown",
   "metadata": {},
   "source": [
    "<div class=\"alert alert-info\"> <b>Комментарии студента:</b> Большое спасибо, а я очень боялась сравнения разноразмерных выборок)Чекнула ссылку - сайт не загружается(</div>\n",
    "    "
   ]
  },
  {
   "attachments": {
    "image.png": {
     "image/png": "[encoded data removed]"
    }
   },
   "cell_type": "markdown",
   "metadata": {},
   "source": [
    "<div class=\"alert alert-block alert-success\">✔️\n",
    "    \n",
    "\n",
    "__Комментарий от тимлида №2__\n",
    "\n",
    "![image.png](attachment:image.png) Работает. Возможно некоторые провайдены блокируют и только через vpn"
   ]
  },
  {
   "cell_type": "markdown",
   "metadata": {},
   "source": [
    "<a id='data_analysis'></a>"
   ]
  },
  {
   "cell_type": "markdown",
   "metadata": {},
   "source": [
    "### Исследовательский анализ данных"
   ]
  },
  {
   "cell_type": "markdown",
   "metadata": {},
   "source": [
    "#### Распределение количества событий на пользователя в разрезе групп теста"
   ]
  },
  {
   "cell_type": "code",
   "execution_count": 55,
   "metadata": {},
   "outputs": [
    {
     "data": {
      "text/html": [
       "<div>\n",
       "<style scoped>\n",
       "    .dataframe tbody tr th:only-of-type {\n",
       "        vertical-align: middle;\n",
       "    }\n",
       "\n",
       "    .dataframe tbody tr th {\n",
       "        vertical-align: top;\n",
       "    }\n",
       "\n",
       "    .dataframe thead th {\n",
       "        text-align: right;\n",
       "    }\n",
       "</style>\n",
       "<table border=\"1\" class=\"dataframe\">\n",
       "  <thead>\n",
       "    <tr style=\"text-align: right;\">\n",
       "      <th></th>\n",
       "      <th>group</th>\n",
       "      <th>event_name</th>\n",
       "      <th>events_count</th>\n",
       "      <th>event_by_user</th>\n",
       "    </tr>\n",
       "  </thead>\n",
       "  <tbody>\n",
       "    <tr>\n",
       "      <th>0</th>\n",
       "      <td>A</td>\n",
       "      <td>login</td>\n",
       "      <td>5047</td>\n",
       "      <td>2.166094</td>\n",
       "    </tr>\n",
       "    <tr>\n",
       "      <th>1</th>\n",
       "      <td>A</td>\n",
       "      <td>product_cart</td>\n",
       "      <td>1529</td>\n",
       "      <td>0.656223</td>\n",
       "    </tr>\n",
       "    <tr>\n",
       "      <th>2</th>\n",
       "      <td>A</td>\n",
       "      <td>product_page</td>\n",
       "      <td>3207</td>\n",
       "      <td>1.376395</td>\n",
       "    </tr>\n",
       "    <tr>\n",
       "      <th>3</th>\n",
       "      <td>A</td>\n",
       "      <td>purchase</td>\n",
       "      <td>1515</td>\n",
       "      <td>0.650215</td>\n",
       "    </tr>\n",
       "    <tr>\n",
       "      <th>4</th>\n",
       "      <td>B</td>\n",
       "      <td>login</td>\n",
       "      <td>1865</td>\n",
       "      <td>2.233533</td>\n",
       "    </tr>\n",
       "    <tr>\n",
       "      <th>5</th>\n",
       "      <td>B</td>\n",
       "      <td>product_cart</td>\n",
       "      <td>512</td>\n",
       "      <td>0.613174</td>\n",
       "    </tr>\n",
       "    <tr>\n",
       "      <th>6</th>\n",
       "      <td>B</td>\n",
       "      <td>product_page</td>\n",
       "      <td>1019</td>\n",
       "      <td>1.220359</td>\n",
       "    </tr>\n",
       "    <tr>\n",
       "      <th>7</th>\n",
       "      <td>B</td>\n",
       "      <td>purchase</td>\n",
       "      <td>486</td>\n",
       "      <td>0.582036</td>\n",
       "    </tr>\n",
       "  </tbody>\n",
       "</table>\n",
       "</div>"
      ],
      "text/plain": [
       "  group    event_name  events_count  event_by_user\n",
       "0     A         login          5047       2.166094\n",
       "1     A  product_cart          1529       0.656223\n",
       "2     A  product_page          3207       1.376395\n",
       "3     A      purchase          1515       0.650215\n",
       "4     B         login          1865       2.233533\n",
       "5     B  product_cart           512       0.613174\n",
       "6     B  product_page          1019       1.220359\n",
       "7     B      purchase           486       0.582036"
      ]
     },
     "execution_count": 55,
     "metadata": {},
     "output_type": "execute_result"
    }
   ],
   "source": [
    "users_events_group.loc[users_events_group['group'] == 'A', 'event_by_user'] = (\n",
    "    users_events_group['events_count'] / users_A)\n",
    "\n",
    "users_events_group.loc[users_events_group['group'] == 'B', 'event_by_user'] = (\n",
    "    users_events_group['events_count'] / users_B)\n",
    "users_events_group"
   ]
  },
  {
   "cell_type": "code",
   "execution_count": 56,
   "metadata": {},
   "outputs": [
    {
     "data": {
      "image/png": "[encoded data removed]"
     },
     "metadata": {},
     "output_type": "display_data"
    }
   ],
   "source": [
    "fig = px.box(users_events, x=\"event_name\", y=\"events_count\", color=\"group\",\n",
    "             title=\"Количество событий на одного пользователя для групп А и В\", color_discrete_sequence=['goldenrod', 'purple'])\n",
    "\n",
    "fig.update_xaxes(title_text='Событие')\n",
    "fig.update_yaxes(title_text='Количество событий')\n",
    "\n",
    "fig.show(\"png\")"
   ]
  },
  {
   "cell_type": "markdown",
   "metadata": {},
   "source": [
    "Вывод: \n",
    "\n",
    "- Среднее количество событий login на одного клиента практически не различается между группами (A 2.15 и  B 2.21)\n",
    "- При анализе остальных событий, группа А значительно опережает группу В: \n",
    "   - product_page - просмотр страницы товара (А - 1.37, B - 1.2)\n",
    "   - product_cart - Добавление товара в корзину (А - 0.64, В - 0.61)\n",
    "   - purchase - Покупка (А - 0.65, В - 0.57)\n",
    "- Конверсия группы А выше, чем у группы В. Ожидаемый прирост в 5% не наблюдается."
   ]
  },
  {
   "cell_type": "markdown",
   "metadata": {},
   "source": [
    "#### Динамика количества событий в группах теста по дням: изучите распределение числа событий по дням и сравните динамику групп теста между собой.\n"
   ]
  },
  {
   "cell_type": "code",
   "execution_count": 57,
   "metadata": {},
   "outputs": [
    {
     "data": {
      "text/html": [
       "<div>\n",
       "<style scoped>\n",
       "    .dataframe tbody tr th:only-of-type {\n",
       "        vertical-align: middle;\n",
       "    }\n",
       "\n",
       "    .dataframe tbody tr th {\n",
       "        vertical-align: top;\n",
       "    }\n",
       "\n",
       "    .dataframe thead th {\n",
       "        text-align: right;\n",
       "    }\n",
       "</style>\n",
       "<table border=\"1\" class=\"dataframe\">\n",
       "  <thead>\n",
       "    <tr style=\"text-align: right;\">\n",
       "      <th></th>\n",
       "      <th>user_id</th>\n",
       "      <th>first_date</th>\n",
       "      <th>region</th>\n",
       "      <th>device</th>\n",
       "      <th>group</th>\n",
       "      <th>ab_test</th>\n",
       "      <th>event_dt</th>\n",
       "      <th>event_name</th>\n",
       "      <th>details</th>\n",
       "      <th>lifetime</th>\n",
       "    </tr>\n",
       "  </thead>\n",
       "  <tbody>\n",
       "    <tr>\n",
       "      <th>0</th>\n",
       "      <td>D72A72121175D8BE</td>\n",
       "      <td>2020-12-07</td>\n",
       "      <td>EU</td>\n",
       "      <td>PC</td>\n",
       "      <td>A</td>\n",
       "      <td>recommender_system_test</td>\n",
       "      <td>2020-12-07 21:52:10</td>\n",
       "      <td>product_page</td>\n",
       "      <td>NaN</td>\n",
       "      <td>0</td>\n",
       "    </tr>\n",
       "    <tr>\n",
       "      <th>1</th>\n",
       "      <td>D72A72121175D8BE</td>\n",
       "      <td>2020-12-07</td>\n",
       "      <td>EU</td>\n",
       "      <td>PC</td>\n",
       "      <td>A</td>\n",
       "      <td>recommender_system_test</td>\n",
       "      <td>2020-12-07 21:52:07</td>\n",
       "      <td>login</td>\n",
       "      <td>NaN</td>\n",
       "      <td>0</td>\n",
       "    </tr>\n",
       "    <tr>\n",
       "      <th>3</th>\n",
       "      <td>DD4352CDCF8C3D57</td>\n",
       "      <td>2020-12-07</td>\n",
       "      <td>EU</td>\n",
       "      <td>Android</td>\n",
       "      <td>B</td>\n",
       "      <td>recommender_system_test</td>\n",
       "      <td>2020-12-07 15:32:54</td>\n",
       "      <td>product_page</td>\n",
       "      <td>NaN</td>\n",
       "      <td>0</td>\n",
       "    </tr>\n",
       "    <tr>\n",
       "      <th>4</th>\n",
       "      <td>DD4352CDCF8C3D57</td>\n",
       "      <td>2020-12-07</td>\n",
       "      <td>EU</td>\n",
       "      <td>Android</td>\n",
       "      <td>B</td>\n",
       "      <td>recommender_system_test</td>\n",
       "      <td>2020-12-08 08:29:31</td>\n",
       "      <td>product_page</td>\n",
       "      <td>NaN</td>\n",
       "      <td>1</td>\n",
       "    </tr>\n",
       "    <tr>\n",
       "      <th>5</th>\n",
       "      <td>DD4352CDCF8C3D57</td>\n",
       "      <td>2020-12-07</td>\n",
       "      <td>EU</td>\n",
       "      <td>Android</td>\n",
       "      <td>B</td>\n",
       "      <td>recommender_system_test</td>\n",
       "      <td>2020-12-10 18:18:27</td>\n",
       "      <td>product_page</td>\n",
       "      <td>NaN</td>\n",
       "      <td>3</td>\n",
       "    </tr>\n",
       "  </tbody>\n",
       "</table>\n",
       "</div>"
      ],
      "text/plain": [
       "            user_id first_date region   device group                  ab_test  \\\n",
       "0  D72A72121175D8BE 2020-12-07     EU       PC     A  recommender_system_test   \n",
       "1  D72A72121175D8BE 2020-12-07     EU       PC     A  recommender_system_test   \n",
       "3  DD4352CDCF8C3D57 2020-12-07     EU  Android     B  recommender_system_test   \n",
       "4  DD4352CDCF8C3D57 2020-12-07     EU  Android     B  recommender_system_test   \n",
       "5  DD4352CDCF8C3D57 2020-12-07     EU  Android     B  recommender_system_test   \n",
       "\n",
       "             event_dt    event_name  details  lifetime  \n",
       "0 2020-12-07 21:52:10  product_page      NaN         0  \n",
       "1 2020-12-07 21:52:07         login      NaN         0  \n",
       "3 2020-12-07 15:32:54  product_page      NaN         0  \n",
       "4 2020-12-08 08:29:31  product_page      NaN         1  \n",
       "5 2020-12-10 18:18:27  product_page      NaN         3  "
      ]
     },
     "execution_count": 57,
     "metadata": {},
     "output_type": "execute_result"
    }
   ],
   "source": [
    "recom_users_ab.head()"
   ]
  },
  {
   "cell_type": "code",
   "execution_count": 58,
   "metadata": {},
   "outputs": [
    {
     "name": "stdout",
     "output_type": "stream",
     "text": [
      "<class 'pandas.core.frame.DataFrame'>\n",
      "Int64Index: 15180 entries, 0 to 27720\n",
      "Data columns (total 10 columns):\n",
      " #   Column      Non-Null Count  Dtype         \n",
      "---  ------      --------------  -----         \n",
      " 0   user_id     15180 non-null  object        \n",
      " 1   first_date  15180 non-null  datetime64[ns]\n",
      " 2   region      15180 non-null  object        \n",
      " 3   device      15180 non-null  object        \n",
      " 4   group       15180 non-null  object        \n",
      " 5   ab_test     15180 non-null  object        \n",
      " 6   event_dt    15180 non-null  datetime64[ns]\n",
      " 7   event_name  15180 non-null  object        \n",
      " 8   details     2001 non-null   float64       \n",
      " 9   lifetime    15180 non-null  int64         \n",
      "dtypes: datetime64[ns](2), float64(1), int64(1), object(6)\n",
      "memory usage: 1.3+ MB\n"
     ]
    }
   ],
   "source": [
    "recom_users_ab.info()"
   ]
  },
  {
   "cell_type": "code",
   "execution_count": 59,
   "metadata": {},
   "outputs": [],
   "source": [
    "recom_users_ab['event_dt'] = pd.to_datetime(recom_users_ab['event_dt']).dt.date"
   ]
  },
  {
   "cell_type": "code",
   "execution_count": 60,
   "metadata": {},
   "outputs": [
    {
     "data": {
      "text/html": [
       "<div>\n",
       "<style scoped>\n",
       "    .dataframe tbody tr th:only-of-type {\n",
       "        vertical-align: middle;\n",
       "    }\n",
       "\n",
       "    .dataframe tbody tr th {\n",
       "        vertical-align: top;\n",
       "    }\n",
       "\n",
       "    .dataframe thead th {\n",
       "        text-align: right;\n",
       "    }\n",
       "</style>\n",
       "<table border=\"1\" class=\"dataframe\">\n",
       "  <thead>\n",
       "    <tr style=\"text-align: right;\">\n",
       "      <th></th>\n",
       "      <th>event_dt</th>\n",
       "      <th>group</th>\n",
       "      <th>events_count</th>\n",
       "    </tr>\n",
       "  </thead>\n",
       "  <tbody>\n",
       "    <tr>\n",
       "      <th>26</th>\n",
       "      <td>2020-12-20</td>\n",
       "      <td>A</td>\n",
       "      <td>1528</td>\n",
       "    </tr>\n",
       "    <tr>\n",
       "      <th>24</th>\n",
       "      <td>2020-12-19</td>\n",
       "      <td>A</td>\n",
       "      <td>1506</td>\n",
       "    </tr>\n",
       "    <tr>\n",
       "      <th>22</th>\n",
       "      <td>2020-12-18</td>\n",
       "      <td>A</td>\n",
       "      <td>1312</td>\n",
       "    </tr>\n",
       "    <tr>\n",
       "      <th>20</th>\n",
       "      <td>2020-12-17</td>\n",
       "      <td>A</td>\n",
       "      <td>1252</td>\n",
       "    </tr>\n",
       "    <tr>\n",
       "      <th>16</th>\n",
       "      <td>2020-12-15</td>\n",
       "      <td>A</td>\n",
       "      <td>1084</td>\n",
       "    </tr>\n",
       "    <tr>\n",
       "      <th>14</th>\n",
       "      <td>2020-12-14</td>\n",
       "      <td>A</td>\n",
       "      <td>1083</td>\n",
       "    </tr>\n",
       "    <tr>\n",
       "      <th>18</th>\n",
       "      <td>2020-12-16</td>\n",
       "      <td>A</td>\n",
       "      <td>1069</td>\n",
       "    </tr>\n",
       "    <tr>\n",
       "      <th>4</th>\n",
       "      <td>2020-12-09</td>\n",
       "      <td>A</td>\n",
       "      <td>385</td>\n",
       "    </tr>\n",
       "    <tr>\n",
       "      <th>19</th>\n",
       "      <td>2020-12-16</td>\n",
       "      <td>B</td>\n",
       "      <td>385</td>\n",
       "    </tr>\n",
       "    <tr>\n",
       "      <th>1</th>\n",
       "      <td>2020-12-07</td>\n",
       "      <td>B</td>\n",
       "      <td>378</td>\n",
       "    </tr>\n",
       "    <tr>\n",
       "      <th>8</th>\n",
       "      <td>2020-12-11</td>\n",
       "      <td>A</td>\n",
       "      <td>374</td>\n",
       "    </tr>\n",
       "    <tr>\n",
       "      <th>5</th>\n",
       "      <td>2020-12-09</td>\n",
       "      <td>B</td>\n",
       "      <td>361</td>\n",
       "    </tr>\n",
       "    <tr>\n",
       "      <th>10</th>\n",
       "      <td>2020-12-12</td>\n",
       "      <td>A</td>\n",
       "      <td>355</td>\n",
       "    </tr>\n",
       "    <tr>\n",
       "      <th>6</th>\n",
       "      <td>2020-12-10</td>\n",
       "      <td>A</td>\n",
       "      <td>350</td>\n",
       "    </tr>\n",
       "    <tr>\n",
       "      <th>2</th>\n",
       "      <td>2020-12-08</td>\n",
       "      <td>A</td>\n",
       "      <td>341</td>\n",
       "    </tr>\n",
       "    <tr>\n",
       "      <th>0</th>\n",
       "      <td>2020-12-07</td>\n",
       "      <td>A</td>\n",
       "      <td>331</td>\n",
       "    </tr>\n",
       "    <tr>\n",
       "      <th>12</th>\n",
       "      <td>2020-12-13</td>\n",
       "      <td>A</td>\n",
       "      <td>328</td>\n",
       "    </tr>\n",
       "    <tr>\n",
       "      <th>27</th>\n",
       "      <td>2020-12-20</td>\n",
       "      <td>B</td>\n",
       "      <td>320</td>\n",
       "    </tr>\n",
       "    <tr>\n",
       "      <th>25</th>\n",
       "      <td>2020-12-19</td>\n",
       "      <td>B</td>\n",
       "      <td>304</td>\n",
       "    </tr>\n",
       "    <tr>\n",
       "      <th>21</th>\n",
       "      <td>2020-12-17</td>\n",
       "      <td>B</td>\n",
       "      <td>296</td>\n",
       "    </tr>\n",
       "    <tr>\n",
       "      <th>15</th>\n",
       "      <td>2020-12-14</td>\n",
       "      <td>B</td>\n",
       "      <td>272</td>\n",
       "    </tr>\n",
       "    <tr>\n",
       "      <th>23</th>\n",
       "      <td>2020-12-18</td>\n",
       "      <td>B</td>\n",
       "      <td>272</td>\n",
       "    </tr>\n",
       "    <tr>\n",
       "      <th>7</th>\n",
       "      <td>2020-12-10</td>\n",
       "      <td>B</td>\n",
       "      <td>263</td>\n",
       "    </tr>\n",
       "    <tr>\n",
       "      <th>3</th>\n",
       "      <td>2020-12-08</td>\n",
       "      <td>B</td>\n",
       "      <td>252</td>\n",
       "    </tr>\n",
       "    <tr>\n",
       "      <th>17</th>\n",
       "      <td>2020-12-15</td>\n",
       "      <td>B</td>\n",
       "      <td>232</td>\n",
       "    </tr>\n",
       "    <tr>\n",
       "      <th>11</th>\n",
       "      <td>2020-12-12</td>\n",
       "      <td>B</td>\n",
       "      <td>203</td>\n",
       "    </tr>\n",
       "    <tr>\n",
       "      <th>13</th>\n",
       "      <td>2020-12-13</td>\n",
       "      <td>B</td>\n",
       "      <td>176</td>\n",
       "    </tr>\n",
       "    <tr>\n",
       "      <th>9</th>\n",
       "      <td>2020-12-11</td>\n",
       "      <td>B</td>\n",
       "      <td>168</td>\n",
       "    </tr>\n",
       "  </tbody>\n",
       "</table>\n",
       "</div>"
      ],
      "text/plain": [
       "      event_dt group  events_count\n",
       "26  2020-12-20     A          1528\n",
       "24  2020-12-19     A          1506\n",
       "22  2020-12-18     A          1312\n",
       "20  2020-12-17     A          1252\n",
       "16  2020-12-15     A          1084\n",
       "14  2020-12-14     A          1083\n",
       "18  2020-12-16     A          1069\n",
       "4   2020-12-09     A           385\n",
       "19  2020-12-16     B           385\n",
       "1   2020-12-07     B           378\n",
       "8   2020-12-11     A           374\n",
       "5   2020-12-09     B           361\n",
       "10  2020-12-12     A           355\n",
       "6   2020-12-10     A           350\n",
       "2   2020-12-08     A           341\n",
       "0   2020-12-07     A           331\n",
       "12  2020-12-13     A           328\n",
       "27  2020-12-20     B           320\n",
       "25  2020-12-19     B           304\n",
       "21  2020-12-17     B           296\n",
       "15  2020-12-14     B           272\n",
       "23  2020-12-18     B           272\n",
       "7   2020-12-10     B           263\n",
       "3   2020-12-08     B           252\n",
       "17  2020-12-15     B           232\n",
       "11  2020-12-12     B           203\n",
       "13  2020-12-13     B           176\n",
       "9   2020-12-11     B           168"
      ]
     },
     "execution_count": 60,
     "metadata": {},
     "output_type": "execute_result"
    }
   ],
   "source": [
    "events_by_date = (recom_users_ab.groupby(['event_dt', 'group'], as_index=False)['user_id'].count()\n",
    "                                .rename(columns={'user_id':'events_count'}))\n",
    "events_by_date.sort_values(by=['events_count'], ascending=False)\n"
   ]
  },
  {
   "cell_type": "code",
   "execution_count": 61,
   "metadata": {},
   "outputs": [
    {
     "data": {
      "image/png": "[encoded data removed]"
     },
     "metadata": {},
     "output_type": "display_data"
    }
   ],
   "source": [
    "# отобразим на графике\n",
    "fig = px.bar(events_by_date, x='event_dt', y='events_count', color='group', \n",
    "             title='Распределение событий по дням в двух группах', \n",
    "             color_discrete_sequence=['goldenrod', 'purple'])\n",
    "fig.update_xaxes(title_text='Дата')\n",
    "fig.update_yaxes(title_text='Количество событий')\n",
    "\n",
    "fig.show(\"png\")"
   ]
  },
  {
   "cell_type": "markdown",
   "metadata": {},
   "source": [
    "ВЫВОД:\n",
    "\n",
    "- Пик событий приходится на 21 декабря (1995 в А и 404 событий в В)\n",
    "- Только в первый день теста в группе В было больше событий, чем в группе А (378 против 331 события). В остальных днях группа А опережала группу В по количеству событий.\n",
    "- С 14 декабря наблюдаем резкий рост количества событий для группы А."
   ]
  },
  {
   "cell_type": "markdown",
   "metadata": {},
   "source": [
    "Теперь определим и изобразим графически распределение пользователей по дням в двух группах: "
   ]
  },
  {
   "cell_type": "code",
   "execution_count": 62,
   "metadata": {},
   "outputs": [
    {
     "data": {
      "text/html": [
       "<div>\n",
       "<style scoped>\n",
       "    .dataframe tbody tr th:only-of-type {\n",
       "        vertical-align: middle;\n",
       "    }\n",
       "\n",
       "    .dataframe tbody tr th {\n",
       "        vertical-align: top;\n",
       "    }\n",
       "\n",
       "    .dataframe thead th {\n",
       "        text-align: right;\n",
       "    }\n",
       "</style>\n",
       "<table border=\"1\" class=\"dataframe\">\n",
       "  <thead>\n",
       "    <tr style=\"text-align: right;\">\n",
       "      <th></th>\n",
       "      <th>event_dt</th>\n",
       "      <th>group</th>\n",
       "      <th>users_count</th>\n",
       "    </tr>\n",
       "  </thead>\n",
       "  <tbody>\n",
       "    <tr>\n",
       "      <th>26</th>\n",
       "      <td>2020-12-20</td>\n",
       "      <td>A</td>\n",
       "      <td>668</td>\n",
       "    </tr>\n",
       "    <tr>\n",
       "      <th>24</th>\n",
       "      <td>2020-12-19</td>\n",
       "      <td>A</td>\n",
       "      <td>650</td>\n",
       "    </tr>\n",
       "    <tr>\n",
       "      <th>22</th>\n",
       "      <td>2020-12-18</td>\n",
       "      <td>A</td>\n",
       "      <td>573</td>\n",
       "    </tr>\n",
       "    <tr>\n",
       "      <th>20</th>\n",
       "      <td>2020-12-17</td>\n",
       "      <td>A</td>\n",
       "      <td>545</td>\n",
       "    </tr>\n",
       "    <tr>\n",
       "      <th>14</th>\n",
       "      <td>2020-12-14</td>\n",
       "      <td>A</td>\n",
       "      <td>488</td>\n",
       "    </tr>\n",
       "    <tr>\n",
       "      <th>16</th>\n",
       "      <td>2020-12-15</td>\n",
       "      <td>A</td>\n",
       "      <td>473</td>\n",
       "    </tr>\n",
       "    <tr>\n",
       "      <th>18</th>\n",
       "      <td>2020-12-16</td>\n",
       "      <td>A</td>\n",
       "      <td>471</td>\n",
       "    </tr>\n",
       "    <tr>\n",
       "      <th>8</th>\n",
       "      <td>2020-12-11</td>\n",
       "      <td>A</td>\n",
       "      <td>185</td>\n",
       "    </tr>\n",
       "    <tr>\n",
       "      <th>4</th>\n",
       "      <td>2020-12-09</td>\n",
       "      <td>A</td>\n",
       "      <td>178</td>\n",
       "    </tr>\n",
       "    <tr>\n",
       "      <th>10</th>\n",
       "      <td>2020-12-12</td>\n",
       "      <td>A</td>\n",
       "      <td>174</td>\n",
       "    </tr>\n",
       "    <tr>\n",
       "      <th>1</th>\n",
       "      <td>2020-12-07</td>\n",
       "      <td>B</td>\n",
       "      <td>173</td>\n",
       "    </tr>\n",
       "    <tr>\n",
       "      <th>5</th>\n",
       "      <td>2020-12-09</td>\n",
       "      <td>B</td>\n",
       "      <td>172</td>\n",
       "    </tr>\n",
       "    <tr>\n",
       "      <th>19</th>\n",
       "      <td>2020-12-16</td>\n",
       "      <td>B</td>\n",
       "      <td>172</td>\n",
       "    </tr>\n",
       "    <tr>\n",
       "      <th>6</th>\n",
       "      <td>2020-12-10</td>\n",
       "      <td>A</td>\n",
       "      <td>165</td>\n",
       "    </tr>\n",
       "    <tr>\n",
       "      <th>12</th>\n",
       "      <td>2020-12-13</td>\n",
       "      <td>A</td>\n",
       "      <td>164</td>\n",
       "    </tr>\n",
       "    <tr>\n",
       "      <th>27</th>\n",
       "      <td>2020-12-20</td>\n",
       "      <td>B</td>\n",
       "      <td>162</td>\n",
       "    </tr>\n",
       "    <tr>\n",
       "      <th>2</th>\n",
       "      <td>2020-12-08</td>\n",
       "      <td>A</td>\n",
       "      <td>160</td>\n",
       "    </tr>\n",
       "    <tr>\n",
       "      <th>0</th>\n",
       "      <td>2020-12-07</td>\n",
       "      <td>A</td>\n",
       "      <td>154</td>\n",
       "    </tr>\n",
       "    <tr>\n",
       "      <th>25</th>\n",
       "      <td>2020-12-19</td>\n",
       "      <td>B</td>\n",
       "      <td>148</td>\n",
       "    </tr>\n",
       "    <tr>\n",
       "      <th>23</th>\n",
       "      <td>2020-12-18</td>\n",
       "      <td>B</td>\n",
       "      <td>135</td>\n",
       "    </tr>\n",
       "    <tr>\n",
       "      <th>21</th>\n",
       "      <td>2020-12-17</td>\n",
       "      <td>B</td>\n",
       "      <td>132</td>\n",
       "    </tr>\n",
       "    <tr>\n",
       "      <th>15</th>\n",
       "      <td>2020-12-14</td>\n",
       "      <td>B</td>\n",
       "      <td>131</td>\n",
       "    </tr>\n",
       "    <tr>\n",
       "      <th>7</th>\n",
       "      <td>2020-12-10</td>\n",
       "      <td>B</td>\n",
       "      <td>131</td>\n",
       "    </tr>\n",
       "    <tr>\n",
       "      <th>3</th>\n",
       "      <td>2020-12-08</td>\n",
       "      <td>B</td>\n",
       "      <td>120</td>\n",
       "    </tr>\n",
       "    <tr>\n",
       "      <th>17</th>\n",
       "      <td>2020-12-15</td>\n",
       "      <td>B</td>\n",
       "      <td>116</td>\n",
       "    </tr>\n",
       "    <tr>\n",
       "      <th>11</th>\n",
       "      <td>2020-12-12</td>\n",
       "      <td>B</td>\n",
       "      <td>106</td>\n",
       "    </tr>\n",
       "    <tr>\n",
       "      <th>9</th>\n",
       "      <td>2020-12-11</td>\n",
       "      <td>B</td>\n",
       "      <td>89</td>\n",
       "    </tr>\n",
       "    <tr>\n",
       "      <th>13</th>\n",
       "      <td>2020-12-13</td>\n",
       "      <td>B</td>\n",
       "      <td>87</td>\n",
       "    </tr>\n",
       "  </tbody>\n",
       "</table>\n",
       "</div>"
      ],
      "text/plain": [
       "      event_dt group  users_count\n",
       "26  2020-12-20     A          668\n",
       "24  2020-12-19     A          650\n",
       "22  2020-12-18     A          573\n",
       "20  2020-12-17     A          545\n",
       "14  2020-12-14     A          488\n",
       "16  2020-12-15     A          473\n",
       "18  2020-12-16     A          471\n",
       "8   2020-12-11     A          185\n",
       "4   2020-12-09     A          178\n",
       "10  2020-12-12     A          174\n",
       "1   2020-12-07     B          173\n",
       "5   2020-12-09     B          172\n",
       "19  2020-12-16     B          172\n",
       "6   2020-12-10     A          165\n",
       "12  2020-12-13     A          164\n",
       "27  2020-12-20     B          162\n",
       "2   2020-12-08     A          160\n",
       "0   2020-12-07     A          154\n",
       "25  2020-12-19     B          148\n",
       "23  2020-12-18     B          135\n",
       "21  2020-12-17     B          132\n",
       "15  2020-12-14     B          131\n",
       "7   2020-12-10     B          131\n",
       "3   2020-12-08     B          120\n",
       "17  2020-12-15     B          116\n",
       "11  2020-12-12     B          106\n",
       "9   2020-12-11     B           89\n",
       "13  2020-12-13     B           87"
      ]
     },
     "execution_count": 62,
     "metadata": {},
     "output_type": "execute_result"
    }
   ],
   "source": [
    "users_by_date = (recom_users_ab.groupby(['event_dt', 'group'], as_index=False)['user_id'].nunique()\n",
    "                .rename(columns={'user_id':'users_count'}))\n",
    "users_by_date.sort_values(by=['users_count'], ascending=False)\n"
   ]
  },
  {
   "cell_type": "code",
   "execution_count": 63,
   "metadata": {},
   "outputs": [
    {
     "data": {
      "image/png": "[encoded data removed]"
     },
     "metadata": {},
     "output_type": "display_data"
    }
   ],
   "source": [
    "fig = px.bar(users_by_date, x='event_dt', y='users_count', color='group', \n",
    "             title='Распределение пользователей по дням в двух группах',\n",
    "             color_discrete_sequence=['goldenrod', 'purple'])\n",
    "fig.update_xaxes(title_text='Дата')\n",
    "fig.update_yaxes(title_text='Количество пользователей')\n",
    "\n",
    "fig.show(\"png\")"
   ]
  },
  {
   "cell_type": "markdown",
   "metadata": {},
   "source": [
    "ВЫВОД:\n",
    "\n",
    "- Аналогично графику распределения событий по дням в двух группах мы видим картину распределения пользователей. \n",
    "- Резкий рост количества событий с 14 декабря - это логичное явление, пропорционально возрастает количество событий, как следствие увеличения количества пользователей. \n",
    "- Наибольшее количество пользователей в группе В приходится на 21.12.2020, однако в этот день в группе А 875 пользователей. "
   ]
  },
  {
   "cell_type": "code",
   "execution_count": 64,
   "metadata": {},
   "outputs": [
    {
     "data": {
      "text/plain": [
       "datetime.date(2020, 12, 20)"
      ]
     },
     "execution_count": 64,
     "metadata": {},
     "output_type": "execute_result"
    }
   ],
   "source": [
    "recom_users_ab['event_dt'].max()"
   ]
  },
  {
   "cell_type": "markdown",
   "metadata": {},
   "source": [
    "#### Совпадение времени проведения теста с маркетинговыми активностями"
   ]
  },
  {
   "cell_type": "code",
   "execution_count": 65,
   "metadata": {},
   "outputs": [],
   "source": [
    "marketing_events['start_dt'] = pd.to_datetime(marketing_events['start_dt'])\n"
   ]
  },
  {
   "cell_type": "code",
   "execution_count": 66,
   "metadata": {},
   "outputs": [
    {
     "data": {
      "text/html": [
       "<div>\n",
       "<style scoped>\n",
       "    .dataframe tbody tr th:only-of-type {\n",
       "        vertical-align: middle;\n",
       "    }\n",
       "\n",
       "    .dataframe tbody tr th {\n",
       "        vertical-align: top;\n",
       "    }\n",
       "\n",
       "    .dataframe thead th {\n",
       "        text-align: right;\n",
       "    }\n",
       "</style>\n",
       "<table border=\"1\" class=\"dataframe\">\n",
       "  <thead>\n",
       "    <tr style=\"text-align: right;\">\n",
       "      <th></th>\n",
       "      <th>name</th>\n",
       "      <th>regions</th>\n",
       "      <th>start_dt</th>\n",
       "      <th>finish_dt</th>\n",
       "    </tr>\n",
       "  </thead>\n",
       "  <tbody>\n",
       "    <tr>\n",
       "      <th>0</th>\n",
       "      <td>Christmas&amp;New Year Promo</td>\n",
       "      <td>EU, N.America</td>\n",
       "      <td>2020-12-25</td>\n",
       "      <td>2021-01-03</td>\n",
       "    </tr>\n",
       "    <tr>\n",
       "      <th>10</th>\n",
       "      <td>CIS New Year Gift Lottery</td>\n",
       "      <td>CIS</td>\n",
       "      <td>2020-12-30</td>\n",
       "      <td>2021-01-07</td>\n",
       "    </tr>\n",
       "  </tbody>\n",
       "</table>\n",
       "</div>"
      ],
      "text/plain": [
       "                         name        regions   start_dt   finish_dt\n",
       "0    Christmas&New Year Promo  EU, N.America 2020-12-25  2021-01-03\n",
       "10  CIS New Year Gift Lottery            CIS 2020-12-30  2021-01-07"
      ]
     },
     "execution_count": 66,
     "metadata": {},
     "output_type": "execute_result"
    }
   ],
   "source": [
    "marketing_events.query('\"2020-12-07\" < start_dt < \"2021-01-03\"')"
   ]
  },
  {
   "cell_type": "markdown",
   "metadata": {},
   "source": [
    "ВЫВОД:\n",
    "- Во время проведения теста было два маркетинговых кампании. Но только одна затронула EU сегмент.\n",
    "- Акция Christmas&New Year Promo может оказать большее влияние, т.к. даты её проведения попадают в исследуемый период с 12 декабря - по 4 января, плюс эта акция проводится в регионе EU, именно этот регион преобладает в тесте.\n",
    "- Вероятно как раз с 14 декабря начинается активная подготовка к новогодним праздникам, вследствие чего увеличивается количество событий и пользователей. \n",
    "- Кампания Christmas&New Year Promo началась после того, как мы набрали новых пользователей. Это значит, что кампания не повлияла на приход пользователей, но повлияла на поведение пользователей после окончания набора пользолвателей\n",
    "\n"
   ]
  },
  {
   "cell_type": "markdown",
   "metadata": {},
   "source": [
    "<div class=\"alert alert-block alert-success\">✔️\n",
    "    \n",
    "\n",
    "__Комментарий от тимлида №1__\n",
    "\n",
    "События, праздники и тп - влияют на две группы одинаково. Это просто изменение качества пользователей, но относительную конверсию группы В к группе А - не будет иметь воздействие. Но это нужно учитывать при изучении абсолютных данных.\n",
    "</div>"
   ]
  },
  {
   "cell_type": "markdown",
   "metadata": {},
   "source": []
  },
  {
   "cell_type": "markdown",
   "metadata": {},
   "source": [
    "#### Построение продуктовой воронки\n",
    "Постройте простые продуктовые воронки для двух групп теста с учетом логической последовательности совершения событий; изучите изменение конверсии в продуктовой воронке тестовой группы, по сравнению с контрольной: наблюдается ли ожидаемый эффект увеличения конверсии в группе В, относительно конверсии в группе А?"
   ]
  },
  {
   "cell_type": "markdown",
   "metadata": {},
   "source": [
    "В первую очередь назначу переменные для создания воронки, которые будут соответствовать группе А и В:"
   ]
  },
  {
   "cell_type": "code",
   "execution_count": 67,
   "metadata": {},
   "outputs": [
    {
     "name": "stdout",
     "output_type": "stream",
     "text": [
      "группа А      event_name  event_count  user_count\n",
      "0         login         5047        2330\n",
      "1  product_page         3207        1504\n",
      "3      purchase         1515         734\n",
      "2  product_cart         1529         704\n",
      "группа B      event_name  event_count  user_count\n",
      "0         login         1865         834\n",
      "1  product_page         1019         472\n",
      "2  product_cart          512         234\n",
      "3      purchase          486         230\n"
     ]
    }
   ],
   "source": [
    "funnel_A = recom_users_ab[recom_users_ab['group']==\"A\"].groupby('event_name').agg({'event_name':'count', 'user_id':'nunique'})\n",
    "funnel_A.columns = ['event_count','user_count']\n",
    "funnel_A = funnel_A.sort_values(by = 'event_count', ascending = False).reset_index().reindex([0,1,3,2])\n",
    "\n",
    "funnel_B = recom_users_ab[recom_users_ab['group']==\"B\"].groupby('event_name').agg({'event_name':'count', 'user_id':'nunique'})\n",
    "funnel_B.columns = ['event_count','user_count']\n",
    "funnel_B = funnel_B.sort_values(by = 'event_count', ascending = False).reset_index()\n",
    "print('группа А', funnel_A)\n",
    "print('группа B', funnel_B)"
   ]
  },
  {
   "cell_type": "markdown",
   "metadata": {},
   "source": [
    "Построим графически наглядную воронку конверсии событий по группам: "
   ]
  },
  {
   "cell_type": "code",
   "execution_count": 68,
   "metadata": {},
   "outputs": [
    {
     "data": {
      "image/png": "[encoded data removed]"
     },
     "metadata": {},
     "output_type": "display_data"
    }
   ],
   "source": [
    "fig = go.Figure()\n",
    "\n",
    "fig.add_trace(go.Funnel(\n",
    "    name = 'A',\n",
    "    y = funnel_A['event_name'],\n",
    "    x = funnel_A['user_count'],\n",
    "    opacity = 0.7, marker = {\"color\": [\"goldenrod\", \"goldenrod\", \"goldenrod\", \"goldenrod\"]},\n",
    "    textinfo = \"value+percent initial\"))\n",
    "\n",
    "fig.add_trace(go.Funnel(\n",
    "    name = 'B',\n",
    "    orientation = \"h\",\n",
    "    y = funnel_B['event_name'],\n",
    "    x = funnel_B['user_count'],\n",
    "    opacity = 0.7, marker = {\"color\": [\"purple\", \"purple\", \"purple\", \"purple\"]},\n",
    "    textposition = \"inside\",\n",
    "    textinfo = \"value+percent initial\"))\n",
    "\n",
    "fig.update_layout(title_text = 'Воронка конверсии событий по группам')\n",
    "fig.show(\"png\")"
   ]
  },
  {
   "cell_type": "markdown",
   "metadata": {},
   "source": [
    "#### ВЫВОД:\n",
    "\n",
    "Исходя из количества событий, можно предположить что каждый пользователь проходит следующую последовательность:\n",
    "\n",
    "- Авторизируется на сайте login\n",
    "- смотрит страницу товараproduct_page\n",
    "- смотрит страницу с корзиной покупокproduct_cart\n",
    "- совершает покупки purchase\n",
    "\n",
    "- До покупки доходят 32% пользователей группы А и 28% пользователей группы В. \n",
    "- Минимальная разница в конверсии между product_cart(добавлением товара в корзину) и purchase(покупка): разница в 2% у группы А, у группы В нет разницы. Как будто в группе А возможно не добавляя товар в корзину сразу его купить, а видимо из группы В убрали такую возможность, но сам переход от добавления товара в корзину до покупки сделали удобным. \n",
    "- Наибольшее падение коверсии между login(регистрация) и product_page(просмотром страницы товара) уровнями :-35% у группы А и -46% у группы В. Вероятно пройти регистрацию на сайт непросто или выпадают какие-то ошибки, причем в версии для В-группы ситуация усугубилась еще больше. Вопрос к UX/UI специалистам?"
   ]
  },
  {
   "cell_type": "markdown",
   "metadata": {},
   "source": [
    "<div class=\"alert alert-block alert-success\">✔️\n",
    "    \n",
    "\n",
    "__Комментарий от тимлида №1__\n",
    "\n",
    "Воронка построена корректно и здорово, что заметила данный нюанс. Это может говорить о том, что на платформе нестрогая воронка продаж и можно приобрести продукт минуя некоторые этапы \n",
    "</div>"
   ]
  },
  {
   "cell_type": "markdown",
   "metadata": {},
   "source": [
    "<a id='conclusion'></a>"
   ]
  },
  {
   "cell_type": "markdown",
   "metadata": {},
   "source": [
    "### Оценка результатов A/B тестирования"
   ]
  },
  {
   "cell_type": "markdown",
   "metadata": {},
   "source": [
    "#### Трактовка результатов А/В тестирования и изменения конверсии "
   ]
  },
  {
   "cell_type": "code",
   "execution_count": 69,
   "metadata": {},
   "outputs": [],
   "source": [
    "recom_users_ab['event_dt'] = pd.to_datetime(recom_users_ab['event_dt'])"
   ]
  },
  {
   "cell_type": "code",
   "execution_count": 70,
   "metadata": {},
   "outputs": [
    {
     "data": {
      "text/html": [
       "<div>\n",
       "<style scoped>\n",
       "    .dataframe tbody tr th:only-of-type {\n",
       "        vertical-align: middle;\n",
       "    }\n",
       "\n",
       "    .dataframe tbody tr th {\n",
       "        vertical-align: top;\n",
       "    }\n",
       "\n",
       "    .dataframe thead th {\n",
       "        text-align: right;\n",
       "    }\n",
       "</style>\n",
       "<table border=\"1\" class=\"dataframe\">\n",
       "  <thead>\n",
       "    <tr style=\"text-align: right;\">\n",
       "      <th></th>\n",
       "      <th>user_id</th>\n",
       "      <th>first_date</th>\n",
       "      <th>region</th>\n",
       "      <th>device</th>\n",
       "      <th>group</th>\n",
       "      <th>ab_test</th>\n",
       "      <th>event_dt</th>\n",
       "      <th>event_name</th>\n",
       "      <th>details</th>\n",
       "      <th>lifetime</th>\n",
       "    </tr>\n",
       "  </thead>\n",
       "  <tbody>\n",
       "    <tr>\n",
       "      <th>0</th>\n",
       "      <td>D72A72121175D8BE</td>\n",
       "      <td>2020-12-07</td>\n",
       "      <td>EU</td>\n",
       "      <td>PC</td>\n",
       "      <td>A</td>\n",
       "      <td>recommender_system_test</td>\n",
       "      <td>2020-12-07</td>\n",
       "      <td>product_page</td>\n",
       "      <td>NaN</td>\n",
       "      <td>0</td>\n",
       "    </tr>\n",
       "    <tr>\n",
       "      <th>1</th>\n",
       "      <td>D72A72121175D8BE</td>\n",
       "      <td>2020-12-07</td>\n",
       "      <td>EU</td>\n",
       "      <td>PC</td>\n",
       "      <td>A</td>\n",
       "      <td>recommender_system_test</td>\n",
       "      <td>2020-12-07</td>\n",
       "      <td>login</td>\n",
       "      <td>NaN</td>\n",
       "      <td>0</td>\n",
       "    </tr>\n",
       "    <tr>\n",
       "      <th>3</th>\n",
       "      <td>DD4352CDCF8C3D57</td>\n",
       "      <td>2020-12-07</td>\n",
       "      <td>EU</td>\n",
       "      <td>Android</td>\n",
       "      <td>B</td>\n",
       "      <td>recommender_system_test</td>\n",
       "      <td>2020-12-07</td>\n",
       "      <td>product_page</td>\n",
       "      <td>NaN</td>\n",
       "      <td>0</td>\n",
       "    </tr>\n",
       "    <tr>\n",
       "      <th>4</th>\n",
       "      <td>DD4352CDCF8C3D57</td>\n",
       "      <td>2020-12-07</td>\n",
       "      <td>EU</td>\n",
       "      <td>Android</td>\n",
       "      <td>B</td>\n",
       "      <td>recommender_system_test</td>\n",
       "      <td>2020-12-08</td>\n",
       "      <td>product_page</td>\n",
       "      <td>NaN</td>\n",
       "      <td>1</td>\n",
       "    </tr>\n",
       "    <tr>\n",
       "      <th>5</th>\n",
       "      <td>DD4352CDCF8C3D57</td>\n",
       "      <td>2020-12-07</td>\n",
       "      <td>EU</td>\n",
       "      <td>Android</td>\n",
       "      <td>B</td>\n",
       "      <td>recommender_system_test</td>\n",
       "      <td>2020-12-10</td>\n",
       "      <td>product_page</td>\n",
       "      <td>NaN</td>\n",
       "      <td>3</td>\n",
       "    </tr>\n",
       "  </tbody>\n",
       "</table>\n",
       "</div>"
      ],
      "text/plain": [
       "            user_id first_date region   device group                  ab_test  \\\n",
       "0  D72A72121175D8BE 2020-12-07     EU       PC     A  recommender_system_test   \n",
       "1  D72A72121175D8BE 2020-12-07     EU       PC     A  recommender_system_test   \n",
       "3  DD4352CDCF8C3D57 2020-12-07     EU  Android     B  recommender_system_test   \n",
       "4  DD4352CDCF8C3D57 2020-12-07     EU  Android     B  recommender_system_test   \n",
       "5  DD4352CDCF8C3D57 2020-12-07     EU  Android     B  recommender_system_test   \n",
       "\n",
       "    event_dt    event_name  details  lifetime  \n",
       "0 2020-12-07  product_page      NaN         0  \n",
       "1 2020-12-07         login      NaN         0  \n",
       "3 2020-12-07  product_page      NaN         0  \n",
       "4 2020-12-08  product_page      NaN         1  \n",
       "5 2020-12-10  product_page      NaN         3  "
      ]
     },
     "execution_count": 70,
     "metadata": {},
     "output_type": "execute_result"
    }
   ],
   "source": [
    "recom_users_ab.head()"
   ]
  },
  {
   "cell_type": "markdown",
   "metadata": {},
   "source": [
    "создаем табличку по столбцам 'lifetime', 'group', 'event_name' и с кол-вом событий: "
   ]
  },
  {
   "cell_type": "code",
   "execution_count": 71,
   "metadata": {},
   "outputs": [
    {
     "data": {
      "text/html": [
       "<div>\n",
       "<style scoped>\n",
       "    .dataframe tbody tr th:only-of-type {\n",
       "        vertical-align: middle;\n",
       "    }\n",
       "\n",
       "    .dataframe tbody tr th {\n",
       "        vertical-align: top;\n",
       "    }\n",
       "\n",
       "    .dataframe thead th {\n",
       "        text-align: right;\n",
       "    }\n",
       "</style>\n",
       "<table border=\"1\" class=\"dataframe\">\n",
       "  <thead>\n",
       "    <tr style=\"text-align: right;\">\n",
       "      <th></th>\n",
       "      <th>user_id</th>\n",
       "      <th>first_date</th>\n",
       "      <th>region</th>\n",
       "      <th>device</th>\n",
       "      <th>group</th>\n",
       "      <th>ab_test</th>\n",
       "      <th>event_dt</th>\n",
       "      <th>event_name</th>\n",
       "      <th>details</th>\n",
       "      <th>lifetime</th>\n",
       "    </tr>\n",
       "  </thead>\n",
       "  <tbody>\n",
       "    <tr>\n",
       "      <th>0</th>\n",
       "      <td>D72A72121175D8BE</td>\n",
       "      <td>2020-12-07</td>\n",
       "      <td>EU</td>\n",
       "      <td>PC</td>\n",
       "      <td>A</td>\n",
       "      <td>recommender_system_test</td>\n",
       "      <td>2020-12-07</td>\n",
       "      <td>product_page</td>\n",
       "      <td>NaN</td>\n",
       "      <td>0</td>\n",
       "    </tr>\n",
       "    <tr>\n",
       "      <th>1</th>\n",
       "      <td>D72A72121175D8BE</td>\n",
       "      <td>2020-12-07</td>\n",
       "      <td>EU</td>\n",
       "      <td>PC</td>\n",
       "      <td>A</td>\n",
       "      <td>recommender_system_test</td>\n",
       "      <td>2020-12-07</td>\n",
       "      <td>login</td>\n",
       "      <td>NaN</td>\n",
       "      <td>0</td>\n",
       "    </tr>\n",
       "    <tr>\n",
       "      <th>3</th>\n",
       "      <td>DD4352CDCF8C3D57</td>\n",
       "      <td>2020-12-07</td>\n",
       "      <td>EU</td>\n",
       "      <td>Android</td>\n",
       "      <td>B</td>\n",
       "      <td>recommender_system_test</td>\n",
       "      <td>2020-12-07</td>\n",
       "      <td>product_page</td>\n",
       "      <td>NaN</td>\n",
       "      <td>0</td>\n",
       "    </tr>\n",
       "    <tr>\n",
       "      <th>4</th>\n",
       "      <td>DD4352CDCF8C3D57</td>\n",
       "      <td>2020-12-07</td>\n",
       "      <td>EU</td>\n",
       "      <td>Android</td>\n",
       "      <td>B</td>\n",
       "      <td>recommender_system_test</td>\n",
       "      <td>2020-12-08</td>\n",
       "      <td>product_page</td>\n",
       "      <td>NaN</td>\n",
       "      <td>1</td>\n",
       "    </tr>\n",
       "    <tr>\n",
       "      <th>5</th>\n",
       "      <td>DD4352CDCF8C3D57</td>\n",
       "      <td>2020-12-07</td>\n",
       "      <td>EU</td>\n",
       "      <td>Android</td>\n",
       "      <td>B</td>\n",
       "      <td>recommender_system_test</td>\n",
       "      <td>2020-12-10</td>\n",
       "      <td>product_page</td>\n",
       "      <td>NaN</td>\n",
       "      <td>3</td>\n",
       "    </tr>\n",
       "    <tr>\n",
       "      <th>...</th>\n",
       "      <td>...</td>\n",
       "      <td>...</td>\n",
       "      <td>...</td>\n",
       "      <td>...</td>\n",
       "      <td>...</td>\n",
       "      <td>...</td>\n",
       "      <td>...</td>\n",
       "      <td>...</td>\n",
       "      <td>...</td>\n",
       "      <td>...</td>\n",
       "    </tr>\n",
       "    <tr>\n",
       "      <th>27710</th>\n",
       "      <td>574ACBC674BC385D</td>\n",
       "      <td>2020-12-20</td>\n",
       "      <td>EU</td>\n",
       "      <td>Mac</td>\n",
       "      <td>A</td>\n",
       "      <td>recommender_system_test</td>\n",
       "      <td>2020-12-20</td>\n",
       "      <td>product_page</td>\n",
       "      <td>NaN</td>\n",
       "      <td>0</td>\n",
       "    </tr>\n",
       "    <tr>\n",
       "      <th>27712</th>\n",
       "      <td>574ACBC674BC385D</td>\n",
       "      <td>2020-12-20</td>\n",
       "      <td>EU</td>\n",
       "      <td>Mac</td>\n",
       "      <td>A</td>\n",
       "      <td>recommender_system_test</td>\n",
       "      <td>2020-12-20</td>\n",
       "      <td>login</td>\n",
       "      <td>NaN</td>\n",
       "      <td>0</td>\n",
       "    </tr>\n",
       "    <tr>\n",
       "      <th>27714</th>\n",
       "      <td>0416B34D35C8C8B8</td>\n",
       "      <td>2020-12-20</td>\n",
       "      <td>EU</td>\n",
       "      <td>Android</td>\n",
       "      <td>A</td>\n",
       "      <td>recommender_system_test</td>\n",
       "      <td>2020-12-20</td>\n",
       "      <td>purchase</td>\n",
       "      <td>4.99</td>\n",
       "      <td>0</td>\n",
       "    </tr>\n",
       "    <tr>\n",
       "      <th>27717</th>\n",
       "      <td>0416B34D35C8C8B8</td>\n",
       "      <td>2020-12-20</td>\n",
       "      <td>EU</td>\n",
       "      <td>Android</td>\n",
       "      <td>A</td>\n",
       "      <td>recommender_system_test</td>\n",
       "      <td>2020-12-20</td>\n",
       "      <td>product_page</td>\n",
       "      <td>NaN</td>\n",
       "      <td>0</td>\n",
       "    </tr>\n",
       "    <tr>\n",
       "      <th>27720</th>\n",
       "      <td>0416B34D35C8C8B8</td>\n",
       "      <td>2020-12-20</td>\n",
       "      <td>EU</td>\n",
       "      <td>Android</td>\n",
       "      <td>A</td>\n",
       "      <td>recommender_system_test</td>\n",
       "      <td>2020-12-20</td>\n",
       "      <td>login</td>\n",
       "      <td>NaN</td>\n",
       "      <td>0</td>\n",
       "    </tr>\n",
       "  </tbody>\n",
       "</table>\n",
       "<p>15180 rows × 10 columns</p>\n",
       "</div>"
      ],
      "text/plain": [
       "                user_id first_date region   device group  \\\n",
       "0      D72A72121175D8BE 2020-12-07     EU       PC     A   \n",
       "1      D72A72121175D8BE 2020-12-07     EU       PC     A   \n",
       "3      DD4352CDCF8C3D57 2020-12-07     EU  Android     B   \n",
       "4      DD4352CDCF8C3D57 2020-12-07     EU  Android     B   \n",
       "5      DD4352CDCF8C3D57 2020-12-07     EU  Android     B   \n",
       "...                 ...        ...    ...      ...   ...   \n",
       "27710  574ACBC674BC385D 2020-12-20     EU      Mac     A   \n",
       "27712  574ACBC674BC385D 2020-12-20     EU      Mac     A   \n",
       "27714  0416B34D35C8C8B8 2020-12-20     EU  Android     A   \n",
       "27717  0416B34D35C8C8B8 2020-12-20     EU  Android     A   \n",
       "27720  0416B34D35C8C8B8 2020-12-20     EU  Android     A   \n",
       "\n",
       "                       ab_test   event_dt    event_name  details  lifetime  \n",
       "0      recommender_system_test 2020-12-07  product_page      NaN         0  \n",
       "1      recommender_system_test 2020-12-07         login      NaN         0  \n",
       "3      recommender_system_test 2020-12-07  product_page      NaN         0  \n",
       "4      recommender_system_test 2020-12-08  product_page      NaN         1  \n",
       "5      recommender_system_test 2020-12-10  product_page      NaN         3  \n",
       "...                        ...        ...           ...      ...       ...  \n",
       "27710  recommender_system_test 2020-12-20  product_page      NaN         0  \n",
       "27712  recommender_system_test 2020-12-20         login      NaN         0  \n",
       "27714  recommender_system_test 2020-12-20      purchase     4.99         0  \n",
       "27717  recommender_system_test 2020-12-20  product_page      NaN         0  \n",
       "27720  recommender_system_test 2020-12-20         login      NaN         0  \n",
       "\n",
       "[15180 rows x 10 columns]"
      ]
     },
     "execution_count": 71,
     "metadata": {},
     "output_type": "execute_result"
    }
   ],
   "source": [
    "recom_users_ab"
   ]
  },
  {
   "cell_type": "code",
   "execution_count": 72,
   "metadata": {},
   "outputs": [
    {
     "data": {
      "text/html": [
       "<div>\n",
       "<style scoped>\n",
       "    .dataframe tbody tr th:only-of-type {\n",
       "        vertical-align: middle;\n",
       "    }\n",
       "\n",
       "    .dataframe tbody tr th {\n",
       "        vertical-align: top;\n",
       "    }\n",
       "\n",
       "    .dataframe thead th {\n",
       "        text-align: right;\n",
       "    }\n",
       "</style>\n",
       "<table border=\"1\" class=\"dataframe\">\n",
       "  <thead>\n",
       "    <tr style=\"text-align: right;\">\n",
       "      <th></th>\n",
       "      <th>lifetime</th>\n",
       "      <th>group</th>\n",
       "      <th>event_name</th>\n",
       "      <th>events_count</th>\n",
       "    </tr>\n",
       "  </thead>\n",
       "  <tbody>\n",
       "    <tr>\n",
       "      <th>0</th>\n",
       "      <td>0</td>\n",
       "      <td>A</td>\n",
       "      <td>login</td>\n",
       "      <td>2321</td>\n",
       "    </tr>\n",
       "    <tr>\n",
       "      <th>1</th>\n",
       "      <td>0</td>\n",
       "      <td>A</td>\n",
       "      <td>product_cart</td>\n",
       "      <td>703</td>\n",
       "    </tr>\n",
       "    <tr>\n",
       "      <th>2</th>\n",
       "      <td>0</td>\n",
       "      <td>A</td>\n",
       "      <td>product_page</td>\n",
       "      <td>1501</td>\n",
       "    </tr>\n",
       "    <tr>\n",
       "      <th>3</th>\n",
       "      <td>0</td>\n",
       "      <td>A</td>\n",
       "      <td>purchase</td>\n",
       "      <td>731</td>\n",
       "    </tr>\n",
       "    <tr>\n",
       "      <th>4</th>\n",
       "      <td>0</td>\n",
       "      <td>B</td>\n",
       "      <td>login</td>\n",
       "      <td>818</td>\n",
       "    </tr>\n",
       "  </tbody>\n",
       "</table>\n",
       "</div>"
      ],
      "text/plain": [
       "   lifetime group    event_name  events_count\n",
       "0         0     A         login          2321\n",
       "1         0     A  product_cart           703\n",
       "2         0     A  product_page          1501\n",
       "3         0     A      purchase           731\n",
       "4         0     B         login           818"
      ]
     },
     "execution_count": 72,
     "metadata": {},
     "output_type": "execute_result"
    }
   ],
   "source": [
    "conversion = (recom_users_ab.groupby(['lifetime', 'group', 'event_name'], as_index=False)['user_id'].count()\n",
    "                  .rename(columns={'user_id':'events_count'}))\n",
    "conversion.head()"
   ]
  },
  {
   "cell_type": "markdown",
   "metadata": {},
   "source": [
    "Посмотрим на количесвто пользователей, которые проходят через воронку продаж и количество ползователей по группам:  "
   ]
  },
  {
   "cell_type": "code",
   "execution_count": 73,
   "metadata": {},
   "outputs": [
    {
     "data": {
      "text/plain": [
       "group\n",
       "A    2330\n",
       "B     835\n",
       "Name: user_id, dtype: int64"
      ]
     },
     "execution_count": 73,
     "metadata": {},
     "output_type": "execute_result"
    }
   ],
   "source": [
    "users_bygroup = recom_users_ab.groupby('group')['user_id'].nunique()\n",
    "users_bygroup"
   ]
  },
  {
   "cell_type": "code",
   "execution_count": 74,
   "metadata": {},
   "outputs": [
    {
     "data": {
      "text/html": [
       "<div>\n",
       "<style scoped>\n",
       "    .dataframe tbody tr th:only-of-type {\n",
       "        vertical-align: middle;\n",
       "    }\n",
       "\n",
       "    .dataframe tbody tr th {\n",
       "        vertical-align: top;\n",
       "    }\n",
       "\n",
       "    .dataframe thead th {\n",
       "        text-align: right;\n",
       "    }\n",
       "</style>\n",
       "<table border=\"1\" class=\"dataframe\">\n",
       "  <thead>\n",
       "    <tr style=\"text-align: right;\">\n",
       "      <th>group</th>\n",
       "      <th>event_name</th>\n",
       "      <th>A</th>\n",
       "      <th>B</th>\n",
       "    </tr>\n",
       "  </thead>\n",
       "  <tbody>\n",
       "    <tr>\n",
       "      <th>0</th>\n",
       "      <td>login</td>\n",
       "      <td>2330</td>\n",
       "      <td>834</td>\n",
       "    </tr>\n",
       "    <tr>\n",
       "      <th>1</th>\n",
       "      <td>product_cart</td>\n",
       "      <td>704</td>\n",
       "      <td>234</td>\n",
       "    </tr>\n",
       "    <tr>\n",
       "      <th>2</th>\n",
       "      <td>product_page</td>\n",
       "      <td>1504</td>\n",
       "      <td>472</td>\n",
       "    </tr>\n",
       "    <tr>\n",
       "      <th>3</th>\n",
       "      <td>purchase</td>\n",
       "      <td>734</td>\n",
       "      <td>230</td>\n",
       "    </tr>\n",
       "  </tbody>\n",
       "</table>\n",
       "</div>"
      ],
      "text/plain": [
       "group    event_name     A    B\n",
       "0             login  2330  834\n",
       "1      product_cart   704  234\n",
       "2      product_page  1504  472\n",
       "3          purchase   734  230"
      ]
     },
     "execution_count": 74,
     "metadata": {},
     "output_type": "execute_result"
    }
   ],
   "source": [
    "event_group_test = recom_users_ab.pivot_table(index='event_name', columns='group',values='user_id',aggfunc='nunique').reset_index()\n",
    "event_group_test"
   ]
  },
  {
   "cell_type": "markdown",
   "metadata": {},
   "source": [
    "Создадим датафрейм с событиями product_page, добавим рассчет количества событий и посмотрим на рост количества событий типа product_page для двух групп за 14 дней лайфтайма:"
   ]
  },
  {
   "cell_type": "code",
   "execution_count": 75,
   "metadata": {},
   "outputs": [
    {
     "name": "stderr",
     "output_type": "stream",
     "text": [
      "/tmp/ipykernel_387/4125252134.py:3: SettingWithCopyWarning:\n",
      "\n",
      "\n",
      "A value is trying to be set on a copy of a slice from a DataFrame.\n",
      "Try using .loc[row_indexer,col_indexer] = value instead\n",
      "\n",
      "See the caveats in the documentation: https://pandas.pydata.org/pandas-docs/stable/user_guide/indexing.html#returning-a-view-versus-a-copy\n",
      "\n"
     ]
    }
   ],
   "source": [
    "product_pages = conversion.query('event_name == \"product_page\"')\n",
    "\n",
    "product_pages['events_cumsum'] = product_pages.groupby('group')['events_count'].cumsum()\n",
    "\n",
    "a_product_pages = round((product_pages.iloc[-2]['events_cumsum'] - product_pages.iloc[0]['events_cumsum']) \n",
    "                        / product_pages.iloc[0]['events_cumsum'], 3) \n",
    "b_product_pages = round((product_pages.iloc[-1]['events_cumsum'] - product_pages.iloc[1]['events_cumsum']) \n",
    "                        / product_pages.iloc[1]['events_cumsum'], 3) "
   ]
  },
  {
   "cell_type": "markdown",
   "metadata": {},
   "source": [
    "Повторим аналогичные подсчеты для события типа product_cart: "
   ]
  },
  {
   "cell_type": "code",
   "execution_count": 76,
   "metadata": {},
   "outputs": [
    {
     "name": "stderr",
     "output_type": "stream",
     "text": [
      "/tmp/ipykernel_387/147495248.py:2: SettingWithCopyWarning:\n",
      "\n",
      "\n",
      "A value is trying to be set on a copy of a slice from a DataFrame.\n",
      "Try using .loc[row_indexer,col_indexer] = value instead\n",
      "\n",
      "See the caveats in the documentation: https://pandas.pydata.org/pandas-docs/stable/user_guide/indexing.html#returning-a-view-versus-a-copy\n",
      "\n"
     ]
    }
   ],
   "source": [
    "product_carts = conversion.query('event_name == \"product_cart\"')\n",
    "product_carts['events_cumsum'] = product_carts.groupby('group')['events_count'].cumsum()\n",
    "\n",
    "\n",
    "a_product_carts = round((product_carts.iloc[-2]['events_cumsum'] - product_carts.iloc[0]['events_cumsum']) \n",
    "                        / product_carts.iloc[0]['events_cumsum'], 3) \n",
    "b_product_carts = round((product_carts.iloc[-1]['events_cumsum'] - product_carts.iloc[1]['events_cumsum']) \n",
    "                        / product_carts.iloc[1]['events_cumsum'], 3)\n"
   ]
  },
  {
   "cell_type": "markdown",
   "metadata": {},
   "source": [
    "Повторим аналогичные подсчеты для события типа purchases: "
   ]
  },
  {
   "cell_type": "code",
   "execution_count": 77,
   "metadata": {},
   "outputs": [
    {
     "name": "stderr",
     "output_type": "stream",
     "text": [
      "/tmp/ipykernel_387/2224099934.py:2: SettingWithCopyWarning:\n",
      "\n",
      "\n",
      "A value is trying to be set on a copy of a slice from a DataFrame.\n",
      "Try using .loc[row_indexer,col_indexer] = value instead\n",
      "\n",
      "See the caveats in the documentation: https://pandas.pydata.org/pandas-docs/stable/user_guide/indexing.html#returning-a-view-versus-a-copy\n",
      "\n"
     ]
    }
   ],
   "source": [
    "purchases = conversion.query('event_name == \"purchase\"')\n",
    "purchases['events_cumsum'] = purchases.groupby('group')['events_count'].cumsum()\n",
    "\n",
    "a_purchases = round((purchases.iloc[-2]['events_cumsum'] - purchases.iloc[0]['events_cumsum']) \n",
    "                     / purchases.iloc[0]['events_cumsum'], 3) \n",
    "b_purchases = round((purchases.iloc[-1]['events_cumsum'] - purchases.iloc[1]['events_cumsum']) \n",
    "                    / purchases.iloc[1]['events_cumsum'], 3)"
   ]
  },
  {
   "cell_type": "markdown",
   "metadata": {},
   "source": [
    "Выведем полученные результаты: "
   ]
  },
  {
   "cell_type": "code",
   "execution_count": 78,
   "metadata": {},
   "outputs": [
    {
     "name": "stdout",
     "output_type": "stream",
     "text": [
      "Группа А - просмотр страницы товара: 1.137\n",
      "Группа B - просмотр страницы товара: 1.22\n",
      "\n",
      "Группа A - добавление товара в корзину: 1.175\n",
      "Группа B - добавление товара в корзину: 1.236\n",
      "\n",
      "Группа А - покупки: 1.073\n",
      "Группа B - покупки: 1.141\n"
     ]
    }
   ],
   "source": [
    "print(\"Группа А - просмотр страницы товара:\", a_product_pages)\n",
    "print(\"Группа B - просмотр страницы товара:\", b_product_pages, end='\\n\\n')\n",
    "print(\"Группа A - добавление товара в корзину:\", a_product_carts)\n",
    "print(\"Группа B - добавление товара в корзину:\", b_product_carts, end='\\n\\n')\n",
    "print(\"Группа А - покупки:\", a_purchases)\n",
    "print(\"Группа B - покупки:\", b_purchases)"
   ]
  },
  {
   "cell_type": "markdown",
   "metadata": {},
   "source": [
    "ВЫВОД: \n",
    "- За время А/В теста контрольная группа пользователей опережает группу В\n",
    "\n",
    "- Посмотрим, как с момента регистрации пользователя происходил рост просмотров страницы товара:\n",
    "  - Группа А - рост на 12,8%\n",
    "  - Группа B - рост на 20%\n",
    "- Добавление товара в корзину, рост за 2 недели с момента регистрации пользователя:\n",
    "  - Группа А - рост на 16%\n",
    "  - Группа B - рост на 26,8%\n",
    "- Покупка товара за 2 недели:\n",
    "  - Группа А - рост на 8,4 %\n",
    "  - Группа B - рост на 12,3%\n",
    "  \n",
    "- Создается впечатление, что внедрение новой рекомендательной системы создает неочевидные барьеры для пользователей, которые препятсвуют пользоваться сайтом (рекомендуем обратиться к разработчикам и ux/ui специалистам)"
   ]
  },
  {
   "cell_type": "markdown",
   "metadata": {},
   "source": [
    "#### Статистическая разница долей (проверка z-критерием)"
   ]
  },
  {
   "cell_type": "markdown",
   "metadata": {},
   "source": [
    "- Перейдем к сравнению пропорций для основных метрик: product_page, product_cart и purchase при помощи z-критерия.\n",
    "  - Н0: Доли значений метрик в группах равны\n",
    "  - Н1: Доли значений метрик в группах не равны\n",
    "- количество пользователей в группах отличается, то будем проверять z-критерием количество событий на одного пользователя, чтобы компенсировать разницу по количеству пользователей в группах.\n",
    "- Необходимо задать критический уровень, мы проведем одновременно 4 теста. Старшие коллеги подсказали, что стоит для исключения ошибки первого рода( т.е. отвергнута верная нулевая гипотеза об отсутствии связи между явлениями или искомого эффекта) применить поправку Дана-Шидака:"
   ]
  },
  {
   "cell_type": "markdown",
   "metadata": {},
   "source": [
    "<div class=\"alert alert-block alert-success\">✔️\n",
    "    \n",
    "\n",
    "__Комментарий от тимлида №1__\n",
    "\n",
    "Верная интерпретация нулевой и альтернативной гипотез\n",
    "</div>"
   ]
  },
  {
   "cell_type": "code",
   "execution_count": 79,
   "metadata": {},
   "outputs": [],
   "source": [
    "sh_alpha = 1 - (1 - 0.05)**(1/4)\n"
   ]
  },
  {
   "cell_type": "code",
   "execution_count": 80,
   "metadata": {},
   "outputs": [
    {
     "name": "stdout",
     "output_type": "stream",
     "text": [
      "2330 834 2330 835\n",
      "login p-значение: 0.0947772466553316\n",
      "Не получилось отвергнуть нулевую гипотезу, доли метрик в группах равны\n",
      "\n",
      "704 234 2330 835\n",
      "product_cart p-значение: 0.2342934579445599\n",
      "Не получилось отвергнуть нулевую гипотезу, доли метрик в группах равны\n",
      "\n",
      "1504 472 2330 835\n",
      "product_page p-значение: 4.0076865072125045e-05\n",
      "Отвергаем нулевую гипотезу: доли значений метрик в группах не равны\n",
      "\n",
      "734 230 2330 835\n",
      "purchase p-значение: 0.03302128026729756\n",
      "Не получилось отвергнуть нулевую гипотезу, доли метрик в группах равны\n",
      "\n"
     ]
    }
   ],
   "source": [
    "def z_test(group1, group2, alpha):\n",
    "    for i in event_group_test.index:\n",
    "        p1 = event_group_test[group1][i] / users_bygroup[group1]\n",
    "        # пропорция успехов во второй группе:\n",
    "        p2 = event_group_test[group2][i] / users_bygroup[group2]\n",
    "        \n",
    "        print(event_group_test[group1][i], event_group_test[group2][i], users_bygroup[group1], users_bygroup[group2])\n",
    "        # пропорция успехов в комбинированном датасете:\n",
    "        p_combined = ((event_group_test[group1][i] + event_group_test[group2][i]) / \n",
    "                      (users_bygroup[group1] + users_bygroup[group2]))\n",
    "        # разница пропорций в датасетах\n",
    "        difference = p1 - p2\n",
    "        # считаем статистику в ст.отклонениях стандартного нормального распределения\n",
    "        z_value = difference / mth.sqrt(p_combined * (1 - p_combined) * \n",
    "                                        (1/users_bygroup[group1] + 1/users_bygroup[group2]))\n",
    "        # задаем стандартное нормальное распределение (среднее 0, ст.отклонение 1)\n",
    "        distr = st.norm(0, 1) \n",
    "        p_value = (1 - distr.cdf(abs(z_value))) * 2\n",
    "        print('{} p-значение: {}'.format(event_group_test['event_name'][i], p_value))\n",
    "        if (p_value < alpha):\n",
    "            print(\"Отвергаем нулевую гипотезу: доли значений метрик в группах не равны\")\n",
    "        else:\n",
    "            print(\"Не получилось отвергнуть нулевую гипотезу, доли метрик в группах равны\")\n",
    "        print('')\n",
    "        \n",
    "z_test(\"A\", \"B\", sh_alpha)\n"
   ]
  },
  {
   "cell_type": "markdown",
   "metadata": {},
   "source": [
    "<div class=\"alert alert-block alert-danger\">✍\n",
    "    \n",
    "\n",
    "__Комментарий от тимлида №1__\n",
    "\n",
    "А откуда была взята функция для z-test? Посмотри, пожалуйста, пример в тренежере в \"Принятии решений\". Там дан корректный z-test"
   ]
  },
  {
   "cell_type": "markdown",
   "metadata": {},
   "source": [
    "<div class=\"alert alert-info\"> <b>Комментарии студента:</b> Запуталась, но кажется получилось</div>"
   ]
  },
  {
   "cell_type": "markdown",
   "metadata": {},
   "source": [
    "<div class=\"alert alert-block alert-success\">✔️\n",
    "    \n",
    "\n",
    "__Комментарий от тимлида №2__\n",
    "\n",
    " \n",
    "\n",
    "Здорово, что ты знаешь о такого рода поправках и успешно используешь в своем проекте!\n",
    "    \n",
    "Также можно отметить, что с уменьшением уровня значимости, но уменьшается и мощность теста,  тем самым увеличивается вероятность ошибки второго рода. Такой вот компромисс\n",
    "\n",
    "Это довольно распространенная тема, поэтому рекомендую ознакомиться более подробно - https://youtu.be/qbbY7ubzDoE.\n",
    "\n",
    "</div>"
   ]
  },
  {
   "cell_type": "markdown",
   "metadata": {},
   "source": [
    "ВЫВОД:\n",
    "Для product_pages p-value < sh_alpha, значит мы можем опровергнуть нулевую гипотезу и считаем, что доли значений метрик в группах не равны. \n",
    "Для product_carts, login и purchases p-value > sh_alpha, мы считаем, что нулевая гипотеза верна и нет значимой разницы между долями. "
   ]
  },
  {
   "cell_type": "markdown",
   "metadata": {},
   "source": [
    "<a id='conclusion'></a>"
   ]
  },
  {
   "cell_type": "markdown",
   "metadata": {},
   "source": [
    "### Итоговый вывод"
   ]
  },
  {
   "cell_type": "markdown",
   "metadata": {},
   "source": [
    "Общий вывод:\n",
    "Первое, на что стоит обратить внимание - это то, что количество пользователей в группах А и В было разным.\n",
    "В группе А присутствует 3824 человека\n",
    "В группе В - 2877 человек\n",
    "Всего 6701 человек, группы делятся не равномерно - 57% (А) и 43% (В). На этапе анализа событий ситуация стала ещё хуже - в группе А 2747 человек (75%), в группе В 928 человек (25%). Данное обстоятельство уже значительно будет сказываться на тесте. Можно констатировать, что проведение теста по таким данным не является корректным. Однако, можно посмотреть результаты этого теста.\n",
    "\n",
    "Среднее количество событий login на одного клиента практически не различается между группами (A - 2.15, B - 2.21). По остальным событиям на одного пользователя группа А опережает группу В:\n",
    "\n",
    "Просмотр страницы товара (А - 1.37, B - 1.2)\n",
    "Добавление товара в корзину (А - 0.64, В - 0.61)\n",
    "Покупка (А - 0.65, В - 0.57)\n",
    "Пик событий приходится на 21 декабря (1995 в А и 404 событий в В). Только в первый день теста в группе В было больше событий, чем в группе А (378 против 331 события). В остальных днях группа А опережала группу В по количеству событий. С 14 декабря наблюдаем резкий рост количества событий для группы А.\n",
    "\n",
    "До покупки доходят 30% пользователей группы А и 28% пользователей группы В. Меньше всего разница в конверсии между product_cart и purchase - добавлением товара в корзине и его покупкой (разница в 2% у группы А и у группы В нет разницы). Больше всего падает коверсия между login и product_page уровнями - логином и просмотром страницы товара (-35% у группы А и -46% у группы В)\n",
    "\n",
    "Смотря на изменение ключевых метрик за 14 дней с момента регистрации пользователя можно утверждать, что за 2 недели лайфтайма пользователя группа А опережает группу В по росту всех основных метрик, хотя в некоторых случаях разница и не столь велика.\n",
    "\n",
    "Проверка гипотез о равенстве долей для основных метрик показала, что только по одному типу события - product_pages p-value оказался меньше, чем критический уровень значимости (альфа с поправкой Дана-Шидака). Для долей этого события есть значимая разница. Для двух других метрик p-value меньше альфы, то есть между долями нет значимой разницы.\n",
    "\n",
    "Проведя тест получили, что группа А является лучшей из двух групп по показателям основных метрик. Однако,\n",
    "сам тест не является полностью корректным, поэтому не стоит полагаться на его результаты."
   ]
  },
  {
   "cell_type": "markdown",
   "metadata": {},
   "source": [
    "<div class=\"alert alert-block alert-warning\">📝\n",
    "    \n",
    "\n",
    "__Комментарий от тимлида №1__\n",
    "\n",
    "Итоговый вывод завершает твое исследование. Представлены основные результаты полученные в ходе анализа, но самое главное - даны рекомендации по проведению АВ-теста. Это важное качество для аналитика. Развивай его и дальше\n",
    "    \n",
    "---\n",
    "    \n",
    "Не забудь, пожалуйста, подкорретировать вывод после правок\n",
    "\n",
    "</div>"
   ]
  },
  {
   "cell_type": "markdown",
   "metadata": {},
   "source": [
    "Рекомендации по проведению А/В теста:\n",
    "- составление примерно одинаковых контрольной и эксперементальной группы по своему размеру и качеству пользователей (т.е. совершающих события). Для исследования это является не строгим, но ограничивающим фактором для получения объективной картины. \n",
    "- Минимизация пересечения в датафреймах исследуемого теста с другими (особенно в случае попадения пользователей из стороннего теста в контрольную и эксперементальную группы)\n",
    "- Исходная трактовка пропусков в данных датафрейма при записи и исходно ведение данных в корректных типах"
   ]
  },
  {
   "cell_type": "markdown",
   "metadata": {},
   "source": [
    "<div class=\"alert alert-block alert-success\">✔️\n",
    "    \n",
    "\n",
    "__Комментарий от тимлида №2__\n",
    "\n",
    "Даны рекомендации по проведению АВ-теста. Это важное качество для аналитика. Развивай его и дальше\n",
    "\n",
    "</div>"
   ]
  },
  {
   "cell_type": "markdown",
   "metadata": {},
   "source": [
    "<div class=\"alert alert-block alert-warning\">📝\n",
    "Комментарий от тимлида №1 </b> \n",
    "\n",
    "\n",
    "\n",
    "У тебя получилась очень сильная и хорошая работа. Здорово, что расчеты ты сопровождаешь иллюстрациями, а так же не забываешь про комментарии, твой проект интересно проверять. \n",
    "\n",
    "---\n",
    "\n",
    "Нужно поправить:\n",
    "\n",
    "1) Оформление кода\n",
    "\n",
    "2) Lifetime событий\n",
    "\n",
    "3) Падает код\n",
    "\n",
    "4) Гипотезы\n",
    "\n",
    "5) Подправить выводы, после изменений\n",
    "\n",
    "----\n",
    "</div>"
   ]
  },
  {
   "cell_type": "markdown",
   "metadata": {},
   "source": [
    "<div class=\"alert alert-block alert-success\">✔️\n",
    "    \n",
    "\n",
    "__Комментарий от тимлида №2__\n",
    "\n",
    "От себя хочу порекомендовать тебе отличные источники про AB тестирование\n",
    "    \n",
    "- Книга Доверительное A/B тестирование | Рон Кохави (https://dmkpress.com/catalog/computer/software_development/978-5-97060-913-2/)\n",
    "- Как устроено A/B-тестирование в Авито (https://habr.com/ru/company/avito/blog/454164/)\n",
    "- Как улучшить ваши A/B-тесты: лайфхаки аналитиков Авито. Часть 1 (https://habr.com/ru/company/avito/blog/571094/)\n",
    "- Как улучшить ваши A/B-тесты: лайфхаки аналитиков Авито. Часть 2 (https://habr.com/ru/company/avito/blog/571096/)\n",
    "    \n",
    "---\n",
    "    \n",
    "\n",
    "В остальном всё чудно😊. Твой проект так и просится на github =)   \n",
    "    \n",
    "Поздравляю с успешным завершением проекта 😊👍\n",
    "И желаю успехов на SQL 😊\n",
    "</div>"
   ]
  },
  {
   "cell_type": "code",
   "execution_count": null,
   "metadata": {},
   "outputs": [],
   "source": []
  }
 ],
 "metadata": {
  "ExecuteTimeLog": [
   {
    "duration": 1385,
    "start_time": "2023-09-24T20:51:36.340Z"
   },
   {
    "duration": 4,
    "start_time": "2023-09-24T20:54:50.083Z"
   },
   {
    "duration": 90,
    "start_time": "2023-09-24T20:55:11.601Z"
   },
   {
    "duration": 94,
    "start_time": "2023-09-24T20:56:57.143Z"
   },
   {
    "duration": 37,
    "start_time": "2023-09-24T20:57:17.061Z"
   },
   {
    "duration": 8,
    "start_time": "2023-09-24T20:57:18.261Z"
   },
   {
    "duration": 5,
    "start_time": "2023-09-24T20:58:07.691Z"
   },
   {
    "duration": 7,
    "start_time": "2023-09-24T20:58:35.471Z"
   },
   {
    "duration": 374,
    "start_time": "2023-09-24T20:58:47.460Z"
   },
   {
    "duration": 8,
    "start_time": "2023-09-24T20:59:02.629Z"
   },
   {
    "duration": 105,
    "start_time": "2023-09-24T20:59:53.392Z"
   },
   {
    "duration": 15,
    "start_time": "2023-09-24T20:59:56.243Z"
   },
   {
    "duration": 933,
    "start_time": "2023-09-24T21:00:05.602Z"
   },
   {
    "duration": 564,
    "start_time": "2023-09-24T21:00:47.237Z"
   },
   {
    "duration": 18,
    "start_time": "2023-09-24T21:01:02.952Z"
   },
   {
    "duration": 5,
    "start_time": "2023-09-24T21:01:12.032Z"
   },
   {
    "duration": 9,
    "start_time": "2023-09-24T21:01:33.633Z"
   },
   {
    "duration": 98,
    "start_time": "2023-09-24T21:01:59.566Z"
   },
   {
    "duration": 53,
    "start_time": "2023-09-24T21:02:24.766Z"
   },
   {
    "duration": 16,
    "start_time": "2023-09-24T21:02:37.183Z"
   },
   {
    "duration": 9,
    "start_time": "2023-09-24T21:03:14.125Z"
   },
   {
    "duration": 23,
    "start_time": "2023-09-24T21:03:22.001Z"
   },
   {
    "duration": 18,
    "start_time": "2023-09-24T21:03:32.527Z"
   },
   {
    "duration": 74,
    "start_time": "2023-09-24T21:03:45.828Z"
   },
   {
    "duration": 62,
    "start_time": "2023-09-24T21:03:50.682Z"
   },
   {
    "duration": 246,
    "start_time": "2023-09-24T21:11:07.547Z"
   },
   {
    "duration": 58,
    "start_time": "2023-09-24T21:11:40.747Z"
   },
   {
    "duration": 20,
    "start_time": "2023-09-24T21:13:17.544Z"
   },
   {
    "duration": 33,
    "start_time": "2023-09-24T21:13:24.330Z"
   },
   {
    "duration": 10,
    "start_time": "2023-09-24T21:13:30.647Z"
   },
   {
    "duration": 8,
    "start_time": "2023-09-24T21:13:36.436Z"
   },
   {
    "duration": 18,
    "start_time": "2023-09-24T21:20:15.141Z"
   },
   {
    "duration": 38,
    "start_time": "2023-09-24T21:21:25.939Z"
   },
   {
    "duration": 1400,
    "start_time": "2023-09-24T21:21:33.462Z"
   },
   {
    "duration": 12,
    "start_time": "2023-09-24T21:21:52.027Z"
   },
   {
    "duration": 4,
    "start_time": "2023-09-24T21:24:29.387Z"
   },
   {
    "duration": 50,
    "start_time": "2023-09-24T21:24:29.574Z"
   },
   {
    "duration": 26,
    "start_time": "2023-09-24T21:24:29.785Z"
   },
   {
    "duration": 5,
    "start_time": "2023-09-24T21:24:29.987Z"
   },
   {
    "duration": 9,
    "start_time": "2023-09-24T21:24:30.168Z"
   },
   {
    "duration": 100,
    "start_time": "2023-09-24T21:24:30.373Z"
   },
   {
    "duration": 17,
    "start_time": "2023-09-24T21:24:30.539Z"
   },
   {
    "duration": 23,
    "start_time": "2023-09-24T21:24:30.736Z"
   },
   {
    "duration": 5,
    "start_time": "2023-09-24T21:24:30.936Z"
   },
   {
    "duration": 16,
    "start_time": "2023-09-24T21:24:31.119Z"
   },
   {
    "duration": 10,
    "start_time": "2023-09-24T21:24:31.487Z"
   },
   {
    "duration": 21,
    "start_time": "2023-09-24T21:24:31.688Z"
   },
   {
    "duration": 15,
    "start_time": "2023-09-24T21:24:31.969Z"
   },
   {
    "duration": 550,
    "start_time": "2023-09-24T21:24:32.847Z"
   },
   {
    "duration": 81,
    "start_time": "2023-09-24T21:24:33.399Z"
   },
   {
    "duration": 63,
    "start_time": "2023-09-24T21:24:35.111Z"
   },
   {
    "duration": 224,
    "start_time": "2023-09-24T21:24:36.510Z"
   },
   {
    "duration": 10,
    "start_time": "2023-09-24T21:25:20.761Z"
   },
   {
    "duration": 7,
    "start_time": "2023-09-24T21:26:23.536Z"
   },
   {
    "duration": 21,
    "start_time": "2023-09-24T21:26:31.336Z"
   },
   {
    "duration": 27,
    "start_time": "2023-09-24T21:26:57.020Z"
   },
   {
    "duration": 9,
    "start_time": "2023-09-24T21:27:47.573Z"
   },
   {
    "duration": 1770,
    "start_time": "2023-09-24T21:28:13.213Z"
   },
   {
    "duration": 9,
    "start_time": "2023-09-24T21:28:35.925Z"
   },
   {
    "duration": 14,
    "start_time": "2023-09-24T21:29:37.689Z"
   },
   {
    "duration": 7,
    "start_time": "2023-09-24T21:29:39.354Z"
   },
   {
    "duration": 37,
    "start_time": "2023-09-24T21:29:42.452Z"
   },
   {
    "duration": 9,
    "start_time": "2023-09-24T21:29:43.535Z"
   },
   {
    "duration": 28,
    "start_time": "2023-09-24T21:29:44.169Z"
   },
   {
    "duration": 12,
    "start_time": "2023-09-24T21:29:44.702Z"
   },
   {
    "duration": 7,
    "start_time": "2023-09-24T21:29:45.168Z"
   },
   {
    "duration": 31,
    "start_time": "2023-09-24T21:29:58.621Z"
   },
   {
    "duration": 20,
    "start_time": "2023-09-24T21:29:59.437Z"
   },
   {
    "duration": 27,
    "start_time": "2023-09-24T21:30:12.287Z"
   },
   {
    "duration": 12,
    "start_time": "2023-09-24T21:30:13.035Z"
   },
   {
    "duration": 7,
    "start_time": "2023-09-24T21:30:13.936Z"
   },
   {
    "duration": 6,
    "start_time": "2023-09-24T21:30:28.317Z"
   },
   {
    "duration": 8,
    "start_time": "2023-09-24T21:30:29.488Z"
   },
   {
    "duration": 10,
    "start_time": "2023-09-24T21:31:10.061Z"
   },
   {
    "duration": 5,
    "start_time": "2023-09-24T21:37:56.566Z"
   },
   {
    "duration": 61,
    "start_time": "2023-09-24T21:37:56.838Z"
   },
   {
    "duration": 28,
    "start_time": "2023-09-24T21:37:57.326Z"
   },
   {
    "duration": 5,
    "start_time": "2023-09-24T21:37:57.935Z"
   },
   {
    "duration": 8,
    "start_time": "2023-09-24T21:37:58.511Z"
   },
   {
    "duration": 94,
    "start_time": "2023-09-24T21:37:59.309Z"
   },
   {
    "duration": 10,
    "start_time": "2023-09-24T21:38:00.211Z"
   },
   {
    "duration": 14,
    "start_time": "2023-09-24T21:38:00.791Z"
   },
   {
    "duration": 6,
    "start_time": "2023-09-24T21:38:01.238Z"
   },
   {
    "duration": 17,
    "start_time": "2023-09-24T21:38:01.961Z"
   },
   {
    "duration": 14,
    "start_time": "2023-09-24T21:38:03.857Z"
   },
   {
    "duration": 17,
    "start_time": "2023-09-24T21:38:04.307Z"
   },
   {
    "duration": 15,
    "start_time": "2023-09-24T21:38:04.873Z"
   },
   {
    "duration": 563,
    "start_time": "2023-09-24T21:38:05.375Z"
   },
   {
    "duration": 58,
    "start_time": "2023-09-24T21:38:06.187Z"
   },
   {
    "duration": 65,
    "start_time": "2023-09-24T21:38:06.894Z"
   },
   {
    "duration": 209,
    "start_time": "2023-09-24T21:38:08.861Z"
   },
   {
    "duration": 8,
    "start_time": "2023-09-24T21:38:10.827Z"
   },
   {
    "duration": 1330,
    "start_time": "2023-09-24T21:38:11.622Z"
   },
   {
    "duration": 1485,
    "start_time": "2023-09-24T21:38:23.626Z"
   },
   {
    "duration": 0,
    "start_time": "2023-09-24T21:38:25.113Z"
   },
   {
    "duration": 7,
    "start_time": "2023-09-24T21:38:31.875Z"
   },
   {
    "duration": 31,
    "start_time": "2023-09-24T21:38:34.952Z"
   },
   {
    "duration": 10,
    "start_time": "2023-09-24T21:38:36.412Z"
   },
   {
    "duration": 28,
    "start_time": "2023-09-24T21:38:38.112Z"
   },
   {
    "duration": 9,
    "start_time": "2023-09-24T21:38:39.022Z"
   },
   {
    "duration": 8,
    "start_time": "2023-09-24T21:38:44.662Z"
   },
   {
    "duration": 7,
    "start_time": "2023-09-24T21:41:47.890Z"
   },
   {
    "duration": 5,
    "start_time": "2023-09-24T21:41:56.991Z"
   },
   {
    "duration": 41,
    "start_time": "2023-09-24T21:42:09.342Z"
   },
   {
    "duration": 4,
    "start_time": "2023-09-24T21:42:20.620Z"
   },
   {
    "duration": 22,
    "start_time": "2023-09-24T21:42:53.739Z"
   },
   {
    "duration": 8,
    "start_time": "2023-09-24T21:43:49.455Z"
   },
   {
    "duration": 13,
    "start_time": "2023-09-24T21:43:58.690Z"
   },
   {
    "duration": 14,
    "start_time": "2023-09-24T21:53:44.968Z"
   },
   {
    "duration": 47,
    "start_time": "2023-09-24T21:53:59.671Z"
   },
   {
    "duration": 63,
    "start_time": "2023-09-24T21:54:06.469Z"
   },
   {
    "duration": 105,
    "start_time": "2023-09-24T21:54:20.683Z"
   },
   {
    "duration": 57,
    "start_time": "2023-09-24T21:54:28.019Z"
   },
   {
    "duration": 12,
    "start_time": "2023-09-24T21:54:49.491Z"
   },
   {
    "duration": 51,
    "start_time": "2023-09-24T21:54:53.734Z"
   },
   {
    "duration": 8,
    "start_time": "2023-09-24T21:55:07.461Z"
   },
   {
    "duration": 7,
    "start_time": "2023-09-24T21:55:15.225Z"
   },
   {
    "duration": 1663,
    "start_time": "2023-09-25T20:00:34.321Z"
   },
   {
    "duration": 106,
    "start_time": "2023-09-25T20:00:35.987Z"
   },
   {
    "duration": 68,
    "start_time": "2023-09-25T20:00:36.336Z"
   },
   {
    "duration": 6,
    "start_time": "2023-09-25T20:00:36.783Z"
   },
   {
    "duration": 10,
    "start_time": "2023-09-25T20:00:37.231Z"
   },
   {
    "duration": 246,
    "start_time": "2023-09-25T20:00:37.680Z"
   },
   {
    "duration": 11,
    "start_time": "2023-09-25T20:00:38.017Z"
   },
   {
    "duration": 17,
    "start_time": "2023-09-25T20:00:38.279Z"
   },
   {
    "duration": 5,
    "start_time": "2023-09-25T20:00:38.435Z"
   },
   {
    "duration": 28,
    "start_time": "2023-09-25T20:00:38.615Z"
   },
   {
    "duration": 11,
    "start_time": "2023-09-25T20:00:38.953Z"
   },
   {
    "duration": 24,
    "start_time": "2023-09-25T20:00:39.132Z"
   },
   {
    "duration": 23,
    "start_time": "2023-09-25T20:00:39.331Z"
   },
   {
    "duration": 918,
    "start_time": "2023-09-25T20:00:39.532Z"
   },
   {
    "duration": 93,
    "start_time": "2023-09-25T20:00:40.452Z"
   },
   {
    "duration": 107,
    "start_time": "2023-09-25T20:00:40.547Z"
   },
   {
    "duration": 343,
    "start_time": "2023-09-25T20:00:40.657Z"
   },
   {
    "duration": 8,
    "start_time": "2023-09-25T20:13:45.915Z"
   },
   {
    "duration": 15,
    "start_time": "2023-09-25T20:13:46.627Z"
   },
   {
    "duration": 37,
    "start_time": "2023-09-25T20:13:50.283Z"
   },
   {
    "duration": 11,
    "start_time": "2023-09-25T20:13:50.934Z"
   },
   {
    "duration": 8,
    "start_time": "2023-09-25T20:13:53.333Z"
   },
   {
    "duration": 11,
    "start_time": "2023-09-25T20:13:57.815Z"
   },
   {
    "duration": 7,
    "start_time": "2023-09-25T20:13:58.232Z"
   },
   {
    "duration": 43,
    "start_time": "2023-09-25T20:13:58.600Z"
   },
   {
    "duration": 6,
    "start_time": "2023-09-25T20:13:59.033Z"
   },
   {
    "duration": 6,
    "start_time": "2023-09-25T20:14:23.264Z"
   },
   {
    "duration": 17,
    "start_time": "2023-09-25T20:15:39.518Z"
   },
   {
    "duration": 105,
    "start_time": "2023-09-25T20:16:07.582Z"
   },
   {
    "duration": 70,
    "start_time": "2023-09-25T20:18:15.467Z"
   },
   {
    "duration": 11,
    "start_time": "2023-09-25T20:23:17.453Z"
   },
   {
    "duration": 53,
    "start_time": "2023-09-25T20:23:40.619Z"
   },
   {
    "duration": 52,
    "start_time": "2023-09-25T20:24:00.952Z"
   },
   {
    "duration": 60,
    "start_time": "2023-09-25T20:24:46.423Z"
   },
   {
    "duration": 9,
    "start_time": "2023-09-25T20:24:47.004Z"
   },
   {
    "duration": 13,
    "start_time": "2023-09-25T20:24:48.223Z"
   },
   {
    "duration": 12,
    "start_time": "2023-09-25T20:25:06.761Z"
   },
   {
    "duration": 15,
    "start_time": "2023-09-25T20:25:13.502Z"
   },
   {
    "duration": 9,
    "start_time": "2023-09-25T20:25:38.937Z"
   },
   {
    "duration": 27,
    "start_time": "2023-09-25T20:25:59.569Z"
   },
   {
    "duration": 20,
    "start_time": "2023-09-25T20:30:57.423Z"
   },
   {
    "duration": 42,
    "start_time": "2023-09-25T20:31:14.687Z"
   },
   {
    "duration": 24,
    "start_time": "2023-09-25T20:31:39.122Z"
   },
   {
    "duration": 4,
    "start_time": "2023-09-25T20:35:59.423Z"
   },
   {
    "duration": 454,
    "start_time": "2023-09-25T20:36:11.540Z"
   },
   {
    "duration": 11,
    "start_time": "2023-09-25T20:36:29.671Z"
   },
   {
    "duration": 17,
    "start_time": "2023-09-25T20:36:34.709Z"
   },
   {
    "duration": 174,
    "start_time": "2023-09-25T20:36:44.674Z"
   },
   {
    "duration": 3,
    "start_time": "2023-09-25T20:57:14.372Z"
   },
   {
    "duration": 7,
    "start_time": "2023-09-25T20:57:19.160Z"
   },
   {
    "duration": 14,
    "start_time": "2023-09-25T20:57:23.171Z"
   },
   {
    "duration": 10,
    "start_time": "2023-09-25T20:57:48.069Z"
   },
   {
    "duration": 91,
    "start_time": "2023-09-25T20:57:52.541Z"
   },
   {
    "duration": 30,
    "start_time": "2023-09-25T20:58:13.803Z"
   },
   {
    "duration": 79,
    "start_time": "2023-09-25T20:58:26.288Z"
   },
   {
    "duration": 12,
    "start_time": "2023-09-25T21:03:43.786Z"
   },
   {
    "duration": 15,
    "start_time": "2023-09-25T21:04:05.419Z"
   },
   {
    "duration": 7,
    "start_time": "2023-09-25T21:04:33.153Z"
   },
   {
    "duration": 20,
    "start_time": "2023-09-25T21:11:28.184Z"
   },
   {
    "duration": 22,
    "start_time": "2023-09-25T21:13:45.225Z"
   },
   {
    "duration": 31,
    "start_time": "2023-09-25T21:13:45.852Z"
   },
   {
    "duration": 8,
    "start_time": "2023-09-25T21:15:25.053Z"
   },
   {
    "duration": 25,
    "start_time": "2023-09-25T21:15:34.605Z"
   },
   {
    "duration": 10,
    "start_time": "2023-09-25T21:16:01.868Z"
   },
   {
    "duration": 10,
    "start_time": "2023-09-25T21:17:05.636Z"
   },
   {
    "duration": 11,
    "start_time": "2023-09-25T21:17:34.401Z"
   },
   {
    "duration": 448,
    "start_time": "2023-09-25T21:19:13.537Z"
   },
   {
    "duration": 31,
    "start_time": "2023-09-25T21:19:27.468Z"
   },
   {
    "duration": 54,
    "start_time": "2023-09-25T21:20:09.038Z"
   },
   {
    "duration": 16,
    "start_time": "2023-09-25T21:23:23.036Z"
   },
   {
    "duration": 21,
    "start_time": "2023-09-25T21:26:28.114Z"
   },
   {
    "duration": 10,
    "start_time": "2023-09-25T21:26:45.586Z"
   },
   {
    "duration": 476,
    "start_time": "2023-09-25T21:26:46.036Z"
   },
   {
    "duration": 8,
    "start_time": "2023-09-25T21:26:48.805Z"
   },
   {
    "duration": 12,
    "start_time": "2023-09-25T21:26:49.439Z"
   },
   {
    "duration": 361,
    "start_time": "2023-09-25T21:26:58.043Z"
   },
   {
    "duration": 16,
    "start_time": "2023-09-25T21:27:04.072Z"
   },
   {
    "duration": 102,
    "start_time": "2023-09-25T21:27:05.555Z"
   },
   {
    "duration": 56,
    "start_time": "2023-09-25T21:27:10.621Z"
   },
   {
    "duration": 293,
    "start_time": "2023-09-25T21:27:56.786Z"
   },
   {
    "duration": 16,
    "start_time": "2023-09-25T21:27:57.751Z"
   },
   {
    "duration": 29,
    "start_time": "2023-09-25T21:27:58.623Z"
   },
   {
    "duration": 286,
    "start_time": "2023-09-25T21:28:33.561Z"
   },
   {
    "duration": 15,
    "start_time": "2023-09-25T21:28:34.305Z"
   },
   {
    "duration": 24,
    "start_time": "2023-09-25T21:28:34.824Z"
   },
   {
    "duration": 13,
    "start_time": "2023-09-25T21:29:28.471Z"
   },
   {
    "duration": 239,
    "start_time": "2023-09-25T21:30:39.376Z"
   },
   {
    "duration": 11,
    "start_time": "2023-09-25T21:32:56.984Z"
   },
   {
    "duration": 17,
    "start_time": "2023-09-25T21:33:09.402Z"
   },
   {
    "duration": 11,
    "start_time": "2023-09-25T21:33:14.949Z"
   },
   {
    "duration": 96,
    "start_time": "2023-09-25T21:40:47.383Z"
   },
   {
    "duration": 18,
    "start_time": "2023-09-25T21:41:09.998Z"
   },
   {
    "duration": 8,
    "start_time": "2023-09-25T21:42:20.482Z"
   },
   {
    "duration": 16,
    "start_time": "2023-09-25T21:42:37.616Z"
   },
   {
    "duration": 9,
    "start_time": "2023-09-25T21:43:51.901Z"
   },
   {
    "duration": 9,
    "start_time": "2023-09-25T21:44:04.151Z"
   },
   {
    "duration": 6,
    "start_time": "2023-09-25T21:44:12.570Z"
   },
   {
    "duration": 71,
    "start_time": "2023-09-25T21:44:12.782Z"
   },
   {
    "duration": 40,
    "start_time": "2023-09-25T21:44:12.999Z"
   },
   {
    "duration": 6,
    "start_time": "2023-09-25T21:44:13.181Z"
   },
   {
    "duration": 8,
    "start_time": "2023-09-25T21:44:13.381Z"
   },
   {
    "duration": 96,
    "start_time": "2023-09-25T21:44:13.580Z"
   },
   {
    "duration": 12,
    "start_time": "2023-09-25T21:44:13.960Z"
   },
   {
    "duration": 27,
    "start_time": "2023-09-25T21:44:14.008Z"
   },
   {
    "duration": 4,
    "start_time": "2023-09-25T21:44:14.381Z"
   },
   {
    "duration": 19,
    "start_time": "2023-09-25T21:44:14.401Z"
   },
   {
    "duration": 20,
    "start_time": "2023-09-25T21:44:14.719Z"
   },
   {
    "duration": 25,
    "start_time": "2023-09-25T21:44:14.928Z"
   },
   {
    "duration": 18,
    "start_time": "2023-09-25T21:44:15.182Z"
   },
   {
    "duration": 702,
    "start_time": "2023-09-25T21:44:15.401Z"
   },
   {
    "duration": 87,
    "start_time": "2023-09-25T21:44:16.105Z"
   },
   {
    "duration": 94,
    "start_time": "2023-09-25T21:44:16.193Z"
   },
   {
    "duration": 316,
    "start_time": "2023-09-25T21:44:16.522Z"
   },
   {
    "duration": 10,
    "start_time": "2023-09-25T21:44:17.903Z"
   },
   {
    "duration": 20,
    "start_time": "2023-09-25T21:44:18.315Z"
   },
   {
    "duration": 38,
    "start_time": "2023-09-25T21:44:23.799Z"
   },
   {
    "duration": 11,
    "start_time": "2023-09-25T21:44:24.268Z"
   },
   {
    "duration": 8,
    "start_time": "2023-09-25T21:44:25.400Z"
   },
   {
    "duration": 14,
    "start_time": "2023-09-25T21:44:33.019Z"
   },
   {
    "duration": 6,
    "start_time": "2023-09-25T21:44:33.600Z"
   },
   {
    "duration": 41,
    "start_time": "2023-09-25T21:44:34.084Z"
   },
   {
    "duration": 9,
    "start_time": "2023-09-25T21:44:40.521Z"
   },
   {
    "duration": 42,
    "start_time": "2023-09-25T21:44:40.920Z"
   },
   {
    "duration": 5,
    "start_time": "2023-09-25T21:44:41.899Z"
   },
   {
    "duration": 17,
    "start_time": "2023-09-25T21:44:43.083Z"
   },
   {
    "duration": 9,
    "start_time": "2023-09-25T21:44:45.902Z"
   },
   {
    "duration": 27,
    "start_time": "2023-09-25T21:44:48.508Z"
   },
   {
    "duration": 19,
    "start_time": "2023-09-25T21:44:49.718Z"
   },
   {
    "duration": 68,
    "start_time": "2023-09-25T21:45:00.170Z"
   },
   {
    "duration": 10,
    "start_time": "2023-09-25T21:45:00.357Z"
   },
   {
    "duration": 10,
    "start_time": "2023-09-25T21:45:00.549Z"
   },
   {
    "duration": 13,
    "start_time": "2023-09-25T21:45:00.934Z"
   },
   {
    "duration": 7,
    "start_time": "2023-09-25T21:45:24.286Z"
   },
   {
    "duration": 7,
    "start_time": "2023-09-25T21:45:24.468Z"
   },
   {
    "duration": 53,
    "start_time": "2023-09-25T21:45:24.700Z"
   },
   {
    "duration": 4,
    "start_time": "2023-09-25T21:45:24.899Z"
   },
   {
    "duration": 20,
    "start_time": "2023-09-25T21:45:25.298Z"
   },
   {
    "duration": 6,
    "start_time": "2023-09-25T21:45:25.701Z"
   },
   {
    "duration": 14,
    "start_time": "2023-09-25T21:45:26.080Z"
   },
   {
    "duration": 10,
    "start_time": "2023-09-25T21:45:26.749Z"
   },
   {
    "duration": 48,
    "start_time": "2023-09-25T21:45:27.249Z"
   },
   {
    "duration": 9,
    "start_time": "2023-09-25T21:45:27.667Z"
   },
   {
    "duration": 8,
    "start_time": "2023-09-25T21:45:28.050Z"
   },
   {
    "duration": 13,
    "start_time": "2023-09-25T21:45:28.835Z"
   },
   {
    "duration": 9,
    "start_time": "2023-09-25T21:45:29.284Z"
   },
   {
    "duration": 16,
    "start_time": "2023-09-25T21:45:29.750Z"
   },
   {
    "duration": 23,
    "start_time": "2023-09-25T21:45:31.799Z"
   },
   {
    "duration": 11,
    "start_time": "2023-09-25T21:45:33.019Z"
   },
   {
    "duration": 16,
    "start_time": "2023-09-25T21:45:46.732Z"
   },
   {
    "duration": 18,
    "start_time": "2023-09-25T22:02:51.968Z"
   },
   {
    "duration": 13,
    "start_time": "2023-09-25T22:03:33.516Z"
   },
   {
    "duration": 69,
    "start_time": "2023-09-25T22:04:55.333Z"
   },
   {
    "duration": 19,
    "start_time": "2023-09-25T22:04:56.527Z"
   },
   {
    "duration": 21,
    "start_time": "2023-09-25T22:05:14.967Z"
   },
   {
    "duration": 66,
    "start_time": "2023-09-25T22:06:48.583Z"
   },
   {
    "duration": 22,
    "start_time": "2023-09-25T22:06:49.265Z"
   },
   {
    "duration": 13,
    "start_time": "2023-09-25T22:06:57.582Z"
   },
   {
    "duration": 8,
    "start_time": "2023-09-25T22:07:18.092Z"
   },
   {
    "duration": 22,
    "start_time": "2023-09-25T22:07:34.083Z"
   },
   {
    "duration": 1858,
    "start_time": "2023-09-25T22:07:50.484Z"
   },
   {
    "duration": 510,
    "start_time": "2023-09-25T22:07:54.502Z"
   },
   {
    "duration": 61,
    "start_time": "2023-09-26T14:21:47.031Z"
   },
   {
    "duration": 8,
    "start_time": "2023-09-26T14:23:58.635Z"
   },
   {
    "duration": 1415,
    "start_time": "2023-09-26T14:24:09.645Z"
   },
   {
    "duration": 178,
    "start_time": "2023-09-26T14:24:11.062Z"
   },
   {
    "duration": 74,
    "start_time": "2023-09-26T14:24:11.242Z"
   },
   {
    "duration": 5,
    "start_time": "2023-09-26T14:24:11.319Z"
   },
   {
    "duration": 11,
    "start_time": "2023-09-26T14:24:11.424Z"
   },
   {
    "duration": 261,
    "start_time": "2023-09-26T14:24:11.626Z"
   },
   {
    "duration": 12,
    "start_time": "2023-09-26T14:24:11.890Z"
   },
   {
    "duration": 14,
    "start_time": "2023-09-26T14:24:12.058Z"
   },
   {
    "duration": 5,
    "start_time": "2023-09-26T14:24:12.258Z"
   },
   {
    "duration": 17,
    "start_time": "2023-09-26T14:24:12.460Z"
   },
   {
    "duration": 10,
    "start_time": "2023-09-26T14:24:13.040Z"
   },
   {
    "duration": 21,
    "start_time": "2023-09-26T14:24:13.441Z"
   },
   {
    "duration": 16,
    "start_time": "2023-09-26T14:24:13.681Z"
   },
   {
    "duration": 1704,
    "start_time": "2023-09-26T14:24:13.891Z"
   },
   {
    "duration": 84,
    "start_time": "2023-09-26T14:24:15.597Z"
   },
   {
    "duration": 73,
    "start_time": "2023-09-26T14:24:15.683Z"
   },
   {
    "duration": 280,
    "start_time": "2023-09-26T14:24:15.758Z"
   },
   {
    "duration": 10,
    "start_time": "2023-09-26T14:24:16.041Z"
   },
   {
    "duration": 10,
    "start_time": "2023-09-26T14:24:16.945Z"
   },
   {
    "duration": 35,
    "start_time": "2023-09-26T14:24:27.709Z"
   },
   {
    "duration": 14,
    "start_time": "2023-09-26T14:24:27.959Z"
   },
   {
    "duration": 7,
    "start_time": "2023-09-26T14:24:28.242Z"
   },
   {
    "duration": 8,
    "start_time": "2023-09-26T14:24:28.947Z"
   },
   {
    "duration": 8,
    "start_time": "2023-09-26T14:24:29.139Z"
   },
   {
    "duration": 38,
    "start_time": "2023-09-26T14:24:29.380Z"
   },
   {
    "duration": 5,
    "start_time": "2023-09-26T14:24:29.645Z"
   },
   {
    "duration": 13,
    "start_time": "2023-09-26T14:24:30.610Z"
   },
   {
    "duration": 5,
    "start_time": "2023-09-26T14:24:31.444Z"
   },
   {
    "duration": 16,
    "start_time": "2023-09-26T14:24:32.375Z"
   },
   {
    "duration": 213,
    "start_time": "2023-09-26T14:24:33.493Z"
   },
   {
    "duration": 442,
    "start_time": "2023-09-26T14:25:44.250Z"
   },
   {
    "duration": 24,
    "start_time": "2023-09-26T14:26:45.884Z"
   },
   {
    "duration": 12,
    "start_time": "2023-09-26T14:27:05.301Z"
   },
   {
    "duration": 23,
    "start_time": "2023-09-26T14:28:37.359Z"
   },
   {
    "duration": 1291,
    "start_time": "2023-09-26T14:28:38.994Z"
   },
   {
    "duration": 166,
    "start_time": "2023-09-26T14:34:32.884Z"
   },
   {
    "duration": 17,
    "start_time": "2023-09-26T14:34:33.283Z"
   },
   {
    "duration": 108,
    "start_time": "2023-09-26T14:34:56.910Z"
   },
   {
    "duration": 17,
    "start_time": "2023-09-26T14:35:18.694Z"
   },
   {
    "duration": 171,
    "start_time": "2023-09-26T14:36:56.410Z"
   },
   {
    "duration": 116,
    "start_time": "2023-09-26T14:38:10.743Z"
   },
   {
    "duration": 17,
    "start_time": "2023-09-26T14:38:44.629Z"
   },
   {
    "duration": 7,
    "start_time": "2023-09-26T14:39:00.264Z"
   },
   {
    "duration": 305,
    "start_time": "2023-09-26T14:39:38.296Z"
   },
   {
    "duration": 111,
    "start_time": "2023-09-26T14:40:03.013Z"
   },
   {
    "duration": 199,
    "start_time": "2023-09-26T14:40:15.663Z"
   },
   {
    "duration": 188,
    "start_time": "2023-09-26T14:40:43.699Z"
   },
   {
    "duration": 23,
    "start_time": "2023-09-26T14:40:54.302Z"
   },
   {
    "duration": 1446,
    "start_time": "2023-09-26T14:40:55.530Z"
   },
   {
    "duration": 1288,
    "start_time": "2023-09-26T14:42:11.682Z"
   },
   {
    "duration": 16,
    "start_time": "2023-09-26T14:42:23.684Z"
   },
   {
    "duration": 26,
    "start_time": "2023-09-26T14:42:35.504Z"
   },
   {
    "duration": 26,
    "start_time": "2023-09-26T14:42:48.630Z"
   },
   {
    "duration": 5,
    "start_time": "2023-09-26T14:43:25.983Z"
   },
   {
    "duration": 13,
    "start_time": "2023-09-26T14:43:39.765Z"
   },
   {
    "duration": 13,
    "start_time": "2023-09-26T14:43:49.708Z"
   },
   {
    "duration": 26,
    "start_time": "2023-09-26T14:44:05.546Z"
   },
   {
    "duration": 1495,
    "start_time": "2023-10-09T12:08:10.132Z"
   },
   {
    "duration": 108,
    "start_time": "2023-10-09T12:08:11.630Z"
   },
   {
    "duration": 98,
    "start_time": "2023-10-09T12:08:11.740Z"
   },
   {
    "duration": 204,
    "start_time": "2023-10-09T12:08:11.840Z"
   },
   {
    "duration": 5,
    "start_time": "2023-10-09T12:08:12.045Z"
   },
   {
    "duration": 8,
    "start_time": "2023-10-09T12:08:12.427Z"
   },
   {
    "duration": 12,
    "start_time": "2023-10-09T12:08:12.902Z"
   },
   {
    "duration": 14,
    "start_time": "2023-10-09T12:08:13.587Z"
   },
   {
    "duration": 5,
    "start_time": "2023-10-09T12:08:14.059Z"
   },
   {
    "duration": 17,
    "start_time": "2023-10-09T12:08:14.302Z"
   },
   {
    "duration": 10,
    "start_time": "2023-10-09T12:08:14.910Z"
   },
   {
    "duration": 21,
    "start_time": "2023-10-09T12:08:15.201Z"
   },
   {
    "duration": 15,
    "start_time": "2023-10-09T12:08:15.521Z"
   },
   {
    "duration": 834,
    "start_time": "2023-10-09T12:08:15.838Z"
   },
   {
    "duration": 75,
    "start_time": "2023-10-09T12:08:16.673Z"
   },
   {
    "duration": 77,
    "start_time": "2023-10-09T12:08:16.750Z"
   },
   {
    "duration": 239,
    "start_time": "2023-10-09T12:08:17.572Z"
   },
   {
    "duration": 7,
    "start_time": "2023-10-09T12:08:18.706Z"
   },
   {
    "duration": 10,
    "start_time": "2023-10-09T12:08:18.949Z"
   },
   {
    "duration": 34,
    "start_time": "2023-10-09T12:08:19.201Z"
   },
   {
    "duration": 11,
    "start_time": "2023-10-09T12:08:19.451Z"
   },
   {
    "duration": 7,
    "start_time": "2023-10-09T12:08:19.654Z"
   },
   {
    "duration": 9,
    "start_time": "2023-10-09T12:08:20.109Z"
   },
   {
    "duration": 8,
    "start_time": "2023-10-09T12:08:20.455Z"
   },
   {
    "duration": 38,
    "start_time": "2023-10-09T12:08:20.684Z"
   },
   {
    "duration": 5,
    "start_time": "2023-10-09T12:08:20.900Z"
   },
   {
    "duration": 13,
    "start_time": "2023-10-09T12:08:21.291Z"
   },
   {
    "duration": 6,
    "start_time": "2023-10-09T12:08:21.702Z"
   },
   {
    "duration": 15,
    "start_time": "2023-10-09T12:08:22.074Z"
   },
   {
    "duration": 180,
    "start_time": "2023-10-09T12:08:22.441Z"
   },
   {
    "duration": 26,
    "start_time": "2023-10-09T12:08:22.624Z"
   },
   {
    "duration": 25,
    "start_time": "2023-10-09T12:08:22.832Z"
   },
   {
    "duration": 4,
    "start_time": "2023-10-09T12:08:23.293Z"
   },
   {
    "duration": 11,
    "start_time": "2023-10-09T12:08:24.252Z"
   },
   {
    "duration": 44,
    "start_time": "2023-10-09T12:08:24.600Z"
   },
   {
    "duration": 9,
    "start_time": "2023-10-09T12:08:24.818Z"
   },
   {
    "duration": 8,
    "start_time": "2023-10-09T12:08:25.016Z"
   },
   {
    "duration": 11,
    "start_time": "2023-10-09T12:08:25.409Z"
   },
   {
    "duration": 9,
    "start_time": "2023-10-09T12:08:25.589Z"
   },
   {
    "duration": 18,
    "start_time": "2023-10-09T12:08:25.757Z"
   },
   {
    "duration": 15,
    "start_time": "2023-10-09T12:08:26.091Z"
   },
   {
    "duration": 8,
    "start_time": "2023-10-09T12:08:26.238Z"
   },
   {
    "duration": 9,
    "start_time": "2023-10-09T12:08:26.387Z"
   },
   {
    "duration": 8,
    "start_time": "2023-10-09T12:08:26.875Z"
   },
   {
    "duration": 22,
    "start_time": "2023-10-09T12:08:27.199Z"
   },
   {
    "duration": 3,
    "start_time": "2023-10-09T12:08:27.383Z"
   },
   {
    "duration": 364,
    "start_time": "2023-10-09T12:08:27.716Z"
   },
   {
    "duration": 113,
    "start_time": "2023-10-09T12:08:28.082Z"
   },
   {
    "duration": 0,
    "start_time": "2023-10-09T12:08:28.197Z"
   },
   {
    "duration": 12,
    "start_time": "2023-10-09T12:08:28.233Z"
   },
   {
    "duration": 9,
    "start_time": "2023-10-09T12:08:28.435Z"
   },
   {
    "duration": 133,
    "start_time": "2023-10-09T12:08:29.171Z"
   },
   {
    "duration": 3,
    "start_time": "2023-10-09T12:08:30.253Z"
   },
   {
    "duration": 6,
    "start_time": "2023-10-09T12:08:30.581Z"
   },
   {
    "duration": 13,
    "start_time": "2023-10-09T12:08:30.806Z"
   },
   {
    "duration": 9,
    "start_time": "2023-10-09T12:08:31.206Z"
   },
   {
    "duration": 18,
    "start_time": "2023-10-09T12:08:31.624Z"
   },
   {
    "duration": 11,
    "start_time": "2023-10-09T12:08:32.374Z"
   },
   {
    "duration": 9,
    "start_time": "2023-10-09T12:08:32.548Z"
   },
   {
    "duration": 9,
    "start_time": "2023-10-09T12:08:32.719Z"
   },
   {
    "duration": 13,
    "start_time": "2023-10-09T12:08:32.898Z"
   },
   {
    "duration": 10,
    "start_time": "2023-10-09T12:08:33.053Z"
   },
   {
    "duration": 160,
    "start_time": "2023-10-09T12:08:33.407Z"
   },
   {
    "duration": 0,
    "start_time": "2023-10-09T12:08:33.569Z"
   },
   {
    "duration": 12,
    "start_time": "2023-10-09T12:08:33.950Z"
   },
   {
    "duration": 9,
    "start_time": "2023-10-09T12:08:34.201Z"
   },
   {
    "duration": 5,
    "start_time": "2023-10-09T12:15:30.458Z"
   },
   {
    "duration": 53,
    "start_time": "2023-10-09T12:15:30.929Z"
   },
   {
    "duration": 30,
    "start_time": "2023-10-09T12:15:31.399Z"
   },
   {
    "duration": 4,
    "start_time": "2023-10-09T12:20:55.729Z"
   },
   {
    "duration": 59,
    "start_time": "2023-10-09T12:20:55.913Z"
   },
   {
    "duration": 29,
    "start_time": "2023-10-09T12:20:56.106Z"
   },
   {
    "duration": 95,
    "start_time": "2023-10-09T12:20:56.339Z"
   },
   {
    "duration": 5,
    "start_time": "2023-10-09T12:20:56.938Z"
   },
   {
    "duration": 8,
    "start_time": "2023-10-09T12:20:57.267Z"
   },
   {
    "duration": 10,
    "start_time": "2023-10-09T12:20:57.712Z"
   },
   {
    "duration": 12,
    "start_time": "2023-10-09T12:20:58.233Z"
   },
   {
    "duration": 4,
    "start_time": "2023-10-09T12:20:58.666Z"
   },
   {
    "duration": 16,
    "start_time": "2023-10-09T12:20:59.137Z"
   },
   {
    "duration": 10,
    "start_time": "2023-10-09T12:20:59.906Z"
   },
   {
    "duration": 21,
    "start_time": "2023-10-09T12:21:00.273Z"
   },
   {
    "duration": 16,
    "start_time": "2023-10-09T12:21:00.649Z"
   },
   {
    "duration": 596,
    "start_time": "2023-10-09T12:21:01.019Z"
   },
   {
    "duration": 64,
    "start_time": "2023-10-09T12:21:01.623Z"
   },
   {
    "duration": 61,
    "start_time": "2023-10-09T12:21:01.868Z"
   },
   {
    "duration": 256,
    "start_time": "2023-10-09T12:21:03.642Z"
   },
   {
    "duration": 9,
    "start_time": "2023-10-09T12:22:57.881Z"
   },
   {
    "duration": 14,
    "start_time": "2023-10-09T12:23:26.028Z"
   },
   {
    "duration": 4,
    "start_time": "2023-10-09T12:27:22.207Z"
   },
   {
    "duration": 1264,
    "start_time": "2023-10-09T12:30:24.242Z"
   },
   {
    "duration": 59,
    "start_time": "2023-10-09T12:30:25.508Z"
   },
   {
    "duration": 48,
    "start_time": "2023-10-09T12:30:25.569Z"
   },
   {
    "duration": 98,
    "start_time": "2023-10-09T12:30:25.619Z"
   },
   {
    "duration": 5,
    "start_time": "2023-10-09T12:30:25.719Z"
   },
   {
    "duration": 36,
    "start_time": "2023-10-09T12:30:25.726Z"
   },
   {
    "duration": 44,
    "start_time": "2023-10-09T12:30:25.764Z"
   },
   {
    "duration": 91,
    "start_time": "2023-10-09T12:30:25.810Z"
   },
   {
    "duration": 103,
    "start_time": "2023-10-09T12:30:25.903Z"
   },
   {
    "duration": 50,
    "start_time": "2023-10-09T12:30:26.010Z"
   },
   {
    "duration": 181,
    "start_time": "2023-10-09T12:30:26.062Z"
   },
   {
    "duration": 54,
    "start_time": "2023-10-09T12:30:26.245Z"
   },
   {
    "duration": 25,
    "start_time": "2023-10-09T12:30:26.300Z"
   },
   {
    "duration": 609,
    "start_time": "2023-10-09T12:30:26.326Z"
   },
   {
    "duration": 88,
    "start_time": "2023-10-09T12:30:26.937Z"
   },
   {
    "duration": 63,
    "start_time": "2023-10-09T12:30:27.027Z"
   },
   {
    "duration": 267,
    "start_time": "2023-10-09T12:30:27.092Z"
   },
   {
    "duration": 8,
    "start_time": "2023-10-09T12:30:27.360Z"
   },
   {
    "duration": 36,
    "start_time": "2023-10-09T12:30:27.369Z"
   },
   {
    "duration": 18,
    "start_time": "2023-10-09T12:30:27.406Z"
   },
   {
    "duration": 25,
    "start_time": "2023-10-09T12:30:27.425Z"
   },
   {
    "duration": 43,
    "start_time": "2023-10-09T12:30:27.452Z"
   },
   {
    "duration": 34,
    "start_time": "2023-10-09T12:30:27.497Z"
   },
   {
    "duration": 10,
    "start_time": "2023-10-09T12:30:27.533Z"
   },
   {
    "duration": 24,
    "start_time": "2023-10-09T12:30:27.545Z"
   },
   {
    "duration": 25,
    "start_time": "2023-10-09T12:30:27.571Z"
   },
   {
    "duration": 27,
    "start_time": "2023-10-09T12:30:27.598Z"
   },
   {
    "duration": 87,
    "start_time": "2023-10-09T12:30:27.629Z"
   },
   {
    "duration": 4,
    "start_time": "2023-10-09T12:30:27.718Z"
   },
   {
    "duration": 37,
    "start_time": "2023-10-09T12:30:27.724Z"
   },
   {
    "duration": 40,
    "start_time": "2023-10-09T12:30:27.764Z"
   },
   {
    "duration": 42,
    "start_time": "2023-10-09T12:30:27.806Z"
   },
   {
    "duration": 192,
    "start_time": "2023-10-09T12:30:27.850Z"
   },
   {
    "duration": 26,
    "start_time": "2023-10-09T12:30:28.043Z"
   },
   {
    "duration": 91,
    "start_time": "2023-10-09T12:30:28.071Z"
   },
   {
    "duration": 20,
    "start_time": "2023-10-09T12:30:28.164Z"
   },
   {
    "duration": 45,
    "start_time": "2023-10-09T12:30:28.185Z"
   },
   {
    "duration": 52,
    "start_time": "2023-10-09T12:30:28.232Z"
   },
   {
    "duration": 23,
    "start_time": "2023-10-09T12:30:28.286Z"
   },
   {
    "duration": 18,
    "start_time": "2023-10-09T12:30:28.311Z"
   },
   {
    "duration": 37,
    "start_time": "2023-10-09T12:30:28.331Z"
   },
   {
    "duration": 60,
    "start_time": "2023-10-09T12:30:28.370Z"
   },
   {
    "duration": 66,
    "start_time": "2023-10-09T12:30:28.432Z"
   },
   {
    "duration": 130,
    "start_time": "2023-10-09T12:30:28.500Z"
   },
   {
    "duration": 92,
    "start_time": "2023-10-09T12:30:28.632Z"
   },
   {
    "duration": 18,
    "start_time": "2023-10-09T12:30:28.726Z"
   },
   {
    "duration": 26,
    "start_time": "2023-10-09T12:30:28.745Z"
   },
   {
    "duration": 50,
    "start_time": "2023-10-09T12:30:28.773Z"
   },
   {
    "duration": 136,
    "start_time": "2023-10-09T12:30:28.825Z"
   },
   {
    "duration": 618,
    "start_time": "2023-10-09T12:30:28.963Z"
   },
   {
    "duration": 112,
    "start_time": "2023-10-09T12:30:29.583Z"
   },
   {
    "duration": 0,
    "start_time": "2023-10-09T12:30:29.697Z"
   },
   {
    "duration": 0,
    "start_time": "2023-10-09T12:30:29.698Z"
   },
   {
    "duration": 0,
    "start_time": "2023-10-09T12:30:29.699Z"
   },
   {
    "duration": 0,
    "start_time": "2023-10-09T12:30:29.700Z"
   },
   {
    "duration": 0,
    "start_time": "2023-10-09T12:30:29.701Z"
   },
   {
    "duration": 0,
    "start_time": "2023-10-09T12:30:29.702Z"
   },
   {
    "duration": 0,
    "start_time": "2023-10-09T12:30:29.703Z"
   },
   {
    "duration": 0,
    "start_time": "2023-10-09T12:30:29.705Z"
   },
   {
    "duration": 0,
    "start_time": "2023-10-09T12:30:29.705Z"
   },
   {
    "duration": 0,
    "start_time": "2023-10-09T12:30:29.706Z"
   },
   {
    "duration": 0,
    "start_time": "2023-10-09T12:30:29.723Z"
   },
   {
    "duration": 0,
    "start_time": "2023-10-09T12:30:29.724Z"
   },
   {
    "duration": 0,
    "start_time": "2023-10-09T12:30:29.725Z"
   },
   {
    "duration": 0,
    "start_time": "2023-10-09T12:30:29.727Z"
   },
   {
    "duration": 0,
    "start_time": "2023-10-09T12:30:29.728Z"
   },
   {
    "duration": 0,
    "start_time": "2023-10-09T12:30:29.729Z"
   },
   {
    "duration": 0,
    "start_time": "2023-10-09T12:30:29.730Z"
   },
   {
    "duration": 0,
    "start_time": "2023-10-09T12:30:29.731Z"
   },
   {
    "duration": 10,
    "start_time": "2023-10-09T12:33:30.676Z"
   },
   {
    "duration": 6,
    "start_time": "2023-10-09T12:54:50.104Z"
   },
   {
    "duration": 7,
    "start_time": "2023-10-09T12:55:18.163Z"
   },
   {
    "duration": 6,
    "start_time": "2023-10-09T12:55:33.118Z"
   },
   {
    "duration": 10,
    "start_time": "2023-10-09T12:58:08.686Z"
   },
   {
    "duration": 8,
    "start_time": "2023-10-09T12:58:09.329Z"
   },
   {
    "duration": 5,
    "start_time": "2023-10-09T12:58:23.287Z"
   },
   {
    "duration": 16,
    "start_time": "2023-10-09T13:03:47.015Z"
   },
   {
    "duration": 16,
    "start_time": "2023-10-09T13:04:38.970Z"
   },
   {
    "duration": 12,
    "start_time": "2023-10-09T13:05:01.281Z"
   },
   {
    "duration": 9,
    "start_time": "2023-10-09T13:05:02.497Z"
   },
   {
    "duration": 5,
    "start_time": "2023-10-09T13:05:03.283Z"
   },
   {
    "duration": 13,
    "start_time": "2023-10-09T13:05:05.003Z"
   },
   {
    "duration": 25,
    "start_time": "2023-10-09T13:07:30.198Z"
   },
   {
    "duration": 9,
    "start_time": "2023-10-09T13:23:12.115Z"
   },
   {
    "duration": 17,
    "start_time": "2023-10-09T13:23:24.790Z"
   },
   {
    "duration": 28,
    "start_time": "2023-10-09T13:23:38.908Z"
   },
   {
    "duration": 20,
    "start_time": "2023-10-09T13:48:04.441Z"
   },
   {
    "duration": 25,
    "start_time": "2023-10-09T13:50:08.717Z"
   },
   {
    "duration": 10,
    "start_time": "2023-10-09T13:51:56.478Z"
   },
   {
    "duration": 11,
    "start_time": "2023-10-09T14:03:44.583Z"
   },
   {
    "duration": 40,
    "start_time": "2023-10-09T14:05:12.506Z"
   },
   {
    "duration": 15,
    "start_time": "2023-10-09T14:05:40.895Z"
   },
   {
    "duration": 186,
    "start_time": "2023-10-09T14:05:58.646Z"
   },
   {
    "duration": 438,
    "start_time": "2023-10-09T14:06:44.111Z"
   },
   {
    "duration": 11,
    "start_time": "2023-10-09T14:08:04.465Z"
   },
   {
    "duration": 30,
    "start_time": "2023-10-09T14:08:22.462Z"
   },
   {
    "duration": 12,
    "start_time": "2023-10-09T14:09:48.038Z"
   },
   {
    "duration": 462,
    "start_time": "2023-10-09T14:09:52.495Z"
   },
   {
    "duration": 37,
    "start_time": "2023-10-09T14:10:01.407Z"
   },
   {
    "duration": 23,
    "start_time": "2023-10-09T14:10:36.861Z"
   },
   {
    "duration": 36,
    "start_time": "2023-10-09T14:10:40.173Z"
   },
   {
    "duration": 21,
    "start_time": "2023-10-09T14:11:36.895Z"
   },
   {
    "duration": 14,
    "start_time": "2023-10-09T14:13:10.669Z"
   },
   {
    "duration": 31,
    "start_time": "2023-10-09T14:13:13.721Z"
   },
   {
    "duration": 5,
    "start_time": "2023-10-09T14:13:27.426Z"
   },
   {
    "duration": 18,
    "start_time": "2023-10-09T14:40:44.780Z"
   },
   {
    "duration": 15,
    "start_time": "2023-10-09T14:41:03.418Z"
   },
   {
    "duration": 14,
    "start_time": "2023-10-09T14:41:24.025Z"
   },
   {
    "duration": 19,
    "start_time": "2023-10-09T14:41:40.012Z"
   },
   {
    "duration": 18,
    "start_time": "2023-10-09T14:42:27.004Z"
   },
   {
    "duration": 12,
    "start_time": "2023-10-09T14:42:45.028Z"
   },
   {
    "duration": 16,
    "start_time": "2023-10-09T14:43:03.991Z"
   },
   {
    "duration": 21,
    "start_time": "2023-10-09T14:43:18.550Z"
   },
   {
    "duration": 267,
    "start_time": "2023-10-09T14:43:52.757Z"
   },
   {
    "duration": 112,
    "start_time": "2023-10-09T14:44:13.180Z"
   },
   {
    "duration": 15,
    "start_time": "2023-10-09T14:44:23.078Z"
   },
   {
    "duration": 15,
    "start_time": "2023-10-09T14:45:03.148Z"
   },
   {
    "duration": 13,
    "start_time": "2023-10-09T14:45:20.694Z"
   },
   {
    "duration": 16,
    "start_time": "2023-10-09T14:45:26.636Z"
   },
   {
    "duration": 19,
    "start_time": "2023-10-09T14:45:36.021Z"
   },
   {
    "duration": 15,
    "start_time": "2023-10-09T14:45:46.525Z"
   },
   {
    "duration": 1489,
    "start_time": "2023-10-09T14:47:11.860Z"
   },
   {
    "duration": 62,
    "start_time": "2023-10-09T14:47:13.352Z"
   },
   {
    "duration": 105,
    "start_time": "2023-10-09T14:47:13.416Z"
   },
   {
    "duration": 147,
    "start_time": "2023-10-09T14:47:13.525Z"
   },
   {
    "duration": 715,
    "start_time": "2023-10-09T14:47:13.674Z"
   },
   {
    "duration": 7,
    "start_time": "2023-10-09T14:47:14.392Z"
   },
   {
    "duration": 63,
    "start_time": "2023-10-09T14:47:14.401Z"
   },
   {
    "duration": 42,
    "start_time": "2023-10-09T14:47:14.466Z"
   },
   {
    "duration": 62,
    "start_time": "2023-10-09T14:47:14.510Z"
   },
   {
    "duration": 168,
    "start_time": "2023-10-09T14:47:14.575Z"
   },
   {
    "duration": 94,
    "start_time": "2023-10-09T14:47:14.745Z"
   },
   {
    "duration": 308,
    "start_time": "2023-10-09T14:47:14.844Z"
   },
   {
    "duration": 8,
    "start_time": "2023-10-09T14:47:15.154Z"
   },
   {
    "duration": 21,
    "start_time": "2023-10-09T14:47:15.164Z"
   },
   {
    "duration": 9,
    "start_time": "2023-10-09T14:47:15.187Z"
   },
   {
    "duration": 28,
    "start_time": "2023-10-09T14:47:15.199Z"
   },
   {
    "duration": 25,
    "start_time": "2023-10-09T14:47:15.231Z"
   },
   {
    "duration": 15,
    "start_time": "2023-10-09T14:47:15.257Z"
   },
   {
    "duration": 11,
    "start_time": "2023-10-09T14:47:15.274Z"
   },
   {
    "duration": 22,
    "start_time": "2023-10-09T14:47:15.287Z"
   },
   {
    "duration": 38,
    "start_time": "2023-10-09T14:47:15.311Z"
   },
   {
    "duration": 20,
    "start_time": "2023-10-09T14:47:15.352Z"
   },
   {
    "duration": 21,
    "start_time": "2023-10-09T14:47:15.373Z"
   },
   {
    "duration": 44,
    "start_time": "2023-10-09T14:47:15.397Z"
   },
   {
    "duration": 30,
    "start_time": "2023-10-09T14:47:15.446Z"
   },
   {
    "duration": 73,
    "start_time": "2023-10-09T14:47:15.481Z"
   },
   {
    "duration": 68,
    "start_time": "2023-10-09T14:47:15.556Z"
   },
   {
    "duration": 78,
    "start_time": "2023-10-09T14:47:15.627Z"
   },
   {
    "duration": 22,
    "start_time": "2023-10-09T14:47:15.706Z"
   },
   {
    "duration": 350,
    "start_time": "2023-10-09T14:47:15.738Z"
   },
   {
    "duration": 58,
    "start_time": "2023-10-09T14:47:16.091Z"
   },
   {
    "duration": 93,
    "start_time": "2023-10-09T14:47:16.153Z"
   },
   {
    "duration": 58,
    "start_time": "2023-10-09T14:47:16.248Z"
   },
   {
    "duration": 29,
    "start_time": "2023-10-09T14:47:16.308Z"
   },
   {
    "duration": 50,
    "start_time": "2023-10-09T14:47:16.338Z"
   },
   {
    "duration": 26,
    "start_time": "2023-10-09T14:47:55.046Z"
   },
   {
    "duration": 839,
    "start_time": "2023-10-09T14:48:09.009Z"
   },
   {
    "duration": 160,
    "start_time": "2023-10-09T14:48:28.036Z"
   },
   {
    "duration": 9895,
    "start_time": "2023-10-09T14:48:32.647Z"
   },
   {
    "duration": 56,
    "start_time": "2023-10-09T14:49:19.380Z"
   },
   {
    "duration": 1383,
    "start_time": "2023-10-09T14:49:43.850Z"
   },
   {
    "duration": 1475,
    "start_time": "2023-10-09T14:49:47.673Z"
   },
   {
    "duration": 2692,
    "start_time": "2023-10-09T14:49:49.150Z"
   },
   {
    "duration": 77,
    "start_time": "2023-10-09T14:49:51.845Z"
   },
   {
    "duration": 39,
    "start_time": "2023-10-09T14:49:51.924Z"
   },
   {
    "duration": 104,
    "start_time": "2023-10-09T14:49:51.965Z"
   },
   {
    "duration": 630,
    "start_time": "2023-10-09T14:49:52.072Z"
   },
   {
    "duration": 6,
    "start_time": "2023-10-09T14:49:52.703Z"
   },
   {
    "duration": 32,
    "start_time": "2023-10-09T14:49:52.724Z"
   },
   {
    "duration": 39,
    "start_time": "2023-10-09T14:49:52.758Z"
   },
   {
    "duration": 34,
    "start_time": "2023-10-09T14:49:52.799Z"
   },
   {
    "duration": 107,
    "start_time": "2023-10-09T14:49:52.835Z"
   },
   {
    "duration": 81,
    "start_time": "2023-10-09T14:49:52.944Z"
   },
   {
    "duration": 312,
    "start_time": "2023-10-09T14:49:53.033Z"
   },
   {
    "duration": 11,
    "start_time": "2023-10-09T14:49:53.350Z"
   },
   {
    "duration": 17,
    "start_time": "2023-10-09T14:49:53.365Z"
   },
   {
    "duration": 12,
    "start_time": "2023-10-09T14:49:53.383Z"
   },
   {
    "duration": 27,
    "start_time": "2023-10-09T14:49:53.397Z"
   },
   {
    "duration": 42,
    "start_time": "2023-10-09T14:49:53.429Z"
   },
   {
    "duration": 58,
    "start_time": "2023-10-09T14:49:53.473Z"
   },
   {
    "duration": 21,
    "start_time": "2023-10-09T14:49:53.534Z"
   },
   {
    "duration": 30,
    "start_time": "2023-10-09T14:49:53.556Z"
   },
   {
    "duration": 31,
    "start_time": "2023-10-09T14:49:53.587Z"
   },
   {
    "duration": 17,
    "start_time": "2023-10-09T14:49:53.620Z"
   },
   {
    "duration": 13,
    "start_time": "2023-10-09T14:49:53.638Z"
   },
   {
    "duration": 31,
    "start_time": "2023-10-09T14:49:53.652Z"
   },
   {
    "duration": 11,
    "start_time": "2023-10-09T14:49:53.685Z"
   },
   {
    "duration": 64,
    "start_time": "2023-10-09T14:49:53.698Z"
   },
   {
    "duration": 26,
    "start_time": "2023-10-09T14:49:53.764Z"
   },
   {
    "duration": 28,
    "start_time": "2023-10-09T14:49:53.792Z"
   },
   {
    "duration": 16,
    "start_time": "2023-10-09T14:49:53.824Z"
   },
   {
    "duration": 226,
    "start_time": "2023-10-09T14:49:53.842Z"
   },
   {
    "duration": 27,
    "start_time": "2023-10-09T14:49:54.070Z"
   },
   {
    "duration": 61,
    "start_time": "2023-10-09T14:49:54.099Z"
   },
   {
    "duration": 4,
    "start_time": "2023-10-09T14:49:54.162Z"
   },
   {
    "duration": 21,
    "start_time": "2023-10-09T14:49:54.168Z"
   },
   {
    "duration": 61,
    "start_time": "2023-10-09T14:49:54.191Z"
   },
   {
    "duration": 1486,
    "start_time": "2023-10-09T14:49:54.254Z"
   },
   {
    "duration": 129,
    "start_time": "2023-10-09T14:54:37.055Z"
   },
   {
    "duration": 120,
    "start_time": "2023-10-09T14:55:12.358Z"
   },
   {
    "duration": 5,
    "start_time": "2023-10-09T14:55:30.857Z"
   },
   {
    "duration": 100,
    "start_time": "2023-10-09T15:01:29.444Z"
   },
   {
    "duration": 190,
    "start_time": "2023-10-09T15:01:49.495Z"
   },
   {
    "duration": 47,
    "start_time": "2023-10-09T15:02:01.187Z"
   },
   {
    "duration": 11,
    "start_time": "2023-10-09T15:02:31.638Z"
   },
   {
    "duration": 9,
    "start_time": "2023-10-09T15:02:55.350Z"
   },
   {
    "duration": 16,
    "start_time": "2023-10-09T15:03:35.342Z"
   },
   {
    "duration": 4,
    "start_time": "2023-10-09T15:03:58.727Z"
   },
   {
    "duration": 8,
    "start_time": "2023-10-09T15:04:35.249Z"
   },
   {
    "duration": 13,
    "start_time": "2023-10-09T15:04:48.963Z"
   },
   {
    "duration": 336,
    "start_time": "2023-10-09T15:06:13.636Z"
   },
   {
    "duration": 205,
    "start_time": "2023-10-09T15:06:52.146Z"
   },
   {
    "duration": 256,
    "start_time": "2023-10-09T15:07:01.800Z"
   },
   {
    "duration": 183,
    "start_time": "2023-10-09T15:21:59.363Z"
   },
   {
    "duration": 17,
    "start_time": "2023-10-09T15:24:13.302Z"
   },
   {
    "duration": 18,
    "start_time": "2023-10-09T15:24:34.934Z"
   },
   {
    "duration": 21,
    "start_time": "2023-10-09T15:24:52.769Z"
   },
   {
    "duration": 25,
    "start_time": "2023-10-09T15:25:04.472Z"
   },
   {
    "duration": 85,
    "start_time": "2023-10-09T15:26:14.444Z"
   },
   {
    "duration": 139,
    "start_time": "2023-10-09T15:26:22.428Z"
   },
   {
    "duration": 13,
    "start_time": "2023-10-09T15:27:02.821Z"
   },
   {
    "duration": 24,
    "start_time": "2023-10-09T15:28:34.618Z"
   },
   {
    "duration": 18,
    "start_time": "2023-10-09T15:28:52.994Z"
   },
   {
    "duration": 108,
    "start_time": "2023-10-09T15:29:19.883Z"
   },
   {
    "duration": 15,
    "start_time": "2023-10-09T15:29:23.061Z"
   },
   {
    "duration": 177,
    "start_time": "2023-10-09T15:29:32.721Z"
   },
   {
    "duration": 15,
    "start_time": "2023-10-09T15:29:37.231Z"
   },
   {
    "duration": 18,
    "start_time": "2023-10-09T15:29:47.039Z"
   },
   {
    "duration": 18,
    "start_time": "2023-10-09T15:29:58.653Z"
   },
   {
    "duration": 18,
    "start_time": "2023-10-09T15:30:16.556Z"
   },
   {
    "duration": 65,
    "start_time": "2023-10-09T15:31:19.855Z"
   },
   {
    "duration": 1303,
    "start_time": "2023-10-09T15:31:33.021Z"
   },
   {
    "duration": 68,
    "start_time": "2023-10-09T15:31:42.225Z"
   },
   {
    "duration": 1367,
    "start_time": "2023-10-09T15:31:49.920Z"
   },
   {
    "duration": 2619,
    "start_time": "2023-10-09T15:31:51.289Z"
   },
   {
    "duration": 65,
    "start_time": "2023-10-09T15:31:53.910Z"
   },
   {
    "duration": 107,
    "start_time": "2023-10-09T15:31:53.978Z"
   },
   {
    "duration": 135,
    "start_time": "2023-10-09T15:31:54.088Z"
   },
   {
    "duration": 627,
    "start_time": "2023-10-09T15:31:54.225Z"
   },
   {
    "duration": 5,
    "start_time": "2023-10-09T15:31:54.854Z"
   },
   {
    "duration": 133,
    "start_time": "2023-10-09T15:31:54.861Z"
   },
   {
    "duration": 27,
    "start_time": "2023-10-09T15:31:54.995Z"
   },
   {
    "duration": 80,
    "start_time": "2023-10-09T15:31:55.024Z"
   },
   {
    "duration": 121,
    "start_time": "2023-10-09T15:31:55.106Z"
   },
   {
    "duration": 69,
    "start_time": "2023-10-09T15:31:55.229Z"
   },
   {
    "duration": 321,
    "start_time": "2023-10-09T15:31:55.299Z"
   },
   {
    "duration": 8,
    "start_time": "2023-10-09T15:31:55.626Z"
   },
   {
    "duration": 20,
    "start_time": "2023-10-09T15:31:55.635Z"
   },
   {
    "duration": 15,
    "start_time": "2023-10-09T15:31:55.656Z"
   },
   {
    "duration": 21,
    "start_time": "2023-10-09T15:31:55.673Z"
   },
   {
    "duration": 57,
    "start_time": "2023-10-09T15:31:55.696Z"
   },
   {
    "duration": 28,
    "start_time": "2023-10-09T15:31:55.756Z"
   },
   {
    "duration": 12,
    "start_time": "2023-10-09T15:31:55.787Z"
   },
   {
    "duration": 29,
    "start_time": "2023-10-09T15:31:55.801Z"
   },
   {
    "duration": 25,
    "start_time": "2023-10-09T15:31:55.832Z"
   },
   {
    "duration": 11,
    "start_time": "2023-10-09T15:31:55.859Z"
   },
   {
    "duration": 19,
    "start_time": "2023-10-09T15:31:55.872Z"
   },
   {
    "duration": 26,
    "start_time": "2023-10-09T15:31:55.924Z"
   },
   {
    "duration": 11,
    "start_time": "2023-10-09T15:31:55.953Z"
   },
   {
    "duration": 68,
    "start_time": "2023-10-09T15:31:55.966Z"
   },
   {
    "duration": 19,
    "start_time": "2023-10-09T15:31:56.036Z"
   },
   {
    "duration": 21,
    "start_time": "2023-10-09T15:31:56.057Z"
   },
   {
    "duration": 10,
    "start_time": "2023-10-09T15:31:56.080Z"
   },
   {
    "duration": 236,
    "start_time": "2023-10-09T15:31:56.125Z"
   },
   {
    "duration": 29,
    "start_time": "2023-10-09T15:31:56.363Z"
   },
   {
    "duration": 61,
    "start_time": "2023-10-09T15:31:56.394Z"
   },
   {
    "duration": 42,
    "start_time": "2023-10-09T15:31:56.457Z"
   },
   {
    "duration": 24,
    "start_time": "2023-10-09T15:31:56.501Z"
   },
   {
    "duration": 37,
    "start_time": "2023-10-09T15:31:56.527Z"
   },
   {
    "duration": 1185,
    "start_time": "2023-10-09T15:31:56.565Z"
   },
   {
    "duration": 6,
    "start_time": "2023-10-09T15:31:57.752Z"
   },
   {
    "duration": 86,
    "start_time": "2023-10-09T15:31:57.760Z"
   },
   {
    "duration": 11,
    "start_time": "2023-10-09T15:31:57.847Z"
   },
   {
    "duration": 21,
    "start_time": "2023-10-09T15:31:57.864Z"
   },
   {
    "duration": 31,
    "start_time": "2023-10-09T15:31:57.887Z"
   },
   {
    "duration": 10,
    "start_time": "2023-10-09T15:31:57.923Z"
   },
   {
    "duration": 21,
    "start_time": "2023-10-09T15:31:57.935Z"
   },
   {
    "duration": 378,
    "start_time": "2023-10-09T15:31:57.958Z"
   },
   {
    "duration": 17,
    "start_time": "2023-10-09T15:31:58.339Z"
   },
   {
    "duration": 26,
    "start_time": "2023-10-09T15:31:58.357Z"
   },
   {
    "duration": 45,
    "start_time": "2023-10-09T15:31:58.386Z"
   },
   {
    "duration": 206,
    "start_time": "2023-10-09T15:31:58.433Z"
   },
   {
    "duration": 0,
    "start_time": "2023-10-09T15:31:58.641Z"
   },
   {
    "duration": 30,
    "start_time": "2023-10-09T15:32:14.962Z"
   },
   {
    "duration": 31,
    "start_time": "2023-10-09T15:33:01.371Z"
   },
   {
    "duration": 25,
    "start_time": "2023-10-09T15:33:20.775Z"
   },
   {
    "duration": 19,
    "start_time": "2023-10-09T15:33:33.155Z"
   },
   {
    "duration": 129,
    "start_time": "2023-10-09T15:33:41.714Z"
   },
   {
    "duration": 17,
    "start_time": "2023-10-09T15:42:27.711Z"
   },
   {
    "duration": 37,
    "start_time": "2023-10-09T15:43:20.902Z"
   },
   {
    "duration": 31,
    "start_time": "2023-10-09T15:43:37.727Z"
   },
   {
    "duration": 193,
    "start_time": "2023-10-09T15:43:41.647Z"
   },
   {
    "duration": 544,
    "start_time": "2023-10-09T15:50:20.543Z"
   },
   {
    "duration": 5,
    "start_time": "2023-10-09T15:51:14.692Z"
   },
   {
    "duration": 583,
    "start_time": "2023-10-09T15:51:15.291Z"
   },
   {
    "duration": 70,
    "start_time": "2023-10-09T15:51:49.682Z"
   },
   {
    "duration": 4,
    "start_time": "2023-10-09T15:52:09.968Z"
   },
   {
    "duration": 15,
    "start_time": "2023-10-09T15:52:21.027Z"
   },
   {
    "duration": 15,
    "start_time": "2023-10-09T15:52:31.833Z"
   },
   {
    "duration": 13,
    "start_time": "2023-10-09T15:52:43.658Z"
   },
   {
    "duration": 5,
    "start_time": "2023-10-09T15:52:59.911Z"
   },
   {
    "duration": 15,
    "start_time": "2023-10-09T15:53:02.462Z"
   },
   {
    "duration": 14,
    "start_time": "2023-10-09T15:53:13.683Z"
   },
   {
    "duration": 1665,
    "start_time": "2023-10-09T15:53:19.819Z"
   },
   {
    "duration": 3557,
    "start_time": "2023-10-09T15:53:21.487Z"
   },
   {
    "duration": 86,
    "start_time": "2023-10-09T15:53:25.047Z"
   },
   {
    "duration": 35,
    "start_time": "2023-10-09T15:53:25.135Z"
   },
   {
    "duration": 130,
    "start_time": "2023-10-09T15:53:25.173Z"
   },
   {
    "duration": 862,
    "start_time": "2023-10-09T15:53:25.305Z"
   },
   {
    "duration": 6,
    "start_time": "2023-10-09T15:53:26.170Z"
   },
   {
    "duration": 20,
    "start_time": "2023-10-09T15:53:26.178Z"
   },
   {
    "duration": 34,
    "start_time": "2023-10-09T15:53:26.201Z"
   },
   {
    "duration": 22,
    "start_time": "2023-10-09T15:53:26.238Z"
   },
   {
    "duration": 135,
    "start_time": "2023-10-09T15:53:26.262Z"
   },
   {
    "duration": 119,
    "start_time": "2023-10-09T15:53:26.414Z"
   },
   {
    "duration": 393,
    "start_time": "2023-10-09T15:53:26.536Z"
   },
   {
    "duration": 11,
    "start_time": "2023-10-09T15:53:26.934Z"
   },
   {
    "duration": 54,
    "start_time": "2023-10-09T15:53:26.947Z"
   },
   {
    "duration": 58,
    "start_time": "2023-10-09T15:53:27.005Z"
   },
   {
    "duration": 53,
    "start_time": "2023-10-09T15:53:27.065Z"
   },
   {
    "duration": 56,
    "start_time": "2023-10-09T15:53:27.120Z"
   },
   {
    "duration": 11,
    "start_time": "2023-10-09T15:53:27.179Z"
   },
   {
    "duration": 6,
    "start_time": "2023-10-09T15:53:27.192Z"
   },
   {
    "duration": 37,
    "start_time": "2023-10-09T15:53:27.200Z"
   },
   {
    "duration": 74,
    "start_time": "2023-10-09T15:53:27.239Z"
   },
   {
    "duration": 72,
    "start_time": "2023-10-09T15:53:27.315Z"
   },
   {
    "duration": 23,
    "start_time": "2023-10-09T15:53:27.393Z"
   },
   {
    "duration": 104,
    "start_time": "2023-10-09T15:53:27.419Z"
   },
   {
    "duration": 87,
    "start_time": "2023-10-09T15:53:27.526Z"
   },
   {
    "duration": 84,
    "start_time": "2023-10-09T15:53:27.614Z"
   },
   {
    "duration": 64,
    "start_time": "2023-10-09T15:53:27.700Z"
   },
   {
    "duration": 75,
    "start_time": "2023-10-09T15:53:27.767Z"
   },
   {
    "duration": 27,
    "start_time": "2023-10-09T15:53:27.845Z"
   },
   {
    "duration": 295,
    "start_time": "2023-10-09T15:53:27.874Z"
   },
   {
    "duration": 52,
    "start_time": "2023-10-09T15:53:28.172Z"
   },
   {
    "duration": 76,
    "start_time": "2023-10-09T15:53:28.226Z"
   },
   {
    "duration": 47,
    "start_time": "2023-10-09T15:53:28.304Z"
   },
   {
    "duration": 107,
    "start_time": "2023-10-09T15:53:28.353Z"
   },
   {
    "duration": 43,
    "start_time": "2023-10-09T15:53:28.463Z"
   },
   {
    "duration": 1560,
    "start_time": "2023-10-09T15:53:28.508Z"
   },
   {
    "duration": 7,
    "start_time": "2023-10-09T15:53:30.071Z"
   },
   {
    "duration": 158,
    "start_time": "2023-10-09T15:53:30.080Z"
   },
   {
    "duration": 87,
    "start_time": "2023-10-09T15:53:30.240Z"
   },
   {
    "duration": 63,
    "start_time": "2023-10-09T15:53:30.332Z"
   },
   {
    "duration": 64,
    "start_time": "2023-10-09T15:53:30.398Z"
   },
   {
    "duration": 27,
    "start_time": "2023-10-09T15:53:30.465Z"
   },
   {
    "duration": 51,
    "start_time": "2023-10-09T15:53:30.494Z"
   },
   {
    "duration": 449,
    "start_time": "2023-10-09T15:53:30.547Z"
   },
   {
    "duration": 38,
    "start_time": "2023-10-09T15:53:30.997Z"
   },
   {
    "duration": 108,
    "start_time": "2023-10-09T15:53:31.037Z"
   },
   {
    "duration": 54,
    "start_time": "2023-10-09T15:53:31.149Z"
   },
   {
    "duration": 63,
    "start_time": "2023-10-09T15:53:31.205Z"
   },
   {
    "duration": 170,
    "start_time": "2023-10-09T15:53:31.270Z"
   },
   {
    "duration": 32,
    "start_time": "2023-10-09T15:53:31.442Z"
   },
   {
    "duration": 199,
    "start_time": "2023-10-09T15:53:31.476Z"
   },
   {
    "duration": 7,
    "start_time": "2023-10-09T15:53:31.677Z"
   },
   {
    "duration": 669,
    "start_time": "2023-10-09T15:53:31.687Z"
   },
   {
    "duration": 0,
    "start_time": "2023-10-09T15:53:32.359Z"
   },
   {
    "duration": 18,
    "start_time": "2023-10-09T15:53:38.279Z"
   },
   {
    "duration": 14,
    "start_time": "2023-10-09T15:53:56.428Z"
   },
   {
    "duration": 5,
    "start_time": "2023-10-09T15:54:13.902Z"
   },
   {
    "duration": 14,
    "start_time": "2023-10-09T15:54:17.654Z"
   },
   {
    "duration": 15,
    "start_time": "2023-10-09T15:54:23.507Z"
   },
   {
    "duration": 15,
    "start_time": "2023-10-09T15:54:28.185Z"
   },
   {
    "duration": 33,
    "start_time": "2023-10-09T16:05:17.319Z"
   },
   {
    "duration": 43,
    "start_time": "2023-10-09T16:11:23.195Z"
   },
   {
    "duration": 42,
    "start_time": "2023-10-09T16:12:00.774Z"
   },
   {
    "duration": 176,
    "start_time": "2023-10-09T16:12:39.601Z"
   },
   {
    "duration": 129,
    "start_time": "2023-10-09T16:13:00.207Z"
   },
   {
    "duration": 8,
    "start_time": "2023-10-09T16:14:26.146Z"
   },
   {
    "duration": 97,
    "start_time": "2023-10-09T16:14:37.252Z"
   },
   {
    "duration": 123,
    "start_time": "2023-10-09T16:14:54.626Z"
   },
   {
    "duration": 3,
    "start_time": "2023-10-09T16:45:49.943Z"
   },
   {
    "duration": 134,
    "start_time": "2023-10-09T16:46:04.686Z"
   },
   {
    "duration": 15,
    "start_time": "2023-10-09T16:48:00.613Z"
   },
   {
    "duration": 25,
    "start_time": "2023-10-09T16:48:18.340Z"
   },
   {
    "duration": 11,
    "start_time": "2023-10-09T16:48:30.989Z"
   },
   {
    "duration": 20,
    "start_time": "2023-10-09T16:48:40.387Z"
   },
   {
    "duration": 14,
    "start_time": "2023-10-09T16:48:50.614Z"
   },
   {
    "duration": 23,
    "start_time": "2023-10-09T16:49:30.080Z"
   },
   {
    "duration": 22,
    "start_time": "2023-10-09T16:50:57.060Z"
   },
   {
    "duration": 20,
    "start_time": "2023-10-09T16:51:00.803Z"
   },
   {
    "duration": 9,
    "start_time": "2023-10-09T16:51:43.606Z"
   },
   {
    "duration": 12,
    "start_time": "2023-10-09T16:53:14.552Z"
   },
   {
    "duration": 2769,
    "start_time": "2023-10-09T16:55:50.686Z"
   },
   {
    "duration": 13,
    "start_time": "2023-10-09T16:56:04.112Z"
   },
   {
    "duration": 14,
    "start_time": "2023-10-09T16:57:01.788Z"
   },
   {
    "duration": 23,
    "start_time": "2023-10-09T16:57:33.329Z"
   },
   {
    "duration": 6,
    "start_time": "2023-10-09T16:57:47.084Z"
   },
   {
    "duration": 152,
    "start_time": "2023-10-09T16:58:25.319Z"
   },
   {
    "duration": 7,
    "start_time": "2023-10-09T16:58:45.596Z"
   },
   {
    "duration": 38,
    "start_time": "2023-10-09T17:17:32.768Z"
   },
   {
    "duration": 19,
    "start_time": "2023-10-09T17:18:09.649Z"
   },
   {
    "duration": 442,
    "start_time": "2023-10-09T17:21:11.863Z"
   },
   {
    "duration": 239,
    "start_time": "2023-10-09T17:21:15.062Z"
   },
   {
    "duration": 1543,
    "start_time": "2023-10-09T17:22:49.621Z"
   },
   {
    "duration": 3224,
    "start_time": "2023-10-09T17:22:51.167Z"
   },
   {
    "duration": 88,
    "start_time": "2023-10-09T17:22:54.393Z"
   },
   {
    "duration": 34,
    "start_time": "2023-10-09T17:22:54.483Z"
   },
   {
    "duration": 152,
    "start_time": "2023-10-09T17:22:54.520Z"
   },
   {
    "duration": 798,
    "start_time": "2023-10-09T17:22:54.674Z"
   },
   {
    "duration": 6,
    "start_time": "2023-10-09T17:22:55.476Z"
   },
   {
    "duration": 118,
    "start_time": "2023-10-09T17:22:55.484Z"
   },
   {
    "duration": 50,
    "start_time": "2023-10-09T17:22:55.604Z"
   },
   {
    "duration": 87,
    "start_time": "2023-10-09T17:22:55.656Z"
   },
   {
    "duration": 240,
    "start_time": "2023-10-09T17:22:55.745Z"
   },
   {
    "duration": 136,
    "start_time": "2023-10-09T17:22:55.989Z"
   },
   {
    "duration": 499,
    "start_time": "2023-10-09T17:22:56.127Z"
   },
   {
    "duration": 10,
    "start_time": "2023-10-09T17:22:56.629Z"
   },
   {
    "duration": 159,
    "start_time": "2023-10-09T17:22:56.644Z"
   },
   {
    "duration": 144,
    "start_time": "2023-10-09T17:22:56.805Z"
   },
   {
    "duration": 43,
    "start_time": "2023-10-09T17:22:56.951Z"
   },
   {
    "duration": 37,
    "start_time": "2023-10-09T17:22:56.996Z"
   },
   {
    "duration": 14,
    "start_time": "2023-10-09T17:22:57.036Z"
   },
   {
    "duration": 41,
    "start_time": "2023-10-09T17:22:57.055Z"
   },
   {
    "duration": 33,
    "start_time": "2023-10-09T17:22:57.098Z"
   },
   {
    "duration": 336,
    "start_time": "2023-10-09T17:22:57.133Z"
   },
   {
    "duration": 221,
    "start_time": "2023-10-09T17:22:57.471Z"
   },
   {
    "duration": 52,
    "start_time": "2023-10-09T17:22:57.695Z"
   },
   {
    "duration": 106,
    "start_time": "2023-10-09T17:22:57.749Z"
   },
   {
    "duration": 15,
    "start_time": "2023-10-09T17:22:57.858Z"
   },
   {
    "duration": 45,
    "start_time": "2023-10-09T17:22:57.875Z"
   },
   {
    "duration": 25,
    "start_time": "2023-10-09T17:22:57.932Z"
   },
   {
    "duration": 19,
    "start_time": "2023-10-09T17:22:57.963Z"
   },
   {
    "duration": 16,
    "start_time": "2023-10-09T17:22:57.984Z"
   },
   {
    "duration": 254,
    "start_time": "2023-10-09T17:22:58.002Z"
   },
   {
    "duration": 47,
    "start_time": "2023-10-09T17:22:58.260Z"
   },
   {
    "duration": 55,
    "start_time": "2023-10-09T17:22:58.309Z"
   },
   {
    "duration": 8,
    "start_time": "2023-10-09T17:22:58.366Z"
   },
   {
    "duration": 17,
    "start_time": "2023-10-09T17:22:58.377Z"
   },
   {
    "duration": 55,
    "start_time": "2023-10-09T17:22:58.395Z"
   },
   {
    "duration": 1510,
    "start_time": "2023-10-09T17:22:58.452Z"
   },
   {
    "duration": 9,
    "start_time": "2023-10-09T17:22:59.964Z"
   },
   {
    "duration": 103,
    "start_time": "2023-10-09T17:22:59.977Z"
   },
   {
    "duration": 12,
    "start_time": "2023-10-09T17:23:00.084Z"
   },
   {
    "duration": 52,
    "start_time": "2023-10-09T17:23:00.101Z"
   },
   {
    "duration": 37,
    "start_time": "2023-10-09T17:23:00.157Z"
   },
   {
    "duration": 68,
    "start_time": "2023-10-09T17:23:00.196Z"
   },
   {
    "duration": 562,
    "start_time": "2023-10-09T17:23:00.268Z"
   },
   {
    "duration": 269,
    "start_time": "2023-10-09T17:23:00.837Z"
   },
   {
    "duration": 1594,
    "start_time": "2023-10-09T17:24:09.790Z"
   },
   {
    "duration": 3192,
    "start_time": "2023-10-09T17:24:11.387Z"
   },
   {
    "duration": 81,
    "start_time": "2023-10-09T17:24:14.581Z"
   },
   {
    "duration": 36,
    "start_time": "2023-10-09T17:24:14.666Z"
   },
   {
    "duration": 134,
    "start_time": "2023-10-09T17:24:14.706Z"
   },
   {
    "duration": 821,
    "start_time": "2023-10-09T17:24:14.843Z"
   },
   {
    "duration": 7,
    "start_time": "2023-10-09T17:24:15.672Z"
   },
   {
    "duration": 98,
    "start_time": "2023-10-09T17:24:15.681Z"
   },
   {
    "duration": 79,
    "start_time": "2023-10-09T17:24:15.781Z"
   },
   {
    "duration": 129,
    "start_time": "2023-10-09T17:24:15.862Z"
   },
   {
    "duration": 173,
    "start_time": "2023-10-09T17:24:15.993Z"
   },
   {
    "duration": 110,
    "start_time": "2023-10-09T17:24:16.170Z"
   },
   {
    "duration": 395,
    "start_time": "2023-10-09T17:24:16.282Z"
   },
   {
    "duration": 12,
    "start_time": "2023-10-09T17:24:16.687Z"
   },
   {
    "duration": 208,
    "start_time": "2023-10-09T17:24:16.701Z"
   },
   {
    "duration": 58,
    "start_time": "2023-10-09T17:24:16.911Z"
   },
   {
    "duration": 29,
    "start_time": "2023-10-09T17:24:16.971Z"
   },
   {
    "duration": 68,
    "start_time": "2023-10-09T17:24:17.003Z"
   },
   {
    "duration": 34,
    "start_time": "2023-10-09T17:24:17.074Z"
   },
   {
    "duration": 71,
    "start_time": "2023-10-09T17:24:17.111Z"
   },
   {
    "duration": 49,
    "start_time": "2023-10-09T17:24:17.184Z"
   },
   {
    "duration": 77,
    "start_time": "2023-10-09T17:24:17.241Z"
   },
   {
    "duration": 139,
    "start_time": "2023-10-09T17:24:17.320Z"
   },
   {
    "duration": 211,
    "start_time": "2023-10-09T17:24:17.461Z"
   },
   {
    "duration": 257,
    "start_time": "2023-10-09T17:24:17.675Z"
   },
   {
    "duration": 418,
    "start_time": "2023-10-09T17:24:17.934Z"
   },
   {
    "duration": 65,
    "start_time": "2023-10-09T17:24:18.354Z"
   },
   {
    "duration": 281,
    "start_time": "2023-10-09T17:24:18.420Z"
   },
   {
    "duration": 119,
    "start_time": "2023-10-09T17:24:18.703Z"
   },
   {
    "duration": 270,
    "start_time": "2023-10-09T17:24:18.824Z"
   },
   {
    "duration": 59,
    "start_time": "2023-10-09T17:24:19.096Z"
   },
   {
    "duration": 39,
    "start_time": "2023-10-09T17:24:19.164Z"
   },
   {
    "duration": 21,
    "start_time": "2023-10-09T17:24:19.205Z"
   },
   {
    "duration": 39,
    "start_time": "2023-10-09T17:24:19.228Z"
   },
   {
    "duration": 43,
    "start_time": "2023-10-09T17:24:19.273Z"
   },
   {
    "duration": 1519,
    "start_time": "2023-10-09T17:24:19.319Z"
   },
   {
    "duration": 7,
    "start_time": "2023-10-09T17:24:20.841Z"
   },
   {
    "duration": 104,
    "start_time": "2023-10-09T17:24:20.850Z"
   },
   {
    "duration": 15,
    "start_time": "2023-10-09T17:24:20.964Z"
   },
   {
    "duration": 21,
    "start_time": "2023-10-09T17:24:20.982Z"
   },
   {
    "duration": 24,
    "start_time": "2023-10-09T17:24:21.007Z"
   },
   {
    "duration": 5,
    "start_time": "2023-10-09T17:24:21.033Z"
   },
   {
    "duration": 388,
    "start_time": "2023-10-09T17:24:21.040Z"
   },
   {
    "duration": 232,
    "start_time": "2023-10-09T17:24:21.430Z"
   },
   {
    "duration": 18,
    "start_time": "2023-10-09T17:24:21.668Z"
   },
   {
    "duration": 417,
    "start_time": "2023-10-09T17:24:21.687Z"
   },
   {
    "duration": 42,
    "start_time": "2023-10-09T17:24:22.105Z"
   },
   {
    "duration": 64,
    "start_time": "2023-10-09T17:24:22.149Z"
   },
   {
    "duration": 34,
    "start_time": "2023-10-09T17:24:22.215Z"
   },
   {
    "duration": 44,
    "start_time": "2023-10-09T17:24:22.251Z"
   },
   {
    "duration": 178,
    "start_time": "2023-10-09T17:24:22.298Z"
   },
   {
    "duration": 27,
    "start_time": "2023-10-09T17:24:22.479Z"
   },
   {
    "duration": 185,
    "start_time": "2023-10-09T17:24:22.508Z"
   },
   {
    "duration": 5,
    "start_time": "2023-10-09T17:24:22.695Z"
   },
   {
    "duration": 73,
    "start_time": "2023-10-09T17:24:22.702Z"
   },
   {
    "duration": 69,
    "start_time": "2023-10-09T17:24:22.777Z"
   },
   {
    "duration": 212,
    "start_time": "2023-10-09T17:24:22.854Z"
   },
   {
    "duration": 10,
    "start_time": "2023-10-09T17:24:23.069Z"
   },
   {
    "duration": 37,
    "start_time": "2023-10-09T17:24:23.081Z"
   },
   {
    "duration": 47,
    "start_time": "2023-10-09T17:24:23.120Z"
   },
   {
    "duration": 14,
    "start_time": "2023-10-09T17:24:23.171Z"
   },
   {
    "duration": 49,
    "start_time": "2023-10-09T17:24:23.187Z"
   },
   {
    "duration": 36,
    "start_time": "2023-10-09T17:24:23.250Z"
   },
   {
    "duration": 24,
    "start_time": "2023-10-09T17:24:23.288Z"
   },
   {
    "duration": 194,
    "start_time": "2023-10-09T17:24:47.301Z"
   },
   {
    "duration": 1487,
    "start_time": "2023-10-09T17:34:13.323Z"
   },
   {
    "duration": 3309,
    "start_time": "2023-10-09T17:34:14.812Z"
   },
   {
    "duration": 83,
    "start_time": "2023-10-09T17:34:18.124Z"
   },
   {
    "duration": 65,
    "start_time": "2023-10-09T17:34:18.210Z"
   },
   {
    "duration": 143,
    "start_time": "2023-10-09T17:34:18.279Z"
   },
   {
    "duration": 731,
    "start_time": "2023-10-09T17:34:18.424Z"
   },
   {
    "duration": 10,
    "start_time": "2023-10-09T17:34:19.157Z"
   },
   {
    "duration": 34,
    "start_time": "2023-10-09T17:34:19.168Z"
   },
   {
    "duration": 14,
    "start_time": "2023-10-09T17:34:19.204Z"
   },
   {
    "duration": 30,
    "start_time": "2023-10-09T17:34:19.221Z"
   },
   {
    "duration": 133,
    "start_time": "2023-10-09T17:34:19.253Z"
   },
   {
    "duration": 99,
    "start_time": "2023-10-09T17:34:19.389Z"
   },
   {
    "duration": 359,
    "start_time": "2023-10-09T17:34:19.491Z"
   },
   {
    "duration": 11,
    "start_time": "2023-10-09T17:34:19.859Z"
   },
   {
    "duration": 11,
    "start_time": "2023-10-09T17:34:19.872Z"
   },
   {
    "duration": 5,
    "start_time": "2023-10-09T17:34:19.885Z"
   },
   {
    "duration": 29,
    "start_time": "2023-10-09T17:34:19.892Z"
   },
   {
    "duration": 43,
    "start_time": "2023-10-09T17:34:19.923Z"
   },
   {
    "duration": 7,
    "start_time": "2023-10-09T17:34:19.974Z"
   },
   {
    "duration": 11,
    "start_time": "2023-10-09T17:34:19.983Z"
   },
   {
    "duration": 26,
    "start_time": "2023-10-09T17:34:19.996Z"
   },
   {
    "duration": 47,
    "start_time": "2023-10-09T17:34:20.025Z"
   },
   {
    "duration": 28,
    "start_time": "2023-10-09T17:34:20.074Z"
   },
   {
    "duration": 53,
    "start_time": "2023-10-09T17:34:20.105Z"
   },
   {
    "duration": 12,
    "start_time": "2023-10-09T17:34:20.161Z"
   },
   {
    "duration": 58,
    "start_time": "2023-10-09T17:34:20.175Z"
   },
   {
    "duration": 25,
    "start_time": "2023-10-09T17:34:20.235Z"
   },
   {
    "duration": 25,
    "start_time": "2023-10-09T17:34:20.263Z"
   },
   {
    "duration": 16,
    "start_time": "2023-10-09T17:34:20.290Z"
   },
   {
    "duration": 260,
    "start_time": "2023-10-09T17:34:20.309Z"
   },
   {
    "duration": 28,
    "start_time": "2023-10-09T17:34:20.571Z"
   },
   {
    "duration": 63,
    "start_time": "2023-10-09T17:34:20.601Z"
   },
   {
    "duration": 6,
    "start_time": "2023-10-09T17:34:20.666Z"
   },
   {
    "duration": 22,
    "start_time": "2023-10-09T17:34:20.674Z"
   },
   {
    "duration": 48,
    "start_time": "2023-10-09T17:34:20.698Z"
   },
   {
    "duration": 1444,
    "start_time": "2023-10-09T17:34:20.749Z"
   },
   {
    "duration": 7,
    "start_time": "2023-10-09T17:34:22.196Z"
   },
   {
    "duration": 105,
    "start_time": "2023-10-09T17:34:22.204Z"
   },
   {
    "duration": 9,
    "start_time": "2023-10-09T17:34:22.311Z"
   },
   {
    "duration": 21,
    "start_time": "2023-10-09T17:34:22.322Z"
   },
   {
    "duration": 18,
    "start_time": "2023-10-09T17:34:22.348Z"
   },
   {
    "duration": 4,
    "start_time": "2023-10-09T17:34:22.367Z"
   },
   {
    "duration": 400,
    "start_time": "2023-10-09T17:34:22.373Z"
   },
   {
    "duration": 287,
    "start_time": "2023-10-09T17:34:22.779Z"
   },
   {
    "duration": 16,
    "start_time": "2023-10-09T17:34:23.068Z"
   },
   {
    "duration": 427,
    "start_time": "2023-10-09T17:34:23.086Z"
   },
   {
    "duration": 25,
    "start_time": "2023-10-09T17:34:23.523Z"
   },
   {
    "duration": 35,
    "start_time": "2023-10-09T17:34:23.555Z"
   },
   {
    "duration": 49,
    "start_time": "2023-10-09T17:34:23.592Z"
   },
   {
    "duration": 56,
    "start_time": "2023-10-09T17:34:23.644Z"
   },
   {
    "duration": 205,
    "start_time": "2023-10-09T17:34:23.704Z"
   },
   {
    "duration": 47,
    "start_time": "2023-10-09T17:34:23.911Z"
   },
   {
    "duration": 172,
    "start_time": "2023-10-09T17:34:23.961Z"
   },
   {
    "duration": 9,
    "start_time": "2023-10-09T17:34:24.135Z"
   },
   {
    "duration": 43,
    "start_time": "2023-10-09T17:34:24.151Z"
   },
   {
    "duration": 82,
    "start_time": "2023-10-09T17:34:24.196Z"
   },
   {
    "duration": 111,
    "start_time": "2023-10-09T17:34:24.280Z"
   },
   {
    "duration": 58,
    "start_time": "2023-10-09T17:34:24.393Z"
   },
   {
    "duration": 32,
    "start_time": "2023-10-09T17:34:24.453Z"
   },
   {
    "duration": 31,
    "start_time": "2023-10-09T17:34:24.487Z"
   },
   {
    "duration": 15,
    "start_time": "2023-10-09T17:34:24.521Z"
   },
   {
    "duration": 41,
    "start_time": "2023-10-09T17:34:24.538Z"
   },
   {
    "duration": 45,
    "start_time": "2023-10-09T17:34:24.581Z"
   },
   {
    "duration": 47,
    "start_time": "2023-10-09T17:34:24.628Z"
   },
   {
    "duration": 16,
    "start_time": "2023-10-09T17:34:24.678Z"
   },
   {
    "duration": 1537,
    "start_time": "2023-10-09T17:37:14.954Z"
   },
   {
    "duration": 3058,
    "start_time": "2023-10-09T17:37:16.494Z"
   },
   {
    "duration": 81,
    "start_time": "2023-10-09T17:37:19.561Z"
   },
   {
    "duration": 45,
    "start_time": "2023-10-09T17:37:19.643Z"
   },
   {
    "duration": 112,
    "start_time": "2023-10-09T17:37:19.692Z"
   },
   {
    "duration": 774,
    "start_time": "2023-10-09T17:37:19.806Z"
   },
   {
    "duration": 6,
    "start_time": "2023-10-09T17:37:20.582Z"
   },
   {
    "duration": 111,
    "start_time": "2023-10-09T17:37:20.590Z"
   },
   {
    "duration": 60,
    "start_time": "2023-10-09T17:37:20.703Z"
   },
   {
    "duration": 65,
    "start_time": "2023-10-09T17:37:20.764Z"
   },
   {
    "duration": 125,
    "start_time": "2023-10-09T17:37:20.833Z"
   },
   {
    "duration": 110,
    "start_time": "2023-10-09T17:37:20.966Z"
   },
   {
    "duration": 404,
    "start_time": "2023-10-09T17:37:21.078Z"
   },
   {
    "duration": 10,
    "start_time": "2023-10-09T17:37:21.487Z"
   },
   {
    "duration": 88,
    "start_time": "2023-10-09T17:37:21.499Z"
   },
   {
    "duration": 29,
    "start_time": "2023-10-09T17:37:21.589Z"
   },
   {
    "duration": 38,
    "start_time": "2023-10-09T17:37:21.620Z"
   },
   {
    "duration": 42,
    "start_time": "2023-10-09T17:37:21.663Z"
   },
   {
    "duration": 56,
    "start_time": "2023-10-09T17:37:21.707Z"
   },
   {
    "duration": 24,
    "start_time": "2023-10-09T17:37:21.765Z"
   },
   {
    "duration": 49,
    "start_time": "2023-10-09T17:37:21.791Z"
   },
   {
    "duration": 39,
    "start_time": "2023-10-09T17:37:21.842Z"
   },
   {
    "duration": 23,
    "start_time": "2023-10-09T17:37:21.883Z"
   },
   {
    "duration": 51,
    "start_time": "2023-10-09T17:37:21.908Z"
   },
   {
    "duration": 15,
    "start_time": "2023-10-09T17:37:21.964Z"
   },
   {
    "duration": 105,
    "start_time": "2023-10-09T17:37:21.980Z"
   },
   {
    "duration": 146,
    "start_time": "2023-10-09T17:37:22.087Z"
   },
   {
    "duration": 89,
    "start_time": "2023-10-09T17:37:22.250Z"
   },
   {
    "duration": 59,
    "start_time": "2023-10-09T17:37:22.341Z"
   },
   {
    "duration": 284,
    "start_time": "2023-10-09T17:37:22.402Z"
   },
   {
    "duration": 41,
    "start_time": "2023-10-09T17:37:22.687Z"
   },
   {
    "duration": 80,
    "start_time": "2023-10-09T17:37:22.730Z"
   },
   {
    "duration": 27,
    "start_time": "2023-10-09T17:37:22.812Z"
   },
   {
    "duration": 34,
    "start_time": "2023-10-09T17:37:22.845Z"
   },
   {
    "duration": 69,
    "start_time": "2023-10-09T17:37:22.881Z"
   },
   {
    "duration": 1519,
    "start_time": "2023-10-09T17:37:22.952Z"
   },
   {
    "duration": 6,
    "start_time": "2023-10-09T17:37:24.474Z"
   },
   {
    "duration": 183,
    "start_time": "2023-10-09T17:37:24.482Z"
   },
   {
    "duration": 70,
    "start_time": "2023-10-09T17:37:24.667Z"
   },
   {
    "duration": 134,
    "start_time": "2023-10-09T17:37:24.739Z"
   },
   {
    "duration": 120,
    "start_time": "2023-10-09T17:37:24.879Z"
   },
   {
    "duration": 111,
    "start_time": "2023-10-09T17:37:25.001Z"
   },
   {
    "duration": 395,
    "start_time": "2023-10-09T17:37:25.114Z"
   },
   {
    "duration": 217,
    "start_time": "2023-10-09T17:37:25.512Z"
   },
   {
    "duration": 24,
    "start_time": "2023-10-09T17:37:25.731Z"
   },
   {
    "duration": 471,
    "start_time": "2023-10-09T17:37:25.758Z"
   },
   {
    "duration": 33,
    "start_time": "2023-10-09T17:37:26.232Z"
   },
   {
    "duration": 30,
    "start_time": "2023-10-09T17:37:26.267Z"
   },
   {
    "duration": 53,
    "start_time": "2023-10-09T17:37:26.299Z"
   },
   {
    "duration": 62,
    "start_time": "2023-10-09T17:37:26.357Z"
   },
   {
    "duration": 171,
    "start_time": "2023-10-09T17:37:26.421Z"
   },
   {
    "duration": 33,
    "start_time": "2023-10-09T17:37:26.594Z"
   },
   {
    "duration": 157,
    "start_time": "2023-10-09T17:37:26.628Z"
   },
   {
    "duration": 5,
    "start_time": "2023-10-09T17:37:26.787Z"
   },
   {
    "duration": 34,
    "start_time": "2023-10-09T17:37:26.794Z"
   },
   {
    "duration": 71,
    "start_time": "2023-10-09T17:37:26.830Z"
   },
   {
    "duration": 174,
    "start_time": "2023-10-09T17:37:26.903Z"
   },
   {
    "duration": 10,
    "start_time": "2023-10-09T17:37:27.079Z"
   },
   {
    "duration": 110,
    "start_time": "2023-10-09T17:37:27.092Z"
   },
   {
    "duration": 230,
    "start_time": "2023-10-09T17:37:27.204Z"
   },
   {
    "duration": 43,
    "start_time": "2023-10-09T17:37:27.436Z"
   },
   {
    "duration": 121,
    "start_time": "2023-10-09T17:37:27.481Z"
   },
   {
    "duration": 130,
    "start_time": "2023-10-09T17:37:27.604Z"
   },
   {
    "duration": 15,
    "start_time": "2023-10-09T17:37:27.749Z"
   },
   {
    "duration": 32,
    "start_time": "2023-10-09T17:37:27.766Z"
   },
   {
    "duration": 20,
    "start_time": "2023-10-09T17:37:27.800Z"
   },
   {
    "duration": 21,
    "start_time": "2023-10-09T17:39:01.965Z"
   },
   {
    "duration": 4,
    "start_time": "2023-10-09T17:44:05.266Z"
   },
   {
    "duration": 185,
    "start_time": "2023-10-09T17:45:53.109Z"
   },
   {
    "duration": 232,
    "start_time": "2023-10-09T17:46:28.850Z"
   },
   {
    "duration": 285,
    "start_time": "2023-10-09T17:46:42.872Z"
   },
   {
    "duration": 4,
    "start_time": "2023-10-09T17:47:20.481Z"
   },
   {
    "duration": 33,
    "start_time": "2023-10-09T17:47:22.626Z"
   },
   {
    "duration": 16,
    "start_time": "2023-10-09T21:10:34.342Z"
   },
   {
    "duration": 19,
    "start_time": "2023-10-09T21:11:07.573Z"
   },
   {
    "duration": 12,
    "start_time": "2023-10-09T21:11:15.607Z"
   },
   {
    "duration": 29,
    "start_time": "2023-10-09T21:11:24.892Z"
   },
   {
    "duration": 107,
    "start_time": "2023-10-09T21:21:34.534Z"
   },
   {
    "duration": 1381,
    "start_time": "2023-10-11T19:52:06.682Z"
   },
   {
    "duration": 7584,
    "start_time": "2023-10-11T19:52:08.064Z"
   },
   {
    "duration": 114,
    "start_time": "2023-10-11T19:52:15.650Z"
   },
   {
    "duration": 64,
    "start_time": "2023-10-11T19:52:15.766Z"
   },
   {
    "duration": 334,
    "start_time": "2023-10-11T19:52:15.831Z"
   },
   {
    "duration": 758,
    "start_time": "2023-10-11T19:52:16.166Z"
   },
   {
    "duration": 5,
    "start_time": "2023-10-11T19:52:16.926Z"
   },
   {
    "duration": 36,
    "start_time": "2023-10-11T19:52:16.932Z"
   },
   {
    "duration": 51,
    "start_time": "2023-10-11T19:52:16.970Z"
   },
   {
    "duration": 57,
    "start_time": "2023-10-11T19:52:17.023Z"
   },
   {
    "duration": 133,
    "start_time": "2023-10-11T19:52:17.081Z"
   },
   {
    "duration": 68,
    "start_time": "2023-10-11T19:52:17.215Z"
   },
   {
    "duration": 278,
    "start_time": "2023-10-11T19:52:17.285Z"
   },
   {
    "duration": 8,
    "start_time": "2023-10-11T19:52:17.564Z"
   },
   {
    "duration": 87,
    "start_time": "2023-10-11T19:52:17.573Z"
   },
   {
    "duration": 49,
    "start_time": "2023-10-11T19:52:17.662Z"
   },
   {
    "duration": 34,
    "start_time": "2023-10-11T19:52:17.713Z"
   },
   {
    "duration": 67,
    "start_time": "2023-10-11T19:52:17.749Z"
   },
   {
    "duration": 29,
    "start_time": "2023-10-11T19:52:17.818Z"
   },
   {
    "duration": 21,
    "start_time": "2023-10-11T19:52:17.848Z"
   },
   {
    "duration": 32,
    "start_time": "2023-10-11T19:52:17.871Z"
   },
   {
    "duration": 41,
    "start_time": "2023-10-11T19:52:17.905Z"
   },
   {
    "duration": 37,
    "start_time": "2023-10-11T19:52:17.948Z"
   },
   {
    "duration": 37,
    "start_time": "2023-10-11T19:52:17.987Z"
   },
   {
    "duration": 25,
    "start_time": "2023-10-11T19:52:18.025Z"
   },
   {
    "duration": 49,
    "start_time": "2023-10-11T19:52:18.051Z"
   },
   {
    "duration": 25,
    "start_time": "2023-10-11T19:52:18.102Z"
   },
   {
    "duration": 34,
    "start_time": "2023-10-11T19:52:18.131Z"
   },
   {
    "duration": 15,
    "start_time": "2023-10-11T19:52:18.167Z"
   },
   {
    "duration": 216,
    "start_time": "2023-10-11T19:52:18.184Z"
   },
   {
    "duration": 23,
    "start_time": "2023-10-11T19:52:18.402Z"
   },
   {
    "duration": 53,
    "start_time": "2023-10-11T19:52:18.427Z"
   },
   {
    "duration": 11,
    "start_time": "2023-10-11T19:52:18.482Z"
   },
   {
    "duration": 43,
    "start_time": "2023-10-11T19:52:18.494Z"
   },
   {
    "duration": 29,
    "start_time": "2023-10-11T19:52:18.538Z"
   },
   {
    "duration": 1134,
    "start_time": "2023-10-11T19:52:18.568Z"
   },
   {
    "duration": 5,
    "start_time": "2023-10-11T19:52:19.704Z"
   },
   {
    "duration": 74,
    "start_time": "2023-10-11T19:52:19.711Z"
   },
   {
    "duration": 9,
    "start_time": "2023-10-11T19:52:19.787Z"
   },
   {
    "duration": 12,
    "start_time": "2023-10-11T19:52:19.798Z"
   },
   {
    "duration": 22,
    "start_time": "2023-10-11T19:52:19.812Z"
   },
   {
    "duration": 15,
    "start_time": "2023-10-11T19:52:19.844Z"
   },
   {
    "duration": 311,
    "start_time": "2023-10-11T19:52:19.861Z"
   },
   {
    "duration": 157,
    "start_time": "2023-10-11T19:52:20.174Z"
   },
   {
    "duration": 18,
    "start_time": "2023-10-11T19:52:20.332Z"
   },
   {
    "duration": 3622,
    "start_time": "2023-10-11T19:52:20.351Z"
   },
   {
    "duration": 36,
    "start_time": "2023-10-11T19:52:23.974Z"
   },
   {
    "duration": 67,
    "start_time": "2023-10-11T19:52:24.012Z"
   },
   {
    "duration": 52,
    "start_time": "2023-10-11T19:52:24.081Z"
   },
   {
    "duration": 53,
    "start_time": "2023-10-11T19:52:24.135Z"
   },
   {
    "duration": 189,
    "start_time": "2023-10-11T19:52:24.190Z"
   },
   {
    "duration": 28,
    "start_time": "2023-10-11T19:52:24.381Z"
   },
   {
    "duration": 200,
    "start_time": "2023-10-11T19:52:24.411Z"
   },
   {
    "duration": 5,
    "start_time": "2023-10-11T19:52:24.614Z"
   },
   {
    "duration": 39,
    "start_time": "2023-10-11T19:52:24.621Z"
   },
   {
    "duration": 43,
    "start_time": "2023-10-11T19:52:24.663Z"
   },
   {
    "duration": 145,
    "start_time": "2023-10-11T19:52:24.708Z"
   },
   {
    "duration": 8,
    "start_time": "2023-10-11T19:52:24.854Z"
   },
   {
    "duration": 41,
    "start_time": "2023-10-11T19:52:24.863Z"
   },
   {
    "duration": 49,
    "start_time": "2023-10-11T19:52:24.905Z"
   },
   {
    "duration": 28,
    "start_time": "2023-10-11T19:52:24.955Z"
   },
   {
    "duration": 47,
    "start_time": "2023-10-11T19:52:24.985Z"
   },
   {
    "duration": 18,
    "start_time": "2023-10-11T19:52:25.034Z"
   },
   {
    "duration": 39,
    "start_time": "2023-10-11T19:52:25.054Z"
   },
   {
    "duration": 36,
    "start_time": "2023-10-11T19:52:25.094Z"
   },
   {
    "duration": 54,
    "start_time": "2023-10-11T19:52:25.132Z"
   },
   {
    "duration": 30,
    "start_time": "2023-10-11T19:52:25.188Z"
   },
   {
    "duration": 13,
    "start_time": "2023-10-11T19:52:25.220Z"
   },
   {
    "duration": 50,
    "start_time": "2023-10-11T19:52:25.234Z"
   },
   {
    "duration": 1184,
    "start_time": "2023-10-11T20:04:21.770Z"
   },
   {
    "duration": 8112,
    "start_time": "2023-10-11T20:04:22.956Z"
   },
   {
    "duration": 62,
    "start_time": "2023-10-11T20:04:31.070Z"
   },
   {
    "duration": 151,
    "start_time": "2023-10-11T20:04:31.135Z"
   },
   {
    "duration": 133,
    "start_time": "2023-10-11T20:04:31.287Z"
   },
   {
    "duration": 585,
    "start_time": "2023-10-11T20:04:31.422Z"
   },
   {
    "duration": 6,
    "start_time": "2023-10-11T20:04:32.009Z"
   },
   {
    "duration": 38,
    "start_time": "2023-10-11T20:04:32.016Z"
   },
   {
    "duration": 74,
    "start_time": "2023-10-11T20:04:32.056Z"
   },
   {
    "duration": 308,
    "start_time": "2023-10-11T20:04:32.132Z"
   },
   {
    "duration": 270,
    "start_time": "2023-10-11T20:04:32.442Z"
   },
   {
    "duration": 71,
    "start_time": "2023-10-11T20:04:32.714Z"
   },
   {
    "duration": 284,
    "start_time": "2023-10-11T20:04:32.787Z"
   },
   {
    "duration": 7,
    "start_time": "2023-10-11T20:04:33.074Z"
   },
   {
    "duration": 32,
    "start_time": "2023-10-11T20:04:33.082Z"
   },
   {
    "duration": 36,
    "start_time": "2023-10-11T20:04:33.116Z"
   },
   {
    "duration": 41,
    "start_time": "2023-10-11T20:04:33.154Z"
   },
   {
    "duration": 42,
    "start_time": "2023-10-11T20:04:33.197Z"
   },
   {
    "duration": 15,
    "start_time": "2023-10-11T20:04:33.241Z"
   },
   {
    "duration": 31,
    "start_time": "2023-10-11T20:04:33.257Z"
   },
   {
    "duration": 42,
    "start_time": "2023-10-11T20:04:33.290Z"
   },
   {
    "duration": 27,
    "start_time": "2023-10-11T20:04:33.333Z"
   },
   {
    "duration": 24,
    "start_time": "2023-10-11T20:04:33.361Z"
   },
   {
    "duration": 31,
    "start_time": "2023-10-11T20:04:33.387Z"
   },
   {
    "duration": 16,
    "start_time": "2023-10-11T20:04:33.420Z"
   },
   {
    "duration": 50,
    "start_time": "2023-10-11T20:04:33.438Z"
   },
   {
    "duration": 15,
    "start_time": "2023-10-11T20:04:33.490Z"
   },
   {
    "duration": 26,
    "start_time": "2023-10-11T20:04:33.509Z"
   },
   {
    "duration": 29,
    "start_time": "2023-10-11T20:04:33.536Z"
   },
   {
    "duration": 204,
    "start_time": "2023-10-11T20:04:33.567Z"
   },
   {
    "duration": 24,
    "start_time": "2023-10-11T20:04:33.773Z"
   },
   {
    "duration": 53,
    "start_time": "2023-10-11T20:04:33.799Z"
   },
   {
    "duration": 5,
    "start_time": "2023-10-11T20:04:33.854Z"
   },
   {
    "duration": 28,
    "start_time": "2023-10-11T20:04:33.861Z"
   },
   {
    "duration": 18,
    "start_time": "2023-10-11T20:04:33.890Z"
   },
   {
    "duration": 1868,
    "start_time": "2023-10-11T20:04:33.910Z"
   },
   {
    "duration": 5,
    "start_time": "2023-10-11T20:04:35.781Z"
   },
   {
    "duration": 70,
    "start_time": "2023-10-11T20:04:35.787Z"
   },
   {
    "duration": 10,
    "start_time": "2023-10-11T20:04:35.859Z"
   },
   {
    "duration": 14,
    "start_time": "2023-10-11T20:04:35.870Z"
   },
   {
    "duration": 17,
    "start_time": "2023-10-11T20:04:35.886Z"
   },
   {
    "duration": 5,
    "start_time": "2023-10-11T20:04:35.904Z"
   },
   {
    "duration": 314,
    "start_time": "2023-10-11T20:04:35.911Z"
   },
   {
    "duration": 181,
    "start_time": "2023-10-11T20:04:36.227Z"
   },
   {
    "duration": 796776,
    "start_time": "2023-10-11T20:04:36.410Z"
   },
   {
    "duration": 12,
    "start_time": "2023-10-11T20:17:53.188Z"
   },
   {
    "duration": 1244,
    "start_time": "2023-10-11T20:17:53.202Z"
   },
   {
    "duration": 14,
    "start_time": "2023-10-11T20:17:54.448Z"
   },
   {
    "duration": 44,
    "start_time": "2023-10-11T20:17:54.463Z"
   },
   {
    "duration": 30,
    "start_time": "2023-10-11T20:17:54.509Z"
   },
   {
    "duration": 26,
    "start_time": "2023-10-11T20:17:54.541Z"
   },
   {
    "duration": 132,
    "start_time": "2023-10-11T20:17:54.568Z"
   },
   {
    "duration": 20,
    "start_time": "2023-10-11T20:17:54.702Z"
   },
   {
    "duration": 144,
    "start_time": "2023-10-11T20:17:54.724Z"
   },
   {
    "duration": 4,
    "start_time": "2023-10-11T20:17:54.869Z"
   },
   {
    "duration": 27,
    "start_time": "2023-10-11T20:17:54.874Z"
   },
   {
    "duration": 26,
    "start_time": "2023-10-11T20:17:54.902Z"
   },
   {
    "duration": 102,
    "start_time": "2023-10-11T20:17:54.945Z"
   },
   {
    "duration": 10,
    "start_time": "2023-10-11T20:17:55.049Z"
   },
   {
    "duration": 15,
    "start_time": "2023-10-11T20:17:55.060Z"
   },
   {
    "duration": 19,
    "start_time": "2023-10-11T20:17:55.077Z"
   },
   {
    "duration": 9,
    "start_time": "2023-10-11T20:17:55.098Z"
   },
   {
    "duration": 38,
    "start_time": "2023-10-11T20:17:55.109Z"
   },
   {
    "duration": 24,
    "start_time": "2023-10-11T20:17:55.148Z"
   },
   {
    "duration": 17,
    "start_time": "2023-10-11T20:17:55.174Z"
   },
   {
    "duration": 21,
    "start_time": "2023-10-11T20:17:55.193Z"
   },
   {
    "duration": 18,
    "start_time": "2023-10-11T20:17:55.215Z"
   },
   {
    "duration": 19,
    "start_time": "2023-10-11T20:17:55.234Z"
   },
   {
    "duration": 6,
    "start_time": "2023-10-11T20:17:55.254Z"
   },
   {
    "duration": 23,
    "start_time": "2023-10-11T20:17:55.261Z"
   },
   {
    "duration": 28,
    "start_time": "2023-10-11T20:19:37.691Z"
   },
   {
    "duration": 6,
    "start_time": "2023-10-11T20:19:46.352Z"
   },
   {
    "duration": 1437,
    "start_time": "2023-10-11T20:20:22.683Z"
   },
   {
    "duration": 3202,
    "start_time": "2023-10-11T20:20:24.125Z"
   },
   {
    "duration": 60,
    "start_time": "2023-10-11T20:20:27.329Z"
   },
   {
    "duration": 28,
    "start_time": "2023-10-11T20:20:27.391Z"
   },
   {
    "duration": 91,
    "start_time": "2023-10-11T20:20:27.421Z"
   },
   {
    "duration": 583,
    "start_time": "2023-10-11T20:20:27.514Z"
   },
   {
    "duration": 5,
    "start_time": "2023-10-11T20:20:28.098Z"
   },
   {
    "duration": 22,
    "start_time": "2023-10-11T20:20:28.105Z"
   },
   {
    "duration": 20,
    "start_time": "2023-10-11T20:20:28.129Z"
   },
   {
    "duration": 34,
    "start_time": "2023-10-11T20:20:28.152Z"
   },
   {
    "duration": 81,
    "start_time": "2023-10-11T20:20:28.188Z"
   },
   {
    "duration": 74,
    "start_time": "2023-10-11T20:20:28.271Z"
   },
   {
    "duration": 283,
    "start_time": "2023-10-11T20:20:28.347Z"
   },
   {
    "duration": 12,
    "start_time": "2023-10-11T20:20:28.632Z"
   },
   {
    "duration": 14,
    "start_time": "2023-10-11T20:20:28.646Z"
   },
   {
    "duration": 15,
    "start_time": "2023-10-11T20:20:28.661Z"
   },
   {
    "duration": 21,
    "start_time": "2023-10-11T20:20:28.678Z"
   },
   {
    "duration": 29,
    "start_time": "2023-10-11T20:20:28.701Z"
   },
   {
    "duration": 25,
    "start_time": "2023-10-11T20:20:28.731Z"
   },
   {
    "duration": 30,
    "start_time": "2023-10-11T20:20:28.758Z"
   },
   {
    "duration": 25,
    "start_time": "2023-10-11T20:20:28.790Z"
   },
   {
    "duration": 30,
    "start_time": "2023-10-11T20:20:28.818Z"
   },
   {
    "duration": 9,
    "start_time": "2023-10-11T20:20:28.850Z"
   },
   {
    "duration": 21,
    "start_time": "2023-10-11T20:20:28.861Z"
   },
   {
    "duration": 12,
    "start_time": "2023-10-11T20:20:28.883Z"
   },
   {
    "duration": 39,
    "start_time": "2023-10-11T20:20:28.897Z"
   },
   {
    "duration": 15,
    "start_time": "2023-10-11T20:20:28.945Z"
   },
   {
    "duration": 14,
    "start_time": "2023-10-11T20:20:28.964Z"
   },
   {
    "duration": 11,
    "start_time": "2023-10-11T20:20:28.980Z"
   },
   {
    "duration": 211,
    "start_time": "2023-10-11T20:20:28.993Z"
   },
   {
    "duration": 39,
    "start_time": "2023-10-11T20:20:29.205Z"
   },
   {
    "duration": 35,
    "start_time": "2023-10-11T20:20:29.247Z"
   },
   {
    "duration": 4,
    "start_time": "2023-10-11T20:20:29.283Z"
   },
   {
    "duration": 6,
    "start_time": "2023-10-11T20:20:29.289Z"
   },
   {
    "duration": 18,
    "start_time": "2023-10-11T20:20:29.296Z"
   },
   {
    "duration": 42,
    "start_time": "2023-10-11T20:20:29.316Z"
   },
   {
    "duration": 1759,
    "start_time": "2023-10-11T20:20:29.360Z"
   },
   {
    "duration": 26,
    "start_time": "2023-10-11T20:20:31.122Z"
   },
   {
    "duration": 131,
    "start_time": "2023-10-11T20:20:31.149Z"
   },
   {
    "duration": 39,
    "start_time": "2023-10-11T20:20:31.282Z"
   },
   {
    "duration": 73,
    "start_time": "2023-10-11T20:20:31.323Z"
   },
   {
    "duration": 58,
    "start_time": "2023-10-11T20:20:31.398Z"
   },
   {
    "duration": 100,
    "start_time": "2023-10-11T20:20:31.458Z"
   },
   {
    "duration": 360,
    "start_time": "2023-10-11T20:20:31.560Z"
   },
   {
    "duration": 165,
    "start_time": "2023-10-11T20:20:31.922Z"
   },
   {
    "duration": 89082,
    "start_time": "2023-10-11T20:20:32.089Z"
   },
   {
    "duration": 17,
    "start_time": "2023-10-11T20:22:01.174Z"
   },
   {
    "duration": 1359,
    "start_time": "2023-10-11T20:22:01.195Z"
   },
   {
    "duration": 18,
    "start_time": "2023-10-11T20:22:02.557Z"
   },
   {
    "duration": 97,
    "start_time": "2023-10-11T20:22:02.577Z"
   },
   {
    "duration": 52,
    "start_time": "2023-10-11T20:22:02.676Z"
   },
   {
    "duration": 62,
    "start_time": "2023-10-11T20:22:02.730Z"
   },
   {
    "duration": 125,
    "start_time": "2023-10-11T20:22:02.794Z"
   },
   {
    "duration": 40,
    "start_time": "2023-10-11T20:22:02.921Z"
   },
   {
    "duration": 133,
    "start_time": "2023-10-11T20:22:02.963Z"
   },
   {
    "duration": 6,
    "start_time": "2023-10-11T20:22:03.097Z"
   },
   {
    "duration": 18,
    "start_time": "2023-10-11T20:22:03.105Z"
   },
   {
    "duration": 58,
    "start_time": "2023-10-11T20:22:03.125Z"
   },
   {
    "duration": 27,
    "start_time": "2023-10-11T20:22:03.185Z"
   },
   {
    "duration": 89,
    "start_time": "2023-10-11T20:22:03.214Z"
   },
   {
    "duration": 7,
    "start_time": "2023-10-11T20:22:03.305Z"
   },
   {
    "duration": 41,
    "start_time": "2023-10-11T20:22:03.314Z"
   },
   {
    "duration": 23,
    "start_time": "2023-10-11T20:22:03.358Z"
   },
   {
    "duration": 10,
    "start_time": "2023-10-11T20:22:03.383Z"
   },
   {
    "duration": 27,
    "start_time": "2023-10-11T20:22:03.395Z"
   },
   {
    "duration": 24,
    "start_time": "2023-10-11T20:22:03.423Z"
   },
   {
    "duration": 8,
    "start_time": "2023-10-11T20:22:03.449Z"
   },
   {
    "duration": 15,
    "start_time": "2023-10-11T20:22:03.462Z"
   },
   {
    "duration": 16,
    "start_time": "2023-10-11T20:22:03.479Z"
   },
   {
    "duration": 17,
    "start_time": "2023-10-11T20:22:03.496Z"
   },
   {
    "duration": 24,
    "start_time": "2023-10-11T20:22:03.521Z"
   },
   {
    "duration": 44,
    "start_time": "2023-10-11T20:22:03.547Z"
   },
   {
    "duration": 5,
    "start_time": "2023-10-11T20:22:58.257Z"
   },
   {
    "duration": 32,
    "start_time": "2023-10-11T20:22:59.626Z"
   },
   {
    "duration": 12,
    "start_time": "2023-10-11T20:23:21.815Z"
   },
   {
    "duration": 1606,
    "start_time": "2023-10-13T12:29:43.347Z"
   },
   {
    "duration": 139,
    "start_time": "2023-10-13T12:46:58.161Z"
   },
   {
    "duration": 93,
    "start_time": "2023-10-13T12:49:21.945Z"
   },
   {
    "duration": 118,
    "start_time": "2023-10-13T13:05:25.033Z"
   },
   {
    "duration": 103,
    "start_time": "2023-10-13T13:06:56.556Z"
   },
   {
    "duration": 102,
    "start_time": "2023-10-13T13:07:26.086Z"
   },
   {
    "duration": 2,
    "start_time": "2023-10-13T13:08:25.365Z"
   },
   {
    "duration": 116,
    "start_time": "2023-10-13T13:25:36.650Z"
   },
   {
    "duration": 2,
    "start_time": "2023-10-13T13:27:28.767Z"
   },
   {
    "duration": 5,
    "start_time": "2023-10-13T13:34:26.260Z"
   },
   {
    "duration": 2492,
    "start_time": "2023-10-13T13:34:26.267Z"
   },
   {
    "duration": 58,
    "start_time": "2023-10-13T13:40:05.895Z"
   },
   {
    "duration": 1270,
    "start_time": "2023-10-13T13:40:11.063Z"
   },
   {
    "duration": 2388,
    "start_time": "2023-10-13T13:40:12.335Z"
   },
   {
    "duration": 86,
    "start_time": "2023-10-13T13:40:14.725Z"
   },
   {
    "duration": 15,
    "start_time": "2023-10-13T13:40:14.812Z"
   },
   {
    "duration": 13,
    "start_time": "2023-10-13T13:40:14.951Z"
   },
   {
    "duration": 68,
    "start_time": "2023-10-13T13:40:53.116Z"
   },
   {
    "duration": 10,
    "start_time": "2023-10-13T13:40:53.492Z"
   },
   {
    "duration": 17,
    "start_time": "2023-10-13T13:40:53.853Z"
   },
   {
    "duration": 9,
    "start_time": "2023-10-13T13:41:26.410Z"
   },
   {
    "duration": 207,
    "start_time": "2023-10-13T13:51:33.270Z"
   },
   {
    "duration": 9,
    "start_time": "2023-10-13T13:51:55.202Z"
   },
   {
    "duration": 20,
    "start_time": "2023-10-13T13:51:57.889Z"
   },
   {
    "duration": 690,
    "start_time": "2023-10-13T13:52:17.565Z"
   },
   {
    "duration": 20,
    "start_time": "2023-10-13T13:52:37.623Z"
   },
   {
    "duration": 68,
    "start_time": "2023-10-13T13:52:39.685Z"
   },
   {
    "duration": 5,
    "start_time": "2023-10-13T13:52:47.918Z"
   },
   {
    "duration": 9,
    "start_time": "2023-10-13T13:52:48.266Z"
   },
   {
    "duration": 10,
    "start_time": "2023-10-13T13:52:48.679Z"
   },
   {
    "duration": 15,
    "start_time": "2023-10-13T13:52:49.193Z"
   },
   {
    "duration": 73,
    "start_time": "2023-10-13T13:52:49.674Z"
   },
   {
    "duration": 67,
    "start_time": "2023-10-13T13:52:50.156Z"
   },
   {
    "duration": 9,
    "start_time": "2023-10-13T14:29:09.644Z"
   },
   {
    "duration": 10,
    "start_time": "2023-10-13T14:29:35.026Z"
   },
   {
    "duration": 5,
    "start_time": "2023-10-13T15:10:35.551Z"
   },
   {
    "duration": 2488,
    "start_time": "2023-10-13T15:10:36.130Z"
   },
   {
    "duration": 42,
    "start_time": "2023-10-13T15:10:38.621Z"
   },
   {
    "duration": 12,
    "start_time": "2023-10-13T15:10:38.665Z"
   },
   {
    "duration": 12,
    "start_time": "2023-10-13T15:10:38.679Z"
   },
   {
    "duration": 30,
    "start_time": "2023-10-13T15:10:38.693Z"
   },
   {
    "duration": 10,
    "start_time": "2023-10-13T15:10:39.941Z"
   },
   {
    "duration": 8,
    "start_time": "2023-10-13T15:10:40.927Z"
   },
   {
    "duration": 90,
    "start_time": "2023-10-13T15:10:41.494Z"
   },
   {
    "duration": 21,
    "start_time": "2023-10-13T15:10:42.089Z"
   },
   {
    "duration": 10,
    "start_time": "2023-10-13T15:10:42.512Z"
   },
   {
    "duration": 525,
    "start_time": "2023-10-13T15:10:43.021Z"
   },
   {
    "duration": 79,
    "start_time": "2023-10-13T15:10:43.548Z"
   },
   {
    "duration": 21,
    "start_time": "2023-10-13T15:10:43.856Z"
   },
   {
    "duration": 6,
    "start_time": "2023-10-13T15:10:44.830Z"
   },
   {
    "duration": 9,
    "start_time": "2023-10-13T15:10:45.300Z"
   },
   {
    "duration": 15,
    "start_time": "2023-10-13T15:10:45.955Z"
   },
   {
    "duration": 11,
    "start_time": "2023-10-13T15:10:48.203Z"
   },
   {
    "duration": 13,
    "start_time": "2023-10-13T15:10:48.639Z"
   },
   {
    "duration": 61,
    "start_time": "2023-10-13T15:10:49.032Z"
   },
   {
    "duration": 59,
    "start_time": "2023-10-13T15:10:49.456Z"
   },
   {
    "duration": 274,
    "start_time": "2023-10-13T15:10:51.793Z"
   },
   {
    "duration": 7,
    "start_time": "2023-10-13T15:10:52.322Z"
   },
   {
    "duration": 1270,
    "start_time": "2023-10-13T15:12:16.192Z"
   },
   {
    "duration": 2571,
    "start_time": "2023-10-13T15:12:17.464Z"
   },
   {
    "duration": 44,
    "start_time": "2023-10-13T15:12:20.038Z"
   },
   {
    "duration": 59,
    "start_time": "2023-10-13T15:12:20.084Z"
   },
   {
    "duration": 183,
    "start_time": "2023-10-13T15:12:20.146Z"
   },
   {
    "duration": 114,
    "start_time": "2023-10-13T15:12:20.331Z"
   },
   {
    "duration": 96,
    "start_time": "2023-10-13T15:12:20.448Z"
   },
   {
    "duration": 69,
    "start_time": "2023-10-13T15:12:20.546Z"
   },
   {
    "duration": 138,
    "start_time": "2023-10-13T15:12:20.617Z"
   },
   {
    "duration": 19,
    "start_time": "2023-10-13T15:12:20.757Z"
   },
   {
    "duration": 29,
    "start_time": "2023-10-13T15:12:20.777Z"
   },
   {
    "duration": 576,
    "start_time": "2023-10-13T15:12:20.808Z"
   },
   {
    "duration": 88,
    "start_time": "2023-10-13T15:12:21.386Z"
   },
   {
    "duration": 76,
    "start_time": "2023-10-13T15:12:21.477Z"
   },
   {
    "duration": 22,
    "start_time": "2023-10-13T15:12:21.555Z"
   },
   {
    "duration": 38,
    "start_time": "2023-10-13T15:12:21.579Z"
   },
   {
    "duration": 49,
    "start_time": "2023-10-13T15:12:21.619Z"
   },
   {
    "duration": 57,
    "start_time": "2023-10-13T15:12:21.670Z"
   },
   {
    "duration": 133,
    "start_time": "2023-10-13T15:12:21.729Z"
   },
   {
    "duration": 143,
    "start_time": "2023-10-13T15:12:21.863Z"
   },
   {
    "duration": 86,
    "start_time": "2023-10-13T15:12:22.008Z"
   },
   {
    "duration": 361,
    "start_time": "2023-10-13T15:12:22.096Z"
   },
   {
    "duration": 8,
    "start_time": "2023-10-13T15:12:22.458Z"
   },
   {
    "duration": 127,
    "start_time": "2023-10-13T15:12:22.467Z"
   },
   {
    "duration": 54,
    "start_time": "2023-10-13T15:12:22.597Z"
   },
   {
    "duration": 37,
    "start_time": "2023-10-13T15:12:22.654Z"
   },
   {
    "duration": 87,
    "start_time": "2023-10-13T15:12:22.693Z"
   },
   {
    "duration": 73,
    "start_time": "2023-10-13T15:12:22.782Z"
   },
   {
    "duration": 180,
    "start_time": "2023-10-13T15:12:22.857Z"
   },
   {
    "duration": 190,
    "start_time": "2023-10-13T15:12:23.039Z"
   },
   {
    "duration": 60,
    "start_time": "2023-10-13T15:12:23.231Z"
   },
   {
    "duration": 64,
    "start_time": "2023-10-13T15:12:23.294Z"
   },
   {
    "duration": 49,
    "start_time": "2023-10-13T15:12:23.359Z"
   },
   {
    "duration": 93,
    "start_time": "2023-10-13T15:12:23.410Z"
   },
   {
    "duration": 51,
    "start_time": "2023-10-13T15:12:23.505Z"
   },
   {
    "duration": 70,
    "start_time": "2023-10-13T15:12:23.558Z"
   },
   {
    "duration": 42,
    "start_time": "2023-10-13T15:12:23.630Z"
   },
   {
    "duration": 48,
    "start_time": "2023-10-13T15:12:23.674Z"
   },
   {
    "duration": 44,
    "start_time": "2023-10-13T15:12:23.723Z"
   },
   {
    "duration": 233,
    "start_time": "2023-10-13T15:12:23.769Z"
   },
   {
    "duration": 35,
    "start_time": "2023-10-13T15:12:24.007Z"
   },
   {
    "duration": 47,
    "start_time": "2023-10-13T15:12:24.044Z"
   },
   {
    "duration": 5,
    "start_time": "2023-10-13T15:12:24.093Z"
   },
   {
    "duration": 50,
    "start_time": "2023-10-13T15:12:24.099Z"
   },
   {
    "duration": 75,
    "start_time": "2023-10-13T15:12:24.150Z"
   },
   {
    "duration": 1222,
    "start_time": "2023-10-13T15:12:24.227Z"
   },
   {
    "duration": 7,
    "start_time": "2023-10-13T15:12:25.452Z"
   },
   {
    "duration": 117,
    "start_time": "2023-10-13T15:12:25.460Z"
   },
   {
    "duration": 21,
    "start_time": "2023-10-13T15:12:25.578Z"
   },
   {
    "duration": 57,
    "start_time": "2023-10-13T15:12:25.601Z"
   },
   {
    "duration": 32,
    "start_time": "2023-10-13T15:12:25.659Z"
   },
   {
    "duration": 9,
    "start_time": "2023-10-13T15:12:25.693Z"
   },
   {
    "duration": 373,
    "start_time": "2023-10-13T15:12:25.703Z"
   },
   {
    "duration": 174,
    "start_time": "2023-10-13T15:12:26.078Z"
   },
   {
    "duration": 292694,
    "start_time": "2023-10-13T15:12:26.254Z"
   },
   {
    "duration": 1158,
    "start_time": "2023-10-13T15:17:18.966Z"
   },
   {
    "duration": 16,
    "start_time": "2023-10-13T15:17:20.126Z"
   },
   {
    "duration": 1351,
    "start_time": "2023-10-13T15:17:24.761Z"
   },
   {
    "duration": 2583,
    "start_time": "2023-10-13T15:17:26.114Z"
   },
   {
    "duration": 46,
    "start_time": "2023-10-13T15:17:28.699Z"
   },
   {
    "duration": 16,
    "start_time": "2023-10-13T15:17:28.746Z"
   },
   {
    "duration": 21,
    "start_time": "2023-10-13T15:17:28.764Z"
   },
   {
    "duration": 23,
    "start_time": "2023-10-13T15:17:28.787Z"
   },
   {
    "duration": 16,
    "start_time": "2023-10-13T15:17:28.811Z"
   },
   {
    "duration": 13,
    "start_time": "2023-10-13T15:17:28.829Z"
   },
   {
    "duration": 116,
    "start_time": "2023-10-13T15:17:28.844Z"
   },
   {
    "duration": 25,
    "start_time": "2023-10-13T15:17:28.962Z"
   },
   {
    "duration": 19,
    "start_time": "2023-10-13T15:17:28.989Z"
   },
   {
    "duration": 536,
    "start_time": "2023-10-13T15:17:29.009Z"
   },
   {
    "duration": 81,
    "start_time": "2023-10-13T15:17:29.546Z"
   },
   {
    "duration": 21,
    "start_time": "2023-10-13T15:17:29.631Z"
   },
   {
    "duration": 24,
    "start_time": "2023-10-13T15:17:29.653Z"
   },
   {
    "duration": 24,
    "start_time": "2023-10-13T15:17:29.678Z"
   },
   {
    "duration": 33,
    "start_time": "2023-10-13T15:17:29.704Z"
   },
   {
    "duration": 56,
    "start_time": "2023-10-13T15:17:29.739Z"
   },
   {
    "duration": 32,
    "start_time": "2023-10-13T15:17:29.797Z"
   },
   {
    "duration": 94,
    "start_time": "2023-10-13T15:17:29.831Z"
   },
   {
    "duration": 71,
    "start_time": "2023-10-13T15:17:29.927Z"
   },
   {
    "duration": 333,
    "start_time": "2023-10-13T15:17:30.000Z"
   },
   {
    "duration": 11,
    "start_time": "2023-10-13T15:17:30.335Z"
   },
   {
    "duration": 91,
    "start_time": "2023-10-13T15:17:30.348Z"
   },
   {
    "duration": 72,
    "start_time": "2023-10-13T15:17:30.441Z"
   },
   {
    "duration": 28,
    "start_time": "2023-10-13T15:17:30.515Z"
   },
   {
    "duration": 128,
    "start_time": "2023-10-13T15:17:30.545Z"
   },
   {
    "duration": 0,
    "start_time": "2023-10-13T15:17:30.675Z"
   },
   {
    "duration": 0,
    "start_time": "2023-10-13T15:17:30.677Z"
   },
   {
    "duration": 0,
    "start_time": "2023-10-13T15:17:30.678Z"
   },
   {
    "duration": 0,
    "start_time": "2023-10-13T15:17:30.679Z"
   },
   {
    "duration": 0,
    "start_time": "2023-10-13T15:17:30.681Z"
   },
   {
    "duration": 0,
    "start_time": "2023-10-13T15:17:30.682Z"
   },
   {
    "duration": 0,
    "start_time": "2023-10-13T15:17:30.683Z"
   },
   {
    "duration": 0,
    "start_time": "2023-10-13T15:17:30.684Z"
   },
   {
    "duration": 0,
    "start_time": "2023-10-13T15:17:30.685Z"
   },
   {
    "duration": 0,
    "start_time": "2023-10-13T15:17:30.686Z"
   },
   {
    "duration": 0,
    "start_time": "2023-10-13T15:17:30.687Z"
   },
   {
    "duration": 0,
    "start_time": "2023-10-13T15:17:30.688Z"
   },
   {
    "duration": 0,
    "start_time": "2023-10-13T15:17:30.689Z"
   },
   {
    "duration": 0,
    "start_time": "2023-10-13T15:17:30.690Z"
   },
   {
    "duration": 0,
    "start_time": "2023-10-13T15:17:30.691Z"
   },
   {
    "duration": 1,
    "start_time": "2023-10-13T15:17:30.723Z"
   },
   {
    "duration": 0,
    "start_time": "2023-10-13T15:17:30.725Z"
   },
   {
    "duration": 0,
    "start_time": "2023-10-13T15:17:30.727Z"
   },
   {
    "duration": 0,
    "start_time": "2023-10-13T15:17:30.728Z"
   },
   {
    "duration": 0,
    "start_time": "2023-10-13T15:17:30.729Z"
   },
   {
    "duration": 0,
    "start_time": "2023-10-13T15:17:30.730Z"
   },
   {
    "duration": 0,
    "start_time": "2023-10-13T15:17:30.731Z"
   },
   {
    "duration": 0,
    "start_time": "2023-10-13T15:17:30.732Z"
   },
   {
    "duration": 0,
    "start_time": "2023-10-13T15:17:30.733Z"
   },
   {
    "duration": 1,
    "start_time": "2023-10-13T15:17:30.734Z"
   },
   {
    "duration": 0,
    "start_time": "2023-10-13T15:17:30.736Z"
   },
   {
    "duration": 0,
    "start_time": "2023-10-13T15:17:30.737Z"
   },
   {
    "duration": 0,
    "start_time": "2023-10-13T15:17:30.739Z"
   },
   {
    "duration": 0,
    "start_time": "2023-10-13T15:17:30.740Z"
   },
   {
    "duration": 0,
    "start_time": "2023-10-13T15:17:30.741Z"
   },
   {
    "duration": 0,
    "start_time": "2023-10-13T15:17:30.742Z"
   },
   {
    "duration": 0,
    "start_time": "2023-10-13T15:17:30.743Z"
   },
   {
    "duration": 0,
    "start_time": "2023-10-13T15:17:30.745Z"
   },
   {
    "duration": 0,
    "start_time": "2023-10-13T15:17:30.746Z"
   },
   {
    "duration": 0,
    "start_time": "2023-10-13T15:17:30.747Z"
   },
   {
    "duration": 0,
    "start_time": "2023-10-13T15:17:30.749Z"
   },
   {
    "duration": 0,
    "start_time": "2023-10-13T15:17:30.750Z"
   },
   {
    "duration": 0,
    "start_time": "2023-10-13T15:17:30.751Z"
   },
   {
    "duration": 0,
    "start_time": "2023-10-13T15:17:30.752Z"
   },
   {
    "duration": 0,
    "start_time": "2023-10-13T15:17:30.754Z"
   },
   {
    "duration": 0,
    "start_time": "2023-10-13T15:17:30.755Z"
   },
   {
    "duration": 1,
    "start_time": "2023-10-13T15:17:30.756Z"
   },
   {
    "duration": 0,
    "start_time": "2023-10-13T15:17:30.758Z"
   },
   {
    "duration": 0,
    "start_time": "2023-10-13T15:17:30.761Z"
   },
   {
    "duration": 0,
    "start_time": "2023-10-13T15:17:30.825Z"
   },
   {
    "duration": 0,
    "start_time": "2023-10-13T15:17:30.826Z"
   },
   {
    "duration": 0,
    "start_time": "2023-10-13T15:17:30.828Z"
   },
   {
    "duration": 0,
    "start_time": "2023-10-13T15:17:30.829Z"
   },
   {
    "duration": 1,
    "start_time": "2023-10-13T15:17:30.830Z"
   },
   {
    "duration": 0,
    "start_time": "2023-10-13T15:17:30.832Z"
   },
   {
    "duration": 0,
    "start_time": "2023-10-13T15:17:30.834Z"
   },
   {
    "duration": 0,
    "start_time": "2023-10-13T15:17:30.835Z"
   },
   {
    "duration": 0,
    "start_time": "2023-10-13T15:17:30.836Z"
   },
   {
    "duration": 1,
    "start_time": "2023-10-13T15:17:30.837Z"
   },
   {
    "duration": 0,
    "start_time": "2023-10-13T15:17:30.839Z"
   },
   {
    "duration": 11,
    "start_time": "2023-10-13T15:18:07.792Z"
   },
   {
    "duration": 38,
    "start_time": "2023-10-13T15:18:18.006Z"
   },
   {
    "duration": 42,
    "start_time": "2023-10-13T15:18:33.174Z"
   },
   {
    "duration": 5,
    "start_time": "2023-10-13T15:43:57.553Z"
   },
   {
    "duration": 10,
    "start_time": "2023-10-13T15:45:31.603Z"
   },
   {
    "duration": 6,
    "start_time": "2023-10-13T15:45:38.460Z"
   },
   {
    "duration": 11,
    "start_time": "2023-10-13T15:45:39.447Z"
   },
   {
    "duration": 8,
    "start_time": "2023-10-13T15:45:39.904Z"
   },
   {
    "duration": 1238,
    "start_time": "2023-10-13T15:45:53.257Z"
   },
   {
    "duration": 3069,
    "start_time": "2023-10-13T15:45:54.497Z"
   },
   {
    "duration": 63,
    "start_time": "2023-10-13T15:45:57.568Z"
   },
   {
    "duration": 123,
    "start_time": "2023-10-13T15:45:57.633Z"
   },
   {
    "duration": 179,
    "start_time": "2023-10-13T15:45:57.757Z"
   },
   {
    "duration": 29,
    "start_time": "2023-10-13T15:45:57.937Z"
   },
   {
    "duration": 44,
    "start_time": "2023-10-13T15:45:57.968Z"
   },
   {
    "duration": 46,
    "start_time": "2023-10-13T15:45:58.014Z"
   },
   {
    "duration": 185,
    "start_time": "2023-10-13T15:45:58.062Z"
   },
   {
    "duration": 19,
    "start_time": "2023-10-13T15:45:58.250Z"
   },
   {
    "duration": 44,
    "start_time": "2023-10-13T15:45:58.271Z"
   },
   {
    "duration": 517,
    "start_time": "2023-10-13T15:45:58.317Z"
   },
   {
    "duration": 66,
    "start_time": "2023-10-13T15:45:58.835Z"
   },
   {
    "duration": 136,
    "start_time": "2023-10-13T15:45:58.903Z"
   },
   {
    "duration": 26,
    "start_time": "2023-10-13T15:45:59.041Z"
   },
   {
    "duration": 85,
    "start_time": "2023-10-13T15:45:59.069Z"
   },
   {
    "duration": 59,
    "start_time": "2023-10-13T15:45:59.156Z"
   },
   {
    "duration": 141,
    "start_time": "2023-10-13T15:45:59.216Z"
   },
   {
    "duration": 35,
    "start_time": "2023-10-13T15:45:59.359Z"
   },
   {
    "duration": 157,
    "start_time": "2023-10-13T15:45:59.396Z"
   },
   {
    "duration": 79,
    "start_time": "2023-10-13T15:45:59.555Z"
   },
   {
    "duration": 321,
    "start_time": "2023-10-13T15:45:59.636Z"
   },
   {
    "duration": 8,
    "start_time": "2023-10-13T15:45:59.959Z"
   },
   {
    "duration": 199,
    "start_time": "2023-10-13T15:45:59.968Z"
   },
   {
    "duration": 53,
    "start_time": "2023-10-13T15:46:00.168Z"
   },
   {
    "duration": 34,
    "start_time": "2023-10-13T15:46:00.222Z"
   },
   {
    "duration": 91,
    "start_time": "2023-10-13T15:46:00.258Z"
   },
   {
    "duration": 4,
    "start_time": "2023-10-13T15:46:00.355Z"
   },
   {
    "duration": 157,
    "start_time": "2023-10-13T15:46:00.362Z"
   },
   {
    "duration": 0,
    "start_time": "2023-10-13T15:46:00.523Z"
   },
   {
    "duration": 0,
    "start_time": "2023-10-13T15:46:00.525Z"
   },
   {
    "duration": 0,
    "start_time": "2023-10-13T15:46:00.526Z"
   },
   {
    "duration": 0,
    "start_time": "2023-10-13T15:46:00.527Z"
   },
   {
    "duration": 0,
    "start_time": "2023-10-13T15:46:00.528Z"
   },
   {
    "duration": 0,
    "start_time": "2023-10-13T15:46:00.529Z"
   },
   {
    "duration": 0,
    "start_time": "2023-10-13T15:46:00.530Z"
   },
   {
    "duration": 0,
    "start_time": "2023-10-13T15:46:00.531Z"
   },
   {
    "duration": 0,
    "start_time": "2023-10-13T15:46:00.533Z"
   },
   {
    "duration": 0,
    "start_time": "2023-10-13T15:46:00.534Z"
   },
   {
    "duration": 0,
    "start_time": "2023-10-13T15:46:00.535Z"
   },
   {
    "duration": 0,
    "start_time": "2023-10-13T15:46:00.536Z"
   },
   {
    "duration": 0,
    "start_time": "2023-10-13T15:46:00.538Z"
   },
   {
    "duration": 0,
    "start_time": "2023-10-13T15:46:00.539Z"
   },
   {
    "duration": 0,
    "start_time": "2023-10-13T15:46:00.540Z"
   },
   {
    "duration": 0,
    "start_time": "2023-10-13T15:46:00.541Z"
   },
   {
    "duration": 0,
    "start_time": "2023-10-13T15:46:00.542Z"
   },
   {
    "duration": 0,
    "start_time": "2023-10-13T15:46:00.543Z"
   },
   {
    "duration": 0,
    "start_time": "2023-10-13T15:46:00.544Z"
   },
   {
    "duration": 0,
    "start_time": "2023-10-13T15:46:00.545Z"
   },
   {
    "duration": 0,
    "start_time": "2023-10-13T15:46:00.546Z"
   },
   {
    "duration": 0,
    "start_time": "2023-10-13T15:46:00.547Z"
   },
   {
    "duration": 0,
    "start_time": "2023-10-13T15:46:00.548Z"
   },
   {
    "duration": 0,
    "start_time": "2023-10-13T15:46:00.549Z"
   },
   {
    "duration": 0,
    "start_time": "2023-10-13T15:46:00.550Z"
   },
   {
    "duration": 0,
    "start_time": "2023-10-13T15:46:00.551Z"
   },
   {
    "duration": 0,
    "start_time": "2023-10-13T15:46:00.553Z"
   },
   {
    "duration": 0,
    "start_time": "2023-10-13T15:46:00.554Z"
   },
   {
    "duration": 0,
    "start_time": "2023-10-13T15:46:00.555Z"
   },
   {
    "duration": 0,
    "start_time": "2023-10-13T15:46:00.556Z"
   },
   {
    "duration": 0,
    "start_time": "2023-10-13T15:46:00.557Z"
   },
   {
    "duration": 0,
    "start_time": "2023-10-13T15:46:00.558Z"
   },
   {
    "duration": 0,
    "start_time": "2023-10-13T15:46:00.559Z"
   },
   {
    "duration": 0,
    "start_time": "2023-10-13T15:46:00.560Z"
   },
   {
    "duration": 0,
    "start_time": "2023-10-13T15:46:00.562Z"
   },
   {
    "duration": 0,
    "start_time": "2023-10-13T15:46:00.562Z"
   },
   {
    "duration": 0,
    "start_time": "2023-10-13T15:46:00.563Z"
   },
   {
    "duration": 0,
    "start_time": "2023-10-13T15:46:00.624Z"
   },
   {
    "duration": 0,
    "start_time": "2023-10-13T15:46:00.625Z"
   },
   {
    "duration": 0,
    "start_time": "2023-10-13T15:46:00.627Z"
   },
   {
    "duration": 0,
    "start_time": "2023-10-13T15:46:00.628Z"
   },
   {
    "duration": 0,
    "start_time": "2023-10-13T15:46:00.630Z"
   },
   {
    "duration": 0,
    "start_time": "2023-10-13T15:46:00.632Z"
   },
   {
    "duration": 0,
    "start_time": "2023-10-13T15:46:00.633Z"
   },
   {
    "duration": 0,
    "start_time": "2023-10-13T15:46:00.634Z"
   },
   {
    "duration": 0,
    "start_time": "2023-10-13T15:46:00.636Z"
   },
   {
    "duration": 0,
    "start_time": "2023-10-13T15:46:00.638Z"
   },
   {
    "duration": 0,
    "start_time": "2023-10-13T15:46:00.639Z"
   },
   {
    "duration": 0,
    "start_time": "2023-10-13T15:46:00.640Z"
   },
   {
    "duration": 0,
    "start_time": "2023-10-13T15:46:00.640Z"
   },
   {
    "duration": 0,
    "start_time": "2023-10-13T15:46:00.642Z"
   },
   {
    "duration": 0,
    "start_time": "2023-10-13T15:46:00.643Z"
   },
   {
    "duration": 0,
    "start_time": "2023-10-13T15:46:00.644Z"
   },
   {
    "duration": 11,
    "start_time": "2023-10-13T15:46:35.697Z"
   },
   {
    "duration": 6,
    "start_time": "2023-10-13T15:46:39.032Z"
   },
   {
    "duration": 8,
    "start_time": "2023-10-13T15:46:40.935Z"
   },
   {
    "duration": 5,
    "start_time": "2023-10-13T15:46:44.095Z"
   },
   {
    "duration": 6,
    "start_time": "2023-10-13T15:47:52.745Z"
   },
   {
    "duration": 11,
    "start_time": "2023-10-13T15:47:56.607Z"
   },
   {
    "duration": 16,
    "start_time": "2023-10-13T15:47:57.835Z"
   },
   {
    "duration": 11,
    "start_time": "2023-10-13T15:57:45.317Z"
   },
   {
    "duration": 14,
    "start_time": "2023-10-13T15:57:46.192Z"
   },
   {
    "duration": 12,
    "start_time": "2023-10-13T15:58:28.075Z"
   },
   {
    "duration": 8,
    "start_time": "2023-10-13T15:58:34.982Z"
   },
   {
    "duration": 16,
    "start_time": "2023-10-13T15:58:35.311Z"
   },
   {
    "duration": 8,
    "start_time": "2023-10-13T15:58:35.642Z"
   },
   {
    "duration": 30,
    "start_time": "2023-10-13T15:58:36.288Z"
   },
   {
    "duration": 16,
    "start_time": "2023-10-13T15:58:36.890Z"
   },
   {
    "duration": 33,
    "start_time": "2023-10-13T15:58:37.509Z"
   },
   {
    "duration": 8,
    "start_time": "2023-10-13T15:58:38.810Z"
   },
   {
    "duration": 170,
    "start_time": "2023-10-13T15:58:40.067Z"
   },
   {
    "duration": 26,
    "start_time": "2023-10-13T15:58:40.838Z"
   },
   {
    "duration": 30,
    "start_time": "2023-10-13T15:58:41.655Z"
   },
   {
    "duration": 5,
    "start_time": "2023-10-13T15:59:06.686Z"
   },
   {
    "duration": 5,
    "start_time": "2023-10-13T16:00:39.388Z"
   },
   {
    "duration": 24,
    "start_time": "2023-10-13T16:00:41.543Z"
   },
   {
    "duration": 5,
    "start_time": "2023-10-13T16:00:44.822Z"
   },
   {
    "duration": 4,
    "start_time": "2023-10-13T16:02:37.819Z"
   },
   {
    "duration": 23,
    "start_time": "2023-10-13T16:03:00.224Z"
   },
   {
    "duration": 4,
    "start_time": "2023-10-13T16:03:03.143Z"
   },
   {
    "duration": 23,
    "start_time": "2023-10-13T16:03:11.586Z"
   },
   {
    "duration": 5,
    "start_time": "2023-10-13T16:03:12.110Z"
   },
   {
    "duration": 15,
    "start_time": "2023-10-13T16:03:28.852Z"
   },
   {
    "duration": 30,
    "start_time": "2023-10-13T16:03:35.906Z"
   },
   {
    "duration": 7,
    "start_time": "2023-10-13T16:03:38.130Z"
   },
   {
    "duration": 25,
    "start_time": "2023-10-13T16:03:58.291Z"
   },
   {
    "duration": 4,
    "start_time": "2023-10-13T16:03:58.950Z"
   },
   {
    "duration": 5,
    "start_time": "2023-10-13T16:04:33.066Z"
   },
   {
    "duration": 6,
    "start_time": "2023-10-13T16:04:45.030Z"
   },
   {
    "duration": 22,
    "start_time": "2023-10-13T16:04:55.430Z"
   },
   {
    "duration": 4,
    "start_time": "2023-10-13T16:04:55.981Z"
   },
   {
    "duration": 6,
    "start_time": "2023-10-13T16:04:59.008Z"
   },
   {
    "duration": 5,
    "start_time": "2023-10-13T16:05:01.597Z"
   },
   {
    "duration": 1314,
    "start_time": "2023-10-13T16:05:13.225Z"
   },
   {
    "duration": 3168,
    "start_time": "2023-10-13T16:05:14.541Z"
   },
   {
    "duration": 44,
    "start_time": "2023-10-13T16:05:17.711Z"
   },
   {
    "duration": 13,
    "start_time": "2023-10-13T16:05:17.757Z"
   },
   {
    "duration": 41,
    "start_time": "2023-10-13T16:05:17.772Z"
   },
   {
    "duration": 27,
    "start_time": "2023-10-13T16:05:17.814Z"
   },
   {
    "duration": 31,
    "start_time": "2023-10-13T16:05:17.843Z"
   },
   {
    "duration": 92,
    "start_time": "2023-10-13T16:05:17.876Z"
   },
   {
    "duration": 109,
    "start_time": "2023-10-13T16:05:17.970Z"
   },
   {
    "duration": 18,
    "start_time": "2023-10-13T16:05:18.082Z"
   },
   {
    "duration": 82,
    "start_time": "2023-10-13T16:05:18.102Z"
   },
   {
    "duration": 675,
    "start_time": "2023-10-13T16:05:18.186Z"
   },
   {
    "duration": 106,
    "start_time": "2023-10-13T16:05:18.863Z"
   },
   {
    "duration": 67,
    "start_time": "2023-10-13T16:05:18.971Z"
   },
   {
    "duration": 120,
    "start_time": "2023-10-13T16:05:19.040Z"
   },
   {
    "duration": 174,
    "start_time": "2023-10-13T16:05:19.162Z"
   },
   {
    "duration": 125,
    "start_time": "2023-10-13T16:05:19.338Z"
   },
   {
    "duration": 103,
    "start_time": "2023-10-13T16:05:19.465Z"
   },
   {
    "duration": 48,
    "start_time": "2023-10-13T16:05:19.570Z"
   },
   {
    "duration": 119,
    "start_time": "2023-10-13T16:05:19.620Z"
   },
   {
    "duration": 68,
    "start_time": "2023-10-13T16:05:19.740Z"
   },
   {
    "duration": 306,
    "start_time": "2023-10-13T16:05:19.810Z"
   },
   {
    "duration": 10,
    "start_time": "2023-10-13T16:05:20.118Z"
   },
   {
    "duration": 16,
    "start_time": "2023-10-13T16:05:20.130Z"
   },
   {
    "duration": 50,
    "start_time": "2023-10-13T16:05:20.148Z"
   },
   {
    "duration": 19,
    "start_time": "2023-10-13T16:05:20.200Z"
   },
   {
    "duration": 80,
    "start_time": "2023-10-13T16:05:20.220Z"
   },
   {
    "duration": 5,
    "start_time": "2023-10-13T16:05:20.304Z"
   },
   {
    "duration": 18,
    "start_time": "2023-10-13T16:05:20.310Z"
   },
   {
    "duration": 114,
    "start_time": "2023-10-13T16:05:20.330Z"
   },
   {
    "duration": 8,
    "start_time": "2023-10-13T16:05:20.446Z"
   },
   {
    "duration": 27,
    "start_time": "2023-10-13T16:05:20.456Z"
   },
   {
    "duration": 27,
    "start_time": "2023-10-13T16:05:20.485Z"
   },
   {
    "duration": 30,
    "start_time": "2023-10-13T16:05:20.514Z"
   },
   {
    "duration": 11,
    "start_time": "2023-10-13T16:05:20.546Z"
   },
   {
    "duration": 17,
    "start_time": "2023-10-13T16:05:20.559Z"
   },
   {
    "duration": 19,
    "start_time": "2023-10-13T16:05:20.578Z"
   },
   {
    "duration": 43,
    "start_time": "2023-10-13T16:05:20.598Z"
   },
   {
    "duration": 14,
    "start_time": "2023-10-13T16:05:20.643Z"
   },
   {
    "duration": 49,
    "start_time": "2023-10-13T16:05:20.659Z"
   },
   {
    "duration": 58,
    "start_time": "2023-10-13T16:05:20.710Z"
   },
   {
    "duration": 225,
    "start_time": "2023-10-13T16:05:20.770Z"
   },
   {
    "duration": 34,
    "start_time": "2023-10-13T16:05:20.997Z"
   },
   {
    "duration": 123,
    "start_time": "2023-10-13T16:05:21.033Z"
   },
   {
    "duration": 117,
    "start_time": "2023-10-13T16:05:21.158Z"
   },
   {
    "duration": 49,
    "start_time": "2023-10-13T16:05:21.277Z"
   },
   {
    "duration": 35,
    "start_time": "2023-10-13T16:05:21.328Z"
   },
   {
    "duration": 129,
    "start_time": "2023-10-13T16:05:21.365Z"
   },
   {
    "duration": 1239,
    "start_time": "2023-10-13T16:05:21.495Z"
   },
   {
    "duration": 5,
    "start_time": "2023-10-13T16:05:22.736Z"
   },
   {
    "duration": 91,
    "start_time": "2023-10-13T16:05:22.743Z"
   },
   {
    "duration": 9,
    "start_time": "2023-10-13T16:05:22.835Z"
   },
   {
    "duration": 93,
    "start_time": "2023-10-13T16:05:22.845Z"
   },
   {
    "duration": 58,
    "start_time": "2023-10-13T16:05:22.940Z"
   },
   {
    "duration": 119,
    "start_time": "2023-10-13T16:05:23.000Z"
   },
   {
    "duration": 395,
    "start_time": "2023-10-13T16:05:23.121Z"
   },
   {
    "duration": 159,
    "start_time": "2023-10-13T16:05:23.518Z"
   },
   {
    "duration": 12,
    "start_time": "2023-10-13T16:05:23.678Z"
   },
   {
    "duration": 335,
    "start_time": "2023-10-13T16:05:23.692Z"
   },
   {
    "duration": 13,
    "start_time": "2023-10-13T16:05:24.028Z"
   },
   {
    "duration": 54,
    "start_time": "2023-10-13T16:05:24.043Z"
   },
   {
    "duration": 132,
    "start_time": "2023-10-13T16:05:24.098Z"
   },
   {
    "duration": 89,
    "start_time": "2023-10-13T16:05:24.232Z"
   },
   {
    "duration": 129,
    "start_time": "2023-10-13T16:05:24.323Z"
   },
   {
    "duration": 21,
    "start_time": "2023-10-13T16:05:24.454Z"
   },
   {
    "duration": 150,
    "start_time": "2023-10-13T16:05:24.477Z"
   },
   {
    "duration": 7,
    "start_time": "2023-10-13T16:05:24.629Z"
   },
   {
    "duration": 61,
    "start_time": "2023-10-13T16:05:24.638Z"
   },
   {
    "duration": 19,
    "start_time": "2023-10-13T16:05:24.701Z"
   },
   {
    "duration": 30,
    "start_time": "2023-10-13T16:05:24.722Z"
   },
   {
    "duration": 104,
    "start_time": "2023-10-13T16:05:24.754Z"
   },
   {
    "duration": 9,
    "start_time": "2023-10-13T16:05:24.860Z"
   },
   {
    "duration": 53,
    "start_time": "2023-10-13T16:05:24.871Z"
   },
   {
    "duration": 35,
    "start_time": "2023-10-13T16:05:24.925Z"
   },
   {
    "duration": 14,
    "start_time": "2023-10-13T16:05:24.962Z"
   },
   {
    "duration": 50,
    "start_time": "2023-10-13T16:05:24.978Z"
   },
   {
    "duration": 14,
    "start_time": "2023-10-13T16:05:25.030Z"
   },
   {
    "duration": 51,
    "start_time": "2023-10-13T16:05:25.046Z"
   },
   {
    "duration": 66,
    "start_time": "2023-10-13T16:05:25.098Z"
   },
   {
    "duration": 27,
    "start_time": "2023-10-13T16:05:25.166Z"
   },
   {
    "duration": 37,
    "start_time": "2023-10-13T16:05:25.195Z"
   },
   {
    "duration": 6,
    "start_time": "2023-10-13T16:05:25.237Z"
   },
   {
    "duration": 31,
    "start_time": "2023-10-13T16:05:25.244Z"
   },
   {
    "duration": 23,
    "start_time": "2023-10-13T16:05:25.277Z"
   },
   {
    "duration": 3,
    "start_time": "2023-10-13T16:07:07.174Z"
   },
   {
    "duration": 13,
    "start_time": "2023-10-13T16:07:29.125Z"
   },
   {
    "duration": 191,
    "start_time": "2023-10-13T17:20:02.523Z"
   },
   {
    "duration": 37,
    "start_time": "2023-10-13T17:22:48.182Z"
   },
   {
    "duration": 27,
    "start_time": "2023-10-13T17:23:33.589Z"
   },
   {
    "duration": 24,
    "start_time": "2023-10-13T17:23:51.806Z"
   },
   {
    "duration": 44,
    "start_time": "2023-10-13T17:24:06.778Z"
   },
   {
    "duration": 338,
    "start_time": "2023-10-13T17:24:22.937Z"
   },
   {
    "duration": 8,
    "start_time": "2023-10-13T17:24:42.566Z"
   },
   {
    "duration": 14,
    "start_time": "2023-10-13T17:24:47.822Z"
   },
   {
    "duration": 378,
    "start_time": "2023-10-13T17:26:01.155Z"
   },
   {
    "duration": 27,
    "start_time": "2023-10-13T17:27:02.709Z"
   },
   {
    "duration": 6,
    "start_time": "2023-10-13T17:29:49.077Z"
   },
   {
    "duration": 12,
    "start_time": "2023-10-13T17:33:31.357Z"
   },
   {
    "duration": 307,
    "start_time": "2023-10-13T17:33:42.339Z"
   },
   {
    "duration": 13,
    "start_time": "2023-10-13T17:33:52.682Z"
   },
   {
    "duration": 14,
    "start_time": "2023-10-13T17:33:59.214Z"
   },
   {
    "duration": 6,
    "start_time": "2023-10-13T17:41:11.305Z"
   },
   {
    "duration": 283,
    "start_time": "2023-10-13T17:44:19.451Z"
   },
   {
    "duration": 304,
    "start_time": "2023-10-13T17:44:27.041Z"
   },
   {
    "duration": 57,
    "start_time": "2023-10-13T17:45:27.134Z"
   },
   {
    "duration": 302,
    "start_time": "2023-10-13T17:45:38.989Z"
   },
   {
    "duration": 308,
    "start_time": "2023-10-13T17:45:54.688Z"
   },
   {
    "duration": 301,
    "start_time": "2023-10-13T17:46:39.518Z"
   },
   {
    "duration": 1240,
    "start_time": "2023-10-13T17:47:01.580Z"
   },
   {
    "duration": 3091,
    "start_time": "2023-10-13T17:47:02.822Z"
   },
   {
    "duration": 45,
    "start_time": "2023-10-13T17:47:05.915Z"
   },
   {
    "duration": 14,
    "start_time": "2023-10-13T17:47:05.962Z"
   },
   {
    "duration": 20,
    "start_time": "2023-10-13T17:47:05.977Z"
   },
   {
    "duration": 15,
    "start_time": "2023-10-13T17:47:05.999Z"
   },
   {
    "duration": 18,
    "start_time": "2023-10-13T17:47:06.016Z"
   },
   {
    "duration": 18,
    "start_time": "2023-10-13T17:47:06.036Z"
   },
   {
    "duration": 71,
    "start_time": "2023-10-13T17:47:06.055Z"
   },
   {
    "duration": 18,
    "start_time": "2023-10-13T17:47:06.129Z"
   },
   {
    "duration": 15,
    "start_time": "2023-10-13T17:47:06.149Z"
   },
   {
    "duration": 488,
    "start_time": "2023-10-13T17:47:06.166Z"
   },
   {
    "duration": 75,
    "start_time": "2023-10-13T17:47:06.656Z"
   },
   {
    "duration": 21,
    "start_time": "2023-10-13T17:47:06.733Z"
   },
   {
    "duration": 6,
    "start_time": "2023-10-13T17:47:06.756Z"
   },
   {
    "duration": 11,
    "start_time": "2023-10-13T17:47:06.764Z"
   },
   {
    "duration": 49,
    "start_time": "2023-10-13T17:47:06.777Z"
   },
   {
    "duration": 14,
    "start_time": "2023-10-13T17:47:06.828Z"
   },
   {
    "duration": 17,
    "start_time": "2023-10-13T17:47:06.843Z"
   },
   {
    "duration": 104,
    "start_time": "2023-10-13T17:47:06.862Z"
   },
   {
    "duration": 81,
    "start_time": "2023-10-13T17:47:06.968Z"
   },
   {
    "duration": 288,
    "start_time": "2023-10-13T17:47:07.051Z"
   },
   {
    "duration": 9,
    "start_time": "2023-10-13T17:47:07.342Z"
   },
   {
    "duration": 10,
    "start_time": "2023-10-13T17:47:07.352Z"
   },
   {
    "duration": 17,
    "start_time": "2023-10-13T17:47:07.363Z"
   },
   {
    "duration": 5,
    "start_time": "2023-10-13T17:47:07.382Z"
   },
   {
    "duration": 38,
    "start_time": "2023-10-13T17:47:07.389Z"
   },
   {
    "duration": 5,
    "start_time": "2023-10-13T17:47:07.430Z"
   },
   {
    "duration": 42,
    "start_time": "2023-10-13T17:47:07.436Z"
   },
   {
    "duration": 4,
    "start_time": "2023-10-13T17:47:07.480Z"
   },
   {
    "duration": 11,
    "start_time": "2023-10-13T17:47:07.485Z"
   },
   {
    "duration": 34,
    "start_time": "2023-10-13T17:47:07.498Z"
   },
   {
    "duration": 5,
    "start_time": "2023-10-13T17:47:07.534Z"
   },
   {
    "duration": 4,
    "start_time": "2023-10-13T17:47:07.541Z"
   },
   {
    "duration": 16,
    "start_time": "2023-10-13T17:47:07.546Z"
   },
   {
    "duration": 27,
    "start_time": "2023-10-13T17:47:07.564Z"
   },
   {
    "duration": 7,
    "start_time": "2023-10-13T17:47:07.592Z"
   },
   {
    "duration": 15,
    "start_time": "2023-10-13T17:47:07.624Z"
   },
   {
    "duration": 8,
    "start_time": "2023-10-13T17:47:07.640Z"
   },
   {
    "duration": 30,
    "start_time": "2023-10-13T17:47:07.649Z"
   },
   {
    "duration": 44,
    "start_time": "2023-10-13T17:47:07.681Z"
   },
   {
    "duration": 14,
    "start_time": "2023-10-13T17:47:07.727Z"
   },
   {
    "duration": 7,
    "start_time": "2023-10-13T17:47:07.743Z"
   },
   {
    "duration": 205,
    "start_time": "2023-10-13T17:47:07.751Z"
   },
   {
    "duration": 28,
    "start_time": "2023-10-13T17:47:07.958Z"
   },
   {
    "duration": 51,
    "start_time": "2023-10-13T17:47:07.987Z"
   },
   {
    "duration": 4,
    "start_time": "2023-10-13T17:47:08.039Z"
   },
   {
    "duration": 14,
    "start_time": "2023-10-13T17:47:08.044Z"
   },
   {
    "duration": 12,
    "start_time": "2023-10-13T17:47:08.060Z"
   },
   {
    "duration": 19,
    "start_time": "2023-10-13T17:47:08.073Z"
   },
   {
    "duration": 1154,
    "start_time": "2023-10-13T17:47:08.094Z"
   },
   {
    "duration": 5,
    "start_time": "2023-10-13T17:47:09.250Z"
   },
   {
    "duration": 78,
    "start_time": "2023-10-13T17:47:09.256Z"
   },
   {
    "duration": 132,
    "start_time": "2023-10-13T17:47:09.335Z"
   },
   {
    "duration": 181,
    "start_time": "2023-10-13T17:47:09.469Z"
   },
   {
    "duration": 218,
    "start_time": "2023-10-13T17:47:09.652Z"
   },
   {
    "duration": 68,
    "start_time": "2023-10-13T17:47:09.872Z"
   },
   {
    "duration": 497,
    "start_time": "2023-10-13T17:47:09.942Z"
   },
   {
    "duration": 149,
    "start_time": "2023-10-13T17:47:10.441Z"
   },
   {
    "duration": 11,
    "start_time": "2023-10-13T17:47:10.592Z"
   },
   {
    "duration": 286,
    "start_time": "2023-10-13T17:47:10.605Z"
   },
   {
    "duration": 47,
    "start_time": "2023-10-13T17:47:10.893Z"
   },
   {
    "duration": 60,
    "start_time": "2023-10-13T17:47:10.942Z"
   },
   {
    "duration": 60,
    "start_time": "2023-10-13T17:47:11.005Z"
   },
   {
    "duration": 211,
    "start_time": "2023-10-13T17:47:11.067Z"
   },
   {
    "duration": 257,
    "start_time": "2023-10-13T17:47:11.279Z"
   },
   {
    "duration": 19,
    "start_time": "2023-10-13T17:47:11.538Z"
   },
   {
    "duration": 128,
    "start_time": "2023-10-13T17:47:11.558Z"
   },
   {
    "duration": 5,
    "start_time": "2023-10-13T17:47:11.688Z"
   },
   {
    "duration": 30,
    "start_time": "2023-10-13T17:47:11.695Z"
   },
   {
    "duration": 16,
    "start_time": "2023-10-13T17:47:11.727Z"
   },
   {
    "duration": 76,
    "start_time": "2023-10-13T17:47:11.744Z"
   },
   {
    "duration": 115,
    "start_time": "2023-10-13T17:47:11.822Z"
   },
   {
    "duration": 8,
    "start_time": "2023-10-13T17:47:11.939Z"
   },
   {
    "duration": 31,
    "start_time": "2023-10-13T17:47:11.948Z"
   },
   {
    "duration": 23,
    "start_time": "2023-10-13T17:47:11.981Z"
   },
   {
    "duration": 324,
    "start_time": "2023-10-13T17:47:12.006Z"
   },
   {
    "duration": 154,
    "start_time": "2023-10-13T17:47:12.331Z"
   },
   {
    "duration": 0,
    "start_time": "2023-10-13T17:47:12.486Z"
   },
   {
    "duration": 0,
    "start_time": "2023-10-13T17:47:12.487Z"
   },
   {
    "duration": 0,
    "start_time": "2023-10-13T17:47:12.488Z"
   },
   {
    "duration": 0,
    "start_time": "2023-10-13T17:47:12.489Z"
   },
   {
    "duration": 0,
    "start_time": "2023-10-13T17:47:12.490Z"
   },
   {
    "duration": 0,
    "start_time": "2023-10-13T17:47:12.491Z"
   },
   {
    "duration": 0,
    "start_time": "2023-10-13T17:47:12.492Z"
   },
   {
    "duration": 0,
    "start_time": "2023-10-13T17:47:12.493Z"
   },
   {
    "duration": 0,
    "start_time": "2023-10-13T17:47:12.494Z"
   },
   {
    "duration": 0,
    "start_time": "2023-10-13T17:47:12.495Z"
   },
   {
    "duration": 0,
    "start_time": "2023-10-13T17:47:12.496Z"
   },
   {
    "duration": 0,
    "start_time": "2023-10-13T17:47:12.497Z"
   },
   {
    "duration": 320,
    "start_time": "2023-10-13T17:51:37.582Z"
   },
   {
    "duration": 326,
    "start_time": "2023-10-13T17:53:49.800Z"
   },
   {
    "duration": 18,
    "start_time": "2023-10-13T17:54:47.981Z"
   },
   {
    "duration": 19,
    "start_time": "2023-10-13T18:04:34.850Z"
   },
   {
    "duration": 21,
    "start_time": "2023-10-13T18:07:05.433Z"
   },
   {
    "duration": 17,
    "start_time": "2023-10-13T18:07:20.092Z"
   },
   {
    "duration": 1374,
    "start_time": "2023-10-13T18:07:30.712Z"
   },
   {
    "duration": 3204,
    "start_time": "2023-10-13T18:07:32.088Z"
   },
   {
    "duration": 44,
    "start_time": "2023-10-13T18:07:35.295Z"
   },
   {
    "duration": 15,
    "start_time": "2023-10-13T18:07:35.341Z"
   },
   {
    "duration": 47,
    "start_time": "2023-10-13T18:07:35.358Z"
   },
   {
    "duration": 26,
    "start_time": "2023-10-13T18:07:35.407Z"
   },
   {
    "duration": 10,
    "start_time": "2023-10-13T18:07:35.434Z"
   },
   {
    "duration": 29,
    "start_time": "2023-10-13T18:07:35.446Z"
   },
   {
    "duration": 91,
    "start_time": "2023-10-13T18:07:35.477Z"
   },
   {
    "duration": 18,
    "start_time": "2023-10-13T18:07:35.571Z"
   },
   {
    "duration": 63,
    "start_time": "2023-10-13T18:07:35.591Z"
   },
   {
    "duration": 606,
    "start_time": "2023-10-13T18:07:35.656Z"
   },
   {
    "duration": 75,
    "start_time": "2023-10-13T18:07:36.264Z"
   },
   {
    "duration": 240,
    "start_time": "2023-10-13T18:07:36.340Z"
   },
   {
    "duration": 27,
    "start_time": "2023-10-13T18:07:36.582Z"
   },
   {
    "duration": 93,
    "start_time": "2023-10-13T18:07:36.611Z"
   },
   {
    "duration": 69,
    "start_time": "2023-10-13T18:07:36.705Z"
   },
   {
    "duration": 110,
    "start_time": "2023-10-13T18:07:36.776Z"
   },
   {
    "duration": 97,
    "start_time": "2023-10-13T18:07:36.888Z"
   },
   {
    "duration": 159,
    "start_time": "2023-10-13T18:07:36.987Z"
   },
   {
    "duration": 69,
    "start_time": "2023-10-13T18:07:37.148Z"
   },
   {
    "duration": 448,
    "start_time": "2023-10-13T18:07:37.219Z"
   },
   {
    "duration": 8,
    "start_time": "2023-10-13T18:07:37.669Z"
   },
   {
    "duration": 124,
    "start_time": "2023-10-13T18:07:37.679Z"
   },
   {
    "duration": 116,
    "start_time": "2023-10-13T18:07:37.805Z"
   },
   {
    "duration": 52,
    "start_time": "2023-10-13T18:07:37.922Z"
   },
   {
    "duration": 78,
    "start_time": "2023-10-13T18:07:37.976Z"
   },
   {
    "duration": 23,
    "start_time": "2023-10-13T18:07:38.059Z"
   },
   {
    "duration": 120,
    "start_time": "2023-10-13T18:07:38.084Z"
   },
   {
    "duration": 67,
    "start_time": "2023-10-13T18:07:38.205Z"
   },
   {
    "duration": 106,
    "start_time": "2023-10-13T18:07:38.274Z"
   },
   {
    "duration": 60,
    "start_time": "2023-10-13T18:07:38.382Z"
   },
   {
    "duration": 27,
    "start_time": "2023-10-13T18:07:38.444Z"
   },
   {
    "duration": 61,
    "start_time": "2023-10-13T18:07:38.472Z"
   },
   {
    "duration": 21,
    "start_time": "2023-10-13T18:07:38.535Z"
   },
   {
    "duration": 31,
    "start_time": "2023-10-13T18:07:38.558Z"
   },
   {
    "duration": 17,
    "start_time": "2023-10-13T18:07:38.591Z"
   },
   {
    "duration": 38,
    "start_time": "2023-10-13T18:07:38.610Z"
   },
   {
    "duration": 14,
    "start_time": "2023-10-13T18:07:38.650Z"
   },
   {
    "duration": 22,
    "start_time": "2023-10-13T18:07:38.666Z"
   },
   {
    "duration": 22,
    "start_time": "2023-10-13T18:07:38.689Z"
   },
   {
    "duration": 213,
    "start_time": "2023-10-13T18:07:38.713Z"
   },
   {
    "duration": 24,
    "start_time": "2023-10-13T18:07:38.928Z"
   },
   {
    "duration": 143,
    "start_time": "2023-10-13T18:07:38.954Z"
   },
   {
    "duration": 22,
    "start_time": "2023-10-13T18:07:39.099Z"
   },
   {
    "duration": 29,
    "start_time": "2023-10-13T18:07:39.122Z"
   },
   {
    "duration": 95,
    "start_time": "2023-10-13T18:07:39.153Z"
   },
   {
    "duration": 62,
    "start_time": "2023-10-13T18:07:39.250Z"
   },
   {
    "duration": 1138,
    "start_time": "2023-10-13T18:07:39.313Z"
   },
   {
    "duration": 6,
    "start_time": "2023-10-13T18:07:40.453Z"
   },
   {
    "duration": 107,
    "start_time": "2023-10-13T18:07:40.461Z"
   },
   {
    "duration": 10,
    "start_time": "2023-10-13T18:07:40.571Z"
   },
   {
    "duration": 47,
    "start_time": "2023-10-13T18:07:40.583Z"
   },
   {
    "duration": 30,
    "start_time": "2023-10-13T18:07:40.632Z"
   },
   {
    "duration": 11,
    "start_time": "2023-10-13T18:07:40.664Z"
   },
   {
    "duration": 291,
    "start_time": "2023-10-13T18:07:40.676Z"
   },
   {
    "duration": 150,
    "start_time": "2023-10-13T18:07:40.969Z"
   },
   {
    "duration": 12,
    "start_time": "2023-10-13T18:07:41.121Z"
   },
   {
    "duration": 311,
    "start_time": "2023-10-13T18:07:41.134Z"
   },
   {
    "duration": 13,
    "start_time": "2023-10-13T18:07:41.447Z"
   },
   {
    "duration": 154,
    "start_time": "2023-10-13T18:07:41.461Z"
   },
   {
    "duration": 20,
    "start_time": "2023-10-13T18:07:41.617Z"
   },
   {
    "duration": 26,
    "start_time": "2023-10-13T18:07:41.639Z"
   },
   {
    "duration": 116,
    "start_time": "2023-10-13T18:07:41.666Z"
   },
   {
    "duration": 54,
    "start_time": "2023-10-13T18:07:41.785Z"
   },
   {
    "duration": 137,
    "start_time": "2023-10-13T18:07:41.841Z"
   },
   {
    "duration": 7,
    "start_time": "2023-10-13T18:07:41.981Z"
   },
   {
    "duration": 37,
    "start_time": "2023-10-13T18:07:41.989Z"
   },
   {
    "duration": 35,
    "start_time": "2023-10-13T18:07:42.028Z"
   },
   {
    "duration": 54,
    "start_time": "2023-10-13T18:07:42.065Z"
   },
   {
    "duration": 111,
    "start_time": "2023-10-13T18:07:42.122Z"
   },
   {
    "duration": 8,
    "start_time": "2023-10-13T18:07:42.235Z"
   },
   {
    "duration": 27,
    "start_time": "2023-10-13T18:07:42.245Z"
   },
   {
    "duration": 30,
    "start_time": "2023-10-13T18:07:42.278Z"
   },
   {
    "duration": 71,
    "start_time": "2023-10-13T18:07:42.324Z"
   },
   {
    "duration": 39,
    "start_time": "2023-10-13T18:07:42.397Z"
   },
   {
    "duration": 9,
    "start_time": "2023-10-13T18:07:42.438Z"
   },
   {
    "duration": 45,
    "start_time": "2023-10-13T18:07:42.449Z"
   },
   {
    "duration": 21,
    "start_time": "2023-10-13T18:07:42.496Z"
   },
   {
    "duration": 11,
    "start_time": "2023-10-13T18:07:42.519Z"
   },
   {
    "duration": 51,
    "start_time": "2023-10-13T18:07:42.531Z"
   },
   {
    "duration": 51,
    "start_time": "2023-10-13T18:07:42.587Z"
   },
   {
    "duration": 176,
    "start_time": "2023-10-13T18:07:42.640Z"
   },
   {
    "duration": 14,
    "start_time": "2023-10-13T18:07:42.817Z"
   },
   {
    "duration": 49,
    "start_time": "2023-10-13T18:07:42.832Z"
   },
   {
    "duration": 73,
    "start_time": "2023-10-13T18:07:42.883Z"
   },
   {
    "duration": 35,
    "start_time": "2023-10-13T18:07:42.958Z"
   },
   {
    "duration": 195,
    "start_time": "2023-10-13T18:07:42.995Z"
   },
   {
    "duration": 9,
    "start_time": "2023-10-13T18:10:13.847Z"
   },
   {
    "duration": 30,
    "start_time": "2023-10-13T18:11:05.863Z"
   },
   {
    "duration": 22,
    "start_time": "2023-10-13T18:11:13.025Z"
   },
   {
    "duration": 20,
    "start_time": "2023-10-13T18:14:34.322Z"
   },
   {
    "duration": 14,
    "start_time": "2023-10-13T18:15:16.638Z"
   },
   {
    "duration": 3,
    "start_time": "2023-10-13T18:17:00.713Z"
   },
   {
    "duration": 15,
    "start_time": "2023-10-13T18:17:00.959Z"
   },
   {
    "duration": 1315,
    "start_time": "2023-10-13T18:17:42.805Z"
   },
   {
    "duration": 2666,
    "start_time": "2023-10-13T18:17:44.122Z"
   },
   {
    "duration": 44,
    "start_time": "2023-10-13T18:17:46.789Z"
   },
   {
    "duration": 15,
    "start_time": "2023-10-13T18:17:46.836Z"
   },
   {
    "duration": 30,
    "start_time": "2023-10-13T18:17:46.853Z"
   },
   {
    "duration": 29,
    "start_time": "2023-10-13T18:17:46.885Z"
   },
   {
    "duration": 31,
    "start_time": "2023-10-13T18:17:46.916Z"
   },
   {
    "duration": 32,
    "start_time": "2023-10-13T18:17:46.949Z"
   },
   {
    "duration": 113,
    "start_time": "2023-10-13T18:17:46.982Z"
   },
   {
    "duration": 28,
    "start_time": "2023-10-13T18:17:47.098Z"
   },
   {
    "duration": 210,
    "start_time": "2023-10-13T18:17:47.128Z"
   },
   {
    "duration": 514,
    "start_time": "2023-10-13T18:17:47.340Z"
   },
   {
    "duration": 71,
    "start_time": "2023-10-13T18:17:47.856Z"
   },
   {
    "duration": 18,
    "start_time": "2023-10-13T18:17:47.928Z"
   },
   {
    "duration": 6,
    "start_time": "2023-10-13T18:17:47.948Z"
   },
   {
    "duration": 17,
    "start_time": "2023-10-13T18:17:47.956Z"
   },
   {
    "duration": 19,
    "start_time": "2023-10-13T18:17:47.975Z"
   },
   {
    "duration": 30,
    "start_time": "2023-10-13T18:17:47.995Z"
   },
   {
    "duration": 15,
    "start_time": "2023-10-13T18:17:48.026Z"
   },
   {
    "duration": 87,
    "start_time": "2023-10-13T18:17:48.042Z"
   },
   {
    "duration": 67,
    "start_time": "2023-10-13T18:17:48.131Z"
   },
   {
    "duration": 301,
    "start_time": "2023-10-13T18:17:48.199Z"
   },
   {
    "duration": 7,
    "start_time": "2023-10-13T18:17:48.502Z"
   },
   {
    "duration": 23,
    "start_time": "2023-10-13T18:17:48.511Z"
   },
   {
    "duration": 9,
    "start_time": "2023-10-13T18:17:48.536Z"
   },
   {
    "duration": 4,
    "start_time": "2023-10-13T18:17:48.547Z"
   },
   {
    "duration": 60,
    "start_time": "2023-10-13T18:17:48.553Z"
   },
   {
    "duration": 4,
    "start_time": "2023-10-13T18:17:48.627Z"
   },
   {
    "duration": 20,
    "start_time": "2023-10-13T18:17:48.633Z"
   },
   {
    "duration": 17,
    "start_time": "2023-10-13T18:17:48.655Z"
   },
   {
    "duration": 11,
    "start_time": "2023-10-13T18:17:48.674Z"
   },
   {
    "duration": 11,
    "start_time": "2023-10-13T18:17:48.687Z"
   },
   {
    "duration": 32,
    "start_time": "2023-10-13T18:17:48.700Z"
   },
   {
    "duration": 27,
    "start_time": "2023-10-13T18:17:48.734Z"
   },
   {
    "duration": 8,
    "start_time": "2023-10-13T18:17:48.762Z"
   },
   {
    "duration": 24,
    "start_time": "2023-10-13T18:17:48.771Z"
   },
   {
    "duration": 9,
    "start_time": "2023-10-13T18:17:48.796Z"
   },
   {
    "duration": 30,
    "start_time": "2023-10-13T18:17:48.824Z"
   },
   {
    "duration": 13,
    "start_time": "2023-10-13T18:17:48.856Z"
   },
   {
    "duration": 14,
    "start_time": "2023-10-13T18:17:48.871Z"
   },
   {
    "duration": 38,
    "start_time": "2023-10-13T18:17:48.887Z"
   },
   {
    "duration": 191,
    "start_time": "2023-10-13T18:17:48.927Z"
   },
   {
    "duration": 24,
    "start_time": "2023-10-13T18:17:49.120Z"
   },
   {
    "duration": 50,
    "start_time": "2023-10-13T18:17:49.146Z"
   },
   {
    "duration": 3,
    "start_time": "2023-10-13T18:17:49.197Z"
   },
   {
    "duration": 23,
    "start_time": "2023-10-13T18:17:49.202Z"
   },
   {
    "duration": 34,
    "start_time": "2023-10-13T18:17:49.226Z"
   },
   {
    "duration": 35,
    "start_time": "2023-10-13T18:17:49.262Z"
   },
   {
    "duration": 1128,
    "start_time": "2023-10-13T18:17:49.299Z"
   },
   {
    "duration": 6,
    "start_time": "2023-10-13T18:17:50.429Z"
   },
   {
    "duration": 57,
    "start_time": "2023-10-13T18:17:50.436Z"
   },
   {
    "duration": 9,
    "start_time": "2023-10-13T18:17:50.495Z"
   },
   {
    "duration": 28,
    "start_time": "2023-10-13T18:17:50.506Z"
   },
   {
    "duration": 36,
    "start_time": "2023-10-13T18:17:50.536Z"
   },
   {
    "duration": 78,
    "start_time": "2023-10-13T18:17:50.574Z"
   },
   {
    "duration": 333,
    "start_time": "2023-10-13T18:17:50.654Z"
   },
   {
    "duration": 157,
    "start_time": "2023-10-13T18:17:50.989Z"
   },
   {
    "duration": 11,
    "start_time": "2023-10-13T18:17:51.148Z"
   },
   {
    "duration": 402,
    "start_time": "2023-10-13T18:17:51.161Z"
   },
   {
    "duration": 12,
    "start_time": "2023-10-13T18:17:51.565Z"
   },
   {
    "duration": 51,
    "start_time": "2023-10-13T18:17:51.579Z"
   },
   {
    "duration": 28,
    "start_time": "2023-10-13T18:17:51.631Z"
   },
   {
    "duration": 70,
    "start_time": "2023-10-13T18:17:51.661Z"
   },
   {
    "duration": 212,
    "start_time": "2023-10-13T18:17:51.732Z"
   },
   {
    "duration": 139,
    "start_time": "2023-10-13T18:17:51.945Z"
   },
   {
    "duration": 269,
    "start_time": "2023-10-13T18:17:52.086Z"
   },
   {
    "duration": 5,
    "start_time": "2023-10-13T18:17:52.357Z"
   },
   {
    "duration": 125,
    "start_time": "2023-10-13T18:17:52.364Z"
   },
   {
    "duration": 41,
    "start_time": "2023-10-13T18:17:52.491Z"
   },
   {
    "duration": 38,
    "start_time": "2023-10-13T18:17:52.533Z"
   },
   {
    "duration": 90,
    "start_time": "2023-10-13T18:17:52.572Z"
   },
   {
    "duration": 7,
    "start_time": "2023-10-13T18:17:52.663Z"
   },
   {
    "duration": 122,
    "start_time": "2023-10-13T18:17:52.672Z"
   },
   {
    "duration": 69,
    "start_time": "2023-10-13T18:17:52.796Z"
   },
   {
    "duration": 86,
    "start_time": "2023-10-13T18:17:52.866Z"
   },
   {
    "duration": 14,
    "start_time": "2023-10-13T18:17:52.954Z"
   },
   {
    "duration": 47,
    "start_time": "2023-10-13T18:17:52.970Z"
   },
   {
    "duration": 9,
    "start_time": "2023-10-13T18:17:53.019Z"
   },
   {
    "duration": 282,
    "start_time": "2023-10-13T18:17:53.030Z"
   },
   {
    "duration": 142,
    "start_time": "2023-10-13T18:17:53.314Z"
   },
   {
    "duration": 177,
    "start_time": "2023-10-13T18:17:53.457Z"
   },
   {
    "duration": 50,
    "start_time": "2023-10-13T18:17:53.640Z"
   },
   {
    "duration": 40,
    "start_time": "2023-10-13T18:17:53.692Z"
   },
   {
    "duration": 42,
    "start_time": "2023-10-13T18:17:53.734Z"
   },
   {
    "duration": 26,
    "start_time": "2023-10-13T18:17:53.778Z"
   },
   {
    "duration": 28,
    "start_time": "2023-10-13T18:17:53.806Z"
   },
   {
    "duration": 30,
    "start_time": "2023-10-13T18:17:53.836Z"
   },
   {
    "duration": 3,
    "start_time": "2023-10-13T18:17:53.868Z"
   },
   {
    "duration": 24,
    "start_time": "2023-10-13T18:17:53.872Z"
   },
   {
    "duration": 15,
    "start_time": "2023-10-13T18:21:39.682Z"
   },
   {
    "duration": 153,
    "start_time": "2023-10-13T18:22:51.812Z"
   },
   {
    "duration": 3,
    "start_time": "2023-10-13T18:23:28.467Z"
   },
   {
    "duration": 19,
    "start_time": "2023-10-13T18:23:29.154Z"
   },
   {
    "duration": 16,
    "start_time": "2023-10-13T18:23:36.250Z"
   },
   {
    "duration": 14,
    "start_time": "2023-10-13T18:30:51.957Z"
   },
   {
    "duration": 8,
    "start_time": "2023-10-13T18:36:34.335Z"
   },
   {
    "duration": 107,
    "start_time": "2023-10-13T18:59:42.783Z"
   },
   {
    "duration": 1306,
    "start_time": "2023-10-13T19:02:52.610Z"
   },
   {
    "duration": 3145,
    "start_time": "2023-10-13T19:02:53.918Z"
   },
   {
    "duration": 43,
    "start_time": "2023-10-13T19:02:57.065Z"
   },
   {
    "duration": 14,
    "start_time": "2023-10-13T19:02:57.110Z"
   },
   {
    "duration": 28,
    "start_time": "2023-10-13T19:02:57.125Z"
   },
   {
    "duration": 16,
    "start_time": "2023-10-13T19:02:57.155Z"
   },
   {
    "duration": 8,
    "start_time": "2023-10-13T19:02:57.173Z"
   },
   {
    "duration": 10,
    "start_time": "2023-10-13T19:02:57.183Z"
   },
   {
    "duration": 75,
    "start_time": "2023-10-13T19:02:57.195Z"
   },
   {
    "duration": 20,
    "start_time": "2023-10-13T19:02:57.272Z"
   },
   {
    "duration": 31,
    "start_time": "2023-10-13T19:02:57.294Z"
   },
   {
    "duration": 488,
    "start_time": "2023-10-13T19:02:57.327Z"
   },
   {
    "duration": 73,
    "start_time": "2023-10-13T19:02:57.817Z"
   },
   {
    "duration": 35,
    "start_time": "2023-10-13T19:02:57.892Z"
   },
   {
    "duration": 5,
    "start_time": "2023-10-13T19:02:57.928Z"
   },
   {
    "duration": 45,
    "start_time": "2023-10-13T19:02:57.934Z"
   },
   {
    "duration": 29,
    "start_time": "2023-10-13T19:02:57.980Z"
   },
   {
    "duration": 28,
    "start_time": "2023-10-13T19:02:58.011Z"
   },
   {
    "duration": 33,
    "start_time": "2023-10-13T19:02:58.041Z"
   },
   {
    "duration": 95,
    "start_time": "2023-10-13T19:02:58.076Z"
   },
   {
    "duration": 78,
    "start_time": "2023-10-13T19:02:58.173Z"
   },
   {
    "duration": 310,
    "start_time": "2023-10-13T19:02:58.253Z"
   },
   {
    "duration": 10,
    "start_time": "2023-10-13T19:02:58.565Z"
   },
   {
    "duration": 15,
    "start_time": "2023-10-13T19:02:58.577Z"
   },
   {
    "duration": 32,
    "start_time": "2023-10-13T19:02:58.593Z"
   },
   {
    "duration": 55,
    "start_time": "2023-10-13T19:02:58.627Z"
   },
   {
    "duration": 5,
    "start_time": "2023-10-13T19:02:58.684Z"
   },
   {
    "duration": 29,
    "start_time": "2023-10-13T19:02:58.695Z"
   },
   {
    "duration": 17,
    "start_time": "2023-10-13T19:02:58.726Z"
   },
   {
    "duration": 15,
    "start_time": "2023-10-13T19:02:58.745Z"
   },
   {
    "duration": 12,
    "start_time": "2023-10-13T19:02:58.762Z"
   },
   {
    "duration": 22,
    "start_time": "2023-10-13T19:02:58.775Z"
   },
   {
    "duration": 21,
    "start_time": "2023-10-13T19:02:58.798Z"
   },
   {
    "duration": 7,
    "start_time": "2023-10-13T19:02:58.824Z"
   },
   {
    "duration": 21,
    "start_time": "2023-10-13T19:02:58.833Z"
   },
   {
    "duration": 16,
    "start_time": "2023-10-13T19:02:58.856Z"
   },
   {
    "duration": 65,
    "start_time": "2023-10-13T19:02:58.874Z"
   },
   {
    "duration": 13,
    "start_time": "2023-10-13T19:02:58.941Z"
   },
   {
    "duration": 68,
    "start_time": "2023-10-13T19:02:58.955Z"
   },
   {
    "duration": 68,
    "start_time": "2023-10-13T19:02:59.024Z"
   },
   {
    "duration": 237,
    "start_time": "2023-10-13T19:02:59.094Z"
   },
   {
    "duration": 23,
    "start_time": "2023-10-13T19:02:59.333Z"
   },
   {
    "duration": 33,
    "start_time": "2023-10-13T19:02:59.357Z"
   },
   {
    "duration": 33,
    "start_time": "2023-10-13T19:02:59.392Z"
   },
   {
    "duration": 5,
    "start_time": "2023-10-13T19:02:59.426Z"
   },
   {
    "duration": 35,
    "start_time": "2023-10-13T19:02:59.433Z"
   },
   {
    "duration": 20,
    "start_time": "2023-10-13T19:02:59.469Z"
   },
   {
    "duration": 1146,
    "start_time": "2023-10-13T19:02:59.491Z"
   },
   {
    "duration": 5,
    "start_time": "2023-10-13T19:03:00.639Z"
   },
   {
    "duration": 150,
    "start_time": "2023-10-13T19:03:00.645Z"
   },
   {
    "duration": 15,
    "start_time": "2023-10-13T19:03:00.796Z"
   },
   {
    "duration": 112,
    "start_time": "2023-10-13T19:03:00.813Z"
   },
   {
    "duration": 127,
    "start_time": "2023-10-13T19:03:00.926Z"
   },
   {
    "duration": 45,
    "start_time": "2023-10-13T19:03:01.055Z"
   },
   {
    "duration": 109,
    "start_time": "2023-10-13T19:03:01.102Z"
   },
   {
    "duration": 354,
    "start_time": "2023-10-13T19:03:01.213Z"
   },
   {
    "duration": 16,
    "start_time": "2023-10-13T19:03:01.569Z"
   },
   {
    "duration": 126,
    "start_time": "2023-10-13T19:03:01.586Z"
   },
   {
    "duration": 37,
    "start_time": "2023-10-13T19:03:01.714Z"
   },
   {
    "duration": 62,
    "start_time": "2023-10-13T19:03:01.753Z"
   },
   {
    "duration": 135,
    "start_time": "2023-10-13T19:03:01.817Z"
   },
   {
    "duration": 21,
    "start_time": "2023-10-13T19:03:01.954Z"
   },
   {
    "duration": 156,
    "start_time": "2023-10-13T19:03:01.977Z"
   },
   {
    "duration": 5,
    "start_time": "2023-10-13T19:03:02.135Z"
   },
   {
    "duration": 33,
    "start_time": "2023-10-13T19:03:02.142Z"
   },
   {
    "duration": 26,
    "start_time": "2023-10-13T19:03:02.177Z"
   },
   {
    "duration": 42,
    "start_time": "2023-10-13T19:03:02.206Z"
   },
   {
    "duration": 126,
    "start_time": "2023-10-13T19:03:02.250Z"
   },
   {
    "duration": 8,
    "start_time": "2023-10-13T19:03:02.377Z"
   },
   {
    "duration": 13,
    "start_time": "2023-10-13T19:03:02.425Z"
   },
   {
    "duration": 68,
    "start_time": "2023-10-13T19:03:02.439Z"
   },
   {
    "duration": 17,
    "start_time": "2023-10-13T19:03:02.510Z"
   },
   {
    "duration": 9,
    "start_time": "2023-10-13T19:03:02.528Z"
   },
   {
    "duration": 58,
    "start_time": "2023-10-13T19:03:02.539Z"
   },
   {
    "duration": 9,
    "start_time": "2023-10-13T19:03:02.599Z"
   },
   {
    "duration": 58,
    "start_time": "2023-10-13T19:03:02.609Z"
   },
   {
    "duration": 22,
    "start_time": "2023-10-13T19:03:02.669Z"
   },
   {
    "duration": 30,
    "start_time": "2023-10-13T19:03:02.693Z"
   },
   {
    "duration": 16,
    "start_time": "2023-10-13T19:03:02.725Z"
   },
   {
    "duration": 68,
    "start_time": "2023-10-13T19:03:02.743Z"
   },
   {
    "duration": 84,
    "start_time": "2023-10-13T19:05:53.622Z"
   },
   {
    "duration": 82,
    "start_time": "2023-10-13T19:07:44.349Z"
   },
   {
    "duration": 72,
    "start_time": "2023-10-13T19:13:52.443Z"
   },
   {
    "duration": 94,
    "start_time": "2023-10-13T19:19:20.208Z"
   },
   {
    "duration": 6,
    "start_time": "2023-10-13T19:20:33.552Z"
   },
   {
    "duration": 162,
    "start_time": "2023-10-13T19:20:50.833Z"
   },
   {
    "duration": 6,
    "start_time": "2023-10-13T19:22:01.458Z"
   },
   {
    "duration": 14,
    "start_time": "2023-10-13T19:24:20.430Z"
   },
   {
    "duration": 13,
    "start_time": "2023-10-13T19:28:46.235Z"
   },
   {
    "duration": 10,
    "start_time": "2023-10-13T19:28:47.959Z"
   },
   {
    "duration": 1361,
    "start_time": "2023-10-13T19:31:10.235Z"
   },
   {
    "duration": 2493,
    "start_time": "2023-10-13T19:31:11.598Z"
   },
   {
    "duration": 43,
    "start_time": "2023-10-13T19:31:14.093Z"
   },
   {
    "duration": 13,
    "start_time": "2023-10-13T19:31:14.138Z"
   },
   {
    "duration": 11,
    "start_time": "2023-10-13T19:31:14.153Z"
   },
   {
    "duration": 16,
    "start_time": "2023-10-13T19:31:14.166Z"
   },
   {
    "duration": 9,
    "start_time": "2023-10-13T19:31:14.183Z"
   },
   {
    "duration": 33,
    "start_time": "2023-10-13T19:31:14.194Z"
   },
   {
    "duration": 72,
    "start_time": "2023-10-13T19:31:14.228Z"
   },
   {
    "duration": 26,
    "start_time": "2023-10-13T19:31:14.301Z"
   },
   {
    "duration": 12,
    "start_time": "2023-10-13T19:31:14.329Z"
   },
   {
    "duration": 493,
    "start_time": "2023-10-13T19:31:14.343Z"
   },
   {
    "duration": 66,
    "start_time": "2023-10-13T19:31:14.838Z"
   },
   {
    "duration": 31,
    "start_time": "2023-10-13T19:31:14.907Z"
   },
   {
    "duration": 5,
    "start_time": "2023-10-13T19:31:14.940Z"
   },
   {
    "duration": 9,
    "start_time": "2023-10-13T19:31:14.946Z"
   },
   {
    "duration": 20,
    "start_time": "2023-10-13T19:31:14.957Z"
   },
   {
    "duration": 46,
    "start_time": "2023-10-13T19:31:14.979Z"
   },
   {
    "duration": 50,
    "start_time": "2023-10-13T19:31:15.027Z"
   },
   {
    "duration": 74,
    "start_time": "2023-10-13T19:31:15.078Z"
   },
   {
    "duration": 71,
    "start_time": "2023-10-13T19:31:15.154Z"
   },
   {
    "duration": 286,
    "start_time": "2023-10-13T19:31:15.226Z"
   },
   {
    "duration": 14,
    "start_time": "2023-10-13T19:31:15.514Z"
   },
   {
    "duration": 9,
    "start_time": "2023-10-13T19:31:15.530Z"
   },
   {
    "duration": 3,
    "start_time": "2023-10-13T19:31:15.541Z"
   },
   {
    "duration": 41,
    "start_time": "2023-10-13T19:31:15.546Z"
   },
   {
    "duration": 38,
    "start_time": "2023-10-13T19:31:15.588Z"
   },
   {
    "duration": 16,
    "start_time": "2023-10-13T19:31:15.627Z"
   },
   {
    "duration": 17,
    "start_time": "2023-10-13T19:31:15.644Z"
   },
   {
    "duration": 10,
    "start_time": "2023-10-13T19:31:15.662Z"
   },
   {
    "duration": 10,
    "start_time": "2023-10-13T19:31:15.674Z"
   },
   {
    "duration": 19,
    "start_time": "2023-10-13T19:31:15.685Z"
   },
   {
    "duration": 31,
    "start_time": "2023-10-13T19:31:15.705Z"
   },
   {
    "duration": 18,
    "start_time": "2023-10-13T19:31:15.738Z"
   },
   {
    "duration": 15,
    "start_time": "2023-10-13T19:31:15.757Z"
   },
   {
    "duration": 7,
    "start_time": "2023-10-13T19:31:15.774Z"
   },
   {
    "duration": 62,
    "start_time": "2023-10-13T19:31:15.783Z"
   },
   {
    "duration": 14,
    "start_time": "2023-10-13T19:31:15.847Z"
   },
   {
    "duration": 19,
    "start_time": "2023-10-13T19:31:15.864Z"
   },
   {
    "duration": 47,
    "start_time": "2023-10-13T19:31:15.885Z"
   },
   {
    "duration": 225,
    "start_time": "2023-10-13T19:31:15.938Z"
   },
   {
    "duration": 55,
    "start_time": "2023-10-13T19:31:16.165Z"
   },
   {
    "duration": 158,
    "start_time": "2023-10-13T19:31:16.222Z"
   },
   {
    "duration": 92,
    "start_time": "2023-10-13T19:31:16.382Z"
   },
   {
    "duration": 51,
    "start_time": "2023-10-13T19:31:16.476Z"
   },
   {
    "duration": 163,
    "start_time": "2023-10-13T19:31:16.528Z"
   },
   {
    "duration": 213,
    "start_time": "2023-10-13T19:31:16.693Z"
   },
   {
    "duration": 1141,
    "start_time": "2023-10-13T19:31:16.908Z"
   },
   {
    "duration": 7,
    "start_time": "2023-10-13T19:31:18.051Z"
   },
   {
    "duration": 141,
    "start_time": "2023-10-13T19:31:18.059Z"
   },
   {
    "duration": 176,
    "start_time": "2023-10-13T19:31:18.202Z"
   },
   {
    "duration": 132,
    "start_time": "2023-10-13T19:31:18.380Z"
   },
   {
    "duration": 226,
    "start_time": "2023-10-13T19:31:18.513Z"
   },
   {
    "duration": 59,
    "start_time": "2023-10-13T19:31:18.740Z"
   },
   {
    "duration": 88,
    "start_time": "2023-10-13T19:31:18.801Z"
   },
   {
    "duration": 387,
    "start_time": "2023-10-13T19:31:18.891Z"
   },
   {
    "duration": 13,
    "start_time": "2023-10-13T19:31:19.280Z"
   },
   {
    "duration": 87,
    "start_time": "2023-10-13T19:31:19.295Z"
   },
   {
    "duration": 26,
    "start_time": "2023-10-13T19:31:19.384Z"
   },
   {
    "duration": 25,
    "start_time": "2023-10-13T19:31:19.412Z"
   },
   {
    "duration": 117,
    "start_time": "2023-10-13T19:31:19.439Z"
   },
   {
    "duration": 224,
    "start_time": "2023-10-13T19:31:19.558Z"
   },
   {
    "duration": 495,
    "start_time": "2023-10-13T19:31:19.783Z"
   },
   {
    "duration": 24,
    "start_time": "2023-10-13T19:31:20.280Z"
   },
   {
    "duration": 51,
    "start_time": "2023-10-13T19:31:20.305Z"
   },
   {
    "duration": 58,
    "start_time": "2023-10-13T19:31:20.358Z"
   },
   {
    "duration": 85,
    "start_time": "2023-10-13T19:31:20.419Z"
   },
   {
    "duration": 172,
    "start_time": "2023-10-13T19:31:20.507Z"
   },
   {
    "duration": 57,
    "start_time": "2023-10-13T19:31:20.681Z"
   },
   {
    "duration": 234,
    "start_time": "2023-10-13T19:31:20.741Z"
   },
   {
    "duration": 201,
    "start_time": "2023-10-13T19:31:20.977Z"
   },
   {
    "duration": 76,
    "start_time": "2023-10-13T19:31:21.179Z"
   },
   {
    "duration": 95,
    "start_time": "2023-10-13T19:31:21.257Z"
   },
   {
    "duration": 63,
    "start_time": "2023-10-13T19:31:21.354Z"
   },
   {
    "duration": 69,
    "start_time": "2023-10-13T19:31:21.419Z"
   },
   {
    "duration": 66,
    "start_time": "2023-10-13T19:31:21.489Z"
   },
   {
    "duration": 101,
    "start_time": "2023-10-13T19:31:21.557Z"
   },
   {
    "duration": 66,
    "start_time": "2023-10-13T19:31:21.659Z"
   },
   {
    "duration": 32,
    "start_time": "2023-10-13T19:31:21.726Z"
   },
   {
    "duration": 22,
    "start_time": "2023-10-13T19:31:21.760Z"
   },
   {
    "duration": 1274,
    "start_time": "2023-10-13T19:56:47.600Z"
   },
   {
    "duration": 9470,
    "start_time": "2023-10-13T19:56:48.877Z"
   },
   {
    "duration": 42,
    "start_time": "2023-10-13T19:56:58.349Z"
   },
   {
    "duration": 13,
    "start_time": "2023-10-13T19:56:58.393Z"
   },
   {
    "duration": 30,
    "start_time": "2023-10-13T19:56:58.408Z"
   },
   {
    "duration": 20,
    "start_time": "2023-10-13T19:56:58.439Z"
   },
   {
    "duration": 12,
    "start_time": "2023-10-13T19:56:58.461Z"
   },
   {
    "duration": 8,
    "start_time": "2023-10-13T19:56:58.475Z"
   },
   {
    "duration": 73,
    "start_time": "2023-10-13T19:56:58.485Z"
   },
   {
    "duration": 20,
    "start_time": "2023-10-13T19:56:58.561Z"
   },
   {
    "duration": 10,
    "start_time": "2023-10-13T19:56:58.582Z"
   },
   {
    "duration": 507,
    "start_time": "2023-10-13T19:56:58.594Z"
   },
   {
    "duration": 68,
    "start_time": "2023-10-13T19:56:59.103Z"
   },
   {
    "duration": 17,
    "start_time": "2023-10-13T19:56:59.173Z"
   },
   {
    "duration": 9,
    "start_time": "2023-10-13T19:56:59.192Z"
   },
   {
    "duration": 22,
    "start_time": "2023-10-13T19:56:59.203Z"
   },
   {
    "duration": 10,
    "start_time": "2023-10-13T19:56:59.227Z"
   },
   {
    "duration": 19,
    "start_time": "2023-10-13T19:56:59.238Z"
   },
   {
    "duration": 30,
    "start_time": "2023-10-13T19:56:59.259Z"
   },
   {
    "duration": 75,
    "start_time": "2023-10-13T19:56:59.290Z"
   },
   {
    "duration": 76,
    "start_time": "2023-10-13T19:56:59.367Z"
   },
   {
    "duration": 273,
    "start_time": "2023-10-13T19:56:59.445Z"
   },
   {
    "duration": 9,
    "start_time": "2023-10-13T19:56:59.720Z"
   },
   {
    "duration": 8,
    "start_time": "2023-10-13T19:56:59.731Z"
   },
   {
    "duration": 5,
    "start_time": "2023-10-13T19:56:59.741Z"
   },
   {
    "duration": 45,
    "start_time": "2023-10-13T19:56:59.748Z"
   },
   {
    "duration": 31,
    "start_time": "2023-10-13T19:56:59.795Z"
   },
   {
    "duration": 7,
    "start_time": "2023-10-13T19:56:59.831Z"
   },
   {
    "duration": 16,
    "start_time": "2023-10-13T19:56:59.839Z"
   },
   {
    "duration": 8,
    "start_time": "2023-10-13T19:56:59.856Z"
   },
   {
    "duration": 5,
    "start_time": "2023-10-13T19:56:59.865Z"
   },
   {
    "duration": 11,
    "start_time": "2023-10-13T19:56:59.872Z"
   },
   {
    "duration": 51,
    "start_time": "2023-10-13T19:56:59.884Z"
   },
   {
    "duration": 6,
    "start_time": "2023-10-13T19:56:59.937Z"
   },
   {
    "duration": 18,
    "start_time": "2023-10-13T19:56:59.945Z"
   },
   {
    "duration": 8,
    "start_time": "2023-10-13T19:56:59.965Z"
   },
   {
    "duration": 51,
    "start_time": "2023-10-13T19:56:59.974Z"
   },
   {
    "duration": 28,
    "start_time": "2023-10-13T19:57:00.026Z"
   },
   {
    "duration": 42,
    "start_time": "2023-10-13T19:57:00.055Z"
   },
   {
    "duration": 26,
    "start_time": "2023-10-13T19:57:00.099Z"
   },
   {
    "duration": 199,
    "start_time": "2023-10-13T19:57:00.127Z"
   },
   {
    "duration": 32,
    "start_time": "2023-10-13T19:57:00.328Z"
   },
   {
    "duration": 75,
    "start_time": "2023-10-13T19:57:00.362Z"
   },
   {
    "duration": 5,
    "start_time": "2023-10-13T19:57:00.438Z"
   },
   {
    "duration": 65,
    "start_time": "2023-10-13T19:57:00.444Z"
   },
   {
    "duration": 38,
    "start_time": "2023-10-13T19:57:00.511Z"
   },
   {
    "duration": 49,
    "start_time": "2023-10-13T19:57:00.551Z"
   },
   {
    "duration": 1979,
    "start_time": "2023-10-13T19:57:00.602Z"
   },
   {
    "duration": 5,
    "start_time": "2023-10-13T19:57:02.583Z"
   },
   {
    "duration": 66,
    "start_time": "2023-10-13T19:57:02.589Z"
   },
   {
    "duration": 8,
    "start_time": "2023-10-13T19:57:02.657Z"
   },
   {
    "duration": 204,
    "start_time": "2023-10-13T19:57:02.666Z"
   },
   {
    "duration": 110,
    "start_time": "2023-10-13T19:57:02.872Z"
   },
   {
    "duration": 264,
    "start_time": "2023-10-13T19:57:02.985Z"
   },
   {
    "duration": 80,
    "start_time": "2023-10-13T19:57:03.251Z"
   },
   {
    "duration": 305,
    "start_time": "2023-10-13T19:57:03.333Z"
   },
   {
    "duration": 12,
    "start_time": "2023-10-13T19:57:03.640Z"
   },
   {
    "duration": 20,
    "start_time": "2023-10-13T19:57:03.654Z"
   },
   {
    "duration": 18,
    "start_time": "2023-10-13T19:57:03.676Z"
   },
   {
    "duration": 48,
    "start_time": "2023-10-13T19:57:03.695Z"
   },
   {
    "duration": 128,
    "start_time": "2023-10-13T19:57:03.744Z"
   },
   {
    "duration": 19,
    "start_time": "2023-10-13T19:57:03.873Z"
   },
   {
    "duration": 136,
    "start_time": "2023-10-13T19:57:03.894Z"
   },
   {
    "duration": 5,
    "start_time": "2023-10-13T19:57:04.032Z"
   },
   {
    "duration": 5,
    "start_time": "2023-10-13T19:57:04.038Z"
   },
   {
    "duration": 11,
    "start_time": "2023-10-13T19:57:04.044Z"
   },
   {
    "duration": 23,
    "start_time": "2023-10-13T19:57:04.057Z"
   },
   {
    "duration": 143,
    "start_time": "2023-10-13T19:57:04.082Z"
   },
   {
    "duration": 7,
    "start_time": "2023-10-13T19:57:04.227Z"
   },
   {
    "duration": 15,
    "start_time": "2023-10-13T19:57:04.235Z"
   },
   {
    "duration": 18,
    "start_time": "2023-10-13T19:57:04.252Z"
   },
   {
    "duration": 16,
    "start_time": "2023-10-13T19:57:04.271Z"
   },
   {
    "duration": 35,
    "start_time": "2023-10-13T19:57:04.289Z"
   },
   {
    "duration": 21,
    "start_time": "2023-10-13T19:57:04.325Z"
   },
   {
    "duration": 9,
    "start_time": "2023-10-13T19:57:04.347Z"
   },
   {
    "duration": 26,
    "start_time": "2023-10-13T19:57:04.358Z"
   },
   {
    "duration": 10,
    "start_time": "2023-10-13T19:57:04.386Z"
   },
   {
    "duration": 26,
    "start_time": "2023-10-13T19:57:04.397Z"
   },
   {
    "duration": 3,
    "start_time": "2023-10-13T19:57:04.425Z"
   },
   {
    "duration": 35,
    "start_time": "2023-10-13T19:57:04.429Z"
   }
  ],
  "kernelspec": {
   "display_name": "Python 3 (ipykernel)",
   "language": "python",
   "name": "python3"
  },
  "language_info": {
   "codemirror_mode": {
    "name": "ipython",
    "version": 3
   },
   "file_extension": ".py",
   "mimetype": "text/x-python",
   "name": "python",
   "nbconvert_exporter": "python",
   "pygments_lexer": "ipython3",
   "version": "3.9.5"
  },
  "toc": {
   "base_numbering": 1,
   "nav_menu": {},
   "number_sections": true,
   "sideBar": true,
   "skip_h1_title": true,
   "title_cell": "Table of Contents",
   "title_sidebar": "Contents",
   "toc_cell": false,
   "toc_position": {
    "height": "calc(100% - 180px)",
    "left": "10px",
    "top": "150px",
    "width": "165px"
   },
   "toc_section_display": true,
   "toc_window_display": true
  }
 },
 "nbformat": 4,
 "nbformat_minor": 2
}
