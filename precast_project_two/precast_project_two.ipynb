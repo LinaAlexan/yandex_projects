{
 "cells": [
  {
   "cell_type": "markdown",
   "metadata": {},
   "source": [
    "<div class=\"alert alert-block alert-info\">\n",
    "Михаил, посмотри пожалуйста, правильно ли получилось? У меня второй день мертво лежит Юпитер, воронки, и большая часть окон перестали загружаться совершенно, пытаюсь найти какой то выход((\n",
    "    <div class=\"alert alert-danger\">\n",
    "\n",
    "**❌ Комментарий ревьюера v3❌**\n",
    "   \n",
    "   Да, Галина, при полном запуске проекта юпитер ложится и у меня, при запуске по ячейкам выдает ошибки - указал по ходу проекта. В местах, где есть цикл for начинается бесконечная загрузка - думаю, что проблема там - также рекомендую обратиться за помощью к преподавателю по проекту\n",
    "\n",
    "</div>\n",
    "\n",
    "</div>"
   ]
  },
  {
   "cell_type": "markdown",
   "metadata": {},
   "source": [
    "<div class=\"alert alert-success\">\n",
    "  <b> ✔️Комментарий ревьюера ✔️</b>\n",
    "\n",
    "Привет, Галина! Меня зовут Михаил, я буду проверять твой проект. Предлагаю общаться на 'ты' :)\n",
    "Однако, если это неудобно - сообщи, и мы перейдем на 'Вы'. Моя главная цель —  поделиться с тобой своим опытом и помочь тебе стать аналитиком данных, а не только указать на совершенные тобой ошибки.\n",
    "\n",
    "Видно, что к проекту приложен большой труд. Все ключевые этапы в работе выполнены, статистическое исследование проведено качественно. Так что в целом справиться с задачей тебе удалось.\n",
    "\n",
    "Есть несколько аспектов, которые **требуют** твоего **внимания**. Комментарии по ним помечены красным цветом и символами ❌. После их доработки проект будет принят, осталось совсем немного :) \n",
    "    \n",
    "\n",
    "Давай работать над проектом в диалоге: если **ты что-то меняешь** в проекте по моим рекомендациям — **пиши об этом**. Мне будет легче отследить изменения, если ты будешь использовать синюю форму, которую я прикреплю ниже. Пожалуйста, **не перемещай, не изменяй и не удаляй мои комментарии**. Всё это поможет выполнить повторную проверку твоего проекта оперативнее. \n",
    "\n",
    "\n",
    "\n",
    "Жду проект на повторное ревью. Успехов в изучении!\n",
    "\n",
    "\n",
    "\n",
    "</div>\n",
    "<div class=\"alert alert-block alert-danger\"> <b>❌ Комментарий ревьюера ❌</b> \n",
    "    Так я выделяю моменты, которые требуют особого внимания. Нужно будет учесть их и внести корректировки в свою работу. </div>\n",
    "<div class=\"alert alert-block alert-warning\"> <b>⚠️ Комментарий ревьюера ⚠️</b> \n",
    "    Желтым я отмечу рекомендации, которые, могут быть полезными при твоей работе. Они носят рекомендационный характер, но будет классно, если ты будешь учитывать их при работе.</div>\n",
    "<div class=\"alert alert-block alert-success\"> <b>✔️ Комментарий ревьюера ✔️</b>\n",
    "    Так я выделяю удачные и элегантные решения, на которые можно опираться в будущих проектах.</div>\n",
    "<div class=\"alert alert-block alert-info\">\n",
    "    \n",
    "А в таком блоке ты можешь оставить комментарии для меня \n",
    "    \n",
    "</div>"
   ]
  },
  {
   "cell_type": "markdown",
   "metadata": {},
   "source": [
    "## Описание проекта\n",
    "Вы работаете в стартапе, который продаёт продукты питания. Нужно разобраться, как ведут себя пользователи вашего мобильного приложения. \n",
    "\n",
    "\n",
    "Изучите воронку продаж. Узнайте, как пользователи доходят до покупки. Сколько пользователей доходит до покупки, а сколько — «застревает» на предыдущих шагах? На каких именно?\n",
    "\n",
    "После этого исследуйте результаты A/A/B-эксперимента. Дизайнеры захотели поменять шрифты во всём приложении, а менеджеры испугались, что пользователям будет непривычно. Договорились принять решение по результатам A/A/B-теста. Пользователей разбили на 3 группы: 2 контрольные со старыми шрифтами и одну экспериментальную — с новыми. Выясните, какой шрифт лучше.\n",
    "\n",
    "Создание двух групп A вместо одной имеет определённые преимущества. Если две контрольные группы окажутся равны, вы можете быть уверены в точности проведенного тестирования. Если же между значениями A и A будут существенные различия, это поможет обнаружить факторы, которые привели к искажению результатов. Сравнение контрольных групп также помогает понять, сколько времени и данных потребуется для дальнейших тестов.\n",
    "\n",
    "В случае общей аналитики и A/A/B-эксперимента работайте с одними и теми же данными. В реальных проектах всегда идут эксперименты. Аналитики исследуют качество работы приложения по общим данным, не учитывая принадлежность пользователей к экспериментам.\n",
    "\n",
    "## Описание данных\n",
    "Каждая запись в логе — это действие пользователя, или событие. \n",
    "- EventName — название события;\n",
    "- DeviceIDHash — уникальный идентификатор пользователя;\n",
    "- EventTimestamp — время события;\n",
    "- ExpId — номер эксперимента: 246 и 247 — контрольные группы, а 248 — экспериментальная.\n",
    "\n",
    "## Инструкция по выполнению проекта\n",
    "### Шаг 1. Откройте файл с данными и изучите общую информацию\n",
    "Путь к файлу: /datasets/logs_exp.csv. Скачать датасет\n",
    "### Шаг 2. Подготовьте данные\n",
    "- Замените названия столбцов на удобные для вас;\n",
    "- Проверьте пропуски и типы данных. Откорректируйте, если нужно;\n",
    "- Добавьте столбец даты и времени, а также отдельный столбец дат;\n",
    "### Шаг 3. Изучите и проверьте данные\n",
    "- Сколько всего событий в логе?\n",
    "- Сколько всего пользователей в логе?\n",
    "- Сколько в среднем событий приходится на пользователя?\n",
    "- Данными за какой период вы располагаете? Найдите максимальную и минимальную дату. Постройте гистограмму по дате и времени. Можно ли быть уверенным, что у вас одинаково полные данные за весь период? Технически в логи новых дней по некоторым пользователям могут «доезжать» события из прошлого — это может «перекашивать данные». Определите, с какого момента данные полные и отбросьте более старые. Данными за какой период времени вы располагаете на самом деле?\n",
    "- Много ли событий и пользователей вы потеряли, отбросив старые данные?\n",
    "- Проверьте, что у вас есть пользователи из всех трёх экспериментальных групп.\n",
    "### Шаг 4. Изучите воронку событий\n",
    "- Посмотрите, какие события есть в логах, как часто они встречаются. Отсортируйте события по частоте.\n",
    "- Посчитайте, сколько пользователей совершали каждое из этих событий. Отсортируйте события по числу пользователей. Посчитайте долю пользователей, которые хоть раз совершали событие.\n",
    "- Предположите, в каком порядке происходят события. Все ли они выстраиваются в последовательную цепочку? Их не нужно учитывать при расчёте воронки.\n",
    "- По воронке событий посчитайте, какая доля пользователей проходит на следующий шаг воронки (от числа пользователей на предыдущем). То есть для последовательности событий A → B → C посчитайте отношение числа пользователей с событием B к количеству пользователей с событием A, а также отношение числа пользователей с событием C к количеству пользователей с событием B.\n",
    "- На каком шаге теряете больше всего пользователей?\n",
    "- Какая доля пользователей доходит от первого события до оплаты?\n",
    "### Шаг 5. Изучите результаты эксперимента\n",
    "- Сколько пользователей в каждой экспериментальной группе?\n",
    "- Есть 2 контрольные группы для А/А-эксперимента, чтобы проверить корректность всех механизмов и расчётов. Проверьте, находят ли статистические критерии разницу между выборками 246 и 247.\n",
    "- Выберите самое популярное событие. Посчитайте число пользователей, совершивших это событие в каждой из контрольных групп. Посчитайте долю пользователей, совершивших это событие. Проверьте, будет ли отличие между группами статистически достоверным. Проделайте то же самое для всех других событий (удобно обернуть проверку в отдельную функцию). Можно ли сказать, что разбиение на группы работает корректно?\n",
    "- Аналогично поступите с группой с изменённым шрифтом. Сравните результаты с каждой из контрольных групп в отдельности по каждому событию. Сравните результаты с объединённой контрольной группой. Какие выводы из эксперимента можно сделать?\n",
    "- Какой уровень значимости вы выбрали при проверке статистических гипотез выше? Посчитайте, сколько проверок статистических гипотез вы сделали. При уровне значимости 0.1 каждый десятый раз можно получать ложный результат. Какой уровень значимости стоит применить? Если вы хотите изменить его, проделайте предыдущие пункты и проверьте свои выводы."
   ]
  },
  {
   "cell_type": "markdown",
   "metadata": {},
   "source": [
    "<div class=\"alert alert-success\">\n",
    "\n",
    "**✔️ Комментарий ревьюера ✔️**\n",
    "   \n",
    "   Хорошее введение в проект - пригодится в будущем, когда соберешь большое портфолио и откроешь проект вновь👍\n",
    "\n",
    "</div>\n"
   ]
  },
  {
   "cell_type": "markdown",
   "metadata": {},
   "source": [
    "#### Шаг 1. Откройте файл с данными и изучите общую информацию\n",
    "Импортируем необходимые библиотеки, заргузим файл /datasets/logs_exp.csv.Изучим данные с помощью метода info(). Выведем первые строки таблицы методом head(), чтобы познакомиться с данными."
   ]
  },
  {
   "cell_type": "code",
   "execution_count": 56,
   "metadata": {},
   "outputs": [],
   "source": [
    "import pandas as pd\n",
    "from datetime import date\n",
    "\n",
    "from scipy import stats as st\n",
    "import numpy as np\n",
    "import math as mth\n",
    "\n",
    "import matplotlib.pyplot as plt \n",
    "import seaborn as sns\n",
    "import plotly.express as px\n",
    "from plotly import graph_objects as go\n",
    "\n",
    "from statsmodels.stats.proportion import proportions_ztest\n",
    "import warnings\n",
    "\n",
    "warnings.filterwarnings('ignore')"
   ]
  },
  {
   "cell_type": "code",
   "execution_count": 57,
   "metadata": {},
   "outputs": [
    {
     "data": {
      "text/html": [
       "<div>\n",
       "<style scoped>\n",
       "    .dataframe tbody tr th:only-of-type {\n",
       "        vertical-align: middle;\n",
       "    }\n",
       "\n",
       "    .dataframe tbody tr th {\n",
       "        vertical-align: top;\n",
       "    }\n",
       "\n",
       "    .dataframe thead th {\n",
       "        text-align: right;\n",
       "    }\n",
       "</style>\n",
       "<table border=\"1\" class=\"dataframe\">\n",
       "  <thead>\n",
       "    <tr style=\"text-align: right;\">\n",
       "      <th></th>\n",
       "      <th>EventName</th>\n",
       "      <th>DeviceIDHash</th>\n",
       "      <th>EventTimestamp</th>\n",
       "      <th>ExpId</th>\n",
       "    </tr>\n",
       "  </thead>\n",
       "  <tbody>\n",
       "    <tr>\n",
       "      <th>0</th>\n",
       "      <td>MainScreenAppear</td>\n",
       "      <td>4575588528974610257</td>\n",
       "      <td>1564029816</td>\n",
       "      <td>246</td>\n",
       "    </tr>\n",
       "    <tr>\n",
       "      <th>1</th>\n",
       "      <td>MainScreenAppear</td>\n",
       "      <td>7416695313311560658</td>\n",
       "      <td>1564053102</td>\n",
       "      <td>246</td>\n",
       "    </tr>\n",
       "    <tr>\n",
       "      <th>2</th>\n",
       "      <td>PaymentScreenSuccessful</td>\n",
       "      <td>3518123091307005509</td>\n",
       "      <td>1564054127</td>\n",
       "      <td>248</td>\n",
       "    </tr>\n",
       "    <tr>\n",
       "      <th>3</th>\n",
       "      <td>CartScreenAppear</td>\n",
       "      <td>3518123091307005509</td>\n",
       "      <td>1564054127</td>\n",
       "      <td>248</td>\n",
       "    </tr>\n",
       "    <tr>\n",
       "      <th>4</th>\n",
       "      <td>PaymentScreenSuccessful</td>\n",
       "      <td>6217807653094995999</td>\n",
       "      <td>1564055322</td>\n",
       "      <td>248</td>\n",
       "    </tr>\n",
       "  </tbody>\n",
       "</table>\n",
       "</div>"
      ],
      "text/plain": [
       "                 EventName         DeviceIDHash  EventTimestamp  ExpId\n",
       "0         MainScreenAppear  4575588528974610257      1564029816    246\n",
       "1         MainScreenAppear  7416695313311560658      1564053102    246\n",
       "2  PaymentScreenSuccessful  3518123091307005509      1564054127    248\n",
       "3         CartScreenAppear  3518123091307005509      1564054127    248\n",
       "4  PaymentScreenSuccessful  6217807653094995999      1564055322    248"
      ]
     },
     "execution_count": 57,
     "metadata": {},
     "output_type": "execute_result"
    }
   ],
   "source": [
    "exp = pd.read_csv('/datasets/logs_exp.csv', sep='\\t')\n",
    "exp.head()"
   ]
  },
  {
   "cell_type": "code",
   "execution_count": 58,
   "metadata": {},
   "outputs": [
    {
     "name": "stdout",
     "output_type": "stream",
     "text": [
      "<class 'pandas.core.frame.DataFrame'>\n",
      "RangeIndex: 244126 entries, 0 to 244125\n",
      "Data columns (total 4 columns):\n",
      " #   Column          Non-Null Count   Dtype \n",
      "---  ------          --------------   ----- \n",
      " 0   EventName       244126 non-null  object\n",
      " 1   DeviceIDHash    244126 non-null  int64 \n",
      " 2   EventTimestamp  244126 non-null  int64 \n",
      " 3   ExpId           244126 non-null  int64 \n",
      "dtypes: int64(3), object(1)\n",
      "memory usage: 7.5+ MB\n"
     ]
    }
   ],
   "source": [
    "exp.info()"
   ]
  },
  {
   "cell_type": "code",
   "execution_count": 59,
   "metadata": {},
   "outputs": [
    {
     "data": {
      "text/html": [
       "<div>\n",
       "<style scoped>\n",
       "    .dataframe tbody tr th:only-of-type {\n",
       "        vertical-align: middle;\n",
       "    }\n",
       "\n",
       "    .dataframe tbody tr th {\n",
       "        vertical-align: top;\n",
       "    }\n",
       "\n",
       "    .dataframe thead th {\n",
       "        text-align: right;\n",
       "    }\n",
       "</style>\n",
       "<table border=\"1\" class=\"dataframe\">\n",
       "  <thead>\n",
       "    <tr style=\"text-align: right;\">\n",
       "      <th></th>\n",
       "      <th>DeviceIDHash</th>\n",
       "      <th>EventTimestamp</th>\n",
       "      <th>ExpId</th>\n",
       "    </tr>\n",
       "  </thead>\n",
       "  <tbody>\n",
       "    <tr>\n",
       "      <th>count</th>\n",
       "      <td>2.441260e+05</td>\n",
       "      <td>2.441260e+05</td>\n",
       "      <td>244126.000000</td>\n",
       "    </tr>\n",
       "    <tr>\n",
       "      <th>mean</th>\n",
       "      <td>4.627568e+18</td>\n",
       "      <td>1.564914e+09</td>\n",
       "      <td>247.022296</td>\n",
       "    </tr>\n",
       "    <tr>\n",
       "      <th>std</th>\n",
       "      <td>2.642425e+18</td>\n",
       "      <td>1.771343e+05</td>\n",
       "      <td>0.824434</td>\n",
       "    </tr>\n",
       "    <tr>\n",
       "      <th>min</th>\n",
       "      <td>6.888747e+15</td>\n",
       "      <td>1.564030e+09</td>\n",
       "      <td>246.000000</td>\n",
       "    </tr>\n",
       "    <tr>\n",
       "      <th>25%</th>\n",
       "      <td>2.372212e+18</td>\n",
       "      <td>1.564757e+09</td>\n",
       "      <td>246.000000</td>\n",
       "    </tr>\n",
       "    <tr>\n",
       "      <th>50%</th>\n",
       "      <td>4.623192e+18</td>\n",
       "      <td>1.564919e+09</td>\n",
       "      <td>247.000000</td>\n",
       "    </tr>\n",
       "    <tr>\n",
       "      <th>75%</th>\n",
       "      <td>6.932517e+18</td>\n",
       "      <td>1.565075e+09</td>\n",
       "      <td>248.000000</td>\n",
       "    </tr>\n",
       "    <tr>\n",
       "      <th>max</th>\n",
       "      <td>9.222603e+18</td>\n",
       "      <td>1.565213e+09</td>\n",
       "      <td>248.000000</td>\n",
       "    </tr>\n",
       "  </tbody>\n",
       "</table>\n",
       "</div>"
      ],
      "text/plain": [
       "       DeviceIDHash  EventTimestamp          ExpId\n",
       "count  2.441260e+05    2.441260e+05  244126.000000\n",
       "mean   4.627568e+18    1.564914e+09     247.022296\n",
       "std    2.642425e+18    1.771343e+05       0.824434\n",
       "min    6.888747e+15    1.564030e+09     246.000000\n",
       "25%    2.372212e+18    1.564757e+09     246.000000\n",
       "50%    4.623192e+18    1.564919e+09     247.000000\n",
       "75%    6.932517e+18    1.565075e+09     248.000000\n",
       "max    9.222603e+18    1.565213e+09     248.000000"
      ]
     },
     "execution_count": 59,
     "metadata": {},
     "output_type": "execute_result"
    }
   ],
   "source": [
    "exp.describe()\n"
   ]
  },
  {
   "cell_type": "markdown",
   "metadata": {},
   "source": [
    "В датасете 4 столбца с записями о действиях пользователя: \n",
    "- EventName тип object \n",
    "- DeviceIDHash тип int64 \n",
    "- EventTimestamp тип int64 \n",
    "- ExpId тип int64\n",
    "Всего 244126 строк в каждом столбце,не вижу аномальных значений и пропусков."
   ]
  },
  {
   "cell_type": "markdown",
   "metadata": {},
   "source": [
    "<div class=\"alert alert-success\">\n",
    "\n",
    "**✔️ Комментарий ревьюера ✔️**\n",
    "   \n",
    "   Хорошо. Приступим к предобработке\n",
    "\n",
    "</div>\n"
   ]
  },
  {
   "cell_type": "markdown",
   "metadata": {},
   "source": [
    "####  Шаг 2. Подготовьте данные\n",
    "Замените названия столбцов на удобные для вас\n",
    "Текущие названия столбцов для меня удобны, поэтому оставляется все как есть.\n",
    "\n",
    "Проверьте пропуски и типы данных. Откорректируйте, если нужно\n"
   ]
  },
  {
   "cell_type": "markdown",
   "metadata": {},
   "source": [
    "Первым делом переименую столбцы и приведу их к единому регистру.\n",
    "Далее переведу дату в более привычный формат и разнесу дату/время по отдельным метрикам."
   ]
  },
  {
   "cell_type": "code",
   "execution_count": 60,
   "metadata": {},
   "outputs": [],
   "source": [
    "exp.columns = ['event', 'user', 'timestamp', 'expid']"
   ]
  },
  {
   "cell_type": "code",
   "execution_count": 61,
   "metadata": {},
   "outputs": [],
   "source": [
    "exp['datetime'] = pd.to_datetime(exp['timestamp'], unit='s')\n",
    "exp['date'] = exp['datetime'].dt.date\n",
    "exp['date'] = pd.to_datetime(exp['date'])\n",
    "\n",
    "exp['time'] = exp['datetime'].dt.time"
   ]
  },
  {
   "cell_type": "code",
   "execution_count": 62,
   "metadata": {},
   "outputs": [
    {
     "data": {
      "text/html": [
       "<div>\n",
       "<style scoped>\n",
       "    .dataframe tbody tr th:only-of-type {\n",
       "        vertical-align: middle;\n",
       "    }\n",
       "\n",
       "    .dataframe tbody tr th {\n",
       "        vertical-align: top;\n",
       "    }\n",
       "\n",
       "    .dataframe thead th {\n",
       "        text-align: right;\n",
       "    }\n",
       "</style>\n",
       "<table border=\"1\" class=\"dataframe\">\n",
       "  <thead>\n",
       "    <tr style=\"text-align: right;\">\n",
       "      <th></th>\n",
       "      <th>event</th>\n",
       "      <th>user</th>\n",
       "      <th>timestamp</th>\n",
       "      <th>expid</th>\n",
       "      <th>datetime</th>\n",
       "      <th>date</th>\n",
       "      <th>time</th>\n",
       "    </tr>\n",
       "  </thead>\n",
       "  <tbody>\n",
       "    <tr>\n",
       "      <th>0</th>\n",
       "      <td>MainScreenAppear</td>\n",
       "      <td>4575588528974610257</td>\n",
       "      <td>1564029816</td>\n",
       "      <td>246</td>\n",
       "      <td>2019-07-25 04:43:36</td>\n",
       "      <td>2019-07-25</td>\n",
       "      <td>04:43:36</td>\n",
       "    </tr>\n",
       "    <tr>\n",
       "      <th>1</th>\n",
       "      <td>MainScreenAppear</td>\n",
       "      <td>7416695313311560658</td>\n",
       "      <td>1564053102</td>\n",
       "      <td>246</td>\n",
       "      <td>2019-07-25 11:11:42</td>\n",
       "      <td>2019-07-25</td>\n",
       "      <td>11:11:42</td>\n",
       "    </tr>\n",
       "    <tr>\n",
       "      <th>2</th>\n",
       "      <td>PaymentScreenSuccessful</td>\n",
       "      <td>3518123091307005509</td>\n",
       "      <td>1564054127</td>\n",
       "      <td>248</td>\n",
       "      <td>2019-07-25 11:28:47</td>\n",
       "      <td>2019-07-25</td>\n",
       "      <td>11:28:47</td>\n",
       "    </tr>\n",
       "    <tr>\n",
       "      <th>3</th>\n",
       "      <td>CartScreenAppear</td>\n",
       "      <td>3518123091307005509</td>\n",
       "      <td>1564054127</td>\n",
       "      <td>248</td>\n",
       "      <td>2019-07-25 11:28:47</td>\n",
       "      <td>2019-07-25</td>\n",
       "      <td>11:28:47</td>\n",
       "    </tr>\n",
       "    <tr>\n",
       "      <th>4</th>\n",
       "      <td>PaymentScreenSuccessful</td>\n",
       "      <td>6217807653094995999</td>\n",
       "      <td>1564055322</td>\n",
       "      <td>248</td>\n",
       "      <td>2019-07-25 11:48:42</td>\n",
       "      <td>2019-07-25</td>\n",
       "      <td>11:48:42</td>\n",
       "    </tr>\n",
       "  </tbody>\n",
       "</table>\n",
       "</div>"
      ],
      "text/plain": [
       "                     event                 user   timestamp  expid  \\\n",
       "0         MainScreenAppear  4575588528974610257  1564029816    246   \n",
       "1         MainScreenAppear  7416695313311560658  1564053102    246   \n",
       "2  PaymentScreenSuccessful  3518123091307005509  1564054127    248   \n",
       "3         CartScreenAppear  3518123091307005509  1564054127    248   \n",
       "4  PaymentScreenSuccessful  6217807653094995999  1564055322    248   \n",
       "\n",
       "             datetime       date      time  \n",
       "0 2019-07-25 04:43:36 2019-07-25  04:43:36  \n",
       "1 2019-07-25 11:11:42 2019-07-25  11:11:42  \n",
       "2 2019-07-25 11:28:47 2019-07-25  11:28:47  \n",
       "3 2019-07-25 11:28:47 2019-07-25  11:28:47  \n",
       "4 2019-07-25 11:48:42 2019-07-25  11:48:42  "
      ]
     },
     "execution_count": 62,
     "metadata": {},
     "output_type": "execute_result"
    }
   ],
   "source": [
    "exp.head()"
   ]
  },
  {
   "cell_type": "code",
   "execution_count": 63,
   "metadata": {},
   "outputs": [
    {
     "name": "stdout",
     "output_type": "stream",
     "text": [
      "<class 'pandas.core.frame.DataFrame'>\n",
      "RangeIndex: 244126 entries, 0 to 244125\n",
      "Data columns (total 7 columns):\n",
      " #   Column     Non-Null Count   Dtype         \n",
      "---  ------     --------------   -----         \n",
      " 0   event      244126 non-null  object        \n",
      " 1   user       244126 non-null  int64         \n",
      " 2   timestamp  244126 non-null  int64         \n",
      " 3   expid      244126 non-null  int64         \n",
      " 4   datetime   244126 non-null  datetime64[ns]\n",
      " 5   date       244126 non-null  datetime64[ns]\n",
      " 6   time       244126 non-null  object        \n",
      "dtypes: datetime64[ns](2), int64(3), object(2)\n",
      "memory usage: 13.0+ MB\n"
     ]
    }
   ],
   "source": [
    "exp.info()"
   ]
  },
  {
   "cell_type": "markdown",
   "metadata": {},
   "source": [
    "- Проверим пропуски и типы данных. \n",
    "\n",
    "- Откорректируем, если нужно\n",
    "\n",
    "- Проверим данные на их корректность. \n",
    "\n",
    "Для этого воспользуемся методом describe() для численных строк и методами .unique()/.value_counts() для категориальных данных."
   ]
  },
  {
   "cell_type": "code",
   "execution_count": 64,
   "metadata": {},
   "outputs": [
    {
     "data": {
      "text/plain": [
       "array(['MainScreenAppear', 'PaymentScreenSuccessful', 'CartScreenAppear',\n",
       "       'OffersScreenAppear', 'Tutorial'], dtype=object)"
      ]
     },
     "execution_count": 64,
     "metadata": {},
     "output_type": "execute_result"
    }
   ],
   "source": [
    "exp['event'].unique()"
   ]
  },
  {
   "cell_type": "code",
   "execution_count": 65,
   "metadata": {},
   "outputs": [
    {
     "data": {
      "text/plain": [
       "MainScreenAppear           119205\n",
       "OffersScreenAppear          46825\n",
       "CartScreenAppear            42731\n",
       "PaymentScreenSuccessful     34313\n",
       "Tutorial                     1052\n",
       "Name: event, dtype: int64"
      ]
     },
     "execution_count": 65,
     "metadata": {},
     "output_type": "execute_result"
    }
   ],
   "source": [
    "exp['event'].value_counts() "
   ]
  },
  {
   "cell_type": "markdown",
   "metadata": {},
   "source": [
    "В датасете представлены 5  вариантов событий: 'MainScreenAppear', 'PaymentScreenSuccessful', 'CartScreenAppear', 'OffersScreenAppear', 'Tutorial'. \n",
    "В выгрузке преобладают события типа 'MainScreenAppear' (119205 переходов на главный экран). Примерно в два раза меньше событий типа OffersScreenAppear и CartScreenAppear"
   ]
  },
  {
   "cell_type": "code",
   "execution_count": 66,
   "metadata": {},
   "outputs": [
    {
     "data": {
      "text/plain": [
       "6304868067479728361    2308\n",
       "197027893265565660     2003\n",
       "4623191541214045580    1771\n",
       "6932517045703054087    1448\n",
       "1754140665440434215    1222\n",
       "                       ... \n",
       "8188293597840107588       1\n",
       "1616856457908967248       1\n",
       "732356052255400077        1\n",
       "6671109879025379318       1\n",
       "2275878174127603404       1\n",
       "Name: user, Length: 7551, dtype: int64"
      ]
     },
     "execution_count": 66,
     "metadata": {},
     "output_type": "execute_result"
    }
   ],
   "source": [
    "exp['user'].value_counts()"
   ]
  },
  {
   "cell_type": "markdown",
   "metadata": {},
   "source": [
    "Вижу, что в датасете 7551 уникальных идетификаторов пользователя."
   ]
  },
  {
   "cell_type": "code",
   "execution_count": 67,
   "metadata": {},
   "outputs": [
    {
     "data": {
      "text/plain": [
       "count    2.441260e+05\n",
       "mean     1.564914e+09\n",
       "std      1.771343e+05\n",
       "min      1.564030e+09\n",
       "25%      1.564757e+09\n",
       "50%      1.564919e+09\n",
       "75%      1.565075e+09\n",
       "max      1.565213e+09\n",
       "Name: timestamp, dtype: float64"
      ]
     },
     "execution_count": 67,
     "metadata": {},
     "output_type": "execute_result"
    }
   ],
   "source": [
    "exp['timestamp'].describe()"
   ]
  },
  {
   "cell_type": "markdown",
   "metadata": {},
   "source": [
    "Мы исследуем временной период с 25 июля 2019 по 8 августа 2019 года(14 дней)."
   ]
  },
  {
   "cell_type": "markdown",
   "metadata": {},
   "source": [
    "Скорректируем значения эксперимента в столбце \"expid\" для удобства чтения: 246 и 247 — контрольные группы иправим на A1 и A2, а 248 — экспериментальная на B."
   ]
  },
  {
   "cell_type": "code",
   "execution_count": 68,
   "metadata": {},
   "outputs": [
    {
     "data": {
      "text/html": [
       "<div>\n",
       "<style scoped>\n",
       "    .dataframe tbody tr th:only-of-type {\n",
       "        vertical-align: middle;\n",
       "    }\n",
       "\n",
       "    .dataframe tbody tr th {\n",
       "        vertical-align: top;\n",
       "    }\n",
       "\n",
       "    .dataframe thead th {\n",
       "        text-align: right;\n",
       "    }\n",
       "</style>\n",
       "<table border=\"1\" class=\"dataframe\">\n",
       "  <thead>\n",
       "    <tr style=\"text-align: right;\">\n",
       "      <th></th>\n",
       "      <th>event</th>\n",
       "      <th>user</th>\n",
       "      <th>timestamp</th>\n",
       "      <th>expid</th>\n",
       "      <th>datetime</th>\n",
       "      <th>date</th>\n",
       "      <th>time</th>\n",
       "    </tr>\n",
       "  </thead>\n",
       "  <tbody>\n",
       "    <tr>\n",
       "      <th>0</th>\n",
       "      <td>MainScreenAppear</td>\n",
       "      <td>4575588528974610257</td>\n",
       "      <td>1564029816</td>\n",
       "      <td>A1</td>\n",
       "      <td>2019-07-25 04:43:36</td>\n",
       "      <td>2019-07-25</td>\n",
       "      <td>04:43:36</td>\n",
       "    </tr>\n",
       "    <tr>\n",
       "      <th>1</th>\n",
       "      <td>MainScreenAppear</td>\n",
       "      <td>7416695313311560658</td>\n",
       "      <td>1564053102</td>\n",
       "      <td>A1</td>\n",
       "      <td>2019-07-25 11:11:42</td>\n",
       "      <td>2019-07-25</td>\n",
       "      <td>11:11:42</td>\n",
       "    </tr>\n",
       "    <tr>\n",
       "      <th>2</th>\n",
       "      <td>PaymentScreenSuccessful</td>\n",
       "      <td>3518123091307005509</td>\n",
       "      <td>1564054127</td>\n",
       "      <td>B</td>\n",
       "      <td>2019-07-25 11:28:47</td>\n",
       "      <td>2019-07-25</td>\n",
       "      <td>11:28:47</td>\n",
       "    </tr>\n",
       "    <tr>\n",
       "      <th>3</th>\n",
       "      <td>CartScreenAppear</td>\n",
       "      <td>3518123091307005509</td>\n",
       "      <td>1564054127</td>\n",
       "      <td>B</td>\n",
       "      <td>2019-07-25 11:28:47</td>\n",
       "      <td>2019-07-25</td>\n",
       "      <td>11:28:47</td>\n",
       "    </tr>\n",
       "    <tr>\n",
       "      <th>4</th>\n",
       "      <td>PaymentScreenSuccessful</td>\n",
       "      <td>6217807653094995999</td>\n",
       "      <td>1564055322</td>\n",
       "      <td>B</td>\n",
       "      <td>2019-07-25 11:48:42</td>\n",
       "      <td>2019-07-25</td>\n",
       "      <td>11:48:42</td>\n",
       "    </tr>\n",
       "    <tr>\n",
       "      <th>...</th>\n",
       "      <td>...</td>\n",
       "      <td>...</td>\n",
       "      <td>...</td>\n",
       "      <td>...</td>\n",
       "      <td>...</td>\n",
       "      <td>...</td>\n",
       "      <td>...</td>\n",
       "    </tr>\n",
       "    <tr>\n",
       "      <th>244121</th>\n",
       "      <td>MainScreenAppear</td>\n",
       "      <td>4599628364049201812</td>\n",
       "      <td>1565212345</td>\n",
       "      <td>A2</td>\n",
       "      <td>2019-08-07 21:12:25</td>\n",
       "      <td>2019-08-07</td>\n",
       "      <td>21:12:25</td>\n",
       "    </tr>\n",
       "    <tr>\n",
       "      <th>244122</th>\n",
       "      <td>MainScreenAppear</td>\n",
       "      <td>5849806612437486590</td>\n",
       "      <td>1565212439</td>\n",
       "      <td>A1</td>\n",
       "      <td>2019-08-07 21:13:59</td>\n",
       "      <td>2019-08-07</td>\n",
       "      <td>21:13:59</td>\n",
       "    </tr>\n",
       "    <tr>\n",
       "      <th>244123</th>\n",
       "      <td>MainScreenAppear</td>\n",
       "      <td>5746969938801999050</td>\n",
       "      <td>1565212483</td>\n",
       "      <td>A1</td>\n",
       "      <td>2019-08-07 21:14:43</td>\n",
       "      <td>2019-08-07</td>\n",
       "      <td>21:14:43</td>\n",
       "    </tr>\n",
       "    <tr>\n",
       "      <th>244124</th>\n",
       "      <td>MainScreenAppear</td>\n",
       "      <td>5746969938801999050</td>\n",
       "      <td>1565212498</td>\n",
       "      <td>A1</td>\n",
       "      <td>2019-08-07 21:14:58</td>\n",
       "      <td>2019-08-07</td>\n",
       "      <td>21:14:58</td>\n",
       "    </tr>\n",
       "    <tr>\n",
       "      <th>244125</th>\n",
       "      <td>OffersScreenAppear</td>\n",
       "      <td>5746969938801999050</td>\n",
       "      <td>1565212517</td>\n",
       "      <td>A1</td>\n",
       "      <td>2019-08-07 21:15:17</td>\n",
       "      <td>2019-08-07</td>\n",
       "      <td>21:15:17</td>\n",
       "    </tr>\n",
       "  </tbody>\n",
       "</table>\n",
       "<p>244126 rows × 7 columns</p>\n",
       "</div>"
      ],
      "text/plain": [
       "                          event                 user   timestamp expid  \\\n",
       "0              MainScreenAppear  4575588528974610257  1564029816    A1   \n",
       "1              MainScreenAppear  7416695313311560658  1564053102    A1   \n",
       "2       PaymentScreenSuccessful  3518123091307005509  1564054127     B   \n",
       "3              CartScreenAppear  3518123091307005509  1564054127     B   \n",
       "4       PaymentScreenSuccessful  6217807653094995999  1564055322     B   \n",
       "...                         ...                  ...         ...   ...   \n",
       "244121         MainScreenAppear  4599628364049201812  1565212345    A2   \n",
       "244122         MainScreenAppear  5849806612437486590  1565212439    A1   \n",
       "244123         MainScreenAppear  5746969938801999050  1565212483    A1   \n",
       "244124         MainScreenAppear  5746969938801999050  1565212498    A1   \n",
       "244125       OffersScreenAppear  5746969938801999050  1565212517    A1   \n",
       "\n",
       "                  datetime       date      time  \n",
       "0      2019-07-25 04:43:36 2019-07-25  04:43:36  \n",
       "1      2019-07-25 11:11:42 2019-07-25  11:11:42  \n",
       "2      2019-07-25 11:28:47 2019-07-25  11:28:47  \n",
       "3      2019-07-25 11:28:47 2019-07-25  11:28:47  \n",
       "4      2019-07-25 11:48:42 2019-07-25  11:48:42  \n",
       "...                    ...        ...       ...  \n",
       "244121 2019-08-07 21:12:25 2019-08-07  21:12:25  \n",
       "244122 2019-08-07 21:13:59 2019-08-07  21:13:59  \n",
       "244123 2019-08-07 21:14:43 2019-08-07  21:14:43  \n",
       "244124 2019-08-07 21:14:58 2019-08-07  21:14:58  \n",
       "244125 2019-08-07 21:15:17 2019-08-07  21:15:17  \n",
       "\n",
       "[244126 rows x 7 columns]"
      ]
     },
     "execution_count": 68,
     "metadata": {},
     "output_type": "execute_result"
    }
   ],
   "source": [
    "def aab_group(gr):\n",
    "    if gr==246:\n",
    "        return 'A1'\n",
    "    elif gr==247:\n",
    "        return 'A2'\n",
    "    elif gr==248:\n",
    "        return 'B'\n",
    "    else:\n",
    "        return 'UnknownGroup'\n",
    "\n",
    "exp['expid'] = exp['expid'].apply(aab_group)\n",
    "exp"
   ]
  },
  {
   "cell_type": "code",
   "execution_count": 69,
   "metadata": {},
   "outputs": [
    {
     "data": {
      "text/plain": [
       "B     85747\n",
       "A1    80304\n",
       "A2    78075\n",
       "Name: expid, dtype: int64"
      ]
     },
     "execution_count": 69,
     "metadata": {},
     "output_type": "execute_result"
    }
   ],
   "source": [
    "exp['expid'].value_counts()"
   ]
  },
  {
   "cell_type": "markdown",
   "metadata": {},
   "source": [
    "Скорректировали значения, а так же посчитали, как распределяются кейсы по номерам эксперимента. Вижу, что к группе A2 наиболее малочисленная (78075), а группы B и A1 примерно равны (85747 и 80304 соответственно)\n",
    "\n",
    "Но для того, чтобы избежать возможных недоразумений сделаю проверку на уникальность пользователей в экспериментальных группах. Если один и тот же пользователь будет находится в разных группах это будет плохо."
   ]
  },
  {
   "cell_type": "code",
   "execution_count": 70,
   "metadata": {},
   "outputs": [
    {
     "data": {
      "text/html": [
       "<div>\n",
       "<style scoped>\n",
       "    .dataframe tbody tr th:only-of-type {\n",
       "        vertical-align: middle;\n",
       "    }\n",
       "\n",
       "    .dataframe tbody tr th {\n",
       "        vertical-align: top;\n",
       "    }\n",
       "\n",
       "    .dataframe thead tr th {\n",
       "        text-align: left;\n",
       "    }\n",
       "\n",
       "    .dataframe thead tr:last-of-type th {\n",
       "        text-align: right;\n",
       "    }\n",
       "</style>\n",
       "<table border=\"1\" class=\"dataframe\">\n",
       "  <thead>\n",
       "    <tr>\n",
       "      <th></th>\n",
       "      <th colspan=\"3\" halign=\"left\">user</th>\n",
       "      <th>total</th>\n",
       "    </tr>\n",
       "    <tr>\n",
       "      <th>expid</th>\n",
       "      <th>A1</th>\n",
       "      <th>A2</th>\n",
       "      <th>B</th>\n",
       "      <th></th>\n",
       "    </tr>\n",
       "    <tr>\n",
       "      <th>user</th>\n",
       "      <th></th>\n",
       "      <th></th>\n",
       "      <th></th>\n",
       "      <th></th>\n",
       "    </tr>\n",
       "  </thead>\n",
       "  <tbody>\n",
       "  </tbody>\n",
       "</table>\n",
       "</div>"
      ],
      "text/plain": [
       "Empty DataFrame\n",
       "Columns: [(user, A1), (user, A2), (user, B), (total, )]\n",
       "Index: []"
      ]
     },
     "execution_count": 70,
     "metadata": {},
     "output_type": "execute_result"
    }
   ],
   "source": [
    "expid_user = exp.pivot_table(index='user', columns='expid', aggfunc={'user':'nunique'})\n",
    "expid_user['total'] = expid_user.sum(axis=1)\n",
    "expid_user[expid_user['total'] >1]\n"
   ]
  },
  {
   "cell_type": "markdown",
   "metadata": {},
   "source": [
    "Пользователей одновременно находящихся в разных экспериментальных группах нет. Отлично. Продолжаем дальше."
   ]
  },
  {
   "cell_type": "markdown",
   "metadata": {},
   "source": [
    "Проведем проверку на наличие дубликатов и посчитаем их количество: "
   ]
  },
  {
   "cell_type": "code",
   "execution_count": 71,
   "metadata": {},
   "outputs": [
    {
     "data": {
      "text/html": [
       "<div>\n",
       "<style scoped>\n",
       "    .dataframe tbody tr th:only-of-type {\n",
       "        vertical-align: middle;\n",
       "    }\n",
       "\n",
       "    .dataframe tbody tr th {\n",
       "        vertical-align: top;\n",
       "    }\n",
       "\n",
       "    .dataframe thead th {\n",
       "        text-align: right;\n",
       "    }\n",
       "</style>\n",
       "<table border=\"1\" class=\"dataframe\">\n",
       "  <thead>\n",
       "    <tr style=\"text-align: right;\">\n",
       "      <th></th>\n",
       "      <th>event</th>\n",
       "      <th>user</th>\n",
       "      <th>timestamp</th>\n",
       "      <th>expid</th>\n",
       "      <th>datetime</th>\n",
       "      <th>date</th>\n",
       "      <th>time</th>\n",
       "    </tr>\n",
       "  </thead>\n",
       "  <tbody>\n",
       "    <tr>\n",
       "      <th>453</th>\n",
       "      <td>MainScreenAppear</td>\n",
       "      <td>5613408041324010552</td>\n",
       "      <td>1564474784</td>\n",
       "      <td>B</td>\n",
       "      <td>2019-07-30 08:19:44</td>\n",
       "      <td>2019-07-30</td>\n",
       "      <td>08:19:44</td>\n",
       "    </tr>\n",
       "    <tr>\n",
       "      <th>2350</th>\n",
       "      <td>CartScreenAppear</td>\n",
       "      <td>1694940645335807244</td>\n",
       "      <td>1564609899</td>\n",
       "      <td>B</td>\n",
       "      <td>2019-07-31 21:51:39</td>\n",
       "      <td>2019-07-31</td>\n",
       "      <td>21:51:39</td>\n",
       "    </tr>\n",
       "    <tr>\n",
       "      <th>3573</th>\n",
       "      <td>MainScreenAppear</td>\n",
       "      <td>434103746454591587</td>\n",
       "      <td>1564628377</td>\n",
       "      <td>B</td>\n",
       "      <td>2019-08-01 02:59:37</td>\n",
       "      <td>2019-08-01</td>\n",
       "      <td>02:59:37</td>\n",
       "    </tr>\n",
       "    <tr>\n",
       "      <th>4076</th>\n",
       "      <td>MainScreenAppear</td>\n",
       "      <td>3761373764179762633</td>\n",
       "      <td>1564631266</td>\n",
       "      <td>A2</td>\n",
       "      <td>2019-08-01 03:47:46</td>\n",
       "      <td>2019-08-01</td>\n",
       "      <td>03:47:46</td>\n",
       "    </tr>\n",
       "    <tr>\n",
       "      <th>4803</th>\n",
       "      <td>MainScreenAppear</td>\n",
       "      <td>2835328739789306622</td>\n",
       "      <td>1564634641</td>\n",
       "      <td>B</td>\n",
       "      <td>2019-08-01 04:44:01</td>\n",
       "      <td>2019-08-01</td>\n",
       "      <td>04:44:01</td>\n",
       "    </tr>\n",
       "    <tr>\n",
       "      <th>...</th>\n",
       "      <td>...</td>\n",
       "      <td>...</td>\n",
       "      <td>...</td>\n",
       "      <td>...</td>\n",
       "      <td>...</td>\n",
       "      <td>...</td>\n",
       "      <td>...</td>\n",
       "    </tr>\n",
       "    <tr>\n",
       "      <th>242329</th>\n",
       "      <td>MainScreenAppear</td>\n",
       "      <td>8870358373313968633</td>\n",
       "      <td>1565206004</td>\n",
       "      <td>A2</td>\n",
       "      <td>2019-08-07 19:26:44</td>\n",
       "      <td>2019-08-07</td>\n",
       "      <td>19:26:44</td>\n",
       "    </tr>\n",
       "    <tr>\n",
       "      <th>242332</th>\n",
       "      <td>PaymentScreenSuccessful</td>\n",
       "      <td>4718002964983105693</td>\n",
       "      <td>1565206005</td>\n",
       "      <td>A2</td>\n",
       "      <td>2019-08-07 19:26:45</td>\n",
       "      <td>2019-08-07</td>\n",
       "      <td>19:26:45</td>\n",
       "    </tr>\n",
       "    <tr>\n",
       "      <th>242360</th>\n",
       "      <td>PaymentScreenSuccessful</td>\n",
       "      <td>2382591782303281935</td>\n",
       "      <td>1565206049</td>\n",
       "      <td>A1</td>\n",
       "      <td>2019-08-07 19:27:29</td>\n",
       "      <td>2019-08-07</td>\n",
       "      <td>19:27:29</td>\n",
       "    </tr>\n",
       "    <tr>\n",
       "      <th>242362</th>\n",
       "      <td>CartScreenAppear</td>\n",
       "      <td>2382591782303281935</td>\n",
       "      <td>1565206049</td>\n",
       "      <td>A1</td>\n",
       "      <td>2019-08-07 19:27:29</td>\n",
       "      <td>2019-08-07</td>\n",
       "      <td>19:27:29</td>\n",
       "    </tr>\n",
       "    <tr>\n",
       "      <th>242635</th>\n",
       "      <td>MainScreenAppear</td>\n",
       "      <td>4097782667445790512</td>\n",
       "      <td>1565206618</td>\n",
       "      <td>A1</td>\n",
       "      <td>2019-08-07 19:36:58</td>\n",
       "      <td>2019-08-07</td>\n",
       "      <td>19:36:58</td>\n",
       "    </tr>\n",
       "  </tbody>\n",
       "</table>\n",
       "<p>413 rows × 7 columns</p>\n",
       "</div>"
      ],
      "text/plain": [
       "                          event                 user   timestamp expid  \\\n",
       "453            MainScreenAppear  5613408041324010552  1564474784     B   \n",
       "2350           CartScreenAppear  1694940645335807244  1564609899     B   \n",
       "3573           MainScreenAppear   434103746454591587  1564628377     B   \n",
       "4076           MainScreenAppear  3761373764179762633  1564631266    A2   \n",
       "4803           MainScreenAppear  2835328739789306622  1564634641     B   \n",
       "...                         ...                  ...         ...   ...   \n",
       "242329         MainScreenAppear  8870358373313968633  1565206004    A2   \n",
       "242332  PaymentScreenSuccessful  4718002964983105693  1565206005    A2   \n",
       "242360  PaymentScreenSuccessful  2382591782303281935  1565206049    A1   \n",
       "242362         CartScreenAppear  2382591782303281935  1565206049    A1   \n",
       "242635         MainScreenAppear  4097782667445790512  1565206618    A1   \n",
       "\n",
       "                  datetime       date      time  \n",
       "453    2019-07-30 08:19:44 2019-07-30  08:19:44  \n",
       "2350   2019-07-31 21:51:39 2019-07-31  21:51:39  \n",
       "3573   2019-08-01 02:59:37 2019-08-01  02:59:37  \n",
       "4076   2019-08-01 03:47:46 2019-08-01  03:47:46  \n",
       "4803   2019-08-01 04:44:01 2019-08-01  04:44:01  \n",
       "...                    ...        ...       ...  \n",
       "242329 2019-08-07 19:26:44 2019-08-07  19:26:44  \n",
       "242332 2019-08-07 19:26:45 2019-08-07  19:26:45  \n",
       "242360 2019-08-07 19:27:29 2019-08-07  19:27:29  \n",
       "242362 2019-08-07 19:27:29 2019-08-07  19:27:29  \n",
       "242635 2019-08-07 19:36:58 2019-08-07  19:36:58  \n",
       "\n",
       "[413 rows x 7 columns]"
      ]
     },
     "execution_count": 71,
     "metadata": {},
     "output_type": "execute_result"
    }
   ],
   "source": [
    "exp[exp.duplicated()]\n"
   ]
  },
  {
   "cell_type": "code",
   "execution_count": 72,
   "metadata": {},
   "outputs": [
    {
     "name": "stdout",
     "output_type": "stream",
     "text": [
      "Кол-во дубликатов = 413\n"
     ]
    }
   ],
   "source": [
    "print('Кол-во дубликатов =',exp.duplicated(['event', 'user', 'timestamp', 'expid']).sum())\n"
   ]
  },
  {
   "cell_type": "markdown",
   "metadata": {},
   "source": [
    "Мы обнаружили 413 дубликатов! \n",
    "\n",
    "Врядли один и тот же пользователь в одной группе совершал одинаковые события в одно и тоже время, - дубликаты надо удалять. После удаления проверим, сколько дубликатов осталось в датафрейме. "
   ]
  },
  {
   "cell_type": "code",
   "execution_count": 73,
   "metadata": {},
   "outputs": [
    {
     "name": "stdout",
     "output_type": "stream",
     "text": [
      "Кол-во оставшихся дубликатов = 0\n"
     ]
    }
   ],
   "source": [
    "exp.drop_duplicates(inplace = True)\n",
    "exp = exp.reset_index(drop=True)\n",
    "print('Кол-во оставшихся дубликатов =', exp.duplicated().sum())"
   ]
  },
  {
   "cell_type": "code",
   "execution_count": 74,
   "metadata": {},
   "outputs": [
    {
     "name": "stdout",
     "output_type": "stream",
     "text": [
      "<class 'pandas.core.frame.DataFrame'>\n",
      "RangeIndex: 243713 entries, 0 to 243712\n",
      "Data columns (total 7 columns):\n",
      " #   Column     Non-Null Count   Dtype         \n",
      "---  ------     --------------   -----         \n",
      " 0   event      243713 non-null  object        \n",
      " 1   user       243713 non-null  int64         \n",
      " 2   timestamp  243713 non-null  int64         \n",
      " 3   expid      243713 non-null  object        \n",
      " 4   datetime   243713 non-null  datetime64[ns]\n",
      " 5   date       243713 non-null  datetime64[ns]\n",
      " 6   time       243713 non-null  object        \n",
      "dtypes: datetime64[ns](2), int64(2), object(3)\n",
      "memory usage: 13.0+ MB\n"
     ]
    }
   ],
   "source": [
    "exp.info()"
   ]
  },
  {
   "cell_type": "markdown",
   "metadata": {},
   "source": [
    "Было строчек 244126, удалили 413 дубликатов, осталось 243713 строк.\n",
    "Теперь посмотрим на нулевые значения: "
   ]
  },
  {
   "cell_type": "code",
   "execution_count": 75,
   "metadata": {},
   "outputs": [
    {
     "data": {
      "text/html": [
       "<div>\n",
       "<style scoped>\n",
       "    .dataframe tbody tr th:only-of-type {\n",
       "        vertical-align: middle;\n",
       "    }\n",
       "\n",
       "    .dataframe tbody tr th {\n",
       "        vertical-align: top;\n",
       "    }\n",
       "\n",
       "    .dataframe thead th {\n",
       "        text-align: right;\n",
       "    }\n",
       "</style>\n",
       "<table border=\"1\" class=\"dataframe\">\n",
       "  <thead>\n",
       "    <tr style=\"text-align: right;\">\n",
       "      <th></th>\n",
       "      <th>0</th>\n",
       "    </tr>\n",
       "  </thead>\n",
       "  <tbody>\n",
       "    <tr>\n",
       "      <th>event</th>\n",
       "      <td>0.0</td>\n",
       "    </tr>\n",
       "    <tr>\n",
       "      <th>user</th>\n",
       "      <td>0.0</td>\n",
       "    </tr>\n",
       "    <tr>\n",
       "      <th>timestamp</th>\n",
       "      <td>0.0</td>\n",
       "    </tr>\n",
       "    <tr>\n",
       "      <th>expid</th>\n",
       "      <td>0.0</td>\n",
       "    </tr>\n",
       "    <tr>\n",
       "      <th>datetime</th>\n",
       "      <td>0.0</td>\n",
       "    </tr>\n",
       "    <tr>\n",
       "      <th>date</th>\n",
       "      <td>0.0</td>\n",
       "    </tr>\n",
       "    <tr>\n",
       "      <th>time</th>\n",
       "      <td>0.0</td>\n",
       "    </tr>\n",
       "  </tbody>\n",
       "</table>\n",
       "</div>"
      ],
      "text/plain": [
       "             0\n",
       "event      0.0\n",
       "user       0.0\n",
       "timestamp  0.0\n",
       "expid      0.0\n",
       "datetime   0.0\n",
       "date       0.0\n",
       "time       0.0"
      ]
     },
     "execution_count": 75,
     "metadata": {},
     "output_type": "execute_result"
    }
   ],
   "source": [
    "pd.DataFrame(round((exp.isna().mean()*100),2))"
   ]
  },
  {
   "cell_type": "markdown",
   "metadata": {},
   "source": [
    "Нулевых значений не вижу и это прекрасно)"
   ]
  },
  {
   "cell_type": "markdown",
   "metadata": {},
   "source": [
    "Вывод:\n",
    "\n",
    "В процессе предобработки данных мы провели:\n",
    "- замену названий столбцов\n",
    "- добавление 2-х столбцов с датой и датой/временем,\n",
    "- приведение к нормальным типы данных в столбцах\n",
    "- замену на более наглядные значения в столбце \"expid\" и проверку на наличие пользователей сразу в нескольких группах. \n",
    "- удаление  413 дубликатов\n",
    "- проверку на отсутсвие нулевых значений "
   ]
  },
  {
   "cell_type": "markdown",
   "metadata": {},
   "source": [
    "<div class=\"alert alert-success\">\n",
    "\n",
    "**✔️ Комментарий ревьюера ✔️**\n",
    "   \n",
    "   Очень хорошо, что не забываешь проверять данные на наличие пропусков, дубликатов, а также пользователей, которые могли попасть в несколько групп одновременно.  Молодец, что приводишь даты к нужному формату - предобработка проведена отлично.\n",
    "\n",
    "</div>"
   ]
  },
  {
   "cell_type": "markdown",
   "metadata": {},
   "source": [
    "### Шаг 3. Изучите и проверьте данные\n",
    "\n",
    "- Сколько всего событий в логе?\n",
    "- Сколько всего пользователей в логе?\n",
    "- Сколько в среднем событий приходится на пользователя?\n",
    "- Данными за какой период вы располагаете? Найдите максимальную и минимальную дату. Постройте гистограмму по дате и времени. Можно ли быть уверенным, что у вас одинаково полные данные за весь период? Технически в логи новых дней по некоторым пользователям могут «доезжать» события из прошлого — это может «перекашивать данные». Определите, с какого момента данные полные и отбросьте более старые. Данными за какой период времени вы располагаете на самом деле?\n",
    "- Много ли событий и пользователей вы потеряли, отбросив старые данные?\n",
    "- Проверьте, что у вас есть пользователи из всех трёх экспериментальных групп.\n"
   ]
  },
  {
   "cell_type": "markdown",
   "metadata": {},
   "source": [
    "Узнаем, сколько событий в логе и посмотрим, распределение событий по типам (дублирую из предыдущей части), сразу же посмотрим на количество событий на пользователя и построим график распределения"
   ]
  },
  {
   "cell_type": "code",
   "execution_count": 76,
   "metadata": {},
   "outputs": [
    {
     "name": "stdout",
     "output_type": "stream",
     "text": [
      "Всего событий: 243713\n",
      "Всего уникальных пользователей: 7551\n",
      "Среднее количество событий на пользователя: 32\n"
     ]
    }
   ],
   "source": [
    "count_event = exp.shape[0]\n",
    "count_uid = len(exp['user'].unique())\n",
    "avg_uid_event = exp.groupby('user').agg({'event':'count'})\n",
    "\n",
    "print('Всего событий: {}\\n'\n",
    "      'Всего уникальных пользователей: {}\\n'\n",
    "      'Среднее количество событий на пользователя: {:.0f}'.format(count_event, count_uid, avg_uid_event['event'].mean()))"
   ]
  },
  {
   "cell_type": "code",
   "execution_count": 77,
   "metadata": {},
   "outputs": [
    {
     "data": {
      "text/plain": [
       "MainScreenAppear           119101\n",
       "OffersScreenAppear          46808\n",
       "CartScreenAppear            42668\n",
       "PaymentScreenSuccessful     34118\n",
       "Tutorial                     1018\n",
       "Name: event, dtype: int64"
      ]
     },
     "execution_count": 77,
     "metadata": {},
     "output_type": "execute_result"
    }
   ],
   "source": [
    "exp['event'].value_counts() "
   ]
  },
  {
   "cell_type": "markdown",
   "metadata": {},
   "source": [
    "Думаю, что стоит более детально (для лучшего понимания ситуации) посмотреть на пользователей и распределение количества событий."
   ]
  },
  {
   "cell_type": "code",
   "execution_count": 78,
   "metadata": {},
   "outputs": [
    {
     "data": {
      "application/vnd.plotly.v1+json": {
       "config": {
        "plotlyServerURL": "https://plot.ly"
       },
       "data": [
        {
         "hoverinfo": "all",
         "hovertemplate": "Количество событий: %{y}",
         "mode": "markers",
         "type": "scatter",
         "y": [
          1,
          5,
          47,
          6,
          137,
          10,
          9,
          29,
          10,
          126,
          79,
          1,
          13,
          12,
          25,
          5,
          9,
          29,
          8,
          24,
          46,
          3,
          3,
          54,
          26,
          44,
          17,
          25,
          42,
          14,
          31,
          26,
          33,
          24,
          23,
          35,
          30,
          18,
          61,
          7,
          5,
          34,
          20,
          5,
          25,
          13,
          21,
          47,
          6,
          71,
          12,
          12,
          69,
          6,
          4,
          4,
          73,
          14,
          98,
          14,
          24,
          24,
          23,
          18,
          52,
          5,
          3,
          33,
          39,
          139,
          30,
          49,
          9,
          27,
          58,
          16,
          32,
          2,
          19,
          19,
          26,
          15,
          6,
          23,
          25,
          30,
          4,
          8,
          39,
          12,
          15,
          20,
          44,
          3,
          5,
          7,
          22,
          19,
          14,
          4,
          7,
          33,
          23,
          105,
          35,
          16,
          30,
          10,
          27,
          59,
          33,
          35,
          19,
          51,
          12,
          12,
          20,
          9,
          34,
          28,
          4,
          6,
          5,
          24,
          17,
          42,
          59,
          15,
          23,
          4,
          90,
          1,
          18,
          58,
          60,
          31,
          2,
          41,
          31,
          3,
          54,
          4,
          39,
          36,
          34,
          3,
          24,
          1998,
          36,
          7,
          18,
          10,
          7,
          165,
          51,
          36,
          15,
          44,
          25,
          109,
          10,
          26,
          23,
          6,
          41,
          39,
          12,
          6,
          15,
          19,
          6,
          27,
          17,
          28,
          7,
          5,
          9,
          66,
          23,
          29,
          71,
          20,
          21,
          7,
          77,
          41,
          32,
          4,
          56,
          7,
          51,
          16,
          9,
          19,
          2,
          43,
          10,
          47,
          24,
          35,
          10,
          40,
          3,
          19,
          28,
          11,
          6,
          8,
          19,
          126,
          15,
          8,
          13,
          3,
          11,
          11,
          208,
          26,
          14,
          27,
          5,
          27,
          19,
          22,
          4,
          4,
          18,
          16,
          25,
          17,
          245,
          7,
          14,
          159,
          78,
          43,
          46,
          50,
          25,
          57,
          67,
          2,
          11,
          7,
          4,
          13,
          299,
          26,
          28,
          56,
          44,
          21,
          39,
          13,
          9,
          28,
          15,
          17,
          48,
          31,
          27,
          28,
          17,
          23,
          47,
          25,
          87,
          31,
          67,
          77,
          31,
          4,
          21,
          19,
          24,
          8,
          10,
          38,
          14,
          9,
          70,
          23,
          21,
          6,
          44,
          1,
          9,
          26,
          32,
          19,
          4,
          8,
          1,
          19,
          15,
          68,
          33,
          5,
          79,
          30,
          10,
          13,
          60,
          8,
          6,
          27,
          95,
          45,
          56,
          66,
          3,
          1,
          53,
          5,
          5,
          15,
          83,
          8,
          21,
          5,
          20,
          60,
          57,
          11,
          15,
          57,
          67,
          96,
          15,
          1,
          24,
          128,
          21,
          9,
          14,
          11,
          46,
          3,
          2,
          11,
          10,
          24,
          18,
          4,
          10,
          5,
          53,
          45,
          6,
          18,
          3,
          19,
          11,
          10,
          45,
          8,
          8,
          33,
          41,
          15,
          18,
          49,
          52,
          63,
          83,
          9,
          14,
          78,
          67,
          83,
          4,
          20,
          7,
          18,
          27,
          27,
          14,
          24,
          67,
          18,
          136,
          14,
          4,
          13,
          72,
          7,
          58,
          22,
          29,
          17,
          5,
          55,
          33,
          233,
          3,
          32,
          22,
          31,
          4,
          48,
          13,
          51,
          39,
          10,
          17,
          40,
          4,
          33,
          78,
          8,
          63,
          21,
          34,
          20,
          5,
          40,
          3,
          4,
          13,
          15,
          23,
          20,
          11,
          15,
          13,
          33,
          11,
          92,
          47,
          29,
          2,
          17,
          18,
          40,
          9,
          53,
          80,
          4,
          54,
          6,
          14,
          57,
          6,
          26,
          18,
          30,
          25,
          3,
          9,
          159,
          10,
          43,
          13,
          10,
          16,
          25,
          26,
          9,
          8,
          23,
          22,
          42,
          10,
          7,
          19,
          14,
          51,
          238,
          313,
          51,
          6,
          12,
          122,
          4,
          27,
          30,
          31,
          121,
          22,
          31,
          1,
          43,
          123,
          1,
          17,
          41,
          12,
          14,
          20,
          31,
          60,
          41,
          24,
          17,
          44,
          54,
          22,
          11,
          8,
          8,
          67,
          9,
          13,
          29,
          39,
          22,
          31,
          11,
          32,
          89,
          9,
          5,
          14,
          6,
          16,
          25,
          85,
          65,
          496,
          100,
          29,
          6,
          4,
          17,
          89,
          8,
          19,
          47,
          3,
          8,
          23,
          4,
          36,
          5,
          5,
          19,
          5,
          8,
          30,
          43,
          4,
          34,
          18,
          62,
          18,
          14,
          43,
          74,
          21,
          42,
          51,
          9,
          25,
          32,
          26,
          1,
          44,
          58,
          44,
          87,
          26,
          65,
          17,
          4,
          51,
          4,
          22,
          44,
          12,
          7,
          5,
          17,
          30,
          25,
          60,
          18,
          26,
          20,
          39,
          18,
          26,
          61,
          53,
          70,
          23,
          7,
          2,
          19,
          30,
          10,
          17,
          21,
          1,
          21,
          7,
          2,
          16,
          5,
          26,
          5,
          11,
          29,
          36,
          25,
          142,
          28,
          31,
          4,
          106,
          33,
          30,
          60,
          103,
          18,
          59,
          7,
          39,
          11,
          9,
          18,
          8,
          36,
          17,
          37,
          41,
          12,
          5,
          60,
          47,
          45,
          11,
          12,
          12,
          5,
          84,
          21,
          16,
          25,
          29,
          38,
          6,
          14,
          10,
          26,
          14,
          23,
          37,
          57,
          16,
          6,
          6,
          27,
          23,
          11,
          52,
          4,
          243,
          14,
          6,
          10,
          17,
          23,
          38,
          73,
          47,
          34,
          3,
          12,
          76,
          52,
          10,
          5,
          11,
          16,
          58,
          8,
          9,
          39,
          16,
          60,
          3,
          25,
          4,
          44,
          51,
          13,
          44,
          13,
          18,
          29,
          26,
          42,
          17,
          35,
          6,
          8,
          53,
          38,
          50,
          98,
          9,
          68,
          13,
          15,
          3,
          22,
          45,
          19,
          5,
          9,
          4,
          44,
          1,
          25,
          20,
          13,
          21,
          2,
          41,
          13,
          37,
          22,
          30,
          17,
          51,
          5,
          7,
          50,
          71,
          20,
          156,
          101,
          15,
          5,
          110,
          28,
          33,
          14,
          25,
          7,
          20,
          69,
          14,
          25,
          127,
          6,
          1,
          6,
          25,
          19,
          83,
          11,
          8,
          12,
          10,
          15,
          12,
          46,
          7,
          12,
          13,
          27,
          40,
          43,
          18,
          8,
          5,
          9,
          79,
          8,
          21,
          1,
          18,
          59,
          7,
          3,
          16,
          6,
          17,
          57,
          10,
          7,
          5,
          3,
          13,
          10,
          3,
          24,
          37,
          31,
          5,
          45,
          47,
          8,
          15,
          11,
          130,
          5,
          17,
          7,
          15,
          16,
          18,
          7,
          179,
          26,
          34,
          2,
          9,
          20,
          6,
          7,
          7,
          118,
          11,
          33,
          17,
          100,
          98,
          8,
          34,
          21,
          854,
          62,
          43,
          57,
          24,
          46,
          2,
          28,
          26,
          37,
          26,
          8,
          1,
          4,
          8,
          103,
          33,
          38,
          46,
          28,
          5,
          84,
          12,
          25,
          29,
          10,
          9,
          18,
          1,
          6,
          24,
          59,
          11,
          7,
          12,
          21,
          29,
          6,
          661,
          41,
          13,
          48,
          16,
          33,
          11,
          37,
          3,
          12,
          3,
          28,
          31,
          22,
          25,
          23,
          17,
          4,
          12,
          16,
          13,
          9,
          27,
          18,
          19,
          20,
          27,
          13,
          4,
          6,
          37,
          59,
          3,
          25,
          39,
          5,
          94,
          16,
          22,
          4,
          1,
          5,
          87,
          11,
          7,
          8,
          5,
          6,
          31,
          5,
          53,
          23,
          14,
          43,
          92,
          7,
          23,
          15,
          4,
          49,
          38,
          2,
          59,
          14,
          1,
          15,
          18,
          6,
          12,
          95,
          3,
          102,
          76,
          103,
          13,
          11,
          42,
          76,
          7,
          26,
          39,
          68,
          15,
          41,
          7,
          6,
          12,
          31,
          32,
          6,
          1,
          3,
          29,
          17,
          55,
          7,
          28,
          23,
          38,
          20,
          15,
          34,
          14,
          19,
          170,
          3,
          53,
          28,
          87,
          21,
          103,
          22,
          22,
          32,
          15,
          20,
          17,
          16,
          31,
          61,
          67,
          16,
          3,
          5,
          39,
          7,
          5,
          5,
          31,
          17,
          5,
          15,
          25,
          34,
          8,
          24,
          3,
          5,
          14,
          9,
          32,
          3,
          9,
          2,
          8,
          26,
          10,
          10,
          5,
          8,
          5,
          15,
          8,
          6,
          5,
          5,
          22,
          17,
          43,
          48,
          8,
          3,
          30,
          15,
          5,
          6,
          17,
          15,
          28,
          72,
          25,
          4,
          15,
          13,
          16,
          26,
          12,
          44,
          4,
          45,
          14,
          31,
          25,
          5,
          31,
          23,
          27,
          24,
          12,
          8,
          63,
          18,
          5,
          4,
          90,
          33,
          32,
          30,
          34,
          9,
          26,
          31,
          36,
          32,
          128,
          5,
          12,
          3,
          12,
          4,
          36,
          7,
          52,
          9,
          191,
          2,
          25,
          35,
          43,
          14,
          42,
          20,
          7,
          13,
          50,
          23,
          65,
          7,
          22,
          9,
          6,
          58,
          25,
          42,
          6,
          10,
          29,
          16,
          15,
          15,
          16,
          2,
          12,
          35,
          4,
          31,
          23,
          41,
          45,
          9,
          4,
          62,
          34,
          38,
          5,
          16,
          89,
          3,
          17,
          11,
          37,
          12,
          4,
          24,
          65,
          65,
          19,
          22,
          267,
          7,
          7,
          23,
          37,
          41,
          16,
          35,
          26,
          55,
          6,
          82,
          7,
          3,
          40,
          127,
          109,
          66,
          164,
          3,
          1,
          65,
          77,
          30,
          50,
          28,
          37,
          6,
          15,
          9,
          23,
          4,
          25,
          41,
          13,
          24,
          14,
          39,
          30,
          71,
          26,
          29,
          3,
          56,
          43,
          45,
          51,
          9,
          62,
          9,
          19,
          94,
          26,
          6,
          15,
          31,
          11,
          18,
          52,
          69,
          6,
          179,
          13,
          28,
          88,
          12,
          65,
          8,
          15,
          12,
          75,
          23,
          31,
          4,
          73,
          5,
          58,
          3,
          8,
          21,
          8,
          28,
          12,
          35,
          5,
          21,
          18,
          9,
          208,
          14,
          37,
          11,
          5,
          5,
          5,
          13,
          24,
          4,
          94,
          31,
          29,
          42,
          16,
          13,
          71,
          5,
          18,
          10,
          60,
          33,
          13,
          3,
          22,
          6,
          37,
          90,
          24,
          36,
          16,
          8,
          8,
          11,
          108,
          6,
          13,
          60,
          12,
          10,
          28,
          6,
          5,
          50,
          65,
          20,
          2,
          39,
          19,
          16,
          63,
          15,
          18,
          9,
          7,
          9,
          105,
          102,
          1,
          20,
          30,
          7,
          14,
          32,
          25,
          12,
          93,
          23,
          16,
          26,
          50,
          33,
          8,
          9,
          10,
          24,
          8,
          13,
          77,
          37,
          30,
          1,
          46,
          32,
          7,
          15,
          57,
          10,
          18,
          6,
          2,
          59,
          29,
          170,
          28,
          11,
          1,
          15,
          7,
          32,
          20,
          30,
          9,
          13,
          21,
          19,
          14,
          10,
          21,
          59,
          19,
          14,
          80,
          24,
          8,
          113,
          68,
          7,
          2,
          5,
          220,
          31,
          13,
          7,
          20,
          6,
          68,
          54,
          7,
          8,
          36,
          67,
          10,
          15,
          24,
          31,
          22,
          88,
          24,
          103,
          65,
          51,
          44,
          32,
          5,
          23,
          1,
          22,
          226,
          2,
          12,
          108,
          6,
          10,
          35,
          16,
          8,
          36,
          26,
          10,
          5,
          11,
          10,
          19,
          14,
          18,
          24,
          74,
          6,
          20,
          19,
          21,
          89,
          44,
          31,
          1221,
          18,
          3,
          8,
          50,
          111,
          1,
          1,
          74,
          22,
          12,
          20,
          75,
          27,
          16,
          22,
          1,
          15,
          10,
          43,
          4,
          24,
          11,
          10,
          11,
          9,
          15,
          10,
          29,
          21,
          62,
          38,
          17,
          33,
          34,
          6,
          26,
          22,
          47,
          24,
          2,
          4,
          32,
          17,
          13,
          27,
          33,
          5,
          33,
          5,
          10,
          41,
          19,
          84,
          18,
          7,
          36,
          23,
          2,
          66,
          24,
          1,
          19,
          17,
          39,
          4,
          69,
          21,
          14,
          71,
          18,
          14,
          46,
          12,
          17,
          78,
          16,
          31,
          2,
          4,
          7,
          5,
          66,
          6,
          20,
          11,
          29,
          37,
          59,
          63,
          40,
          6,
          116,
          28,
          40,
          321,
          61,
          6,
          17,
          6,
          53,
          57,
          29,
          34,
          19,
          75,
          5,
          4,
          13,
          55,
          14,
          27,
          36,
          26,
          2,
          14,
          13,
          14,
          64,
          3,
          21,
          29,
          49,
          2,
          30,
          38,
          11,
          25,
          16,
          24,
          29,
          8,
          31,
          17,
          13,
          5,
          27,
          4,
          1,
          6,
          29,
          42,
          60,
          20,
          28,
          25,
          3,
          41,
          38,
          8,
          24,
          35,
          17,
          17,
          56,
          45,
          28,
          63,
          67,
          26,
          21,
          42,
          41,
          15,
          9,
          10,
          23,
          45,
          2,
          29,
          15,
          50,
          11,
          14,
          39,
          6,
          11,
          2,
          152,
          22,
          24,
          42,
          7,
          40,
          106,
          36,
          42,
          52,
          20,
          16,
          729,
          3,
          47,
          15,
          142,
          20,
          35,
          4,
          5,
          23,
          11,
          37,
          8,
          71,
          26,
          95,
          28,
          48,
          73,
          20,
          18,
          16,
          10,
          33,
          9,
          5,
          5,
          14,
          15,
          1,
          8,
          2,
          33,
          8,
          1,
          5,
          42,
          52,
          4,
          16,
          10,
          25,
          15,
          6,
          47,
          5,
          7,
          5,
          19,
          42,
          88,
          51,
          12,
          16,
          2,
          8,
          15,
          21,
          3,
          5,
          26,
          9,
          7,
          34,
          21,
          15,
          18,
          9,
          36,
          23,
          9,
          27,
          1,
          14,
          6,
          15,
          42,
          12,
          11,
          17,
          84,
          12,
          60,
          7,
          17,
          4,
          20,
          64,
          15,
          93,
          23,
          62,
          6,
          8,
          13,
          20,
          13,
          7,
          8,
          16,
          4,
          50,
          16,
          38,
          27,
          6,
          8,
          7,
          6,
          13,
          10,
          33,
          12,
          6,
          16,
          18,
          20,
          4,
          29,
          29,
          23,
          1,
          52,
          16,
          63,
          34,
          3,
          19,
          15,
          20,
          133,
          101,
          40,
          12,
          23,
          9,
          51,
          38,
          19,
          18,
          58,
          2,
          5,
          12,
          6,
          27,
          2,
          28,
          39,
          5,
          8,
          25,
          68,
          21,
          8,
          7,
          18,
          27,
          13,
          7,
          29,
          124,
          17,
          28,
          26,
          14,
          19,
          21,
          3,
          45,
          18,
          124,
          42,
          11,
          73,
          6,
          11,
          19,
          2,
          10,
          5,
          90,
          27,
          29,
          3,
          27,
          8,
          33,
          64,
          2,
          11,
          7,
          7,
          44,
          31,
          20,
          38,
          18,
          45,
          45,
          24,
          15,
          32,
          7,
          10,
          2,
          2,
          9,
          28,
          1,
          27,
          5,
          16,
          5,
          15,
          33,
          4,
          26,
          1,
          75,
          21,
          81,
          9,
          23,
          7,
          54,
          26,
          23,
          28,
          58,
          19,
          12,
          15,
          116,
          175,
          39,
          53,
          658,
          27,
          11,
          31,
          5,
          37,
          13,
          2,
          6,
          35,
          34,
          7,
          17,
          8,
          4,
          41,
          4,
          156,
          62,
          27,
          19,
          13,
          44,
          36,
          10,
          2,
          16,
          55,
          3,
          29,
          19,
          39,
          7,
          23,
          33,
          50,
          6,
          83,
          100,
          26,
          11,
          33,
          43,
          28,
          27,
          89,
          9,
          19,
          192,
          34,
          53,
          6,
          78,
          15,
          47,
          14,
          53,
          32,
          134,
          7,
          14,
          37,
          24,
          50,
          7,
          62,
          9,
          15,
          3,
          65,
          28,
          36,
          10,
          55,
          33,
          51,
          16,
          1,
          6,
          38,
          25,
          22,
          2,
          5,
          119,
          19,
          10,
          33,
          36,
          18,
          24,
          20,
          5,
          11,
          22,
          11,
          61,
          42,
          11,
          30,
          14,
          28,
          13,
          2,
          195,
          18,
          17,
          18,
          94,
          81,
          2,
          10,
          10,
          33,
          19,
          20,
          203,
          9,
          26,
          279,
          18,
          28,
          1,
          45,
          21,
          10,
          5,
          38,
          2,
          19,
          25,
          67,
          42,
          8,
          7,
          2,
          23,
          25,
          6,
          9,
          33,
          4,
          18,
          7,
          9,
          59,
          4,
          12,
          81,
          10,
          29,
          41,
          30,
          61,
          10,
          17,
          58,
          54,
          40,
          12,
          11,
          9,
          32,
          29,
          10,
          5,
          17,
          3,
          10,
          7,
          5,
          26,
          6,
          5,
          32,
          3,
          13,
          12,
          18,
          38,
          15,
          17,
          57,
          46,
          42,
          14,
          19,
          26,
          49,
          62,
          49,
          8,
          3,
          16,
          2,
          3,
          18,
          48,
          39,
          16,
          5,
          4,
          5,
          172,
          72,
          50,
          10,
          2,
          7,
          5,
          30,
          17,
          86,
          25,
          26,
          42,
          18,
          48,
          12,
          12,
          53,
          17,
          45,
          7,
          7,
          11,
          13,
          4,
          24,
          19,
          24,
          29,
          30,
          12,
          18,
          28,
          38,
          10,
          9,
          33,
          21,
          5,
          54,
          167,
          27,
          31,
          29,
          18,
          52,
          18,
          5,
          66,
          5,
          29,
          3,
          3,
          2,
          21,
          4,
          31,
          7,
          1,
          23,
          70,
          26,
          14,
          3,
          83,
          69,
          14,
          3,
          25,
          4,
          19,
          14,
          34,
          42,
          102,
          35,
          12,
          65,
          68,
          57,
          20,
          7,
          34,
          42,
          3,
          10,
          17,
          47,
          60,
          19,
          3,
          38,
          35,
          12,
          20,
          35,
          2,
          19,
          47,
          7,
          6,
          43,
          12,
          50,
          15,
          5,
          15,
          28,
          26,
          36,
          43,
          9,
          14,
          6,
          6,
          21,
          31,
          43,
          40,
          2,
          7,
          58,
          39,
          7,
          26,
          4,
          18,
          43,
          121,
          47,
          36,
          84,
          10,
          8,
          20,
          5,
          20,
          32,
          7,
          20,
          3,
          28,
          21,
          7,
          6,
          15,
          7,
          20,
          20,
          25,
          20,
          22,
          81,
          6,
          14,
          4,
          38,
          8,
          79,
          21,
          5,
          4,
          1,
          27,
          9,
          23,
          8,
          30,
          80,
          30,
          529,
          4,
          12,
          28,
          172,
          15,
          17,
          27,
          8,
          24,
          29,
          30,
          9,
          17,
          19,
          4,
          9,
          9,
          32,
          30,
          16,
          14,
          34,
          54,
          55,
          12,
          3,
          32,
          16,
          26,
          22,
          21,
          5,
          12,
          34,
          8,
          15,
          234,
          12,
          2,
          12,
          76,
          57,
          73,
          8,
          78,
          14,
          62,
          30,
          52,
          44,
          6,
          31,
          106,
          14,
          79,
          38,
          19,
          45,
          39,
          41,
          15,
          6,
          42,
          14,
          45,
          3,
          8,
          16,
          5,
          11,
          11,
          54,
          6,
          8,
          153,
          4,
          12,
          20,
          3,
          29,
          72,
          37,
          28,
          7,
          22,
          85,
          5,
          11,
          13,
          45,
          81,
          35,
          36,
          7,
          14,
          4,
          56,
          36,
          17,
          3,
          4,
          12,
          44,
          4,
          15,
          10,
          8,
          23,
          6,
          489,
          8,
          18,
          6,
          6,
          35,
          30,
          8,
          14,
          11,
          26,
          72,
          22,
          51,
          8,
          8,
          53,
          34,
          29,
          10,
          7,
          30,
          31,
          19,
          7,
          4,
          12,
          5,
          3,
          28,
          29,
          7,
          34,
          19,
          28,
          46,
          10,
          29,
          29,
          19,
          6,
          20,
          2,
          56,
          15,
          87,
          3,
          2,
          31,
          102,
          99,
          5,
          12,
          24,
          34,
          1,
          70,
          17,
          6,
          7,
          8,
          3,
          61,
          19,
          15,
          21,
          4,
          43,
          45,
          43,
          32,
          8,
          16,
          43,
          40,
          24,
          16,
          16,
          22,
          54,
          39,
          5,
          173,
          28,
          54,
          93,
          67,
          3,
          11,
          24,
          11,
          18,
          53,
          80,
          29,
          12,
          15,
          17,
          11,
          21,
          211,
          82,
          4,
          14,
          28,
          23,
          62,
          20,
          89,
          25,
          17,
          21,
          17,
          5,
          103,
          23,
          9,
          15,
          91,
          46,
          46,
          6,
          16,
          50,
          28,
          11,
          136,
          15,
          110,
          48,
          32,
          38,
          58,
          229,
          8,
          42,
          8,
          8,
          9,
          15,
          53,
          76,
          71,
          7,
          3,
          4,
          9,
          149,
          5,
          28,
          7,
          7,
          27,
          34,
          9,
          71,
          29,
          42,
          57,
          9,
          14,
          16,
          74,
          40,
          17,
          11,
          12,
          18,
          18,
          5,
          20,
          67,
          18,
          14,
          5,
          47,
          48,
          25,
          11,
          30,
          12,
          3,
          23,
          9,
          2,
          52,
          55,
          7,
          4,
          23,
          47,
          6,
          22,
          22,
          57,
          29,
          30,
          68,
          56,
          30,
          11,
          16,
          7,
          36,
          7,
          24,
          33,
          19,
          13,
          13,
          11,
          35,
          9,
          7,
          43,
          110,
          20,
          24,
          11,
          44,
          133,
          35,
          64,
          11,
          13,
          29,
          17,
          26,
          75,
          3,
          4,
          7,
          413,
          13,
          8,
          36,
          5,
          24,
          14,
          15,
          9,
          32,
          28,
          24,
          81,
          8,
          3,
          26,
          24,
          34,
          13,
          12,
          32,
          6,
          32,
          16,
          9,
          17,
          7,
          18,
          55,
          12,
          7,
          24,
          13,
          65,
          14,
          6,
          4,
          17,
          30,
          33,
          56,
          23,
          37,
          7,
          9,
          11,
          11,
          43,
          9,
          4,
          18,
          29,
          18,
          10,
          6,
          15,
          32,
          36,
          57,
          33,
          23,
          7,
          5,
          119,
          43,
          38,
          7,
          14,
          4,
          18,
          101,
          6,
          24,
          125,
          55,
          19,
          43,
          95,
          28,
          10,
          7,
          16,
          42,
          5,
          29,
          8,
          38,
          19,
          3,
          38,
          54,
          17,
          3,
          8,
          65,
          5,
          109,
          42,
          5,
          24,
          46,
          56,
          16,
          2,
          4,
          23,
          10,
          1,
          1186,
          62,
          3,
          21,
          15,
          13,
          9,
          2,
          1,
          118,
          9,
          79,
          20,
          6,
          8,
          23,
          11,
          27,
          38,
          35,
          6,
          56,
          38,
          12,
          55,
          222,
          65,
          11,
          19,
          42,
          52,
          2,
          12,
          32,
          20,
          46,
          239,
          13,
          130,
          17,
          214,
          8,
          98,
          18,
          28,
          7,
          2,
          19,
          9,
          1,
          15,
          9,
          62,
          24,
          77,
          23,
          1,
          42,
          16,
          27,
          27,
          28,
          18,
          10,
          18,
          8,
          119,
          3,
          12,
          1,
          16,
          8,
          75,
          16,
          30,
          66,
          59,
          27,
          8,
          2,
          10,
          12,
          90,
          34,
          18,
          17,
          181,
          39,
          31,
          7,
          13,
          27,
          15,
          17,
          10,
          36,
          48,
          118,
          8,
          12,
          16,
          27,
          42,
          8,
          18,
          7,
          28,
          66,
          36,
          11,
          17,
          10,
          2,
          40,
          22,
          32,
          49,
          14,
          17,
          8,
          48,
          3,
          30,
          46,
          69,
          59,
          25,
          27,
          8,
          64,
          37,
          198,
          3,
          1,
          35,
          33,
          21,
          8,
          20,
          11,
          44,
          47,
          46,
          9,
          1,
          35,
          188,
          30,
          5,
          9,
          12,
          8,
          53,
          2,
          68,
          6,
          702,
          6,
          14,
          18,
          2,
          41,
          46,
          22,
          3,
          30,
          17,
          26,
          16,
          13,
          22,
          39,
          18,
          14,
          17,
          80,
          15,
          54,
          35,
          2,
          10,
          29,
          1,
          29,
          13,
          17,
          13,
          15,
          30,
          5,
          20,
          12,
          9,
          8,
          16,
          54,
          14,
          36,
          31,
          9,
          5,
          51,
          20,
          32,
          77,
          21,
          7,
          29,
          31,
          35,
          47,
          7,
          27,
          15,
          22,
          14,
          91,
          25,
          25,
          9,
          12,
          3,
          15,
          29,
          39,
          17,
          7,
          16,
          27,
          48,
          4,
          10,
          34,
          20,
          3,
          5,
          22,
          21,
          8,
          661,
          59,
          38,
          99,
          17,
          6,
          42,
          6,
          70,
          12,
          16,
          4,
          26,
          10,
          8,
          9,
          8,
          35,
          34,
          98,
          23,
          39,
          160,
          48,
          14,
          83,
          18,
          19,
          20,
          12,
          19,
          29,
          8,
          27,
          4,
          25,
          26,
          25,
          19,
          11,
          18,
          9,
          25,
          51,
          22,
          14,
          59,
          62,
          18,
          7,
          15,
          31,
          29,
          12,
          26,
          19,
          33,
          62,
          4,
          8,
          22,
          17,
          11,
          18,
          10,
          9,
          33,
          16,
          42,
          91,
          31,
          16,
          5,
          29,
          10,
          3,
          8,
          13,
          27,
          83,
          46,
          2,
          15,
          3,
          6,
          42,
          7,
          37,
          41,
          24,
          6,
          35,
          25,
          12,
          132,
          4,
          3,
          36,
          3,
          38,
          60,
          27,
          15,
          8,
          4,
          8,
          56,
          4,
          69,
          24,
          10,
          15,
          16,
          9,
          39,
          4,
          9,
          16,
          4,
          8,
          10,
          11,
          29,
          8,
          75,
          32,
          20,
          70,
          11,
          73,
          87,
          40,
          23,
          12,
          5,
          4,
          16,
          5,
          13,
          131,
          9,
          83,
          41,
          87,
          36,
          1,
          29,
          107,
          5,
          15,
          25,
          4,
          6,
          22,
          2,
          11,
          199,
          132,
          7,
          25,
          10,
          20,
          7,
          14,
          40,
          1,
          23,
          61,
          38,
          8,
          33,
          4,
          3,
          42,
          43,
          6,
          24,
          27,
          56,
          22,
          37,
          12,
          20,
          13,
          27,
          14,
          6,
          17,
          38,
          18,
          36,
          12,
          16,
          18,
          22,
          27,
          93,
          14,
          5,
          19,
          7,
          5,
          67,
          20,
          5,
          18,
          10,
          51,
          5,
          38,
          29,
          9,
          34,
          49,
          18,
          10,
          11,
          121,
          7,
          83,
          19,
          33,
          3,
          81,
          44,
          10,
          11,
          3,
          33,
          22,
          4,
          15,
          27,
          17,
          9,
          50,
          5,
          37,
          7,
          13,
          14,
          50,
          9,
          87,
          6,
          7,
          47,
          7,
          55,
          89,
          28,
          6,
          191,
          23,
          25,
          50,
          15,
          12,
          61,
          25,
          21,
          90,
          20,
          569,
          7,
          23,
          2,
          44,
          18,
          12,
          23,
          27,
          1,
          50,
          3,
          30,
          32,
          6,
          9,
          42,
          8,
          48,
          8,
          120,
          36,
          27,
          55,
          40,
          3,
          29,
          45,
          10,
          55,
          25,
          6,
          37,
          3,
          14,
          19,
          29,
          56,
          28,
          4,
          3,
          30,
          13,
          178,
          17,
          16,
          21,
          39,
          46,
          34,
          68,
          77,
          81,
          11,
          14,
          10,
          30,
          6,
          26,
          13,
          99,
          8,
          22,
          26,
          9,
          21,
          40,
          43,
          39,
          3,
          4,
          117,
          8,
          61,
          5,
          5,
          8,
          6,
          47,
          10,
          23,
          1,
          4,
          9,
          9,
          10,
          10,
          1,
          32,
          18,
          112,
          13,
          17,
          38,
          4,
          54,
          15,
          34,
          10,
          4,
          10,
          19,
          21,
          28,
          3,
          10,
          12,
          23,
          32,
          2,
          16,
          4,
          10,
          8,
          12,
          36,
          14,
          37,
          15,
          22,
          7,
          58,
          11,
          8,
          20,
          10,
          14,
          37,
          21,
          46,
          57,
          28,
          1,
          11,
          1,
          30,
          47,
          16,
          6,
          17,
          12,
          6,
          17,
          3,
          38,
          9,
          13,
          29,
          4,
          7,
          73,
          16,
          115,
          22,
          28,
          24,
          73,
          1,
          87,
          44,
          64,
          48,
          14,
          7,
          62,
          7,
          418,
          30,
          22,
          43,
          24,
          18,
          20,
          62,
          9,
          30,
          40,
          78,
          14,
          50,
          12,
          15,
          111,
          58,
          14,
          43,
          19,
          27,
          16,
          18,
          9,
          6,
          25,
          17,
          1,
          33,
          20,
          22,
          17,
          10,
          12,
          25,
          61,
          2,
          5,
          28,
          52,
          19,
          33,
          18,
          60,
          14,
          14,
          5,
          14,
          28,
          6,
          16,
          8,
          12,
          28,
          29,
          19,
          34,
          18,
          15,
          21,
          9,
          8,
          73,
          47,
          44,
          34,
          4,
          17,
          15,
          75,
          30,
          9,
          16,
          2,
          13,
          12,
          23,
          29,
          81,
          26,
          44,
          10,
          34,
          46,
          52,
          12,
          24,
          15,
          22,
          51,
          12,
          58,
          380,
          33,
          99,
          7,
          3,
          13,
          7,
          4,
          40,
          49,
          8,
          28,
          66,
          33,
          10,
          101,
          39,
          112,
          32,
          26,
          12,
          7,
          104,
          29,
          40,
          45,
          20,
          88,
          23,
          20,
          11,
          28,
          39,
          55,
          29,
          6,
          11,
          23,
          40,
          15,
          32,
          8,
          17,
          4,
          10,
          11,
          109,
          9,
          21,
          28,
          55,
          27,
          11,
          59,
          2,
          50,
          16,
          29,
          42,
          46,
          2,
          13,
          9,
          48,
          3,
          35,
          24,
          4,
          17,
          15,
          1,
          21,
          7,
          67,
          11,
          9,
          40,
          25,
          46,
          21,
          5,
          35,
          102,
          14,
          14,
          19,
          11,
          10,
          9,
          8,
          13,
          8,
          28,
          18,
          13,
          26,
          29,
          24,
          28,
          16,
          7,
          9,
          86,
          110,
          183,
          12,
          33,
          11,
          33,
          3,
          1,
          109,
          21,
          18,
          9,
          25,
          55,
          35,
          7,
          31,
          10,
          7,
          39,
          9,
          4,
          11,
          3,
          8,
          7,
          9,
          30,
          6,
          2,
          57,
          39,
          27,
          15,
          13,
          6,
          11,
          30,
          210,
          32,
          42,
          16,
          62,
          63,
          7,
          8,
          15,
          65,
          12,
          4,
          7,
          28,
          127,
          13,
          22,
          37,
          70,
          20,
          12,
          16,
          64,
          7,
          2,
          124,
          14,
          7,
          19,
          14,
          2,
          79,
          27,
          57,
          18,
          47,
          59,
          3,
          21,
          128,
          4,
          7,
          6,
          12,
          2,
          31,
          39,
          6,
          45,
          18,
          3,
          7,
          29,
          77,
          8,
          27,
          31,
          39,
          39,
          7,
          271,
          5,
          24,
          6,
          5,
          70,
          14,
          78,
          20,
          16,
          12,
          36,
          59,
          88,
          68,
          12,
          32,
          11,
          28,
          3,
          5,
          4,
          3,
          10,
          18,
          35,
          111,
          14,
          68,
          2,
          1,
          15,
          82,
          13,
          32,
          4,
          16,
          28,
          38,
          28,
          8,
          226,
          215,
          47,
          31,
          14,
          13,
          12,
          12,
          5,
          23,
          8,
          42,
          9,
          2,
          38,
          4,
          116,
          18,
          2,
          51,
          40,
          15,
          19,
          8,
          19,
          17,
          23,
          23,
          19,
          48,
          3,
          266,
          28,
          13,
          37,
          114,
          55,
          14,
          9,
          4,
          14,
          6,
          21,
          15,
          27,
          4,
          19,
          11,
          116,
          35,
          5,
          41,
          19,
          38,
          8,
          25,
          19,
          7,
          28,
          9,
          2,
          16,
          15,
          28,
          19,
          99,
          26,
          28,
          5,
          45,
          1768,
          38,
          22,
          18,
          50,
          3,
          23,
          35,
          27,
          3,
          35,
          17,
          34,
          21,
          24,
          14,
          55,
          9,
          37,
          62,
          51,
          101,
          25,
          10,
          22,
          24,
          38,
          130,
          12,
          33,
          17,
          9,
          34,
          52,
          15,
          18,
          32,
          18,
          30,
          11,
          7,
          44,
          50,
          48,
          8,
          6,
          3,
          15,
          22,
          251,
          3,
          20,
          67,
          13,
          35,
          63,
          5,
          65,
          16,
          15,
          51,
          18,
          17,
          14,
          17,
          10,
          52,
          55,
          60,
          33,
          24,
          41,
          25,
          43,
          11,
          21,
          25,
          29,
          39,
          6,
          24,
          385,
          30,
          4,
          5,
          5,
          6,
          824,
          10,
          1,
          7,
          13,
          5,
          56,
          12,
          7,
          18,
          6,
          52,
          11,
          11,
          15,
          54,
          9,
          12,
          1,
          28,
          2,
          14,
          15,
          10,
          23,
          3,
          16,
          32,
          1,
          18,
          14,
          8,
          77,
          12,
          21,
          6,
          16,
          28,
          18,
          59,
          42,
          33,
          20,
          5,
          31,
          34,
          10,
          4,
          2,
          20,
          5,
          5,
          30,
          22,
          20,
          36,
          16,
          26,
          4,
          27,
          20,
          32,
          6,
          3,
          27,
          9,
          42,
          22,
          42,
          18,
          3,
          85,
          8,
          41,
          2,
          19,
          25,
          17,
          11,
          67,
          16,
          25,
          26,
          4,
          12,
          26,
          3,
          6,
          6,
          18,
          95,
          31,
          53,
          23,
          47,
          293,
          5,
          16,
          3,
          27,
          29,
          28,
          18,
          22,
          8,
          11,
          46,
          40,
          6,
          70,
          10,
          22,
          10,
          12,
          5,
          45,
          5,
          11,
          24,
          51,
          58,
          10,
          16,
          23,
          16,
          11,
          3,
          39,
          18,
          165,
          10,
          18,
          36,
          12,
          28,
          13,
          20,
          31,
          22,
          23,
          5,
          27,
          20,
          46,
          42,
          21,
          26,
          84,
          14,
          15,
          80,
          6,
          19,
          74,
          35,
          29,
          9,
          75,
          7,
          30,
          55,
          11,
          142,
          72,
          6,
          84,
          1,
          51,
          66,
          15,
          9,
          34,
          7,
          132,
          66,
          18,
          150,
          89,
          6,
          23,
          9,
          134,
          26,
          22,
          14,
          28,
          7,
          38,
          26,
          68,
          53,
          23,
          24,
          7,
          50,
          102,
          7,
          61,
          104,
          82,
          17,
          64,
          10,
          35,
          21,
          38,
          65,
          49,
          43,
          40,
          51,
          69,
          12,
          30,
          2,
          5,
          12,
          3,
          12,
          54,
          16,
          57,
          38,
          60,
          17,
          93,
          64,
          93,
          56,
          107,
          11,
          23,
          64,
          18,
          9,
          7,
          3,
          25,
          40,
          33,
          9,
          5,
          6,
          38,
          15,
          223,
          10,
          14,
          6,
          19,
          3,
          84,
          39,
          7,
          34,
          59,
          5,
          9,
          13,
          35,
          25,
          5,
          43,
          25,
          9,
          42,
          31,
          22,
          14,
          8,
          7,
          68,
          69,
          14,
          44,
          51,
          4,
          7,
          6,
          19,
          5,
          86,
          54,
          9,
          2,
          8,
          24,
          9,
          37,
          4,
          49,
          42,
          9,
          32,
          47,
          27,
          3,
          57,
          62,
          6,
          14,
          33,
          65,
          25,
          4,
          37,
          23,
          49,
          53,
          22,
          20,
          37,
          6,
          26,
          39,
          3,
          21,
          88,
          4,
          2,
          50,
          48,
          45,
          46,
          20,
          20,
          16,
          14,
          13,
          42,
          20,
          26,
          54,
          2,
          32,
          27,
          153,
          3,
          69,
          2,
          73,
          26,
          11,
          3,
          9,
          60,
          67,
          10,
          11,
          38,
          40,
          28,
          1,
          15,
          51,
          1,
          58,
          18,
          51,
          31,
          20,
          7,
          131,
          118,
          13,
          64,
          66,
          90,
          33,
          25,
          13,
          5,
          13,
          15,
          5,
          32,
          81,
          64,
          48,
          28,
          2,
          7,
          11,
          9,
          21,
          11,
          56,
          4,
          11,
          207,
          106,
          31,
          21,
          41,
          15,
          3,
          6,
          4,
          41,
          62,
          14,
          11,
          29,
          5,
          41,
          57,
          7,
          21,
          69,
          31,
          158,
          23,
          4,
          5,
          11,
          35,
          11,
          40,
          23,
          37,
          31,
          4,
          9,
          18,
          58,
          29,
          3,
          6,
          11,
          51,
          56,
          22,
          19,
          1,
          2,
          9,
          11,
          6,
          8,
          7,
          260,
          19,
          10,
          14,
          17,
          24,
          3,
          37,
          11,
          47,
          4,
          29,
          20,
          7,
          25,
          20,
          11,
          46,
          240,
          4,
          18,
          161,
          11,
          84,
          12,
          7,
          9,
          26,
          3,
          168,
          36,
          55,
          17,
          14,
          40,
          13,
          13,
          17,
          12,
          25,
          10,
          8,
          1,
          22,
          18,
          17,
          2,
          10,
          165,
          13,
          50,
          18,
          6,
          10,
          40,
          37,
          15,
          13,
          37,
          39,
          23,
          2,
          34,
          56,
          29,
          31,
          31,
          22,
          15,
          35,
          20,
          9,
          98,
          32,
          19,
          8,
          17,
          31,
          11,
          8,
          92,
          18,
          4,
          8,
          2,
          2,
          36,
          5,
          27,
          84,
          88,
          18,
          64,
          5,
          30,
          4,
          145,
          44,
          14,
          20,
          26,
          4,
          15,
          27,
          35,
          40,
          6,
          27,
          37,
          7,
          20,
          4,
          117,
          71,
          5,
          2,
          59,
          74,
          2,
          16,
          64,
          3,
          34,
          10,
          46,
          3,
          63,
          4,
          28,
          27,
          17,
          28,
          21,
          5,
          11,
          27,
          5,
          39,
          26,
          48,
          4,
          5,
          54,
          28,
          22,
          9,
          1,
          13,
          321,
          66,
          24,
          18,
          8,
          15,
          27,
          34,
          15,
          8,
          91,
          11,
          24,
          40,
          13,
          15,
          120,
          15,
          18,
          13,
          16,
          24,
          25,
          14,
          14,
          11,
          20,
          18,
          19,
          29,
          52,
          27,
          20,
          7,
          4,
          33,
          9,
          19,
          11,
          20,
          9,
          29,
          33,
          41,
          21,
          12,
          44,
          9,
          10,
          50,
          5,
          11,
          28,
          41,
          82,
          15,
          25,
          4,
          41,
          9,
          32,
          4,
          3,
          191,
          72,
          14,
          1,
          6,
          26,
          2,
          25,
          8,
          27,
          18,
          89,
          25,
          15,
          31,
          44,
          4,
          33,
          6,
          37,
          5,
          12,
          11,
          4,
          32,
          10,
          26,
          10,
          21,
          81,
          6,
          18,
          3,
          104,
          19,
          4,
          87,
          23,
          26,
          11,
          20,
          22,
          27,
          10,
          45,
          8,
          29,
          6,
          2,
          7,
          45,
          16,
          5,
          14,
          10,
          49,
          11,
          13,
          15,
          17,
          163,
          7,
          21,
          9,
          130,
          83,
          16,
          1,
          13,
          30,
          28,
          16,
          20,
          10,
          10,
          27,
          33,
          29,
          10,
          38,
          6,
          46,
          13,
          23,
          7,
          1,
          35,
          8,
          20,
          40,
          10,
          31,
          159,
          19,
          10,
          9,
          9,
          32,
          39,
          40,
          5,
          4,
          16,
          7,
          18,
          11,
          15,
          39,
          27,
          4,
          66,
          2,
          33,
          18,
          136,
          42,
          61,
          16,
          6,
          121,
          32,
          12,
          27,
          28,
          30,
          23,
          5,
          10,
          7,
          29,
          51,
          1,
          12,
          6,
          21,
          27,
          4,
          21,
          37,
          5,
          50,
          27,
          36,
          8,
          25,
          6,
          30,
          6,
          14,
          61,
          33,
          9,
          19,
          22,
          15,
          181,
          12,
          5,
          8,
          1,
          15,
          22,
          21,
          14,
          34,
          4,
          61,
          70,
          28,
          8,
          7,
          4,
          34,
          5,
          9,
          12,
          5,
          26,
          67,
          9,
          13,
          9,
          40,
          30,
          35,
          2,
          34,
          53,
          87,
          18,
          48,
          33,
          83,
          6,
          6,
          78,
          30,
          50,
          6,
          38,
          13,
          67,
          10,
          21,
          28,
          21,
          21,
          40,
          35,
          10,
          9,
          27,
          26,
          6,
          9,
          25,
          21,
          6,
          7,
          62,
          4,
          32,
          65,
          7,
          12,
          21,
          55,
          19,
          19,
          29,
          8,
          5,
          53,
          2,
          48,
          19,
          44,
          6,
          16,
          7,
          34,
          6,
          32,
          33,
          8,
          3,
          5,
          94,
          93,
          9,
          6,
          31,
          10,
          14,
          28,
          32,
          4,
          48,
          21,
          6,
          14,
          24,
          35,
          29,
          27,
          9,
          6,
          32,
          15,
          15,
          63,
          17,
          35,
          27,
          5,
          15,
          9,
          16,
          20,
          29,
          3,
          46,
          16,
          16,
          7,
          12,
          26,
          4,
          32,
          38,
          28,
          185,
          41,
          7,
          15,
          19,
          4,
          7,
          7,
          34,
          35,
          24,
          10,
          14,
          1,
          24,
          19,
          67,
          30,
          9,
          126,
          9,
          21,
          24,
          37,
          29,
          6,
          4,
          15,
          8,
          15,
          2,
          39,
          36,
          27,
          27,
          11,
          20,
          48,
          90,
          9,
          49,
          74,
          36,
          20,
          38,
          32,
          10,
          7,
          12,
          38,
          15,
          34,
          14,
          32,
          8,
          2,
          52,
          41,
          73,
          35,
          6,
          13,
          18,
          7,
          114,
          55,
          49,
          11,
          51,
          25,
          40,
          11,
          44,
          70,
          97,
          21,
          47,
          10,
          10,
          20,
          8,
          12,
          20,
          21,
          12,
          21,
          4,
          40,
          37,
          13,
          13,
          35,
          69,
          73,
          78,
          10,
          54,
          173,
          15,
          4,
          27,
          64,
          70,
          11,
          26,
          65,
          3,
          4,
          71,
          37,
          56,
          23,
          125,
          6,
          6,
          63,
          585,
          15,
          11,
          70,
          37,
          16,
          12,
          5,
          25,
          1,
          12,
          28,
          162,
          10,
          19,
          29,
          3,
          22,
          16,
          15,
          8,
          11,
          8,
          7,
          11,
          7,
          28,
          23,
          46,
          39,
          9,
          33,
          212,
          68,
          3,
          27,
          36,
          8,
          22,
          3,
          3,
          6,
          22,
          35,
          30,
          8,
          3,
          53,
          37,
          5,
          12,
          110,
          51,
          20,
          34,
          18,
          21,
          24,
          37,
          44,
          23,
          18,
          74,
          85,
          10,
          68,
          21,
          16,
          75,
          27,
          111,
          14,
          14,
          53,
          63,
          23,
          23,
          14,
          8,
          31,
          9,
          25,
          6,
          3,
          26,
          38,
          24,
          6,
          8,
          18,
          9,
          28,
          6,
          40,
          22,
          58,
          149,
          28,
          24,
          28,
          2,
          6,
          46,
          13,
          17,
          11,
          5,
          14,
          46,
          44,
          15,
          18,
          8,
          36,
          2,
          5,
          15,
          27,
          66,
          21,
          37,
          26,
          7,
          56,
          80,
          14,
          14,
          5,
          85,
          28,
          46,
          8,
          6,
          13,
          5,
          40,
          59,
          27,
          18,
          24,
          14,
          16,
          40,
          34,
          65,
          20,
          91,
          8,
          24,
          37,
          38,
          17,
          10,
          10,
          11,
          38,
          44,
          71,
          12,
          51,
          1,
          34,
          43,
          52,
          66,
          16,
          47,
          24,
          38,
          74,
          22,
          90,
          18,
          19,
          14,
          3,
          60,
          6,
          44,
          3,
          15,
          4,
          36,
          22,
          202,
          17,
          127,
          33,
          3,
          25,
          22,
          40,
          16,
          85,
          34,
          6,
          14,
          169,
          10,
          3,
          56,
          4,
          12,
          2,
          33,
          4,
          49,
          6,
          6,
          25,
          17,
          10,
          16,
          10,
          16,
          58,
          12,
          26,
          42,
          33,
          26,
          19,
          29,
          49,
          51,
          15,
          12,
          36,
          194,
          8,
          11,
          10,
          10,
          14,
          3,
          33,
          6,
          115,
          10,
          7,
          22,
          24,
          28,
          23,
          32,
          11,
          29,
          41,
          13,
          15,
          20,
          8,
          35,
          16,
          4,
          16,
          6,
          2307,
          54,
          34,
          3,
          15,
          14,
          52,
          29,
          14,
          10,
          14,
          36,
          11,
          84,
          4,
          39,
          165,
          23,
          22,
          39,
          8,
          11,
          3,
          25,
          26,
          90,
          19,
          58,
          17,
          18,
          21,
          17,
          44,
          4,
          32,
          22,
          6,
          48,
          3,
          17,
          6,
          93,
          27,
          4,
          7,
          10,
          25,
          14,
          15,
          96,
          11,
          12,
          13,
          52,
          25,
          17,
          10,
          20,
          60,
          15,
          8,
          27,
          83,
          4,
          49,
          53,
          4,
          47,
          2,
          72,
          33,
          36,
          54,
          104,
          13,
          23,
          3,
          5,
          10,
          71,
          3,
          4,
          12,
          15,
          9,
          15,
          13,
          4,
          7,
          7,
          5,
          6,
          4,
          2,
          5,
          9,
          27,
          18,
          58,
          10,
          7,
          42,
          27,
          17,
          8,
          186,
          37,
          2,
          89,
          61,
          60,
          1,
          2,
          26,
          6,
          31,
          18,
          22,
          80,
          86,
          35,
          14,
          47,
          18,
          19,
          30,
          20,
          15,
          29,
          15,
          8,
          28,
          12,
          19,
          35,
          28,
          2,
          39,
          16,
          40,
          26,
          6,
          6,
          56,
          12,
          12,
          34,
          4,
          31,
          11,
          5,
          85,
          64,
          10,
          19,
          25,
          10,
          45,
          12,
          113,
          43,
          5,
          28,
          46,
          21,
          47,
          30,
          10,
          30,
          42,
          18,
          3,
          29,
          4,
          4,
          180,
          7,
          42,
          94,
          32,
          16,
          6,
          32,
          12,
          9,
          6,
          28,
          40,
          121,
          55,
          24,
          28,
          36,
          5,
          8,
          8,
          44,
          9,
          11,
          44,
          21,
          40,
          11,
          9,
          9,
          193,
          216,
          17,
          19,
          56,
          41,
          74,
          14,
          6,
          62,
          6,
          48,
          9,
          8,
          20,
          18,
          468,
          54,
          74,
          33,
          15,
          4,
          51,
          30,
          18,
          39,
          12,
          25,
          17,
          15,
          61,
          10,
          82,
          2,
          62,
          7,
          17,
          16,
          16,
          65,
          33,
          10,
          3,
          37,
          5,
          4,
          22,
          15,
          34,
          32,
          28,
          11,
          60,
          30,
          34,
          55,
          53,
          8,
          37,
          10,
          8,
          63,
          7,
          11,
          19,
          44,
          59,
          7,
          1,
          8,
          44,
          1,
          21,
          12,
          68,
          4,
          38,
          83,
          11,
          15,
          15,
          32,
          78,
          7,
          81,
          23,
          20,
          64,
          19,
          12,
          23,
          7,
          11,
          37,
          4,
          31,
          208,
          32,
          16,
          2,
          1,
          16,
          41,
          62,
          2,
          105,
          17,
          9,
          20,
          15,
          27,
          4,
          33,
          12,
          20,
          54,
          14,
          62,
          28,
          2,
          8,
          13,
          8,
          69,
          168,
          10,
          160,
          86,
          32,
          10,
          18,
          24,
          3,
          44,
          20,
          25,
          5,
          87,
          21,
          13,
          15,
          41,
          13,
          2,
          6,
          33,
          12,
          13,
          14,
          3,
          55,
          28,
          27,
          18,
          15,
          25,
          32,
          2,
          18,
          10,
          62,
          15,
          8,
          38,
          13,
          81,
          24,
          10,
          13,
          22,
          33,
          41,
          9,
          36,
          17,
          13,
          17,
          10,
          4,
          79,
          15,
          5,
          15,
          23,
          24,
          91,
          10,
          13,
          13,
          38,
          43,
          9,
          11,
          36,
          2,
          17,
          6,
          22,
          46,
          62,
          5,
          12,
          83,
          31,
          14,
          37,
          11,
          19,
          9,
          2,
          42,
          19,
          4,
          29,
          9,
          12,
          5,
          58,
          120,
          29,
          49,
          284,
          16,
          15,
          16,
          4,
          26,
          11,
          99,
          21,
          34,
          22,
          30,
          30,
          46,
          7,
          16,
          17,
          129,
          47,
          12,
          33,
          66,
          7,
          25,
          13,
          8,
          5,
          24,
          56,
          24,
          76,
          2,
          6,
          45,
          21,
          18,
          13,
          25,
          6,
          12,
          76,
          18,
          63,
          38,
          59,
          16,
          58,
          45,
          1439,
          22,
          13,
          8,
          39,
          22,
          1,
          13,
          21,
          36,
          10,
          10,
          8,
          8,
          44,
          44,
          65,
          35,
          26,
          23,
          31,
          74,
          30,
          15,
          33,
          11,
          22,
          8,
          27,
          5,
          16,
          6,
          48,
          3,
          5,
          34,
          29,
          38,
          21,
          13,
          8,
          121,
          59,
          34,
          24,
          12,
          46,
          13,
          22,
          109,
          8,
          61,
          12,
          4,
          26,
          37,
          39,
          4,
          35,
          3,
          7,
          44,
          48,
          22,
          4,
          124,
          33,
          8,
          9,
          21,
          15,
          29,
          26,
          6,
          35,
          7,
          3,
          132,
          24,
          6,
          45,
          12,
          14,
          25,
          17,
          62,
          24,
          29,
          7,
          118,
          44,
          4,
          29,
          23,
          20,
          9,
          62,
          27,
          15,
          3,
          27,
          6,
          21,
          13,
          20,
          1,
          23,
          2,
          3,
          15,
          11,
          27,
          19,
          22,
          14,
          56,
          18,
          20,
          37,
          26,
          2,
          13,
          32,
          35,
          46,
          20,
          64,
          24,
          46,
          76,
          20,
          2,
          32,
          19,
          5,
          27,
          6,
          6,
          59,
          199,
          8,
          60,
          5,
          63,
          8,
          8,
          15,
          113,
          16,
          76,
          4,
          10,
          25,
          43,
          19,
          26,
          11,
          32,
          14,
          8,
          24,
          233,
          12,
          51,
          23,
          33,
          42,
          26,
          30,
          9,
          28,
          14,
          51,
          14,
          2,
          6,
          7,
          34,
          16,
          54,
          24,
          3,
          16,
          2,
          16,
          23,
          2,
          42,
          9,
          2,
          29,
          12,
          14,
          47,
          48,
          36,
          21,
          9,
          35,
          25,
          15,
          14,
          22,
          38,
          29,
          104,
          37,
          7,
          31,
          8,
          32,
          6,
          23,
          18,
          16,
          8,
          31,
          31,
          192,
          18,
          12,
          10,
          4,
          22,
          17,
          147,
          12,
          1,
          26,
          8,
          47,
          43,
          16,
          23,
          76,
          28,
          30,
          25,
          3,
          6,
          3,
          10,
          55,
          5,
          56,
          38,
          29,
          30,
          22,
          71,
          5,
          12,
          17,
          27,
          4,
          71,
          12,
          21,
          24,
          5,
          70,
          21,
          27,
          8,
          12,
          73,
          22,
          36,
          3,
          154,
          15,
          7,
          89,
          21,
          42,
          55,
          28,
          43,
          34,
          23,
          11,
          8,
          1,
          16,
          86,
          60,
          12,
          28,
          61,
          6,
          39,
          12,
          21,
          58,
          37,
          20,
          28,
          34,
          29,
          7,
          5,
          18,
          88,
          250,
          3,
          10,
          37,
          33,
          89,
          52,
          3,
          18,
          26,
          65,
          6,
          5,
          32,
          31,
          6,
          7,
          10,
          14,
          144,
          82,
          20,
          1,
          18,
          10,
          106,
          48,
          27,
          29,
          7,
          26,
          4,
          70,
          20,
          44,
          40,
          10,
          4,
          7,
          42,
          29,
          71,
          28,
          14,
          15,
          41,
          10,
          6,
          30,
          22,
          18,
          8,
          34,
          4,
          87,
          40,
          9,
          86,
          66,
          18,
          2,
          33,
          50,
          1,
          64,
          27,
          12,
          8,
          29,
          26,
          6,
          25,
          40,
          24,
          16,
          14,
          6,
          32,
          29,
          9,
          3,
          11,
          3,
          4,
          20,
          12,
          7,
          29,
          174,
          11,
          31,
          27,
          156,
          16,
          64,
          2,
          20,
          11,
          11,
          59,
          10,
          16,
          22,
          35,
          5,
          15,
          38,
          43,
          21,
          38,
          32,
          3,
          47,
          15,
          18,
          23,
          2,
          5,
          46,
          36,
          1,
          27,
          15,
          51,
          235,
          9,
          42,
          14,
          26,
          59,
          40,
          6,
          65,
          21,
          79,
          63,
          92,
          45,
          27,
          1,
          8,
          15,
          17,
          10,
          41,
          34,
          14,
          3,
          8,
          48,
          112,
          24,
          36,
          21,
          50,
          16,
          43,
          15,
          21,
          42,
          19,
          30,
          14,
          13,
          62,
          3,
          26,
          45,
          10,
          51,
          32,
          7,
          17,
          5,
          4,
          19,
          3,
          18,
          122,
          16,
          4,
          10,
          4,
          34,
          4,
          6,
          5,
          10,
          27,
          29,
          7,
          11,
          30,
          3,
          17,
          33,
          3,
          20,
          2,
          6,
          45,
          46,
          8,
          30,
          8,
          33,
          22,
          32,
          42,
          45,
          30,
          11,
          105,
          208,
          6,
          45,
          1,
          33,
          31,
          38,
          31,
          34,
          16,
          20,
          30,
          13,
          9,
          79,
          19,
          66,
          26,
          38,
          2,
          12,
          1,
          16,
          9,
          13,
          24,
          15,
          32,
          54,
          25,
          81,
          15,
          39,
          104,
          8,
          51,
          12,
          12,
          2,
          14,
          37,
          14,
          32,
          48,
          29,
          38,
          48,
          4,
          13,
          8,
          34,
          28,
          40,
          21,
          14,
          7,
          55,
          3,
          28,
          137,
          60,
          15,
          19,
          87,
          4,
          15,
          13,
          38,
          7,
          36,
          2,
          4,
          8,
          15,
          198,
          7,
          2,
          16,
          52,
          7,
          14,
          8,
          11,
          9,
          12,
          14,
          6,
          16,
          4,
          13,
          37,
          28,
          3,
          40,
          43,
          45,
          62,
          29,
          41,
          13,
          45,
          34,
          10,
          21,
          17,
          12,
          12,
          10,
          127,
          2,
          7,
          40,
          11,
          4,
          50,
          66,
          23,
          14,
          4,
          67,
          17,
          60,
          54,
          7,
          8,
          48,
          3,
          10,
          3,
          25,
          6,
          52,
          6,
          16,
          48,
          52,
          4,
          4,
          13,
          31,
          3,
          11,
          22,
          11,
          5,
          18,
          17,
          11,
          11,
          62,
          12,
          46,
          7,
          85,
          37,
          19,
          65,
          132,
          7,
          26,
          52,
          18,
          76,
          270,
          9,
          30,
          5,
          24,
          32,
          45,
          29,
          20,
          13,
          12,
          1,
          23,
          56,
          19,
          39,
          11,
          60,
          20,
          21,
          15,
          36,
          24,
          19,
          27,
          888,
          5,
          24,
          20,
          21,
          82,
          3,
          4,
          2,
          12,
          5,
          13,
          43,
          26,
          37,
          3,
          19,
          18,
          25,
          18,
          6,
          40,
          6,
          58,
          32,
          40,
          29,
          16,
          10,
          68,
          9,
          7,
          12,
          19,
          20,
          29,
          13,
          69,
          6,
          106,
          78,
          51,
          2,
          2,
          3,
          24,
          16,
          25,
          25,
          62,
          65,
          25,
          12,
          7,
          43,
          42,
          4,
          50,
          32,
          17,
          3,
          2,
          14,
          35,
          37,
          5,
          10,
          4,
          4,
          19,
          26,
          2,
          6,
          21,
          9,
          10,
          37,
          13,
          18,
          29,
          19,
          6,
          30,
          140,
          23,
          8,
          18,
          21,
          35,
          9,
          34,
          12,
          18,
          45,
          6,
          18,
          3,
          15,
          82,
          9,
          10,
          40,
          5,
          39,
          45,
          39,
          15,
          29,
          28,
          27,
          48,
          16,
          4,
          6,
          24,
          93,
          91,
          3,
          13,
          2,
          18,
          3,
          19,
          55,
          15,
          5,
          7,
          19,
          50,
          68,
          7,
          40,
          49,
          12,
          218,
          60,
          67,
          9,
          22,
          90,
          16,
          11,
          8,
          43,
          9,
          41,
          9,
          19,
          11,
          27,
          24,
          6,
          4,
          13,
          1,
          25,
          88,
          34,
          38,
          6,
          36,
          21,
          35,
          26,
          5,
          3,
          15,
          5,
          17,
          21,
          39,
          33,
          29,
          40,
          28,
          22,
          14,
          17,
          126,
          54,
          47,
          7,
          19,
          40,
          32,
          9,
          43,
          27,
          32,
          7,
          20,
          21,
          9,
          12,
          39,
          1,
          7,
          3,
          5,
          12,
          125,
          29,
          23,
          17,
          43,
          3,
          5,
          16,
          19,
          20,
          11,
          129,
          8,
          1,
          19,
          266,
          21,
          7,
          116,
          22,
          7,
          43,
          32,
          98,
          46,
          66,
          18,
          1,
          4,
          112,
          29,
          9,
          30,
          30,
          37,
          27,
          6,
          19,
          22,
          19,
          18,
          7,
          57,
          40,
          34,
          59,
          15,
          8,
          4,
          62,
          4,
          34,
          15,
          6,
          20,
          8,
          10,
          43,
          57,
          25,
          19,
          28,
          15,
          35,
          10,
          98,
          50,
          53,
          37,
          6,
          5,
          15,
          13,
          12,
          15,
          6,
          6,
          52,
          30,
          7,
          69,
          1,
          94,
          9,
          26,
          19,
          121,
          8,
          83,
          58,
          5,
          9,
          32,
          18,
          28,
          7,
          7,
          16,
          14,
          18,
          24,
          13,
          5,
          42,
          39,
          30,
          11,
          20,
          3,
          10,
          95,
          26,
          54,
          76,
          63,
          15,
          5,
          6,
          8,
          9,
          14,
          20,
          12,
          755,
          42,
          37,
          5,
          14,
          76,
          4,
          30,
          45,
          48,
          62,
          12,
          9,
          64,
          26,
          6,
          60,
          23,
          52,
          11,
          29,
          34,
          80,
          42,
          39,
          11,
          4,
          18,
          22,
          16,
          44,
          109,
          3,
          2,
          7,
          17,
          1,
          4,
          35,
          38,
          8,
          53,
          22,
          11,
          3,
          5,
          77,
          555,
          1,
          68,
          5,
          12,
          3,
          63,
          13,
          32,
          14,
          24,
          12,
          3,
          46,
          24,
          1,
          1,
          75,
          14,
          5,
          50,
          302,
          26,
          36,
          9,
          25,
          2,
          2,
          71,
          10,
          27,
          24,
          7,
          10,
          19,
          4,
          60,
          9,
          4,
          8,
          29,
          70,
          6,
          59,
          10,
          5,
          11,
          16,
          8,
          23,
          33,
          11,
          6,
          23,
          23,
          27,
          13,
          29,
          2,
          34,
          35,
          10,
          4,
          38,
          63,
          19,
          16,
          12,
          16,
          13,
          26,
          26,
          5,
          60,
          9,
          34,
          3,
          14,
          7,
          23,
          28,
          125,
          14,
          17,
          25,
          3,
          54,
          37,
          45,
          145,
          46,
          50,
          20,
          54,
          32,
          29,
          9,
          12,
          12,
          2,
          132,
          22,
          3,
          1,
          34,
          39,
          10,
          56,
          22,
          17,
          6,
          363,
          10,
          12,
          108,
          3,
          2,
          28,
          7,
          92,
          11,
          36,
          16,
          27,
          20,
          21,
          12,
          2,
          30,
          9,
          5,
          5,
          9,
          15,
          27,
          10,
          6,
          20,
          4,
          9,
          11,
          5,
          11,
          2,
          32,
          41,
          39,
          34,
          52,
          32,
          7,
          27,
          17,
          22,
          111,
          10,
          32,
          10,
          5,
          105,
          4,
          51,
          11,
          37,
          64,
          5,
          23,
          18,
          14,
          20,
          4,
          28,
          58,
          7,
          16,
          25,
          10,
          57,
          25,
          8,
          15,
          7,
          85,
          19,
          79,
          70,
          12,
          56,
          8,
          10,
          9,
          17,
          93,
          9,
          37,
          15,
          31,
          73,
          20,
          11,
          6,
          95,
          28,
          26,
          63,
          15,
          26,
          13,
          7,
          62,
          19,
          98,
          11,
          6,
          8,
          13,
          11,
          4,
          26,
          17,
          46,
          38,
          21,
          38,
          5,
          37,
          29,
          10,
          76,
          22,
          56,
          23,
          32,
          23,
          72,
          24,
          13,
          8,
          34,
          10,
          21,
          13,
          32,
          22,
          26,
          55,
          2,
          8,
          2,
          10,
          17,
          9,
          17,
          14,
          6,
          39,
          6,
          5,
          16,
          33,
          17,
          13,
          15,
          20,
          19,
          9,
          13,
          25,
          6,
          74,
          35,
          2,
          23,
          52,
          32,
          5,
          14,
          9,
          57,
          11,
          12,
          87,
          18,
          10,
          35,
          28,
          54,
          148,
          10,
          4,
          12,
          18,
          40,
          41,
          23,
          20,
          19,
          19,
          8,
          48,
          21,
          16,
          10,
          57,
          6,
          46,
          68,
          6,
          48,
          38,
          19,
          36,
          12,
          7,
          6,
          9,
          10,
          31,
          6,
          31,
          32,
          11,
          35,
          9,
          22,
          8,
          4,
          14,
          15,
          29,
          30,
          60,
          33,
          24,
          65,
          15,
          17,
          8,
          29,
          7,
          37,
          16,
          4,
          17,
          26,
          24,
          16,
          11,
          48,
          13,
          50,
          5,
          11,
          14,
          28,
          13,
          57,
          52,
          23,
          14,
          5,
          21,
          14,
          13,
          16,
          3,
          87,
          4,
          16,
          6,
          129,
          18,
          85,
          7,
          25,
          26,
          3,
          15,
          14,
          34,
          38,
          9,
          7,
          2,
          35,
          14,
          9,
          29,
          62,
          27,
          8,
          22,
          6,
          13,
          16,
          19,
          12,
          50,
          15,
          108,
          16,
          54,
          8,
          5,
          7,
          23,
          7,
          20,
          26,
          40,
          40,
          17,
          15,
          21,
          7,
          5,
          56,
          5,
          3,
          7,
          25,
          45,
          14,
          12,
          191,
          61,
          46,
          12,
          24,
          80,
          79,
          4,
          30,
          46,
          79,
          78,
          3,
          5,
          19,
          51,
          25,
          36,
          28,
          35,
          56,
          6,
          14,
          6,
          10,
          16,
          28,
          15,
          19,
          41,
          17,
          40,
          104,
          25,
          5,
          14,
          16,
          55,
          34,
          1,
          43,
          5,
          17,
          68,
          19,
          13,
          41,
          61,
          15,
          35,
          13,
          166,
          12,
          25,
          13,
          51,
          52,
          1,
          6,
          27,
          44,
          73,
          24,
          14,
          4,
          6,
          19,
          5,
          62,
          1,
          2,
          19,
          35,
          48,
          39,
          8,
          9,
          5,
          25,
          12,
          24,
          31,
          18,
          27,
          41,
          148,
          66,
          15,
          15,
          5,
          22,
          17,
          51,
          3,
          40,
          5,
          14,
          9,
          3,
          45,
          35,
          1,
          6,
          12,
          19,
          9,
          12,
          14,
          51,
          45,
          36,
          26,
          16,
          37,
          55,
          2,
          119,
          44,
          26,
          14,
          27,
          19,
          103,
          50,
          12,
          15,
          10,
          73,
          20,
          87,
          26,
          9,
          40,
          26,
          14,
          47,
          18,
          13,
          57,
          79,
          34,
          27,
          103,
          14,
          36,
          1,
          11,
          5,
          3,
          19,
          11,
          2,
          30,
          29,
          32,
          18,
          21,
          4,
          80,
          20,
          9,
          20,
          21,
          16,
          5,
          81,
          32,
          25,
          8,
          10,
          51,
          2,
          8,
          34,
          8,
          2,
          134,
          17,
          17,
          364,
          14,
          15,
          30,
          18,
          29,
          10,
          5,
          37,
          14,
          52,
          59,
          40,
          4,
          27,
          6,
          40,
          49,
          5,
          13,
          17,
          7,
          103,
          39,
          20,
          26,
          20,
          18,
          8,
          23,
          8,
          43,
          5,
          16,
          48,
          33,
          41,
          43,
          13,
          38,
          49,
          50,
          67,
          26,
          8,
          23,
          264,
          54,
          65,
          36,
          69,
          43,
          51,
          22,
          43,
          5,
          14,
          95,
          46,
          18,
          78,
          20,
          6,
          37,
          2,
          3,
          74,
          8,
          50,
          38,
          2,
          73,
          11,
          35,
          6,
          13,
          18,
          32,
          5,
          8,
          6,
          3,
          26,
          14,
          28,
          42,
          95,
          4,
          22,
          5,
          13,
          9,
          24,
          9,
          9,
          8,
          56,
          3,
          17,
          7,
          27,
          5,
          7,
          10,
          21,
          16,
          33,
          21,
          74,
          5,
          11,
          5,
          17,
          134,
          7,
          12,
          4,
          7,
          64,
          10,
          26,
          35,
          33,
          14,
          85,
          9,
          4,
          19,
          37,
          12,
          65,
          32,
          25,
          16,
          51,
          40,
          13,
          4,
          95,
          35,
          62,
          21,
          46,
          4,
          21,
          17,
          26,
          28,
          54,
          21,
          16,
          30,
          2,
          34,
          7,
          16,
          29,
          9,
          19,
          32,
          42,
          29,
          7,
          34,
          3,
          11,
          42,
          8,
          65,
          126,
          37,
          10,
          283,
          89,
          11,
          45,
          23,
          7,
          49,
          23,
          8,
          4,
          136,
          67,
          54,
          36,
          9,
          15,
          8,
          17,
          11,
          4,
          58,
          47,
          1,
          27,
          7,
          51,
          22,
          17,
          25,
          31,
          9,
          8,
          8,
          31,
          14,
          1,
          4,
          33,
          21,
          18,
          16,
          8,
          2,
          29,
          9,
          24,
          5,
          14,
          87,
          12,
          26,
          110,
          58,
          3,
          15,
          10,
          48,
          64,
          14,
          74,
          43,
          8,
          98,
          12,
          11,
          134,
          5,
          5,
          1,
          7,
          25,
          5,
          3,
          7,
          45,
          54,
          25,
          59,
          135,
          8,
          10,
          229,
          9,
          8,
          43,
          3,
          36,
          33,
          5,
          51,
          64,
          10,
          10,
          117,
          21,
          81,
          15,
          33,
          43,
          7,
          84,
          7,
          46,
          36,
          10,
          2,
          24,
          9,
          17,
          7,
          7,
          59
         ]
        }
       ],
       "layout": {
        "margin": {
         "l": 0,
         "r": 0
        },
        "template": {
         "data": {
          "bar": [
           {
            "error_x": {
             "color": "#2a3f5f"
            },
            "error_y": {
             "color": "#2a3f5f"
            },
            "marker": {
             "line": {
              "color": "#E5ECF6",
              "width": 0.5
             },
             "pattern": {
              "fillmode": "overlay",
              "size": 10,
              "solidity": 0.2
             }
            },
            "type": "bar"
           }
          ],
          "barpolar": [
           {
            "marker": {
             "line": {
              "color": "#E5ECF6",
              "width": 0.5
             },
             "pattern": {
              "fillmode": "overlay",
              "size": 10,
              "solidity": 0.2
             }
            },
            "type": "barpolar"
           }
          ],
          "carpet": [
           {
            "aaxis": {
             "endlinecolor": "#2a3f5f",
             "gridcolor": "white",
             "linecolor": "white",
             "minorgridcolor": "white",
             "startlinecolor": "#2a3f5f"
            },
            "baxis": {
             "endlinecolor": "#2a3f5f",
             "gridcolor": "white",
             "linecolor": "white",
             "minorgridcolor": "white",
             "startlinecolor": "#2a3f5f"
            },
            "type": "carpet"
           }
          ],
          "choropleth": [
           {
            "colorbar": {
             "outlinewidth": 0,
             "ticks": ""
            },
            "type": "choropleth"
           }
          ],
          "contour": [
           {
            "colorbar": {
             "outlinewidth": 0,
             "ticks": ""
            },
            "colorscale": [
             [
              0,
              "#0d0887"
             ],
             [
              0.1111111111111111,
              "#46039f"
             ],
             [
              0.2222222222222222,
              "#7201a8"
             ],
             [
              0.3333333333333333,
              "#9c179e"
             ],
             [
              0.4444444444444444,
              "#bd3786"
             ],
             [
              0.5555555555555556,
              "#d8576b"
             ],
             [
              0.6666666666666666,
              "#ed7953"
             ],
             [
              0.7777777777777778,
              "#fb9f3a"
             ],
             [
              0.8888888888888888,
              "#fdca26"
             ],
             [
              1,
              "#f0f921"
             ]
            ],
            "type": "contour"
           }
          ],
          "contourcarpet": [
           {
            "colorbar": {
             "outlinewidth": 0,
             "ticks": ""
            },
            "type": "contourcarpet"
           }
          ],
          "heatmap": [
           {
            "colorbar": {
             "outlinewidth": 0,
             "ticks": ""
            },
            "colorscale": [
             [
              0,
              "#0d0887"
             ],
             [
              0.1111111111111111,
              "#46039f"
             ],
             [
              0.2222222222222222,
              "#7201a8"
             ],
             [
              0.3333333333333333,
              "#9c179e"
             ],
             [
              0.4444444444444444,
              "#bd3786"
             ],
             [
              0.5555555555555556,
              "#d8576b"
             ],
             [
              0.6666666666666666,
              "#ed7953"
             ],
             [
              0.7777777777777778,
              "#fb9f3a"
             ],
             [
              0.8888888888888888,
              "#fdca26"
             ],
             [
              1,
              "#f0f921"
             ]
            ],
            "type": "heatmap"
           }
          ],
          "heatmapgl": [
           {
            "colorbar": {
             "outlinewidth": 0,
             "ticks": ""
            },
            "colorscale": [
             [
              0,
              "#0d0887"
             ],
             [
              0.1111111111111111,
              "#46039f"
             ],
             [
              0.2222222222222222,
              "#7201a8"
             ],
             [
              0.3333333333333333,
              "#9c179e"
             ],
             [
              0.4444444444444444,
              "#bd3786"
             ],
             [
              0.5555555555555556,
              "#d8576b"
             ],
             [
              0.6666666666666666,
              "#ed7953"
             ],
             [
              0.7777777777777778,
              "#fb9f3a"
             ],
             [
              0.8888888888888888,
              "#fdca26"
             ],
             [
              1,
              "#f0f921"
             ]
            ],
            "type": "heatmapgl"
           }
          ],
          "histogram": [
           {
            "marker": {
             "pattern": {
              "fillmode": "overlay",
              "size": 10,
              "solidity": 0.2
             }
            },
            "type": "histogram"
           }
          ],
          "histogram2d": [
           {
            "colorbar": {
             "outlinewidth": 0,
             "ticks": ""
            },
            "colorscale": [
             [
              0,
              "#0d0887"
             ],
             [
              0.1111111111111111,
              "#46039f"
             ],
             [
              0.2222222222222222,
              "#7201a8"
             ],
             [
              0.3333333333333333,
              "#9c179e"
             ],
             [
              0.4444444444444444,
              "#bd3786"
             ],
             [
              0.5555555555555556,
              "#d8576b"
             ],
             [
              0.6666666666666666,
              "#ed7953"
             ],
             [
              0.7777777777777778,
              "#fb9f3a"
             ],
             [
              0.8888888888888888,
              "#fdca26"
             ],
             [
              1,
              "#f0f921"
             ]
            ],
            "type": "histogram2d"
           }
          ],
          "histogram2dcontour": [
           {
            "colorbar": {
             "outlinewidth": 0,
             "ticks": ""
            },
            "colorscale": [
             [
              0,
              "#0d0887"
             ],
             [
              0.1111111111111111,
              "#46039f"
             ],
             [
              0.2222222222222222,
              "#7201a8"
             ],
             [
              0.3333333333333333,
              "#9c179e"
             ],
             [
              0.4444444444444444,
              "#bd3786"
             ],
             [
              0.5555555555555556,
              "#d8576b"
             ],
             [
              0.6666666666666666,
              "#ed7953"
             ],
             [
              0.7777777777777778,
              "#fb9f3a"
             ],
             [
              0.8888888888888888,
              "#fdca26"
             ],
             [
              1,
              "#f0f921"
             ]
            ],
            "type": "histogram2dcontour"
           }
          ],
          "mesh3d": [
           {
            "colorbar": {
             "outlinewidth": 0,
             "ticks": ""
            },
            "type": "mesh3d"
           }
          ],
          "parcoords": [
           {
            "line": {
             "colorbar": {
              "outlinewidth": 0,
              "ticks": ""
             }
            },
            "type": "parcoords"
           }
          ],
          "pie": [
           {
            "automargin": true,
            "type": "pie"
           }
          ],
          "scatter": [
           {
            "marker": {
             "colorbar": {
              "outlinewidth": 0,
              "ticks": ""
             }
            },
            "type": "scatter"
           }
          ],
          "scatter3d": [
           {
            "line": {
             "colorbar": {
              "outlinewidth": 0,
              "ticks": ""
             }
            },
            "marker": {
             "colorbar": {
              "outlinewidth": 0,
              "ticks": ""
             }
            },
            "type": "scatter3d"
           }
          ],
          "scattercarpet": [
           {
            "marker": {
             "colorbar": {
              "outlinewidth": 0,
              "ticks": ""
             }
            },
            "type": "scattercarpet"
           }
          ],
          "scattergeo": [
           {
            "marker": {
             "colorbar": {
              "outlinewidth": 0,
              "ticks": ""
             }
            },
            "type": "scattergeo"
           }
          ],
          "scattergl": [
           {
            "marker": {
             "colorbar": {
              "outlinewidth": 0,
              "ticks": ""
             }
            },
            "type": "scattergl"
           }
          ],
          "scattermapbox": [
           {
            "marker": {
             "colorbar": {
              "outlinewidth": 0,
              "ticks": ""
             }
            },
            "type": "scattermapbox"
           }
          ],
          "scatterpolar": [
           {
            "marker": {
             "colorbar": {
              "outlinewidth": 0,
              "ticks": ""
             }
            },
            "type": "scatterpolar"
           }
          ],
          "scatterpolargl": [
           {
            "marker": {
             "colorbar": {
              "outlinewidth": 0,
              "ticks": ""
             }
            },
            "type": "scatterpolargl"
           }
          ],
          "scatterternary": [
           {
            "marker": {
             "colorbar": {
              "outlinewidth": 0,
              "ticks": ""
             }
            },
            "type": "scatterternary"
           }
          ],
          "surface": [
           {
            "colorbar": {
             "outlinewidth": 0,
             "ticks": ""
            },
            "colorscale": [
             [
              0,
              "#0d0887"
             ],
             [
              0.1111111111111111,
              "#46039f"
             ],
             [
              0.2222222222222222,
              "#7201a8"
             ],
             [
              0.3333333333333333,
              "#9c179e"
             ],
             [
              0.4444444444444444,
              "#bd3786"
             ],
             [
              0.5555555555555556,
              "#d8576b"
             ],
             [
              0.6666666666666666,
              "#ed7953"
             ],
             [
              0.7777777777777778,
              "#fb9f3a"
             ],
             [
              0.8888888888888888,
              "#fdca26"
             ],
             [
              1,
              "#f0f921"
             ]
            ],
            "type": "surface"
           }
          ],
          "table": [
           {
            "cells": {
             "fill": {
              "color": "#EBF0F8"
             },
             "line": {
              "color": "white"
             }
            },
            "header": {
             "fill": {
              "color": "#C8D4E3"
             },
             "line": {
              "color": "white"
             }
            },
            "type": "table"
           }
          ]
         },
         "layout": {
          "annotationdefaults": {
           "arrowcolor": "#2a3f5f",
           "arrowhead": 0,
           "arrowwidth": 1
          },
          "autotypenumbers": "strict",
          "coloraxis": {
           "colorbar": {
            "outlinewidth": 0,
            "ticks": ""
           }
          },
          "colorscale": {
           "diverging": [
            [
             0,
             "#8e0152"
            ],
            [
             0.1,
             "#c51b7d"
            ],
            [
             0.2,
             "#de77ae"
            ],
            [
             0.3,
             "#f1b6da"
            ],
            [
             0.4,
             "#fde0ef"
            ],
            [
             0.5,
             "#f7f7f7"
            ],
            [
             0.6,
             "#e6f5d0"
            ],
            [
             0.7,
             "#b8e186"
            ],
            [
             0.8,
             "#7fbc41"
            ],
            [
             0.9,
             "#4d9221"
            ],
            [
             1,
             "#276419"
            ]
           ],
           "sequential": [
            [
             0,
             "#0d0887"
            ],
            [
             0.1111111111111111,
             "#46039f"
            ],
            [
             0.2222222222222222,
             "#7201a8"
            ],
            [
             0.3333333333333333,
             "#9c179e"
            ],
            [
             0.4444444444444444,
             "#bd3786"
            ],
            [
             0.5555555555555556,
             "#d8576b"
            ],
            [
             0.6666666666666666,
             "#ed7953"
            ],
            [
             0.7777777777777778,
             "#fb9f3a"
            ],
            [
             0.8888888888888888,
             "#fdca26"
            ],
            [
             1,
             "#f0f921"
            ]
           ],
           "sequentialminus": [
            [
             0,
             "#0d0887"
            ],
            [
             0.1111111111111111,
             "#46039f"
            ],
            [
             0.2222222222222222,
             "#7201a8"
            ],
            [
             0.3333333333333333,
             "#9c179e"
            ],
            [
             0.4444444444444444,
             "#bd3786"
            ],
            [
             0.5555555555555556,
             "#d8576b"
            ],
            [
             0.6666666666666666,
             "#ed7953"
            ],
            [
             0.7777777777777778,
             "#fb9f3a"
            ],
            [
             0.8888888888888888,
             "#fdca26"
            ],
            [
             1,
             "#f0f921"
            ]
           ]
          },
          "colorway": [
           "#636efa",
           "#EF553B",
           "#00cc96",
           "#ab63fa",
           "#FFA15A",
           "#19d3f3",
           "#FF6692",
           "#B6E880",
           "#FF97FF",
           "#FECB52"
          ],
          "font": {
           "color": "#2a3f5f"
          },
          "geo": {
           "bgcolor": "white",
           "lakecolor": "white",
           "landcolor": "#E5ECF6",
           "showlakes": true,
           "showland": true,
           "subunitcolor": "white"
          },
          "hoverlabel": {
           "align": "left"
          },
          "hovermode": "closest",
          "mapbox": {
           "style": "light"
          },
          "paper_bgcolor": "white",
          "plot_bgcolor": "#E5ECF6",
          "polar": {
           "angularaxis": {
            "gridcolor": "white",
            "linecolor": "white",
            "ticks": ""
           },
           "bgcolor": "#E5ECF6",
           "radialaxis": {
            "gridcolor": "white",
            "linecolor": "white",
            "ticks": ""
           }
          },
          "scene": {
           "xaxis": {
            "backgroundcolor": "#E5ECF6",
            "gridcolor": "white",
            "gridwidth": 2,
            "linecolor": "white",
            "showbackground": true,
            "ticks": "",
            "zerolinecolor": "white"
           },
           "yaxis": {
            "backgroundcolor": "#E5ECF6",
            "gridcolor": "white",
            "gridwidth": 2,
            "linecolor": "white",
            "showbackground": true,
            "ticks": "",
            "zerolinecolor": "white"
           },
           "zaxis": {
            "backgroundcolor": "#E5ECF6",
            "gridcolor": "white",
            "gridwidth": 2,
            "linecolor": "white",
            "showbackground": true,
            "ticks": "",
            "zerolinecolor": "white"
           }
          },
          "shapedefaults": {
           "line": {
            "color": "#2a3f5f"
           }
          },
          "ternary": {
           "aaxis": {
            "gridcolor": "white",
            "linecolor": "white",
            "ticks": ""
           },
           "baxis": {
            "gridcolor": "white",
            "linecolor": "white",
            "ticks": ""
           },
           "bgcolor": "#E5ECF6",
           "caxis": {
            "gridcolor": "white",
            "linecolor": "white",
            "ticks": ""
           }
          },
          "title": {
           "x": 0.05
          },
          "xaxis": {
           "automargin": true,
           "gridcolor": "white",
           "linecolor": "white",
           "ticks": "",
           "title": {
            "standoff": 15
           },
           "zerolinecolor": "white",
           "zerolinewidth": 2
          },
          "yaxis": {
           "automargin": true,
           "gridcolor": "white",
           "linecolor": "white",
           "ticks": "",
           "title": {
            "standoff": 15
           },
           "zerolinecolor": "white",
           "zerolinewidth": 2
          }
         }
        },
        "title": {
         "text": "Распределение количества событий на пользователя"
        },
        "xaxis": {
         "title": {
          "text": "Пользователи"
         }
        },
        "yaxis": {
         "title": {
          "text": "Количество событий"
         }
        }
       }
      },
      "text/html": [
       "<div>                            <div id=\"5f84df69-64c8-4926-a4a6-a99c81b3188b\" class=\"plotly-graph-div\" style=\"height:525px; width:100%;\"></div>            <script type=\"text/javascript\">                require([\"plotly\"], function(Plotly) {                    window.PLOTLYENV=window.PLOTLYENV || {};                                    if (document.getElementById(\"5f84df69-64c8-4926-a4a6-a99c81b3188b\")) {                    Plotly.newPlot(                        \"5f84df69-64c8-4926-a4a6-a99c81b3188b\",                        [{\"mode\":\"markers\",\"y\":[1,5,47,6,137,10,9,29,10,126,79,1,13,12,25,5,9,29,8,24,46,3,3,54,26,44,17,25,42,14,31,26,33,24,23,35,30,18,61,7,5,34,20,5,25,13,21,47,6,71,12,12,69,6,4,4,73,14,98,14,24,24,23,18,52,5,3,33,39,139,30,49,9,27,58,16,32,2,19,19,26,15,6,23,25,30,4,8,39,12,15,20,44,3,5,7,22,19,14,4,7,33,23,105,35,16,30,10,27,59,33,35,19,51,12,12,20,9,34,28,4,6,5,24,17,42,59,15,23,4,90,1,18,58,60,31,2,41,31,3,54,4,39,36,34,3,24,1998,36,7,18,10,7,165,51,36,15,44,25,109,10,26,23,6,41,39,12,6,15,19,6,27,17,28,7,5,9,66,23,29,71,20,21,7,77,41,32,4,56,7,51,16,9,19,2,43,10,47,24,35,10,40,3,19,28,11,6,8,19,126,15,8,13,3,11,11,208,26,14,27,5,27,19,22,4,4,18,16,25,17,245,7,14,159,78,43,46,50,25,57,67,2,11,7,4,13,299,26,28,56,44,21,39,13,9,28,15,17,48,31,27,28,17,23,47,25,87,31,67,77,31,4,21,19,24,8,10,38,14,9,70,23,21,6,44,1,9,26,32,19,4,8,1,19,15,68,33,5,79,30,10,13,60,8,6,27,95,45,56,66,3,1,53,5,5,15,83,8,21,5,20,60,57,11,15,57,67,96,15,1,24,128,21,9,14,11,46,3,2,11,10,24,18,4,10,5,53,45,6,18,3,19,11,10,45,8,8,33,41,15,18,49,52,63,83,9,14,78,67,83,4,20,7,18,27,27,14,24,67,18,136,14,4,13,72,7,58,22,29,17,5,55,33,233,3,32,22,31,4,48,13,51,39,10,17,40,4,33,78,8,63,21,34,20,5,40,3,4,13,15,23,20,11,15,13,33,11,92,47,29,2,17,18,40,9,53,80,4,54,6,14,57,6,26,18,30,25,3,9,159,10,43,13,10,16,25,26,9,8,23,22,42,10,7,19,14,51,238,313,51,6,12,122,4,27,30,31,121,22,31,1,43,123,1,17,41,12,14,20,31,60,41,24,17,44,54,22,11,8,8,67,9,13,29,39,22,31,11,32,89,9,5,14,6,16,25,85,65,496,100,29,6,4,17,89,8,19,47,3,8,23,4,36,5,5,19,5,8,30,43,4,34,18,62,18,14,43,74,21,42,51,9,25,32,26,1,44,58,44,87,26,65,17,4,51,4,22,44,12,7,5,17,30,25,60,18,26,20,39,18,26,61,53,70,23,7,2,19,30,10,17,21,1,21,7,2,16,5,26,5,11,29,36,25,142,28,31,4,106,33,30,60,103,18,59,7,39,11,9,18,8,36,17,37,41,12,5,60,47,45,11,12,12,5,84,21,16,25,29,38,6,14,10,26,14,23,37,57,16,6,6,27,23,11,52,4,243,14,6,10,17,23,38,73,47,34,3,12,76,52,10,5,11,16,58,8,9,39,16,60,3,25,4,44,51,13,44,13,18,29,26,42,17,35,6,8,53,38,50,98,9,68,13,15,3,22,45,19,5,9,4,44,1,25,20,13,21,2,41,13,37,22,30,17,51,5,7,50,71,20,156,101,15,5,110,28,33,14,25,7,20,69,14,25,127,6,1,6,25,19,83,11,8,12,10,15,12,46,7,12,13,27,40,43,18,8,5,9,79,8,21,1,18,59,7,3,16,6,17,57,10,7,5,3,13,10,3,24,37,31,5,45,47,8,15,11,130,5,17,7,15,16,18,7,179,26,34,2,9,20,6,7,7,118,11,33,17,100,98,8,34,21,854,62,43,57,24,46,2,28,26,37,26,8,1,4,8,103,33,38,46,28,5,84,12,25,29,10,9,18,1,6,24,59,11,7,12,21,29,6,661,41,13,48,16,33,11,37,3,12,3,28,31,22,25,23,17,4,12,16,13,9,27,18,19,20,27,13,4,6,37,59,3,25,39,5,94,16,22,4,1,5,87,11,7,8,5,6,31,5,53,23,14,43,92,7,23,15,4,49,38,2,59,14,1,15,18,6,12,95,3,102,76,103,13,11,42,76,7,26,39,68,15,41,7,6,12,31,32,6,1,3,29,17,55,7,28,23,38,20,15,34,14,19,170,3,53,28,87,21,103,22,22,32,15,20,17,16,31,61,67,16,3,5,39,7,5,5,31,17,5,15,25,34,8,24,3,5,14,9,32,3,9,2,8,26,10,10,5,8,5,15,8,6,5,5,22,17,43,48,8,3,30,15,5,6,17,15,28,72,25,4,15,13,16,26,12,44,4,45,14,31,25,5,31,23,27,24,12,8,63,18,5,4,90,33,32,30,34,9,26,31,36,32,128,5,12,3,12,4,36,7,52,9,191,2,25,35,43,14,42,20,7,13,50,23,65,7,22,9,6,58,25,42,6,10,29,16,15,15,16,2,12,35,4,31,23,41,45,9,4,62,34,38,5,16,89,3,17,11,37,12,4,24,65,65,19,22,267,7,7,23,37,41,16,35,26,55,6,82,7,3,40,127,109,66,164,3,1,65,77,30,50,28,37,6,15,9,23,4,25,41,13,24,14,39,30,71,26,29,3,56,43,45,51,9,62,9,19,94,26,6,15,31,11,18,52,69,6,179,13,28,88,12,65,8,15,12,75,23,31,4,73,5,58,3,8,21,8,28,12,35,5,21,18,9,208,14,37,11,5,5,5,13,24,4,94,31,29,42,16,13,71,5,18,10,60,33,13,3,22,6,37,90,24,36,16,8,8,11,108,6,13,60,12,10,28,6,5,50,65,20,2,39,19,16,63,15,18,9,7,9,105,102,1,20,30,7,14,32,25,12,93,23,16,26,50,33,8,9,10,24,8,13,77,37,30,1,46,32,7,15,57,10,18,6,2,59,29,170,28,11,1,15,7,32,20,30,9,13,21,19,14,10,21,59,19,14,80,24,8,113,68,7,2,5,220,31,13,7,20,6,68,54,7,8,36,67,10,15,24,31,22,88,24,103,65,51,44,32,5,23,1,22,226,2,12,108,6,10,35,16,8,36,26,10,5,11,10,19,14,18,24,74,6,20,19,21,89,44,31,1221,18,3,8,50,111,1,1,74,22,12,20,75,27,16,22,1,15,10,43,4,24,11,10,11,9,15,10,29,21,62,38,17,33,34,6,26,22,47,24,2,4,32,17,13,27,33,5,33,5,10,41,19,84,18,7,36,23,2,66,24,1,19,17,39,4,69,21,14,71,18,14,46,12,17,78,16,31,2,4,7,5,66,6,20,11,29,37,59,63,40,6,116,28,40,321,61,6,17,6,53,57,29,34,19,75,5,4,13,55,14,27,36,26,2,14,13,14,64,3,21,29,49,2,30,38,11,25,16,24,29,8,31,17,13,5,27,4,1,6,29,42,60,20,28,25,3,41,38,8,24,35,17,17,56,45,28,63,67,26,21,42,41,15,9,10,23,45,2,29,15,50,11,14,39,6,11,2,152,22,24,42,7,40,106,36,42,52,20,16,729,3,47,15,142,20,35,4,5,23,11,37,8,71,26,95,28,48,73,20,18,16,10,33,9,5,5,14,15,1,8,2,33,8,1,5,42,52,4,16,10,25,15,6,47,5,7,5,19,42,88,51,12,16,2,8,15,21,3,5,26,9,7,34,21,15,18,9,36,23,9,27,1,14,6,15,42,12,11,17,84,12,60,7,17,4,20,64,15,93,23,62,6,8,13,20,13,7,8,16,4,50,16,38,27,6,8,7,6,13,10,33,12,6,16,18,20,4,29,29,23,1,52,16,63,34,3,19,15,20,133,101,40,12,23,9,51,38,19,18,58,2,5,12,6,27,2,28,39,5,8,25,68,21,8,7,18,27,13,7,29,124,17,28,26,14,19,21,3,45,18,124,42,11,73,6,11,19,2,10,5,90,27,29,3,27,8,33,64,2,11,7,7,44,31,20,38,18,45,45,24,15,32,7,10,2,2,9,28,1,27,5,16,5,15,33,4,26,1,75,21,81,9,23,7,54,26,23,28,58,19,12,15,116,175,39,53,658,27,11,31,5,37,13,2,6,35,34,7,17,8,4,41,4,156,62,27,19,13,44,36,10,2,16,55,3,29,19,39,7,23,33,50,6,83,100,26,11,33,43,28,27,89,9,19,192,34,53,6,78,15,47,14,53,32,134,7,14,37,24,50,7,62,9,15,3,65,28,36,10,55,33,51,16,1,6,38,25,22,2,5,119,19,10,33,36,18,24,20,5,11,22,11,61,42,11,30,14,28,13,2,195,18,17,18,94,81,2,10,10,33,19,20,203,9,26,279,18,28,1,45,21,10,5,38,2,19,25,67,42,8,7,2,23,25,6,9,33,4,18,7,9,59,4,12,81,10,29,41,30,61,10,17,58,54,40,12,11,9,32,29,10,5,17,3,10,7,5,26,6,5,32,3,13,12,18,38,15,17,57,46,42,14,19,26,49,62,49,8,3,16,2,3,18,48,39,16,5,4,5,172,72,50,10,2,7,5,30,17,86,25,26,42,18,48,12,12,53,17,45,7,7,11,13,4,24,19,24,29,30,12,18,28,38,10,9,33,21,5,54,167,27,31,29,18,52,18,5,66,5,29,3,3,2,21,4,31,7,1,23,70,26,14,3,83,69,14,3,25,4,19,14,34,42,102,35,12,65,68,57,20,7,34,42,3,10,17,47,60,19,3,38,35,12,20,35,2,19,47,7,6,43,12,50,15,5,15,28,26,36,43,9,14,6,6,21,31,43,40,2,7,58,39,7,26,4,18,43,121,47,36,84,10,8,20,5,20,32,7,20,3,28,21,7,6,15,7,20,20,25,20,22,81,6,14,4,38,8,79,21,5,4,1,27,9,23,8,30,80,30,529,4,12,28,172,15,17,27,8,24,29,30,9,17,19,4,9,9,32,30,16,14,34,54,55,12,3,32,16,26,22,21,5,12,34,8,15,234,12,2,12,76,57,73,8,78,14,62,30,52,44,6,31,106,14,79,38,19,45,39,41,15,6,42,14,45,3,8,16,5,11,11,54,6,8,153,4,12,20,3,29,72,37,28,7,22,85,5,11,13,45,81,35,36,7,14,4,56,36,17,3,4,12,44,4,15,10,8,23,6,489,8,18,6,6,35,30,8,14,11,26,72,22,51,8,8,53,34,29,10,7,30,31,19,7,4,12,5,3,28,29,7,34,19,28,46,10,29,29,19,6,20,2,56,15,87,3,2,31,102,99,5,12,24,34,1,70,17,6,7,8,3,61,19,15,21,4,43,45,43,32,8,16,43,40,24,16,16,22,54,39,5,173,28,54,93,67,3,11,24,11,18,53,80,29,12,15,17,11,21,211,82,4,14,28,23,62,20,89,25,17,21,17,5,103,23,9,15,91,46,46,6,16,50,28,11,136,15,110,48,32,38,58,229,8,42,8,8,9,15,53,76,71,7,3,4,9,149,5,28,7,7,27,34,9,71,29,42,57,9,14,16,74,40,17,11,12,18,18,5,20,67,18,14,5,47,48,25,11,30,12,3,23,9,2,52,55,7,4,23,47,6,22,22,57,29,30,68,56,30,11,16,7,36,7,24,33,19,13,13,11,35,9,7,43,110,20,24,11,44,133,35,64,11,13,29,17,26,75,3,4,7,413,13,8,36,5,24,14,15,9,32,28,24,81,8,3,26,24,34,13,12,32,6,32,16,9,17,7,18,55,12,7,24,13,65,14,6,4,17,30,33,56,23,37,7,9,11,11,43,9,4,18,29,18,10,6,15,32,36,57,33,23,7,5,119,43,38,7,14,4,18,101,6,24,125,55,19,43,95,28,10,7,16,42,5,29,8,38,19,3,38,54,17,3,8,65,5,109,42,5,24,46,56,16,2,4,23,10,1,1186,62,3,21,15,13,9,2,1,118,9,79,20,6,8,23,11,27,38,35,6,56,38,12,55,222,65,11,19,42,52,2,12,32,20,46,239,13,130,17,214,8,98,18,28,7,2,19,9,1,15,9,62,24,77,23,1,42,16,27,27,28,18,10,18,8,119,3,12,1,16,8,75,16,30,66,59,27,8,2,10,12,90,34,18,17,181,39,31,7,13,27,15,17,10,36,48,118,8,12,16,27,42,8,18,7,28,66,36,11,17,10,2,40,22,32,49,14,17,8,48,3,30,46,69,59,25,27,8,64,37,198,3,1,35,33,21,8,20,11,44,47,46,9,1,35,188,30,5,9,12,8,53,2,68,6,702,6,14,18,2,41,46,22,3,30,17,26,16,13,22,39,18,14,17,80,15,54,35,2,10,29,1,29,13,17,13,15,30,5,20,12,9,8,16,54,14,36,31,9,5,51,20,32,77,21,7,29,31,35,47,7,27,15,22,14,91,25,25,9,12,3,15,29,39,17,7,16,27,48,4,10,34,20,3,5,22,21,8,661,59,38,99,17,6,42,6,70,12,16,4,26,10,8,9,8,35,34,98,23,39,160,48,14,83,18,19,20,12,19,29,8,27,4,25,26,25,19,11,18,9,25,51,22,14,59,62,18,7,15,31,29,12,26,19,33,62,4,8,22,17,11,18,10,9,33,16,42,91,31,16,5,29,10,3,8,13,27,83,46,2,15,3,6,42,7,37,41,24,6,35,25,12,132,4,3,36,3,38,60,27,15,8,4,8,56,4,69,24,10,15,16,9,39,4,9,16,4,8,10,11,29,8,75,32,20,70,11,73,87,40,23,12,5,4,16,5,13,131,9,83,41,87,36,1,29,107,5,15,25,4,6,22,2,11,199,132,7,25,10,20,7,14,40,1,23,61,38,8,33,4,3,42,43,6,24,27,56,22,37,12,20,13,27,14,6,17,38,18,36,12,16,18,22,27,93,14,5,19,7,5,67,20,5,18,10,51,5,38,29,9,34,49,18,10,11,121,7,83,19,33,3,81,44,10,11,3,33,22,4,15,27,17,9,50,5,37,7,13,14,50,9,87,6,7,47,7,55,89,28,6,191,23,25,50,15,12,61,25,21,90,20,569,7,23,2,44,18,12,23,27,1,50,3,30,32,6,9,42,8,48,8,120,36,27,55,40,3,29,45,10,55,25,6,37,3,14,19,29,56,28,4,3,30,13,178,17,16,21,39,46,34,68,77,81,11,14,10,30,6,26,13,99,8,22,26,9,21,40,43,39,3,4,117,8,61,5,5,8,6,47,10,23,1,4,9,9,10,10,1,32,18,112,13,17,38,4,54,15,34,10,4,10,19,21,28,3,10,12,23,32,2,16,4,10,8,12,36,14,37,15,22,7,58,11,8,20,10,14,37,21,46,57,28,1,11,1,30,47,16,6,17,12,6,17,3,38,9,13,29,4,7,73,16,115,22,28,24,73,1,87,44,64,48,14,7,62,7,418,30,22,43,24,18,20,62,9,30,40,78,14,50,12,15,111,58,14,43,19,27,16,18,9,6,25,17,1,33,20,22,17,10,12,25,61,2,5,28,52,19,33,18,60,14,14,5,14,28,6,16,8,12,28,29,19,34,18,15,21,9,8,73,47,44,34,4,17,15,75,30,9,16,2,13,12,23,29,81,26,44,10,34,46,52,12,24,15,22,51,12,58,380,33,99,7,3,13,7,4,40,49,8,28,66,33,10,101,39,112,32,26,12,7,104,29,40,45,20,88,23,20,11,28,39,55,29,6,11,23,40,15,32,8,17,4,10,11,109,9,21,28,55,27,11,59,2,50,16,29,42,46,2,13,9,48,3,35,24,4,17,15,1,21,7,67,11,9,40,25,46,21,5,35,102,14,14,19,11,10,9,8,13,8,28,18,13,26,29,24,28,16,7,9,86,110,183,12,33,11,33,3,1,109,21,18,9,25,55,35,7,31,10,7,39,9,4,11,3,8,7,9,30,6,2,57,39,27,15,13,6,11,30,210,32,42,16,62,63,7,8,15,65,12,4,7,28,127,13,22,37,70,20,12,16,64,7,2,124,14,7,19,14,2,79,27,57,18,47,59,3,21,128,4,7,6,12,2,31,39,6,45,18,3,7,29,77,8,27,31,39,39,7,271,5,24,6,5,70,14,78,20,16,12,36,59,88,68,12,32,11,28,3,5,4,3,10,18,35,111,14,68,2,1,15,82,13,32,4,16,28,38,28,8,226,215,47,31,14,13,12,12,5,23,8,42,9,2,38,4,116,18,2,51,40,15,19,8,19,17,23,23,19,48,3,266,28,13,37,114,55,14,9,4,14,6,21,15,27,4,19,11,116,35,5,41,19,38,8,25,19,7,28,9,2,16,15,28,19,99,26,28,5,45,1768,38,22,18,50,3,23,35,27,3,35,17,34,21,24,14,55,9,37,62,51,101,25,10,22,24,38,130,12,33,17,9,34,52,15,18,32,18,30,11,7,44,50,48,8,6,3,15,22,251,3,20,67,13,35,63,5,65,16,15,51,18,17,14,17,10,52,55,60,33,24,41,25,43,11,21,25,29,39,6,24,385,30,4,5,5,6,824,10,1,7,13,5,56,12,7,18,6,52,11,11,15,54,9,12,1,28,2,14,15,10,23,3,16,32,1,18,14,8,77,12,21,6,16,28,18,59,42,33,20,5,31,34,10,4,2,20,5,5,30,22,20,36,16,26,4,27,20,32,6,3,27,9,42,22,42,18,3,85,8,41,2,19,25,17,11,67,16,25,26,4,12,26,3,6,6,18,95,31,53,23,47,293,5,16,3,27,29,28,18,22,8,11,46,40,6,70,10,22,10,12,5,45,5,11,24,51,58,10,16,23,16,11,3,39,18,165,10,18,36,12,28,13,20,31,22,23,5,27,20,46,42,21,26,84,14,15,80,6,19,74,35,29,9,75,7,30,55,11,142,72,6,84,1,51,66,15,9,34,7,132,66,18,150,89,6,23,9,134,26,22,14,28,7,38,26,68,53,23,24,7,50,102,7,61,104,82,17,64,10,35,21,38,65,49,43,40,51,69,12,30,2,5,12,3,12,54,16,57,38,60,17,93,64,93,56,107,11,23,64,18,9,7,3,25,40,33,9,5,6,38,15,223,10,14,6,19,3,84,39,7,34,59,5,9,13,35,25,5,43,25,9,42,31,22,14,8,7,68,69,14,44,51,4,7,6,19,5,86,54,9,2,8,24,9,37,4,49,42,9,32,47,27,3,57,62,6,14,33,65,25,4,37,23,49,53,22,20,37,6,26,39,3,21,88,4,2,50,48,45,46,20,20,16,14,13,42,20,26,54,2,32,27,153,3,69,2,73,26,11,3,9,60,67,10,11,38,40,28,1,15,51,1,58,18,51,31,20,7,131,118,13,64,66,90,33,25,13,5,13,15,5,32,81,64,48,28,2,7,11,9,21,11,56,4,11,207,106,31,21,41,15,3,6,4,41,62,14,11,29,5,41,57,7,21,69,31,158,23,4,5,11,35,11,40,23,37,31,4,9,18,58,29,3,6,11,51,56,22,19,1,2,9,11,6,8,7,260,19,10,14,17,24,3,37,11,47,4,29,20,7,25,20,11,46,240,4,18,161,11,84,12,7,9,26,3,168,36,55,17,14,40,13,13,17,12,25,10,8,1,22,18,17,2,10,165,13,50,18,6,10,40,37,15,13,37,39,23,2,34,56,29,31,31,22,15,35,20,9,98,32,19,8,17,31,11,8,92,18,4,8,2,2,36,5,27,84,88,18,64,5,30,4,145,44,14,20,26,4,15,27,35,40,6,27,37,7,20,4,117,71,5,2,59,74,2,16,64,3,34,10,46,3,63,4,28,27,17,28,21,5,11,27,5,39,26,48,4,5,54,28,22,9,1,13,321,66,24,18,8,15,27,34,15,8,91,11,24,40,13,15,120,15,18,13,16,24,25,14,14,11,20,18,19,29,52,27,20,7,4,33,9,19,11,20,9,29,33,41,21,12,44,9,10,50,5,11,28,41,82,15,25,4,41,9,32,4,3,191,72,14,1,6,26,2,25,8,27,18,89,25,15,31,44,4,33,6,37,5,12,11,4,32,10,26,10,21,81,6,18,3,104,19,4,87,23,26,11,20,22,27,10,45,8,29,6,2,7,45,16,5,14,10,49,11,13,15,17,163,7,21,9,130,83,16,1,13,30,28,16,20,10,10,27,33,29,10,38,6,46,13,23,7,1,35,8,20,40,10,31,159,19,10,9,9,32,39,40,5,4,16,7,18,11,15,39,27,4,66,2,33,18,136,42,61,16,6,121,32,12,27,28,30,23,5,10,7,29,51,1,12,6,21,27,4,21,37,5,50,27,36,8,25,6,30,6,14,61,33,9,19,22,15,181,12,5,8,1,15,22,21,14,34,4,61,70,28,8,7,4,34,5,9,12,5,26,67,9,13,9,40,30,35,2,34,53,87,18,48,33,83,6,6,78,30,50,6,38,13,67,10,21,28,21,21,40,35,10,9,27,26,6,9,25,21,6,7,62,4,32,65,7,12,21,55,19,19,29,8,5,53,2,48,19,44,6,16,7,34,6,32,33,8,3,5,94,93,9,6,31,10,14,28,32,4,48,21,6,14,24,35,29,27,9,6,32,15,15,63,17,35,27,5,15,9,16,20,29,3,46,16,16,7,12,26,4,32,38,28,185,41,7,15,19,4,7,7,34,35,24,10,14,1,24,19,67,30,9,126,9,21,24,37,29,6,4,15,8,15,2,39,36,27,27,11,20,48,90,9,49,74,36,20,38,32,10,7,12,38,15,34,14,32,8,2,52,41,73,35,6,13,18,7,114,55,49,11,51,25,40,11,44,70,97,21,47,10,10,20,8,12,20,21,12,21,4,40,37,13,13,35,69,73,78,10,54,173,15,4,27,64,70,11,26,65,3,4,71,37,56,23,125,6,6,63,585,15,11,70,37,16,12,5,25,1,12,28,162,10,19,29,3,22,16,15,8,11,8,7,11,7,28,23,46,39,9,33,212,68,3,27,36,8,22,3,3,6,22,35,30,8,3,53,37,5,12,110,51,20,34,18,21,24,37,44,23,18,74,85,10,68,21,16,75,27,111,14,14,53,63,23,23,14,8,31,9,25,6,3,26,38,24,6,8,18,9,28,6,40,22,58,149,28,24,28,2,6,46,13,17,11,5,14,46,44,15,18,8,36,2,5,15,27,66,21,37,26,7,56,80,14,14,5,85,28,46,8,6,13,5,40,59,27,18,24,14,16,40,34,65,20,91,8,24,37,38,17,10,10,11,38,44,71,12,51,1,34,43,52,66,16,47,24,38,74,22,90,18,19,14,3,60,6,44,3,15,4,36,22,202,17,127,33,3,25,22,40,16,85,34,6,14,169,10,3,56,4,12,2,33,4,49,6,6,25,17,10,16,10,16,58,12,26,42,33,26,19,29,49,51,15,12,36,194,8,11,10,10,14,3,33,6,115,10,7,22,24,28,23,32,11,29,41,13,15,20,8,35,16,4,16,6,2307,54,34,3,15,14,52,29,14,10,14,36,11,84,4,39,165,23,22,39,8,11,3,25,26,90,19,58,17,18,21,17,44,4,32,22,6,48,3,17,6,93,27,4,7,10,25,14,15,96,11,12,13,52,25,17,10,20,60,15,8,27,83,4,49,53,4,47,2,72,33,36,54,104,13,23,3,5,10,71,3,4,12,15,9,15,13,4,7,7,5,6,4,2,5,9,27,18,58,10,7,42,27,17,8,186,37,2,89,61,60,1,2,26,6,31,18,22,80,86,35,14,47,18,19,30,20,15,29,15,8,28,12,19,35,28,2,39,16,40,26,6,6,56,12,12,34,4,31,11,5,85,64,10,19,25,10,45,12,113,43,5,28,46,21,47,30,10,30,42,18,3,29,4,4,180,7,42,94,32,16,6,32,12,9,6,28,40,121,55,24,28,36,5,8,8,44,9,11,44,21,40,11,9,9,193,216,17,19,56,41,74,14,6,62,6,48,9,8,20,18,468,54,74,33,15,4,51,30,18,39,12,25,17,15,61,10,82,2,62,7,17,16,16,65,33,10,3,37,5,4,22,15,34,32,28,11,60,30,34,55,53,8,37,10,8,63,7,11,19,44,59,7,1,8,44,1,21,12,68,4,38,83,11,15,15,32,78,7,81,23,20,64,19,12,23,7,11,37,4,31,208,32,16,2,1,16,41,62,2,105,17,9,20,15,27,4,33,12,20,54,14,62,28,2,8,13,8,69,168,10,160,86,32,10,18,24,3,44,20,25,5,87,21,13,15,41,13,2,6,33,12,13,14,3,55,28,27,18,15,25,32,2,18,10,62,15,8,38,13,81,24,10,13,22,33,41,9,36,17,13,17,10,4,79,15,5,15,23,24,91,10,13,13,38,43,9,11,36,2,17,6,22,46,62,5,12,83,31,14,37,11,19,9,2,42,19,4,29,9,12,5,58,120,29,49,284,16,15,16,4,26,11,99,21,34,22,30,30,46,7,16,17,129,47,12,33,66,7,25,13,8,5,24,56,24,76,2,6,45,21,18,13,25,6,12,76,18,63,38,59,16,58,45,1439,22,13,8,39,22,1,13,21,36,10,10,8,8,44,44,65,35,26,23,31,74,30,15,33,11,22,8,27,5,16,6,48,3,5,34,29,38,21,13,8,121,59,34,24,12,46,13,22,109,8,61,12,4,26,37,39,4,35,3,7,44,48,22,4,124,33,8,9,21,15,29,26,6,35,7,3,132,24,6,45,12,14,25,17,62,24,29,7,118,44,4,29,23,20,9,62,27,15,3,27,6,21,13,20,1,23,2,3,15,11,27,19,22,14,56,18,20,37,26,2,13,32,35,46,20,64,24,46,76,20,2,32,19,5,27,6,6,59,199,8,60,5,63,8,8,15,113,16,76,4,10,25,43,19,26,11,32,14,8,24,233,12,51,23,33,42,26,30,9,28,14,51,14,2,6,7,34,16,54,24,3,16,2,16,23,2,42,9,2,29,12,14,47,48,36,21,9,35,25,15,14,22,38,29,104,37,7,31,8,32,6,23,18,16,8,31,31,192,18,12,10,4,22,17,147,12,1,26,8,47,43,16,23,76,28,30,25,3,6,3,10,55,5,56,38,29,30,22,71,5,12,17,27,4,71,12,21,24,5,70,21,27,8,12,73,22,36,3,154,15,7,89,21,42,55,28,43,34,23,11,8,1,16,86,60,12,28,61,6,39,12,21,58,37,20,28,34,29,7,5,18,88,250,3,10,37,33,89,52,3,18,26,65,6,5,32,31,6,7,10,14,144,82,20,1,18,10,106,48,27,29,7,26,4,70,20,44,40,10,4,7,42,29,71,28,14,15,41,10,6,30,22,18,8,34,4,87,40,9,86,66,18,2,33,50,1,64,27,12,8,29,26,6,25,40,24,16,14,6,32,29,9,3,11,3,4,20,12,7,29,174,11,31,27,156,16,64,2,20,11,11,59,10,16,22,35,5,15,38,43,21,38,32,3,47,15,18,23,2,5,46,36,1,27,15,51,235,9,42,14,26,59,40,6,65,21,79,63,92,45,27,1,8,15,17,10,41,34,14,3,8,48,112,24,36,21,50,16,43,15,21,42,19,30,14,13,62,3,26,45,10,51,32,7,17,5,4,19,3,18,122,16,4,10,4,34,4,6,5,10,27,29,7,11,30,3,17,33,3,20,2,6,45,46,8,30,8,33,22,32,42,45,30,11,105,208,6,45,1,33,31,38,31,34,16,20,30,13,9,79,19,66,26,38,2,12,1,16,9,13,24,15,32,54,25,81,15,39,104,8,51,12,12,2,14,37,14,32,48,29,38,48,4,13,8,34,28,40,21,14,7,55,3,28,137,60,15,19,87,4,15,13,38,7,36,2,4,8,15,198,7,2,16,52,7,14,8,11,9,12,14,6,16,4,13,37,28,3,40,43,45,62,29,41,13,45,34,10,21,17,12,12,10,127,2,7,40,11,4,50,66,23,14,4,67,17,60,54,7,8,48,3,10,3,25,6,52,6,16,48,52,4,4,13,31,3,11,22,11,5,18,17,11,11,62,12,46,7,85,37,19,65,132,7,26,52,18,76,270,9,30,5,24,32,45,29,20,13,12,1,23,56,19,39,11,60,20,21,15,36,24,19,27,888,5,24,20,21,82,3,4,2,12,5,13,43,26,37,3,19,18,25,18,6,40,6,58,32,40,29,16,10,68,9,7,12,19,20,29,13,69,6,106,78,51,2,2,3,24,16,25,25,62,65,25,12,7,43,42,4,50,32,17,3,2,14,35,37,5,10,4,4,19,26,2,6,21,9,10,37,13,18,29,19,6,30,140,23,8,18,21,35,9,34,12,18,45,6,18,3,15,82,9,10,40,5,39,45,39,15,29,28,27,48,16,4,6,24,93,91,3,13,2,18,3,19,55,15,5,7,19,50,68,7,40,49,12,218,60,67,9,22,90,16,11,8,43,9,41,9,19,11,27,24,6,4,13,1,25,88,34,38,6,36,21,35,26,5,3,15,5,17,21,39,33,29,40,28,22,14,17,126,54,47,7,19,40,32,9,43,27,32,7,20,21,9,12,39,1,7,3,5,12,125,29,23,17,43,3,5,16,19,20,11,129,8,1,19,266,21,7,116,22,7,43,32,98,46,66,18,1,4,112,29,9,30,30,37,27,6,19,22,19,18,7,57,40,34,59,15,8,4,62,4,34,15,6,20,8,10,43,57,25,19,28,15,35,10,98,50,53,37,6,5,15,13,12,15,6,6,52,30,7,69,1,94,9,26,19,121,8,83,58,5,9,32,18,28,7,7,16,14,18,24,13,5,42,39,30,11,20,3,10,95,26,54,76,63,15,5,6,8,9,14,20,12,755,42,37,5,14,76,4,30,45,48,62,12,9,64,26,6,60,23,52,11,29,34,80,42,39,11,4,18,22,16,44,109,3,2,7,17,1,4,35,38,8,53,22,11,3,5,77,555,1,68,5,12,3,63,13,32,14,24,12,3,46,24,1,1,75,14,5,50,302,26,36,9,25,2,2,71,10,27,24,7,10,19,4,60,9,4,8,29,70,6,59,10,5,11,16,8,23,33,11,6,23,23,27,13,29,2,34,35,10,4,38,63,19,16,12,16,13,26,26,5,60,9,34,3,14,7,23,28,125,14,17,25,3,54,37,45,145,46,50,20,54,32,29,9,12,12,2,132,22,3,1,34,39,10,56,22,17,6,363,10,12,108,3,2,28,7,92,11,36,16,27,20,21,12,2,30,9,5,5,9,15,27,10,6,20,4,9,11,5,11,2,32,41,39,34,52,32,7,27,17,22,111,10,32,10,5,105,4,51,11,37,64,5,23,18,14,20,4,28,58,7,16,25,10,57,25,8,15,7,85,19,79,70,12,56,8,10,9,17,93,9,37,15,31,73,20,11,6,95,28,26,63,15,26,13,7,62,19,98,11,6,8,13,11,4,26,17,46,38,21,38,5,37,29,10,76,22,56,23,32,23,72,24,13,8,34,10,21,13,32,22,26,55,2,8,2,10,17,9,17,14,6,39,6,5,16,33,17,13,15,20,19,9,13,25,6,74,35,2,23,52,32,5,14,9,57,11,12,87,18,10,35,28,54,148,10,4,12,18,40,41,23,20,19,19,8,48,21,16,10,57,6,46,68,6,48,38,19,36,12,7,6,9,10,31,6,31,32,11,35,9,22,8,4,14,15,29,30,60,33,24,65,15,17,8,29,7,37,16,4,17,26,24,16,11,48,13,50,5,11,14,28,13,57,52,23,14,5,21,14,13,16,3,87,4,16,6,129,18,85,7,25,26,3,15,14,34,38,9,7,2,35,14,9,29,62,27,8,22,6,13,16,19,12,50,15,108,16,54,8,5,7,23,7,20,26,40,40,17,15,21,7,5,56,5,3,7,25,45,14,12,191,61,46,12,24,80,79,4,30,46,79,78,3,5,19,51,25,36,28,35,56,6,14,6,10,16,28,15,19,41,17,40,104,25,5,14,16,55,34,1,43,5,17,68,19,13,41,61,15,35,13,166,12,25,13,51,52,1,6,27,44,73,24,14,4,6,19,5,62,1,2,19,35,48,39,8,9,5,25,12,24,31,18,27,41,148,66,15,15,5,22,17,51,3,40,5,14,9,3,45,35,1,6,12,19,9,12,14,51,45,36,26,16,37,55,2,119,44,26,14,27,19,103,50,12,15,10,73,20,87,26,9,40,26,14,47,18,13,57,79,34,27,103,14,36,1,11,5,3,19,11,2,30,29,32,18,21,4,80,20,9,20,21,16,5,81,32,25,8,10,51,2,8,34,8,2,134,17,17,364,14,15,30,18,29,10,5,37,14,52,59,40,4,27,6,40,49,5,13,17,7,103,39,20,26,20,18,8,23,8,43,5,16,48,33,41,43,13,38,49,50,67,26,8,23,264,54,65,36,69,43,51,22,43,5,14,95,46,18,78,20,6,37,2,3,74,8,50,38,2,73,11,35,6,13,18,32,5,8,6,3,26,14,28,42,95,4,22,5,13,9,24,9,9,8,56,3,17,7,27,5,7,10,21,16,33,21,74,5,11,5,17,134,7,12,4,7,64,10,26,35,33,14,85,9,4,19,37,12,65,32,25,16,51,40,13,4,95,35,62,21,46,4,21,17,26,28,54,21,16,30,2,34,7,16,29,9,19,32,42,29,7,34,3,11,42,8,65,126,37,10,283,89,11,45,23,7,49,23,8,4,136,67,54,36,9,15,8,17,11,4,58,47,1,27,7,51,22,17,25,31,9,8,8,31,14,1,4,33,21,18,16,8,2,29,9,24,5,14,87,12,26,110,58,3,15,10,48,64,14,74,43,8,98,12,11,134,5,5,1,7,25,5,3,7,45,54,25,59,135,8,10,229,9,8,43,3,36,33,5,51,64,10,10,117,21,81,15,33,43,7,84,7,46,36,10,2,24,9,17,7,7,59],\"type\":\"scatter\",\"hoverinfo\":\"all\",\"hovertemplate\":\"\\u041a\\u043e\\u043b\\u0438\\u0447\\u0435\\u0441\\u0442\\u0432\\u043e \\u0441\\u043e\\u0431\\u044b\\u0442\\u0438\\u0439: %{y}\"}],                        {\"template\":{\"data\":{\"bar\":[{\"error_x\":{\"color\":\"#2a3f5f\"},\"error_y\":{\"color\":\"#2a3f5f\"},\"marker\":{\"line\":{\"color\":\"#E5ECF6\",\"width\":0.5},\"pattern\":{\"fillmode\":\"overlay\",\"size\":10,\"solidity\":0.2}},\"type\":\"bar\"}],\"barpolar\":[{\"marker\":{\"line\":{\"color\":\"#E5ECF6\",\"width\":0.5},\"pattern\":{\"fillmode\":\"overlay\",\"size\":10,\"solidity\":0.2}},\"type\":\"barpolar\"}],\"carpet\":[{\"aaxis\":{\"endlinecolor\":\"#2a3f5f\",\"gridcolor\":\"white\",\"linecolor\":\"white\",\"minorgridcolor\":\"white\",\"startlinecolor\":\"#2a3f5f\"},\"baxis\":{\"endlinecolor\":\"#2a3f5f\",\"gridcolor\":\"white\",\"linecolor\":\"white\",\"minorgridcolor\":\"white\",\"startlinecolor\":\"#2a3f5f\"},\"type\":\"carpet\"}],\"choropleth\":[{\"colorbar\":{\"outlinewidth\":0,\"ticks\":\"\"},\"type\":\"choropleth\"}],\"contour\":[{\"colorbar\":{\"outlinewidth\":0,\"ticks\":\"\"},\"colorscale\":[[0.0,\"#0d0887\"],[0.1111111111111111,\"#46039f\"],[0.2222222222222222,\"#7201a8\"],[0.3333333333333333,\"#9c179e\"],[0.4444444444444444,\"#bd3786\"],[0.5555555555555556,\"#d8576b\"],[0.6666666666666666,\"#ed7953\"],[0.7777777777777778,\"#fb9f3a\"],[0.8888888888888888,\"#fdca26\"],[1.0,\"#f0f921\"]],\"type\":\"contour\"}],\"contourcarpet\":[{\"colorbar\":{\"outlinewidth\":0,\"ticks\":\"\"},\"type\":\"contourcarpet\"}],\"heatmap\":[{\"colorbar\":{\"outlinewidth\":0,\"ticks\":\"\"},\"colorscale\":[[0.0,\"#0d0887\"],[0.1111111111111111,\"#46039f\"],[0.2222222222222222,\"#7201a8\"],[0.3333333333333333,\"#9c179e\"],[0.4444444444444444,\"#bd3786\"],[0.5555555555555556,\"#d8576b\"],[0.6666666666666666,\"#ed7953\"],[0.7777777777777778,\"#fb9f3a\"],[0.8888888888888888,\"#fdca26\"],[1.0,\"#f0f921\"]],\"type\":\"heatmap\"}],\"heatmapgl\":[{\"colorbar\":{\"outlinewidth\":0,\"ticks\":\"\"},\"colorscale\":[[0.0,\"#0d0887\"],[0.1111111111111111,\"#46039f\"],[0.2222222222222222,\"#7201a8\"],[0.3333333333333333,\"#9c179e\"],[0.4444444444444444,\"#bd3786\"],[0.5555555555555556,\"#d8576b\"],[0.6666666666666666,\"#ed7953\"],[0.7777777777777778,\"#fb9f3a\"],[0.8888888888888888,\"#fdca26\"],[1.0,\"#f0f921\"]],\"type\":\"heatmapgl\"}],\"histogram\":[{\"marker\":{\"pattern\":{\"fillmode\":\"overlay\",\"size\":10,\"solidity\":0.2}},\"type\":\"histogram\"}],\"histogram2d\":[{\"colorbar\":{\"outlinewidth\":0,\"ticks\":\"\"},\"colorscale\":[[0.0,\"#0d0887\"],[0.1111111111111111,\"#46039f\"],[0.2222222222222222,\"#7201a8\"],[0.3333333333333333,\"#9c179e\"],[0.4444444444444444,\"#bd3786\"],[0.5555555555555556,\"#d8576b\"],[0.6666666666666666,\"#ed7953\"],[0.7777777777777778,\"#fb9f3a\"],[0.8888888888888888,\"#fdca26\"],[1.0,\"#f0f921\"]],\"type\":\"histogram2d\"}],\"histogram2dcontour\":[{\"colorbar\":{\"outlinewidth\":0,\"ticks\":\"\"},\"colorscale\":[[0.0,\"#0d0887\"],[0.1111111111111111,\"#46039f\"],[0.2222222222222222,\"#7201a8\"],[0.3333333333333333,\"#9c179e\"],[0.4444444444444444,\"#bd3786\"],[0.5555555555555556,\"#d8576b\"],[0.6666666666666666,\"#ed7953\"],[0.7777777777777778,\"#fb9f3a\"],[0.8888888888888888,\"#fdca26\"],[1.0,\"#f0f921\"]],\"type\":\"histogram2dcontour\"}],\"mesh3d\":[{\"colorbar\":{\"outlinewidth\":0,\"ticks\":\"\"},\"type\":\"mesh3d\"}],\"parcoords\":[{\"line\":{\"colorbar\":{\"outlinewidth\":0,\"ticks\":\"\"}},\"type\":\"parcoords\"}],\"pie\":[{\"automargin\":true,\"type\":\"pie\"}],\"scatter\":[{\"marker\":{\"colorbar\":{\"outlinewidth\":0,\"ticks\":\"\"}},\"type\":\"scatter\"}],\"scatter3d\":[{\"line\":{\"colorbar\":{\"outlinewidth\":0,\"ticks\":\"\"}},\"marker\":{\"colorbar\":{\"outlinewidth\":0,\"ticks\":\"\"}},\"type\":\"scatter3d\"}],\"scattercarpet\":[{\"marker\":{\"colorbar\":{\"outlinewidth\":0,\"ticks\":\"\"}},\"type\":\"scattercarpet\"}],\"scattergeo\":[{\"marker\":{\"colorbar\":{\"outlinewidth\":0,\"ticks\":\"\"}},\"type\":\"scattergeo\"}],\"scattergl\":[{\"marker\":{\"colorbar\":{\"outlinewidth\":0,\"ticks\":\"\"}},\"type\":\"scattergl\"}],\"scattermapbox\":[{\"marker\":{\"colorbar\":{\"outlinewidth\":0,\"ticks\":\"\"}},\"type\":\"scattermapbox\"}],\"scatterpolar\":[{\"marker\":{\"colorbar\":{\"outlinewidth\":0,\"ticks\":\"\"}},\"type\":\"scatterpolar\"}],\"scatterpolargl\":[{\"marker\":{\"colorbar\":{\"outlinewidth\":0,\"ticks\":\"\"}},\"type\":\"scatterpolargl\"}],\"scatterternary\":[{\"marker\":{\"colorbar\":{\"outlinewidth\":0,\"ticks\":\"\"}},\"type\":\"scatterternary\"}],\"surface\":[{\"colorbar\":{\"outlinewidth\":0,\"ticks\":\"\"},\"colorscale\":[[0.0,\"#0d0887\"],[0.1111111111111111,\"#46039f\"],[0.2222222222222222,\"#7201a8\"],[0.3333333333333333,\"#9c179e\"],[0.4444444444444444,\"#bd3786\"],[0.5555555555555556,\"#d8576b\"],[0.6666666666666666,\"#ed7953\"],[0.7777777777777778,\"#fb9f3a\"],[0.8888888888888888,\"#fdca26\"],[1.0,\"#f0f921\"]],\"type\":\"surface\"}],\"table\":[{\"cells\":{\"fill\":{\"color\":\"#EBF0F8\"},\"line\":{\"color\":\"white\"}},\"header\":{\"fill\":{\"color\":\"#C8D4E3\"},\"line\":{\"color\":\"white\"}},\"type\":\"table\"}]},\"layout\":{\"annotationdefaults\":{\"arrowcolor\":\"#2a3f5f\",\"arrowhead\":0,\"arrowwidth\":1},\"autotypenumbers\":\"strict\",\"coloraxis\":{\"colorbar\":{\"outlinewidth\":0,\"ticks\":\"\"}},\"colorscale\":{\"diverging\":[[0,\"#8e0152\"],[0.1,\"#c51b7d\"],[0.2,\"#de77ae\"],[0.3,\"#f1b6da\"],[0.4,\"#fde0ef\"],[0.5,\"#f7f7f7\"],[0.6,\"#e6f5d0\"],[0.7,\"#b8e186\"],[0.8,\"#7fbc41\"],[0.9,\"#4d9221\"],[1,\"#276419\"]],\"sequential\":[[0.0,\"#0d0887\"],[0.1111111111111111,\"#46039f\"],[0.2222222222222222,\"#7201a8\"],[0.3333333333333333,\"#9c179e\"],[0.4444444444444444,\"#bd3786\"],[0.5555555555555556,\"#d8576b\"],[0.6666666666666666,\"#ed7953\"],[0.7777777777777778,\"#fb9f3a\"],[0.8888888888888888,\"#fdca26\"],[1.0,\"#f0f921\"]],\"sequentialminus\":[[0.0,\"#0d0887\"],[0.1111111111111111,\"#46039f\"],[0.2222222222222222,\"#7201a8\"],[0.3333333333333333,\"#9c179e\"],[0.4444444444444444,\"#bd3786\"],[0.5555555555555556,\"#d8576b\"],[0.6666666666666666,\"#ed7953\"],[0.7777777777777778,\"#fb9f3a\"],[0.8888888888888888,\"#fdca26\"],[1.0,\"#f0f921\"]]},\"colorway\":[\"#636efa\",\"#EF553B\",\"#00cc96\",\"#ab63fa\",\"#FFA15A\",\"#19d3f3\",\"#FF6692\",\"#B6E880\",\"#FF97FF\",\"#FECB52\"],\"font\":{\"color\":\"#2a3f5f\"},\"geo\":{\"bgcolor\":\"white\",\"lakecolor\":\"white\",\"landcolor\":\"#E5ECF6\",\"showlakes\":true,\"showland\":true,\"subunitcolor\":\"white\"},\"hoverlabel\":{\"align\":\"left\"},\"hovermode\":\"closest\",\"mapbox\":{\"style\":\"light\"},\"paper_bgcolor\":\"white\",\"plot_bgcolor\":\"#E5ECF6\",\"polar\":{\"angularaxis\":{\"gridcolor\":\"white\",\"linecolor\":\"white\",\"ticks\":\"\"},\"bgcolor\":\"#E5ECF6\",\"radialaxis\":{\"gridcolor\":\"white\",\"linecolor\":\"white\",\"ticks\":\"\"}},\"scene\":{\"xaxis\":{\"backgroundcolor\":\"#E5ECF6\",\"gridcolor\":\"white\",\"gridwidth\":2,\"linecolor\":\"white\",\"showbackground\":true,\"ticks\":\"\",\"zerolinecolor\":\"white\"},\"yaxis\":{\"backgroundcolor\":\"#E5ECF6\",\"gridcolor\":\"white\",\"gridwidth\":2,\"linecolor\":\"white\",\"showbackground\":true,\"ticks\":\"\",\"zerolinecolor\":\"white\"},\"zaxis\":{\"backgroundcolor\":\"#E5ECF6\",\"gridcolor\":\"white\",\"gridwidth\":2,\"linecolor\":\"white\",\"showbackground\":true,\"ticks\":\"\",\"zerolinecolor\":\"white\"}},\"shapedefaults\":{\"line\":{\"color\":\"#2a3f5f\"}},\"ternary\":{\"aaxis\":{\"gridcolor\":\"white\",\"linecolor\":\"white\",\"ticks\":\"\"},\"baxis\":{\"gridcolor\":\"white\",\"linecolor\":\"white\",\"ticks\":\"\"},\"bgcolor\":\"#E5ECF6\",\"caxis\":{\"gridcolor\":\"white\",\"linecolor\":\"white\",\"ticks\":\"\"}},\"title\":{\"x\":0.05},\"xaxis\":{\"automargin\":true,\"gridcolor\":\"white\",\"linecolor\":\"white\",\"ticks\":\"\",\"title\":{\"standoff\":15},\"zerolinecolor\":\"white\",\"zerolinewidth\":2},\"yaxis\":{\"automargin\":true,\"gridcolor\":\"white\",\"linecolor\":\"white\",\"ticks\":\"\",\"title\":{\"standoff\":15},\"zerolinecolor\":\"white\",\"zerolinewidth\":2}}},\"margin\":{\"l\":0,\"r\":0},\"title\":{\"text\":\"\\u0420\\u0430\\u0441\\u043f\\u0440\\u0435\\u0434\\u0435\\u043b\\u0435\\u043d\\u0438\\u0435 \\u043a\\u043e\\u043b\\u0438\\u0447\\u0435\\u0441\\u0442\\u0432\\u0430 \\u0441\\u043e\\u0431\\u044b\\u0442\\u0438\\u0439 \\u043d\\u0430 \\u043f\\u043e\\u043b\\u044c\\u0437\\u043e\\u0432\\u0430\\u0442\\u0435\\u043b\\u044f\"},\"xaxis\":{\"title\":{\"text\":\"\\u041f\\u043e\\u043b\\u044c\\u0437\\u043e\\u0432\\u0430\\u0442\\u0435\\u043b\\u0438\"}},\"yaxis\":{\"title\":{\"text\":\"\\u041a\\u043e\\u043b\\u0438\\u0447\\u0435\\u0441\\u0442\\u0432\\u043e \\u0441\\u043e\\u0431\\u044b\\u0442\\u0438\\u0439\"}}},                        {\"responsive\": true}                    ).then(function(){\n",
       "                            \n",
       "var gd = document.getElementById('5f84df69-64c8-4926-a4a6-a99c81b3188b');\n",
       "var x = new MutationObserver(function (mutations, observer) {{\n",
       "        var display = window.getComputedStyle(gd).display;\n",
       "        if (!display || display === 'none') {{\n",
       "            console.log([gd, 'removed!']);\n",
       "            Plotly.purge(gd);\n",
       "            observer.disconnect();\n",
       "        }}\n",
       "}});\n",
       "\n",
       "// Listen for the removal of the full notebook cells\n",
       "var notebookContainer = gd.closest('#notebook-container');\n",
       "if (notebookContainer) {{\n",
       "    x.observe(notebookContainer, {childList: true});\n",
       "}}\n",
       "\n",
       "// Listen for the clearing of the current output cell\n",
       "var outputEl = gd.closest('.output');\n",
       "if (outputEl) {{\n",
       "    x.observe(outputEl, {childList: true});\n",
       "}}\n",
       "\n",
       "                        })                };                });            </script>        </div>"
      ]
     },
     "metadata": {},
     "output_type": "display_data"
    }
   ],
   "source": [
    "fig = go.Figure()\n",
    "\n",
    "fig.add_trace(go.Scatter(y=avg_uid_event['event'], mode='markers'))\n",
    "\n",
    "fig.update_layout(title='Распределение количества событий на пользователя',\n",
    "                  xaxis_title='Пользователи',\n",
    "                  yaxis_title='Количество событий',\n",
    "                  margin=dict(l=0, r=0))\n",
    "\n",
    "fig.update_traces(hoverinfo=\"all\", hovertemplate='Количество событий: %{y}')\n",
    "\n",
    "fig.show()"
   ]
  },
  {
   "cell_type": "markdown",
   "metadata": {},
   "source": [
    "<div class=\"alert alert-danger\">\n",
    "\n",
    "**❌ Комментарий ревьюера v3❌**\n",
    "   \n",
    "   Код не работает\n",
    "\n",
    "</div>\n"
   ]
  },
  {
   "cell_type": "markdown",
   "metadata": {},
   "source": [
    "<div class=\"alert alert-block alert-info\">\n",
    "    \n",
    "1. убрала опечатку\n",
    "2. вот тут у меня уже графики не загружаются, не очень понимаю, что здесь то вдруг стало не так, просто снесу эту часть кода. \n",
    "    \n",
    "</div>"
   ]
  },
  {
   "cell_type": "markdown",
   "metadata": {},
   "source": [
    "<div class=\"alert alert-success\">\n",
    "\n",
    "**✔️ Комментарий ревьюера v4✔️**\n",
    "   \n",
    "   Здесь заработало👍\n",
    "\n",
    "</div>\n"
   ]
  },
  {
   "cell_type": "markdown",
   "metadata": {},
   "source": [
    "При помощи персентилей посмотрим на наличие выбросов:"
   ]
  },
  {
   "cell_type": "code",
   "execution_count": 79,
   "metadata": {},
   "outputs": [
    {
     "name": "stdout",
     "output_type": "stream",
     "text": [
      "перцентили 95 и 99 :  [ 89.  200.5]\n"
     ]
    }
   ],
   "source": [
    "print('перцентили 95 и 99 : ',np.percentile(avg_uid_event['event'], [95, 99]))"
   ]
  },
  {
   "cell_type": "code",
   "execution_count": 80,
   "metadata": {},
   "outputs": [
    {
     "name": "stdout",
     "output_type": "stream",
     "text": [
      "перцентили c 95 по 99 :  [ 89.  100.  115.5 136.  200.5]\n"
     ]
    }
   ],
   "source": [
    "print('перцентили c 95 по 99 : ', np.percentile(avg_uid_event['event'], [95,96,97,98, 99])) \n"
   ]
  },
  {
   "cell_type": "markdown",
   "metadata": {},
   "source": [
    "Вижу, что есть некая часть пользователей (99-ый персентиль) которая генерирует аномальное количество событий (более 200) относительно общей массы. Пользователи с 95 по 99 персентиль генерируют достаточно много событий (от 89 до 136), что тоже много относительно общей массы. Можно смело утверждать, что данное поведение является аномальным и таких пользователей нужно удалить из данных (99 персентиль). По хорошему их нужно убрать из датафрейма, но для начала интересно изучить, какими именно событиями данные аномальные пользователи так отличились:"
   ]
  },
  {
   "cell_type": "markdown",
   "metadata": {},
   "source": [
    "<div class=\"alert alert-warning\">\n",
    "\n",
    "**⚠️ Комментарий ревьюера ⚠️**\n",
    "   \n",
    "   Молодец, что проверяешь данные на аномалии, однако конкретно в этом проекте отсекать их не обязательно, так как они не оказывают влияние на прохождение пользователей шагов воронки \n",
    "\n",
    "</div>"
   ]
  },
  {
   "cell_type": "code",
   "execution_count": 81,
   "metadata": {},
   "outputs": [],
   "source": [
    "avg_uid_event = (exp\n",
    "                 .groupby('user')\n",
    "                 .agg({'event':'count'}))"
   ]
  },
  {
   "cell_type": "code",
   "execution_count": 82,
   "metadata": {},
   "outputs": [
    {
     "data": {
      "text/html": [
       "<div>\n",
       "<style scoped>\n",
       "    .dataframe tbody tr th:only-of-type {\n",
       "        vertical-align: middle;\n",
       "    }\n",
       "\n",
       "    .dataframe tbody tr th {\n",
       "        vertical-align: top;\n",
       "    }\n",
       "\n",
       "    .dataframe thead th {\n",
       "        text-align: right;\n",
       "    }\n",
       "</style>\n",
       "<table border=\"1\" class=\"dataframe\">\n",
       "  <thead>\n",
       "    <tr style=\"text-align: right;\">\n",
       "      <th></th>\n",
       "      <th>user</th>\n",
       "    </tr>\n",
       "    <tr>\n",
       "      <th>event</th>\n",
       "      <th></th>\n",
       "    </tr>\n",
       "  </thead>\n",
       "  <tbody>\n",
       "    <tr>\n",
       "      <th>CartScreenAppear</th>\n",
       "      <td>13072</td>\n",
       "    </tr>\n",
       "    <tr>\n",
       "      <th>PaymentScreenSuccessful</th>\n",
       "      <td>11769</td>\n",
       "    </tr>\n",
       "    <tr>\n",
       "      <th>OffersScreenAppear</th>\n",
       "      <td>5423</td>\n",
       "    </tr>\n",
       "    <tr>\n",
       "      <th>MainScreenAppear</th>\n",
       "      <td>4090</td>\n",
       "    </tr>\n",
       "    <tr>\n",
       "      <th>Tutorial</th>\n",
       "      <td>26</td>\n",
       "    </tr>\n",
       "  </tbody>\n",
       "</table>\n",
       "</div>"
      ],
      "text/plain": [
       "                          user\n",
       "event                         \n",
       "CartScreenAppear         13072\n",
       "PaymentScreenSuccessful  11769\n",
       "OffersScreenAppear        5423\n",
       "MainScreenAppear          4090\n",
       "Tutorial                    26"
      ]
     },
     "execution_count": 82,
     "metadata": {},
     "output_type": "execute_result"
    }
   ],
   "source": [
    "abnormal_uid = avg_uid_event[avg_uid_event['event']> 200.5].index\n",
    "abnoraml = exp.query('user in @abnormal_uid')\n",
    "abnoraml.pivot_table(index='event', aggfunc={'user':'count'}).sort_values(by='user', ascending=False)\n"
   ]
  },
  {
   "cell_type": "markdown",
   "metadata": {},
   "source": [
    "Возможно данные аномальные пользователи могут быть полезными в нашем исследовании. Можно утверждать, что они просматривают карточки товаров и посещают экран успешной покупки чаще, чем совершают другие действия. Может быть это сверх лояльные супер заинтересованные пользователи?\n"
   ]
  },
  {
   "cell_type": "markdown",
   "metadata": {},
   "source": [
    "Сколько всего пользователей в логе?"
   ]
  },
  {
   "cell_type": "code",
   "execution_count": 83,
   "metadata": {},
   "outputs": [
    {
     "name": "stdout",
     "output_type": "stream",
     "text": [
      "Число уникальных пользователей: 7551\n"
     ]
    }
   ],
   "source": [
    "user = exp['user'].nunique()\n",
    "print(f'Число уникальных пользователей: {user}')"
   ]
  },
  {
   "cell_type": "markdown",
   "metadata": {},
   "source": [
    "Данными за какой период вы располагаете? Найдите максимальную и минимальную дату. Постройте гистограмму по дате и времени. Можно ли быть уверенным, что у вас одинаково полные данные за весь период? Технически в логи новых дней по некоторым пользователям могут «доезжать» события из прошлого — это может «перекашивать данные». Определите, с какого момента данные полные и отбросьте более старые. Данными за какой период времени вы располагаете на самом деле?"
   ]
  },
  {
   "cell_type": "code",
   "execution_count": 84,
   "metadata": {},
   "outputs": [
    {
     "name": "stdout",
     "output_type": "stream",
     "text": [
      "Начальная дата: 2019-07-25 04:43:36\n",
      "Конечная дата: 2019-08-07 21:15:17\n",
      "Период диапазона: 13 days 16:31:41\n",
      "Начальная дата: 2019-07-25 04:43:36\n",
      "Конечная дата: 2019-08-07 21:15:17\n",
      "Период диапазона: 13 days 16:31:41\n"
     ]
    }
   ],
   "source": [
    "first_date = exp['datetime'].describe()['first']\n",
    "last_date = exp['datetime'].describe()['last']\n",
    "delay_date = last_date - first_date \n",
    "print('Начальная дата: {}\\n'\n",
    "      'Конечная дата: {}\\n'\n",
    "      'Период диапазона: {}'.format(first_date, last_date, delay_date))\n",
    "print('Начальная дата: {}\\n'\n",
    "      'Конечная дата: {}\\n'\n",
    "      'Период диапазона: {}'.format(first_date, last_date, delay_date))"
   ]
  },
  {
   "cell_type": "markdown",
   "metadata": {},
   "source": [
    "За 13.5 дней у стартапа 7551 уникальных пользователей. Получается 559 пользователей в день в среднем. Предлагаю построить график распределения пользователей по дням: "
   ]
  },
  {
   "cell_type": "code",
   "execution_count": 85,
   "metadata": {},
   "outputs": [
    {
     "data": {
      "image/png": "[encoded data removed]",
      "text/plain": [
       "<Figure size 576x432 with 1 Axes>"
      ]
     },
     "metadata": {
      "needs_background": "light"
     },
     "output_type": "display_data"
    }
   ],
   "source": [
    "plt.figure(figsize =(8, 6))\n",
    "exp['datetime'].hist(\n",
    "                bins=14, edgecolor='black'\n",
    "                )\n",
    "plt.title('Распределение по столбцу EventDateTime')\n",
    "plt.xlabel('Значение')\n",
    "plt.xticks(rotation=45)\n",
    "plt.ylabel('Частота')\n",
    "plt.grid()\n",
    "plt.show()"
   ]
  },
  {
   "cell_type": "markdown",
   "metadata": {},
   "source": [
    "Как будто у нас не одинаково полные данные за весь период. Мало данных за период с 25.07.2019 по 31.07.2019.\n",
    "Значит в большей мере мы оперируем даннными с числом событий за период с 01.08.2019 по 07.08.2019, порядка 35 тысяч/день.\n",
    "\n",
    "Мы изучаем приложение по доставке еды, а чтобы сделаеть заказ пользователю не нужно месяц изучать приложение. Чтобы совершить целевое действие, ему достаточно 1 - 2 дня. Мне кажется, что недели будет достаточно для длительности теста. \n",
    "Далее определим, с какого момента данные полные и отбросим более старые данные: "
   ]
  },
  {
   "cell_type": "code",
   "execution_count": 86,
   "metadata": {},
   "outputs": [
    {
     "data": {
      "text/html": [
       "<div>\n",
       "<style scoped>\n",
       "    .dataframe tbody tr th:only-of-type {\n",
       "        vertical-align: middle;\n",
       "    }\n",
       "\n",
       "    .dataframe tbody tr th {\n",
       "        vertical-align: top;\n",
       "    }\n",
       "\n",
       "    .dataframe thead th {\n",
       "        text-align: right;\n",
       "    }\n",
       "</style>\n",
       "<table border=\"1\" class=\"dataframe\">\n",
       "  <thead>\n",
       "    <tr style=\"text-align: right;\">\n",
       "      <th></th>\n",
       "      <th>index</th>\n",
       "      <th>date</th>\n",
       "    </tr>\n",
       "  </thead>\n",
       "  <tbody>\n",
       "    <tr>\n",
       "      <th>13</th>\n",
       "      <td>2019-07-25</td>\n",
       "      <td>9</td>\n",
       "    </tr>\n",
       "    <tr>\n",
       "      <th>12</th>\n",
       "      <td>2019-07-26</td>\n",
       "      <td>31</td>\n",
       "    </tr>\n",
       "    <tr>\n",
       "      <th>11</th>\n",
       "      <td>2019-07-27</td>\n",
       "      <td>55</td>\n",
       "    </tr>\n",
       "    <tr>\n",
       "      <th>10</th>\n",
       "      <td>2019-07-28</td>\n",
       "      <td>105</td>\n",
       "    </tr>\n",
       "    <tr>\n",
       "      <th>9</th>\n",
       "      <td>2019-07-29</td>\n",
       "      <td>184</td>\n",
       "    </tr>\n",
       "    <tr>\n",
       "      <th>8</th>\n",
       "      <td>2019-07-30</td>\n",
       "      <td>412</td>\n",
       "    </tr>\n",
       "    <tr>\n",
       "      <th>7</th>\n",
       "      <td>2019-07-31</td>\n",
       "      <td>2030</td>\n",
       "    </tr>\n",
       "    <tr>\n",
       "      <th>6</th>\n",
       "      <td>2019-08-07</td>\n",
       "      <td>31096</td>\n",
       "    </tr>\n",
       "    <tr>\n",
       "      <th>5</th>\n",
       "      <td>2019-08-04</td>\n",
       "      <td>32968</td>\n",
       "    </tr>\n",
       "    <tr>\n",
       "      <th>4</th>\n",
       "      <td>2019-08-03</td>\n",
       "      <td>33282</td>\n",
       "    </tr>\n",
       "    <tr>\n",
       "      <th>3</th>\n",
       "      <td>2019-08-02</td>\n",
       "      <td>35554</td>\n",
       "    </tr>\n",
       "    <tr>\n",
       "      <th>2</th>\n",
       "      <td>2019-08-06</td>\n",
       "      <td>35788</td>\n",
       "    </tr>\n",
       "    <tr>\n",
       "      <th>1</th>\n",
       "      <td>2019-08-05</td>\n",
       "      <td>36058</td>\n",
       "    </tr>\n",
       "    <tr>\n",
       "      <th>0</th>\n",
       "      <td>2019-08-01</td>\n",
       "      <td>36141</td>\n",
       "    </tr>\n",
       "  </tbody>\n",
       "</table>\n",
       "</div>"
      ],
      "text/plain": [
       "        index   date\n",
       "13 2019-07-25      9\n",
       "12 2019-07-26     31\n",
       "11 2019-07-27     55\n",
       "10 2019-07-28    105\n",
       "9  2019-07-29    184\n",
       "8  2019-07-30    412\n",
       "7  2019-07-31   2030\n",
       "6  2019-08-07  31096\n",
       "5  2019-08-04  32968\n",
       "4  2019-08-03  33282\n",
       "3  2019-08-02  35554\n",
       "2  2019-08-06  35788\n",
       "1  2019-08-05  36058\n",
       "0  2019-08-01  36141"
      ]
     },
     "execution_count": 86,
     "metadata": {},
     "output_type": "execute_result"
    }
   ],
   "source": [
    "exp['date'].value_counts().reset_index().sort_values('date')"
   ]
  },
  {
   "cell_type": "markdown",
   "metadata": {},
   "source": [
    "Начиная с 2019-08-01 мы видим кратный рост значений целевых действий. Значит, данными до 2019-07-31 включительно мы можем пренебречь"
   ]
  },
  {
   "cell_type": "code",
   "execution_count": 87,
   "metadata": {},
   "outputs": [
    {
     "data": {
      "text/html": [
       "<div>\n",
       "<style scoped>\n",
       "    .dataframe tbody tr th:only-of-type {\n",
       "        vertical-align: middle;\n",
       "    }\n",
       "\n",
       "    .dataframe tbody tr th {\n",
       "        vertical-align: top;\n",
       "    }\n",
       "\n",
       "    .dataframe thead th {\n",
       "        text-align: right;\n",
       "    }\n",
       "</style>\n",
       "<table border=\"1\" class=\"dataframe\">\n",
       "  <thead>\n",
       "    <tr style=\"text-align: right;\">\n",
       "      <th></th>\n",
       "      <th>event</th>\n",
       "      <th>user</th>\n",
       "      <th>timestamp</th>\n",
       "      <th>expid</th>\n",
       "      <th>datetime</th>\n",
       "      <th>date</th>\n",
       "      <th>time</th>\n",
       "    </tr>\n",
       "  </thead>\n",
       "  <tbody>\n",
       "    <tr>\n",
       "      <th>0</th>\n",
       "      <td>MainScreenAppear</td>\n",
       "      <td>7701922487875823903</td>\n",
       "      <td>1564606857</td>\n",
       "      <td>A2</td>\n",
       "      <td>2019-07-31 21:00:57</td>\n",
       "      <td>2019-07-31</td>\n",
       "      <td>21:00:57</td>\n",
       "    </tr>\n",
       "    <tr>\n",
       "      <th>1</th>\n",
       "      <td>MainScreenAppear</td>\n",
       "      <td>2539077412200498909</td>\n",
       "      <td>1564606905</td>\n",
       "      <td>A2</td>\n",
       "      <td>2019-07-31 21:01:45</td>\n",
       "      <td>2019-07-31</td>\n",
       "      <td>21:01:45</td>\n",
       "    </tr>\n",
       "    <tr>\n",
       "      <th>2</th>\n",
       "      <td>OffersScreenAppear</td>\n",
       "      <td>3286987355161301427</td>\n",
       "      <td>1564606941</td>\n",
       "      <td>B</td>\n",
       "      <td>2019-07-31 21:02:21</td>\n",
       "      <td>2019-07-31</td>\n",
       "      <td>21:02:21</td>\n",
       "    </tr>\n",
       "    <tr>\n",
       "      <th>3</th>\n",
       "      <td>OffersScreenAppear</td>\n",
       "      <td>3187166762535343300</td>\n",
       "      <td>1564606943</td>\n",
       "      <td>A2</td>\n",
       "      <td>2019-07-31 21:02:23</td>\n",
       "      <td>2019-07-31</td>\n",
       "      <td>21:02:23</td>\n",
       "    </tr>\n",
       "    <tr>\n",
       "      <th>4</th>\n",
       "      <td>MainScreenAppear</td>\n",
       "      <td>1118952406011435924</td>\n",
       "      <td>1564607005</td>\n",
       "      <td>B</td>\n",
       "      <td>2019-07-31 21:03:25</td>\n",
       "      <td>2019-07-31</td>\n",
       "      <td>21:03:25</td>\n",
       "    </tr>\n",
       "    <tr>\n",
       "      <th>...</th>\n",
       "      <td>...</td>\n",
       "      <td>...</td>\n",
       "      <td>...</td>\n",
       "      <td>...</td>\n",
       "      <td>...</td>\n",
       "      <td>...</td>\n",
       "      <td>...</td>\n",
       "    </tr>\n",
       "    <tr>\n",
       "      <th>241719</th>\n",
       "      <td>MainScreenAppear</td>\n",
       "      <td>4599628364049201812</td>\n",
       "      <td>1565212345</td>\n",
       "      <td>A2</td>\n",
       "      <td>2019-08-07 21:12:25</td>\n",
       "      <td>2019-08-07</td>\n",
       "      <td>21:12:25</td>\n",
       "    </tr>\n",
       "    <tr>\n",
       "      <th>241720</th>\n",
       "      <td>MainScreenAppear</td>\n",
       "      <td>5849806612437486590</td>\n",
       "      <td>1565212439</td>\n",
       "      <td>A1</td>\n",
       "      <td>2019-08-07 21:13:59</td>\n",
       "      <td>2019-08-07</td>\n",
       "      <td>21:13:59</td>\n",
       "    </tr>\n",
       "    <tr>\n",
       "      <th>241721</th>\n",
       "      <td>MainScreenAppear</td>\n",
       "      <td>5746969938801999050</td>\n",
       "      <td>1565212483</td>\n",
       "      <td>A1</td>\n",
       "      <td>2019-08-07 21:14:43</td>\n",
       "      <td>2019-08-07</td>\n",
       "      <td>21:14:43</td>\n",
       "    </tr>\n",
       "    <tr>\n",
       "      <th>241722</th>\n",
       "      <td>MainScreenAppear</td>\n",
       "      <td>5746969938801999050</td>\n",
       "      <td>1565212498</td>\n",
       "      <td>A1</td>\n",
       "      <td>2019-08-07 21:14:58</td>\n",
       "      <td>2019-08-07</td>\n",
       "      <td>21:14:58</td>\n",
       "    </tr>\n",
       "    <tr>\n",
       "      <th>241723</th>\n",
       "      <td>OffersScreenAppear</td>\n",
       "      <td>5746969938801999050</td>\n",
       "      <td>1565212517</td>\n",
       "      <td>A1</td>\n",
       "      <td>2019-08-07 21:15:17</td>\n",
       "      <td>2019-08-07</td>\n",
       "      <td>21:15:17</td>\n",
       "    </tr>\n",
       "  </tbody>\n",
       "</table>\n",
       "<p>241724 rows × 7 columns</p>\n",
       "</div>"
      ],
      "text/plain": [
       "                     event                 user   timestamp expid  \\\n",
       "0         MainScreenAppear  7701922487875823903  1564606857    A2   \n",
       "1         MainScreenAppear  2539077412200498909  1564606905    A2   \n",
       "2       OffersScreenAppear  3286987355161301427  1564606941     B   \n",
       "3       OffersScreenAppear  3187166762535343300  1564606943    A2   \n",
       "4         MainScreenAppear  1118952406011435924  1564607005     B   \n",
       "...                    ...                  ...         ...   ...   \n",
       "241719    MainScreenAppear  4599628364049201812  1565212345    A2   \n",
       "241720    MainScreenAppear  5849806612437486590  1565212439    A1   \n",
       "241721    MainScreenAppear  5746969938801999050  1565212483    A1   \n",
       "241722    MainScreenAppear  5746969938801999050  1565212498    A1   \n",
       "241723  OffersScreenAppear  5746969938801999050  1565212517    A1   \n",
       "\n",
       "                  datetime       date      time  \n",
       "0      2019-07-31 21:00:57 2019-07-31  21:00:57  \n",
       "1      2019-07-31 21:01:45 2019-07-31  21:01:45  \n",
       "2      2019-07-31 21:02:21 2019-07-31  21:02:21  \n",
       "3      2019-07-31 21:02:23 2019-07-31  21:02:23  \n",
       "4      2019-07-31 21:03:25 2019-07-31  21:03:25  \n",
       "...                    ...        ...       ...  \n",
       "241719 2019-08-07 21:12:25 2019-08-07  21:12:25  \n",
       "241720 2019-08-07 21:13:59 2019-08-07  21:13:59  \n",
       "241721 2019-08-07 21:14:43 2019-08-07  21:14:43  \n",
       "241722 2019-08-07 21:14:58 2019-08-07  21:14:58  \n",
       "241723 2019-08-07 21:15:17 2019-08-07  21:15:17  \n",
       "\n",
       "[241724 rows x 7 columns]"
      ]
     },
     "execution_count": 87,
     "metadata": {},
     "output_type": "execute_result"
    }
   ],
   "source": [
    "exp = exp.loc[exp['datetime'] > '2019-07-31 21:00:00'].reset_index(drop=True)\n",
    "exp.sort_values(by='datetime')\n"
   ]
  },
  {
   "cell_type": "markdown",
   "metadata": {},
   "source": [
    "Много ли событий и пользователей вы потеряли, отбросив старые данные?"
   ]
  },
  {
   "cell_type": "code",
   "execution_count": 88,
   "metadata": {},
   "outputs": [
    {
     "name": "stdout",
     "output_type": "stream",
     "text": [
      "<class 'pandas.core.frame.DataFrame'>\n",
      "RangeIndex: 241724 entries, 0 to 241723\n",
      "Data columns (total 7 columns):\n",
      " #   Column     Non-Null Count   Dtype         \n",
      "---  ------     --------------   -----         \n",
      " 0   event      241724 non-null  object        \n",
      " 1   user       241724 non-null  int64         \n",
      " 2   timestamp  241724 non-null  int64         \n",
      " 3   expid      241724 non-null  object        \n",
      " 4   datetime   241724 non-null  datetime64[ns]\n",
      " 5   date       241724 non-null  datetime64[ns]\n",
      " 6   time       241724 non-null  object        \n",
      "dtypes: datetime64[ns](2), int64(2), object(3)\n",
      "memory usage: 12.9+ MB\n"
     ]
    }
   ],
   "source": [
    "exp.info()"
   ]
  },
  {
   "cell_type": "markdown",
   "metadata": {},
   "source": [
    "Было 244126 записей, стало 241724. Мы потеряли порядка 3 тысяч записей, что составляет около 1%. "
   ]
  },
  {
   "cell_type": "code",
   "execution_count": 89,
   "metadata": {},
   "outputs": [
    {
     "name": "stdout",
     "output_type": "stream",
     "text": [
      "Было пользователей = 7551 / Стало = 7538 / На сколько уменьшилось = 13 / Потяря = 0.17%\n",
      "Было событий = 243713 / Стало = 241724 / На сколько уменьшилось = 1989 / Потяря = 0.82%\n"
     ]
    }
   ],
   "source": [
    "new_users = exp['user'].nunique()\n",
    "print(f'Было пользователей = {user} / Стало = {new_users} / На сколько уменьшилось = {user-new_users} / Потяря = {round((user-new_users)/user*100,2)}%')\n",
    "\n",
    "new_events = exp['event'].count()\n",
    "print(f'Было событий = {count_event} / Стало = {new_events} / На сколько уменьшилось = {count_event-new_events} / Потяря = {round((count_event-new_events)/count_event*100,2)}%')\n"
   ]
  },
  {
   "cell_type": "markdown",
   "metadata": {},
   "source": [
    "Удалив из датафрейма данные за неделю июля, мы потеряли 0,17% пользователей - что совсем незначительно, и 0,82% (незначительно) событий. Считаю, что данные потери (после корректировки диапазона исследования) допустимы. "
   ]
  },
  {
   "cell_type": "markdown",
   "metadata": {},
   "source": [
    "Проверьте, что у вас есть пользователи из всех трёх экспериментальных групп."
   ]
  },
  {
   "cell_type": "code",
   "execution_count": 90,
   "metadata": {},
   "outputs": [
    {
     "data": {
      "text/html": [
       "<div>\n",
       "<style scoped>\n",
       "    .dataframe tbody tr th:only-of-type {\n",
       "        vertical-align: middle;\n",
       "    }\n",
       "\n",
       "    .dataframe tbody tr th {\n",
       "        vertical-align: top;\n",
       "    }\n",
       "\n",
       "    .dataframe thead tr th {\n",
       "        text-align: left;\n",
       "    }\n",
       "\n",
       "    .dataframe thead tr:last-of-type th {\n",
       "        text-align: right;\n",
       "    }\n",
       "</style>\n",
       "<table border=\"1\" class=\"dataframe\">\n",
       "  <thead>\n",
       "    <tr>\n",
       "      <th></th>\n",
       "      <th colspan=\"2\" halign=\"left\">user</th>\n",
       "    </tr>\n",
       "    <tr>\n",
       "      <th></th>\n",
       "      <th>count</th>\n",
       "      <th>nunique</th>\n",
       "    </tr>\n",
       "    <tr>\n",
       "      <th>expid</th>\n",
       "      <th></th>\n",
       "      <th></th>\n",
       "    </tr>\n",
       "  </thead>\n",
       "  <tbody>\n",
       "    <tr>\n",
       "      <th>A1</th>\n",
       "      <td>79556</td>\n",
       "      <td>2484</td>\n",
       "    </tr>\n",
       "    <tr>\n",
       "      <th>A2</th>\n",
       "      <td>77293</td>\n",
       "      <td>2517</td>\n",
       "    </tr>\n",
       "    <tr>\n",
       "      <th>B</th>\n",
       "      <td>84875</td>\n",
       "      <td>2537</td>\n",
       "    </tr>\n",
       "  </tbody>\n",
       "</table>\n",
       "</div>"
      ],
      "text/plain": [
       "        user        \n",
       "       count nunique\n",
       "expid               \n",
       "A1     79556    2484\n",
       "A2     77293    2517\n",
       "B      84875    2537"
      ]
     },
     "execution_count": 90,
     "metadata": {},
     "output_type": "execute_result"
    }
   ],
   "source": [
    "exp.groupby('expid').agg({'user': ['count', 'nunique']})"
   ]
  },
  {
   "cell_type": "markdown",
   "metadata": {},
   "source": [
    "Даже после проделанных процедур данные содержат сравнительно одинаковое количество представителей всех трех экспериментальных групп. Пользователей в каждой группе примерно по 2,5 тысячи, с незначительными отклонениями."
   ]
  },
  {
   "cell_type": "markdown",
   "metadata": {},
   "source": [
    "Вывод: \n",
    "\n",
    "Мы изучили и проверили данные из логов.\n",
    "\n",
    "В датафрейме представлено  5 событий: MainScreenAppear, OffersScreenAppear, CartScreenAppear, PaymentScreenSuccessful и Tutorial.\n",
    "\n",
    "Сейчас в датасете 7538 уникальных идетификаторов пользователя.\n",
    "\n",
    "В среднем на пользователя приходится 32 события. \n",
    "\n",
    "Максимальная дата - 7 августа 2019 года. Минимальная дата - 25 июля 2019 года.\n",
    "\n",
    "Мало данных за период с 25.07.2019 по 31.07.2019, а большая часть событий приходится на период с 01.08.2019 по 07.08.2019, порядка 35 тысяч в день. В соответствии с этим мы выбрали корректный временной интервал для дальнейшей работы (01.08-07.08)\n",
    "\n",
    "Если говорить о достоверности анализа данных за 7-8 дней, то, в нашем случае это приложение по доставке еды, поэтому человеку не нужно находиться в приложении месяц, чтобы сделать заказ ему достаточно 1- возможно 2 дня.\n",
    "\n",
    "Мы выявили, что  пользователи с аномально большим количеством событий генерируют ценные события (просмотр корзины и покупки), а не просто запускают приложение и уходят из него\n",
    "\n",
    "Отбросив малочисленные данные за 1 неделю, мы потеряли порядка 3 тысяч записей. Среди общего числа записей это составляет незначительный процент, порядка 1%. Потеря пользователей минимальна - 17 человек.\n",
    "\n",
    "Уникальные пользователи из всех трех экспериментальных групп у нас есть примерно в равном соотношении."
   ]
  },
  {
   "cell_type": "markdown",
   "metadata": {},
   "source": [
    "<div class=\"alert alert-success\">\n",
    "\n",
    "**✔️ Комментарий ревьюера ✔️**\n",
    "   \n",
    "   Хорошо, мы убедились, что доля потерь мала, а пользователи сохранены по каждой из трех групп после фильтрации - приступим к изучению воронки\n",
    "\n",
    "</div>\n"
   ]
  },
  {
   "cell_type": "markdown",
   "metadata": {},
   "source": [
    "### Шаг 4. Изучите воронку событий"
   ]
  },
  {
   "cell_type": "markdown",
   "metadata": {},
   "source": [
    "- Посмотрите, какие события есть в логах, как часто они встречаются. Отсортируйте события по частоте.\n",
    "- Посчитайте, сколько пользователей совершали каждое из этих событий. Отсортируйте события по числу пользователей. Посчитайте долю пользователей, которые хоть раз совершали событие.\n",
    "- Предположите, в каком порядке происходят события. Все ли они выстраиваются в последовательную цепочку? Их не нужно учитывать при расчёте воронки.\n",
    "- По воронке событий посчитайте, какая доля пользователей проходит на следующий шаг воронки (от числа пользователей на предыдущем). То есть для последовательности событий A → B → C посчитайте отношение числа пользователей с событием B к количеству пользователей с событием A, а также отношение числа пользователей с событием C к количеству пользователей с событием B.\n",
    "- На каком шаге теряете больше всего пользователей?\n",
    "- Какая доля пользователей доходит от первого события до оплаты?"
   ]
  },
  {
   "cell_type": "markdown",
   "metadata": {},
   "source": [
    "Посмотрите, какие события есть в логах, как часто они встречаются. Отсортируйте события по частоте."
   ]
  },
  {
   "cell_type": "code",
   "execution_count": 91,
   "metadata": {},
   "outputs": [
    {
     "name": "stdout",
     "output_type": "stream",
     "text": [
      "События в порядке убывания по частоте встречаемости:\n"
     ]
    },
    {
     "data": {
      "text/plain": [
       "MainScreenAppear           117889\n",
       "OffersScreenAppear          46531\n",
       "CartScreenAppear            42343\n",
       "PaymentScreenSuccessful     33951\n",
       "Tutorial                     1010\n",
       "Name: event, dtype: int64"
      ]
     },
     "execution_count": 91,
     "metadata": {},
     "output_type": "execute_result"
    }
   ],
   "source": [
    "print('События в порядке убывания по частоте встречаемости:')\n",
    "exp['event'].value_counts()"
   ]
  },
  {
   "cell_type": "markdown",
   "metadata": {},
   "source": [
    "В логах есть события:\n",
    "MainScreenAppear - Появление Главного экрана\n",
    "OffersScreenAppear - Появление Экрана Предложений\n",
    "CartScreenAppear - Появление Экрана Корзины\n",
    "PaymentScreenSuccessful - Экран Платеж Успешен\n",
    "Tutorial - Руководство пользователя\n",
    "\n",
    "Чаще всего встречается событие с переходом на главный экран."
   ]
  },
  {
   "cell_type": "markdown",
   "metadata": {},
   "source": [
    "<div class=\"alert alert-block alert-info\">\n",
    "Убираю данные диаграммы. По какой то причине они не грузяться, а весь проект ломается на них. \n",
    "    \n",
    "</div>"
   ]
  },
  {
   "cell_type": "markdown",
   "metadata": {},
   "source": [
    "Почти половину  событий это MainScreenAppear (Появление Главного экрана), вторая половина это другие 3 события с близкими результатами - OffersScreenAppear (Появление Экрана Предложений), CartScreenAppear (Появление Экрана Корзины)  и PaymentScreenSuccessful (Экран Платеж Успешен). Остальное (менее 1%) - Tutorial (Руководство пользователя), почти незаметно, им похоже можно пренебречь в будущем, к тому же какую пользу можно извлечь из этой информации пока не понятно. Среди пяти событий мы видим явного лидера (MainScreenAppear) и аутсайдера (Tutorial).\n",
    "Возможно структура онлайн платтформы по продаже продуктов питания достаточно интуитивно понятно создана для покупок, так что к туториалу прибегают не часто. Однако и до покупки доходит лишь около  14% (конечно хотелось бы видеть больший процент). "
   ]
  },
  {
   "cell_type": "markdown",
   "metadata": {},
   "source": [
    "Посчитайте, сколько пользователей совершали каждое из этих событий. Отсортируйте события по числу пользователей. Посчитайте долю пользователей, которые хоть раз совершали событие."
   ]
  },
  {
   "cell_type": "code",
   "execution_count": 92,
   "metadata": {},
   "outputs": [
    {
     "data": {
      "text/html": [
       "<div>\n",
       "<style scoped>\n",
       "    .dataframe tbody tr th:only-of-type {\n",
       "        vertical-align: middle;\n",
       "    }\n",
       "\n",
       "    .dataframe tbody tr th {\n",
       "        vertical-align: top;\n",
       "    }\n",
       "\n",
       "    .dataframe thead th {\n",
       "        text-align: right;\n",
       "    }\n",
       "</style>\n",
       "<table border=\"1\" class=\"dataframe\">\n",
       "  <thead>\n",
       "    <tr style=\"text-align: right;\">\n",
       "      <th></th>\n",
       "      <th>event</th>\n",
       "      <th>n_events</th>\n",
       "      <th>users</th>\n",
       "      <th>users_part_1event</th>\n",
       "    </tr>\n",
       "  </thead>\n",
       "  <tbody>\n",
       "    <tr>\n",
       "      <th>0</th>\n",
       "      <td>MainScreenAppear</td>\n",
       "      <td>117889</td>\n",
       "      <td>7423</td>\n",
       "      <td>98.5</td>\n",
       "    </tr>\n",
       "    <tr>\n",
       "      <th>1</th>\n",
       "      <td>OffersScreenAppear</td>\n",
       "      <td>46531</td>\n",
       "      <td>4597</td>\n",
       "      <td>61.0</td>\n",
       "    </tr>\n",
       "    <tr>\n",
       "      <th>2</th>\n",
       "      <td>CartScreenAppear</td>\n",
       "      <td>42343</td>\n",
       "      <td>3736</td>\n",
       "      <td>49.6</td>\n",
       "    </tr>\n",
       "    <tr>\n",
       "      <th>3</th>\n",
       "      <td>PaymentScreenSuccessful</td>\n",
       "      <td>33951</td>\n",
       "      <td>3540</td>\n",
       "      <td>47.0</td>\n",
       "    </tr>\n",
       "    <tr>\n",
       "      <th>4</th>\n",
       "      <td>Tutorial</td>\n",
       "      <td>1010</td>\n",
       "      <td>843</td>\n",
       "      <td>11.2</td>\n",
       "    </tr>\n",
       "  </tbody>\n",
       "</table>\n",
       "</div>"
      ],
      "text/plain": [
       "                     event  n_events  users  users_part_1event\n",
       "0         MainScreenAppear    117889   7423               98.5\n",
       "1       OffersScreenAppear     46531   4597               61.0\n",
       "2         CartScreenAppear     42343   3736               49.6\n",
       "3  PaymentScreenSuccessful     33951   3540               47.0\n",
       "4                 Tutorial      1010    843               11.2"
      ]
     },
     "execution_count": 92,
     "metadata": {},
     "output_type": "execute_result"
    }
   ],
   "source": [
    "events_users = exp.groupby('event').agg({'event':'count', 'user':'nunique'}).sort_values(by='user', ascending=False)\n",
    "events_users.columns = ['n_events', 'users']\n",
    "events_users = events_users.reset_index()\n",
    "events_users['users_part_1event'] = (events_users['users'] / new_users * 100).round(1) # доля хотя бы раз совершивших событие\n",
    "events_users"
   ]
  },
  {
   "cell_type": "markdown",
   "metadata": {},
   "source": [
    "Характеристики таблицы:\n",
    "Столбец \"n_events\" - количество событий\n",
    "Столбец \"users\" - количество пользователей\n",
    "Столбец \"users_part_1event\" - доля пользователей \"получивших\" хотябы одно событие\n",
    "\n",
    "Построим график соотношения событий по числу и по долям пользователей: "
   ]
  },
  {
   "cell_type": "code",
   "execution_count": 93,
   "metadata": {},
   "outputs": [
    {
     "data": {
      "image/png": "[encoded data removed]",
      "text/plain": [
       "<Figure size 864x432 with 1 Axes>"
      ]
     },
     "metadata": {
      "needs_background": "light"
     },
     "output_type": "display_data"
    }
   ],
   "source": [
    "plt.figure(figsize=(12,6))\n",
    "sns.barplot(y='users', x='event', data=events_users, palette='ocean');\n",
    "plt.xlabel('Событие')\n",
    "plt.grid()\n",
    "plt.ylabel('Число пользователей')\n",
    "plt.title('События по числу пользователей')\n",
    "plt.show();\n"
   ]
  },
  {
   "cell_type": "code",
   "execution_count": 94,
   "metadata": {},
   "outputs": [
    {
     "data": {
      "image/png": "[encoded data removed]",
      "text/plain": [
       "<Figure size 864x432 with 1 Axes>"
      ]
     },
     "metadata": {
      "needs_background": "light"
     },
     "output_type": "display_data"
    }
   ],
   "source": [
    "plt.figure(figsize=(12,6))\n",
    "\n",
    "sns.barplot(y=('users_part_1event'), x='event', data=events_users, palette='ocean');\n",
    "plt.xlabel('Событие')\n",
    "plt.grid()\n",
    "plt.ylabel('Доля в %')\n",
    "plt.title('Доли пользователей совершивших хоть одно событие от всех пользователей')\n",
    "plt.show();"
   ]
  },
  {
   "cell_type": "markdown",
   "metadata": {},
   "source": [
    "Вопрос, который остается открытым: соответствует ли в каждой из групп распределение пользователей, совершивших хоть одно событие общей картине (или есть некоторые отклонения?)\n",
    "Для этого создадим датафрейм с распределением по группам пользователей, соверхивших хоть одно событие, а затем выведем результаты графически:"
   ]
  },
  {
   "cell_type": "code",
   "execution_count": 95,
   "metadata": {},
   "outputs": [
    {
     "data": {
      "text/html": [
       "<div>\n",
       "<style scoped>\n",
       "    .dataframe tbody tr th:only-of-type {\n",
       "        vertical-align: middle;\n",
       "    }\n",
       "\n",
       "    .dataframe tbody tr th {\n",
       "        vertical-align: top;\n",
       "    }\n",
       "\n",
       "    .dataframe thead th {\n",
       "        text-align: right;\n",
       "    }\n",
       "</style>\n",
       "<table border=\"1\" class=\"dataframe\">\n",
       "  <thead>\n",
       "    <tr style=\"text-align: right;\">\n",
       "      <th></th>\n",
       "      <th>event</th>\n",
       "      <th>expid</th>\n",
       "      <th>n_events</th>\n",
       "      <th>users</th>\n",
       "      <th>users_part_1event</th>\n",
       "    </tr>\n",
       "  </thead>\n",
       "  <tbody>\n",
       "    <tr>\n",
       "      <th>0</th>\n",
       "      <td>MainScreenAppear</td>\n",
       "      <td>B</td>\n",
       "      <td>40740</td>\n",
       "      <td>2494</td>\n",
       "      <td>98.3</td>\n",
       "    </tr>\n",
       "    <tr>\n",
       "      <th>1</th>\n",
       "      <td>OffersScreenAppear</td>\n",
       "      <td>B</td>\n",
       "      <td>16465</td>\n",
       "      <td>1531</td>\n",
       "      <td>60.3</td>\n",
       "    </tr>\n",
       "    <tr>\n",
       "      <th>2</th>\n",
       "      <td>CartScreenAppear</td>\n",
       "      <td>B</td>\n",
       "      <td>15207</td>\n",
       "      <td>1231</td>\n",
       "      <td>48.5</td>\n",
       "    </tr>\n",
       "    <tr>\n",
       "      <th>3</th>\n",
       "      <td>PaymentScreenSuccessful</td>\n",
       "      <td>B</td>\n",
       "      <td>12110</td>\n",
       "      <td>1182</td>\n",
       "      <td>46.6</td>\n",
       "    </tr>\n",
       "    <tr>\n",
       "      <th>4</th>\n",
       "      <td>Tutorial</td>\n",
       "      <td>B</td>\n",
       "      <td>353</td>\n",
       "      <td>281</td>\n",
       "      <td>11.1</td>\n",
       "    </tr>\n",
       "    <tr>\n",
       "      <th>5</th>\n",
       "      <td>MainScreenAppear</td>\n",
       "      <td>A2</td>\n",
       "      <td>39294</td>\n",
       "      <td>2479</td>\n",
       "      <td>98.5</td>\n",
       "    </tr>\n",
       "    <tr>\n",
       "      <th>6</th>\n",
       "      <td>OffersScreenAppear</td>\n",
       "      <td>A2</td>\n",
       "      <td>15237</td>\n",
       "      <td>1524</td>\n",
       "      <td>60.5</td>\n",
       "    </tr>\n",
       "    <tr>\n",
       "      <th>7</th>\n",
       "      <td>CartScreenAppear</td>\n",
       "      <td>A2</td>\n",
       "      <td>12439</td>\n",
       "      <td>1239</td>\n",
       "      <td>49.2</td>\n",
       "    </tr>\n",
       "    <tr>\n",
       "      <th>8</th>\n",
       "      <td>PaymentScreenSuccessful</td>\n",
       "      <td>A2</td>\n",
       "      <td>9983</td>\n",
       "      <td>1158</td>\n",
       "      <td>46.0</td>\n",
       "    </tr>\n",
       "    <tr>\n",
       "      <th>9</th>\n",
       "      <td>Tutorial</td>\n",
       "      <td>A2</td>\n",
       "      <td>340</td>\n",
       "      <td>284</td>\n",
       "      <td>11.3</td>\n",
       "    </tr>\n",
       "    <tr>\n",
       "      <th>10</th>\n",
       "      <td>MainScreenAppear</td>\n",
       "      <td>A1</td>\n",
       "      <td>37855</td>\n",
       "      <td>2450</td>\n",
       "      <td>98.6</td>\n",
       "    </tr>\n",
       "    <tr>\n",
       "      <th>11</th>\n",
       "      <td>OffersScreenAppear</td>\n",
       "      <td>A1</td>\n",
       "      <td>14829</td>\n",
       "      <td>1542</td>\n",
       "      <td>62.1</td>\n",
       "    </tr>\n",
       "    <tr>\n",
       "      <th>12</th>\n",
       "      <td>CartScreenAppear</td>\n",
       "      <td>A1</td>\n",
       "      <td>14697</td>\n",
       "      <td>1266</td>\n",
       "      <td>51.0</td>\n",
       "    </tr>\n",
       "    <tr>\n",
       "      <th>13</th>\n",
       "      <td>PaymentScreenSuccessful</td>\n",
       "      <td>A1</td>\n",
       "      <td>11858</td>\n",
       "      <td>1200</td>\n",
       "      <td>48.3</td>\n",
       "    </tr>\n",
       "    <tr>\n",
       "      <th>14</th>\n",
       "      <td>Tutorial</td>\n",
       "      <td>A1</td>\n",
       "      <td>317</td>\n",
       "      <td>278</td>\n",
       "      <td>11.2</td>\n",
       "    </tr>\n",
       "  </tbody>\n",
       "</table>\n",
       "</div>"
      ],
      "text/plain": [
       "                      event expid  n_events  users  users_part_1event\n",
       "0          MainScreenAppear     B     40740   2494               98.3\n",
       "1        OffersScreenAppear     B     16465   1531               60.3\n",
       "2          CartScreenAppear     B     15207   1231               48.5\n",
       "3   PaymentScreenSuccessful     B     12110   1182               46.6\n",
       "4                  Tutorial     B       353    281               11.1\n",
       "5          MainScreenAppear    A2     39294   2479               98.5\n",
       "6        OffersScreenAppear    A2     15237   1524               60.5\n",
       "7          CartScreenAppear    A2     12439   1239               49.2\n",
       "8   PaymentScreenSuccessful    A2      9983   1158               46.0\n",
       "9                  Tutorial    A2       340    284               11.3\n",
       "10         MainScreenAppear    A1     37855   2450               98.6\n",
       "11       OffersScreenAppear    A1     14829   1542               62.1\n",
       "12         CartScreenAppear    A1     14697   1266               51.0\n",
       "13  PaymentScreenSuccessful    A1     11858   1200               48.3\n",
       "14                 Tutorial    A1       317    278               11.2"
      ]
     },
     "execution_count": 95,
     "metadata": {},
     "output_type": "execute_result"
    }
   ],
   "source": [
    "event_grouped_by_users = exp.groupby(['event','expid']).agg({'event':'count', 'user':'nunique'})\n",
    "event_grouped_by_users.columns = ['n_events', 'users']\n",
    "event_grouped_by_users = event_grouped_by_users.reset_index()\n",
    "\n",
    "a1_users = exp[exp['expid']=='A1']['user'].nunique()\n",
    "a2_users = exp[exp['expid']=='A2']['user'].nunique()\n",
    "b_users = exp[exp['expid']=='B']['user'].nunique()\n",
    "\n",
    "def users_part_group(row):\n",
    "    if row['expid']=='A1':\n",
    "        return (row['users'] / a1_users * 100)\n",
    "    elif row['expid']=='A2':\n",
    "        return (row['users'] / a2_users * 100)\n",
    "    elif row['expid']=='B':\n",
    "        return (row['users'] / b_users * 100)\n",
    "\n",
    "event_grouped_by_users['users_part_1event'] = event_grouped_by_users.apply(users_part_group, axis=1)\n",
    "event_grouped_by_users['users_part_1event']= event_grouped_by_users['users_part_1event'].round(1)\n",
    "event_grouped_by_users.sort_values(by=['expid','users'], ascending=False).reset_index(drop=True)\n",
    "\n"
   ]
  },
  {
   "cell_type": "code",
   "execution_count": 96,
   "metadata": {},
   "outputs": [
    {
     "data": {
      "text/plain": [
       "0           MainScreenAppear\n",
       "1         OffersScreenAppear\n",
       "2           CartScreenAppear\n",
       "3    PaymentScreenSuccessful\n",
       "4                   Tutorial\n",
       "Name: event, dtype: object"
      ]
     },
     "execution_count": 96,
     "metadata": {},
     "output_type": "execute_result"
    }
   ],
   "source": [
    "order = events_users['event']\n",
    "order"
   ]
  },
  {
   "cell_type": "code",
   "execution_count": 97,
   "metadata": {},
   "outputs": [
    {
     "data": {
      "image/png": "[encoded data removed]",
      "text/plain": [
       "<Figure size 913.25x432 with 1 Axes>"
      ]
     },
     "metadata": {
      "needs_background": "light"
     },
     "output_type": "display_data"
    }
   ],
   "source": [
    "sns.catplot(y=\"event\", x=\"users_part_1event\",\n",
    "                hue=\"expid\", order=order, palette='nipy_spectral',\n",
    "                data=event_grouped_by_users, kind=\"bar\",\n",
    "                height=6, aspect=2.0)\n",
    "plt.ylabel('Событие')\n",
    "plt.grid()\n",
    "plt.xlabel('Доля в %')\n",
    "plt.title('Доли пользователей, совершивших хотя бы одно событие, от всех пользователей (по группам)');\n"
   ]
  },
  {
   "cell_type": "markdown",
   "metadata": {},
   "source": [
    "Мы видим, что данные по группам распределены довольно равномерно. В событиях MainScreenAppear, OffersScreenAppear, CartScreenAppear, PaymentScreenSuccessful судя по графику незначительно преобладают пользователи группы А1. \n",
    "\n",
    "MainScreenAppear оказался тем событием, где пользователи совершают самое большое число событий, так же здесь мы видим наибольшее количество пользователей  и долей пользователей, совершивших хотя бы одно событие.\n",
    "Расположим события в порядке убывания (составим воронку событий):\n",
    "- MainScreenAppear(~98.5%) - Появление Главного экрана - Зашли на сайт. Судя по названию это главный/первый экран приложения. И вероятно все пользователи начинают свое посещение именно с него.\n",
    "- OffersScreenAppear(~61%) - Появление Экрана Предложений - экран с продаваемыми продуктами питания. Видимо здесь пользователи искали товар по каталогу. \n",
    "- CartScreenAppear(~49.6%) - Появление Экрана Корзины - Добавили в корзину карточки товара. \n",
    "- PaymentScreenSuccessful(~47%) - Экран Платеж Успешен - Оплатили товары из корзины. \n",
    "- Tutorial(~11%) - Руководство пользователя - Изучали инструкцию. Как будто логичнее, что пользователи вначале изучают приложение и потом уже им пользуются. Но судя по данным можно сказать, что у нас получилось очень простое/удобное приложение и в обучении нуждается лишь малая часть пользователей. Спасибо UX/UI сотрудникам!=) (вопрос, насколько это событие вообще должно попадать в воронку, процент пользователей здесь ничтожно мал, а так же данное событие совершенно не обязательно для осуществления пользователем покупки) "
   ]
  },
  {
   "cell_type": "markdown",
   "metadata": {},
   "source": [
    "Предположите, в каком порядке происходят события. Все ли они выстраиваются в последовательную цепочку? Их не нужно учитывать при расчёте воронки."
   ]
  },
  {
   "cell_type": "markdown",
   "metadata": {},
   "source": [
    "По предыдущим рассчетам и графическим данным моуг сделать вывод, что порядок событий возможно не явлется строгим, но вероятно сначала пользователь видит основной экран (MainScreenAppear), затем экран с оффером (OffersScreenAppear), далее попадает в корзину (CartScreenAppear) и видит экран успешной оплаты (PaymentScreenSuccessful). \n",
    "\n",
    "Туториал, наверное, можно в начале скипнуть или посмотреть полностью (или вернуться к нему, если вдруг потерялся), но стоит ли включать его в воронку - вопрос хороший. \n",
    "\n",
    "Далее проверим, во всех ли группах одинаковая зависимость событий по количеству событий в категории:"
   ]
  },
  {
   "cell_type": "code",
   "execution_count": 98,
   "metadata": {},
   "outputs": [
    {
     "data": {
      "image/png": "[encoded data removed]",
      "text/plain": [
       "<Figure size 907.2x432 with 3 Axes>"
      ]
     },
     "metadata": {
      "needs_background": "light"
     },
     "output_type": "display_data"
    }
   ],
   "source": [
    "order_of_events = sns.catplot(y=\"users_part_1event\", x=\"event\",\n",
    "                  col=\"expid\", order=order, palette='nipy_spectral',\n",
    "                data=event_grouped_by_users, kind=\"bar\",\n",
    "                 aspect=0.7, height=6). \\\n",
    "    set_xlabels('Событие').set_ylabels('Доля в %').set_xticklabels([\"Main\", \"Offers\", \"Cart\", \"Payment\", \"Tutorial\"]);\n"
   ]
  },
  {
   "cell_type": "markdown",
   "metadata": {},
   "source": [
    "Результаты оказались достаточно симметричны, так что делаем вывод, что воронка идет по цепочке через следующие этапы:\n",
    "\n",
    "- MainScreenAppear - Появление Главного экрана - Зашли на сайт\n",
    "- OffersScreenAppear - Появление Экрана Предложений - Искали товар по каталогу\n",
    "- CartScreenAppear - Появление Экрана Корзины - Добавили в корзину\n",
    "- PaymentScreenSuccessful - Экран Платеж Успешен - Оплатили\n",
    "- Tutorial - Руководство пользователя - Изучали инструкцию - судя по небольшому проценту пользователей,совершивших данное событие, данным этапом пренебрегают при совершении покупки и мы можем не учитывать его в нашем исследовании. Далее уберем этот этап из анализа: \n"
   ]
  },
  {
   "cell_type": "markdown",
   "metadata": {},
   "source": [
    "<div class=\"alert alert-danger\">\n",
    "\n",
    "**❌ Комментарий ревьюера ❌**\n",
    "   \n",
    "   tutorial на последнем месте, потому что его посещает наименьшее число пользователей - это значит, что этап необязательный, и его пропускают\n",
    "\n",
    "</div>\n"
   ]
  },
  {
   "cell_type": "markdown",
   "metadata": {},
   "source": [
    "<div class=\"alert alert-block alert-info\">\n",
    "    \n",
    "Да, я пришла к такому же выводу! однако удалять событие tutorial  я не стала, но пренебрегаю им. Добавлю след коментарий: \"- Tutorial - Руководство пользователя - Изучали инструкцию - судя по небольшому проценту пользователей,совершивших данное событие, данным этапом пренебрегают при совершении покупки и мы можем не учитывать его в нашем исследовании.\"\n",
    "    <div class=\"alert alert-danger\">\n",
    "\n",
    "**❌ Комментарий ревьюера v2❌**\n",
    "   \n",
    "   На воронках у тебя считается доля перехода с предыдущего шага - tutorial - не конечный этап, поэтому визуализация показывает некорректный результат конверсии в шаг (такого не должно быть). Вообще, при построении таких воронок принято, что последний этап является целевым - у нас цель - это покупка, поэтому попрошу тебя все таки убрать tutorial с визуализаций\n",
    "\n",
    "</div>\n",
    "\n",
    "    \n",
    "</div>"
   ]
  },
  {
   "cell_type": "code",
   "execution_count": 99,
   "metadata": {},
   "outputs": [
    {
     "data": {
      "text/plain": [
       "['MainScreenAppear',\n",
       " 'OffersScreenAppear',\n",
       " 'PaymentScreenSuccessful',\n",
       " 'CartScreenAppear']"
      ]
     },
     "execution_count": 99,
     "metadata": {},
     "output_type": "execute_result"
    }
   ],
   "source": [
    "funnel_events = [event for event in exp.event.unique() if 'Screen' in event]\n",
    "funnel_events\n"
   ]
  },
  {
   "cell_type": "code",
   "execution_count": 100,
   "metadata": {
    "scrolled": true
   },
   "outputs": [
    {
     "data": {
      "text/html": [
       "<div>\n",
       "<style scoped>\n",
       "    .dataframe tbody tr th:only-of-type {\n",
       "        vertical-align: middle;\n",
       "    }\n",
       "\n",
       "    .dataframe tbody tr th {\n",
       "        vertical-align: top;\n",
       "    }\n",
       "\n",
       "    .dataframe thead th {\n",
       "        text-align: right;\n",
       "    }\n",
       "</style>\n",
       "<table border=\"1\" class=\"dataframe\">\n",
       "  <thead>\n",
       "    <tr style=\"text-align: right;\">\n",
       "      <th></th>\n",
       "      <th>event</th>\n",
       "      <th>user</th>\n",
       "      <th>timestamp</th>\n",
       "      <th>expid</th>\n",
       "      <th>datetime</th>\n",
       "      <th>date</th>\n",
       "      <th>time</th>\n",
       "    </tr>\n",
       "  </thead>\n",
       "  <tbody>\n",
       "    <tr>\n",
       "      <th>0</th>\n",
       "      <td>MainScreenAppear</td>\n",
       "      <td>7701922487875823903</td>\n",
       "      <td>1564606857</td>\n",
       "      <td>A2</td>\n",
       "      <td>2019-07-31 21:00:57</td>\n",
       "      <td>2019-07-31</td>\n",
       "      <td>21:00:57</td>\n",
       "    </tr>\n",
       "    <tr>\n",
       "      <th>1</th>\n",
       "      <td>MainScreenAppear</td>\n",
       "      <td>2539077412200498909</td>\n",
       "      <td>1564606905</td>\n",
       "      <td>A2</td>\n",
       "      <td>2019-07-31 21:01:45</td>\n",
       "      <td>2019-07-31</td>\n",
       "      <td>21:01:45</td>\n",
       "    </tr>\n",
       "    <tr>\n",
       "      <th>2</th>\n",
       "      <td>OffersScreenAppear</td>\n",
       "      <td>3286987355161301427</td>\n",
       "      <td>1564606941</td>\n",
       "      <td>B</td>\n",
       "      <td>2019-07-31 21:02:21</td>\n",
       "      <td>2019-07-31</td>\n",
       "      <td>21:02:21</td>\n",
       "    </tr>\n",
       "    <tr>\n",
       "      <th>3</th>\n",
       "      <td>OffersScreenAppear</td>\n",
       "      <td>3187166762535343300</td>\n",
       "      <td>1564606943</td>\n",
       "      <td>A2</td>\n",
       "      <td>2019-07-31 21:02:23</td>\n",
       "      <td>2019-07-31</td>\n",
       "      <td>21:02:23</td>\n",
       "    </tr>\n",
       "    <tr>\n",
       "      <th>4</th>\n",
       "      <td>MainScreenAppear</td>\n",
       "      <td>1118952406011435924</td>\n",
       "      <td>1564607005</td>\n",
       "      <td>B</td>\n",
       "      <td>2019-07-31 21:03:25</td>\n",
       "      <td>2019-07-31</td>\n",
       "      <td>21:03:25</td>\n",
       "    </tr>\n",
       "    <tr>\n",
       "      <th>...</th>\n",
       "      <td>...</td>\n",
       "      <td>...</td>\n",
       "      <td>...</td>\n",
       "      <td>...</td>\n",
       "      <td>...</td>\n",
       "      <td>...</td>\n",
       "      <td>...</td>\n",
       "    </tr>\n",
       "    <tr>\n",
       "      <th>241719</th>\n",
       "      <td>MainScreenAppear</td>\n",
       "      <td>4599628364049201812</td>\n",
       "      <td>1565212345</td>\n",
       "      <td>A2</td>\n",
       "      <td>2019-08-07 21:12:25</td>\n",
       "      <td>2019-08-07</td>\n",
       "      <td>21:12:25</td>\n",
       "    </tr>\n",
       "    <tr>\n",
       "      <th>241720</th>\n",
       "      <td>MainScreenAppear</td>\n",
       "      <td>5849806612437486590</td>\n",
       "      <td>1565212439</td>\n",
       "      <td>A1</td>\n",
       "      <td>2019-08-07 21:13:59</td>\n",
       "      <td>2019-08-07</td>\n",
       "      <td>21:13:59</td>\n",
       "    </tr>\n",
       "    <tr>\n",
       "      <th>241721</th>\n",
       "      <td>MainScreenAppear</td>\n",
       "      <td>5746969938801999050</td>\n",
       "      <td>1565212483</td>\n",
       "      <td>A1</td>\n",
       "      <td>2019-08-07 21:14:43</td>\n",
       "      <td>2019-08-07</td>\n",
       "      <td>21:14:43</td>\n",
       "    </tr>\n",
       "    <tr>\n",
       "      <th>241722</th>\n",
       "      <td>MainScreenAppear</td>\n",
       "      <td>5746969938801999050</td>\n",
       "      <td>1565212498</td>\n",
       "      <td>A1</td>\n",
       "      <td>2019-08-07 21:14:58</td>\n",
       "      <td>2019-08-07</td>\n",
       "      <td>21:14:58</td>\n",
       "    </tr>\n",
       "    <tr>\n",
       "      <th>241723</th>\n",
       "      <td>OffersScreenAppear</td>\n",
       "      <td>5746969938801999050</td>\n",
       "      <td>1565212517</td>\n",
       "      <td>A1</td>\n",
       "      <td>2019-08-07 21:15:17</td>\n",
       "      <td>2019-08-07</td>\n",
       "      <td>21:15:17</td>\n",
       "    </tr>\n",
       "  </tbody>\n",
       "</table>\n",
       "<p>240714 rows × 7 columns</p>\n",
       "</div>"
      ],
      "text/plain": [
       "                     event                 user   timestamp expid  \\\n",
       "0         MainScreenAppear  7701922487875823903  1564606857    A2   \n",
       "1         MainScreenAppear  2539077412200498909  1564606905    A2   \n",
       "2       OffersScreenAppear  3286987355161301427  1564606941     B   \n",
       "3       OffersScreenAppear  3187166762535343300  1564606943    A2   \n",
       "4         MainScreenAppear  1118952406011435924  1564607005     B   \n",
       "...                    ...                  ...         ...   ...   \n",
       "241719    MainScreenAppear  4599628364049201812  1565212345    A2   \n",
       "241720    MainScreenAppear  5849806612437486590  1565212439    A1   \n",
       "241721    MainScreenAppear  5746969938801999050  1565212483    A1   \n",
       "241722    MainScreenAppear  5746969938801999050  1565212498    A1   \n",
       "241723  OffersScreenAppear  5746969938801999050  1565212517    A1   \n",
       "\n",
       "                  datetime       date      time  \n",
       "0      2019-07-31 21:00:57 2019-07-31  21:00:57  \n",
       "1      2019-07-31 21:01:45 2019-07-31  21:01:45  \n",
       "2      2019-07-31 21:02:21 2019-07-31  21:02:21  \n",
       "3      2019-07-31 21:02:23 2019-07-31  21:02:23  \n",
       "4      2019-07-31 21:03:25 2019-07-31  21:03:25  \n",
       "...                    ...        ...       ...  \n",
       "241719 2019-08-07 21:12:25 2019-08-07  21:12:25  \n",
       "241720 2019-08-07 21:13:59 2019-08-07  21:13:59  \n",
       "241721 2019-08-07 21:14:43 2019-08-07  21:14:43  \n",
       "241722 2019-08-07 21:14:58 2019-08-07  21:14:58  \n",
       "241723 2019-08-07 21:15:17 2019-08-07  21:15:17  \n",
       "\n",
       "[240714 rows x 7 columns]"
      ]
     },
     "execution_count": 100,
     "metadata": {},
     "output_type": "execute_result"
    }
   ],
   "source": [
    "events_users = exp[exp.event.isin(funnel_events)]\n",
    "exp_funnel = events_users\n",
    "exp_funnel"
   ]
  },
  {
   "cell_type": "markdown",
   "metadata": {},
   "source": [
    "По воронке событий посчитайте, какая доля пользователей проходит на следующий шаг воронки (от числа пользователей на предыдущем). То есть для последовательности событий A → B → C посчитайте отношение числа пользователей с событием B к количеству пользователей с событием A, а также отношение числа пользователей с событием C к количеству пользователей с событием B."
   ]
  },
  {
   "cell_type": "markdown",
   "metadata": {},
   "source": [
    "Для начала посмотрю, как выглядит воронка по пользователям на каждое событие: "
   ]
  },
  {
   "cell_type": "code",
   "execution_count": 101,
   "metadata": {},
   "outputs": [
    {
     "data": {
      "text/html": [
       "<div>\n",
       "<style scoped>\n",
       "    .dataframe tbody tr th:only-of-type {\n",
       "        vertical-align: middle;\n",
       "    }\n",
       "\n",
       "    .dataframe tbody tr th {\n",
       "        vertical-align: top;\n",
       "    }\n",
       "\n",
       "    .dataframe thead th {\n",
       "        text-align: right;\n",
       "    }\n",
       "</style>\n",
       "<table border=\"1\" class=\"dataframe\">\n",
       "  <thead>\n",
       "    <tr style=\"text-align: right;\">\n",
       "      <th></th>\n",
       "      <th>event</th>\n",
       "      <th>user</th>\n",
       "    </tr>\n",
       "  </thead>\n",
       "  <tbody>\n",
       "    <tr>\n",
       "      <th>1</th>\n",
       "      <td>MainScreenAppear</td>\n",
       "      <td>7423</td>\n",
       "    </tr>\n",
       "    <tr>\n",
       "      <th>2</th>\n",
       "      <td>OffersScreenAppear</td>\n",
       "      <td>4597</td>\n",
       "    </tr>\n",
       "    <tr>\n",
       "      <th>0</th>\n",
       "      <td>CartScreenAppear</td>\n",
       "      <td>3736</td>\n",
       "    </tr>\n",
       "    <tr>\n",
       "      <th>3</th>\n",
       "      <td>PaymentScreenSuccessful</td>\n",
       "      <td>3540</td>\n",
       "    </tr>\n",
       "  </tbody>\n",
       "</table>\n",
       "</div>"
      ],
      "text/plain": [
       "                     event  user\n",
       "1         MainScreenAppear  7423\n",
       "2       OffersScreenAppear  4597\n",
       "0         CartScreenAppear  3736\n",
       "3  PaymentScreenSuccessful  3540"
      ]
     },
     "execution_count": 101,
     "metadata": {},
     "output_type": "execute_result"
    }
   ],
   "source": [
    "exp_funnel = exp_funnel.groupby('event')['user'].nunique().reset_index().sort_values(by='user',ascending=False)\n",
    "exp_funnel"
   ]
  },
  {
   "cell_type": "markdown",
   "metadata": {},
   "source": [
    "Посчитаем, какая доля пользователей проходит на следующий шаг воронки (от числа пользователей на предыдущем):\n"
   ]
  },
  {
   "cell_type": "code",
   "execution_count": 102,
   "metadata": {},
   "outputs": [
    {
     "data": {
      "text/html": [
       "<div>\n",
       "<style scoped>\n",
       "    .dataframe tbody tr th:only-of-type {\n",
       "        vertical-align: middle;\n",
       "    }\n",
       "\n",
       "    .dataframe tbody tr th {\n",
       "        vertical-align: top;\n",
       "    }\n",
       "\n",
       "    .dataframe thead th {\n",
       "        text-align: right;\n",
       "    }\n",
       "</style>\n",
       "<table border=\"1\" class=\"dataframe\">\n",
       "  <thead>\n",
       "    <tr style=\"text-align: right;\">\n",
       "      <th></th>\n",
       "      <th>event</th>\n",
       "      <th>user</th>\n",
       "      <th>share</th>\n",
       "    </tr>\n",
       "  </thead>\n",
       "  <tbody>\n",
       "    <tr>\n",
       "      <th>1</th>\n",
       "      <td>MainScreenAppear</td>\n",
       "      <td>7423</td>\n",
       "      <td>nan%</td>\n",
       "    </tr>\n",
       "    <tr>\n",
       "      <th>2</th>\n",
       "      <td>OffersScreenAppear</td>\n",
       "      <td>4597</td>\n",
       "      <td>61.93%</td>\n",
       "    </tr>\n",
       "    <tr>\n",
       "      <th>0</th>\n",
       "      <td>CartScreenAppear</td>\n",
       "      <td>3736</td>\n",
       "      <td>81.27%</td>\n",
       "    </tr>\n",
       "    <tr>\n",
       "      <th>3</th>\n",
       "      <td>PaymentScreenSuccessful</td>\n",
       "      <td>3540</td>\n",
       "      <td>94.75%</td>\n",
       "    </tr>\n",
       "  </tbody>\n",
       "</table>\n",
       "</div>"
      ],
      "text/plain": [
       "                     event  user   share\n",
       "1         MainScreenAppear  7423    nan%\n",
       "2       OffersScreenAppear  4597  61.93%\n",
       "0         CartScreenAppear  3736  81.27%\n",
       "3  PaymentScreenSuccessful  3540  94.75%"
      ]
     },
     "execution_count": 102,
     "metadata": {},
     "output_type": "execute_result"
    }
   ],
   "source": [
    "exp_funnel['share'] = exp_funnel['user']/exp_funnel['user'].shift(1)\n",
    "exp_funnel['share'] = (exp_funnel['share'] * 100).round(2).map('{0:.2f}%'.format)\n",
    "exp_funnel"
   ]
  },
  {
   "cell_type": "markdown",
   "metadata": {},
   "source": [
    "Доли пользователей, которые проходят на следующий шаг воронки (от числа пользователей на предыдущем):\n",
    "\n",
    "62% переходят на шаг от MainScreenAppear до OffersScreenAppear 81% переходят на шаг от OffersScreenAppear до CartScreenAppear 94% переходят на шаг от CartScreenAppear до PaymentScreenSuccessful"
   ]
  },
  {
   "cell_type": "markdown",
   "metadata": {},
   "source": [
    "<div class=\"alert alert-danger\">\n",
    "\n",
    "**❌ Комментарий ревьюера ❌**\n",
    "   \n",
    "   Не забывай добавлять воронкам заголовки - также стоит отметить, что при визуализации таких воронок принято, что конечный этап является целевым - у нас цель - это покупка, поэтому tutorial мы можем убрать с визуализации\n",
    "\n",
    "</div>\n"
   ]
  },
  {
   "cell_type": "markdown",
   "metadata": {},
   "source": [
    "<div class=\"alert alert-block alert-info\">\n",
    "Я поправила заголовки. Но мне не нравится, что они не оцентрованы, как это исправить? \n",
    "    \n",
    "</div>"
   ]
  },
  {
   "cell_type": "markdown",
   "metadata": {},
   "source": [
    "<div class=\"alert alert-success\">\n",
    "\n",
    "**✔️ Комментарий ревьюера v2✔️**\n",
    "   \n",
    "   Через fig.update_layout, добавив  параметр title_x:\n",
    "\n",
    "</div>\n"
   ]
  },
  {
   "cell_type": "code",
   "execution_count": 103,
   "metadata": {},
   "outputs": [
    {
     "data": {
      "text/plain": [
       "'\\n# Код ревьюера\\nfig = go.Figure(go.Funnel(x = events_users[\\'user\\'][0:4], y = events_users[\\'event\\'], textinfo = \"value+percent initial+percent previous\", opacity = 0.65, marker = {\"color\": [\"deepskyblue\", \"lightsalmon\", \"tan\", \"teal\", \"silver\"],\\n    \"line\": {\"width\": [4, 2, 2, 3, 1, 1], \"color\": [\"wheat\", \"wheat\", \"blue\", \"wheat\", \"wheat\"]}}))\\nfig.update_layout(title=\\'Воронка по пользователям на каждое событие\\', title_x = 0.5)\\nfig.show();\\n'"
      ]
     },
     "execution_count": 103,
     "metadata": {},
     "output_type": "execute_result"
    }
   ],
   "source": [
    "'''\n",
    "# Код ревьюера\n",
    "fig = go.Figure(go.Funnel(x = events_users['user'][0:4], y = events_users['event'], textinfo = \"value+percent initial+percent previous\", opacity = 0.65, marker = {\"color\": [\"deepskyblue\", \"lightsalmon\", \"tan\", \"teal\", \"silver\"],\n",
    "    \"line\": {\"width\": [4, 2, 2, 3, 1, 1], \"color\": [\"wheat\", \"wheat\", \"blue\", \"wheat\", \"wheat\"]}}))\n",
    "fig.update_layout(title='Воронка по пользователям на каждое событие', title_x = 0.5)\n",
    "fig.show();\n",
    "'''\n"
   ]
  },
  {
   "cell_type": "markdown",
   "metadata": {},
   "source": [
    "<div class=\"alert alert-block alert-info\">\n",
    "Огромное спасибо, Михаил!)\n",
    "    \n",
    "</div>"
   ]
  },
  {
   "cell_type": "markdown",
   "metadata": {},
   "source": [
    "<div class=\"alert alert-danger\">\n",
    "\n",
    "**❌ Комментарий ревьюера v3❌**\n",
    "   \n",
    "   Вот здесь код упал с ошибкой: KeyError: 'users'\n",
    "\n",
    "</div>\n"
   ]
  },
  {
   "cell_type": "code",
   "execution_count": 104,
   "metadata": {},
   "outputs": [
    {
     "data": {
      "text/html": [
       "<div>\n",
       "<style scoped>\n",
       "    .dataframe tbody tr th:only-of-type {\n",
       "        vertical-align: middle;\n",
       "    }\n",
       "\n",
       "    .dataframe tbody tr th {\n",
       "        vertical-align: top;\n",
       "    }\n",
       "\n",
       "    .dataframe thead th {\n",
       "        text-align: right;\n",
       "    }\n",
       "</style>\n",
       "<table border=\"1\" class=\"dataframe\">\n",
       "  <thead>\n",
       "    <tr style=\"text-align: right;\">\n",
       "      <th></th>\n",
       "      <th>event</th>\n",
       "      <th>user</th>\n",
       "      <th>timestamp</th>\n",
       "      <th>expid</th>\n",
       "      <th>datetime</th>\n",
       "      <th>date</th>\n",
       "      <th>time</th>\n",
       "    </tr>\n",
       "  </thead>\n",
       "  <tbody>\n",
       "    <tr>\n",
       "      <th>0</th>\n",
       "      <td>MainScreenAppear</td>\n",
       "      <td>7701922487875823903</td>\n",
       "      <td>1564606857</td>\n",
       "      <td>A2</td>\n",
       "      <td>2019-07-31 21:00:57</td>\n",
       "      <td>2019-07-31</td>\n",
       "      <td>21:00:57</td>\n",
       "    </tr>\n",
       "    <tr>\n",
       "      <th>1</th>\n",
       "      <td>MainScreenAppear</td>\n",
       "      <td>2539077412200498909</td>\n",
       "      <td>1564606905</td>\n",
       "      <td>A2</td>\n",
       "      <td>2019-07-31 21:01:45</td>\n",
       "      <td>2019-07-31</td>\n",
       "      <td>21:01:45</td>\n",
       "    </tr>\n",
       "    <tr>\n",
       "      <th>2</th>\n",
       "      <td>OffersScreenAppear</td>\n",
       "      <td>3286987355161301427</td>\n",
       "      <td>1564606941</td>\n",
       "      <td>B</td>\n",
       "      <td>2019-07-31 21:02:21</td>\n",
       "      <td>2019-07-31</td>\n",
       "      <td>21:02:21</td>\n",
       "    </tr>\n",
       "    <tr>\n",
       "      <th>3</th>\n",
       "      <td>OffersScreenAppear</td>\n",
       "      <td>3187166762535343300</td>\n",
       "      <td>1564606943</td>\n",
       "      <td>A2</td>\n",
       "      <td>2019-07-31 21:02:23</td>\n",
       "      <td>2019-07-31</td>\n",
       "      <td>21:02:23</td>\n",
       "    </tr>\n",
       "    <tr>\n",
       "      <th>4</th>\n",
       "      <td>MainScreenAppear</td>\n",
       "      <td>1118952406011435924</td>\n",
       "      <td>1564607005</td>\n",
       "      <td>B</td>\n",
       "      <td>2019-07-31 21:03:25</td>\n",
       "      <td>2019-07-31</td>\n",
       "      <td>21:03:25</td>\n",
       "    </tr>\n",
       "    <tr>\n",
       "      <th>...</th>\n",
       "      <td>...</td>\n",
       "      <td>...</td>\n",
       "      <td>...</td>\n",
       "      <td>...</td>\n",
       "      <td>...</td>\n",
       "      <td>...</td>\n",
       "      <td>...</td>\n",
       "    </tr>\n",
       "    <tr>\n",
       "      <th>241719</th>\n",
       "      <td>MainScreenAppear</td>\n",
       "      <td>4599628364049201812</td>\n",
       "      <td>1565212345</td>\n",
       "      <td>A2</td>\n",
       "      <td>2019-08-07 21:12:25</td>\n",
       "      <td>2019-08-07</td>\n",
       "      <td>21:12:25</td>\n",
       "    </tr>\n",
       "    <tr>\n",
       "      <th>241720</th>\n",
       "      <td>MainScreenAppear</td>\n",
       "      <td>5849806612437486590</td>\n",
       "      <td>1565212439</td>\n",
       "      <td>A1</td>\n",
       "      <td>2019-08-07 21:13:59</td>\n",
       "      <td>2019-08-07</td>\n",
       "      <td>21:13:59</td>\n",
       "    </tr>\n",
       "    <tr>\n",
       "      <th>241721</th>\n",
       "      <td>MainScreenAppear</td>\n",
       "      <td>5746969938801999050</td>\n",
       "      <td>1565212483</td>\n",
       "      <td>A1</td>\n",
       "      <td>2019-08-07 21:14:43</td>\n",
       "      <td>2019-08-07</td>\n",
       "      <td>21:14:43</td>\n",
       "    </tr>\n",
       "    <tr>\n",
       "      <th>241722</th>\n",
       "      <td>MainScreenAppear</td>\n",
       "      <td>5746969938801999050</td>\n",
       "      <td>1565212498</td>\n",
       "      <td>A1</td>\n",
       "      <td>2019-08-07 21:14:58</td>\n",
       "      <td>2019-08-07</td>\n",
       "      <td>21:14:58</td>\n",
       "    </tr>\n",
       "    <tr>\n",
       "      <th>241723</th>\n",
       "      <td>OffersScreenAppear</td>\n",
       "      <td>5746969938801999050</td>\n",
       "      <td>1565212517</td>\n",
       "      <td>A1</td>\n",
       "      <td>2019-08-07 21:15:17</td>\n",
       "      <td>2019-08-07</td>\n",
       "      <td>21:15:17</td>\n",
       "    </tr>\n",
       "  </tbody>\n",
       "</table>\n",
       "<p>240714 rows × 7 columns</p>\n",
       "</div>"
      ],
      "text/plain": [
       "                     event                 user   timestamp expid  \\\n",
       "0         MainScreenAppear  7701922487875823903  1564606857    A2   \n",
       "1         MainScreenAppear  2539077412200498909  1564606905    A2   \n",
       "2       OffersScreenAppear  3286987355161301427  1564606941     B   \n",
       "3       OffersScreenAppear  3187166762535343300  1564606943    A2   \n",
       "4         MainScreenAppear  1118952406011435924  1564607005     B   \n",
       "...                    ...                  ...         ...   ...   \n",
       "241719    MainScreenAppear  4599628364049201812  1565212345    A2   \n",
       "241720    MainScreenAppear  5849806612437486590  1565212439    A1   \n",
       "241721    MainScreenAppear  5746969938801999050  1565212483    A1   \n",
       "241722    MainScreenAppear  5746969938801999050  1565212498    A1   \n",
       "241723  OffersScreenAppear  5746969938801999050  1565212517    A1   \n",
       "\n",
       "                  datetime       date      time  \n",
       "0      2019-07-31 21:00:57 2019-07-31  21:00:57  \n",
       "1      2019-07-31 21:01:45 2019-07-31  21:01:45  \n",
       "2      2019-07-31 21:02:21 2019-07-31  21:02:21  \n",
       "3      2019-07-31 21:02:23 2019-07-31  21:02:23  \n",
       "4      2019-07-31 21:03:25 2019-07-31  21:03:25  \n",
       "...                    ...        ...       ...  \n",
       "241719 2019-08-07 21:12:25 2019-08-07  21:12:25  \n",
       "241720 2019-08-07 21:13:59 2019-08-07  21:13:59  \n",
       "241721 2019-08-07 21:14:43 2019-08-07  21:14:43  \n",
       "241722 2019-08-07 21:14:58 2019-08-07  21:14:58  \n",
       "241723 2019-08-07 21:15:17 2019-08-07  21:15:17  \n",
       "\n",
       "[240714 rows x 7 columns]"
      ]
     },
     "execution_count": 104,
     "metadata": {},
     "output_type": "execute_result"
    }
   ],
   "source": [
    "events_users\n"
   ]
  },
  {
   "cell_type": "markdown",
   "metadata": {},
   "source": [
    "<div class=\"alert alert-danger\">\n",
    "\n",
    "**❌ Комментарий ревьюера ❌**\n",
    "   \n",
    "   Тут код упал с ошибкой: NameError: name 'prev_users' is not defined\n",
    "\n",
    "</div>\n"
   ]
  },
  {
   "cell_type": "markdown",
   "metadata": {},
   "source": [
    "<div class=\"alert alert-block alert-info\">\n",
    "поправила) убрала случайно часть кода\n",
    "    \n",
    "</div>"
   ]
  },
  {
   "cell_type": "markdown",
   "metadata": {},
   "source": [
    "<div class=\"alert alert-danger\">\n",
    "\n",
    "**❌ Комментарий ревьюера v3❌**\n",
    "   \n",
    "   Вот здесь код перестает работать, вероятнее всего, из-за использования цикла for - вместе с pandas циклы работают очень медленно\n",
    "\n",
    "</div>\n"
   ]
  },
  {
   "cell_type": "markdown",
   "metadata": {},
   "source": [
    "<div class=\"alert alert-block alert-info\">\n",
    "Мне нравилась тут визуализация, но я обойдусь более простым графиком в таком случае)\n",
    "    <div class=\"alert alert-success\">\n",
    "\n",
    "**✔️ Комментарий ревьюера v4✔️**\n",
    "   \n",
    "   В целом - у нас уже получилось построить графики через plotly - сейчас, видимо, проблема возникает из-за сбоя jupyter. Ниже есть гистограмма - поэтому формально задание мы выполнили. Можно попробовать позапускать код локально - а проект я могу принять\n",
    "\n",
    "</div>\n",
    "\n",
    "    \n",
    "</div>"
   ]
  },
  {
   "cell_type": "code",
   "execution_count": 105,
   "metadata": {},
   "outputs": [
    {
     "data": {
      "text/plain": [
       "\"# Код ревьюера\\nimport plotly.graph_objects as go\\nfig = go.Figure(go.Funnel(y = exp_funnel['event'],\\n                          x = exp_funnel['user'],\\n                          textposition = 'inside',\\n                          textinfo = 'value + percent previous'))\\nfig.update_layout(title='Воронка', title_x = 0.5)\\nfig.show()\\n\""
      ]
     },
     "execution_count": 105,
     "metadata": {},
     "output_type": "execute_result"
    }
   ],
   "source": [
    "'''# Код ревьюера\n",
    "import plotly.graph_objects as go\n",
    "fig = go.Figure(go.Funnel(y = exp_funnel['event'],\n",
    "                          x = exp_funnel['user'],\n",
    "                          textposition = 'inside',\n",
    "                          textinfo = 'value + percent previous'))\n",
    "fig.update_layout(title='Воронка', title_x = 0.5)\n",
    "fig.show()\n",
    "'''"
   ]
  },
  {
   "cell_type": "code",
   "execution_count": 106,
   "metadata": {},
   "outputs": [
    {
     "data": {
      "text/plain": [
       "\"prev_users = events_users.loc[0,'user']\\nstart_users = prev_users\\n\\nfor i in events_users.index:\\n    events_users.loc[i,'step_forward'] = (events_users.loc[i,'user'] / prev_users * 100).round(1)\\n    events_users.loc[i,'step_from_initial'] = (events_users.loc[i,'user'] / start_users * 100).round(1)\\n    prev_users = events_users.loc[i,'user']\\nevents_users\""
      ]
     },
     "execution_count": 106,
     "metadata": {},
     "output_type": "execute_result"
    }
   ],
   "source": [
    "'''prev_users = events_users.loc[0,'user']\n",
    "start_users = prev_users\n",
    "\n",
    "for i in events_users.index:\n",
    "    events_users.loc[i,'step_forward'] = (events_users.loc[i,'user'] / prev_users * 100).round(1)\n",
    "    events_users.loc[i,'step_from_initial'] = (events_users.loc[i,'user'] / start_users * 100).round(1)\n",
    "    prev_users = events_users.loc[i,'user']\n",
    "events_users'''"
   ]
  },
  {
   "cell_type": "code",
   "execution_count": 107,
   "metadata": {},
   "outputs": [],
   "source": [
    "#fig = go.Figure(go.Funnel(x = events_users['step_forward'], y = events_users['event'], opacity = 0.65, marker = {\"color\": [\"deepskyblue\", \"lightsalmon\", \"tan\", \"teal\", \"silver\"],\n",
    "   # \"line\": {\"width\": [4, 2, 2, 3, 1, 1], \"color\": [\"wheat\", \"wheat\", \"blue\", \"wheat\", \"wheat\"]}}))\n",
    "#fig.show();"
   ]
  },
  {
   "cell_type": "markdown",
   "metadata": {},
   "source": [
    "Визуализируем данные графически: построим сравнительную воронку, где в левой части количество пользователей, переходящие на событие относительно общего числа, а в правой части число пользователей, перешедших на следующий шаг относительно предыдущего. "
   ]
  },
  {
   "cell_type": "code",
   "execution_count": 108,
   "metadata": {},
   "outputs": [
    {
     "data": {
      "text/plain": [
       "'fig = go.Figure()\\n\\nfig.add_trace(go.Funnel(name = \\'от общего числа\\',x = events_users[\\'step_forward\\'], y = events_users[\\'event\\'], opacity = 0.65, marker = {\"color\": [\"skyblue\", \"lightsalmon\", \"tan\", \"green\", \"lightgray\"],\\n    \"line\": {\"width\": [4, 2, 2, 3, 1, 1], \"color\": [\"wheat\", \"wheat\", \"blue\", \"wheat\", \"wheat\"]}},\\n\\n    textposition = \"inside\",\\n    textinfo = \"value\"))\\nfig.add_trace(go.Funnel(name = \\'от предыдущего события\\',x = events_users[\\'step_from_initial\\'], y = events_users[\\'event\\'], opacity = 0.65, marker = {\"color\": [\"deepskyblue\", \"salmon\", \"brown\", \"darkgreen\", \"gray\"],\\n    \"line\": {\"width\": [4, 2, 2, 3, 1, 1], \"color\": [\"wheat\", \"wheat\", \"blue\", \"wheat\", \"wheat\"]}},\\n    textinfo = \"value\"))\\nfig.update_layout(title=\\'Воронка по пользователям на каждое событие\\', title_x = 0.5)\\nfig.show()'"
      ]
     },
     "execution_count": 108,
     "metadata": {},
     "output_type": "execute_result"
    }
   ],
   "source": [
    "'''fig = go.Figure()\n",
    "\n",
    "fig.add_trace(go.Funnel(name = 'от общего числа',x = events_users['step_forward'], y = events_users['event'], opacity = 0.65, marker = {\"color\": [\"skyblue\", \"lightsalmon\", \"tan\", \"green\", \"lightgray\"],\n",
    "    \"line\": {\"width\": [4, 2, 2, 3, 1, 1], \"color\": [\"wheat\", \"wheat\", \"blue\", \"wheat\", \"wheat\"]}},\n",
    "\n",
    "    textposition = \"inside\",\n",
    "    textinfo = \"value\"))\n",
    "fig.add_trace(go.Funnel(name = 'от предыдущего события',x = events_users['step_from_initial'], y = events_users['event'], opacity = 0.65, marker = {\"color\": [\"deepskyblue\", \"salmon\", \"brown\", \"darkgreen\", \"gray\"],\n",
    "    \"line\": {\"width\": [4, 2, 2, 3, 1, 1], \"color\": [\"wheat\", \"wheat\", \"blue\", \"wheat\", \"wheat\"]}},\n",
    "    textinfo = \"value\"))\n",
    "fig.update_layout(title='Воронка по пользователям на каждое событие', title_x = 0.5)\n",
    "fig.show()'''\n",
    "\n"
   ]
  },
  {
   "cell_type": "markdown",
   "metadata": {},
   "source": [
    "Сначала проанализируем левую часть воронки (процент перехода на каждый последующий шаг относительно предыдущего): \n",
    "- очень много (38,1%) пользователей не попадают даже на второй экран (OffersScreenAppear) с выбором товара. \n",
    "- Возможно есть какая-то проблема на первом экране MainScreenAppear, которая мешает, усложняет, отпугивает пользователей (вероятно здесь ключом будет работа с ux/ui специалистами и QA-отделом)\n",
    "\n",
    "\n",
    "Теперь посмотрим на правую часть воронки, где отображено количество пользователей, переходящие на событие относительно общего числа пользователей: \n",
    "- 62% пользователей доходят до второго шага (OffersScreenAppear) и на этом переходе теряется больше всего пользователей - 38%\n",
    "- 47,7% пользователей доходит до страницы PaymentScreenSuccessful с успешной оплатой. Очень хороший результат - почти половина, учитывая, то что 38,1% исчезают после первого этапа\n"
   ]
  },
  {
   "cell_type": "markdown",
   "metadata": {},
   "source": [
    "Думаю, что стоит посмотреть на воронку и в разрезе трех экспериментальных групп. Надо убедиться, что между данными по конверсиям из этапа в этап нет сильных различий."
   ]
  },
  {
   "cell_type": "markdown",
   "metadata": {},
   "source": [
    "logs_clear = exp[exp['date']>='2019.08.01'].copy()\n",
    "event_for_uid_expid = (logs_clear\n",
    "                       .pivot_table(index='event', columns='expid',aggfunc={'user':'nunique'}))\n",
    "event_for_uid_expid.columns=['А1', 'А2', 'А3']\n",
    "event_for_uid_expid.sort_values(by='А1', ascending=False, inplace=True)\n",
    "event_for_uid_expid.drop(['Tutorial'], axis=0, inplace=True)"
   ]
  },
  {
   "cell_type": "code",
   "execution_count": 109,
   "metadata": {},
   "outputs": [],
   "source": [
    "def my_funnel(exp, title):\n",
    "    \"\"\"\n",
    "    Функция принимает exp и название графика. Воронка строится по событиям, которые должны являться индексами в указанном df.\n",
    "    Если указанный df содержит несколько переменных, то воронка будет построена по всем данным df\n",
    "    \"\"\"\n",
    "    \n",
    "    fig = go.Figure()\n",
    "\n",
    "    for name in exp.columns:\n",
    "        fig.add_trace(go.Funnel(\n",
    "            name = name,\n",
    "            y = exp.index,\n",
    "            x = exp[name],\n",
    "            textposition = 'inside',\n",
    "            textinfo = 'value+percent initial+percent previous'))\n",
    "        \n",
    "    fig.update_layout(title=title, title_x = 0.5,\n",
    "                      margin=dict(l=0, r=0))\n",
    "\n",
    "    fig.show()"
   ]
  },
  {
   "cell_type": "markdown",
   "metadata": {},
   "source": [
    "<div class=\"alert alert-block alert-info\">\n",
    "Визуализация отваливается, убираю ее. \n",
    "</div>"
   ]
  },
  {
   "cell_type": "markdown",
   "metadata": {},
   "source": [
    "Вывод: \n",
    "- Различия в ключевых метриках есть (конверсия в шагах отличается в зависимости от группы)\n",
    "- До шага экрана с подтверждением оплаты в группе А1 дошло из 2450 человек 1200 (49% от общего), в группе А2 из 2476 человек до аналогичного события дошло 1158 человек (46,8%), а в группе В из 2493 человек дошло лишь 1181 пользователь (47,4%). \n",
    "\n",
    "- При детальном изучении данных стартапа, я удивляюсь продуктивности реализованного проекта. Конверсия 48% в платящих пользователей является хорошим показателем. Если удастся сохранить эту пропорцию при масштабировании проекта и возростании количества пользователей, то этот стартап будет ждать большой успех. \n",
    "\n",
    "Но возможен ли такой вариант, что мы не совсем корректно собираем данные? То есть те пользователи, которые не были на первом этапе MainScreenAppear, появились уже на последующих,так как, например, зашли на сайт до начала сбора данных? Возможно стоит отследить всех от начала до оплаты и, возможно, процент \"PaymentScreenSuccessful\" уже будет совсем другой: "
   ]
  },
  {
   "cell_type": "markdown",
   "metadata": {},
   "source": [
    "<div class=\"alert alert-danger\">\n",
    "\n",
    "**❌ Комментарий ревьюера v2❌**\n",
    "   \n",
    "   Вот такую фильтрацию производить не следует, это частный случай, так как в задании проекта у нас нет обязательного условия посещения MainScreenAppear для совершения покупки\n",
    "\n",
    "</div>\n"
   ]
  },
  {
   "cell_type": "markdown",
   "metadata": {},
   "source": [
    "<div class=\"alert alert-block alert-info\">\n",
    "Эх, а мне так понравилась моя находка! Хорошо, спасибо большое за замечание. Тогда убираю фильтрацию и соответствующие выводы. \n",
    "</div>"
   ]
  },
  {
   "cell_type": "markdown",
   "metadata": {},
   "source": [
    "На каком шаге теряете больше всего пользователей?"
   ]
  },
  {
   "cell_type": "code",
   "execution_count": 110,
   "metadata": {},
   "outputs": [
    {
     "data": {
      "image/png": "[encoded data removed]",
      "text/plain": [
       "<Figure size 432x288 with 1 Axes>"
      ]
     },
     "metadata": {
      "needs_background": "light"
     },
     "output_type": "display_data"
    }
   ],
   "source": [
    "# Построим график воронки\n",
    "\n",
    "exp_funnel.sort_values('user', ascending=False).plot(kind='bar', x='event')\n",
    "plt.title('Воронка событий')\n",
    "plt.xlabel('Событие')\n",
    "plt.xticks(rotation=45)\n",
    "plt.ylabel('Число уникальных пользователей')\n",
    "plt.show()\n"
   ]
  },
  {
   "cell_type": "markdown",
   "metadata": {},
   "source": [
    "На графическом изображении вороки, где мы отображали количество пользователей, переходящие на событие относительно общего числа пользователей, мы увидели самые значительные значения потери пользователей. \n",
    "- 62% пользователей доходят до второго шага (OffersScreenAppear) и на этом переходе теряется больше всего пользователей - 38%. Делаю вывод, что возможно есть какая-то проблема на первом экране MainScreenAppear, которая мешает, усложняет, отпугивает пользователей (вероятно здесь решением будет работа с ux/ui специалистами и QA-отделом)"
   ]
  },
  {
   "cell_type": "markdown",
   "metadata": {},
   "source": [
    "Какая доля пользователей доходит от первого события до оплаты?\n"
   ]
  },
  {
   "cell_type": "code",
   "execution_count": 111,
   "metadata": {},
   "outputs": [
    {
     "data": {
      "text/plain": [
       "\"# Посмотрим на процентное различие между событими воронки\\n\\nexp_funnel.sort_values('user', ascending=False)['user'].pct_change()\\n\""
      ]
     },
     "execution_count": 111,
     "metadata": {},
     "output_type": "execute_result"
    }
   ],
   "source": [
    "'''# Посмотрим на процентное различие между событими воронки\n",
    "\n",
    "exp_funnel.sort_values('user', ascending=False)['user'].pct_change()\n",
    "'''"
   ]
  },
  {
   "cell_type": "markdown",
   "metadata": {},
   "source": [
    "\n",
    "Получили доли, которые мы теряем на каждом шаге воронки:\n",
    "\n",
    "38% терям на шаге от MainScreenAppear до OffersScreenAppear\n",
    "\n",
    "19% теряем на шаге от OffersScreenAppear до CartScreenAppear\n",
    "\n",
    "5% теряем на шаге от CartScreenAppear до PaymentScreenSuccessful\n",
    "\n",
    "Соответственно 38% пользователей доходит от первого события до оплаты"
   ]
  },
  {
   "cell_type": "markdown",
   "metadata": {},
   "source": [
    "Выводы по разделу: \n",
    "1. Структура воронки событий, приводящих к продажам в стартапе проходит по следущему порядку:\n",
    "- MainScreenAppear - Появление Главного экрана - Зашли на сайт\n",
    "- OffersScreenAppear - Появление Экрана Предложений - Искали товар по каталогу\n",
    "- CartScreenAppear - Появление Экрана Корзины - Добавили в корзину\n",
    "- PaymentScreenSuccessful - Экран Платеж Успешен - Оплатили\n",
    "- Tutorial - Руководство пользователя - Изучали инструкцию (фактически исключается)\n",
    "\n",
    "62% пользователей переходят поиску товара по катологу, а целых 38% покидат стартап после входа на сайт. \n",
    "Это значительная цифра и здесь необходимо провести некоторую коррекционную работу с ux/ui специалистами и подключить QA-отдел. \n",
    "\n",
    "Событие Tutorial не несет полезной нагрузки, поэтому его можно не принимать во внимание и убрать из датафрейма\n",
    "\n",
    "Пройдя по воронке, до экрана PaymentScreenSuccessful доходят к сожалению 38% пользователей, то есть те кто становиться покупателями."
   ]
  },
  {
   "cell_type": "markdown",
   "metadata": {},
   "source": [
    "### Шаг 5. Изучите результаты эксперимента\n",
    "- Сколько пользователей в каждой экспериментальной группе?\n",
    "- Есть 2 контрольные группы для А/А-эксперимента, чтобы проверить корректность всех механизмов и расчётов. Проверьте, находят ли статистические критерии разницу между выборками 246 и 247.\n",
    "- Выберите самое популярное событие. Посчитайте число пользователей, совершивших это событие в каждой из контрольных групп. Посчитайте долю пользователей, совершивших это событие. Проверьте, будет ли отличие между группами статистически достоверным. Проделайте то же самое для всех других событий (удобно обернуть проверку в отдельную функцию). Можно ли сказать, что разбиение на группы работает корректно?\n",
    "- Аналогично поступите с группой с изменённым шрифтом. Сравните результаты с каждой из контрольных групп в отдельности по каждому событию. Сравните результаты с объединённой контрольной группой. Какие выводы из эксперимента можно сделать?\n",
    "- Какой уровень значимости вы выбрали при проверке статистических гипотез выше? Посчитайте, сколько проверок статистических гипотез вы сделали. При уровне значимости 0.1 каждый десятый раз можно получать ложный результат. Какой уровень значимости стоит применить? Если вы хотите изменить его, проделайте предыдущие пункты и проверьте свои выводы."
   ]
  },
  {
   "cell_type": "markdown",
   "metadata": {},
   "source": [
    "Сколько пользователей в каждой экспериментальной группе?\n",
    "Ранее мы изучали этот вопрос, продублирую информацию: "
   ]
  },
  {
   "cell_type": "code",
   "execution_count": 112,
   "metadata": {},
   "outputs": [
    {
     "data": {
      "text/html": [
       "<div>\n",
       "<style scoped>\n",
       "    .dataframe tbody tr th:only-of-type {\n",
       "        vertical-align: middle;\n",
       "    }\n",
       "\n",
       "    .dataframe tbody tr th {\n",
       "        vertical-align: top;\n",
       "    }\n",
       "\n",
       "    .dataframe thead tr th {\n",
       "        text-align: left;\n",
       "    }\n",
       "\n",
       "    .dataframe thead tr:last-of-type th {\n",
       "        text-align: right;\n",
       "    }\n",
       "</style>\n",
       "<table border=\"1\" class=\"dataframe\">\n",
       "  <thead>\n",
       "    <tr>\n",
       "      <th></th>\n",
       "      <th colspan=\"2\" halign=\"left\">user</th>\n",
       "    </tr>\n",
       "    <tr>\n",
       "      <th></th>\n",
       "      <th>count</th>\n",
       "      <th>nunique</th>\n",
       "    </tr>\n",
       "    <tr>\n",
       "      <th>expid</th>\n",
       "      <th></th>\n",
       "      <th></th>\n",
       "    </tr>\n",
       "  </thead>\n",
       "  <tbody>\n",
       "    <tr>\n",
       "      <th>A1</th>\n",
       "      <td>79556</td>\n",
       "      <td>2484</td>\n",
       "    </tr>\n",
       "    <tr>\n",
       "      <th>A2</th>\n",
       "      <td>77293</td>\n",
       "      <td>2517</td>\n",
       "    </tr>\n",
       "    <tr>\n",
       "      <th>B</th>\n",
       "      <td>84875</td>\n",
       "      <td>2537</td>\n",
       "    </tr>\n",
       "  </tbody>\n",
       "</table>\n",
       "</div>"
      ],
      "text/plain": [
       "        user        \n",
       "       count nunique\n",
       "expid               \n",
       "A1     79556    2484\n",
       "A2     77293    2517\n",
       "B      84875    2537"
      ]
     },
     "execution_count": 112,
     "metadata": {},
     "output_type": "execute_result"
    }
   ],
   "source": [
    "exp.groupby('expid').agg({'user': ['count', 'nunique']})"
   ]
  },
  {
   "cell_type": "markdown",
   "metadata": {},
   "source": [
    "Есть 2 контрольные группы для А/А-эксперимента, чтобы проверить корректность всех механизмов и расчётов. Проверьте, находят ли статистические критерии разницу между выборками 246 и 247.\n",
    "\n",
    "Запишем кол-во пользователей по каждой группе в таблицу \"users_bygroup\":"
   ]
  },
  {
   "cell_type": "code",
   "execution_count": 113,
   "metadata": {},
   "outputs": [
    {
     "data": {
      "text/plain": [
       "expid\n",
       "A1       2484\n",
       "A2       2517\n",
       "B        2537\n",
       "A1+A2    5001\n",
       "Name: user, dtype: int64"
      ]
     },
     "execution_count": 113,
     "metadata": {},
     "output_type": "execute_result"
    }
   ],
   "source": [
    "users_bygroup = exp.groupby('expid')['user'].nunique()\n",
    "users_bygroup['A1+A2'] = users_bygroup['A1'] + users_bygroup['A2']\n",
    "users_bygroup"
   ]
  },
  {
   "cell_type": "markdown",
   "metadata": {},
   "source": [
    "Ранее мы пришли к выводу, что разбивку по группам можно считать корректной, она достаточно равномерна и в ходе наших исследований мы ранее не зарегистрировали критичных отклонений в значениях, связанной с незначительной разницей пользователей в группах. \n",
    "\n",
    "Далее мы создадим датафрейм event_group_test, из которой исключим событие Tutorial и пройдемся по событиям, для каждого узнаем количество пользователей по группам: "
   ]
  },
  {
   "cell_type": "code",
   "execution_count": 114,
   "metadata": {},
   "outputs": [
    {
     "data": {
      "text/html": [
       "<div>\n",
       "<style scoped>\n",
       "    .dataframe tbody tr th:only-of-type {\n",
       "        vertical-align: middle;\n",
       "    }\n",
       "\n",
       "    .dataframe tbody tr th {\n",
       "        vertical-align: top;\n",
       "    }\n",
       "\n",
       "    .dataframe thead th {\n",
       "        text-align: right;\n",
       "    }\n",
       "</style>\n",
       "<table border=\"1\" class=\"dataframe\">\n",
       "  <thead>\n",
       "    <tr style=\"text-align: right;\">\n",
       "      <th>expid</th>\n",
       "      <th>event</th>\n",
       "      <th>A1</th>\n",
       "      <th>A2</th>\n",
       "      <th>B</th>\n",
       "      <th>A1+A2</th>\n",
       "      <th>all</th>\n",
       "      <th>part_A1</th>\n",
       "      <th>part_A2</th>\n",
       "      <th>part_B</th>\n",
       "      <th>part_A1+A2</th>\n",
       "    </tr>\n",
       "  </thead>\n",
       "  <tbody>\n",
       "    <tr>\n",
       "      <th>0</th>\n",
       "      <td>MainScreenAppear</td>\n",
       "      <td>2450</td>\n",
       "      <td>2479</td>\n",
       "      <td>2494</td>\n",
       "      <td>4929</td>\n",
       "      <td>7423</td>\n",
       "      <td>98.6</td>\n",
       "      <td>98.5</td>\n",
       "      <td>98.3</td>\n",
       "      <td>98.6</td>\n",
       "    </tr>\n",
       "    <tr>\n",
       "      <th>1</th>\n",
       "      <td>OffersScreenAppear</td>\n",
       "      <td>1542</td>\n",
       "      <td>1524</td>\n",
       "      <td>1531</td>\n",
       "      <td>3066</td>\n",
       "      <td>4597</td>\n",
       "      <td>62.1</td>\n",
       "      <td>60.5</td>\n",
       "      <td>60.3</td>\n",
       "      <td>61.3</td>\n",
       "    </tr>\n",
       "    <tr>\n",
       "      <th>2</th>\n",
       "      <td>CartScreenAppear</td>\n",
       "      <td>1266</td>\n",
       "      <td>1239</td>\n",
       "      <td>1231</td>\n",
       "      <td>2505</td>\n",
       "      <td>3736</td>\n",
       "      <td>51.0</td>\n",
       "      <td>49.2</td>\n",
       "      <td>48.5</td>\n",
       "      <td>50.1</td>\n",
       "    </tr>\n",
       "    <tr>\n",
       "      <th>3</th>\n",
       "      <td>PaymentScreenSuccessful</td>\n",
       "      <td>1200</td>\n",
       "      <td>1158</td>\n",
       "      <td>1182</td>\n",
       "      <td>2358</td>\n",
       "      <td>3540</td>\n",
       "      <td>48.3</td>\n",
       "      <td>46.0</td>\n",
       "      <td>46.6</td>\n",
       "      <td>47.2</td>\n",
       "    </tr>\n",
       "  </tbody>\n",
       "</table>\n",
       "</div>"
      ],
      "text/plain": [
       "expid                    event    A1    A2     B  A1+A2   all  part_A1  \\\n",
       "0             MainScreenAppear  2450  2479  2494   4929  7423     98.6   \n",
       "1           OffersScreenAppear  1542  1524  1531   3066  4597     62.1   \n",
       "2             CartScreenAppear  1266  1239  1231   2505  3736     51.0   \n",
       "3      PaymentScreenSuccessful  1200  1158  1182   2358  3540     48.3   \n",
       "\n",
       "expid  part_A2  part_B  part_A1+A2  \n",
       "0         98.5    98.3        98.6  \n",
       "1         60.5    60.3        61.3  \n",
       "2         49.2    48.5        50.1  \n",
       "3         46.0    46.6        47.2  "
      ]
     },
     "execution_count": 114,
     "metadata": {},
     "output_type": "execute_result"
    }
   ],
   "source": [
    "event_group_test = exp[exp['event']!='Tutorial'].pivot_table(\n",
    "    index='event', \n",
    "    columns='expid', \n",
    "    values='user',\n",
    "    aggfunc='nunique').sort_values(by='A1', ascending=False)\n",
    "\n",
    "event_group_test = event_group_test.reset_index()\n",
    "event_group_test['A1+A2'] = event_group_test['A1'] + event_group_test['A2']\n",
    "event_group_test['all'] = event_group_test['A1+A2'] + event_group_test['B']\n",
    "\n",
    "event_group_test['part_A1'] = (event_group_test['A1'] / users_bygroup['A1'] * 100).round(1)\n",
    "event_group_test['part_A2'] = (event_group_test['A2'] / users_bygroup['A2'] * 100).round(1)\n",
    "event_group_test['part_B'] = (event_group_test['B'] / users_bygroup['B'] * 100).round(1)\n",
    "event_group_test['part_A1+A2'] = ((event_group_test['A1'] + event_group_test['A2']) / \\\n",
    "                                  (users_bygroup['A1'] + users_bygroup['A2']) * 100).round(1)\n",
    "# event_group_test['part_all'] = (event_group_test['all'] / users_bygroup.sum() * 100).round(1)\n",
    "event_group_test"
   ]
  },
  {
   "cell_type": "code",
   "execution_count": 115,
   "metadata": {},
   "outputs": [
    {
     "data": {
      "text/plain": [
       "MainScreenAppear           117889\n",
       "OffersScreenAppear          46531\n",
       "CartScreenAppear            42343\n",
       "PaymentScreenSuccessful     33951\n",
       "Tutorial                     1010\n",
       "Name: event, dtype: int64"
      ]
     },
     "execution_count": 115,
     "metadata": {},
     "output_type": "execute_result"
    }
   ],
   "source": [
    "exp['event'].value_counts()"
   ]
  },
  {
   "cell_type": "markdown",
   "metadata": {},
   "source": [
    "- Выходит, что самое популярное событие это MainScreenAppear, т.е. показ главной страницы.\n",
    "- Количество пользователей, совершивших самое популярное событие 7423, а в разрезе групп:\n",
    "A1 - 2450\n",
    "A2 - 2479\n",
    "B - 2494\n",
    "- посмотрим в процентах, доли пользователей, совершивших самое популярное событие MainScreenAppear 98,5%, а в разрезе групп:\n",
    "A1 - 98,6%\n",
    "A2 - 98,5%\n",
    "B - 98,3%\n"
   ]
  },
  {
   "cell_type": "markdown",
   "metadata": {},
   "source": [
    "Приступаем к началу А/В теста!\n",
    "Перед началом А/В теста сформируем основные тезисы:\n",
    "- инструмент «деления» трафика работает безошибочно\n",
    "- данные отправляются в системы аналитики корректно\n",
    "- на результаты не влияют аномалии и выбросы в генеральной совокупности\n",
    "\n",
    "Для подтверждения данных тезисов проводится А/А тест, и если трафик и инструмент проведения A/A-теста не подвели, различий в показателях не будет. Также А/А-тест помогает определить длительность теста и методику анализа данных.\n",
    "\n",
    "Выделим критерии успешного А/А теста: \n",
    "- Попавший в одну из групп посетитель остаётся в этой группе до конца теста. Если пользователь видит разные версии исследуемой страницы в ходе одного исследования, неизвестно, какая именно повлияла на его решения. Как следствие, и результаты такого теста нельзя интерпретировать однозначно.\n",
    "- Различие ключевых метрик по группам не превышает 1% и не имеет статистической значимости;\n",
    "- Количество пользователей в различных группах различается не более, чем на 1%;\n",
    "- Для всех групп фиксируют и отправляют в системы аналитики данные об одном и том же;\n",
    "\n",
    "\n",
    "Необходимая чувствительность эксперимента определяет степень различия ключевых метрик по группам. Скажем, если мы хотим определить результаты теста, в котором ожидаем более 30% прироста, то 10% погрешности измерений нас устроят. Однако такое бывает редко: изменение показателей на 30% обычно заметно и без A/B-теста. Его применяют там, где степень различия между группами не больше 10%, или же подвержены колебаниям. \n",
    "В таких случаях точность A/A-теста в 1% — распространённый критерий.\n",
    "\n",
    "\n",
    "Нулевой гипотезой мы будем считать, что нет основания считать доли разными и считать статистическими отличиями между исследуемыми группами критичными.\n",
    "Альтернативная гипотеза будет звучать следующим образом: существуют статистически значимые различия между исследуемыми группами и мы опровергаем нулевую гипотезу. \n",
    "Далее мы создадим функцию \"z_test\" для проведения тестов, на вход подаются 3 параметра: группа1, группа2 и уровень статистической значимости:"
   ]
  },
  {
   "cell_type": "code",
   "execution_count": 116,
   "metadata": {},
   "outputs": [
    {
     "name": "stdout",
     "output_type": "stream",
     "text": [
      "MainScreenAppear p-значение: 0.6756217702005545\n",
      "Не получилось отвергнуть нулевую гипотезу, нет оснований считать доли разными\n",
      "\n",
      "OffersScreenAppear p-значение: 0.26698769175859516\n",
      "Не получилось отвергнуть нулевую гипотезу, нет оснований считать доли разными\n",
      "\n",
      "CartScreenAppear p-значение: 0.2182812140633792\n",
      "Не получилось отвергнуть нулевую гипотезу, нет оснований считать доли разными\n",
      "\n",
      "PaymentScreenSuccessful p-значение: 0.10298394982948822\n",
      "Не получилось отвергнуть нулевую гипотезу, нет оснований считать доли разными\n",
      "\n"
     ]
    }
   ],
   "source": [
    "def z_test(group1, group2, alpha):\n",
    "    for i in event_group_test.index:\n",
    "        p1 = event_group_test[group1][i] / users_bygroup[group1]\n",
    "        # соотношение успехов во второй группе:\n",
    "        p2 = event_group_test[group2][i] / users_bygroup[group2]\n",
    "        # соотношение успехов в комбинированном датасете:\n",
    "        p_combined = ((event_group_test[group1][i] + event_group_test[group2][i]) / \n",
    "                      (users_bygroup[group1] + users_bygroup[group2]))\n",
    "        # различие пропорций в датасетах\n",
    "        difference = p1 - p2\n",
    "        # подсчет статистики в ст.отклонениях стандартного нормального распределения\n",
    "        z_value = difference / mth.sqrt(p_combined * (1 - p_combined) * \n",
    "                                        (1/users_bygroup[group1] + 1/users_bygroup[group2]))\n",
    "        # задаем стандартное нормальное распределение (среднее 0, ст.отклонение 1)\n",
    "        distr = st.norm(0, 1) \n",
    "        p_value = (1 - distr.cdf(abs(z_value))) * 2\n",
    "        print('{} p-значение: {}'.format(event_group_test['event'][i], p_value))\n",
    "        if (p_value < alpha):\n",
    "            print(\"Отвергаем нулевую гипотезу: между долями есть значимая разница\")\n",
    "        else:\n",
    "            print(\"Не получилось отвергнуть нулевую гипотезу, нет оснований считать доли разными\")\n",
    "        print('')\n",
    "        \n",
    "z_test(\"A1\", \"A2\", 0.01)"
   ]
  },
  {
   "cell_type": "markdown",
   "metadata": {},
   "source": [
    "Так как группы A1/A2 должны быть одинаковыми, то над ними и контроль жестче. Поэтому для проведения A/A тестирования был взят уровень статистической значимости равный 1%. \n",
    "По результатам A1/A2 тестирования для всех событий разница не оказалось значимой, поэтому эти группы считаем контрольными.\n",
    "\n",
    "Так как для A/B теста не нужна высокая точность, то для дальнейших экспериментов выберем самый стандартный уровень значимости равный 5%. Дальше проведем еще 3 группы тестов: A1/B , A2/B , A1+A2/B:"
   ]
  },
  {
   "cell_type": "markdown",
   "metadata": {},
   "source": [
    "A1/B - эксперимент:"
   ]
  },
  {
   "cell_type": "code",
   "execution_count": 117,
   "metadata": {},
   "outputs": [
    {
     "name": "stdout",
     "output_type": "stream",
     "text": [
      "MainScreenAppear p-значение: 0.34705881021236484\n",
      "Не получилось отвергнуть нулевую гипотезу, нет оснований считать доли разными\n",
      "\n",
      "OffersScreenAppear p-значение: 0.20836205402738917\n",
      "Не получилось отвергнуть нулевую гипотезу, нет оснований считать доли разными\n",
      "\n",
      "CartScreenAppear p-значение: 0.08328412977507749\n",
      "Не получилось отвергнуть нулевую гипотезу, нет оснований считать доли разными\n",
      "\n",
      "PaymentScreenSuccessful p-значение: 0.22269358994682742\n",
      "Не получилось отвергнуть нулевую гипотезу, нет оснований считать доли разными\n",
      "\n"
     ]
    }
   ],
   "source": [
    "z_test(\"A1\", \"B\", 0.05)"
   ]
  },
  {
   "cell_type": "markdown",
   "metadata": {},
   "source": [
    "A1+A2/B - эксперимент:"
   ]
  },
  {
   "cell_type": "code",
   "execution_count": 118,
   "metadata": {},
   "outputs": [
    {
     "name": "stdout",
     "output_type": "stream",
     "text": [
      "MainScreenAppear p-значение: 0.39298914928006035\n",
      "Не получилось отвергнуть нулевую гипотезу, нет оснований считать доли разными\n",
      "\n",
      "OffersScreenAppear p-значение: 0.418998284007599\n",
      "Не получилось отвергнуть нулевую гипотезу, нет оснований считать доли разными\n",
      "\n",
      "CartScreenAppear p-значение: 0.19819340844527744\n",
      "Не получилось отвергнуть нулевую гипотезу, нет оснований считать доли разными\n",
      "\n",
      "PaymentScreenSuccessful p-значение: 0.6452057673098244\n",
      "Не получилось отвергнуть нулевую гипотезу, нет оснований считать доли разными\n",
      "\n"
     ]
    }
   ],
   "source": [
    "z_test(\"A1+A2\", \"B\", 0.05)"
   ]
  },
  {
   "cell_type": "markdown",
   "metadata": {},
   "source": [
    "В случае A2/B - эксперимента и A1+A2/B - эксперимента у нас не получилось опровергнуть нулевую гипотезу, считаем различия между группами для каждого события статистически не значимыми. Разницы между группами во всех тестах не выявлено. "
   ]
  },
  {
   "cell_type": "markdown",
   "metadata": {},
   "source": [
    "<div class=\"alert alert-warning\">\n",
    "\n",
    "**⚠️ Комментарий ревьюера v2⚠️**\n",
    "   \n",
    "   \n",
    "\n",
    "\n",
    "   \n",
    "\n",
    "\n",
    "   В этом проекте мы столкнулись с множественной проверкой гипотез. Рекомендую ознакомиться с поправками на множественную проверку гипотез: https://studfile.net/preview/10706903/page:19/ и изучить, как можно корректировать уровень альфа.\n",
    "Также рекомендую статью: https://habr.com/ru/company/yandex/blog/476826/ - в ней описывается применение библиотеки `statsmodels` - пригодится в дальнейшем                    \n",
    "\n",
    "</div>\n",
    "\n",
    "\n"
   ]
  },
  {
   "cell_type": "markdown",
   "metadata": {},
   "source": [
    "### Общий вывод: \n",
    "Мы провели исследование исходного датафрейма, предобработку данных, изучили и проверили данные, изучили воронку событий, а так же исследовали результаты эксперимента. Подытожим проделанную работу: \n",
    "\n",
    "1. Изучение и проверка данных: \n",
    "\n",
    "- В результате проверки данных выяснилось, что данные предоставлены с 25 ююля по 7 августа. Число событий, происходивших в июле почти незначительно по сравнению с августовскими. Из этого сделан вывод, что это была какая-то маркетинговая акция или нечто аналогичное. В результате июльские данные принято исключить из анализа и оставить только период с 2019-07-31 21:00 часа. Если говорить о достоверности анализа данных за 7-8 дней, то, в нашем случае это приложение по доставке еды, поэтому человеку не нужно находиться в приложении месяц, чтобы сделать заказ ему достаточно 1- возможно 2 дня.\n",
    "- Отбросив малочисленные данные за 1 неделю, мы потеряли порядка 3 тысяч записей. Среди общего числа записей это составляет незначительный процент, порядка 1%. Потеря пользователей минимальна - 17 человек. \n",
    "- Мы выявили, что пользователи с аномально большим количеством событий генерируют ценные события (просмотр корзины и покупки), а не просто запускают приложение и уходят из него\n",
    "- Среднее число событий на пользователя 32. \n",
    "- Уникальные пользователи из всех трех экспериментальных групп у нас есть примерно в равном соотношении.\n",
    "- Кол-во пользователей в каждой группе осталось примерно 2,5 тысячи, а событий примерно по 80 тысяч. Что довольно ровные данные.\n",
    "\n",
    "\n",
    "\n",
    "2. Изучение воронки событий: \n",
    "Структура воронки событий, приводящих к продажам в стартапе проходит по следущему порядку:\n",
    "- MainScreenAppear - Появление Главного экрана - Зашли на сайт\n",
    "- OffersScreenAppear - Появление Экрана Предложений - Искали товар по каталогу\n",
    "- CartScreenAppear - Появление Экрана Корзины - Добавили в корзину\n",
    "- PaymentScreenSuccessful - Экран Платеж Успешен - Оплатили\n",
    "- Tutorial - Руководство пользователя - Изучали инструкцию (фактически исключается)\n",
    "62% пользователей переходят поиску товара по катологу, а целых 38% покидат стартап после входа на сайт. \n",
    "Это значительная цифра и здесь необходимо провести некоторую коррекционную работу с ux/ui специалистами и подключить QA-отдел. \n",
    "Событие Tutorial не несет полезной нагрузки, поэтому его можно не принимать во внимание;\n",
    "\n",
    "\n",
    "3. А1/А2/B - эксперименты:\n",
    "\n",
    "Мы провели 16 экспериментов в ходе исследования: \n",
    "- A1/A1 - 4 эксперемента (для каждого события) / уровень статистической значимости - 1%. Так как группы A1/A2 должны быть одинаковыми, то над ними и контроль жестче. Поэтому для проведения A/A тестирования был взят уровень статистической значимости равный 1%. По результатам A1/A2 тестирования для всех событий разница не оказалось значимой, поэтому эти группы считаем контрольными.\n",
    "- A1/B - 4 эксперемента (для каждого события) / уровень статистической значимости - 5%\n",
    "- A2/B - 4 эксперемента (для каждого события) / уровень статистической значимости - 5%\n",
    "- A1+A2/B - 4 эксперемента (для каждого события) / уровень статистической значимости - 5%\n",
    "\n",
    "\n",
    "Сделали вывод относительно уровня статистической значимоти для А/В эксперимента: уровень статистической значимости в 10% был бы слишком большим. Мы не ожидаем в тесте изменени более чем на 30% (в таком случае 10% погрешности измерений не была бы критичной). \n",
    "При уровне значимости 0.1 только одна из проверок покажет значимую разницу, между контрольной группой A1 и экспериментальной в доле перехода пользователей в корзину(CartScreenAppear), но эта разница будет не в пользу нашей экспериментальной группы. Но при уровне значимости 0.1 каждый десятый раз можно получать ложный результат, поэтому стоит применить изначально выбранный нами уровень значимости 0.05.\n",
    "\n",
    "- В результате проведенных 16 A/А и A/B эксперементов значимой разницы между группами мы не выявили. Видимо, на поведение пользователей изменение шрифта значимого эффекта не оказало. \n",
    "- Я полагаю, что проведенное тестирование можно назвать успешным - изменение шрифта не повлияло на поведение пользователей.\n",
    "\n",
    "\n"
   ]
  },
  {
   "cell_type": "markdown",
   "metadata": {},
   "source": [
    "<div class=\"alert alert-success\">\n",
    "\n",
    "**✔️ Комментарий ревьюера v2✔️**\n",
    "   \n",
    "   Галина, проведен основательный и подробный анализ. Все наглядно - графики и гистограммы подтверждают обоснованные выводы. Учти мои замечания. Возможно, придется немного подправить выводы. Жду твой проект на повторное ревью. Успехов!\n",
    "\n",
    "</div>\n"
   ]
  },
  {
   "cell_type": "markdown",
   "metadata": {},
   "source": [
    "<div class=\"alert alert-block alert-info\">\n",
    "Михаил, помочь настроить визуализацию и тот цикл мне никто не смог, к сожалению, пока что. Я переписала код мальца, чтобы это было читабельно. Проверь пожалуйста, что все ок и я уберу лишний мусор, который негоден для конечного варианта.\n",
    "</div>"
   ]
  },
  {
   "cell_type": "markdown",
   "metadata": {},
   "source": [
    "<div class=\"alert alert-success\">\n",
    "\n",
    "**✔️ Комментарий ревьюера v4✔️**\n",
    "   \n",
    "   Галина, так как до этого мы успешно строили воронки, а замечания устранены - я проект принимаю. Проблемы, вероятнее всего, возникают из-за технического сбоя платформы, можно попробовать поработать с ним локально, когда будет время. Уверен, мои советы пригодятся тебе в новых проектах. Успехов в обучении! 😉 \n",
    "\n",
    "</div>"
   ]
  },
  {
   "cell_type": "code",
   "execution_count": null,
   "metadata": {},
   "outputs": [],
   "source": []
  }
 ],
 "metadata": {
  "ExecuteTimeLog": [
   {
    "duration": 1626,
    "start_time": "2023-07-16T19:43:56.058Z"
   },
   {
    "duration": 1150,
    "start_time": "2023-07-16T19:44:14.282Z"
   },
   {
    "duration": 35,
    "start_time": "2023-07-16T19:44:23.124Z"
   },
   {
    "duration": 77,
    "start_time": "2023-07-16T19:46:01.215Z"
   },
   {
    "duration": 4,
    "start_time": "2023-07-16T19:49:22.899Z"
   },
   {
    "duration": 5,
    "start_time": "2023-07-16T19:50:15.332Z"
   },
   {
    "duration": 259,
    "start_time": "2023-07-16T19:50:15.695Z"
   },
   {
    "duration": 16,
    "start_time": "2023-07-16T19:50:16.088Z"
   },
   {
    "duration": 59,
    "start_time": "2023-07-16T19:55:44.981Z"
   },
   {
    "duration": 2366,
    "start_time": "2023-07-16T20:05:57.999Z"
   },
   {
    "duration": 2131,
    "start_time": "2023-07-16T20:06:20.103Z"
   },
   {
    "duration": 621,
    "start_time": "2023-07-16T20:07:34.033Z"
   },
   {
    "duration": 544,
    "start_time": "2023-07-16T20:08:07.699Z"
   },
   {
    "duration": 7,
    "start_time": "2023-07-16T20:08:12.327Z"
   },
   {
    "duration": 250,
    "start_time": "2023-07-16T20:08:12.495Z"
   },
   {
    "duration": 24,
    "start_time": "2023-07-16T20:08:12.748Z"
   },
   {
    "duration": 46,
    "start_time": "2023-07-16T20:08:12.806Z"
   },
   {
    "duration": 4,
    "start_time": "2023-07-16T20:08:13.700Z"
   },
   {
    "duration": 236,
    "start_time": "2023-07-16T20:08:14.887Z"
   },
   {
    "duration": 13,
    "start_time": "2023-07-16T20:08:15.306Z"
   },
   {
    "duration": 31,
    "start_time": "2023-07-16T20:08:16.020Z"
   },
   {
    "duration": 1893,
    "start_time": "2023-07-16T20:08:16.594Z"
   },
   {
    "duration": 38,
    "start_time": "2023-07-16T20:09:07.764Z"
   },
   {
    "duration": 2078,
    "start_time": "2023-07-16T20:09:34.563Z"
   },
   {
    "duration": 24,
    "start_time": "2023-07-16T20:19:04.390Z"
   },
   {
    "duration": 1762,
    "start_time": "2023-07-16T20:19:18.958Z"
   },
   {
    "duration": 7,
    "start_time": "2023-07-16T20:20:17.413Z"
   },
   {
    "duration": 269,
    "start_time": "2023-07-16T20:20:17.563Z"
   },
   {
    "duration": 48,
    "start_time": "2023-07-16T20:20:17.836Z"
   },
   {
    "duration": 94,
    "start_time": "2023-07-16T20:20:17.888Z"
   },
   {
    "duration": 5,
    "start_time": "2023-07-16T20:20:18.461Z"
   },
   {
    "duration": 355,
    "start_time": "2023-07-16T20:20:18.999Z"
   },
   {
    "duration": 25,
    "start_time": "2023-07-16T20:20:19.358Z"
   },
   {
    "duration": 53,
    "start_time": "2023-07-16T20:20:19.386Z"
   },
   {
    "duration": 31,
    "start_time": "2023-07-16T20:20:19.687Z"
   },
   {
    "duration": 52,
    "start_time": "2023-07-16T20:20:19.881Z"
   },
   {
    "duration": 16,
    "start_time": "2023-07-16T20:20:20.078Z"
   },
   {
    "duration": 17,
    "start_time": "2023-07-16T20:20:33.586Z"
   },
   {
    "duration": 349,
    "start_time": "2023-07-16T20:23:33.262Z"
   },
   {
    "duration": 108,
    "start_time": "2023-07-16T20:23:59.246Z"
   },
   {
    "duration": 286,
    "start_time": "2023-07-16T20:24:17.607Z"
   },
   {
    "duration": 1939,
    "start_time": "2023-07-16T20:26:47.524Z"
   },
   {
    "duration": 112,
    "start_time": "2023-07-16T20:27:29.286Z"
   },
   {
    "duration": 14,
    "start_time": "2023-07-16T20:27:50.922Z"
   },
   {
    "duration": 22,
    "start_time": "2023-07-16T20:28:05.493Z"
   },
   {
    "duration": 19,
    "start_time": "2023-07-16T20:30:37.752Z"
   },
   {
    "duration": 12,
    "start_time": "2023-07-16T20:31:19.700Z"
   },
   {
    "duration": 26,
    "start_time": "2023-07-16T20:31:42.642Z"
   },
   {
    "duration": 135,
    "start_time": "2023-07-16T20:32:00.057Z"
   },
   {
    "duration": 472,
    "start_time": "2023-07-16T20:33:28.462Z"
   },
   {
    "duration": 34,
    "start_time": "2023-07-16T20:33:34.624Z"
   },
   {
    "duration": 459,
    "start_time": "2023-07-16T20:40:05.956Z"
   },
   {
    "duration": 132,
    "start_time": "2023-07-16T20:42:09.655Z"
   },
   {
    "duration": 91,
    "start_time": "2023-07-16T20:42:18.655Z"
   },
   {
    "duration": 65,
    "start_time": "2023-07-16T20:42:29.210Z"
   },
   {
    "duration": 128,
    "start_time": "2023-07-16T20:47:44.417Z"
   },
   {
    "duration": 1480,
    "start_time": "2023-07-17T19:19:41.795Z"
   },
   {
    "duration": 641,
    "start_time": "2023-07-17T19:19:43.277Z"
   },
   {
    "duration": 23,
    "start_time": "2023-07-17T19:19:43.920Z"
   },
   {
    "duration": 43,
    "start_time": "2023-07-17T19:19:43.946Z"
   },
   {
    "duration": 4,
    "start_time": "2023-07-17T19:19:43.991Z"
   },
   {
    "duration": 220,
    "start_time": "2023-07-17T19:19:44.021Z"
   },
   {
    "duration": 11,
    "start_time": "2023-07-17T19:19:44.243Z"
   },
   {
    "duration": 33,
    "start_time": "2023-07-17T19:19:44.257Z"
   },
   {
    "duration": 44,
    "start_time": "2023-07-17T19:19:44.292Z"
   },
   {
    "duration": 25,
    "start_time": "2023-07-17T19:19:44.339Z"
   },
   {
    "duration": 11,
    "start_time": "2023-07-17T19:19:44.365Z"
   },
   {
    "duration": 13,
    "start_time": "2023-07-17T19:19:44.377Z"
   },
   {
    "duration": 61,
    "start_time": "2023-07-17T19:19:44.706Z"
   },
   {
    "duration": 32,
    "start_time": "2023-07-17T19:19:44.889Z"
   },
   {
    "duration": 79,
    "start_time": "2023-07-17T19:19:45.194Z"
   },
   {
    "duration": 203,
    "start_time": "2023-07-17T19:19:45.690Z"
   },
   {
    "duration": 76,
    "start_time": "2023-07-17T19:19:45.894Z"
   },
   {
    "duration": 290,
    "start_time": "2023-07-17T19:19:46.199Z"
   },
   {
    "duration": 43,
    "start_time": "2023-07-17T19:19:46.491Z"
   },
   {
    "duration": 36,
    "start_time": "2023-07-17T19:19:46.773Z"
   },
   {
    "duration": 21,
    "start_time": "2023-07-17T19:19:48.391Z"
   },
   {
    "duration": 22,
    "start_time": "2023-07-17T19:22:07.732Z"
   },
   {
    "duration": 192,
    "start_time": "2023-07-17T19:22:49.105Z"
   },
   {
    "duration": 4,
    "start_time": "2023-07-17T19:24:16.669Z"
   },
   {
    "duration": 4,
    "start_time": "2023-07-17T19:25:49.445Z"
   },
   {
    "duration": 4,
    "start_time": "2023-07-17T19:26:05.749Z"
   },
   {
    "duration": 18,
    "start_time": "2023-07-17T19:28:54.605Z"
   },
   {
    "duration": 26,
    "start_time": "2023-07-17T19:29:23.902Z"
   },
   {
    "duration": 110,
    "start_time": "2023-07-17T19:31:41.712Z"
   },
   {
    "duration": 16,
    "start_time": "2023-07-17T19:32:33.497Z"
   },
   {
    "duration": 101,
    "start_time": "2023-07-17T19:33:17.156Z"
   },
   {
    "duration": 13,
    "start_time": "2023-07-17T19:33:22.908Z"
   },
   {
    "duration": 7,
    "start_time": "2023-07-17T19:33:39.903Z"
   },
   {
    "duration": 9,
    "start_time": "2023-07-17T19:36:44.802Z"
   },
   {
    "duration": 18,
    "start_time": "2023-07-17T19:37:47.605Z"
   },
   {
    "duration": 45,
    "start_time": "2023-07-17T19:38:14.760Z"
   },
   {
    "duration": 1450,
    "start_time": "2023-07-17T19:39:45.049Z"
   },
   {
    "duration": 272,
    "start_time": "2023-07-17T19:40:16.894Z"
   },
   {
    "duration": 11,
    "start_time": "2023-07-17T19:59:40.967Z"
   },
   {
    "duration": 73,
    "start_time": "2023-07-17T19:59:48.511Z"
   },
   {
    "duration": 188,
    "start_time": "2023-07-17T20:00:22.206Z"
   },
   {
    "duration": 5,
    "start_time": "2023-07-17T20:00:27.185Z"
   },
   {
    "duration": 182,
    "start_time": "2023-07-17T20:00:27.340Z"
   },
   {
    "duration": 31,
    "start_time": "2023-07-17T20:00:27.525Z"
   },
   {
    "duration": 48,
    "start_time": "2023-07-17T20:00:27.608Z"
   },
   {
    "duration": 4,
    "start_time": "2023-07-17T20:00:28.194Z"
   },
   {
    "duration": 214,
    "start_time": "2023-07-17T20:00:28.352Z"
   },
   {
    "duration": 11,
    "start_time": "2023-07-17T20:00:28.568Z"
   },
   {
    "duration": 37,
    "start_time": "2023-07-17T20:00:28.643Z"
   },
   {
    "duration": 25,
    "start_time": "2023-07-17T20:00:28.931Z"
   },
   {
    "duration": 32,
    "start_time": "2023-07-17T20:00:29.066Z"
   },
   {
    "duration": 11,
    "start_time": "2023-07-17T20:00:29.374Z"
   },
   {
    "duration": 15,
    "start_time": "2023-07-17T20:00:29.707Z"
   },
   {
    "duration": 69,
    "start_time": "2023-07-17T20:00:30.204Z"
   },
   {
    "duration": 26,
    "start_time": "2023-07-17T20:00:30.358Z"
   },
   {
    "duration": 75,
    "start_time": "2023-07-17T20:00:30.739Z"
   },
   {
    "duration": 179,
    "start_time": "2023-07-17T20:00:31.292Z"
   },
   {
    "duration": 77,
    "start_time": "2023-07-17T20:00:31.473Z"
   },
   {
    "duration": 311,
    "start_time": "2023-07-17T20:00:32.304Z"
   },
   {
    "duration": 49,
    "start_time": "2023-07-17T20:00:32.853Z"
   },
   {
    "duration": 44,
    "start_time": "2023-07-17T20:00:35.285Z"
   },
   {
    "duration": 24,
    "start_time": "2023-07-17T20:00:36.323Z"
   },
   {
    "duration": 24,
    "start_time": "2023-07-17T20:00:36.556Z"
   },
   {
    "duration": 24,
    "start_time": "2023-07-17T20:00:36.970Z"
   },
   {
    "duration": 4,
    "start_time": "2023-07-17T20:00:37.545Z"
   },
   {
    "duration": 4,
    "start_time": "2023-07-17T20:00:37.715Z"
   },
   {
    "duration": 20,
    "start_time": "2023-07-17T20:00:38.595Z"
   },
   {
    "duration": 26,
    "start_time": "2023-07-17T20:00:38.988Z"
   },
   {
    "duration": 8,
    "start_time": "2023-07-17T20:00:39.791Z"
   },
   {
    "duration": 41,
    "start_time": "2023-07-17T20:00:40.370Z"
   },
   {
    "duration": 196,
    "start_time": "2023-07-17T20:00:41.839Z"
   },
   {
    "duration": 62,
    "start_time": "2023-07-17T20:01:37.243Z"
   },
   {
    "duration": 1743,
    "start_time": "2023-07-17T20:01:50.585Z"
   },
   {
    "duration": 64,
    "start_time": "2023-07-17T20:02:32.562Z"
   },
   {
    "duration": 20,
    "start_time": "2023-07-17T20:03:28.943Z"
   },
   {
    "duration": 84,
    "start_time": "2023-07-17T20:03:34.169Z"
   },
   {
    "duration": 27,
    "start_time": "2023-07-17T20:04:28.253Z"
   },
   {
    "duration": 69,
    "start_time": "2023-07-17T20:04:46.118Z"
   },
   {
    "duration": 30,
    "start_time": "2023-07-17T20:05:01.564Z"
   },
   {
    "duration": 45,
    "start_time": "2023-07-17T20:05:27.398Z"
   },
   {
    "duration": 22,
    "start_time": "2023-07-17T20:05:45.266Z"
   },
   {
    "duration": 18,
    "start_time": "2023-07-17T20:05:52.371Z"
   },
   {
    "duration": 6,
    "start_time": "2023-07-17T20:06:12.867Z"
   },
   {
    "duration": 169,
    "start_time": "2023-07-17T20:06:13.014Z"
   },
   {
    "duration": 18,
    "start_time": "2023-07-17T20:06:13.404Z"
   },
   {
    "duration": 38,
    "start_time": "2023-07-17T20:06:13.583Z"
   },
   {
    "duration": 4,
    "start_time": "2023-07-17T20:06:14.642Z"
   },
   {
    "duration": 246,
    "start_time": "2023-07-17T20:06:14.798Z"
   },
   {
    "duration": 11,
    "start_time": "2023-07-17T20:06:15.047Z"
   },
   {
    "duration": 40,
    "start_time": "2023-07-17T20:06:15.106Z"
   },
   {
    "duration": 17,
    "start_time": "2023-07-17T20:06:15.412Z"
   },
   {
    "duration": 23,
    "start_time": "2023-07-17T20:06:15.544Z"
   },
   {
    "duration": 10,
    "start_time": "2023-07-17T20:06:15.848Z"
   },
   {
    "duration": 11,
    "start_time": "2023-07-17T20:06:16.133Z"
   },
   {
    "duration": 58,
    "start_time": "2023-07-17T20:06:16.592Z"
   },
   {
    "duration": 21,
    "start_time": "2023-07-17T20:06:16.749Z"
   },
   {
    "duration": 99,
    "start_time": "2023-07-17T20:06:17.066Z"
   },
   {
    "duration": 219,
    "start_time": "2023-07-17T20:06:17.563Z"
   },
   {
    "duration": 86,
    "start_time": "2023-07-17T20:06:17.784Z"
   },
   {
    "duration": 328,
    "start_time": "2023-07-17T20:06:18.051Z"
   },
   {
    "duration": 43,
    "start_time": "2023-07-17T20:06:18.381Z"
   },
   {
    "duration": 34,
    "start_time": "2023-07-17T20:06:18.811Z"
   },
   {
    "duration": 31,
    "start_time": "2023-07-17T20:06:20.821Z"
   },
   {
    "duration": 22,
    "start_time": "2023-07-17T20:06:21.208Z"
   },
   {
    "duration": 24,
    "start_time": "2023-07-17T20:06:21.774Z"
   },
   {
    "duration": 5,
    "start_time": "2023-07-17T20:06:23.870Z"
   },
   {
    "duration": 5,
    "start_time": "2023-07-17T20:06:24.417Z"
   },
   {
    "duration": 18,
    "start_time": "2023-07-17T20:06:25.157Z"
   },
   {
    "duration": 25,
    "start_time": "2023-07-17T20:06:25.505Z"
   },
   {
    "duration": 7,
    "start_time": "2023-07-17T20:06:26.908Z"
   },
   {
    "duration": 46,
    "start_time": "2023-07-17T20:06:27.554Z"
   },
   {
    "duration": 209,
    "start_time": "2023-07-17T20:06:28.611Z"
   },
   {
    "duration": 12,
    "start_time": "2023-07-17T20:06:29.602Z"
   },
   {
    "duration": 68,
    "start_time": "2023-07-17T20:06:29.956Z"
   },
   {
    "duration": 66,
    "start_time": "2023-07-17T20:08:15.597Z"
   },
   {
    "duration": 8,
    "start_time": "2023-07-17T20:12:58.307Z"
   },
   {
    "duration": 4,
    "start_time": "2023-07-17T20:13:19.717Z"
   },
   {
    "duration": 159,
    "start_time": "2023-07-17T20:13:19.847Z"
   },
   {
    "duration": 34,
    "start_time": "2023-07-17T20:13:20.008Z"
   },
   {
    "duration": 37,
    "start_time": "2023-07-17T20:13:20.113Z"
   },
   {
    "duration": 3,
    "start_time": "2023-07-17T20:13:20.673Z"
   },
   {
    "duration": 210,
    "start_time": "2023-07-17T20:13:20.790Z"
   },
   {
    "duration": 9,
    "start_time": "2023-07-17T20:13:21.002Z"
   },
   {
    "duration": 32,
    "start_time": "2023-07-17T20:13:21.093Z"
   },
   {
    "duration": 17,
    "start_time": "2023-07-17T20:13:21.398Z"
   },
   {
    "duration": 25,
    "start_time": "2023-07-17T20:13:21.551Z"
   },
   {
    "duration": 8,
    "start_time": "2023-07-17T20:13:21.849Z"
   },
   {
    "duration": 10,
    "start_time": "2023-07-17T20:13:22.161Z"
   },
   {
    "duration": 63,
    "start_time": "2023-07-17T20:13:22.790Z"
   },
   {
    "duration": 22,
    "start_time": "2023-07-17T20:13:22.951Z"
   },
   {
    "duration": 69,
    "start_time": "2023-07-17T20:13:23.266Z"
   },
   {
    "duration": 206,
    "start_time": "2023-07-17T20:13:23.892Z"
   },
   {
    "duration": 74,
    "start_time": "2023-07-17T20:13:24.282Z"
   },
   {
    "duration": 326,
    "start_time": "2023-07-17T20:13:24.645Z"
   },
   {
    "duration": 35,
    "start_time": "2023-07-17T20:13:24.973Z"
   },
   {
    "duration": 42,
    "start_time": "2023-07-17T20:13:25.130Z"
   },
   {
    "duration": 21,
    "start_time": "2023-07-17T20:13:26.142Z"
   },
   {
    "duration": 30,
    "start_time": "2023-07-17T20:13:26.299Z"
   },
   {
    "duration": 21,
    "start_time": "2023-07-17T20:13:26.646Z"
   },
   {
    "duration": 4,
    "start_time": "2023-07-17T20:13:27.185Z"
   },
   {
    "duration": 5,
    "start_time": "2023-07-17T20:13:27.243Z"
   },
   {
    "duration": 20,
    "start_time": "2023-07-17T20:13:27.548Z"
   },
   {
    "duration": 33,
    "start_time": "2023-07-17T20:13:27.709Z"
   },
   {
    "duration": 9,
    "start_time": "2023-07-17T20:13:28.208Z"
   },
   {
    "duration": 45,
    "start_time": "2023-07-17T20:13:28.566Z"
   },
   {
    "duration": 220,
    "start_time": "2023-07-17T20:13:28.943Z"
   },
   {
    "duration": 11,
    "start_time": "2023-07-17T20:13:29.309Z"
   },
   {
    "duration": 69,
    "start_time": "2023-07-17T20:13:29.683Z"
   },
   {
    "duration": 57,
    "start_time": "2023-07-17T20:13:30.015Z"
   },
   {
    "duration": 19,
    "start_time": "2023-07-17T20:13:30.383Z"
   },
   {
    "duration": 25,
    "start_time": "2023-07-17T20:14:43.167Z"
   },
   {
    "duration": 17,
    "start_time": "2023-07-17T20:16:07.656Z"
   },
   {
    "duration": 68,
    "start_time": "2023-07-17T20:19:20.718Z"
   },
   {
    "duration": 1629,
    "start_time": "2023-07-22T13:40:57.693Z"
   },
   {
    "duration": 1071,
    "start_time": "2023-07-22T13:40:59.325Z"
   },
   {
    "duration": 23,
    "start_time": "2023-07-22T13:41:00.398Z"
   },
   {
    "duration": 67,
    "start_time": "2023-07-22T13:41:00.424Z"
   },
   {
    "duration": 4,
    "start_time": "2023-07-22T13:41:00.493Z"
   },
   {
    "duration": 239,
    "start_time": "2023-07-22T13:41:00.498Z"
   },
   {
    "duration": 11,
    "start_time": "2023-07-22T13:41:00.739Z"
   },
   {
    "duration": 87,
    "start_time": "2023-07-22T13:41:00.752Z"
   },
   {
    "duration": 68,
    "start_time": "2023-07-22T13:41:00.841Z"
   },
   {
    "duration": 36,
    "start_time": "2023-07-22T13:41:00.911Z"
   },
   {
    "duration": 40,
    "start_time": "2023-07-22T13:41:00.949Z"
   },
   {
    "duration": 42,
    "start_time": "2023-07-22T13:41:00.991Z"
   },
   {
    "duration": 61,
    "start_time": "2023-07-22T13:41:01.530Z"
   },
   {
    "duration": 23,
    "start_time": "2023-07-22T13:41:01.717Z"
   },
   {
    "duration": 89,
    "start_time": "2023-07-22T13:41:02.054Z"
   },
   {
    "duration": 248,
    "start_time": "2023-07-22T13:41:02.578Z"
   },
   {
    "duration": 95,
    "start_time": "2023-07-22T13:41:02.828Z"
   },
   {
    "duration": 386,
    "start_time": "2023-07-22T13:41:03.054Z"
   },
   {
    "duration": 44,
    "start_time": "2023-07-22T13:41:03.442Z"
   },
   {
    "duration": 41,
    "start_time": "2023-07-22T13:41:03.587Z"
   },
   {
    "duration": 25,
    "start_time": "2023-07-22T13:41:04.488Z"
   },
   {
    "duration": 24,
    "start_time": "2023-07-22T13:41:04.655Z"
   },
   {
    "duration": 217,
    "start_time": "2023-07-22T13:41:04.988Z"
   },
   {
    "duration": 7,
    "start_time": "2023-07-22T13:41:05.382Z"
   },
   {
    "duration": 6,
    "start_time": "2023-07-22T13:41:05.601Z"
   },
   {
    "duration": 28,
    "start_time": "2023-07-22T13:41:05.986Z"
   },
   {
    "duration": 33,
    "start_time": "2023-07-22T13:41:06.178Z"
   },
   {
    "duration": 9,
    "start_time": "2023-07-22T13:41:07.155Z"
   },
   {
    "duration": 55,
    "start_time": "2023-07-22T13:41:07.286Z"
   },
   {
    "duration": 343,
    "start_time": "2023-07-22T13:41:07.967Z"
   },
   {
    "duration": 14,
    "start_time": "2023-07-22T13:41:08.474Z"
   },
   {
    "duration": 67,
    "start_time": "2023-07-22T13:41:08.916Z"
   },
   {
    "duration": 49,
    "start_time": "2023-07-22T13:41:09.853Z"
   },
   {
    "duration": 17,
    "start_time": "2023-07-22T13:41:10.567Z"
   },
   {
    "duration": 57,
    "start_time": "2023-07-22T13:41:12.026Z"
   },
   {
    "duration": 31,
    "start_time": "2023-07-22T13:41:14.170Z"
   },
   {
    "duration": 39,
    "start_time": "2023-07-22T13:41:51.978Z"
   },
   {
    "duration": 36,
    "start_time": "2023-07-22T13:42:19.937Z"
   },
   {
    "duration": 137,
    "start_time": "2023-07-22T13:42:55.151Z"
   },
   {
    "duration": 67,
    "start_time": "2023-07-22T13:43:12.953Z"
   },
   {
    "duration": 91,
    "start_time": "2023-07-22T13:51:47.616Z"
   },
   {
    "duration": 206,
    "start_time": "2023-07-22T13:53:16.501Z"
   },
   {
    "duration": 180,
    "start_time": "2023-07-22T13:54:07.112Z"
   },
   {
    "duration": 178,
    "start_time": "2023-07-22T13:54:34.491Z"
   },
   {
    "duration": 172,
    "start_time": "2023-07-22T13:55:04.238Z"
   },
   {
    "duration": 295,
    "start_time": "2023-07-22T13:55:20.991Z"
   },
   {
    "duration": 196,
    "start_time": "2023-07-22T13:55:36.063Z"
   },
   {
    "duration": 174,
    "start_time": "2023-07-22T13:56:01.960Z"
   },
   {
    "duration": 168,
    "start_time": "2023-07-22T13:56:25.047Z"
   },
   {
    "duration": 172,
    "start_time": "2023-07-22T13:56:30.007Z"
   },
   {
    "duration": 31,
    "start_time": "2023-07-22T14:00:48.453Z"
   },
   {
    "duration": 198,
    "start_time": "2023-07-22T14:01:44.758Z"
   },
   {
    "duration": 5,
    "start_time": "2023-07-22T14:02:04.441Z"
   },
   {
    "duration": 13,
    "start_time": "2023-07-22T14:02:23.760Z"
   },
   {
    "duration": 13,
    "start_time": "2023-07-22T14:02:52.199Z"
   },
   {
    "duration": 646,
    "start_time": "2023-07-22T14:03:06.559Z"
   },
   {
    "duration": 1847,
    "start_time": "2023-07-22T14:03:15.789Z"
   },
   {
    "duration": 589,
    "start_time": "2023-07-22T14:03:50.565Z"
   },
   {
    "duration": 641,
    "start_time": "2023-07-22T14:04:13.622Z"
   },
   {
    "duration": 565,
    "start_time": "2023-07-22T14:04:20.913Z"
   },
   {
    "duration": 535,
    "start_time": "2023-07-22T14:07:28.002Z"
   },
   {
    "duration": 628,
    "start_time": "2023-07-22T14:07:35.638Z"
   },
   {
    "duration": 14,
    "start_time": "2023-07-22T14:24:34.887Z"
   },
   {
    "duration": 1948,
    "start_time": "2023-07-22T14:24:51.168Z"
   },
   {
    "duration": 568,
    "start_time": "2023-07-22T14:25:12.787Z"
   },
   {
    "duration": 611,
    "start_time": "2023-07-22T14:25:31.287Z"
   },
   {
    "duration": 558,
    "start_time": "2023-07-22T14:29:18.882Z"
   },
   {
    "duration": 463,
    "start_time": "2023-07-22T14:30:39.643Z"
   },
   {
    "duration": 559,
    "start_time": "2023-07-22T14:30:51.027Z"
   },
   {
    "duration": 131,
    "start_time": "2023-07-22T14:32:57.794Z"
   },
   {
    "duration": 5,
    "start_time": "2023-07-22T14:33:56.830Z"
   },
   {
    "duration": 72,
    "start_time": "2023-07-22T14:35:00.237Z"
   },
   {
    "duration": 10,
    "start_time": "2023-07-22T14:39:12.568Z"
   },
   {
    "duration": 18,
    "start_time": "2023-07-22T15:20:53.559Z"
   },
   {
    "duration": 17,
    "start_time": "2023-07-22T15:21:36.290Z"
   },
   {
    "duration": 20,
    "start_time": "2023-07-22T15:22:02.616Z"
   },
   {
    "duration": 18,
    "start_time": "2023-07-22T15:22:12.160Z"
   },
   {
    "duration": 11,
    "start_time": "2023-07-22T15:22:26.882Z"
   },
   {
    "duration": 19,
    "start_time": "2023-07-22T15:22:28.305Z"
   },
   {
    "duration": 22,
    "start_time": "2023-07-22T15:23:04.629Z"
   },
   {
    "duration": 10,
    "start_time": "2023-07-22T15:23:37.756Z"
   },
   {
    "duration": 10,
    "start_time": "2023-07-22T15:24:05.191Z"
   },
   {
    "duration": 4,
    "start_time": "2023-07-22T15:25:02.425Z"
   },
   {
    "duration": 173,
    "start_time": "2023-07-22T15:25:02.581Z"
   },
   {
    "duration": 23,
    "start_time": "2023-07-22T15:25:02.756Z"
   },
   {
    "duration": 37,
    "start_time": "2023-07-22T15:25:02.889Z"
   },
   {
    "duration": 3,
    "start_time": "2023-07-22T15:25:03.532Z"
   },
   {
    "duration": 209,
    "start_time": "2023-07-22T15:25:03.710Z"
   },
   {
    "duration": 14,
    "start_time": "2023-07-22T15:25:03.922Z"
   },
   {
    "duration": 37,
    "start_time": "2023-07-22T15:25:04.077Z"
   },
   {
    "duration": 18,
    "start_time": "2023-07-22T15:25:04.448Z"
   },
   {
    "duration": 20,
    "start_time": "2023-07-22T15:25:04.606Z"
   },
   {
    "duration": 9,
    "start_time": "2023-07-22T15:25:04.961Z"
   },
   {
    "duration": 12,
    "start_time": "2023-07-22T15:25:05.338Z"
   },
   {
    "duration": 56,
    "start_time": "2023-07-22T15:25:05.849Z"
   },
   {
    "duration": 21,
    "start_time": "2023-07-22T15:25:06.023Z"
   },
   {
    "duration": 78,
    "start_time": "2023-07-22T15:25:06.342Z"
   },
   {
    "duration": 222,
    "start_time": "2023-07-22T15:25:06.869Z"
   },
   {
    "duration": 75,
    "start_time": "2023-07-22T15:25:07.093Z"
   },
   {
    "duration": 318,
    "start_time": "2023-07-22T15:25:07.416Z"
   },
   {
    "duration": 42,
    "start_time": "2023-07-22T15:25:07.736Z"
   },
   {
    "duration": 32,
    "start_time": "2023-07-22T15:25:07.989Z"
   },
   {
    "duration": 22,
    "start_time": "2023-07-22T15:25:09.091Z"
   },
   {
    "duration": 22,
    "start_time": "2023-07-22T15:25:09.305Z"
   },
   {
    "duration": 38,
    "start_time": "2023-07-22T15:25:09.675Z"
   },
   {
    "duration": 5,
    "start_time": "2023-07-22T15:25:10.282Z"
   },
   {
    "duration": 5,
    "start_time": "2023-07-22T15:25:10.398Z"
   },
   {
    "duration": 18,
    "start_time": "2023-07-22T15:25:11.010Z"
   },
   {
    "duration": 28,
    "start_time": "2023-07-22T15:25:11.195Z"
   },
   {
    "duration": 8,
    "start_time": "2023-07-22T15:25:11.673Z"
   },
   {
    "duration": 48,
    "start_time": "2023-07-22T15:25:12.008Z"
   },
   {
    "duration": 223,
    "start_time": "2023-07-22T15:25:12.329Z"
   },
   {
    "duration": 12,
    "start_time": "2023-07-22T15:25:12.694Z"
   },
   {
    "duration": 65,
    "start_time": "2023-07-22T15:25:13.057Z"
   },
   {
    "duration": 35,
    "start_time": "2023-07-22T15:25:13.605Z"
   },
   {
    "duration": 20,
    "start_time": "2023-07-22T15:25:13.935Z"
   },
   {
    "duration": 51,
    "start_time": "2023-07-22T15:25:14.512Z"
   },
   {
    "duration": 24,
    "start_time": "2023-07-22T15:25:15.672Z"
   },
   {
    "duration": 49,
    "start_time": "2023-07-22T15:25:16.056Z"
   },
   {
    "duration": 73,
    "start_time": "2023-07-22T15:25:17.421Z"
   },
   {
    "duration": 182,
    "start_time": "2023-07-22T15:25:18.460Z"
   },
   {
    "duration": 182,
    "start_time": "2023-07-22T15:25:18.895Z"
   },
   {
    "duration": 164,
    "start_time": "2023-07-22T15:25:19.420Z"
   },
   {
    "duration": 5,
    "start_time": "2023-07-22T15:25:19.586Z"
   },
   {
    "duration": 487,
    "start_time": "2023-07-22T15:25:19.593Z"
   },
   {
    "duration": 522,
    "start_time": "2023-07-22T15:25:20.562Z"
   },
   {
    "duration": 14,
    "start_time": "2023-07-22T15:25:21.547Z"
   },
   {
    "duration": 8,
    "start_time": "2023-07-22T15:25:21.769Z"
   },
   {
    "duration": 17,
    "start_time": "2023-07-22T15:25:22.228Z"
   },
   {
    "duration": 16,
    "start_time": "2023-07-22T15:25:22.496Z"
   },
   {
    "duration": 9,
    "start_time": "2023-07-22T15:25:22.795Z"
   },
   {
    "duration": 17,
    "start_time": "2023-07-22T15:25:42.721Z"
   },
   {
    "duration": 19,
    "start_time": "2023-07-22T15:26:45.376Z"
   },
   {
    "duration": 9,
    "start_time": "2023-07-22T15:26:50.360Z"
   },
   {
    "duration": 12,
    "start_time": "2023-07-22T15:27:46.192Z"
   },
   {
    "duration": 118,
    "start_time": "2023-07-22T15:33:58.091Z"
   },
   {
    "duration": 102,
    "start_time": "2023-07-22T15:34:25.944Z"
   },
   {
    "duration": 1739,
    "start_time": "2023-07-22T15:34:38.959Z"
   },
   {
    "duration": 11,
    "start_time": "2023-07-22T15:35:13.530Z"
   },
   {
    "duration": 11,
    "start_time": "2023-07-22T15:35:50.346Z"
   },
   {
    "duration": 13,
    "start_time": "2023-07-22T15:51:03.154Z"
   },
   {
    "duration": 156,
    "start_time": "2023-07-22T15:53:03.401Z"
   },
   {
    "duration": 165,
    "start_time": "2023-07-22T15:53:13.558Z"
   },
   {
    "duration": 17,
    "start_time": "2023-07-22T15:53:26.886Z"
   },
   {
    "duration": 15,
    "start_time": "2023-07-22T15:54:46.961Z"
   },
   {
    "duration": 18,
    "start_time": "2023-07-22T15:55:02.171Z"
   },
   {
    "duration": 33,
    "start_time": "2023-07-22T15:55:16.393Z"
   },
   {
    "duration": 16,
    "start_time": "2023-07-22T15:55:28.072Z"
   },
   {
    "duration": 15,
    "start_time": "2023-07-22T15:55:36.642Z"
   },
   {
    "duration": 15,
    "start_time": "2023-07-22T15:55:57.396Z"
   },
   {
    "duration": 15,
    "start_time": "2023-07-22T15:56:07.573Z"
   },
   {
    "duration": 15,
    "start_time": "2023-07-22T15:56:30.617Z"
   },
   {
    "duration": 25,
    "start_time": "2023-07-22T15:56:46.598Z"
   },
   {
    "duration": 27,
    "start_time": "2023-07-22T15:56:56.830Z"
   },
   {
    "duration": 16,
    "start_time": "2023-07-22T15:57:08.236Z"
   },
   {
    "duration": 15,
    "start_time": "2023-07-22T15:57:24.321Z"
   },
   {
    "duration": 15,
    "start_time": "2023-07-22T15:57:37.384Z"
   },
   {
    "duration": 11,
    "start_time": "2023-07-22T15:59:10.429Z"
   },
   {
    "duration": 11,
    "start_time": "2023-07-22T15:59:23.735Z"
   },
   {
    "duration": 108,
    "start_time": "2023-07-22T16:07:06.503Z"
   },
   {
    "duration": 2,
    "start_time": "2023-07-22T16:07:10.460Z"
   },
   {
    "duration": 113,
    "start_time": "2023-07-22T18:16:47.134Z"
   },
   {
    "duration": 114,
    "start_time": "2023-07-22T18:17:05.241Z"
   },
   {
    "duration": 120,
    "start_time": "2023-07-22T18:17:14.575Z"
   },
   {
    "duration": 138,
    "start_time": "2023-07-22T18:17:30.353Z"
   },
   {
    "duration": 138,
    "start_time": "2023-07-22T18:17:50.099Z"
   },
   {
    "duration": 122,
    "start_time": "2023-07-22T18:18:18.752Z"
   },
   {
    "duration": 120,
    "start_time": "2023-07-22T18:18:47.461Z"
   },
   {
    "duration": 120,
    "start_time": "2023-07-22T18:20:54.092Z"
   },
   {
    "duration": 137,
    "start_time": "2023-07-22T18:21:33.365Z"
   },
   {
    "duration": 127,
    "start_time": "2023-07-22T18:22:50.393Z"
   },
   {
    "duration": 126,
    "start_time": "2023-07-22T18:23:06.136Z"
   },
   {
    "duration": 121,
    "start_time": "2023-07-22T18:23:21.298Z"
   },
   {
    "duration": 13,
    "start_time": "2023-07-22T18:24:45.926Z"
   },
   {
    "duration": 15,
    "start_time": "2023-07-22T18:25:25.884Z"
   },
   {
    "duration": 51,
    "start_time": "2023-07-22T18:27:38.067Z"
   },
   {
    "duration": 147,
    "start_time": "2023-07-22T18:28:38.163Z"
   },
   {
    "duration": 12,
    "start_time": "2023-07-22T18:29:35.274Z"
   },
   {
    "duration": 6,
    "start_time": "2023-07-22T18:29:48.774Z"
   },
   {
    "duration": 17,
    "start_time": "2023-07-22T18:29:51.774Z"
   },
   {
    "duration": 4,
    "start_time": "2023-07-22T18:30:20.942Z"
   },
   {
    "duration": 155,
    "start_time": "2023-07-22T18:34:08.802Z"
   },
   {
    "duration": 128,
    "start_time": "2023-07-22T18:34:32.480Z"
   },
   {
    "duration": 4,
    "start_time": "2023-07-22T18:34:35.039Z"
   },
   {
    "duration": 17,
    "start_time": "2023-07-22T18:34:35.284Z"
   },
   {
    "duration": 5,
    "start_time": "2023-07-22T18:34:45.923Z"
   },
   {
    "duration": 16,
    "start_time": "2023-07-22T18:34:46.753Z"
   },
   {
    "duration": 6,
    "start_time": "2023-07-22T18:35:06.008Z"
   },
   {
    "duration": 26,
    "start_time": "2023-07-22T18:35:10.318Z"
   },
   {
    "duration": 5,
    "start_time": "2023-07-22T18:35:18.760Z"
   },
   {
    "duration": 19,
    "start_time": "2023-07-22T18:35:21.005Z"
   },
   {
    "duration": 1972,
    "start_time": "2023-07-22T18:48:15.905Z"
   },
   {
    "duration": 30,
    "start_time": "2023-07-22T18:48:37.925Z"
   },
   {
    "duration": 20,
    "start_time": "2023-07-22T18:49:00.394Z"
   },
   {
    "duration": 211,
    "start_time": "2023-07-22T18:49:30.480Z"
   },
   {
    "duration": 105,
    "start_time": "2023-07-22T18:50:44.342Z"
   },
   {
    "duration": 9,
    "start_time": "2023-07-22T18:50:45.190Z"
   },
   {
    "duration": 19,
    "start_time": "2023-07-22T18:52:03.260Z"
   },
   {
    "duration": 115,
    "start_time": "2023-07-22T18:55:13.730Z"
   },
   {
    "duration": 7,
    "start_time": "2023-07-22T18:55:14.412Z"
   },
   {
    "duration": 12,
    "start_time": "2023-07-22T18:55:15.431Z"
   },
   {
    "duration": 5,
    "start_time": "2023-07-22T18:57:36.756Z"
   },
   {
    "duration": 89,
    "start_time": "2023-07-22T19:12:26.010Z"
   },
   {
    "duration": 88,
    "start_time": "2023-07-22T19:15:02.422Z"
   },
   {
    "duration": 146,
    "start_time": "2023-07-22T19:18:56.651Z"
   },
   {
    "duration": 26,
    "start_time": "2023-07-22T19:19:24.225Z"
   },
   {
    "duration": 14,
    "start_time": "2023-07-22T19:33:26.910Z"
   },
   {
    "duration": 10,
    "start_time": "2023-07-22T19:34:54.446Z"
   },
   {
    "duration": 143,
    "start_time": "2023-07-22T19:35:09.252Z"
   },
   {
    "duration": 10,
    "start_time": "2023-07-22T19:35:19.314Z"
   },
   {
    "duration": 1596,
    "start_time": "2023-07-22T20:43:09.344Z"
   },
   {
    "duration": 638,
    "start_time": "2023-07-22T20:43:10.943Z"
   },
   {
    "duration": 20,
    "start_time": "2023-07-22T20:43:11.583Z"
   },
   {
    "duration": 61,
    "start_time": "2023-07-22T20:43:11.606Z"
   },
   {
    "duration": 4,
    "start_time": "2023-07-22T20:43:11.669Z"
   },
   {
    "duration": 301,
    "start_time": "2023-07-22T20:43:11.675Z"
   },
   {
    "duration": 14,
    "start_time": "2023-07-22T20:43:11.979Z"
   },
   {
    "duration": 60,
    "start_time": "2023-07-22T20:43:11.995Z"
   },
   {
    "duration": 28,
    "start_time": "2023-07-22T20:43:12.057Z"
   },
   {
    "duration": 29,
    "start_time": "2023-07-22T20:43:12.089Z"
   },
   {
    "duration": 34,
    "start_time": "2023-07-22T20:43:12.119Z"
   },
   {
    "duration": 14,
    "start_time": "2023-07-22T20:43:12.155Z"
   },
   {
    "duration": 58,
    "start_time": "2023-07-22T20:43:12.172Z"
   },
   {
    "duration": 21,
    "start_time": "2023-07-22T20:43:12.251Z"
   },
   {
    "duration": 131,
    "start_time": "2023-07-22T20:43:12.275Z"
   },
   {
    "duration": 233,
    "start_time": "2023-07-22T20:43:12.408Z"
   },
   {
    "duration": 94,
    "start_time": "2023-07-22T20:43:12.643Z"
   },
   {
    "duration": 372,
    "start_time": "2023-07-22T20:43:12.753Z"
   },
   {
    "duration": 45,
    "start_time": "2023-07-22T20:43:13.126Z"
   },
   {
    "duration": 35,
    "start_time": "2023-07-22T20:43:13.173Z"
   },
   {
    "duration": 53,
    "start_time": "2023-07-22T20:43:13.210Z"
   },
   {
    "duration": 22,
    "start_time": "2023-07-22T20:43:13.265Z"
   },
   {
    "duration": 494,
    "start_time": "2023-07-22T20:43:13.289Z"
   },
   {
    "duration": 5,
    "start_time": "2023-07-22T20:43:13.786Z"
   },
   {
    "duration": 24,
    "start_time": "2023-07-22T20:43:13.793Z"
   },
   {
    "duration": 27,
    "start_time": "2023-07-22T20:43:13.852Z"
   },
   {
    "duration": 83,
    "start_time": "2023-07-22T20:43:13.881Z"
   },
   {
    "duration": 9,
    "start_time": "2023-07-22T20:43:13.967Z"
   },
   {
    "duration": 75,
    "start_time": "2023-07-22T20:43:13.978Z"
   },
   {
    "duration": 327,
    "start_time": "2023-07-22T20:43:14.056Z"
   },
   {
    "duration": 17,
    "start_time": "2023-07-22T20:43:14.385Z"
   },
   {
    "duration": 103,
    "start_time": "2023-07-22T20:43:14.404Z"
   },
   {
    "duration": 57,
    "start_time": "2023-07-22T20:43:14.510Z"
   },
   {
    "duration": 23,
    "start_time": "2023-07-22T20:43:14.570Z"
   },
   {
    "duration": 100,
    "start_time": "2023-07-22T20:43:14.595Z"
   },
   {
    "duration": 36,
    "start_time": "2023-07-22T20:43:14.698Z"
   },
   {
    "duration": 76,
    "start_time": "2023-07-22T20:43:14.736Z"
   },
   {
    "duration": 108,
    "start_time": "2023-07-22T20:43:14.814Z"
   },
   {
    "duration": 210,
    "start_time": "2023-07-22T20:43:14.924Z"
   },
   {
    "duration": 218,
    "start_time": "2023-07-22T20:43:15.137Z"
   },
   {
    "duration": 211,
    "start_time": "2023-07-22T20:43:15.358Z"
   },
   {
    "duration": 5,
    "start_time": "2023-07-22T20:43:15.571Z"
   },
   {
    "duration": 575,
    "start_time": "2023-07-22T20:43:15.578Z"
   },
   {
    "duration": 678,
    "start_time": "2023-07-22T20:43:16.155Z"
   },
   {
    "duration": 38,
    "start_time": "2023-07-22T20:43:16.836Z"
   },
   {
    "duration": 10,
    "start_time": "2023-07-22T20:43:16.875Z"
   },
   {
    "duration": 144,
    "start_time": "2023-07-22T20:43:16.887Z"
   },
   {
    "duration": 0,
    "start_time": "2023-07-22T20:43:17.033Z"
   },
   {
    "duration": 0,
    "start_time": "2023-07-22T20:43:17.036Z"
   },
   {
    "duration": 0,
    "start_time": "2023-07-22T20:43:17.037Z"
   },
   {
    "duration": 0,
    "start_time": "2023-07-22T20:43:17.051Z"
   },
   {
    "duration": 0,
    "start_time": "2023-07-22T20:43:17.053Z"
   },
   {
    "duration": 0,
    "start_time": "2023-07-22T20:43:17.055Z"
   },
   {
    "duration": 0,
    "start_time": "2023-07-22T20:43:17.057Z"
   },
   {
    "duration": 0,
    "start_time": "2023-07-22T20:43:17.059Z"
   },
   {
    "duration": 0,
    "start_time": "2023-07-22T20:43:17.060Z"
   },
   {
    "duration": 0,
    "start_time": "2023-07-22T20:43:17.062Z"
   },
   {
    "duration": 0,
    "start_time": "2023-07-22T20:43:17.064Z"
   },
   {
    "duration": 0,
    "start_time": "2023-07-22T20:43:17.065Z"
   },
   {
    "duration": 0,
    "start_time": "2023-07-22T20:43:17.066Z"
   },
   {
    "duration": 0,
    "start_time": "2023-07-22T20:43:17.068Z"
   },
   {
    "duration": 0,
    "start_time": "2023-07-22T20:43:17.069Z"
   },
   {
    "duration": 0,
    "start_time": "2023-07-22T20:43:17.070Z"
   },
   {
    "duration": 0,
    "start_time": "2023-07-22T20:43:17.072Z"
   },
   {
    "duration": 0,
    "start_time": "2023-07-22T20:43:17.074Z"
   },
   {
    "duration": 1509,
    "start_time": "2023-07-22T20:49:52.646Z"
   },
   {
    "duration": 186,
    "start_time": "2023-07-22T20:49:54.157Z"
   },
   {
    "duration": 29,
    "start_time": "2023-07-22T20:49:54.345Z"
   },
   {
    "duration": 62,
    "start_time": "2023-07-22T20:49:54.376Z"
   },
   {
    "duration": 4,
    "start_time": "2023-07-22T20:49:54.454Z"
   },
   {
    "duration": 390,
    "start_time": "2023-07-22T20:49:54.461Z"
   },
   {
    "duration": 15,
    "start_time": "2023-07-22T20:49:54.853Z"
   },
   {
    "duration": 58,
    "start_time": "2023-07-22T20:49:54.871Z"
   },
   {
    "duration": 42,
    "start_time": "2023-07-22T20:49:54.932Z"
   },
   {
    "duration": 27,
    "start_time": "2023-07-22T20:49:54.977Z"
   },
   {
    "duration": 23,
    "start_time": "2023-07-22T20:49:55.006Z"
   },
   {
    "duration": 30,
    "start_time": "2023-07-22T20:49:55.032Z"
   },
   {
    "duration": 109,
    "start_time": "2023-07-22T20:49:55.065Z"
   },
   {
    "duration": 38,
    "start_time": "2023-07-22T20:49:55.180Z"
   },
   {
    "duration": 146,
    "start_time": "2023-07-22T20:49:55.221Z"
   },
   {
    "duration": 323,
    "start_time": "2023-07-22T20:49:55.370Z"
   },
   {
    "duration": 127,
    "start_time": "2023-07-22T20:49:55.696Z"
   },
   {
    "duration": 439,
    "start_time": "2023-07-22T20:49:55.825Z"
   },
   {
    "duration": 35,
    "start_time": "2023-07-22T20:49:56.266Z"
   },
   {
    "duration": 55,
    "start_time": "2023-07-22T20:49:56.303Z"
   },
   {
    "duration": 23,
    "start_time": "2023-07-22T20:49:56.360Z"
   },
   {
    "duration": 26,
    "start_time": "2023-07-22T20:49:56.385Z"
   },
   {
    "duration": 436,
    "start_time": "2023-07-22T20:49:56.413Z"
   },
   {
    "duration": 5,
    "start_time": "2023-07-22T20:49:56.852Z"
   },
   {
    "duration": 22,
    "start_time": "2023-07-22T20:49:56.860Z"
   },
   {
    "duration": 72,
    "start_time": "2023-07-22T20:49:56.884Z"
   },
   {
    "duration": 32,
    "start_time": "2023-07-22T20:49:56.958Z"
   },
   {
    "duration": 65,
    "start_time": "2023-07-22T20:49:56.992Z"
   },
   {
    "duration": 79,
    "start_time": "2023-07-22T20:49:57.059Z"
   },
   {
    "duration": 312,
    "start_time": "2023-07-22T20:49:57.140Z"
   },
   {
    "duration": 16,
    "start_time": "2023-07-22T20:49:57.455Z"
   },
   {
    "duration": 179,
    "start_time": "2023-07-22T20:49:57.472Z"
   },
   {
    "duration": 58,
    "start_time": "2023-07-22T20:49:57.653Z"
   },
   {
    "duration": 40,
    "start_time": "2023-07-22T20:49:57.716Z"
   },
   {
    "duration": 56,
    "start_time": "2023-07-22T20:49:57.758Z"
   },
   {
    "duration": 47,
    "start_time": "2023-07-22T20:49:57.816Z"
   },
   {
    "duration": 97,
    "start_time": "2023-07-22T20:49:57.864Z"
   },
   {
    "duration": 115,
    "start_time": "2023-07-22T20:49:57.963Z"
   },
   {
    "duration": 275,
    "start_time": "2023-07-22T20:49:58.081Z"
   },
   {
    "duration": 257,
    "start_time": "2023-07-22T20:49:58.358Z"
   },
   {
    "duration": 194,
    "start_time": "2023-07-22T20:49:58.622Z"
   },
   {
    "duration": 6,
    "start_time": "2023-07-22T20:49:58.818Z"
   },
   {
    "duration": 526,
    "start_time": "2023-07-22T20:49:58.826Z"
   },
   {
    "duration": 657,
    "start_time": "2023-07-22T20:49:59.354Z"
   },
   {
    "duration": 27,
    "start_time": "2023-07-22T20:50:00.013Z"
   },
   {
    "duration": 21,
    "start_time": "2023-07-22T20:50:00.053Z"
   },
   {
    "duration": 177,
    "start_time": "2023-07-22T20:50:00.076Z"
   },
   {
    "duration": 0,
    "start_time": "2023-07-22T20:50:00.255Z"
   },
   {
    "duration": 0,
    "start_time": "2023-07-22T20:50:00.256Z"
   },
   {
    "duration": 0,
    "start_time": "2023-07-22T20:50:00.257Z"
   },
   {
    "duration": 0,
    "start_time": "2023-07-22T20:50:00.259Z"
   },
   {
    "duration": 0,
    "start_time": "2023-07-22T20:50:00.260Z"
   },
   {
    "duration": 0,
    "start_time": "2023-07-22T20:50:00.261Z"
   },
   {
    "duration": 0,
    "start_time": "2023-07-22T20:50:00.263Z"
   },
   {
    "duration": 0,
    "start_time": "2023-07-22T20:50:00.264Z"
   },
   {
    "duration": 0,
    "start_time": "2023-07-22T20:50:00.265Z"
   },
   {
    "duration": 1,
    "start_time": "2023-07-22T20:50:00.266Z"
   },
   {
    "duration": 0,
    "start_time": "2023-07-22T20:50:00.267Z"
   },
   {
    "duration": 0,
    "start_time": "2023-07-22T20:50:00.269Z"
   },
   {
    "duration": 0,
    "start_time": "2023-07-22T20:50:00.270Z"
   },
   {
    "duration": 0,
    "start_time": "2023-07-22T20:50:00.271Z"
   },
   {
    "duration": 0,
    "start_time": "2023-07-22T20:50:00.272Z"
   },
   {
    "duration": 0,
    "start_time": "2023-07-22T20:50:00.273Z"
   },
   {
    "duration": 0,
    "start_time": "2023-07-22T20:50:00.275Z"
   },
   {
    "duration": 0,
    "start_time": "2023-07-22T20:50:00.276Z"
   },
   {
    "duration": 51,
    "start_time": "2023-07-23T13:16:44.310Z"
   },
   {
    "duration": 1303,
    "start_time": "2023-07-23T13:16:52.229Z"
   },
   {
    "duration": 477,
    "start_time": "2023-07-23T13:16:53.534Z"
   },
   {
    "duration": 19,
    "start_time": "2023-07-23T13:16:54.012Z"
   },
   {
    "duration": 38,
    "start_time": "2023-07-23T13:16:54.032Z"
   },
   {
    "duration": 3,
    "start_time": "2023-07-23T13:16:54.072Z"
   },
   {
    "duration": 181,
    "start_time": "2023-07-23T13:16:54.077Z"
   },
   {
    "duration": 8,
    "start_time": "2023-07-23T13:16:54.261Z"
   },
   {
    "duration": 27,
    "start_time": "2023-07-23T13:16:54.283Z"
   },
   {
    "duration": 18,
    "start_time": "2023-07-23T13:16:54.730Z"
   },
   {
    "duration": 19,
    "start_time": "2023-07-23T13:16:54.905Z"
   },
   {
    "duration": 9,
    "start_time": "2023-07-23T13:16:55.327Z"
   },
   {
    "duration": 9,
    "start_time": "2023-07-23T13:16:55.766Z"
   },
   {
    "duration": 50,
    "start_time": "2023-07-23T13:16:56.409Z"
   },
   {
    "duration": 19,
    "start_time": "2023-07-23T13:16:56.632Z"
   },
   {
    "duration": 76,
    "start_time": "2023-07-23T13:16:57.043Z"
   },
   {
    "duration": 165,
    "start_time": "2023-07-23T13:16:57.648Z"
   },
   {
    "duration": 63,
    "start_time": "2023-07-23T13:16:58.005Z"
   },
   {
    "duration": 253,
    "start_time": "2023-07-23T13:16:58.427Z"
   },
   {
    "duration": 33,
    "start_time": "2023-07-23T13:16:58.693Z"
   },
   {
    "duration": 32,
    "start_time": "2023-07-23T13:16:59.064Z"
   },
   {
    "duration": 33,
    "start_time": "2023-07-23T13:17:00.413Z"
   },
   {
    "duration": 32,
    "start_time": "2023-07-23T13:17:00.641Z"
   },
   {
    "duration": 205,
    "start_time": "2023-07-23T13:17:01.157Z"
   },
   {
    "duration": 5,
    "start_time": "2023-07-23T13:17:01.697Z"
   },
   {
    "duration": 4,
    "start_time": "2023-07-23T13:17:01.926Z"
   },
   {
    "duration": 18,
    "start_time": "2023-07-23T13:17:02.396Z"
   },
   {
    "duration": 25,
    "start_time": "2023-07-23T13:17:02.854Z"
   },
   {
    "duration": 6,
    "start_time": "2023-07-23T13:17:03.398Z"
   },
   {
    "duration": 36,
    "start_time": "2023-07-23T13:17:03.927Z"
   },
   {
    "duration": 248,
    "start_time": "2023-07-23T13:17:04.402Z"
   },
   {
    "duration": 9,
    "start_time": "2023-07-23T13:17:05.210Z"
   },
   {
    "duration": 50,
    "start_time": "2023-07-23T13:17:05.727Z"
   },
   {
    "duration": 30,
    "start_time": "2023-07-23T13:17:06.332Z"
   },
   {
    "duration": 14,
    "start_time": "2023-07-23T13:17:07.132Z"
   },
   {
    "duration": 43,
    "start_time": "2023-07-23T13:17:08.323Z"
   },
   {
    "duration": 19,
    "start_time": "2023-07-23T13:17:10.747Z"
   },
   {
    "duration": 37,
    "start_time": "2023-07-23T13:17:11.431Z"
   },
   {
    "duration": 57,
    "start_time": "2023-07-23T13:17:13.330Z"
   },
   {
    "duration": 138,
    "start_time": "2023-07-23T13:17:14.527Z"
   },
   {
    "duration": 135,
    "start_time": "2023-07-23T13:17:15.202Z"
   },
   {
    "duration": 167,
    "start_time": "2023-07-23T13:17:16.250Z"
   },
   {
    "duration": 5,
    "start_time": "2023-07-23T13:17:16.789Z"
   },
   {
    "duration": 416,
    "start_time": "2023-07-23T13:17:17.425Z"
   },
   {
    "duration": 471,
    "start_time": "2023-07-23T13:17:19.552Z"
   },
   {
    "duration": 14,
    "start_time": "2023-07-23T13:17:31.729Z"
   },
   {
    "duration": 120,
    "start_time": "2023-07-23T13:17:57.698Z"
   },
   {
    "duration": 101,
    "start_time": "2023-07-23T13:20:40.558Z"
   },
   {
    "duration": 84,
    "start_time": "2023-07-23T13:20:54.928Z"
   },
   {
    "duration": 15,
    "start_time": "2023-07-23T13:21:19.932Z"
   },
   {
    "duration": 16,
    "start_time": "2023-07-23T13:21:30.690Z"
   },
   {
    "duration": 21,
    "start_time": "2023-07-23T13:22:31.939Z"
   },
   {
    "duration": 9,
    "start_time": "2023-07-23T13:26:06.654Z"
   },
   {
    "duration": 7,
    "start_time": "2023-07-23T13:30:01.503Z"
   },
   {
    "duration": 10,
    "start_time": "2023-07-23T13:30:03.505Z"
   },
   {
    "duration": 15,
    "start_time": "2023-07-23T13:30:30.184Z"
   },
   {
    "duration": 12,
    "start_time": "2023-07-23T13:31:29.978Z"
   },
   {
    "duration": 2,
    "start_time": "2023-07-23T13:31:30.164Z"
   },
   {
    "duration": 12,
    "start_time": "2023-07-23T13:31:32.013Z"
   },
   {
    "duration": 86,
    "start_time": "2023-07-23T13:31:45.008Z"
   },
   {
    "duration": 4,
    "start_time": "2023-07-23T13:31:45.162Z"
   },
   {
    "duration": 11,
    "start_time": "2023-07-23T13:31:45.412Z"
   },
   {
    "duration": 16,
    "start_time": "2023-07-23T13:32:35.096Z"
   },
   {
    "duration": 27,
    "start_time": "2023-07-23T13:34:11.425Z"
   },
   {
    "duration": 9,
    "start_time": "2023-07-23T13:35:42.199Z"
   },
   {
    "duration": 14,
    "start_time": "2023-07-23T13:38:13.003Z"
   },
   {
    "duration": 89,
    "start_time": "2023-07-23T13:39:50.635Z"
   },
   {
    "duration": 198,
    "start_time": "2023-07-23T13:40:04.324Z"
   },
   {
    "duration": 109,
    "start_time": "2023-07-23T13:40:10.341Z"
   },
   {
    "duration": 10,
    "start_time": "2023-07-23T13:41:17.750Z"
   },
   {
    "duration": 12,
    "start_time": "2023-07-23T13:42:14.108Z"
   },
   {
    "duration": 12,
    "start_time": "2023-07-23T13:42:43.009Z"
   },
   {
    "duration": 21,
    "start_time": "2023-07-23T13:42:52.162Z"
   },
   {
    "duration": 16,
    "start_time": "2023-07-23T13:42:59.598Z"
   },
   {
    "duration": 98,
    "start_time": "2023-07-23T13:43:00.495Z"
   },
   {
    "duration": 4,
    "start_time": "2023-07-23T13:43:01.140Z"
   },
   {
    "duration": 9,
    "start_time": "2023-07-23T13:43:02.035Z"
   },
   {
    "duration": 87,
    "start_time": "2023-07-23T13:43:13.442Z"
   },
   {
    "duration": 6,
    "start_time": "2023-07-23T13:43:13.846Z"
   },
   {
    "duration": 8,
    "start_time": "2023-07-23T13:43:14.540Z"
   },
   {
    "duration": 9,
    "start_time": "2023-07-23T13:43:45.392Z"
   },
   {
    "duration": 10,
    "start_time": "2023-07-23T13:49:16.713Z"
   },
   {
    "duration": 79,
    "start_time": "2023-07-23T13:49:17.396Z"
   },
   {
    "duration": 6,
    "start_time": "2023-07-23T13:49:18.038Z"
   },
   {
    "duration": 9,
    "start_time": "2023-07-23T13:49:18.723Z"
   },
   {
    "duration": 50,
    "start_time": "2023-07-23T13:49:20.096Z"
   },
   {
    "duration": 4,
    "start_time": "2023-07-23T13:49:20.631Z"
   },
   {
    "duration": 45,
    "start_time": "2023-07-23T13:49:30.551Z"
   },
   {
    "duration": 42,
    "start_time": "2023-07-23T13:49:31.638Z"
   },
   {
    "duration": 106,
    "start_time": "2023-07-23T13:49:32.609Z"
   },
   {
    "duration": 23,
    "start_time": "2023-07-23T13:49:33.059Z"
   },
   {
    "duration": 11,
    "start_time": "2023-07-23T13:49:34.777Z"
   },
   {
    "duration": 7,
    "start_time": "2023-07-23T13:49:37.212Z"
   },
   {
    "duration": 7,
    "start_time": "2023-07-23T13:49:38.351Z"
   },
   {
    "duration": 1478,
    "start_time": "2023-07-23T15:39:53.808Z"
   },
   {
    "duration": 1116,
    "start_time": "2023-07-23T15:39:55.288Z"
   },
   {
    "duration": 27,
    "start_time": "2023-07-23T15:39:56.406Z"
   },
   {
    "duration": 50,
    "start_time": "2023-07-23T15:39:56.436Z"
   },
   {
    "duration": 3,
    "start_time": "2023-07-23T15:39:56.488Z"
   },
   {
    "duration": 260,
    "start_time": "2023-07-23T15:39:56.492Z"
   },
   {
    "duration": 11,
    "start_time": "2023-07-23T15:39:56.753Z"
   },
   {
    "duration": 71,
    "start_time": "2023-07-23T15:39:56.766Z"
   },
   {
    "duration": 19,
    "start_time": "2023-07-23T15:39:56.839Z"
   },
   {
    "duration": 34,
    "start_time": "2023-07-23T15:39:56.862Z"
   },
   {
    "duration": 18,
    "start_time": "2023-07-23T15:39:56.898Z"
   },
   {
    "duration": 13,
    "start_time": "2023-07-23T15:39:56.925Z"
   },
   {
    "duration": 64,
    "start_time": "2023-07-23T15:39:56.940Z"
   },
   {
    "duration": 33,
    "start_time": "2023-07-23T15:39:57.006Z"
   },
   {
    "duration": 98,
    "start_time": "2023-07-23T15:39:57.041Z"
   },
   {
    "duration": 242,
    "start_time": "2023-07-23T15:39:57.141Z"
   },
   {
    "duration": 93,
    "start_time": "2023-07-23T15:39:57.385Z"
   },
   {
    "duration": 370,
    "start_time": "2023-07-23T15:39:57.480Z"
   },
   {
    "duration": 32,
    "start_time": "2023-07-23T15:39:57.852Z"
   },
   {
    "duration": 53,
    "start_time": "2023-07-23T15:39:57.886Z"
   },
   {
    "duration": 33,
    "start_time": "2023-07-23T15:39:57.941Z"
   },
   {
    "duration": 50,
    "start_time": "2023-07-23T15:39:57.976Z"
   },
   {
    "duration": 338,
    "start_time": "2023-07-23T15:39:58.036Z"
   },
   {
    "duration": 5,
    "start_time": "2023-07-23T15:39:58.375Z"
   },
   {
    "duration": 52,
    "start_time": "2023-07-23T15:39:58.381Z"
   },
   {
    "duration": 36,
    "start_time": "2023-07-23T15:39:58.435Z"
   },
   {
    "duration": 73,
    "start_time": "2023-07-23T15:39:58.473Z"
   },
   {
    "duration": 9,
    "start_time": "2023-07-23T15:39:58.551Z"
   },
   {
    "duration": 102,
    "start_time": "2023-07-23T15:39:58.562Z"
   },
   {
    "duration": 322,
    "start_time": "2023-07-23T15:39:58.666Z"
   },
   {
    "duration": 27,
    "start_time": "2023-07-23T15:39:58.990Z"
   },
   {
    "duration": 68,
    "start_time": "2023-07-23T15:39:59.019Z"
   },
   {
    "duration": 50,
    "start_time": "2023-07-23T15:39:59.089Z"
   },
   {
    "duration": 17,
    "start_time": "2023-07-23T15:39:59.141Z"
   },
   {
    "duration": 74,
    "start_time": "2023-07-23T15:39:59.160Z"
   },
   {
    "duration": 23,
    "start_time": "2023-07-23T15:39:59.236Z"
   },
   {
    "duration": 63,
    "start_time": "2023-07-23T15:39:59.260Z"
   },
   {
    "duration": 68,
    "start_time": "2023-07-23T15:39:59.326Z"
   },
   {
    "duration": 212,
    "start_time": "2023-07-23T15:39:59.396Z"
   },
   {
    "duration": 250,
    "start_time": "2023-07-23T15:39:59.611Z"
   },
   {
    "duration": 211,
    "start_time": "2023-07-23T15:39:59.864Z"
   },
   {
    "duration": 10,
    "start_time": "2023-07-23T15:40:00.077Z"
   },
   {
    "duration": 522,
    "start_time": "2023-07-23T15:40:00.089Z"
   },
   {
    "duration": 637,
    "start_time": "2023-07-23T15:40:00.615Z"
   },
   {
    "duration": 22,
    "start_time": "2023-07-23T15:40:01.254Z"
   },
   {
    "duration": 16,
    "start_time": "2023-07-23T15:40:01.279Z"
   },
   {
    "duration": 75,
    "start_time": "2023-07-23T15:40:01.297Z"
   },
   {
    "duration": 22,
    "start_time": "2023-07-23T15:40:01.374Z"
   },
   {
    "duration": 19,
    "start_time": "2023-07-23T15:40:01.398Z"
   },
   {
    "duration": 58,
    "start_time": "2023-07-23T15:40:01.419Z"
   },
   {
    "duration": 151,
    "start_time": "2023-07-23T15:40:01.479Z"
   },
   {
    "duration": 9,
    "start_time": "2023-07-23T15:40:01.633Z"
   },
   {
    "duration": 49,
    "start_time": "2023-07-23T15:40:01.645Z"
   },
   {
    "duration": 143,
    "start_time": "2023-07-23T15:40:01.697Z"
   },
   {
    "duration": 10,
    "start_time": "2023-07-23T15:40:01.843Z"
   },
   {
    "duration": 42,
    "start_time": "2023-07-23T15:40:01.856Z"
   },
   {
    "duration": 239,
    "start_time": "2023-07-23T15:40:01.900Z"
   },
   {
    "duration": 14,
    "start_time": "2023-07-23T15:40:02.141Z"
   },
   {
    "duration": 87,
    "start_time": "2023-07-23T15:40:02.158Z"
   },
   {
    "duration": 50,
    "start_time": "2023-07-23T15:40:02.247Z"
   },
   {
    "duration": 278,
    "start_time": "2023-07-23T15:40:02.317Z"
   },
   {
    "duration": 39,
    "start_time": "2023-07-23T15:40:02.597Z"
   },
   {
    "duration": 155,
    "start_time": "2023-07-23T15:40:02.637Z"
   },
   {
    "duration": 50,
    "start_time": "2023-07-23T15:40:02.794Z"
   },
   {
    "duration": 46,
    "start_time": "2023-07-23T15:40:02.846Z"
   },
   {
    "duration": 13,
    "start_time": "2023-07-23T15:42:27.873Z"
   },
   {
    "duration": 16,
    "start_time": "2023-07-23T15:42:56.652Z"
   },
   {
    "duration": 56,
    "start_time": "2023-07-23T17:55:36.239Z"
   },
   {
    "duration": 1474,
    "start_time": "2023-07-23T17:55:47.532Z"
   },
   {
    "duration": 513,
    "start_time": "2023-07-23T17:55:49.008Z"
   },
   {
    "duration": 20,
    "start_time": "2023-07-23T17:55:49.523Z"
   },
   {
    "duration": 46,
    "start_time": "2023-07-23T17:55:49.545Z"
   },
   {
    "duration": 9,
    "start_time": "2023-07-23T17:55:49.593Z"
   },
   {
    "duration": 193,
    "start_time": "2023-07-23T17:55:49.604Z"
   },
   {
    "duration": 10,
    "start_time": "2023-07-23T17:55:49.802Z"
   },
   {
    "duration": 29,
    "start_time": "2023-07-23T17:55:49.813Z"
   },
   {
    "duration": 19,
    "start_time": "2023-07-23T17:55:49.845Z"
   },
   {
    "duration": 40,
    "start_time": "2023-07-23T17:55:49.866Z"
   },
   {
    "duration": 10,
    "start_time": "2023-07-23T17:55:50.167Z"
   },
   {
    "duration": 11,
    "start_time": "2023-07-23T17:55:50.490Z"
   },
   {
    "duration": 54,
    "start_time": "2023-07-23T17:55:51.004Z"
   },
   {
    "duration": 21,
    "start_time": "2023-07-23T17:55:51.196Z"
   },
   {
    "duration": 84,
    "start_time": "2023-07-23T17:55:51.588Z"
   },
   {
    "duration": 195,
    "start_time": "2023-07-23T17:55:52.143Z"
   },
   {
    "duration": 79,
    "start_time": "2023-07-23T17:55:52.343Z"
   },
   {
    "duration": 341,
    "start_time": "2023-07-23T17:55:52.747Z"
   },
   {
    "duration": 37,
    "start_time": "2023-07-23T17:55:53.090Z"
   },
   {
    "duration": 33,
    "start_time": "2023-07-23T17:55:53.449Z"
   },
   {
    "duration": 23,
    "start_time": "2023-07-23T17:55:56.287Z"
   },
   {
    "duration": 21,
    "start_time": "2023-07-23T17:55:56.653Z"
   },
   {
    "duration": 231,
    "start_time": "2023-07-23T17:55:57.587Z"
   },
   {
    "duration": 5,
    "start_time": "2023-07-23T17:55:58.872Z"
   },
   {
    "duration": 5,
    "start_time": "2023-07-23T17:55:59.654Z"
   },
   {
    "duration": 17,
    "start_time": "2023-07-23T17:56:00.730Z"
   },
   {
    "duration": 28,
    "start_time": "2023-07-23T17:56:01.291Z"
   },
   {
    "duration": 7,
    "start_time": "2023-07-23T17:56:02.928Z"
   },
   {
    "duration": 49,
    "start_time": "2023-07-23T17:56:03.755Z"
   },
   {
    "duration": 308,
    "start_time": "2023-07-23T17:56:04.661Z"
   },
   {
    "duration": 11,
    "start_time": "2023-07-23T17:56:05.452Z"
   },
   {
    "duration": 67,
    "start_time": "2023-07-23T17:56:06.205Z"
   },
   {
    "duration": 32,
    "start_time": "2023-07-23T17:56:06.533Z"
   },
   {
    "duration": 14,
    "start_time": "2023-07-23T17:56:06.892Z"
   },
   {
    "duration": 48,
    "start_time": "2023-07-23T17:56:07.373Z"
   },
   {
    "duration": 21,
    "start_time": "2023-07-23T17:56:09.306Z"
   },
   {
    "duration": 50,
    "start_time": "2023-07-23T17:56:09.690Z"
   },
   {
    "duration": 98,
    "start_time": "2023-07-23T17:56:10.353Z"
   },
   {
    "duration": 171,
    "start_time": "2023-07-23T17:56:10.966Z"
   },
   {
    "duration": 154,
    "start_time": "2023-07-23T17:56:11.318Z"
   },
   {
    "duration": 150,
    "start_time": "2023-07-23T17:56:11.770Z"
   },
   {
    "duration": 5,
    "start_time": "2023-07-23T17:56:11.971Z"
   },
   {
    "duration": 514,
    "start_time": "2023-07-23T17:56:12.224Z"
   },
   {
    "duration": 758,
    "start_time": "2023-07-23T17:56:13.204Z"
   },
   {
    "duration": 51,
    "start_time": "2023-07-23T17:56:16.755Z"
   },
   {
    "duration": 19,
    "start_time": "2023-07-23T17:56:19.092Z"
   },
   {
    "duration": 8,
    "start_time": "2023-07-23T17:56:19.424Z"
   },
   {
    "duration": 24,
    "start_time": "2023-07-23T17:56:19.733Z"
   },
   {
    "duration": 22,
    "start_time": "2023-07-23T17:56:20.386Z"
   },
   {
    "duration": 2,
    "start_time": "2023-07-23T17:56:20.548Z"
   },
   {
    "duration": 17,
    "start_time": "2023-07-23T17:56:20.857Z"
   },
   {
    "duration": 104,
    "start_time": "2023-07-23T17:56:21.350Z"
   },
   {
    "duration": 5,
    "start_time": "2023-07-23T17:56:21.506Z"
   },
   {
    "duration": 11,
    "start_time": "2023-07-23T17:56:21.652Z"
   },
   {
    "duration": 118,
    "start_time": "2023-07-23T17:56:22.166Z"
   },
   {
    "duration": 7,
    "start_time": "2023-07-23T17:56:22.328Z"
   },
   {
    "duration": 10,
    "start_time": "2023-07-23T17:56:22.513Z"
   },
   {
    "duration": 38,
    "start_time": "2023-07-23T17:56:22.814Z"
   },
   {
    "duration": 4,
    "start_time": "2023-07-23T17:56:22.989Z"
   },
   {
    "duration": 46,
    "start_time": "2023-07-23T17:56:24.557Z"
   },
   {
    "duration": 41,
    "start_time": "2023-07-23T17:56:24.923Z"
   },
   {
    "duration": 120,
    "start_time": "2023-07-23T17:56:25.290Z"
   },
   {
    "duration": 19,
    "start_time": "2023-07-23T17:56:25.463Z"
   },
   {
    "duration": 11,
    "start_time": "2023-07-23T17:56:26.211Z"
   },
   {
    "duration": 10,
    "start_time": "2023-07-23T17:56:26.794Z"
   },
   {
    "duration": 9,
    "start_time": "2023-07-23T17:56:27.196Z"
   },
   {
    "duration": 16,
    "start_time": "2023-07-23T17:57:09.504Z"
   },
   {
    "duration": 74,
    "start_time": "2023-07-23T17:57:15.358Z"
   },
   {
    "duration": 11,
    "start_time": "2023-07-23T17:57:21.636Z"
   },
   {
    "duration": 4,
    "start_time": "2023-07-23T17:57:30.965Z"
   },
   {
    "duration": 11,
    "start_time": "2023-07-23T17:57:32.397Z"
   },
   {
    "duration": 86,
    "start_time": "2023-07-23T17:57:42.523Z"
   },
   {
    "duration": 81,
    "start_time": "2023-07-23T17:57:47.460Z"
   },
   {
    "duration": 4,
    "start_time": "2023-07-23T17:57:54.417Z"
   },
   {
    "duration": 11,
    "start_time": "2023-07-23T17:57:56.326Z"
   },
   {
    "duration": 10,
    "start_time": "2023-07-23T17:58:05.437Z"
   },
   {
    "duration": 27,
    "start_time": "2023-07-23T17:58:49.596Z"
   },
   {
    "duration": 9,
    "start_time": "2023-07-23T18:06:26.623Z"
   },
   {
    "duration": 19,
    "start_time": "2023-07-23T18:07:29.955Z"
   },
   {
    "duration": 9,
    "start_time": "2023-07-23T18:08:18.988Z"
   },
   {
    "duration": 13,
    "start_time": "2023-07-23T18:08:45.101Z"
   },
   {
    "duration": 9,
    "start_time": "2023-07-23T18:09:58.306Z"
   },
   {
    "duration": 19,
    "start_time": "2023-07-23T18:10:14.743Z"
   },
   {
    "duration": 16,
    "start_time": "2023-07-23T18:10:19.052Z"
   },
   {
    "duration": 14,
    "start_time": "2023-07-23T18:10:21.151Z"
   },
   {
    "duration": 16,
    "start_time": "2023-07-23T18:10:39.852Z"
   },
   {
    "duration": 12,
    "start_time": "2023-07-23T18:10:42.905Z"
   },
   {
    "duration": 3,
    "start_time": "2023-07-23T18:11:10.031Z"
   },
   {
    "duration": 140,
    "start_time": "2023-07-23T18:11:10.188Z"
   },
   {
    "duration": 17,
    "start_time": "2023-07-23T18:11:10.339Z"
   },
   {
    "duration": 34,
    "start_time": "2023-07-23T18:11:10.485Z"
   },
   {
    "duration": 3,
    "start_time": "2023-07-23T18:11:11.250Z"
   },
   {
    "duration": 191,
    "start_time": "2023-07-23T18:11:11.413Z"
   },
   {
    "duration": 10,
    "start_time": "2023-07-23T18:11:11.606Z"
   },
   {
    "duration": 28,
    "start_time": "2023-07-23T18:11:11.736Z"
   },
   {
    "duration": 20,
    "start_time": "2023-07-23T18:11:12.059Z"
   },
   {
    "duration": 22,
    "start_time": "2023-07-23T18:11:12.222Z"
   },
   {
    "duration": 11,
    "start_time": "2023-07-23T18:11:12.551Z"
   },
   {
    "duration": 12,
    "start_time": "2023-07-23T18:11:12.890Z"
   },
   {
    "duration": 53,
    "start_time": "2023-07-23T18:11:13.406Z"
   },
   {
    "duration": 20,
    "start_time": "2023-07-23T18:11:13.590Z"
   },
   {
    "duration": 110,
    "start_time": "2023-07-23T18:11:13.944Z"
   },
   {
    "duration": 215,
    "start_time": "2023-07-23T18:11:14.510Z"
   },
   {
    "duration": 79,
    "start_time": "2023-07-23T18:11:14.727Z"
   },
   {
    "duration": 292,
    "start_time": "2023-07-23T18:11:15.060Z"
   },
   {
    "duration": 32,
    "start_time": "2023-07-23T18:11:15.354Z"
   },
   {
    "duration": 32,
    "start_time": "2023-07-23T18:11:15.745Z"
   },
   {
    "duration": 21,
    "start_time": "2023-07-23T18:11:17.222Z"
   },
   {
    "duration": 21,
    "start_time": "2023-07-23T18:11:17.427Z"
   },
   {
    "duration": 20,
    "start_time": "2023-07-23T18:11:17.871Z"
   },
   {
    "duration": 5,
    "start_time": "2023-07-23T18:11:19.132Z"
   },
   {
    "duration": 5,
    "start_time": "2023-07-23T18:11:19.538Z"
   },
   {
    "duration": 16,
    "start_time": "2023-07-23T18:11:20.310Z"
   },
   {
    "duration": 26,
    "start_time": "2023-07-23T18:11:20.722Z"
   },
   {
    "duration": 6,
    "start_time": "2023-07-23T18:11:22.187Z"
   },
   {
    "duration": 41,
    "start_time": "2023-07-23T18:11:22.910Z"
   },
   {
    "duration": 200,
    "start_time": "2023-07-23T18:11:23.699Z"
   },
   {
    "duration": 11,
    "start_time": "2023-07-23T18:11:24.502Z"
   },
   {
    "duration": 49,
    "start_time": "2023-07-23T18:11:25.198Z"
   },
   {
    "duration": 31,
    "start_time": "2023-07-23T18:11:25.788Z"
   },
   {
    "duration": 16,
    "start_time": "2023-07-23T18:11:26.133Z"
   },
   {
    "duration": 47,
    "start_time": "2023-07-23T18:11:26.702Z"
   },
   {
    "duration": 21,
    "start_time": "2023-07-23T18:11:28.502Z"
   },
   {
    "duration": 36,
    "start_time": "2023-07-23T18:11:28.834Z"
   },
   {
    "duration": 63,
    "start_time": "2023-07-23T18:11:29.531Z"
   },
   {
    "duration": 158,
    "start_time": "2023-07-23T18:11:29.921Z"
   },
   {
    "duration": 161,
    "start_time": "2023-07-23T18:11:30.737Z"
   },
   {
    "duration": 157,
    "start_time": "2023-07-23T18:11:33.788Z"
   },
   {
    "duration": 5,
    "start_time": "2023-07-23T18:11:34.899Z"
   },
   {
    "duration": 439,
    "start_time": "2023-07-23T18:11:35.500Z"
   },
   {
    "duration": 470,
    "start_time": "2023-07-23T18:11:39.205Z"
   },
   {
    "duration": 12,
    "start_time": "2023-07-23T18:11:46.290Z"
   },
   {
    "duration": 12,
    "start_time": "2023-07-23T18:12:15.649Z"
   },
   {
    "duration": 10,
    "start_time": "2023-07-23T18:12:32.029Z"
   },
   {
    "duration": 24,
    "start_time": "2023-07-23T18:12:39.243Z"
   },
   {
    "duration": 22,
    "start_time": "2023-07-23T18:12:48.089Z"
   },
   {
    "duration": 1932,
    "start_time": "2023-07-23T18:12:51.165Z"
   },
   {
    "duration": 4,
    "start_time": "2023-07-23T18:16:39.343Z"
   },
   {
    "duration": 147,
    "start_time": "2023-07-23T18:16:39.467Z"
   },
   {
    "duration": 19,
    "start_time": "2023-07-23T18:16:39.616Z"
   },
   {
    "duration": 33,
    "start_time": "2023-07-23T18:16:39.762Z"
   },
   {
    "duration": 4,
    "start_time": "2023-07-23T18:16:40.519Z"
   },
   {
    "duration": 179,
    "start_time": "2023-07-23T18:16:40.659Z"
   },
   {
    "duration": 11,
    "start_time": "2023-07-23T18:16:40.840Z"
   },
   {
    "duration": 27,
    "start_time": "2023-07-23T18:16:40.997Z"
   },
   {
    "duration": 19,
    "start_time": "2023-07-23T18:16:41.343Z"
   },
   {
    "duration": 23,
    "start_time": "2023-07-23T18:16:41.496Z"
   },
   {
    "duration": 12,
    "start_time": "2023-07-23T18:16:41.814Z"
   },
   {
    "duration": 12,
    "start_time": "2023-07-23T18:16:42.143Z"
   },
   {
    "duration": 53,
    "start_time": "2023-07-23T18:16:42.645Z"
   },
   {
    "duration": 22,
    "start_time": "2023-07-23T18:16:42.790Z"
   },
   {
    "duration": 81,
    "start_time": "2023-07-23T18:16:43.151Z"
   },
   {
    "duration": 189,
    "start_time": "2023-07-23T18:16:43.645Z"
   },
   {
    "duration": 80,
    "start_time": "2023-07-23T18:16:43.836Z"
   },
   {
    "duration": 258,
    "start_time": "2023-07-23T18:16:44.193Z"
   },
   {
    "duration": 32,
    "start_time": "2023-07-23T18:16:44.453Z"
   },
   {
    "duration": 30,
    "start_time": "2023-07-23T18:16:44.751Z"
   },
   {
    "duration": 20,
    "start_time": "2023-07-23T18:16:45.907Z"
   },
   {
    "duration": 21,
    "start_time": "2023-07-23T18:16:46.113Z"
   },
   {
    "duration": 21,
    "start_time": "2023-07-23T18:16:46.710Z"
   },
   {
    "duration": 5,
    "start_time": "2023-07-23T18:16:47.247Z"
   },
   {
    "duration": 23,
    "start_time": "2023-07-23T18:16:58.011Z"
   },
   {
    "duration": 31,
    "start_time": "2023-07-23T18:17:04.159Z"
   },
   {
    "duration": 4,
    "start_time": "2023-07-23T18:17:05.511Z"
   },
   {
    "duration": 8,
    "start_time": "2023-07-23T18:17:05.910Z"
   },
   {
    "duration": 19,
    "start_time": "2023-07-23T18:17:07.556Z"
   },
   {
    "duration": 29,
    "start_time": "2023-07-23T18:17:07.988Z"
   },
   {
    "duration": 10,
    "start_time": "2023-07-23T18:17:09.164Z"
   },
   {
    "duration": 47,
    "start_time": "2023-07-23T18:17:10.589Z"
   },
   {
    "duration": 291,
    "start_time": "2023-07-23T18:17:11.518Z"
   },
   {
    "duration": 11,
    "start_time": "2023-07-23T18:17:12.247Z"
   },
   {
    "duration": 48,
    "start_time": "2023-07-23T18:17:13.196Z"
   },
   {
    "duration": 32,
    "start_time": "2023-07-23T18:17:13.947Z"
   },
   {
    "duration": 16,
    "start_time": "2023-07-23T18:17:14.527Z"
   },
   {
    "duration": 50,
    "start_time": "2023-07-23T18:17:15.453Z"
   },
   {
    "duration": 22,
    "start_time": "2023-07-23T18:17:16.987Z"
   },
   {
    "duration": 61,
    "start_time": "2023-07-23T18:17:17.322Z"
   },
   {
    "duration": 64,
    "start_time": "2023-07-23T18:17:20.137Z"
   },
   {
    "duration": 178,
    "start_time": "2023-07-23T18:17:20.498Z"
   },
   {
    "duration": 146,
    "start_time": "2023-07-23T18:17:20.850Z"
   },
   {
    "duration": 145,
    "start_time": "2023-07-23T18:17:22.003Z"
   },
   {
    "duration": 4,
    "start_time": "2023-07-23T18:17:22.932Z"
   },
   {
    "duration": 444,
    "start_time": "2023-07-23T18:17:23.799Z"
   },
   {
    "duration": 479,
    "start_time": "2023-07-23T18:17:24.519Z"
   },
   {
    "duration": 17,
    "start_time": "2023-07-23T18:17:25.542Z"
   },
   {
    "duration": 17,
    "start_time": "2023-07-23T18:17:26.535Z"
   },
   {
    "duration": 1339,
    "start_time": "2023-07-23T18:17:34.446Z"
   },
   {
    "duration": 1311,
    "start_time": "2023-07-23T18:18:04.778Z"
   },
   {
    "duration": 1666,
    "start_time": "2023-07-23T18:18:06.092Z"
   },
   {
    "duration": 0,
    "start_time": "2023-07-23T18:18:07.759Z"
   },
   {
    "duration": 1659,
    "start_time": "2023-07-23T18:18:08.395Z"
   },
   {
    "duration": 0,
    "start_time": "2023-07-23T18:18:10.056Z"
   },
   {
    "duration": 3,
    "start_time": "2023-07-23T18:18:10.153Z"
   },
   {
    "duration": 21,
    "start_time": "2023-07-23T18:26:49.536Z"
   },
   {
    "duration": 54,
    "start_time": "2023-07-23T18:27:18.916Z"
   },
   {
    "duration": 4,
    "start_time": "2023-07-23T18:27:43.139Z"
   },
   {
    "duration": 148,
    "start_time": "2023-07-23T18:27:43.216Z"
   },
   {
    "duration": 18,
    "start_time": "2023-07-23T18:27:43.381Z"
   },
   {
    "duration": 38,
    "start_time": "2023-07-23T18:27:43.667Z"
   },
   {
    "duration": 4,
    "start_time": "2023-07-23T18:27:44.615Z"
   },
   {
    "duration": 179,
    "start_time": "2023-07-23T18:27:44.742Z"
   },
   {
    "duration": 10,
    "start_time": "2023-07-23T18:27:44.926Z"
   },
   {
    "duration": 25,
    "start_time": "2023-07-23T18:27:45.080Z"
   },
   {
    "duration": 17,
    "start_time": "2023-07-23T18:27:45.467Z"
   },
   {
    "duration": 18,
    "start_time": "2023-07-23T18:27:45.591Z"
   },
   {
    "duration": 8,
    "start_time": "2023-07-23T18:27:45.988Z"
   },
   {
    "duration": 12,
    "start_time": "2023-07-23T18:27:46.356Z"
   },
   {
    "duration": 56,
    "start_time": "2023-07-23T18:27:46.907Z"
   },
   {
    "duration": 18,
    "start_time": "2023-07-23T18:27:47.127Z"
   },
   {
    "duration": 85,
    "start_time": "2023-07-23T18:27:47.956Z"
   },
   {
    "duration": 156,
    "start_time": "2023-07-23T18:27:48.708Z"
   },
   {
    "duration": 59,
    "start_time": "2023-07-23T18:27:48.895Z"
   },
   {
    "duration": 291,
    "start_time": "2023-07-23T18:27:49.415Z"
   },
   {
    "duration": 31,
    "start_time": "2023-07-23T18:27:49.735Z"
   },
   {
    "duration": 31,
    "start_time": "2023-07-23T18:27:50.184Z"
   },
   {
    "duration": 23,
    "start_time": "2023-07-23T18:27:51.496Z"
   },
   {
    "duration": 20,
    "start_time": "2023-07-23T18:27:51.715Z"
   },
   {
    "duration": 22,
    "start_time": "2023-07-23T18:27:52.167Z"
   },
   {
    "duration": 22,
    "start_time": "2023-07-23T18:30:49.305Z"
   },
   {
    "duration": 4,
    "start_time": "2023-07-23T18:31:54.855Z"
   },
   {
    "duration": 148,
    "start_time": "2023-07-23T18:31:54.860Z"
   },
   {
    "duration": 16,
    "start_time": "2023-07-23T18:31:55.010Z"
   },
   {
    "duration": 32,
    "start_time": "2023-07-23T18:31:55.027Z"
   },
   {
    "duration": 3,
    "start_time": "2023-07-23T18:31:55.061Z"
   },
   {
    "duration": 203,
    "start_time": "2023-07-23T18:31:55.065Z"
   },
   {
    "duration": 4,
    "start_time": "2023-07-23T18:45:39.494Z"
   },
   {
    "duration": 140,
    "start_time": "2023-07-23T18:45:39.658Z"
   },
   {
    "duration": 18,
    "start_time": "2023-07-23T18:45:39.836Z"
   },
   {
    "duration": 32,
    "start_time": "2023-07-23T18:45:39.967Z"
   },
   {
    "duration": 3,
    "start_time": "2023-07-23T18:45:41.152Z"
   },
   {
    "duration": 224,
    "start_time": "2023-07-23T18:45:41.335Z"
   },
   {
    "duration": 11,
    "start_time": "2023-07-23T18:45:41.562Z"
   },
   {
    "duration": 28,
    "start_time": "2023-07-23T18:45:41.746Z"
   },
   {
    "duration": 20,
    "start_time": "2023-07-23T18:45:42.241Z"
   },
   {
    "duration": 22,
    "start_time": "2023-07-23T18:45:42.532Z"
   },
   {
    "duration": 9,
    "start_time": "2023-07-23T18:45:42.944Z"
   },
   {
    "duration": 12,
    "start_time": "2023-07-23T18:45:43.345Z"
   },
   {
    "duration": 57,
    "start_time": "2023-07-23T18:45:43.901Z"
   },
   {
    "duration": 19,
    "start_time": "2023-07-23T18:45:44.114Z"
   },
   {
    "duration": 67,
    "start_time": "2023-07-23T18:45:44.502Z"
   },
   {
    "duration": 173,
    "start_time": "2023-07-23T18:45:45.097Z"
   },
   {
    "duration": 73,
    "start_time": "2023-07-23T18:45:45.272Z"
   },
   {
    "duration": 278,
    "start_time": "2023-07-23T18:45:45.634Z"
   },
   {
    "duration": 31,
    "start_time": "2023-07-23T18:45:45.914Z"
   },
   {
    "duration": 30,
    "start_time": "2023-07-23T18:45:46.171Z"
   },
   {
    "duration": 22,
    "start_time": "2023-07-23T18:45:47.309Z"
   },
   {
    "duration": 20,
    "start_time": "2023-07-23T18:45:47.517Z"
   },
   {
    "duration": 23,
    "start_time": "2023-07-23T18:45:47.906Z"
   },
   {
    "duration": 5,
    "start_time": "2023-07-23T18:45:48.328Z"
   },
   {
    "duration": 5,
    "start_time": "2023-07-23T18:45:48.525Z"
   },
   {
    "duration": 4,
    "start_time": "2023-07-24T07:22:52.650Z"
   },
   {
    "duration": 164,
    "start_time": "2023-07-24T07:22:52.784Z"
   },
   {
    "duration": 22,
    "start_time": "2023-07-24T07:22:52.950Z"
   },
   {
    "duration": 34,
    "start_time": "2023-07-24T07:22:53.075Z"
   },
   {
    "duration": 3,
    "start_time": "2023-07-24T07:22:53.855Z"
   },
   {
    "duration": 203,
    "start_time": "2023-07-24T07:22:54.018Z"
   },
   {
    "duration": 10,
    "start_time": "2023-07-24T07:22:54.223Z"
   },
   {
    "duration": 33,
    "start_time": "2023-07-24T07:22:54.350Z"
   },
   {
    "duration": 20,
    "start_time": "2023-07-24T07:22:54.701Z"
   },
   {
    "duration": 37,
    "start_time": "2023-07-24T07:22:54.881Z"
   },
   {
    "duration": 12,
    "start_time": "2023-07-24T07:22:55.229Z"
   },
   {
    "duration": 16,
    "start_time": "2023-07-24T07:22:55.560Z"
   },
   {
    "duration": 60,
    "start_time": "2023-07-24T07:22:56.084Z"
   },
   {
    "duration": 24,
    "start_time": "2023-07-24T07:22:56.251Z"
   },
   {
    "duration": 131,
    "start_time": "2023-07-24T07:22:56.614Z"
   },
   {
    "duration": 161,
    "start_time": "2023-07-24T07:22:57.353Z"
   },
   {
    "duration": 62,
    "start_time": "2023-07-24T07:22:57.516Z"
   },
   {
    "duration": 280,
    "start_time": "2023-07-24T07:22:58.023Z"
   },
   {
    "duration": 45,
    "start_time": "2023-07-24T07:22:58.305Z"
   },
   {
    "duration": 53,
    "start_time": "2023-07-24T07:22:58.537Z"
   },
   {
    "duration": 23,
    "start_time": "2023-07-24T07:22:59.522Z"
   },
   {
    "duration": 24,
    "start_time": "2023-07-24T07:22:59.701Z"
   },
   {
    "duration": 22,
    "start_time": "2023-07-24T07:23:00.125Z"
   },
   {
    "duration": 4,
    "start_time": "2023-07-24T07:23:00.481Z"
   },
   {
    "duration": 5,
    "start_time": "2023-07-24T07:23:00.837Z"
   },
   {
    "duration": 18,
    "start_time": "2023-07-24T07:23:01.200Z"
   },
   {
    "duration": 21,
    "start_time": "2023-07-24T07:23:13.199Z"
   },
   {
    "duration": 4,
    "start_time": "2023-07-24T07:23:13.537Z"
   },
   {
    "duration": 5,
    "start_time": "2023-07-24T07:23:13.735Z"
   },
   {
    "duration": 19,
    "start_time": "2023-07-24T07:23:14.121Z"
   },
   {
    "duration": 28,
    "start_time": "2023-07-24T07:23:14.285Z"
   },
   {
    "duration": 7,
    "start_time": "2023-07-24T07:23:14.788Z"
   },
   {
    "duration": 42,
    "start_time": "2023-07-24T07:23:15.110Z"
   },
   {
    "duration": 212,
    "start_time": "2023-07-24T07:23:15.421Z"
   },
   {
    "duration": 11,
    "start_time": "2023-07-24T07:23:15.769Z"
   },
   {
    "duration": 46,
    "start_time": "2023-07-24T07:23:16.518Z"
   },
   {
    "duration": 39,
    "start_time": "2023-07-24T07:23:16.939Z"
   },
   {
    "duration": 18,
    "start_time": "2023-07-24T07:23:17.318Z"
   },
   {
    "duration": 49,
    "start_time": "2023-07-24T07:23:17.874Z"
   },
   {
    "duration": 26,
    "start_time": "2023-07-24T07:23:19.183Z"
   },
   {
    "duration": 48,
    "start_time": "2023-07-24T07:23:19.737Z"
   },
   {
    "duration": 77,
    "start_time": "2023-07-24T07:23:24.963Z"
   },
   {
    "duration": 190,
    "start_time": "2023-07-24T07:23:25.289Z"
   },
   {
    "duration": 173,
    "start_time": "2023-07-24T07:23:25.481Z"
   },
   {
    "duration": 49,
    "start_time": "2023-07-24T07:25:08.535Z"
   },
   {
    "duration": 47,
    "start_time": "2023-07-24T07:25:27.001Z"
   },
   {
    "duration": 70,
    "start_time": "2023-07-24T07:25:28.156Z"
   },
   {
    "duration": 174,
    "start_time": "2023-07-24T07:25:29.188Z"
   },
   {
    "duration": 180,
    "start_time": "2023-07-24T07:25:32.479Z"
   },
   {
    "duration": 197,
    "start_time": "2023-07-24T07:25:32.661Z"
   },
   {
    "duration": 153,
    "start_time": "2023-07-24T07:25:33.151Z"
   },
   {
    "duration": 5,
    "start_time": "2023-07-24T07:25:33.401Z"
   },
   {
    "duration": 458,
    "start_time": "2023-07-24T07:25:33.593Z"
   },
   {
    "duration": 802,
    "start_time": "2023-07-24T07:25:49.907Z"
   },
   {
    "duration": 29,
    "start_time": "2023-07-24T07:25:59.116Z"
   },
   {
    "duration": 25,
    "start_time": "2023-07-24T07:25:59.792Z"
   },
   {
    "duration": 1406,
    "start_time": "2023-07-24T07:26:14.136Z"
   },
   {
    "duration": 3,
    "start_time": "2023-07-24T18:44:08.726Z"
   },
   {
    "duration": 166,
    "start_time": "2023-07-24T18:44:09.198Z"
   },
   {
    "duration": 20,
    "start_time": "2023-07-24T18:44:09.692Z"
   },
   {
    "duration": 38,
    "start_time": "2023-07-24T18:44:10.266Z"
   },
   {
    "duration": 4,
    "start_time": "2023-07-24T18:44:12.093Z"
   },
   {
    "duration": 203,
    "start_time": "2023-07-24T18:44:12.428Z"
   },
   {
    "duration": 10,
    "start_time": "2023-07-24T18:44:12.738Z"
   },
   {
    "duration": 32,
    "start_time": "2023-07-24T18:44:13.104Z"
   },
   {
    "duration": 18,
    "start_time": "2023-07-24T18:44:13.858Z"
   },
   {
    "duration": 24,
    "start_time": "2023-07-24T18:44:14.208Z"
   },
   {
    "duration": 10,
    "start_time": "2023-07-24T18:44:14.914Z"
   },
   {
    "duration": 11,
    "start_time": "2023-07-24T18:44:15.520Z"
   },
   {
    "duration": 57,
    "start_time": "2023-07-24T18:44:16.402Z"
   },
   {
    "duration": 23,
    "start_time": "2023-07-24T18:44:16.722Z"
   },
   {
    "duration": 74,
    "start_time": "2023-07-24T18:44:17.406Z"
   },
   {
    "duration": 162,
    "start_time": "2023-07-24T18:44:18.279Z"
   },
   {
    "duration": 60,
    "start_time": "2023-07-24T18:44:18.512Z"
   },
   {
    "duration": 282,
    "start_time": "2023-07-24T18:44:19.088Z"
   },
   {
    "duration": 38,
    "start_time": "2023-07-24T18:44:19.447Z"
   },
   {
    "duration": 38,
    "start_time": "2023-07-24T18:44:19.951Z"
   },
   {
    "duration": 23,
    "start_time": "2023-07-24T18:44:21.409Z"
   },
   {
    "duration": 24,
    "start_time": "2023-07-24T18:44:21.750Z"
   },
   {
    "duration": 23,
    "start_time": "2023-07-24T18:44:22.398Z"
   },
   {
    "duration": 5,
    "start_time": "2023-07-24T18:44:39.206Z"
   },
   {
    "duration": 18,
    "start_time": "2023-07-24T18:44:39.213Z"
   },
   {
    "duration": 19,
    "start_time": "2023-07-24T18:44:39.446Z"
   },
   {
    "duration": 25,
    "start_time": "2023-07-24T18:44:40.019Z"
   },
   {
    "duration": 8,
    "start_time": "2023-07-24T18:44:48.863Z"
   },
   {
    "duration": 48,
    "start_time": "2023-07-24T18:44:49.475Z"
   },
   {
    "duration": 215,
    "start_time": "2023-07-24T18:44:50.797Z"
   },
   {
    "duration": 23,
    "start_time": "2023-07-24T18:45:06.196Z"
   },
   {
    "duration": 5,
    "start_time": "2023-07-24T18:45:06.618Z"
   },
   {
    "duration": 4,
    "start_time": "2023-07-24T18:45:07.001Z"
   },
   {
    "duration": 18,
    "start_time": "2023-07-24T18:45:07.559Z"
   },
   {
    "duration": 27,
    "start_time": "2023-07-24T18:45:07.791Z"
   },
   {
    "duration": 7,
    "start_time": "2023-07-24T18:45:08.567Z"
   },
   {
    "duration": 46,
    "start_time": "2023-07-24T18:45:09.118Z"
   },
   {
    "duration": 196,
    "start_time": "2023-07-24T18:45:09.760Z"
   },
   {
    "duration": 11,
    "start_time": "2023-07-24T18:45:10.636Z"
   },
   {
    "duration": 48,
    "start_time": "2023-07-24T18:45:11.530Z"
   },
   {
    "duration": 39,
    "start_time": "2023-07-24T18:45:12.482Z"
   },
   {
    "duration": 17,
    "start_time": "2023-07-24T18:45:13.362Z"
   },
   {
    "duration": 46,
    "start_time": "2023-07-24T18:45:14.706Z"
   },
   {
    "duration": 26,
    "start_time": "2023-07-24T18:45:17.663Z"
   },
   {
    "duration": 47,
    "start_time": "2023-07-24T18:45:18.476Z"
   },
   {
    "duration": 73,
    "start_time": "2023-07-24T18:45:24.831Z"
   },
   {
    "duration": 170,
    "start_time": "2023-07-24T18:45:25.593Z"
   },
   {
    "duration": 191,
    "start_time": "2023-07-24T18:45:26.730Z"
   },
   {
    "duration": 147,
    "start_time": "2023-07-24T18:45:27.643Z"
   },
   {
    "duration": 5,
    "start_time": "2023-07-24T18:45:28.139Z"
   },
   {
    "duration": 471,
    "start_time": "2023-07-24T18:45:28.643Z"
   },
   {
    "duration": 492,
    "start_time": "2023-07-24T18:45:31.282Z"
   },
   {
    "duration": 20,
    "start_time": "2023-07-24T18:45:33.805Z"
   },
   {
    "duration": 17,
    "start_time": "2023-07-24T18:45:39.093Z"
   },
   {
    "duration": 1340,
    "start_time": "2023-07-24T18:45:41.170Z"
   },
   {
    "duration": 1844,
    "start_time": "2023-07-24T18:45:45.115Z"
   },
   {
    "duration": 20,
    "start_time": "2023-07-24T18:45:52.295Z"
   },
   {
    "duration": 1775,
    "start_time": "2023-07-24T18:45:55.683Z"
   },
   {
    "duration": 4,
    "start_time": "2023-07-25T06:56:24.456Z"
   },
   {
    "duration": 148,
    "start_time": "2023-07-25T06:56:25.134Z"
   },
   {
    "duration": 21,
    "start_time": "2023-07-25T06:56:25.696Z"
   },
   {
    "duration": 36,
    "start_time": "2023-07-25T06:56:26.345Z"
   },
   {
    "duration": 3,
    "start_time": "2023-07-25T06:56:28.502Z"
   },
   {
    "duration": 207,
    "start_time": "2023-07-25T06:56:29.110Z"
   },
   {
    "duration": 11,
    "start_time": "2023-07-25T06:56:30.425Z"
   },
   {
    "duration": 28,
    "start_time": "2023-07-25T06:56:30.844Z"
   },
   {
    "duration": 18,
    "start_time": "2023-07-25T06:56:31.630Z"
   },
   {
    "duration": 22,
    "start_time": "2023-07-25T06:56:31.938Z"
   },
   {
    "duration": 10,
    "start_time": "2023-07-25T06:56:32.542Z"
   },
   {
    "duration": 13,
    "start_time": "2023-07-25T06:56:33.250Z"
   },
   {
    "duration": 56,
    "start_time": "2023-07-25T06:56:34.272Z"
   },
   {
    "duration": 22,
    "start_time": "2023-07-25T06:56:34.651Z"
   },
   {
    "duration": 72,
    "start_time": "2023-07-25T06:56:35.372Z"
   },
   {
    "duration": 173,
    "start_time": "2023-07-25T06:56:36.667Z"
   },
   {
    "duration": 67,
    "start_time": "2023-07-25T06:56:37.026Z"
   },
   {
    "duration": 321,
    "start_time": "2023-07-25T06:56:38.121Z"
   },
   {
    "duration": 33,
    "start_time": "2023-07-25T06:56:38.482Z"
   },
   {
    "duration": 34,
    "start_time": "2023-07-25T06:56:39.128Z"
   },
   {
    "duration": 23,
    "start_time": "2023-07-25T06:56:42.126Z"
   },
   {
    "duration": 21,
    "start_time": "2023-07-25T06:56:42.569Z"
   },
   {
    "duration": 23,
    "start_time": "2023-07-25T06:56:43.387Z"
   },
   {
    "duration": 21,
    "start_time": "2023-07-25T06:56:54.925Z"
   },
   {
    "duration": 5,
    "start_time": "2023-07-25T06:56:56.567Z"
   },
   {
    "duration": 5,
    "start_time": "2023-07-25T06:56:57.138Z"
   },
   {
    "duration": 17,
    "start_time": "2023-07-25T06:56:58.240Z"
   },
   {
    "duration": 27,
    "start_time": "2023-07-25T06:56:58.873Z"
   },
   {
    "duration": 8,
    "start_time": "2023-07-25T06:57:00.360Z"
   },
   {
    "duration": 51,
    "start_time": "2023-07-25T06:57:01.198Z"
   },
   {
    "duration": 221,
    "start_time": "2023-07-25T06:57:02.178Z"
   },
   {
    "duration": 12,
    "start_time": "2023-07-25T06:57:03.561Z"
   },
   {
    "duration": 49,
    "start_time": "2023-07-25T06:57:04.896Z"
   },
   {
    "duration": 34,
    "start_time": "2023-07-25T06:57:06.282Z"
   },
   {
    "duration": 16,
    "start_time": "2023-07-25T06:57:07.350Z"
   },
   {
    "duration": 49,
    "start_time": "2023-07-25T06:57:08.932Z"
   },
   {
    "duration": 22,
    "start_time": "2023-07-25T06:57:13.417Z"
   },
   {
    "duration": 42,
    "start_time": "2023-07-25T06:57:14.467Z"
   },
   {
    "duration": 67,
    "start_time": "2023-07-25T06:57:18.071Z"
   },
   {
    "duration": 170,
    "start_time": "2023-07-25T06:57:23.196Z"
   },
   {
    "duration": 168,
    "start_time": "2023-07-25T06:57:23.369Z"
   },
   {
    "duration": 152,
    "start_time": "2023-07-25T06:57:26.302Z"
   },
   {
    "duration": 5,
    "start_time": "2023-07-25T06:57:27.231Z"
   },
   {
    "duration": 472,
    "start_time": "2023-07-25T06:57:27.723Z"
   },
   {
    "duration": 536,
    "start_time": "2023-07-25T06:57:30.343Z"
   },
   {
    "duration": 27,
    "start_time": "2023-07-25T06:57:34.050Z"
   },
   {
    "duration": 19,
    "start_time": "2023-07-25T06:57:34.717Z"
   },
   {
    "duration": 1258,
    "start_time": "2023-07-25T06:57:37.629Z"
   },
   {
    "duration": 1972,
    "start_time": "2023-07-25T06:57:44.021Z"
   },
   {
    "duration": 6,
    "start_time": "2023-07-25T10:30:32.911Z"
   },
   {
    "duration": 177,
    "start_time": "2023-07-25T10:30:34.332Z"
   },
   {
    "duration": 19,
    "start_time": "2023-07-25T10:30:34.512Z"
   },
   {
    "duration": 40,
    "start_time": "2023-07-25T10:30:34.708Z"
   },
   {
    "duration": 3,
    "start_time": "2023-07-25T10:30:36.389Z"
   },
   {
    "duration": 202,
    "start_time": "2023-07-25T10:30:36.615Z"
   },
   {
    "duration": 10,
    "start_time": "2023-07-25T10:30:36.820Z"
   },
   {
    "duration": 29,
    "start_time": "2023-07-25T10:30:37.322Z"
   },
   {
    "duration": 18,
    "start_time": "2023-07-25T10:30:38.023Z"
   },
   {
    "duration": 23,
    "start_time": "2023-07-25T10:30:38.320Z"
   },
   {
    "duration": 9,
    "start_time": "2023-07-25T10:30:38.761Z"
   },
   {
    "duration": 13,
    "start_time": "2023-07-25T10:30:39.287Z"
   },
   {
    "duration": 58,
    "start_time": "2023-07-25T10:30:39.948Z"
   },
   {
    "duration": 20,
    "start_time": "2023-07-25T10:30:40.223Z"
   },
   {
    "duration": 77,
    "start_time": "2023-07-25T10:30:40.909Z"
   },
   {
    "duration": 198,
    "start_time": "2023-07-25T10:30:41.611Z"
   },
   {
    "duration": 64,
    "start_time": "2023-07-25T10:30:41.835Z"
   },
   {
    "duration": 331,
    "start_time": "2023-07-25T10:30:42.243Z"
   },
   {
    "duration": 34,
    "start_time": "2023-07-25T10:30:42.576Z"
   },
   {
    "duration": 37,
    "start_time": "2023-07-25T10:30:42.907Z"
   },
   {
    "duration": 22,
    "start_time": "2023-07-25T10:30:47.020Z"
   },
   {
    "duration": 23,
    "start_time": "2023-07-25T10:30:47.058Z"
   },
   {
    "duration": 23,
    "start_time": "2023-07-25T10:30:48.654Z"
   },
   {
    "duration": 4,
    "start_time": "2023-07-25T10:31:03.782Z"
   },
   {
    "duration": 175,
    "start_time": "2023-07-25T10:31:03.940Z"
   },
   {
    "duration": 26,
    "start_time": "2023-07-25T10:31:04.132Z"
   },
   {
    "duration": 40,
    "start_time": "2023-07-25T10:31:04.304Z"
   },
   {
    "duration": 3,
    "start_time": "2023-07-25T10:31:05.249Z"
   },
   {
    "duration": 234,
    "start_time": "2023-07-25T10:31:05.431Z"
   },
   {
    "duration": 11,
    "start_time": "2023-07-25T10:31:05.667Z"
   },
   {
    "duration": 30,
    "start_time": "2023-07-25T10:31:05.821Z"
   },
   {
    "duration": 20,
    "start_time": "2023-07-25T10:31:06.158Z"
   },
   {
    "duration": 23,
    "start_time": "2023-07-25T10:31:06.363Z"
   },
   {
    "duration": 13,
    "start_time": "2023-07-25T10:31:06.722Z"
   },
   {
    "duration": 16,
    "start_time": "2023-07-25T10:31:07.112Z"
   },
   {
    "duration": 57,
    "start_time": "2023-07-25T10:31:07.695Z"
   },
   {
    "duration": 22,
    "start_time": "2023-07-25T10:31:07.906Z"
   },
   {
    "duration": 80,
    "start_time": "2023-07-25T10:31:08.292Z"
   },
   {
    "duration": 204,
    "start_time": "2023-07-25T10:31:09.102Z"
   },
   {
    "duration": 73,
    "start_time": "2023-07-25T10:31:09.316Z"
   },
   {
    "duration": 366,
    "start_time": "2023-07-25T10:31:10.014Z"
   },
   {
    "duration": 35,
    "start_time": "2023-07-25T10:31:10.472Z"
   },
   {
    "duration": 35,
    "start_time": "2023-07-25T10:31:10.985Z"
   },
   {
    "duration": 36,
    "start_time": "2023-07-25T10:31:13.491Z"
   },
   {
    "duration": 23,
    "start_time": "2023-07-25T10:31:13.967Z"
   },
   {
    "duration": 6,
    "start_time": "2023-07-25T10:31:14.798Z"
   },
   {
    "duration": 6,
    "start_time": "2023-07-25T10:31:32.830Z"
   },
   {
    "duration": 6,
    "start_time": "2023-07-25T10:31:33.289Z"
   },
   {
    "duration": 21,
    "start_time": "2023-07-25T10:31:53.170Z"
   },
   {
    "duration": 36,
    "start_time": "2023-07-25T10:31:54.097Z"
   },
   {
    "duration": 8,
    "start_time": "2023-07-25T10:31:55.885Z"
   },
   {
    "duration": 91,
    "start_time": "2023-07-25T10:31:56.992Z"
   },
   {
    "duration": 247,
    "start_time": "2023-07-25T10:31:58.097Z"
   },
   {
    "duration": 16,
    "start_time": "2023-07-25T10:31:59.161Z"
   },
   {
    "duration": 59,
    "start_time": "2023-07-25T10:32:00.122Z"
   },
   {
    "duration": 36,
    "start_time": "2023-07-25T10:32:01.088Z"
   },
   {
    "duration": 17,
    "start_time": "2023-07-25T10:32:02.191Z"
   },
   {
    "duration": 50,
    "start_time": "2023-07-25T10:32:04.504Z"
   },
   {
    "duration": 40,
    "start_time": "2023-07-25T10:32:07.145Z"
   },
   {
    "duration": 67,
    "start_time": "2023-07-25T10:32:18.436Z"
   },
   {
    "duration": 44,
    "start_time": "2023-07-25T10:32:29.301Z"
   },
   {
    "duration": 87,
    "start_time": "2023-07-25T10:32:29.949Z"
   },
   {
    "duration": 182,
    "start_time": "2023-07-25T10:32:30.375Z"
   },
   {
    "duration": 300,
    "start_time": "2023-07-25T10:32:30.620Z"
   },
   {
    "duration": 173,
    "start_time": "2023-07-25T10:32:31.092Z"
   },
   {
    "duration": 5,
    "start_time": "2023-07-25T10:32:31.321Z"
   },
   {
    "duration": 530,
    "start_time": "2023-07-25T10:32:31.584Z"
   },
   {
    "duration": 571,
    "start_time": "2023-07-25T10:32:32.882Z"
   },
   {
    "duration": 20,
    "start_time": "2023-07-25T10:32:39.235Z"
   },
   {
    "duration": 18,
    "start_time": "2023-07-25T10:32:41.190Z"
   },
   {
    "duration": 2209,
    "start_time": "2023-07-25T10:32:43.109Z"
   },
   {
    "duration": 3084,
    "start_time": "2023-07-25T10:32:51.118Z"
   },
   {
    "duration": 16,
    "start_time": "2023-07-25T10:34:38.935Z"
   },
   {
    "duration": 4,
    "start_time": "2023-07-25T18:57:29.928Z"
   },
   {
    "duration": 527,
    "start_time": "2023-07-25T18:57:30.410Z"
   },
   {
    "duration": 33,
    "start_time": "2023-07-25T18:57:30.939Z"
   },
   {
    "duration": 38,
    "start_time": "2023-07-25T18:57:31.600Z"
   },
   {
    "duration": 3,
    "start_time": "2023-07-25T18:57:33.951Z"
   },
   {
    "duration": 228,
    "start_time": "2023-07-25T18:57:34.379Z"
   },
   {
    "duration": 27,
    "start_time": "2023-07-25T18:57:34.753Z"
   },
   {
    "duration": 46,
    "start_time": "2023-07-25T18:57:35.265Z"
   },
   {
    "duration": 16,
    "start_time": "2023-07-25T18:57:36.302Z"
   },
   {
    "duration": 27,
    "start_time": "2023-07-25T18:57:36.688Z"
   },
   {
    "duration": 10,
    "start_time": "2023-07-25T18:57:37.580Z"
   },
   {
    "duration": 13,
    "start_time": "2023-07-25T18:57:38.510Z"
   },
   {
    "duration": 48,
    "start_time": "2023-07-25T18:57:39.794Z"
   },
   {
    "duration": 25,
    "start_time": "2023-07-25T18:57:40.281Z"
   },
   {
    "duration": 96,
    "start_time": "2023-07-25T18:57:41.277Z"
   },
   {
    "duration": 222,
    "start_time": "2023-07-25T18:57:42.639Z"
   },
   {
    "duration": 67,
    "start_time": "2023-07-25T18:57:43.080Z"
   },
   {
    "duration": 363,
    "start_time": "2023-07-25T18:57:44.110Z"
   },
   {
    "duration": 50,
    "start_time": "2023-07-25T18:57:44.574Z"
   },
   {
    "duration": 50,
    "start_time": "2023-07-25T18:57:45.579Z"
   },
   {
    "duration": 29,
    "start_time": "2023-07-25T18:57:48.610Z"
   },
   {
    "duration": 25,
    "start_time": "2023-07-25T18:57:49.288Z"
   },
   {
    "duration": 20,
    "start_time": "2023-07-25T18:57:56.833Z"
   },
   {
    "duration": 23,
    "start_time": "2023-07-25T18:58:50.380Z"
   },
   {
    "duration": 6,
    "start_time": "2023-07-25T18:58:52.289Z"
   },
   {
    "duration": 4,
    "start_time": "2023-07-25T18:58:52.893Z"
   },
   {
    "duration": 21,
    "start_time": "2023-07-25T18:58:58.286Z"
   },
   {
    "duration": 26,
    "start_time": "2023-07-25T18:58:58.681Z"
   },
   {
    "duration": 13,
    "start_time": "2023-07-25T18:59:01.567Z"
   },
   {
    "duration": 57,
    "start_time": "2023-07-25T18:59:02.322Z"
   },
   {
    "duration": 339,
    "start_time": "2023-07-25T18:59:05.376Z"
   },
   {
    "duration": 13,
    "start_time": "2023-07-25T18:59:06.709Z"
   },
   {
    "duration": 73,
    "start_time": "2023-07-25T18:59:09.843Z"
   },
   {
    "duration": 57,
    "start_time": "2023-07-25T18:59:10.831Z"
   },
   {
    "duration": 30,
    "start_time": "2023-07-25T18:59:13.343Z"
   },
   {
    "duration": 46,
    "start_time": "2023-07-25T18:59:14.399Z"
   },
   {
    "duration": 37,
    "start_time": "2023-07-25T18:59:17.743Z"
   },
   {
    "duration": 87,
    "start_time": "2023-07-25T18:59:19.310Z"
   },
   {
    "duration": 83,
    "start_time": "2023-07-25T18:59:32.437Z"
   },
   {
    "duration": 167,
    "start_time": "2023-07-25T18:59:33.529Z"
   },
   {
    "duration": 156,
    "start_time": "2023-07-25T18:59:36.398Z"
   },
   {
    "duration": 181,
    "start_time": "2023-07-25T18:59:37.510Z"
   },
   {
    "duration": 5,
    "start_time": "2023-07-25T18:59:38.028Z"
   },
   {
    "duration": 556,
    "start_time": "2023-07-25T18:59:38.572Z"
   },
   {
    "duration": 671,
    "start_time": "2023-07-25T18:59:40.533Z"
   },
   {
    "duration": 29,
    "start_time": "2023-07-25T18:59:42.964Z"
   },
   {
    "duration": 17,
    "start_time": "2023-07-25T18:59:46.707Z"
   },
   {
    "duration": 1502,
    "start_time": "2023-07-25T18:59:49.625Z"
   },
   {
    "duration": 2273,
    "start_time": "2023-07-25T18:59:55.337Z"
   },
   {
    "duration": 17,
    "start_time": "2023-07-25T18:59:59.781Z"
   },
   {
    "duration": 3,
    "start_time": "2023-07-25T19:15:40.699Z"
   },
   {
    "duration": 436,
    "start_time": "2023-07-25T19:15:41.070Z"
   },
   {
    "duration": 30,
    "start_time": "2023-07-25T19:15:41.566Z"
   },
   {
    "duration": 37,
    "start_time": "2023-07-25T19:15:41.935Z"
   },
   {
    "duration": 4,
    "start_time": "2023-07-25T19:15:44.111Z"
   },
   {
    "duration": 209,
    "start_time": "2023-07-25T19:15:44.520Z"
   },
   {
    "duration": 15,
    "start_time": "2023-07-25T19:15:44.963Z"
   },
   {
    "duration": 36,
    "start_time": "2023-07-25T19:15:45.411Z"
   },
   {
    "duration": 17,
    "start_time": "2023-07-25T19:15:46.416Z"
   },
   {
    "duration": 34,
    "start_time": "2023-07-25T19:15:46.861Z"
   },
   {
    "duration": 9,
    "start_time": "2023-07-25T19:15:47.705Z"
   },
   {
    "duration": 12,
    "start_time": "2023-07-25T19:15:48.739Z"
   },
   {
    "duration": 65,
    "start_time": "2023-07-25T19:15:50.952Z"
   },
   {
    "duration": 32,
    "start_time": "2023-07-25T19:15:54.754Z"
   },
   {
    "duration": 73,
    "start_time": "2023-07-25T19:15:55.921Z"
   },
   {
    "duration": 164,
    "start_time": "2023-07-25T19:16:02.526Z"
   },
   {
    "duration": 21,
    "start_time": "2023-07-25T19:19:30.483Z"
   },
   {
    "duration": 35,
    "start_time": "2023-07-25T19:27:47.544Z"
   },
   {
    "duration": 30,
    "start_time": "2023-07-25T19:27:52.261Z"
   },
   {
    "duration": 21,
    "start_time": "2023-07-25T19:28:04.916Z"
   },
   {
    "duration": 4,
    "start_time": "2023-07-25T19:31:23.346Z"
   },
   {
    "duration": 148,
    "start_time": "2023-07-25T19:31:23.775Z"
   },
   {
    "duration": 27,
    "start_time": "2023-07-25T19:31:24.298Z"
   },
   {
    "duration": 34,
    "start_time": "2023-07-25T19:31:24.873Z"
   },
   {
    "duration": 3,
    "start_time": "2023-07-25T19:31:26.789Z"
   },
   {
    "duration": 182,
    "start_time": "2023-07-25T19:31:27.072Z"
   },
   {
    "duration": 11,
    "start_time": "2023-07-25T19:31:27.297Z"
   },
   {
    "duration": 37,
    "start_time": "2023-07-25T19:31:27.598Z"
   },
   {
    "duration": 16,
    "start_time": "2023-07-25T19:31:28.213Z"
   },
   {
    "duration": 24,
    "start_time": "2023-07-25T19:31:28.532Z"
   },
   {
    "duration": 9,
    "start_time": "2023-07-25T19:31:29.035Z"
   },
   {
    "duration": 12,
    "start_time": "2023-07-25T19:31:29.605Z"
   },
   {
    "duration": 48,
    "start_time": "2023-07-25T19:31:30.372Z"
   },
   {
    "duration": 24,
    "start_time": "2023-07-25T19:31:30.605Z"
   },
   {
    "duration": 66,
    "start_time": "2023-07-25T19:31:31.124Z"
   },
   {
    "duration": 197,
    "start_time": "2023-07-25T19:31:31.863Z"
   },
   {
    "duration": 59,
    "start_time": "2023-07-25T19:31:35.890Z"
   },
   {
    "duration": 285,
    "start_time": "2023-07-25T19:31:35.950Z"
   },
   {
    "duration": 55,
    "start_time": "2023-07-25T19:31:36.236Z"
   },
   {
    "duration": 46,
    "start_time": "2023-07-25T19:31:36.293Z"
   },
   {
    "duration": 37,
    "start_time": "2023-07-25T19:31:36.341Z"
   },
   {
    "duration": 25,
    "start_time": "2023-07-25T19:31:36.379Z"
   },
   {
    "duration": 20,
    "start_time": "2023-07-25T19:31:36.604Z"
   },
   {
    "duration": 4,
    "start_time": "2023-07-25T19:36:46.115Z"
   },
   {
    "duration": 5,
    "start_time": "2023-07-25T19:36:46.403Z"
   },
   {
    "duration": 25,
    "start_time": "2023-07-25T19:38:53.677Z"
   },
   {
    "duration": 25,
    "start_time": "2023-07-25T19:38:56.931Z"
   },
   {
    "duration": 23,
    "start_time": "2023-07-25T19:44:10.909Z"
   },
   {
    "duration": 28,
    "start_time": "2023-07-25T19:44:11.409Z"
   },
   {
    "duration": 8,
    "start_time": "2023-07-25T19:44:17.781Z"
   },
   {
    "duration": 59,
    "start_time": "2023-07-25T19:44:18.726Z"
   },
   {
    "duration": 210,
    "start_time": "2023-07-25T19:44:21.725Z"
   },
   {
    "duration": 16,
    "start_time": "2023-07-25T19:44:24.961Z"
   },
   {
    "duration": 64,
    "start_time": "2023-07-25T19:44:28.905Z"
   },
   {
    "duration": 49,
    "start_time": "2023-07-25T19:44:33.998Z"
   },
   {
    "duration": 21,
    "start_time": "2023-07-25T19:44:59.829Z"
   },
   {
    "duration": 51,
    "start_time": "2023-07-25T19:45:00.923Z"
   },
   {
    "duration": 26,
    "start_time": "2023-07-25T19:45:05.029Z"
   },
   {
    "duration": 59,
    "start_time": "2023-07-25T19:45:16.610Z"
   },
   {
    "duration": 70,
    "start_time": "2023-07-25T19:50:26.234Z"
   },
   {
    "duration": 173,
    "start_time": "2023-07-25T19:50:29.329Z"
   },
   {
    "duration": 165,
    "start_time": "2023-07-25T19:50:32.743Z"
   },
   {
    "duration": 152,
    "start_time": "2023-07-25T19:50:42.136Z"
   },
   {
    "duration": 8,
    "start_time": "2023-07-25T19:50:45.270Z"
   },
   {
    "duration": 501,
    "start_time": "2023-07-25T19:50:45.821Z"
   },
   {
    "duration": 496,
    "start_time": "2023-07-25T19:50:50.674Z"
   },
   {
    "duration": 18,
    "start_time": "2023-07-25T19:50:58.114Z"
   },
   {
    "duration": 17,
    "start_time": "2023-07-25T19:50:59.037Z"
   },
   {
    "duration": 12,
    "start_time": "2023-07-25T19:52:01.025Z"
   },
   {
    "duration": 1816,
    "start_time": "2023-07-25T19:52:50.340Z"
   },
   {
    "duration": 1166,
    "start_time": "2023-07-25T19:53:14.754Z"
   },
   {
    "duration": 28,
    "start_time": "2023-07-25T19:55:22.631Z"
   },
   {
    "duration": 35,
    "start_time": "2023-07-25T19:55:27.195Z"
   },
   {
    "duration": 13,
    "start_time": "2023-07-25T19:56:04.758Z"
   },
   {
    "duration": 63,
    "start_time": "2023-07-25T19:56:18.961Z"
   },
   {
    "duration": 11,
    "start_time": "2023-07-25T20:01:50.438Z"
   },
   {
    "duration": 22,
    "start_time": "2023-07-25T20:02:06.476Z"
   },
   {
    "duration": 40,
    "start_time": "2023-07-25T20:02:07.437Z"
   },
   {
    "duration": 65,
    "start_time": "2023-07-25T20:02:10.626Z"
   },
   {
    "duration": 1584,
    "start_time": "2023-07-26T05:01:38.541Z"
   },
   {
    "duration": 551,
    "start_time": "2023-07-26T05:01:41.047Z"
   },
   {
    "duration": 22,
    "start_time": "2023-07-26T05:01:41.707Z"
   },
   {
    "duration": 44,
    "start_time": "2023-07-26T05:01:42.119Z"
   },
   {
    "duration": 4,
    "start_time": "2023-07-26T05:02:28.906Z"
   },
   {
    "duration": 266,
    "start_time": "2023-07-26T05:02:30.375Z"
   },
   {
    "duration": 11,
    "start_time": "2023-07-26T05:02:31.141Z"
   },
   {
    "duration": 36,
    "start_time": "2023-07-26T05:02:32.215Z"
   },
   {
    "duration": 21,
    "start_time": "2023-07-26T05:02:35.544Z"
   },
   {
    "duration": 22,
    "start_time": "2023-07-26T05:02:36.116Z"
   },
   {
    "duration": 10,
    "start_time": "2023-07-26T05:02:37.882Z"
   },
   {
    "duration": 12,
    "start_time": "2023-07-26T05:02:38.884Z"
   },
   {
    "duration": 58,
    "start_time": "2023-07-26T05:02:40.588Z"
   },
   {
    "duration": 21,
    "start_time": "2023-07-26T05:02:41.105Z"
   },
   {
    "duration": 84,
    "start_time": "2023-07-26T05:02:42.322Z"
   },
   {
    "duration": 207,
    "start_time": "2023-07-26T05:02:43.827Z"
   },
   {
    "duration": 73,
    "start_time": "2023-07-26T05:02:44.210Z"
   },
   {
    "duration": 346,
    "start_time": "2023-07-26T05:02:45.738Z"
   },
   {
    "duration": 36,
    "start_time": "2023-07-26T05:02:46.718Z"
   },
   {
    "duration": 38,
    "start_time": "2023-07-26T05:02:50.473Z"
   },
   {
    "duration": 22,
    "start_time": "2023-07-26T05:02:55.421Z"
   },
   {
    "duration": 22,
    "start_time": "2023-07-26T05:02:56.015Z"
   },
   {
    "duration": 5,
    "start_time": "2023-07-26T05:03:13.848Z"
   },
   {
    "duration": 5,
    "start_time": "2023-07-26T05:03:14.092Z"
   },
   {
    "duration": 19,
    "start_time": "2023-07-26T05:03:15.717Z"
   },
   {
    "duration": 29,
    "start_time": "2023-07-26T05:03:16.132Z"
   },
   {
    "duration": 9,
    "start_time": "2023-07-26T05:03:17.756Z"
   },
   {
    "duration": 54,
    "start_time": "2023-07-26T05:03:20.333Z"
   },
   {
    "duration": 319,
    "start_time": "2023-07-26T05:03:23.228Z"
   },
   {
    "duration": 13,
    "start_time": "2023-07-26T05:03:23.634Z"
   },
   {
    "duration": 65,
    "start_time": "2023-07-26T05:03:24.087Z"
   },
   {
    "duration": 36,
    "start_time": "2023-07-26T05:03:25.008Z"
   },
   {
    "duration": 17,
    "start_time": "2023-07-26T05:03:25.903Z"
   },
   {
    "duration": 52,
    "start_time": "2023-07-26T05:03:27.326Z"
   },
   {
    "duration": 31,
    "start_time": "2023-07-26T05:03:35.381Z"
   },
   {
    "duration": 73,
    "start_time": "2023-07-26T05:03:36.870Z"
   },
   {
    "duration": 173,
    "start_time": "2023-07-26T05:03:45.414Z"
   },
   {
    "duration": 161,
    "start_time": "2023-07-26T05:03:45.677Z"
   },
   {
    "duration": 168,
    "start_time": "2023-07-26T05:03:46.589Z"
   },
   {
    "duration": 5,
    "start_time": "2023-07-26T05:03:46.962Z"
   },
   {
    "duration": 541,
    "start_time": "2023-07-26T05:03:47.282Z"
   },
   {
    "duration": 509,
    "start_time": "2023-07-26T05:03:58.632Z"
   },
   {
    "duration": 20,
    "start_time": "2023-07-26T05:04:01.073Z"
   },
   {
    "duration": 35,
    "start_time": "2023-07-26T05:04:01.458Z"
   },
   {
    "duration": 63,
    "start_time": "2023-07-26T05:04:08.660Z"
   },
   {
    "duration": 12,
    "start_time": "2023-07-26T05:04:12.451Z"
   },
   {
    "duration": 1366,
    "start_time": "2023-07-26T19:34:36.258Z"
   },
   {
    "duration": 503,
    "start_time": "2023-07-26T19:34:37.626Z"
   },
   {
    "duration": 29,
    "start_time": "2023-07-26T19:34:38.132Z"
   },
   {
    "duration": 33,
    "start_time": "2023-07-26T19:34:39.636Z"
   },
   {
    "duration": 2,
    "start_time": "2023-07-26T19:34:42.335Z"
   },
   {
    "duration": 157,
    "start_time": "2023-07-26T19:34:42.787Z"
   },
   {
    "duration": 8,
    "start_time": "2023-07-26T19:34:43.136Z"
   },
   {
    "duration": 30,
    "start_time": "2023-07-26T19:34:43.524Z"
   },
   {
    "duration": 17,
    "start_time": "2023-07-26T19:34:44.340Z"
   },
   {
    "duration": 18,
    "start_time": "2023-07-26T19:34:44.726Z"
   },
   {
    "duration": 12,
    "start_time": "2023-07-26T19:34:45.565Z"
   },
   {
    "duration": 9,
    "start_time": "2023-07-26T19:34:46.396Z"
   },
   {
    "duration": 48,
    "start_time": "2023-07-26T19:34:47.589Z"
   },
   {
    "duration": 19,
    "start_time": "2023-07-26T19:34:48.156Z"
   },
   {
    "duration": 398,
    "start_time": "2023-07-26T19:34:49.004Z"
   },
   {
    "duration": 181,
    "start_time": "2023-07-26T19:34:50.691Z"
   },
   {
    "duration": 63,
    "start_time": "2023-07-26T19:34:56.193Z"
   },
   {
    "duration": 278,
    "start_time": "2023-07-26T19:34:56.638Z"
   },
   {
    "duration": 28,
    "start_time": "2023-07-26T19:34:56.920Z"
   },
   {
    "duration": 29,
    "start_time": "2023-07-26T19:34:57.565Z"
   },
   {
    "duration": 18,
    "start_time": "2023-07-26T19:35:08.599Z"
   },
   {
    "duration": 18,
    "start_time": "2023-07-26T19:35:09.706Z"
   },
   {
    "duration": 15,
    "start_time": "2023-07-26T19:42:32.159Z"
   },
   {
    "duration": 24,
    "start_time": "2023-07-26T19:42:32.665Z"
   },
   {
    "duration": 22,
    "start_time": "2023-07-26T19:47:07.458Z"
   },
   {
    "duration": 154,
    "start_time": "2023-07-26T19:47:31.270Z"
   },
   {
    "duration": 12,
    "start_time": "2023-07-26T19:47:45.803Z"
   },
   {
    "duration": 13,
    "start_time": "2023-07-26T19:47:52.816Z"
   },
   {
    "duration": 29,
    "start_time": "2023-07-26T19:49:26.796Z"
   },
   {
    "duration": 9,
    "start_time": "2023-07-26T19:49:31.490Z"
   },
   {
    "duration": 31,
    "start_time": "2023-07-26T19:50:07.256Z"
   },
   {
    "duration": 13,
    "start_time": "2023-07-26T19:50:46.976Z"
   },
   {
    "duration": 43,
    "start_time": "2023-07-26T19:50:54.202Z"
   },
   {
    "duration": 38,
    "start_time": "2023-07-26T19:51:10.013Z"
   },
   {
    "duration": 66,
    "start_time": "2023-07-26T19:52:07.620Z"
   },
   {
    "duration": 56,
    "start_time": "2023-07-26T19:54:50.860Z"
   },
   {
    "duration": 172,
    "start_time": "2023-07-26T19:54:51.383Z"
   },
   {
    "duration": 146,
    "start_time": "2023-07-26T19:54:51.634Z"
   },
   {
    "duration": 145,
    "start_time": "2023-07-26T19:54:52.098Z"
   },
   {
    "duration": 4,
    "start_time": "2023-07-26T19:54:52.353Z"
   },
   {
    "duration": 418,
    "start_time": "2023-07-26T19:54:53.935Z"
   },
   {
    "duration": 427,
    "start_time": "2023-07-26T19:55:00.006Z"
   },
   {
    "duration": 28,
    "start_time": "2023-07-26T19:55:05.310Z"
   },
   {
    "duration": 33,
    "start_time": "2023-07-26T19:55:07.107Z"
   },
   {
    "duration": 34,
    "start_time": "2023-07-26T19:55:32.159Z"
   },
   {
    "duration": 51,
    "start_time": "2023-07-26T19:55:33.918Z"
   },
   {
    "duration": 9,
    "start_time": "2023-07-26T19:55:35.949Z"
   },
   {
    "duration": 13,
    "start_time": "2023-07-26T19:55:45.474Z"
   },
   {
    "duration": 1556,
    "start_time": "2023-07-26T19:56:22.556Z"
   },
   {
    "duration": 4,
    "start_time": "2023-07-26T19:57:12.899Z"
   },
   {
    "duration": 8,
    "start_time": "2023-07-26T19:57:17.151Z"
   },
   {
    "duration": 95,
    "start_time": "2023-07-26T19:57:25.801Z"
   },
   {
    "duration": 4,
    "start_time": "2023-07-26T19:57:26.439Z"
   },
   {
    "duration": 168,
    "start_time": "2023-07-26T19:57:27.235Z"
   },
   {
    "duration": 1954,
    "start_time": "2023-07-26T19:58:55.718Z"
   },
   {
    "duration": 4,
    "start_time": "2023-07-26T20:05:25.451Z"
   },
   {
    "duration": 137,
    "start_time": "2023-07-26T20:05:25.901Z"
   },
   {
    "duration": 21,
    "start_time": "2023-07-26T20:05:26.317Z"
   },
   {
    "duration": 44,
    "start_time": "2023-07-26T20:05:26.780Z"
   },
   {
    "duration": 3,
    "start_time": "2023-07-26T20:05:29.065Z"
   },
   {
    "duration": 178,
    "start_time": "2023-07-26T20:05:29.349Z"
   },
   {
    "duration": 9,
    "start_time": "2023-07-26T20:05:29.529Z"
   },
   {
    "duration": 44,
    "start_time": "2023-07-26T20:05:29.651Z"
   },
   {
    "duration": 23,
    "start_time": "2023-07-26T20:05:30.023Z"
   },
   {
    "duration": 20,
    "start_time": "2023-07-26T20:05:30.238Z"
   },
   {
    "duration": 8,
    "start_time": "2023-07-26T20:05:30.621Z"
   },
   {
    "duration": 11,
    "start_time": "2023-07-26T20:05:31.030Z"
   },
   {
    "duration": 47,
    "start_time": "2023-07-26T20:05:31.646Z"
   },
   {
    "duration": 18,
    "start_time": "2023-07-26T20:05:31.806Z"
   },
   {
    "duration": 69,
    "start_time": "2023-07-26T20:05:32.120Z"
   },
   {
    "duration": 152,
    "start_time": "2023-07-26T20:05:32.629Z"
   },
   {
    "duration": 54,
    "start_time": "2023-07-26T20:05:32.822Z"
   },
   {
    "duration": 236,
    "start_time": "2023-07-26T20:05:33.129Z"
   },
   {
    "duration": 31,
    "start_time": "2023-07-26T20:05:33.367Z"
   },
   {
    "duration": 32,
    "start_time": "2023-07-26T20:05:33.788Z"
   },
   {
    "duration": 21,
    "start_time": "2023-07-26T20:05:34.977Z"
   },
   {
    "duration": 21,
    "start_time": "2023-07-26T20:05:35.128Z"
   },
   {
    "duration": 29,
    "start_time": "2023-07-26T20:05:43.833Z"
   },
   {
    "duration": 26,
    "start_time": "2023-07-26T20:06:15.126Z"
   },
   {
    "duration": 4,
    "start_time": "2023-07-26T20:06:18.641Z"
   },
   {
    "duration": 4,
    "start_time": "2023-07-26T20:06:19.276Z"
   },
   {
    "duration": 5,
    "start_time": "2023-07-26T20:06:37.963Z"
   },
   {
    "duration": 5,
    "start_time": "2023-07-26T20:06:38.403Z"
   },
   {
    "duration": 15,
    "start_time": "2023-07-26T20:06:40.244Z"
   },
   {
    "duration": 26,
    "start_time": "2023-07-26T20:06:40.746Z"
   },
   {
    "duration": 8,
    "start_time": "2023-07-26T20:06:44.646Z"
   },
   {
    "duration": 40,
    "start_time": "2023-07-26T20:06:47.366Z"
   },
   {
    "duration": 294,
    "start_time": "2023-07-26T20:06:49.828Z"
   },
   {
    "duration": 10,
    "start_time": "2023-07-26T20:06:50.960Z"
   },
   {
    "duration": 41,
    "start_time": "2023-07-26T20:07:07.596Z"
   },
   {
    "duration": 29,
    "start_time": "2023-07-26T20:07:08.718Z"
   },
   {
    "duration": 15,
    "start_time": "2023-07-26T20:07:09.895Z"
   },
   {
    "duration": 53,
    "start_time": "2023-07-26T20:07:13.154Z"
   },
   {
    "duration": 19,
    "start_time": "2023-07-26T20:07:16.103Z"
   },
   {
    "duration": 64,
    "start_time": "2023-07-26T20:07:23.926Z"
   },
   {
    "duration": 137,
    "start_time": "2023-07-26T20:07:24.379Z"
   },
   {
    "duration": 134,
    "start_time": "2023-07-26T20:07:24.855Z"
   },
   {
    "duration": 146,
    "start_time": "2023-07-26T20:07:25.874Z"
   },
   {
    "duration": 5,
    "start_time": "2023-07-26T20:07:26.351Z"
   },
   {
    "duration": 397,
    "start_time": "2023-07-26T20:07:27.036Z"
   },
   {
    "duration": 457,
    "start_time": "2023-07-26T20:07:29.082Z"
   },
   {
    "duration": 29,
    "start_time": "2023-07-26T20:07:33.861Z"
   },
   {
    "duration": 26,
    "start_time": "2023-07-26T20:07:35.531Z"
   },
   {
    "duration": 21,
    "start_time": "2023-07-26T20:08:02.577Z"
   },
   {
    "duration": 29,
    "start_time": "2023-07-26T20:08:03.617Z"
   },
   {
    "duration": 57,
    "start_time": "2023-07-26T20:08:06.946Z"
   },
   {
    "duration": 10,
    "start_time": "2023-07-26T20:08:08.723Z"
   },
   {
    "duration": 114,
    "start_time": "2023-07-26T20:13:05.462Z"
   },
   {
    "duration": 6,
    "start_time": "2023-07-26T20:13:06.985Z"
   },
   {
    "duration": 16,
    "start_time": "2023-07-26T20:13:07.634Z"
   },
   {
    "duration": 1466,
    "start_time": "2023-07-26T20:13:23.426Z"
   },
   {
    "duration": 5,
    "start_time": "2023-07-26T20:14:08.402Z"
   },
   {
    "duration": 140,
    "start_time": "2023-07-26T20:14:08.618Z"
   },
   {
    "duration": 18,
    "start_time": "2023-07-26T20:14:09.080Z"
   },
   {
    "duration": 35,
    "start_time": "2023-07-26T20:14:09.425Z"
   },
   {
    "duration": 3,
    "start_time": "2023-07-26T20:14:10.488Z"
   },
   {
    "duration": 162,
    "start_time": "2023-07-26T20:14:10.555Z"
   },
   {
    "duration": 14,
    "start_time": "2023-07-26T20:14:10.719Z"
   },
   {
    "duration": 41,
    "start_time": "2023-07-26T20:14:10.882Z"
   },
   {
    "duration": 27,
    "start_time": "2023-07-26T20:14:11.238Z"
   },
   {
    "duration": 21,
    "start_time": "2023-07-26T20:14:11.521Z"
   },
   {
    "duration": 8,
    "start_time": "2023-07-26T20:14:11.905Z"
   },
   {
    "duration": 13,
    "start_time": "2023-07-26T20:14:12.323Z"
   },
   {
    "duration": 56,
    "start_time": "2023-07-26T20:14:12.964Z"
   },
   {
    "duration": 33,
    "start_time": "2023-07-26T20:14:13.146Z"
   },
   {
    "duration": 61,
    "start_time": "2023-07-26T20:14:13.623Z"
   },
   {
    "duration": 136,
    "start_time": "2023-07-26T20:14:14.476Z"
   },
   {
    "duration": 66,
    "start_time": "2023-07-26T20:14:14.750Z"
   },
   {
    "duration": 286,
    "start_time": "2023-07-26T20:14:15.227Z"
   },
   {
    "duration": 32,
    "start_time": "2023-07-26T20:14:15.515Z"
   },
   {
    "duration": 29,
    "start_time": "2023-07-26T20:14:15.938Z"
   },
   {
    "duration": 19,
    "start_time": "2023-07-26T20:14:17.118Z"
   },
   {
    "duration": 21,
    "start_time": "2023-07-26T20:14:17.263Z"
   },
   {
    "duration": 4,
    "start_time": "2023-07-26T20:14:18.255Z"
   },
   {
    "duration": 4,
    "start_time": "2023-07-26T20:14:18.415Z"
   },
   {
    "duration": 15,
    "start_time": "2023-07-26T20:14:18.930Z"
   },
   {
    "duration": 23,
    "start_time": "2023-07-26T20:14:19.088Z"
   },
   {
    "duration": 5,
    "start_time": "2023-07-26T20:14:20.189Z"
   },
   {
    "duration": 37,
    "start_time": "2023-07-26T20:14:20.601Z"
   },
   {
    "duration": 165,
    "start_time": "2023-07-26T20:14:21.005Z"
   },
   {
    "duration": 11,
    "start_time": "2023-07-26T20:14:22.437Z"
   },
   {
    "duration": 42,
    "start_time": "2023-07-26T20:14:22.749Z"
   },
   {
    "duration": 32,
    "start_time": "2023-07-26T20:14:23.072Z"
   },
   {
    "duration": 15,
    "start_time": "2023-07-26T20:14:23.398Z"
   },
   {
    "duration": 42,
    "start_time": "2023-07-26T20:14:24.299Z"
   },
   {
    "duration": 19,
    "start_time": "2023-07-26T20:14:25.747Z"
   },
   {
    "duration": 57,
    "start_time": "2023-07-26T20:14:26.690Z"
   },
   {
    "duration": 154,
    "start_time": "2023-07-26T20:14:27.149Z"
   },
   {
    "duration": 130,
    "start_time": "2023-07-26T20:14:27.787Z"
   },
   {
    "duration": 223,
    "start_time": "2023-07-26T20:14:28.001Z"
   },
   {
    "duration": 5,
    "start_time": "2023-07-26T20:14:28.298Z"
   },
   {
    "duration": 417,
    "start_time": "2023-07-26T20:14:28.486Z"
   },
   {
    "duration": 444,
    "start_time": "2023-07-26T20:14:30.449Z"
   },
   {
    "duration": 17,
    "start_time": "2023-07-26T20:14:32.280Z"
   },
   {
    "duration": 30,
    "start_time": "2023-07-26T20:14:32.885Z"
   },
   {
    "duration": 47,
    "start_time": "2023-07-26T20:14:34.588Z"
   },
   {
    "duration": 9,
    "start_time": "2023-07-26T20:14:38.980Z"
   },
   {
    "duration": 4,
    "start_time": "2023-07-26T20:15:01.355Z"
   },
   {
    "duration": 10,
    "start_time": "2023-07-26T20:15:03.035Z"
   },
   {
    "duration": 92,
    "start_time": "2023-07-26T20:15:07.908Z"
   },
   {
    "duration": 4,
    "start_time": "2023-07-26T20:15:08.421Z"
   },
   {
    "duration": 10,
    "start_time": "2023-07-26T20:16:55.260Z"
   },
   {
    "duration": 1707,
    "start_time": "2023-07-26T20:20:44.105Z"
   },
   {
    "duration": 126,
    "start_time": "2023-07-26T20:20:59.037Z"
   },
   {
    "duration": 14,
    "start_time": "2023-07-26T20:22:21.216Z"
   },
   {
    "duration": 6,
    "start_time": "2023-07-26T20:22:33.149Z"
   },
   {
    "duration": 41,
    "start_time": "2023-07-26T20:23:22.049Z"
   },
   {
    "duration": 39,
    "start_time": "2023-07-26T20:23:23.076Z"
   },
   {
    "duration": 97,
    "start_time": "2023-07-26T20:23:24.164Z"
   },
   {
    "duration": 18,
    "start_time": "2023-07-26T20:23:24.902Z"
   },
   {
    "duration": 9,
    "start_time": "2023-07-26T20:23:26.393Z"
   },
   {
    "duration": 8,
    "start_time": "2023-07-26T20:23:28.409Z"
   },
   {
    "duration": 10,
    "start_time": "2023-07-26T20:23:28.799Z"
   },
   {
    "duration": 1356,
    "start_time": "2023-07-27T05:56:31.521Z"
   },
   {
    "duration": 473,
    "start_time": "2023-07-27T05:56:32.878Z"
   },
   {
    "duration": 17,
    "start_time": "2023-07-27T05:56:33.353Z"
   },
   {
    "duration": 43,
    "start_time": "2023-07-27T05:56:33.371Z"
   },
   {
    "duration": 2,
    "start_time": "2023-07-27T05:56:33.416Z"
   },
   {
    "duration": 200,
    "start_time": "2023-07-27T05:56:33.419Z"
   },
   {
    "duration": 10,
    "start_time": "2023-07-27T05:56:33.620Z"
   },
   {
    "duration": 53,
    "start_time": "2023-07-27T05:56:33.631Z"
   },
   {
    "duration": 22,
    "start_time": "2023-07-27T05:56:33.685Z"
   },
   {
    "duration": 27,
    "start_time": "2023-07-27T05:56:33.710Z"
   },
   {
    "duration": 22,
    "start_time": "2023-07-27T05:56:33.738Z"
   },
   {
    "duration": 10,
    "start_time": "2023-07-27T05:56:33.761Z"
   },
   {
    "duration": 54,
    "start_time": "2023-07-27T05:56:33.772Z"
   },
   {
    "duration": 17,
    "start_time": "2023-07-27T05:56:33.828Z"
   },
   {
    "duration": 82,
    "start_time": "2023-07-27T05:56:33.846Z"
   },
   {
    "duration": 169,
    "start_time": "2023-07-27T05:56:33.930Z"
   },
   {
    "duration": 63,
    "start_time": "2023-07-27T05:56:34.101Z"
   },
   {
    "duration": 266,
    "start_time": "2023-07-27T05:56:34.166Z"
   },
   {
    "duration": 29,
    "start_time": "2023-07-27T05:56:34.434Z"
   },
   {
    "duration": 28,
    "start_time": "2023-07-27T05:56:34.464Z"
   },
   {
    "duration": 33,
    "start_time": "2023-07-27T05:56:34.494Z"
   },
   {
    "duration": 28,
    "start_time": "2023-07-27T05:56:34.528Z"
   },
   {
    "duration": 27,
    "start_time": "2023-07-27T05:56:34.558Z"
   },
   {
    "duration": 31,
    "start_time": "2023-07-27T05:56:34.586Z"
   },
   {
    "duration": 43,
    "start_time": "2023-07-27T05:56:34.618Z"
   },
   {
    "duration": 45,
    "start_time": "2023-07-27T05:56:34.663Z"
   },
   {
    "duration": 22,
    "start_time": "2023-07-27T05:56:34.710Z"
   },
   {
    "duration": 59,
    "start_time": "2023-07-27T05:56:34.735Z"
   },
   {
    "duration": 248,
    "start_time": "2023-07-27T05:56:34.796Z"
   },
   {
    "duration": 10,
    "start_time": "2023-07-27T05:56:35.046Z"
   },
   {
    "duration": 74,
    "start_time": "2023-07-27T05:56:35.057Z"
   },
   {
    "duration": 39,
    "start_time": "2023-07-27T05:56:35.132Z"
   },
   {
    "duration": 30,
    "start_time": "2023-07-27T05:56:35.173Z"
   },
   {
    "duration": 70,
    "start_time": "2023-07-27T05:56:35.205Z"
   },
   {
    "duration": 28,
    "start_time": "2023-07-27T05:56:35.277Z"
   },
   {
    "duration": 89,
    "start_time": "2023-07-27T05:56:35.306Z"
   },
   {
    "duration": 147,
    "start_time": "2023-07-27T05:56:35.397Z"
   },
   {
    "duration": 147,
    "start_time": "2023-07-27T05:56:35.546Z"
   },
   {
    "duration": 146,
    "start_time": "2023-07-27T05:56:35.695Z"
   },
   {
    "duration": 4,
    "start_time": "2023-07-27T05:56:35.843Z"
   },
   {
    "duration": 510,
    "start_time": "2023-07-27T05:56:35.848Z"
   },
   {
    "duration": 481,
    "start_time": "2023-07-27T05:56:36.360Z"
   },
   {
    "duration": 17,
    "start_time": "2023-07-27T05:56:36.842Z"
   },
   {
    "duration": 30,
    "start_time": "2023-07-27T05:56:36.860Z"
   },
   {
    "duration": 66,
    "start_time": "2023-07-27T05:56:36.891Z"
   },
   {
    "duration": 8,
    "start_time": "2023-07-27T05:56:36.959Z"
   },
   {
    "duration": 20,
    "start_time": "2023-07-27T05:56:36.968Z"
   },
   {
    "duration": 4,
    "start_time": "2023-07-27T05:56:36.989Z"
   },
   {
    "duration": 211,
    "start_time": "2023-07-27T05:56:36.995Z"
   },
   {
    "duration": 15,
    "start_time": "2023-07-27T05:56:37.208Z"
   },
   {
    "duration": 60,
    "start_time": "2023-07-27T05:56:37.225Z"
   },
   {
    "duration": 64,
    "start_time": "2023-07-27T05:56:37.287Z"
   },
   {
    "duration": 122,
    "start_time": "2023-07-27T05:56:37.352Z"
   },
   {
    "duration": 18,
    "start_time": "2023-07-27T05:56:37.476Z"
   },
   {
    "duration": 26,
    "start_time": "2023-07-27T05:56:37.495Z"
   },
   {
    "duration": 17,
    "start_time": "2023-07-27T05:56:37.523Z"
   },
   {
    "duration": 9,
    "start_time": "2023-07-27T05:56:37.542Z"
   },
   {
    "duration": 1256,
    "start_time": "2023-07-27T05:57:19.191Z"
   },
   {
    "duration": 153,
    "start_time": "2023-07-27T05:57:20.449Z"
   },
   {
    "duration": 21,
    "start_time": "2023-07-27T05:57:20.603Z"
   },
   {
    "duration": 42,
    "start_time": "2023-07-27T05:57:20.626Z"
   },
   {
    "duration": 3,
    "start_time": "2023-07-27T05:57:20.671Z"
   },
   {
    "duration": 189,
    "start_time": "2023-07-27T05:57:20.676Z"
   },
   {
    "duration": 9,
    "start_time": "2023-07-27T05:57:20.867Z"
   },
   {
    "duration": 27,
    "start_time": "2023-07-27T05:57:20.878Z"
   },
   {
    "duration": 29,
    "start_time": "2023-07-27T05:57:20.907Z"
   },
   {
    "duration": 19,
    "start_time": "2023-07-27T05:57:20.938Z"
   },
   {
    "duration": 15,
    "start_time": "2023-07-27T05:57:20.959Z"
   },
   {
    "duration": 22,
    "start_time": "2023-07-27T05:57:20.976Z"
   },
   {
    "duration": 64,
    "start_time": "2023-07-27T05:57:21.000Z"
   },
   {
    "duration": 18,
    "start_time": "2023-07-27T05:57:21.068Z"
   },
   {
    "duration": 90,
    "start_time": "2023-07-27T05:57:21.088Z"
   },
   {
    "duration": 195,
    "start_time": "2023-07-27T05:57:21.179Z"
   },
   {
    "duration": 76,
    "start_time": "2023-07-27T05:57:21.376Z"
   },
   {
    "duration": 275,
    "start_time": "2023-07-27T05:57:21.453Z"
   },
   {
    "duration": 30,
    "start_time": "2023-07-27T05:57:21.730Z"
   },
   {
    "duration": 29,
    "start_time": "2023-07-27T05:57:21.761Z"
   },
   {
    "duration": 40,
    "start_time": "2023-07-27T05:57:21.792Z"
   },
   {
    "duration": 19,
    "start_time": "2023-07-27T05:57:21.834Z"
   },
   {
    "duration": 9,
    "start_time": "2023-07-27T05:57:21.854Z"
   },
   {
    "duration": 20,
    "start_time": "2023-07-27T05:57:21.864Z"
   },
   {
    "duration": 22,
    "start_time": "2023-07-27T05:57:21.886Z"
   },
   {
    "duration": 24,
    "start_time": "2023-07-27T05:57:21.909Z"
   },
   {
    "duration": 12,
    "start_time": "2023-07-27T05:57:21.934Z"
   },
   {
    "duration": 49,
    "start_time": "2023-07-27T05:57:21.947Z"
   },
   {
    "duration": 247,
    "start_time": "2023-07-27T05:57:21.997Z"
   },
   {
    "duration": 10,
    "start_time": "2023-07-27T05:57:22.245Z"
   },
   {
    "duration": 65,
    "start_time": "2023-07-27T05:57:22.256Z"
   },
   {
    "duration": 29,
    "start_time": "2023-07-27T05:57:22.322Z"
   },
   {
    "duration": 13,
    "start_time": "2023-07-27T05:57:22.353Z"
   },
   {
    "duration": 60,
    "start_time": "2023-07-27T05:57:22.367Z"
   },
   {
    "duration": 19,
    "start_time": "2023-07-27T05:57:22.429Z"
   },
   {
    "duration": 73,
    "start_time": "2023-07-27T05:57:22.449Z"
   },
   {
    "duration": 147,
    "start_time": "2023-07-27T05:57:22.523Z"
   },
   {
    "duration": 144,
    "start_time": "2023-07-27T05:57:22.672Z"
   },
   {
    "duration": 144,
    "start_time": "2023-07-27T05:57:22.820Z"
   },
   {
    "duration": 4,
    "start_time": "2023-07-27T05:57:22.965Z"
   },
   {
    "duration": 439,
    "start_time": "2023-07-27T05:57:22.972Z"
   },
   {
    "duration": 440,
    "start_time": "2023-07-27T05:57:23.412Z"
   },
   {
    "duration": 17,
    "start_time": "2023-07-27T05:57:23.854Z"
   },
   {
    "duration": 92,
    "start_time": "2023-07-27T05:57:23.872Z"
   },
   {
    "duration": 72,
    "start_time": "2023-07-27T05:57:23.966Z"
   },
   {
    "duration": 8,
    "start_time": "2023-07-27T05:57:24.039Z"
   },
   {
    "duration": 18,
    "start_time": "2023-07-27T05:57:24.048Z"
   },
   {
    "duration": 7,
    "start_time": "2023-07-27T05:57:24.067Z"
   },
   {
    "duration": 203,
    "start_time": "2023-07-27T05:57:24.075Z"
   },
   {
    "duration": 5,
    "start_time": "2023-07-27T05:57:24.279Z"
   },
   {
    "duration": 65,
    "start_time": "2023-07-27T05:57:24.286Z"
   },
   {
    "duration": 37,
    "start_time": "2023-07-27T05:57:24.353Z"
   },
   {
    "duration": 124,
    "start_time": "2023-07-27T05:57:24.392Z"
   },
   {
    "duration": 19,
    "start_time": "2023-07-27T05:57:24.520Z"
   },
   {
    "duration": 16,
    "start_time": "2023-07-27T05:57:24.540Z"
   },
   {
    "duration": 14,
    "start_time": "2023-07-27T05:57:24.558Z"
   },
   {
    "duration": 14,
    "start_time": "2023-07-27T05:57:24.573Z"
   },
   {
    "duration": 1217,
    "start_time": "2023-07-27T05:58:07.008Z"
   },
   {
    "duration": 146,
    "start_time": "2023-07-27T05:58:08.227Z"
   },
   {
    "duration": 17,
    "start_time": "2023-07-27T05:58:08.374Z"
   },
   {
    "duration": 41,
    "start_time": "2023-07-27T05:58:08.392Z"
   },
   {
    "duration": 2,
    "start_time": "2023-07-27T05:58:08.435Z"
   },
   {
    "duration": 182,
    "start_time": "2023-07-27T05:58:08.438Z"
   },
   {
    "duration": 9,
    "start_time": "2023-07-27T05:58:08.621Z"
   },
   {
    "duration": 27,
    "start_time": "2023-07-27T05:58:08.631Z"
   },
   {
    "duration": 19,
    "start_time": "2023-07-27T05:58:08.659Z"
   },
   {
    "duration": 19,
    "start_time": "2023-07-27T05:58:08.681Z"
   },
   {
    "duration": 10,
    "start_time": "2023-07-27T05:58:08.720Z"
   },
   {
    "duration": 10,
    "start_time": "2023-07-27T05:58:08.731Z"
   },
   {
    "duration": 50,
    "start_time": "2023-07-27T05:58:08.743Z"
   },
   {
    "duration": 40,
    "start_time": "2023-07-27T05:58:08.794Z"
   },
   {
    "duration": 82,
    "start_time": "2023-07-27T05:58:08.835Z"
   },
   {
    "duration": 171,
    "start_time": "2023-07-27T05:58:08.918Z"
   },
   {
    "duration": 79,
    "start_time": "2023-07-27T05:58:09.091Z"
   },
   {
    "duration": 302,
    "start_time": "2023-07-27T05:58:09.172Z"
   },
   {
    "duration": 32,
    "start_time": "2023-07-27T05:58:09.476Z"
   },
   {
    "duration": 30,
    "start_time": "2023-07-27T05:58:09.520Z"
   },
   {
    "duration": 20,
    "start_time": "2023-07-27T05:58:09.551Z"
   },
   {
    "duration": 28,
    "start_time": "2023-07-27T05:58:09.572Z"
   },
   {
    "duration": 353,
    "start_time": "2023-07-27T05:58:09.602Z"
   },
   {
    "duration": 4,
    "start_time": "2023-07-27T05:58:09.957Z"
   },
   {
    "duration": 17,
    "start_time": "2023-07-27T05:58:09.962Z"
   },
   {
    "duration": 43,
    "start_time": "2023-07-27T05:58:09.980Z"
   },
   {
    "duration": 24,
    "start_time": "2023-07-27T05:58:10.025Z"
   },
   {
    "duration": 6,
    "start_time": "2023-07-27T05:58:10.053Z"
   },
   {
    "duration": 90,
    "start_time": "2023-07-27T05:58:10.060Z"
   },
   {
    "duration": 256,
    "start_time": "2023-07-27T05:58:10.151Z"
   },
   {
    "duration": 13,
    "start_time": "2023-07-27T05:58:10.408Z"
   },
   {
    "duration": 52,
    "start_time": "2023-07-27T05:58:10.422Z"
   },
   {
    "duration": 48,
    "start_time": "2023-07-27T05:58:10.476Z"
   },
   {
    "duration": 15,
    "start_time": "2023-07-27T05:58:10.525Z"
   },
   {
    "duration": 43,
    "start_time": "2023-07-27T05:58:10.541Z"
   },
   {
    "duration": 37,
    "start_time": "2023-07-27T05:58:10.586Z"
   },
   {
    "duration": 64,
    "start_time": "2023-07-27T05:58:10.626Z"
   },
   {
    "duration": 162,
    "start_time": "2023-07-27T05:58:10.691Z"
   },
   {
    "duration": 145,
    "start_time": "2023-07-27T05:58:10.854Z"
   },
   {
    "duration": 144,
    "start_time": "2023-07-27T05:58:11.000Z"
   },
   {
    "duration": 4,
    "start_time": "2023-07-27T05:58:11.145Z"
   },
   {
    "duration": 400,
    "start_time": "2023-07-27T05:58:11.151Z"
   },
   {
    "duration": 487,
    "start_time": "2023-07-27T05:58:11.553Z"
   },
   {
    "duration": 19,
    "start_time": "2023-07-27T05:58:12.042Z"
   },
   {
    "duration": 24,
    "start_time": "2023-07-27T05:58:12.062Z"
   },
   {
    "duration": 69,
    "start_time": "2023-07-27T05:58:12.088Z"
   },
   {
    "duration": 8,
    "start_time": "2023-07-27T05:58:12.159Z"
   },
   {
    "duration": 19,
    "start_time": "2023-07-27T05:58:12.168Z"
   },
   {
    "duration": 4,
    "start_time": "2023-07-27T05:58:12.189Z"
   },
   {
    "duration": 146,
    "start_time": "2023-07-27T05:58:12.194Z"
   },
   {
    "duration": 6,
    "start_time": "2023-07-27T05:58:12.342Z"
   },
   {
    "duration": 45,
    "start_time": "2023-07-27T05:58:12.349Z"
   },
   {
    "duration": 53,
    "start_time": "2023-07-27T05:58:12.396Z"
   },
   {
    "duration": 125,
    "start_time": "2023-07-27T05:58:12.450Z"
   },
   {
    "duration": 18,
    "start_time": "2023-07-27T05:58:12.577Z"
   },
   {
    "duration": 23,
    "start_time": "2023-07-27T05:58:12.597Z"
   },
   {
    "duration": 7,
    "start_time": "2023-07-27T05:58:12.622Z"
   },
   {
    "duration": 18,
    "start_time": "2023-07-27T05:58:12.630Z"
   },
   {
    "duration": 1225,
    "start_time": "2023-07-27T05:59:03.891Z"
   },
   {
    "duration": 184,
    "start_time": "2023-07-27T05:59:05.119Z"
   },
   {
    "duration": 20,
    "start_time": "2023-07-27T05:59:05.304Z"
   },
   {
    "duration": 58,
    "start_time": "2023-07-27T05:59:05.326Z"
   },
   {
    "duration": 6,
    "start_time": "2023-07-27T05:59:05.386Z"
   },
   {
    "duration": 193,
    "start_time": "2023-07-27T05:59:05.394Z"
   },
   {
    "duration": 8,
    "start_time": "2023-07-27T05:59:05.589Z"
   },
   {
    "duration": 58,
    "start_time": "2023-07-27T05:59:05.598Z"
   },
   {
    "duration": 32,
    "start_time": "2023-07-27T05:59:05.658Z"
   },
   {
    "duration": 41,
    "start_time": "2023-07-27T05:59:05.691Z"
   },
   {
    "duration": 38,
    "start_time": "2023-07-27T05:59:05.734Z"
   },
   {
    "duration": 32,
    "start_time": "2023-07-27T05:59:05.773Z"
   },
   {
    "duration": 91,
    "start_time": "2023-07-27T05:59:05.806Z"
   },
   {
    "duration": 19,
    "start_time": "2023-07-27T05:59:05.899Z"
   },
   {
    "duration": 135,
    "start_time": "2023-07-27T05:59:05.919Z"
   },
   {
    "duration": 194,
    "start_time": "2023-07-27T05:59:06.056Z"
   },
   {
    "duration": 81,
    "start_time": "2023-07-27T05:59:06.252Z"
   },
   {
    "duration": 305,
    "start_time": "2023-07-27T05:59:06.334Z"
   },
   {
    "duration": 34,
    "start_time": "2023-07-27T05:59:06.640Z"
   },
   {
    "duration": 46,
    "start_time": "2023-07-27T05:59:06.675Z"
   },
   {
    "duration": 21,
    "start_time": "2023-07-27T05:59:06.722Z"
   },
   {
    "duration": 19,
    "start_time": "2023-07-27T05:59:06.745Z"
   },
   {
    "duration": 369,
    "start_time": "2023-07-27T05:59:06.766Z"
   },
   {
    "duration": 4,
    "start_time": "2023-07-27T05:59:07.136Z"
   },
   {
    "duration": 31,
    "start_time": "2023-07-27T05:59:07.141Z"
   },
   {
    "duration": 61,
    "start_time": "2023-07-27T05:59:07.173Z"
   },
   {
    "duration": 24,
    "start_time": "2023-07-27T05:59:07.235Z"
   },
   {
    "duration": 6,
    "start_time": "2023-07-27T05:59:07.260Z"
   },
   {
    "duration": 81,
    "start_time": "2023-07-27T05:59:07.268Z"
   },
   {
    "duration": 257,
    "start_time": "2023-07-27T05:59:07.351Z"
   },
   {
    "duration": 17,
    "start_time": "2023-07-27T05:59:07.610Z"
   },
   {
    "duration": 50,
    "start_time": "2023-07-27T05:59:07.628Z"
   },
   {
    "duration": 44,
    "start_time": "2023-07-27T05:59:07.680Z"
   },
   {
    "duration": 13,
    "start_time": "2023-07-27T05:59:07.725Z"
   },
   {
    "duration": 41,
    "start_time": "2023-07-27T05:59:07.739Z"
   },
   {
    "duration": 19,
    "start_time": "2023-07-27T05:59:07.781Z"
   },
   {
    "duration": 58,
    "start_time": "2023-07-27T05:59:07.819Z"
   },
   {
    "duration": 154,
    "start_time": "2023-07-27T05:59:07.879Z"
   },
   {
    "duration": 151,
    "start_time": "2023-07-27T05:59:08.034Z"
   },
   {
    "duration": 146,
    "start_time": "2023-07-27T05:59:08.186Z"
   },
   {
    "duration": 4,
    "start_time": "2023-07-27T05:59:08.335Z"
   },
   {
    "duration": 410,
    "start_time": "2023-07-27T05:59:08.341Z"
   },
   {
    "duration": 483,
    "start_time": "2023-07-27T05:59:08.752Z"
   },
   {
    "duration": 17,
    "start_time": "2023-07-27T05:59:09.237Z"
   },
   {
    "duration": 173,
    "start_time": "2023-07-27T05:59:09.256Z"
   },
   {
    "duration": 114,
    "start_time": "2023-07-27T05:59:09.431Z"
   },
   {
    "duration": 8,
    "start_time": "2023-07-27T05:59:09.547Z"
   },
   {
    "duration": 18,
    "start_time": "2023-07-27T05:59:09.556Z"
   },
   {
    "duration": 1137,
    "start_time": "2023-07-27T05:59:42.238Z"
   },
   {
    "duration": 147,
    "start_time": "2023-07-27T05:59:43.377Z"
   },
   {
    "duration": 17,
    "start_time": "2023-07-27T05:59:43.526Z"
   },
   {
    "duration": 36,
    "start_time": "2023-07-27T05:59:43.544Z"
   },
   {
    "duration": 2,
    "start_time": "2023-07-27T05:59:43.582Z"
   },
   {
    "duration": 191,
    "start_time": "2023-07-27T05:59:43.586Z"
   },
   {
    "duration": 9,
    "start_time": "2023-07-27T05:59:43.778Z"
   },
   {
    "duration": 34,
    "start_time": "2023-07-27T05:59:43.788Z"
   },
   {
    "duration": 18,
    "start_time": "2023-07-27T05:59:43.823Z"
   },
   {
    "duration": 19,
    "start_time": "2023-07-27T05:59:43.842Z"
   },
   {
    "duration": 11,
    "start_time": "2023-07-27T05:59:43.863Z"
   },
   {
    "duration": 9,
    "start_time": "2023-07-27T05:59:43.876Z"
   },
   {
    "duration": 73,
    "start_time": "2023-07-27T05:59:43.886Z"
   },
   {
    "duration": 17,
    "start_time": "2023-07-27T05:59:43.961Z"
   },
   {
    "duration": 87,
    "start_time": "2023-07-27T05:59:43.980Z"
   },
   {
    "duration": 177,
    "start_time": "2023-07-27T05:59:44.068Z"
   },
   {
    "duration": 63,
    "start_time": "2023-07-27T05:59:44.247Z"
   },
   {
    "duration": 268,
    "start_time": "2023-07-27T05:59:44.319Z"
   },
   {
    "duration": 36,
    "start_time": "2023-07-27T05:59:44.588Z"
   },
   {
    "duration": 28,
    "start_time": "2023-07-27T05:59:44.626Z"
   },
   {
    "duration": 20,
    "start_time": "2023-07-27T05:59:44.656Z"
   },
   {
    "duration": 21,
    "start_time": "2023-07-27T05:59:44.678Z"
   },
   {
    "duration": 410,
    "start_time": "2023-07-27T05:59:44.720Z"
   },
   {
    "duration": 4,
    "start_time": "2023-07-27T05:59:45.132Z"
   },
   {
    "duration": 6,
    "start_time": "2023-07-27T05:59:45.138Z"
   },
   {
    "duration": 18,
    "start_time": "2023-07-27T05:59:45.145Z"
   },
   {
    "duration": 86,
    "start_time": "2023-07-27T05:59:45.165Z"
   },
   {
    "duration": 8,
    "start_time": "2023-07-27T05:59:45.253Z"
   },
   {
    "duration": 97,
    "start_time": "2023-07-27T05:59:45.263Z"
   },
   {
    "duration": 282,
    "start_time": "2023-07-27T05:59:45.361Z"
   },
   {
    "duration": 10,
    "start_time": "2023-07-27T05:59:45.644Z"
   },
   {
    "duration": 132,
    "start_time": "2023-07-27T05:59:45.655Z"
   },
   {
    "duration": 31,
    "start_time": "2023-07-27T05:59:45.789Z"
   },
   {
    "duration": 13,
    "start_time": "2023-07-27T05:59:45.822Z"
   },
   {
    "duration": 43,
    "start_time": "2023-07-27T05:59:45.837Z"
   },
   {
    "duration": 19,
    "start_time": "2023-07-27T05:59:45.882Z"
   },
   {
    "duration": 63,
    "start_time": "2023-07-27T05:59:45.920Z"
   },
   {
    "duration": 161,
    "start_time": "2023-07-27T05:59:45.985Z"
   },
   {
    "duration": 142,
    "start_time": "2023-07-27T05:59:46.148Z"
   },
   {
    "duration": 150,
    "start_time": "2023-07-27T05:59:46.292Z"
   },
   {
    "duration": 4,
    "start_time": "2023-07-27T05:59:46.445Z"
   },
   {
    "duration": 446,
    "start_time": "2023-07-27T05:59:46.450Z"
   },
   {
    "duration": 532,
    "start_time": "2023-07-27T05:59:46.898Z"
   },
   {
    "duration": 18,
    "start_time": "2023-07-27T05:59:47.432Z"
   },
   {
    "duration": 24,
    "start_time": "2023-07-27T05:59:47.452Z"
   },
   {
    "duration": 71,
    "start_time": "2023-07-27T05:59:47.477Z"
   },
   {
    "duration": 8,
    "start_time": "2023-07-27T05:59:47.549Z"
   },
   {
    "duration": 2117,
    "start_time": "2023-07-27T05:59:47.559Z"
   },
   {
    "duration": 0,
    "start_time": "2023-07-27T05:59:49.678Z"
   },
   {
    "duration": 0,
    "start_time": "2023-07-27T05:59:49.679Z"
   },
   {
    "duration": 1,
    "start_time": "2023-07-27T05:59:49.680Z"
   },
   {
    "duration": 0,
    "start_time": "2023-07-27T05:59:49.682Z"
   },
   {
    "duration": 0,
    "start_time": "2023-07-27T05:59:49.683Z"
   },
   {
    "duration": 0,
    "start_time": "2023-07-27T05:59:49.685Z"
   },
   {
    "duration": 0,
    "start_time": "2023-07-27T05:59:49.686Z"
   },
   {
    "duration": 0,
    "start_time": "2023-07-27T05:59:49.688Z"
   },
   {
    "duration": 0,
    "start_time": "2023-07-27T05:59:49.689Z"
   },
   {
    "duration": 0,
    "start_time": "2023-07-27T05:59:49.691Z"
   },
   {
    "duration": 0,
    "start_time": "2023-07-27T05:59:49.692Z"
   },
   {
    "duration": 0,
    "start_time": "2023-07-27T05:59:49.693Z"
   },
   {
    "duration": 0,
    "start_time": "2023-07-27T05:59:49.694Z"
   },
   {
    "duration": 0,
    "start_time": "2023-07-27T05:59:49.696Z"
   },
   {
    "duration": 806,
    "start_time": "2023-07-27T06:00:05.701Z"
   },
   {
    "duration": 1134,
    "start_time": "2023-07-27T06:34:12.462Z"
   },
   {
    "duration": 148,
    "start_time": "2023-07-27T06:34:13.598Z"
   },
   {
    "duration": 18,
    "start_time": "2023-07-27T06:34:13.748Z"
   },
   {
    "duration": 35,
    "start_time": "2023-07-27T06:34:13.768Z"
   },
   {
    "duration": 3,
    "start_time": "2023-07-27T06:34:13.822Z"
   },
   {
    "duration": 188,
    "start_time": "2023-07-27T06:34:13.826Z"
   },
   {
    "duration": 13,
    "start_time": "2023-07-27T06:34:14.016Z"
   },
   {
    "duration": 26,
    "start_time": "2023-07-27T06:34:14.031Z"
   },
   {
    "duration": 18,
    "start_time": "2023-07-27T06:34:14.058Z"
   },
   {
    "duration": 19,
    "start_time": "2023-07-27T06:34:14.077Z"
   },
   {
    "duration": 9,
    "start_time": "2023-07-27T06:34:14.119Z"
   },
   {
    "duration": 9,
    "start_time": "2023-07-27T06:34:14.129Z"
   },
   {
    "duration": 51,
    "start_time": "2023-07-27T06:34:14.139Z"
   },
   {
    "duration": 35,
    "start_time": "2023-07-27T06:34:14.193Z"
   },
   {
    "duration": 83,
    "start_time": "2023-07-27T06:34:14.229Z"
   },
   {
    "duration": 161,
    "start_time": "2023-07-27T06:34:14.314Z"
   },
   {
    "duration": 66,
    "start_time": "2023-07-27T06:34:14.476Z"
   },
   {
    "duration": 286,
    "start_time": "2023-07-27T06:34:14.543Z"
   },
   {
    "duration": 32,
    "start_time": "2023-07-27T06:34:14.831Z"
   },
   {
    "duration": 43,
    "start_time": "2023-07-27T06:34:14.864Z"
   },
   {
    "duration": 29,
    "start_time": "2023-07-27T06:34:14.908Z"
   },
   {
    "duration": 19,
    "start_time": "2023-07-27T06:34:14.939Z"
   },
   {
    "duration": 372,
    "start_time": "2023-07-27T06:34:14.960Z"
   },
   {
    "duration": 3,
    "start_time": "2023-07-27T06:34:15.334Z"
   },
   {
    "duration": 15,
    "start_time": "2023-07-27T06:34:15.338Z"
   },
   {
    "duration": 72,
    "start_time": "2023-07-27T06:34:15.355Z"
   },
   {
    "duration": 34,
    "start_time": "2023-07-27T06:34:15.430Z"
   },
   {
    "duration": 12,
    "start_time": "2023-07-27T06:34:15.467Z"
   },
   {
    "duration": 80,
    "start_time": "2023-07-27T06:34:15.482Z"
   },
   {
    "duration": 291,
    "start_time": "2023-07-27T06:34:15.564Z"
   },
   {
    "duration": 11,
    "start_time": "2023-07-27T06:34:15.857Z"
   },
   {
    "duration": 156,
    "start_time": "2023-07-27T06:34:15.870Z"
   },
   {
    "duration": 29,
    "start_time": "2023-07-27T06:34:16.027Z"
   },
   {
    "duration": 12,
    "start_time": "2023-07-27T06:34:16.058Z"
   },
   {
    "duration": 66,
    "start_time": "2023-07-27T06:34:16.072Z"
   },
   {
    "duration": 21,
    "start_time": "2023-07-27T06:34:16.139Z"
   },
   {
    "duration": 92,
    "start_time": "2023-07-27T06:34:16.161Z"
   },
   {
    "duration": 145,
    "start_time": "2023-07-27T06:34:16.254Z"
   },
   {
    "duration": 149,
    "start_time": "2023-07-27T06:34:16.400Z"
   },
   {
    "duration": 151,
    "start_time": "2023-07-27T06:34:16.550Z"
   },
   {
    "duration": 4,
    "start_time": "2023-07-27T06:34:16.704Z"
   },
   {
    "duration": 439,
    "start_time": "2023-07-27T06:34:16.710Z"
   },
   {
    "duration": 504,
    "start_time": "2023-07-27T06:34:17.151Z"
   },
   {
    "duration": 19,
    "start_time": "2023-07-27T06:34:17.657Z"
   },
   {
    "duration": 33,
    "start_time": "2023-07-27T06:34:17.678Z"
   },
   {
    "duration": 54,
    "start_time": "2023-07-27T06:34:17.721Z"
   },
   {
    "duration": 10,
    "start_time": "2023-07-27T06:34:17.776Z"
   },
   {
    "duration": 820,
    "start_time": "2023-07-27T06:34:17.787Z"
   },
   {
    "duration": 23,
    "start_time": "2023-07-27T06:34:18.609Z"
   },
   {
    "duration": 1141,
    "start_time": "2023-07-27T06:34:52.283Z"
   },
   {
    "duration": 149,
    "start_time": "2023-07-27T06:34:53.426Z"
   },
   {
    "duration": 16,
    "start_time": "2023-07-27T06:34:53.576Z"
   },
   {
    "duration": 43,
    "start_time": "2023-07-27T06:34:53.594Z"
   },
   {
    "duration": 2,
    "start_time": "2023-07-27T06:34:53.638Z"
   },
   {
    "duration": 195,
    "start_time": "2023-07-27T06:34:53.641Z"
   },
   {
    "duration": 9,
    "start_time": "2023-07-27T06:34:53.837Z"
   },
   {
    "duration": 29,
    "start_time": "2023-07-27T06:34:53.848Z"
   },
   {
    "duration": 18,
    "start_time": "2023-07-27T06:34:53.878Z"
   },
   {
    "duration": 37,
    "start_time": "2023-07-27T06:34:53.899Z"
   },
   {
    "duration": 17,
    "start_time": "2023-07-27T06:34:53.938Z"
   },
   {
    "duration": 23,
    "start_time": "2023-07-27T06:34:53.956Z"
   },
   {
    "duration": 59,
    "start_time": "2023-07-27T06:34:53.981Z"
   },
   {
    "duration": 19,
    "start_time": "2023-07-27T06:34:54.041Z"
   },
   {
    "duration": 89,
    "start_time": "2023-07-27T06:34:54.061Z"
   },
   {
    "duration": 166,
    "start_time": "2023-07-27T06:34:54.152Z"
   },
   {
    "duration": 59,
    "start_time": "2023-07-27T06:34:54.320Z"
   },
   {
    "duration": 257,
    "start_time": "2023-07-27T06:34:54.381Z"
   },
   {
    "duration": 30,
    "start_time": "2023-07-27T06:34:54.640Z"
   },
   {
    "duration": 28,
    "start_time": "2023-07-27T06:34:54.672Z"
   },
   {
    "duration": 36,
    "start_time": "2023-07-27T06:34:54.701Z"
   },
   {
    "duration": 19,
    "start_time": "2023-07-27T06:34:54.739Z"
   },
   {
    "duration": 343,
    "start_time": "2023-07-27T06:34:54.760Z"
   },
   {
    "duration": 3,
    "start_time": "2023-07-27T06:34:55.105Z"
   },
   {
    "duration": 26,
    "start_time": "2023-07-27T06:34:55.109Z"
   },
   {
    "duration": 43,
    "start_time": "2023-07-27T06:34:55.137Z"
   },
   {
    "duration": 73,
    "start_time": "2023-07-27T06:34:55.182Z"
   },
   {
    "duration": 13,
    "start_time": "2023-07-27T06:34:55.259Z"
   },
   {
    "duration": 81,
    "start_time": "2023-07-27T06:34:55.274Z"
   },
   {
    "duration": 276,
    "start_time": "2023-07-27T06:34:55.358Z"
   },
   {
    "duration": 11,
    "start_time": "2023-07-27T06:34:55.636Z"
   },
   {
    "duration": 56,
    "start_time": "2023-07-27T06:34:55.648Z"
   },
   {
    "duration": 32,
    "start_time": "2023-07-27T06:34:55.719Z"
   },
   {
    "duration": 15,
    "start_time": "2023-07-27T06:34:55.753Z"
   },
   {
    "duration": 60,
    "start_time": "2023-07-27T06:34:55.770Z"
   },
   {
    "duration": 20,
    "start_time": "2023-07-27T06:34:55.832Z"
   },
   {
    "duration": 83,
    "start_time": "2023-07-27T06:34:55.853Z"
   },
   {
    "duration": 151,
    "start_time": "2023-07-27T06:34:55.938Z"
   },
   {
    "duration": 147,
    "start_time": "2023-07-27T06:34:56.092Z"
   },
   {
    "duration": 146,
    "start_time": "2023-07-27T06:34:56.240Z"
   },
   {
    "duration": 4,
    "start_time": "2023-07-27T06:34:56.387Z"
   },
   {
    "duration": 425,
    "start_time": "2023-07-27T06:34:56.392Z"
   },
   {
    "duration": 516,
    "start_time": "2023-07-27T06:34:56.821Z"
   },
   {
    "duration": 16,
    "start_time": "2023-07-27T06:34:57.338Z"
   },
   {
    "duration": 52,
    "start_time": "2023-07-27T06:34:57.356Z"
   },
   {
    "duration": 51,
    "start_time": "2023-07-27T06:34:57.410Z"
   },
   {
    "duration": 9,
    "start_time": "2023-07-27T06:34:57.463Z"
   },
   {
    "duration": 19,
    "start_time": "2023-07-27T06:34:57.474Z"
   },
   {
    "duration": 28,
    "start_time": "2023-07-27T06:34:57.494Z"
   },
   {
    "duration": 1198,
    "start_time": "2023-07-27T06:36:58.217Z"
   },
   {
    "duration": 152,
    "start_time": "2023-07-27T06:36:59.420Z"
   },
   {
    "duration": 17,
    "start_time": "2023-07-27T06:36:59.574Z"
   },
   {
    "duration": 41,
    "start_time": "2023-07-27T06:36:59.593Z"
   },
   {
    "duration": 2,
    "start_time": "2023-07-27T06:36:59.636Z"
   },
   {
    "duration": 193,
    "start_time": "2023-07-27T06:36:59.639Z"
   },
   {
    "duration": 9,
    "start_time": "2023-07-27T06:36:59.833Z"
   },
   {
    "duration": 38,
    "start_time": "2023-07-27T06:36:59.844Z"
   },
   {
    "duration": 18,
    "start_time": "2023-07-27T06:36:59.884Z"
   },
   {
    "duration": 26,
    "start_time": "2023-07-27T06:36:59.905Z"
   },
   {
    "duration": 28,
    "start_time": "2023-07-27T06:36:59.933Z"
   },
   {
    "duration": 16,
    "start_time": "2023-07-27T06:36:59.963Z"
   },
   {
    "duration": 56,
    "start_time": "2023-07-27T06:36:59.980Z"
   },
   {
    "duration": 19,
    "start_time": "2023-07-27T06:37:00.037Z"
   },
   {
    "duration": 107,
    "start_time": "2023-07-27T06:37:00.057Z"
   },
   {
    "duration": 182,
    "start_time": "2023-07-27T06:37:00.166Z"
   },
   {
    "duration": 74,
    "start_time": "2023-07-27T06:37:00.349Z"
   },
   {
    "duration": 281,
    "start_time": "2023-07-27T06:37:00.424Z"
   },
   {
    "duration": 32,
    "start_time": "2023-07-27T06:37:00.707Z"
   },
   {
    "duration": 54,
    "start_time": "2023-07-27T06:37:00.741Z"
   },
   {
    "duration": 160,
    "start_time": "2023-07-27T06:37:00.798Z"
   },
   {
    "duration": 67,
    "start_time": "2023-07-27T06:37:00.960Z"
   },
   {
    "duration": 4,
    "start_time": "2023-07-27T06:38:27.682Z"
   },
   {
    "duration": 167,
    "start_time": "2023-07-27T06:38:27.688Z"
   },
   {
    "duration": 18,
    "start_time": "2023-07-27T06:38:27.912Z"
   },
   {
    "duration": 40,
    "start_time": "2023-07-27T06:38:27.932Z"
   },
   {
    "duration": 3,
    "start_time": "2023-07-27T06:39:05.031Z"
   },
   {
    "duration": 136,
    "start_time": "2023-07-27T06:39:07.462Z"
   },
   {
    "duration": 24,
    "start_time": "2023-07-27T06:39:07.600Z"
   },
   {
    "duration": 31,
    "start_time": "2023-07-27T06:39:09.022Z"
   },
   {
    "duration": 3,
    "start_time": "2023-07-27T06:39:15.603Z"
   },
   {
    "duration": 177,
    "start_time": "2023-07-27T06:39:16.062Z"
   },
   {
    "duration": 9,
    "start_time": "2023-07-27T06:39:18.551Z"
   },
   {
    "duration": 42,
    "start_time": "2023-07-27T06:39:18.562Z"
   },
   {
    "duration": 18,
    "start_time": "2023-07-27T06:39:20.882Z"
   },
   {
    "duration": 19,
    "start_time": "2023-07-27T06:39:20.901Z"
   },
   {
    "duration": 8,
    "start_time": "2023-07-27T06:39:22.261Z"
   },
   {
    "duration": 9,
    "start_time": "2023-07-27T06:39:24.712Z"
   },
   {
    "duration": 51,
    "start_time": "2023-07-27T06:39:24.723Z"
   },
   {
    "duration": 18,
    "start_time": "2023-07-27T06:39:24.801Z"
   },
   {
    "duration": 66,
    "start_time": "2023-07-27T06:39:44.204Z"
   },
   {
    "duration": 169,
    "start_time": "2023-07-27T06:39:44.272Z"
   },
   {
    "duration": 59,
    "start_time": "2023-07-27T06:39:49.412Z"
   },
   {
    "duration": 276,
    "start_time": "2023-07-27T06:39:49.473Z"
   },
   {
    "duration": 31,
    "start_time": "2023-07-27T06:39:49.751Z"
   },
   {
    "duration": 39,
    "start_time": "2023-07-27T06:39:49.783Z"
   },
   {
    "duration": 21,
    "start_time": "2023-07-27T06:39:49.823Z"
   },
   {
    "duration": 21,
    "start_time": "2023-07-27T06:39:49.845Z"
   },
   {
    "duration": 23,
    "start_time": "2023-07-27T06:39:49.867Z"
   },
   {
    "duration": 4,
    "start_time": "2023-07-27T06:40:03.662Z"
   },
   {
    "duration": 4,
    "start_time": "2023-07-27T06:40:04.052Z"
   },
   {
    "duration": 16,
    "start_time": "2023-07-27T06:40:05.462Z"
   },
   {
    "duration": 25,
    "start_time": "2023-07-27T06:40:06.232Z"
   },
   {
    "duration": 7,
    "start_time": "2023-07-27T06:40:07.773Z"
   },
   {
    "duration": 40,
    "start_time": "2023-07-27T06:40:08.842Z"
   },
   {
    "duration": 183,
    "start_time": "2023-07-27T06:40:09.992Z"
   },
   {
    "duration": 10,
    "start_time": "2023-07-27T06:40:11.721Z"
   },
   {
    "duration": 42,
    "start_time": "2023-07-27T06:40:12.742Z"
   },
   {
    "duration": 31,
    "start_time": "2023-07-27T06:40:13.752Z"
   },
   {
    "duration": 19,
    "start_time": "2023-07-27T06:40:15.362Z"
   },
   {
    "duration": 44,
    "start_time": "2023-07-27T06:40:18.281Z"
   },
   {
    "duration": 20,
    "start_time": "2023-07-27T06:40:22.371Z"
   },
   {
    "duration": 63,
    "start_time": "2023-07-27T06:40:25.492Z"
   },
   {
    "duration": 142,
    "start_time": "2023-07-27T06:40:27.401Z"
   },
   {
    "duration": 148,
    "start_time": "2023-07-27T06:40:28.472Z"
   },
   {
    "duration": 137,
    "start_time": "2023-07-27T06:40:30.971Z"
   },
   {
    "duration": 7,
    "start_time": "2023-07-27T06:40:35.332Z"
   },
   {
    "duration": 404,
    "start_time": "2023-07-27T06:40:37.760Z"
   },
   {
    "duration": 420,
    "start_time": "2023-07-27T06:40:44.322Z"
   },
   {
    "duration": 18,
    "start_time": "2023-07-27T06:40:51.891Z"
   },
   {
    "duration": 28,
    "start_time": "2023-07-27T06:40:53.252Z"
   },
   {
    "duration": 52,
    "start_time": "2023-07-27T06:40:58.722Z"
   },
   {
    "duration": 9,
    "start_time": "2023-07-27T06:41:00.103Z"
   },
   {
    "duration": 2620,
    "start_time": "2023-07-27T06:41:53.541Z"
   },
   {
    "duration": 12,
    "start_time": "2023-07-27T06:42:06.675Z"
   },
   {
    "duration": 14,
    "start_time": "2023-07-27T06:42:20.044Z"
   },
   {
    "duration": 9,
    "start_time": "2023-07-27T06:42:24.215Z"
   },
   {
    "duration": 4,
    "start_time": "2023-07-27T06:42:58.690Z"
   },
   {
    "duration": 4,
    "start_time": "2023-07-27T06:42:59.889Z"
   },
   {
    "duration": 153,
    "start_time": "2023-07-27T06:43:02.393Z"
   },
   {
    "duration": 6,
    "start_time": "2023-07-27T06:43:05.484Z"
   },
   {
    "duration": 49,
    "start_time": "2023-07-27T06:43:08.046Z"
   },
   {
    "duration": 39,
    "start_time": "2023-07-27T06:43:09.051Z"
   },
   {
    "duration": 116,
    "start_time": "2023-07-27T06:43:10.045Z"
   },
   {
    "duration": 18,
    "start_time": "2023-07-27T06:43:10.684Z"
   },
   {
    "duration": 12,
    "start_time": "2023-07-27T06:43:12.031Z"
   },
   {
    "duration": 8,
    "start_time": "2023-07-27T06:43:13.617Z"
   },
   {
    "duration": 8,
    "start_time": "2023-07-27T06:43:14.871Z"
   },
   {
    "duration": 13,
    "start_time": "2023-07-27T06:47:23.706Z"
   },
   {
    "duration": 5,
    "start_time": "2023-07-27T06:55:11.184Z"
   },
   {
    "duration": 148,
    "start_time": "2023-07-27T06:55:11.334Z"
   },
   {
    "duration": 20,
    "start_time": "2023-07-27T06:55:11.581Z"
   },
   {
    "duration": 32,
    "start_time": "2023-07-27T06:55:11.740Z"
   },
   {
    "duration": 3,
    "start_time": "2023-07-27T06:55:12.576Z"
   },
   {
    "duration": 172,
    "start_time": "2023-07-27T06:55:12.732Z"
   },
   {
    "duration": 15,
    "start_time": "2023-07-27T06:55:12.906Z"
   },
   {
    "duration": 26,
    "start_time": "2023-07-27T06:55:13.043Z"
   },
   {
    "duration": 19,
    "start_time": "2023-07-27T06:55:13.402Z"
   },
   {
    "duration": 20,
    "start_time": "2023-07-27T06:55:13.589Z"
   },
   {
    "duration": 8,
    "start_time": "2023-07-27T06:55:13.943Z"
   },
   {
    "duration": 10,
    "start_time": "2023-07-27T06:55:14.279Z"
   },
   {
    "duration": 49,
    "start_time": "2023-07-27T06:55:14.791Z"
   },
   {
    "duration": 19,
    "start_time": "2023-07-27T06:55:14.963Z"
   },
   {
    "duration": 82,
    "start_time": "2023-07-27T06:55:15.368Z"
   },
   {
    "duration": 165,
    "start_time": "2023-07-27T06:55:15.901Z"
   },
   {
    "duration": 62,
    "start_time": "2023-07-27T06:55:16.257Z"
   },
   {
    "duration": 264,
    "start_time": "2023-07-27T06:55:16.426Z"
   },
   {
    "duration": 38,
    "start_time": "2023-07-27T06:55:16.691Z"
   },
   {
    "duration": 30,
    "start_time": "2023-07-27T06:55:16.893Z"
   },
   {
    "duration": 20,
    "start_time": "2023-07-27T06:55:18.004Z"
   },
   {
    "duration": 20,
    "start_time": "2023-07-27T06:55:18.215Z"
   },
   {
    "duration": 22,
    "start_time": "2023-07-27T06:55:18.762Z"
   },
   {
    "duration": 4,
    "start_time": "2023-07-27T06:55:19.694Z"
   },
   {
    "duration": 4,
    "start_time": "2023-07-27T06:55:21.328Z"
   },
   {
    "duration": 18,
    "start_time": "2023-07-27T06:55:21.334Z"
   },
   {
    "duration": 25,
    "start_time": "2023-07-27T06:55:21.354Z"
   },
   {
    "duration": 7,
    "start_time": "2023-07-27T06:55:21.380Z"
   },
   {
    "duration": 44,
    "start_time": "2023-07-27T06:55:22.320Z"
   },
   {
    "duration": 177,
    "start_time": "2023-07-27T06:55:22.598Z"
   },
   {
    "duration": 11,
    "start_time": "2023-07-27T06:55:22.999Z"
   },
   {
    "duration": 52,
    "start_time": "2023-07-27T06:55:23.355Z"
   },
   {
    "duration": 30,
    "start_time": "2023-07-27T06:55:23.715Z"
   },
   {
    "duration": 14,
    "start_time": "2023-07-27T06:55:24.080Z"
   },
   {
    "duration": 48,
    "start_time": "2023-07-27T06:55:24.625Z"
   },
   {
    "duration": 20,
    "start_time": "2023-07-27T06:55:25.951Z"
   },
   {
    "duration": 61,
    "start_time": "2023-07-27T06:55:27.001Z"
   },
   {
    "duration": 154,
    "start_time": "2023-07-27T06:55:27.983Z"
   },
   {
    "duration": 139,
    "start_time": "2023-07-27T06:55:28.284Z"
   },
   {
    "duration": 142,
    "start_time": "2023-07-27T06:55:29.233Z"
   },
   {
    "duration": 6,
    "start_time": "2023-07-27T06:55:29.441Z"
   },
   {
    "duration": 448,
    "start_time": "2023-07-27T06:55:29.781Z"
   },
   {
    "duration": 452,
    "start_time": "2023-07-27T06:55:31.096Z"
   },
   {
    "duration": 18,
    "start_time": "2023-07-27T06:55:33.204Z"
   },
   {
    "duration": 32,
    "start_time": "2023-07-27T06:55:33.661Z"
   },
   {
    "duration": 52,
    "start_time": "2023-07-27T06:55:34.890Z"
   },
   {
    "duration": 9,
    "start_time": "2023-07-27T06:55:35.796Z"
   },
   {
    "duration": 4,
    "start_time": "2023-07-27T06:55:37.457Z"
   },
   {
    "duration": 15,
    "start_time": "2023-07-27T06:55:38.635Z"
   },
   {
    "duration": 4,
    "start_time": "2023-07-27T06:55:40.812Z"
   },
   {
    "duration": 4,
    "start_time": "2023-07-27T06:55:41.264Z"
   },
   {
    "duration": 4,
    "start_time": "2023-07-27T06:55:41.793Z"
   },
   {
    "duration": 3,
    "start_time": "2023-07-27T06:55:42.826Z"
   },
   {
    "duration": 4,
    "start_time": "2023-07-27T06:55:47.894Z"
   },
   {
    "duration": 139,
    "start_time": "2023-07-27T06:55:51.020Z"
   },
   {
    "duration": 4,
    "start_time": "2023-07-27T06:55:56.393Z"
   },
   {
    "duration": 45,
    "start_time": "2023-07-27T06:56:03.893Z"
   },
   {
    "duration": 40,
    "start_time": "2023-07-27T06:56:04.918Z"
   },
   {
    "duration": 121,
    "start_time": "2023-07-27T06:56:05.850Z"
   },
   {
    "duration": 21,
    "start_time": "2023-07-27T06:56:06.196Z"
   },
   {
    "duration": 11,
    "start_time": "2023-07-27T06:56:08.148Z"
   },
   {
    "duration": 8,
    "start_time": "2023-07-27T06:56:10.158Z"
   },
   {
    "duration": 8,
    "start_time": "2023-07-27T06:56:11.134Z"
   }
  ],
  "kernelspec": {
   "display_name": "Python 3 (ipykernel)",
   "language": "python",
   "name": "python3"
  },
  "language_info": {
   "codemirror_mode": {
    "name": "ipython",
    "version": 3
   },
   "file_extension": ".py",
   "mimetype": "text/x-python",
   "name": "python",
   "nbconvert_exporter": "python",
   "pygments_lexer": "ipython3",
   "version": "3.9.5"
  },
  "toc": {
   "base_numbering": 1,
   "nav_menu": {},
   "number_sections": true,
   "sideBar": true,
   "skip_h1_title": true,
   "title_cell": "Table of Contents",
   "title_sidebar": "Contents",
   "toc_cell": false,
   "toc_position": {},
   "toc_section_display": true,
   "toc_window_display": false
  }
 },
 "nbformat": 4,
 "nbformat_minor": 2
}
