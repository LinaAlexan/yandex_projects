{
 "cells": [
  {
   "cell_type": "markdown",
   "id": "b7ceaa8f",
   "metadata": {},
   "source": [
    "# КОММЕНТАРИЙ РЕВЬЮВЕРА\n",
    "Привет  Галина 👋!)\n",
    "\n",
    "Меня зовут Сибирев Владислав, я осуществлял проверку проекта. Может перейдем сразу на <b>ты</b>? Если это неприемлемо, то обязательно дай знать)\n",
    "\n",
    "Далее по ходу работы ты сможешь встретить мои комментарии, они будут отмечены разными цветами:\n",
    "\n",
    "<div class=\"alert alert-block alert-success\">\n",
    " ✔️ Похвала и возможности развития\n",
    "</div>\n",
    "<div class=\"alert alert-block alert-warning\">\n",
    "⚠️ Некритичные замечания, но стоит обратить внимание\n",
    "</div>\n",
    "<div class=\"alert alert-block alert-danger\">\n",
    "❌ Грубая ошибка, необходимо исправить\n",
    "</div>\n",
    "\n",
    "\n",
    "Заранее прошу не удалять мои комментарии, это важно. Если у тебя возникнут вопросы, обозначь их, я с радостью тебе помогу!)\n",
    "\n",
    "Как вариант, можешь обозначить их так:\n",
    "<div class=\"alert alert-block alert-info\">\n",
    "<b>КОММЕНТАРИЙ СТУДЕНТА:</b>\n",
    "</div>"
   ]
  },
  {
   "cell_type": "markdown",
   "id": "386f2ae7",
   "metadata": {
    "deletable": false,
    "editable": false,
    "id": "386f2ae7"
   },
   "source": [
    "# Исследование надежности заемщиков\n"
   ]
  },
  {
   "cell_type": "markdown",
   "id": "ffe86f65",
   "metadata": {
    "deletable": false,
    "editable": false,
    "id": "ffe86f65"
   },
   "source": [
    "Во второй части проекта вы выполните шаги 3 и 4. Их вручную проверит ревьюер.\n",
    "Чтобы вам не пришлось писать код заново для шагов 1 и 2, мы добавили авторские решения в ячейки с кодом. \n",
    "\n"
   ]
  },
  {
   "cell_type": "markdown",
   "id": "85cd755e",
   "metadata": {},
   "source": [
    "<div class=\"alert alert-block alert-success\">\n",
    "<b>Комментарий ревьюера:</b> \n",
    "\n",
    "✔️ Так как первая часть является автоматической, то я просто буду в ней давать рекомендации, которые ты можешь использовать в дальнейшем))<br>\n",
    "P.S. Любой проект нужно начинать с описания)) \n",
    "  </div>"
   ]
  },
  {
   "cell_type": "markdown",
   "id": "26613308",
   "metadata": {
    "deletable": false,
    "editable": false,
    "id": "26613308"
   },
   "source": [
    "## Откройте таблицу и изучите общую информацию о данных"
   ]
  },
  {
   "cell_type": "markdown",
   "id": "3c9f838e",
   "metadata": {
    "deletable": false,
    "editable": false,
    "id": "3c9f838e"
   },
   "source": [
    "**Задание 1. Импортируйте библиотеку pandas. Считайте данные из csv-файла в датафрейм и сохраните в переменную `data`. Путь к файлу:**\n",
    "\n",
    "`/datasets/data.csv`"
   ]
  },
  {
   "cell_type": "code",
   "execution_count": 1,
   "id": "77a68a90",
   "metadata": {
    "deletable": false,
    "id": "77a68a90"
   },
   "outputs": [],
   "source": [
    "import pandas as pd\n",
    "\n",
    "try:\n",
    "    data = pd.read_csv('/datasets/data.csv')\n",
    "except:\n",
    "    data = pd.read_csv('https://code.s3.yandex.net/datasets/data.csv')"
   ]
  },
  {
   "cell_type": "markdown",
   "id": "6ee8e4c4",
   "metadata": {},
   "source": [
    "<div class=\"alert alert-block alert-success\">\n",
    "<b>Комментарий ревьюера:</b> \n",
    "\n",
    "✔️ Молодец, что используешь конструкцию __try и except__<br>\n",
    "P.S. Для следующих проектов нужно импортировать библиотеки в отдельной ячейке) Это позволяет быстро сориентироваться, что нужно для запуска проекта, если кто-то будет запускать его в другом окружении.\n",
    "  </div>"
   ]
  },
  {
   "cell_type": "markdown",
   "id": "45365635",
   "metadata": {
    "deletable": false,
    "editable": false,
    "id": "45365635"
   },
   "source": [
    "**Задание 2. Выведите первые 20 строчек датафрейма `data` на экран.**"
   ]
  },
  {
   "cell_type": "code",
   "execution_count": 2,
   "id": "b0451a9a",
   "metadata": {
    "deletable": false,
    "id": "b0451a9a",
    "outputId": "1a8f3ef2-d323-4ec2-ddf7-89670b5944c4"
   },
   "outputs": [
    {
     "data": {
      "text/html": [
       "<div>\n",
       "<style scoped>\n",
       "    .dataframe tbody tr th:only-of-type {\n",
       "        vertical-align: middle;\n",
       "    }\n",
       "\n",
       "    .dataframe tbody tr th {\n",
       "        vertical-align: top;\n",
       "    }\n",
       "\n",
       "    .dataframe thead th {\n",
       "        text-align: right;\n",
       "    }\n",
       "</style>\n",
       "<table border=\"1\" class=\"dataframe\">\n",
       "  <thead>\n",
       "    <tr style=\"text-align: right;\">\n",
       "      <th></th>\n",
       "      <th>children</th>\n",
       "      <th>days_employed</th>\n",
       "      <th>dob_years</th>\n",
       "      <th>education</th>\n",
       "      <th>education_id</th>\n",
       "      <th>family_status</th>\n",
       "      <th>family_status_id</th>\n",
       "      <th>gender</th>\n",
       "      <th>income_type</th>\n",
       "      <th>debt</th>\n",
       "      <th>total_income</th>\n",
       "      <th>purpose</th>\n",
       "    </tr>\n",
       "  </thead>\n",
       "  <tbody>\n",
       "    <tr>\n",
       "      <th>0</th>\n",
       "      <td>1</td>\n",
       "      <td>-8437.673028</td>\n",
       "      <td>42</td>\n",
       "      <td>высшее</td>\n",
       "      <td>0</td>\n",
       "      <td>женат / замужем</td>\n",
       "      <td>0</td>\n",
       "      <td>F</td>\n",
       "      <td>сотрудник</td>\n",
       "      <td>0</td>\n",
       "      <td>253875.639453</td>\n",
       "      <td>покупка жилья</td>\n",
       "    </tr>\n",
       "    <tr>\n",
       "      <th>1</th>\n",
       "      <td>1</td>\n",
       "      <td>-4024.803754</td>\n",
       "      <td>36</td>\n",
       "      <td>среднее</td>\n",
       "      <td>1</td>\n",
       "      <td>женат / замужем</td>\n",
       "      <td>0</td>\n",
       "      <td>F</td>\n",
       "      <td>сотрудник</td>\n",
       "      <td>0</td>\n",
       "      <td>112080.014102</td>\n",
       "      <td>приобретение автомобиля</td>\n",
       "    </tr>\n",
       "    <tr>\n",
       "      <th>2</th>\n",
       "      <td>0</td>\n",
       "      <td>-5623.422610</td>\n",
       "      <td>33</td>\n",
       "      <td>Среднее</td>\n",
       "      <td>1</td>\n",
       "      <td>женат / замужем</td>\n",
       "      <td>0</td>\n",
       "      <td>M</td>\n",
       "      <td>сотрудник</td>\n",
       "      <td>0</td>\n",
       "      <td>145885.952297</td>\n",
       "      <td>покупка жилья</td>\n",
       "    </tr>\n",
       "    <tr>\n",
       "      <th>3</th>\n",
       "      <td>3</td>\n",
       "      <td>-4124.747207</td>\n",
       "      <td>32</td>\n",
       "      <td>среднее</td>\n",
       "      <td>1</td>\n",
       "      <td>женат / замужем</td>\n",
       "      <td>0</td>\n",
       "      <td>M</td>\n",
       "      <td>сотрудник</td>\n",
       "      <td>0</td>\n",
       "      <td>267628.550329</td>\n",
       "      <td>дополнительное образование</td>\n",
       "    </tr>\n",
       "    <tr>\n",
       "      <th>4</th>\n",
       "      <td>0</td>\n",
       "      <td>340266.072047</td>\n",
       "      <td>53</td>\n",
       "      <td>среднее</td>\n",
       "      <td>1</td>\n",
       "      <td>гражданский брак</td>\n",
       "      <td>1</td>\n",
       "      <td>F</td>\n",
       "      <td>пенсионер</td>\n",
       "      <td>0</td>\n",
       "      <td>158616.077870</td>\n",
       "      <td>сыграть свадьбу</td>\n",
       "    </tr>\n",
       "    <tr>\n",
       "      <th>5</th>\n",
       "      <td>0</td>\n",
       "      <td>-926.185831</td>\n",
       "      <td>27</td>\n",
       "      <td>высшее</td>\n",
       "      <td>0</td>\n",
       "      <td>гражданский брак</td>\n",
       "      <td>1</td>\n",
       "      <td>M</td>\n",
       "      <td>компаньон</td>\n",
       "      <td>0</td>\n",
       "      <td>255763.565419</td>\n",
       "      <td>покупка жилья</td>\n",
       "    </tr>\n",
       "    <tr>\n",
       "      <th>6</th>\n",
       "      <td>0</td>\n",
       "      <td>-2879.202052</td>\n",
       "      <td>43</td>\n",
       "      <td>высшее</td>\n",
       "      <td>0</td>\n",
       "      <td>женат / замужем</td>\n",
       "      <td>0</td>\n",
       "      <td>F</td>\n",
       "      <td>компаньон</td>\n",
       "      <td>0</td>\n",
       "      <td>240525.971920</td>\n",
       "      <td>операции с жильем</td>\n",
       "    </tr>\n",
       "    <tr>\n",
       "      <th>7</th>\n",
       "      <td>0</td>\n",
       "      <td>-152.779569</td>\n",
       "      <td>50</td>\n",
       "      <td>СРЕДНЕЕ</td>\n",
       "      <td>1</td>\n",
       "      <td>женат / замужем</td>\n",
       "      <td>0</td>\n",
       "      <td>M</td>\n",
       "      <td>сотрудник</td>\n",
       "      <td>0</td>\n",
       "      <td>135823.934197</td>\n",
       "      <td>образование</td>\n",
       "    </tr>\n",
       "    <tr>\n",
       "      <th>8</th>\n",
       "      <td>2</td>\n",
       "      <td>-6929.865299</td>\n",
       "      <td>35</td>\n",
       "      <td>ВЫСШЕЕ</td>\n",
       "      <td>0</td>\n",
       "      <td>гражданский брак</td>\n",
       "      <td>1</td>\n",
       "      <td>F</td>\n",
       "      <td>сотрудник</td>\n",
       "      <td>0</td>\n",
       "      <td>95856.832424</td>\n",
       "      <td>на проведение свадьбы</td>\n",
       "    </tr>\n",
       "    <tr>\n",
       "      <th>9</th>\n",
       "      <td>0</td>\n",
       "      <td>-2188.756445</td>\n",
       "      <td>41</td>\n",
       "      <td>среднее</td>\n",
       "      <td>1</td>\n",
       "      <td>женат / замужем</td>\n",
       "      <td>0</td>\n",
       "      <td>M</td>\n",
       "      <td>сотрудник</td>\n",
       "      <td>0</td>\n",
       "      <td>144425.938277</td>\n",
       "      <td>покупка жилья для семьи</td>\n",
       "    </tr>\n",
       "    <tr>\n",
       "      <th>10</th>\n",
       "      <td>2</td>\n",
       "      <td>-4171.483647</td>\n",
       "      <td>36</td>\n",
       "      <td>высшее</td>\n",
       "      <td>0</td>\n",
       "      <td>женат / замужем</td>\n",
       "      <td>0</td>\n",
       "      <td>M</td>\n",
       "      <td>компаньон</td>\n",
       "      <td>0</td>\n",
       "      <td>113943.491460</td>\n",
       "      <td>покупка недвижимости</td>\n",
       "    </tr>\n",
       "    <tr>\n",
       "      <th>11</th>\n",
       "      <td>0</td>\n",
       "      <td>-792.701887</td>\n",
       "      <td>40</td>\n",
       "      <td>среднее</td>\n",
       "      <td>1</td>\n",
       "      <td>женат / замужем</td>\n",
       "      <td>0</td>\n",
       "      <td>F</td>\n",
       "      <td>сотрудник</td>\n",
       "      <td>0</td>\n",
       "      <td>77069.234271</td>\n",
       "      <td>покупка коммерческой недвижимости</td>\n",
       "    </tr>\n",
       "    <tr>\n",
       "      <th>12</th>\n",
       "      <td>0</td>\n",
       "      <td>NaN</td>\n",
       "      <td>65</td>\n",
       "      <td>среднее</td>\n",
       "      <td>1</td>\n",
       "      <td>гражданский брак</td>\n",
       "      <td>1</td>\n",
       "      <td>M</td>\n",
       "      <td>пенсионер</td>\n",
       "      <td>0</td>\n",
       "      <td>NaN</td>\n",
       "      <td>сыграть свадьбу</td>\n",
       "    </tr>\n",
       "    <tr>\n",
       "      <th>13</th>\n",
       "      <td>0</td>\n",
       "      <td>-1846.641941</td>\n",
       "      <td>54</td>\n",
       "      <td>неоконченное высшее</td>\n",
       "      <td>2</td>\n",
       "      <td>женат / замужем</td>\n",
       "      <td>0</td>\n",
       "      <td>F</td>\n",
       "      <td>сотрудник</td>\n",
       "      <td>0</td>\n",
       "      <td>130458.228857</td>\n",
       "      <td>приобретение автомобиля</td>\n",
       "    </tr>\n",
       "    <tr>\n",
       "      <th>14</th>\n",
       "      <td>0</td>\n",
       "      <td>-1844.956182</td>\n",
       "      <td>56</td>\n",
       "      <td>высшее</td>\n",
       "      <td>0</td>\n",
       "      <td>гражданский брак</td>\n",
       "      <td>1</td>\n",
       "      <td>F</td>\n",
       "      <td>компаньон</td>\n",
       "      <td>1</td>\n",
       "      <td>165127.911772</td>\n",
       "      <td>покупка жилой недвижимости</td>\n",
       "    </tr>\n",
       "    <tr>\n",
       "      <th>15</th>\n",
       "      <td>1</td>\n",
       "      <td>-972.364419</td>\n",
       "      <td>26</td>\n",
       "      <td>среднее</td>\n",
       "      <td>1</td>\n",
       "      <td>женат / замужем</td>\n",
       "      <td>0</td>\n",
       "      <td>F</td>\n",
       "      <td>сотрудник</td>\n",
       "      <td>0</td>\n",
       "      <td>116820.904450</td>\n",
       "      <td>строительство собственной недвижимости</td>\n",
       "    </tr>\n",
       "    <tr>\n",
       "      <th>16</th>\n",
       "      <td>0</td>\n",
       "      <td>-1719.934226</td>\n",
       "      <td>35</td>\n",
       "      <td>среднее</td>\n",
       "      <td>1</td>\n",
       "      <td>женат / замужем</td>\n",
       "      <td>0</td>\n",
       "      <td>F</td>\n",
       "      <td>сотрудник</td>\n",
       "      <td>0</td>\n",
       "      <td>289202.704229</td>\n",
       "      <td>недвижимость</td>\n",
       "    </tr>\n",
       "    <tr>\n",
       "      <th>17</th>\n",
       "      <td>0</td>\n",
       "      <td>-2369.999720</td>\n",
       "      <td>33</td>\n",
       "      <td>высшее</td>\n",
       "      <td>0</td>\n",
       "      <td>гражданский брак</td>\n",
       "      <td>1</td>\n",
       "      <td>M</td>\n",
       "      <td>сотрудник</td>\n",
       "      <td>0</td>\n",
       "      <td>90410.586745</td>\n",
       "      <td>строительство недвижимости</td>\n",
       "    </tr>\n",
       "    <tr>\n",
       "      <th>18</th>\n",
       "      <td>0</td>\n",
       "      <td>400281.136913</td>\n",
       "      <td>53</td>\n",
       "      <td>среднее</td>\n",
       "      <td>1</td>\n",
       "      <td>вдовец / вдова</td>\n",
       "      <td>2</td>\n",
       "      <td>F</td>\n",
       "      <td>пенсионер</td>\n",
       "      <td>0</td>\n",
       "      <td>56823.777243</td>\n",
       "      <td>на покупку подержанного автомобиля</td>\n",
       "    </tr>\n",
       "    <tr>\n",
       "      <th>19</th>\n",
       "      <td>0</td>\n",
       "      <td>-10038.818549</td>\n",
       "      <td>48</td>\n",
       "      <td>СРЕДНЕЕ</td>\n",
       "      <td>1</td>\n",
       "      <td>в разводе</td>\n",
       "      <td>3</td>\n",
       "      <td>F</td>\n",
       "      <td>сотрудник</td>\n",
       "      <td>0</td>\n",
       "      <td>242831.107982</td>\n",
       "      <td>на покупку своего автомобиля</td>\n",
       "    </tr>\n",
       "  </tbody>\n",
       "</table>\n",
       "</div>"
      ],
      "text/plain": [
       "    children  days_employed  dob_years            education  education_id  \\\n",
       "0          1   -8437.673028         42               высшее             0   \n",
       "1          1   -4024.803754         36              среднее             1   \n",
       "2          0   -5623.422610         33              Среднее             1   \n",
       "3          3   -4124.747207         32              среднее             1   \n",
       "4          0  340266.072047         53              среднее             1   \n",
       "5          0    -926.185831         27               высшее             0   \n",
       "6          0   -2879.202052         43               высшее             0   \n",
       "7          0    -152.779569         50              СРЕДНЕЕ             1   \n",
       "8          2   -6929.865299         35               ВЫСШЕЕ             0   \n",
       "9          0   -2188.756445         41              среднее             1   \n",
       "10         2   -4171.483647         36               высшее             0   \n",
       "11         0    -792.701887         40              среднее             1   \n",
       "12         0            NaN         65              среднее             1   \n",
       "13         0   -1846.641941         54  неоконченное высшее             2   \n",
       "14         0   -1844.956182         56               высшее             0   \n",
       "15         1    -972.364419         26              среднее             1   \n",
       "16         0   -1719.934226         35              среднее             1   \n",
       "17         0   -2369.999720         33               высшее             0   \n",
       "18         0  400281.136913         53              среднее             1   \n",
       "19         0  -10038.818549         48              СРЕДНЕЕ             1   \n",
       "\n",
       "       family_status  family_status_id gender income_type  debt  \\\n",
       "0    женат / замужем                 0      F   сотрудник     0   \n",
       "1    женат / замужем                 0      F   сотрудник     0   \n",
       "2    женат / замужем                 0      M   сотрудник     0   \n",
       "3    женат / замужем                 0      M   сотрудник     0   \n",
       "4   гражданский брак                 1      F   пенсионер     0   \n",
       "5   гражданский брак                 1      M   компаньон     0   \n",
       "6    женат / замужем                 0      F   компаньон     0   \n",
       "7    женат / замужем                 0      M   сотрудник     0   \n",
       "8   гражданский брак                 1      F   сотрудник     0   \n",
       "9    женат / замужем                 0      M   сотрудник     0   \n",
       "10   женат / замужем                 0      M   компаньон     0   \n",
       "11   женат / замужем                 0      F   сотрудник     0   \n",
       "12  гражданский брак                 1      M   пенсионер     0   \n",
       "13   женат / замужем                 0      F   сотрудник     0   \n",
       "14  гражданский брак                 1      F   компаньон     1   \n",
       "15   женат / замужем                 0      F   сотрудник     0   \n",
       "16   женат / замужем                 0      F   сотрудник     0   \n",
       "17  гражданский брак                 1      M   сотрудник     0   \n",
       "18    вдовец / вдова                 2      F   пенсионер     0   \n",
       "19         в разводе                 3      F   сотрудник     0   \n",
       "\n",
       "     total_income                                 purpose  \n",
       "0   253875.639453                           покупка жилья  \n",
       "1   112080.014102                 приобретение автомобиля  \n",
       "2   145885.952297                           покупка жилья  \n",
       "3   267628.550329              дополнительное образование  \n",
       "4   158616.077870                         сыграть свадьбу  \n",
       "5   255763.565419                           покупка жилья  \n",
       "6   240525.971920                       операции с жильем  \n",
       "7   135823.934197                             образование  \n",
       "8    95856.832424                   на проведение свадьбы  \n",
       "9   144425.938277                 покупка жилья для семьи  \n",
       "10  113943.491460                    покупка недвижимости  \n",
       "11   77069.234271       покупка коммерческой недвижимости  \n",
       "12            NaN                         сыграть свадьбу  \n",
       "13  130458.228857                 приобретение автомобиля  \n",
       "14  165127.911772              покупка жилой недвижимости  \n",
       "15  116820.904450  строительство собственной недвижимости  \n",
       "16  289202.704229                            недвижимость  \n",
       "17   90410.586745              строительство недвижимости  \n",
       "18   56823.777243      на покупку подержанного автомобиля  \n",
       "19  242831.107982            на покупку своего автомобиля  "
      ]
     },
     "execution_count": 2,
     "metadata": {},
     "output_type": "execute_result"
    }
   ],
   "source": [
    "data.head(20)"
   ]
  },
  {
   "cell_type": "markdown",
   "id": "0ed8f27f",
   "metadata": {
    "deletable": false,
    "editable": false,
    "id": "0ed8f27f"
   },
   "source": [
    "**Задание 3. Выведите основную информацию о датафрейме с помощью метода `info()`.**"
   ]
  },
  {
   "cell_type": "code",
   "execution_count": 3,
   "id": "ab3f863b",
   "metadata": {
    "deletable": false,
    "id": "ab3f863b",
    "outputId": "15376089-8dad-46c9-b520-c05248d43158"
   },
   "outputs": [
    {
     "name": "stdout",
     "output_type": "stream",
     "text": [
      "<class 'pandas.core.frame.DataFrame'>\n",
      "RangeIndex: 21525 entries, 0 to 21524\n",
      "Data columns (total 12 columns):\n",
      " #   Column            Non-Null Count  Dtype  \n",
      "---  ------            --------------  -----  \n",
      " 0   children          21525 non-null  int64  \n",
      " 1   days_employed     19351 non-null  float64\n",
      " 2   dob_years         21525 non-null  int64  \n",
      " 3   education         21525 non-null  object \n",
      " 4   education_id      21525 non-null  int64  \n",
      " 5   family_status     21525 non-null  object \n",
      " 6   family_status_id  21525 non-null  int64  \n",
      " 7   gender            21525 non-null  object \n",
      " 8   income_type       21525 non-null  object \n",
      " 9   debt              21525 non-null  int64  \n",
      " 10  total_income      19351 non-null  float64\n",
      " 11  purpose           21525 non-null  object \n",
      "dtypes: float64(2), int64(5), object(5)\n",
      "memory usage: 2.0+ MB\n"
     ]
    }
   ],
   "source": [
    "data.info()"
   ]
  },
  {
   "cell_type": "markdown",
   "id": "60e3e22d",
   "metadata": {
    "deletable": false,
    "editable": false,
    "id": "60e3e22d"
   },
   "source": [
    "## Предобработка данных"
   ]
  },
  {
   "cell_type": "markdown",
   "id": "03dc170c",
   "metadata": {
    "deletable": false,
    "editable": false,
    "id": "03dc170c"
   },
   "source": [
    "### Удаление пропусков"
   ]
  },
  {
   "cell_type": "markdown",
   "id": "a4f54eef",
   "metadata": {
    "deletable": false,
    "editable": false,
    "id": "a4f54eef"
   },
   "source": [
    "**Задание 4. Выведите количество пропущенных значений для каждого столбца. Используйте комбинацию двух методов.**"
   ]
  },
  {
   "cell_type": "code",
   "execution_count": 4,
   "id": "2dc372b2",
   "metadata": {
    "deletable": false,
    "id": "2dc372b2",
    "outputId": "81f4d817-781c-465c-ed15-91ce4446810d"
   },
   "outputs": [
    {
     "data": {
      "text/plain": [
       "children               0\n",
       "days_employed       2174\n",
       "dob_years              0\n",
       "education              0\n",
       "education_id           0\n",
       "family_status          0\n",
       "family_status_id       0\n",
       "gender                 0\n",
       "income_type            0\n",
       "debt                   0\n",
       "total_income        2174\n",
       "purpose                0\n",
       "dtype: int64"
      ]
     },
     "execution_count": 4,
     "metadata": {},
     "output_type": "execute_result"
    }
   ],
   "source": [
    "data.isna().sum()"
   ]
  },
  {
   "cell_type": "markdown",
   "id": "aef11567",
   "metadata": {},
   "source": [
    "<div class=\"alert alert-block alert-success\">\n",
    "<b>Комментарий ревьюера:</b>\n",
    "\n",
    "✔️ Изучить долю пропущенных пропусков можно еще с помощью `data.isna().mean()*100`\n",
    "  </div>"
   ]
  },
  {
   "cell_type": "markdown",
   "id": "14f011b1",
   "metadata": {
    "deletable": false,
    "editable": false,
    "id": "14f011b1"
   },
   "source": [
    "**Задание 5. В двух столбцах есть пропущенные значения. Один из них — `days_employed`. Пропуски в этом столбце вы обработаете на следующем этапе. Другой столбец с пропущенными значениями — `total_income` — хранит данные о доходах. На сумму дохода сильнее всего влияет тип занятости, поэтому заполнить пропуски в этом столбце нужно медианным значением по каждому типу из столбца `income_type`. Например, у человека с типом занятости `сотрудник` пропуск в столбце `total_income` должен быть заполнен медианным доходом среди всех записей с тем же типом.**"
   ]
  },
  {
   "cell_type": "code",
   "execution_count": 5,
   "id": "bdabfb6e",
   "metadata": {
    "deletable": false,
    "id": "bdabfb6e"
   },
   "outputs": [],
   "source": [
    "for t in data['income_type'].unique():\n",
    "    data.loc[(data['income_type'] == t) & (data['total_income'].isna()), 'total_income'] = \\\n",
    "    data.loc[(data['income_type'] == t), 'total_income'].median()"
   ]
  },
  {
   "cell_type": "markdown",
   "id": "f5ad6f66",
   "metadata": {},
   "source": [
    "<div class=\"alert alert-block alert-success\">\n",
    "<b>Комментарий ревьюера:</b>\n",
    "\n",
    " ✔️  Можно также использовать следующую конструкцию `data['total_income'] = data['total_income'].fillna(data.groupby(['income_type'])['total_income'].transform('median'))`\n",
    "Функция transform() в принципе полезная https://pandas.pydata.org/pandas-docs/stable/reference/api/pandas.DataFrame.transform.html\n",
    "  </div>"
   ]
  },
  {
   "cell_type": "markdown",
   "id": "5be34059",
   "metadata": {
    "deletable": false,
    "editable": false,
    "id": "5be34059"
   },
   "source": [
    "### Обработка аномальных значений"
   ]
  },
  {
   "cell_type": "markdown",
   "id": "a87606cb",
   "metadata": {
    "deletable": false,
    "editable": false,
    "id": "a87606cb"
   },
   "source": [
    "**Задание 6. В данных могут встречаться артефакты (аномалии) — значения, которые не отражают действительность и появились по какой-то ошибке. таким артефактом будет отрицательное количество дней трудового стажа в столбце `days_employed`. Для реальных данных это нормально. Обработайте значения в этом столбце: замените все отрицательные значения положительными с помощью метода `abs()`.**"
   ]
  },
  {
   "cell_type": "code",
   "execution_count": 6,
   "id": "020c46cc",
   "metadata": {
    "deletable": false,
    "id": "020c46cc"
   },
   "outputs": [],
   "source": [
    "data['days_employed'] = data['days_employed'].abs()"
   ]
  },
  {
   "cell_type": "markdown",
   "id": "45538a3a",
   "metadata": {
    "deletable": false,
    "editable": false,
    "id": "45538a3a"
   },
   "source": [
    "**Задание 7. Для каждого типа занятости выведите медианное значение трудового стажа `days_employed` в днях.**"
   ]
  },
  {
   "cell_type": "code",
   "execution_count": 7,
   "id": "cd3e6328",
   "metadata": {
    "deletable": false,
    "id": "cd3e6328",
    "outputId": "801ef80e-522b-4668-f34e-565af7432bcf"
   },
   "outputs": [
    {
     "data": {
      "text/plain": [
       "income_type\n",
       "безработный        366413.652744\n",
       "в декрете            3296.759962\n",
       "госслужащий          2689.368353\n",
       "компаньон            1547.382223\n",
       "пенсионер          365213.306266\n",
       "предприниматель       520.848083\n",
       "сотрудник            1574.202821\n",
       "студент               578.751554\n",
       "Name: days_employed, dtype: float64"
      ]
     },
     "execution_count": 7,
     "metadata": {},
     "output_type": "execute_result"
    }
   ],
   "source": [
    "data.groupby('income_type')['days_employed'].agg('median')"
   ]
  },
  {
   "cell_type": "markdown",
   "id": "90c5f058",
   "metadata": {
    "deletable": false,
    "editable": false,
    "id": "90c5f058"
   },
   "source": [
    "У двух типов (безработные и пенсионеры) получатся аномально большие значения. Исправить такие значения сложно, поэтому оставьте их как есть."
   ]
  },
  {
   "cell_type": "markdown",
   "id": "9652e50d",
   "metadata": {
    "deletable": false,
    "editable": false,
    "id": "9652e50d"
   },
   "source": [
    "**Задание 8. Выведите перечень уникальных значений столбца `children`.**"
   ]
  },
  {
   "cell_type": "code",
   "execution_count": 8,
   "id": "dbb37b8e",
   "metadata": {
    "deletable": false,
    "id": "dbb37b8e",
    "outputId": "6975b15c-7f95-4697-d16d-a0c79b657b03"
   },
   "outputs": [
    {
     "data": {
      "text/plain": [
       "array([ 1,  0,  3,  2, -1,  4, 20,  5])"
      ]
     },
     "execution_count": 8,
     "metadata": {},
     "output_type": "execute_result"
    }
   ],
   "source": [
    "data['children'].unique()"
   ]
  },
  {
   "cell_type": "markdown",
   "id": "2b8b0715",
   "metadata": {
    "deletable": false,
    "editable": false,
    "id": "2b8b0715"
   },
   "source": [
    "**Задание 9. В столбце `children` есть два аномальных значения. Удалите строки, в которых встречаются такие аномальные значения из датафрейма `data`.**"
   ]
  },
  {
   "cell_type": "code",
   "execution_count": 9,
   "id": "20009df8",
   "metadata": {
    "deletable": false,
    "id": "20009df8"
   },
   "outputs": [],
   "source": [
    "data = data[(data['children'] != -1) & (data['children'] != 20)]"
   ]
  },
  {
   "cell_type": "markdown",
   "id": "a25f48dd",
   "metadata": {},
   "source": [
    "<div class=\"alert alert-block alert-success\">\n",
    "<b>Комментарий ревьюера:</b>\n",
    "\n",
    " ✔️  Все верно, можно еще использовать query(), который позволяет работать с нужными данными) https://pandas.pydata.org/pandas-docs/stable/reference/api/pandas.DataFrame.query.html\n",
    "  </div>"
   ]
  },
  {
   "cell_type": "markdown",
   "id": "8c6ac9f1",
   "metadata": {
    "deletable": false,
    "editable": false,
    "id": "8c6ac9f1"
   },
   "source": [
    "**Задание 10. Ещё раз выведите перечень уникальных значений столбца `children`, чтобы убедиться, что артефакты удалены.**"
   ]
  },
  {
   "cell_type": "code",
   "execution_count": 10,
   "id": "07337b81",
   "metadata": {
    "deletable": false,
    "id": "07337b81",
    "outputId": "b2097101-d49d-44d9-901b-32a65c9463d1"
   },
   "outputs": [
    {
     "data": {
      "text/plain": [
       "array([1, 0, 3, 2, 4, 5])"
      ]
     },
     "execution_count": 10,
     "metadata": {},
     "output_type": "execute_result"
    }
   ],
   "source": [
    "data['children'].unique()"
   ]
  },
  {
   "cell_type": "markdown",
   "id": "ee3f52d4",
   "metadata": {
    "deletable": false,
    "editable": false,
    "id": "ee3f52d4"
   },
   "source": [
    "### Удаление пропусков (продолжение)"
   ]
  },
  {
   "cell_type": "markdown",
   "id": "a700b0e4",
   "metadata": {
    "deletable": false,
    "editable": false,
    "id": "a700b0e4"
   },
   "source": [
    "**Задание 11. Заполните пропуски в столбце `days_employed` медианными значениями по каждого типа занятости `income_type`.**"
   ]
  },
  {
   "cell_type": "code",
   "execution_count": 11,
   "id": "61946b83",
   "metadata": {
    "deletable": false,
    "id": "61946b83"
   },
   "outputs": [],
   "source": [
    "for t in data['income_type'].unique():\n",
    "    data.loc[(data['income_type'] == t) & (data['days_employed'].isna()), 'days_employed'] = \\\n",
    "    data.loc[(data['income_type'] == t), 'days_employed'].median()"
   ]
  },
  {
   "cell_type": "markdown",
   "id": "550dcd9b",
   "metadata": {
    "deletable": false,
    "editable": false,
    "id": "550dcd9b"
   },
   "source": [
    "**Задание 12. Убедитесь, что все пропуски заполнены. Проверьте себя и ещё раз выведите количество пропущенных значений для каждого столбца с помощью двух методов.**"
   ]
  },
  {
   "cell_type": "code",
   "execution_count": 12,
   "id": "937c7014",
   "metadata": {
    "deletable": false,
    "id": "937c7014",
    "outputId": "8da1e4e1-358e-4e87-98c9-f261bce0a7b2"
   },
   "outputs": [
    {
     "data": {
      "text/plain": [
       "children            0\n",
       "days_employed       0\n",
       "dob_years           0\n",
       "education           0\n",
       "education_id        0\n",
       "family_status       0\n",
       "family_status_id    0\n",
       "gender              0\n",
       "income_type         0\n",
       "debt                0\n",
       "total_income        0\n",
       "purpose             0\n",
       "dtype: int64"
      ]
     },
     "execution_count": 12,
     "metadata": {},
     "output_type": "execute_result"
    }
   ],
   "source": [
    "data.isna().sum()"
   ]
  },
  {
   "cell_type": "markdown",
   "id": "d522e295",
   "metadata": {
    "deletable": false,
    "editable": false,
    "id": "d522e295"
   },
   "source": [
    "### Изменение типов данных"
   ]
  },
  {
   "cell_type": "markdown",
   "id": "c229c581",
   "metadata": {
    "deletable": false,
    "editable": false,
    "id": "c229c581"
   },
   "source": [
    "**Задание 13. Замените вещественный тип данных в столбце `total_income` на целочисленный с помощью метода `astype()`.**"
   ]
  },
  {
   "cell_type": "code",
   "execution_count": 13,
   "id": "31036462",
   "metadata": {
    "deletable": false,
    "id": "31036462"
   },
   "outputs": [],
   "source": [
    "data['total_income'] = data['total_income'].astype(int)"
   ]
  },
  {
   "cell_type": "markdown",
   "id": "b8e3d1d9",
   "metadata": {
    "deletable": false,
    "editable": false,
    "id": "b8e3d1d9"
   },
   "source": [
    "### Обработка дубликатов"
   ]
  },
  {
   "cell_type": "markdown",
   "id": "9be53c49",
   "metadata": {
    "deletable": false,
    "editable": false,
    "id": "9be53c49"
   },
   "source": [
    "**Задание 14. Обработайте неявные дубликаты в столбце `education`. В этом столбце есть одни и те же значения, но записанные по-разному: с использованием заглавных и строчных букв. Приведите их к нижнему регистру.**"
   ]
  },
  {
   "cell_type": "code",
   "execution_count": 14,
   "id": "d89e73e1",
   "metadata": {
    "deletable": false,
    "id": "d89e73e1"
   },
   "outputs": [],
   "source": [
    "data['education'] = data['education'].str.lower()"
   ]
  },
  {
   "cell_type": "markdown",
   "id": "01d4500e",
   "metadata": {
    "deletable": false,
    "editable": false,
    "id": "01d4500e"
   },
   "source": [
    "**Задание 15. Выведите на экран количество строк-дубликатов в данных. Если такие строки присутствуют, удалите их.**"
   ]
  },
  {
   "cell_type": "code",
   "execution_count": 15,
   "id": "e10efb23",
   "metadata": {
    "deletable": false,
    "id": "e10efb23",
    "outputId": "9684deba-1934-42d1-99e1-cda61740f822"
   },
   "outputs": [
    {
     "data": {
      "text/plain": [
       "71"
      ]
     },
     "execution_count": 15,
     "metadata": {},
     "output_type": "execute_result"
    }
   ],
   "source": [
    "data.duplicated().sum()"
   ]
  },
  {
   "cell_type": "code",
   "execution_count": 16,
   "id": "df853f20",
   "metadata": {
    "deletable": false,
    "id": "df853f20"
   },
   "outputs": [],
   "source": [
    "data = data.drop_duplicates()"
   ]
  },
  {
   "cell_type": "markdown",
   "id": "627be38f",
   "metadata": {
    "deletable": false,
    "editable": false,
    "id": "627be38f"
   },
   "source": [
    "### Категоризация данных"
   ]
  },
  {
   "cell_type": "markdown",
   "id": "4684c3e0",
   "metadata": {
    "deletable": false,
    "editable": false,
    "id": "4684c3e0"
   },
   "source": [
    "**Задание 16. На основании диапазонов, указанных ниже, создайте в датафрейме `data` столбец `total_income_category` с категориями:**\n",
    "\n",
    "- 0–30000 — `'E'`;\n",
    "- 30001–50000 — `'D'`;\n",
    "- 50001–200000 — `'C'`;\n",
    "- 200001–1000000 — `'B'`;\n",
    "- 1000001 и выше — `'A'`.\n",
    "\n",
    "\n",
    "**Например, кредитополучателю с доходом 25000 нужно назначить категорию `'E'`, а клиенту, получающему 235000, — `'B'`. Используйте собственную функцию с именем `categorize_income()` и метод `apply()`.**"
   ]
  },
  {
   "cell_type": "code",
   "execution_count": 17,
   "id": "78965238",
   "metadata": {
    "deletable": false,
    "id": "78965238"
   },
   "outputs": [],
   "source": [
    "def categorize_income(income):\n",
    "    try:\n",
    "        if 0 <= income <= 30000:\n",
    "            return 'E'\n",
    "        elif 30001 <= income <= 50000:\n",
    "            return 'D'\n",
    "        elif 50001 <= income <= 200000:\n",
    "            return 'C'\n",
    "        elif 200001 <= income <= 1000000:\n",
    "            return 'B'\n",
    "        elif income >= 1000001:\n",
    "            return 'A'\n",
    "    except:\n",
    "        pass"
   ]
  },
  {
   "cell_type": "code",
   "execution_count": 18,
   "id": "0980ada1",
   "metadata": {
    "deletable": false,
    "id": "0980ada1"
   },
   "outputs": [],
   "source": [
    "data['total_income_category'] = data['total_income'].apply(categorize_income)"
   ]
  },
  {
   "cell_type": "markdown",
   "id": "ebc95c45",
   "metadata": {},
   "source": [
    "<div class=\"alert alert-block alert-success\">\n",
    "<b>Комментарий ревьюера:</b>\n",
    "\n",
    "✔️  Функцию написала правильную, молодец, но применение функции лучше проверять с помощью `value_counts`, вдруг какое то условие не сработало)\n",
    "\n",
    "  </div>"
   ]
  },
  {
   "cell_type": "markdown",
   "id": "9917bba0",
   "metadata": {
    "deletable": false,
    "editable": false,
    "id": "9917bba0"
   },
   "source": [
    "**Задание 17. Выведите на экран перечень уникальных целей взятия кредита из столбца `purpose`.**"
   ]
  },
  {
   "cell_type": "code",
   "execution_count": 19,
   "id": "ee07b65e",
   "metadata": {
    "deletable": false,
    "id": "ee07b65e",
    "outputId": "673c12d9-7d7e-4ae0-9812-c622c89dd244"
   },
   "outputs": [
    {
     "data": {
      "text/plain": [
       "array(['покупка жилья', 'приобретение автомобиля',\n",
       "       'дополнительное образование', 'сыграть свадьбу',\n",
       "       'операции с жильем', 'образование', 'на проведение свадьбы',\n",
       "       'покупка жилья для семьи', 'покупка недвижимости',\n",
       "       'покупка коммерческой недвижимости', 'покупка жилой недвижимости',\n",
       "       'строительство собственной недвижимости', 'недвижимость',\n",
       "       'строительство недвижимости', 'на покупку подержанного автомобиля',\n",
       "       'на покупку своего автомобиля',\n",
       "       'операции с коммерческой недвижимостью',\n",
       "       'строительство жилой недвижимости', 'жилье',\n",
       "       'операции со своей недвижимостью', 'автомобили',\n",
       "       'заняться образованием', 'сделка с подержанным автомобилем',\n",
       "       'получение образования', 'автомобиль', 'свадьба',\n",
       "       'получение дополнительного образования', 'покупка своего жилья',\n",
       "       'операции с недвижимостью', 'получение высшего образования',\n",
       "       'свой автомобиль', 'сделка с автомобилем',\n",
       "       'профильное образование', 'высшее образование',\n",
       "       'покупка жилья для сдачи', 'на покупку автомобиля', 'ремонт жилью',\n",
       "       'заняться высшим образованием'], dtype=object)"
      ]
     },
     "execution_count": 19,
     "metadata": {},
     "output_type": "execute_result"
    }
   ],
   "source": [
    "data['purpose'].unique()"
   ]
  },
  {
   "cell_type": "markdown",
   "id": "52b79d56",
   "metadata": {
    "deletable": false,
    "editable": false,
    "id": "52b79d56"
   },
   "source": [
    "**Задание 18. Создайте функцию, которая на основании данных из столбца `purpose` сформирует новый столбец `purpose_category`, в который войдут следующие категории:**\n",
    "\n",
    "- `'операции с автомобилем'`,\n",
    "- `'операции с недвижимостью'`,\n",
    "- `'проведение свадьбы'`,\n",
    "- `'получение образования'`.\n",
    "\n",
    "**Например, если в столбце `purpose` находится подстрока `'на покупку автомобиля'`, то в столбце `purpose_category` должна появиться строка `'операции с автомобилем'`.**\n",
    "\n",
    "**Используйте собственную функцию с именем `categorize_purpose()` и метод `apply()`. Изучите данные в столбце `purpose` и определите, какие подстроки помогут вам правильно определить категорию.**"
   ]
  },
  {
   "cell_type": "code",
   "execution_count": 20,
   "id": "be41da5d",
   "metadata": {
    "deletable": false,
    "id": "be41da5d"
   },
   "outputs": [],
   "source": [
    "def categorize_purpose(row):\n",
    "    try:\n",
    "        if 'автом' in row:\n",
    "            return 'операции с автомобилем'\n",
    "        elif 'жил' in row or 'недвиж' in row:\n",
    "            return 'операции с недвижимостью'\n",
    "        elif 'свад' in row:\n",
    "            return 'проведение свадьбы'\n",
    "        elif 'образов' in row:\n",
    "            return 'получение образования'\n",
    "    except:\n",
    "        return 'нет категории'"
   ]
  },
  {
   "cell_type": "code",
   "execution_count": 21,
   "id": "94c4a19a",
   "metadata": {
    "deletable": false,
    "id": "94c4a19a"
   },
   "outputs": [],
   "source": [
    "data['purpose_category'] = data['purpose'].apply(categorize_purpose)"
   ]
  },
  {
   "cell_type": "markdown",
   "id": "3d596c34",
   "metadata": {
    "deletable": false,
    "editable": false,
    "id": "3d596c34"
   },
   "source": [
    "### Шаг 3. Исследуйте данные и ответьте на вопросы"
   ]
  },
  {
   "cell_type": "markdown",
   "id": "648db036",
   "metadata": {
    "deletable": false,
    "editable": false,
    "id": "648db036"
   },
   "source": [
    "#### 3.1 Есть ли зависимость между количеством детей и возвратом кредита в срок?"
   ]
  },
  {
   "cell_type": "code",
   "execution_count": 22,
   "id": "7fcff25e",
   "metadata": {
    "deletable": false,
    "id": "7fcff25e"
   },
   "outputs": [
    {
     "data": {
      "text/html": [
       "<div>\n",
       "<style scoped>\n",
       "    .dataframe tbody tr th:only-of-type {\n",
       "        vertical-align: middle;\n",
       "    }\n",
       "\n",
       "    .dataframe tbody tr th {\n",
       "        vertical-align: top;\n",
       "    }\n",
       "\n",
       "    .dataframe thead th {\n",
       "        text-align: right;\n",
       "    }\n",
       "</style>\n",
       "<table border=\"1\" class=\"dataframe\">\n",
       "  <thead>\n",
       "    <tr style=\"text-align: right;\">\n",
       "      <th></th>\n",
       "      <th>children_type</th>\n",
       "      <th>count</th>\n",
       "      <th>mean</th>\n",
       "      <th>sum</th>\n",
       "    </tr>\n",
       "  </thead>\n",
       "  <tbody>\n",
       "    <tr>\n",
       "      <th>0</th>\n",
       "      <td>1-2 ребенка</td>\n",
       "      <td>6860.0</td>\n",
       "      <td>9.300292</td>\n",
       "      <td>638.0</td>\n",
       "    </tr>\n",
       "    <tr>\n",
       "      <th>1</th>\n",
       "      <td>многодетные</td>\n",
       "      <td>380.0</td>\n",
       "      <td>8.157895</td>\n",
       "      <td>31.0</td>\n",
       "    </tr>\n",
       "    <tr>\n",
       "      <th>2</th>\n",
       "      <td>нет детей</td>\n",
       "      <td>14091.0</td>\n",
       "      <td>7.543822</td>\n",
       "      <td>1063.0</td>\n",
       "    </tr>\n",
       "  </tbody>\n",
       "</table>\n",
       "</div>"
      ],
      "text/plain": [
       "  children_type    count      mean     sum\n",
       "0   1-2 ребенка   6860.0  9.300292   638.0\n",
       "1   многодетные    380.0  8.157895    31.0\n",
       "2     нет детей  14091.0  7.543822  1063.0"
      ]
     },
     "execution_count": 22,
     "metadata": {},
     "output_type": "execute_result"
    }
   ],
   "source": [
    "def children_type(row):\n",
    "    if row['children'] == 0:\n",
    "        return 'нет детей'\n",
    "    elif row['children'] <= 2:\n",
    "        return '1-2 ребенка'\n",
    "    else:\n",
    "        return 'многодетные'\n",
    "\n",
    "data['children_type'] = data.apply(children_type, axis=1)\n",
    "\n",
    "def relation(category):\n",
    "    return data.groupby(category)['debt'].mean().to_frame().sort_values(by='debt')\n",
    "\n",
    "\n",
    "data_pivot_children_type = data.pivot_table(index=['children_type'], values='debt', aggfunc=('sum', 'count', 'mean'))\n",
    "\n",
    "data_pivot_children_type['mean'] = data_pivot_children_type['mean'] * 100\n",
    "data_pivot_children_type = data_pivot_children_type.reset_index() # IndexError: Too many levels: Index has only 1 level, not 2 пишет мне пайчарм, что тут не так?\n",
    "data_pivot_children_type\n",
    "\n",
    "# print(relation('children_type')) -  С помощью Print() не нужно выводить таблицу, \n",
    "#просто название прописываешь и все выведется"
   ]
  },
  {
   "cell_type": "markdown",
   "id": "eb8187f6",
   "metadata": {},
   "source": [
    "<div class=\"alert alert-block alert-danger\">\n",
    "<b>Комментарий ревьюера_V2:</b> \n",
    "\n",
    "❌ Здесь `droplevel(1, axis=1)` не нужен, так как  мультииндексы будут отображаться если вот так вывести значения `aggfunc = ['sum', 'mean', 'count']`, этот метод хорош, если нужно избавиться от мультииндексов)) Везде тогда убери этот метод)) \n",
    "    супер, большое спасибо:3"
   ]
  },
  {
   "cell_type": "markdown",
   "id": "6a9fb1b0",
   "metadata": {},
   "source": [
    "<div class=\"alert alert-block alert-danger\">\n",
    "<b>Комментарий ревьюера:</b> \n",
    "\n",
    "❌ Здесь, молодец, логика правильная, ты получил долю должников, но здесь мы еще должны учитывать фактор сбалансированости при анализе данных. Что здесь нужно сделать (это касается изучение всех взаимосвязей):\n",
    "1) Сделать одну таблицу, используй для этого `pivot_table`, индекс это будут дети, значение должники, а функции будут `sum (количество должников), count (количество кредиторов), mean (доля должников)`.<br>\n",
    "2) Столбец `mean` можно умножить на 100, что в принципе ты и сделал наверху<br>\n",
    "3) Для красоты лучше избавляться от мультииндексов, после сброса `reset_index()` поставь `droplevel(1, axis=1)`, названия столбцов сразу же станут красивыми;<br>\n",
    "4) С помощью `Print()`  не нужно выводить таблицу, просто название прописываешь и все выведется\n",
    "    \n",
    "    \n",
    "    у меня вопрос: ту программу, что я решу, я не могу проверить - все время выводится ошибка, что дата не найдена/ не определена: 'NameError: name 'data' is not defined'. Что с этим поделать?)\n",
    "    По поводу принта - изза того, что я пишу программу в пайчарме и дальше конвертирую в юпитер, там без принта не выводится, поэтому я немного запуталась"
   ]
  },
  {
   "cell_type": "markdown",
   "id": "d1564f64",
   "metadata": {},
   "source": [
    "<div class=\"alert alert-block alert-success\">\n",
    "<b>Комментарий ревьюера_V2:</b>\n",
    "\n",
    "✔️ По поводу print() понял)) У меня только одна ошибка виднеется это `IndexError: Too many levels: Index has only 1 level, not 2` А в саму программу ты загрузил данные, может из-за этого они не отображаются))\n",
    "    да вроде я и дату файл импортировала и дату создала. \n",
    "    \n",
    "    у меня вопрос: я перечитала вводный курс питона, а я могу визуализацию через seaborn сделать? мне кажется, так будет нагляднее, чем таблица. Если это рабочий вариант - подскажи, как правильно подступиться)"
   ]
  },
  {
   "cell_type": "code",
   "execution_count": 23,
   "id": "b1c79d15",
   "metadata": {},
   "outputs": [
    {
     "data": {
      "text/plain": [
       "<AxesSubplot:xlabel='children_type', ylabel='mean'>"
      ]
     },
     "execution_count": 23,
     "metadata": {},
     "output_type": "execute_result"
    },
    {
     "data": {
      "image/png": "[encoded data removed]",
      "text/plain": [
       "<Figure size 432x288 with 1 Axes>"
      ]
     },
     "metadata": {
      "needs_background": "light"
     },
     "output_type": "display_data"
    }
   ],
   "source": [
    "      import seaborn as sns\n",
    "      sns.barplot(data=data_pivot_children_type, x='children_type', y='mean')\n",
    " "
   ]
  },
  {
   "cell_type": "markdown",
   "id": "2eb9088e",
   "metadata": {
    "deletable": false,
    "id": "2eb9088e"
   },
   "source": [
    "**Вывод:** заемщики не имеющие детей имеют наиболее низкий процент просрочки кредита - 7,51% при выборке в 1063 человека. При наличии 1-2 детей количество кейсов с невыплаченным вовремя кредитом возрастает на 1,72% и составляет 9,23% при выборке в 639 человек. Заемщиков с количеством детей более 2 (многодетных) мы исключили из сравнения, так как количество людей с более 2 детьми в нашей подборке составляет всего 39 человек из 1741 чел (менее 2,25%)\n"
   ]
  },
  {
   "cell_type": "markdown",
   "id": "275bb6ff",
   "metadata": {},
   "source": [
    "<div class=\"alert alert-block alert-warning\">\n",
    "<b>Комментарий ревьюер:</b> \n",
    "\n",
    "⚠️ Не бойся использовать в выводах цифры, также нужно сделать акцент на сбалансированности выборок. Примерно выводы будут выглядеть так: \n",
    "`люди, которые не имеют детей, лучше всего отдают кредит, доля должников здесь составляет с 7,5%, хуже обстоит дело с кредиторами, кто имеет одного или двух детей, здесь доля невозврата составляет соответственно 9,2% и 9,4%. Остальные категории уже некорректно сравнивать, так как в них очень маленькая выборка`)) <br>"
   ]
  },
  {
   "cell_type": "markdown",
   "id": "a3fae95d",
   "metadata": {},
   "source": [
    "<div class=\"alert alert-block alert-success\">\n",
    "<b>Комментарий ревьюера_V2:</b>\n",
    "\n",
    "✔️  Выводы переработала, молодец)) \n",
    "\n",
    "  </div>"
   ]
  },
  {
   "cell_type": "markdown",
   "id": "74c9b3a7",
   "metadata": {
    "deletable": false,
    "editable": false,
    "id": "74c9b3a7"
   },
   "source": [
    "#### 3.2 Есть ли зависимость между семейным положением и возвратом кредита в срок?"
   ]
  },
  {
   "cell_type": "code",
   "execution_count": 24,
   "id": "8098ab3b",
   "metadata": {
    "deletable": false,
    "id": "8098ab3b"
   },
   "outputs": [
    {
     "data": {
      "text/html": [
       "<div>\n",
       "<style scoped>\n",
       "    .dataframe tbody tr th:only-of-type {\n",
       "        vertical-align: middle;\n",
       "    }\n",
       "\n",
       "    .dataframe tbody tr th {\n",
       "        vertical-align: top;\n",
       "    }\n",
       "\n",
       "    .dataframe thead th {\n",
       "        text-align: right;\n",
       "    }\n",
       "</style>\n",
       "<table border=\"1\" class=\"dataframe\">\n",
       "  <thead>\n",
       "    <tr style=\"text-align: right;\">\n",
       "      <th></th>\n",
       "      <th>family_status</th>\n",
       "      <th>count</th>\n",
       "      <th>mean</th>\n",
       "      <th>sum</th>\n",
       "    </tr>\n",
       "  </thead>\n",
       "  <tbody>\n",
       "    <tr>\n",
       "      <th>0</th>\n",
       "      <td>Не женат / не замужем</td>\n",
       "      <td>2796.0</td>\n",
       "      <td>9.763948</td>\n",
       "      <td>273.0</td>\n",
       "    </tr>\n",
       "    <tr>\n",
       "      <th>1</th>\n",
       "      <td>в разводе</td>\n",
       "      <td>1189.0</td>\n",
       "      <td>7.064760</td>\n",
       "      <td>84.0</td>\n",
       "    </tr>\n",
       "    <tr>\n",
       "      <th>2</th>\n",
       "      <td>вдовец / вдова</td>\n",
       "      <td>951.0</td>\n",
       "      <td>6.624606</td>\n",
       "      <td>63.0</td>\n",
       "    </tr>\n",
       "    <tr>\n",
       "      <th>3</th>\n",
       "      <td>гражданский брак</td>\n",
       "      <td>4134.0</td>\n",
       "      <td>9.313014</td>\n",
       "      <td>385.0</td>\n",
       "    </tr>\n",
       "    <tr>\n",
       "      <th>4</th>\n",
       "      <td>женат / замужем</td>\n",
       "      <td>12261.0</td>\n",
       "      <td>7.560558</td>\n",
       "      <td>927.0</td>\n",
       "    </tr>\n",
       "  </tbody>\n",
       "</table>\n",
       "</div>"
      ],
      "text/plain": [
       "           family_status    count      mean    sum\n",
       "0  Не женат / не замужем   2796.0  9.763948  273.0\n",
       "1              в разводе   1189.0  7.064760   84.0\n",
       "2         вдовец / вдова    951.0  6.624606   63.0\n",
       "3       гражданский брак   4134.0  9.313014  385.0\n",
       "4        женат / замужем  12261.0  7.560558  927.0"
      ]
     },
     "execution_count": 24,
     "metadata": {},
     "output_type": "execute_result"
    }
   ],
   "source": [
    "data.groupby(['family_status', 'family_status_id']).size().to_frame('count')\n",
    "def relation(category):\n",
    "    return data.groupby(category)['debt'].mean().to_frame().sort_values(by='debt')\n",
    "relation('family_status')\n",
    "\n",
    "data_pivot_family_status = data.pivot_table(index=['family_status'], values='debt', aggfunc=('sum', 'count', 'mean'))\n",
    "\n",
    "data_pivot_family_status['mean'] = data_pivot_family_status['mean'] * 100\n",
    "data_pivot_family_status = data_pivot_family_status.reset_index()\n",
    "#data_pivot = data_pivot.droplevel(1, axis=1) - убираем, не подходит\n",
    "data_pivot_family_status\n",
    "\n",
    "\n",
    "# Ваш код будет здесь. Вы можете создавать новые ячейки."
   ]
  },
  {
   "cell_type": "markdown",
   "id": "c389ca63",
   "metadata": {
    "deletable": false,
    "id": "c389ca63"
   },
   "source": [
    "**Вывод:** женатые люди лучше всего отдают кредит -  доля должников здесь составляет  7,5%, хуже обстоит дело с кредиторами,кто не состоят в браке (т.е. не женаты или в гражданском браке), имеют более высокую долю невозврата:  9,2% и 9,7% соответственно. Сравнивать в выборке категорию вдов и вдовцов, а так же разведенных не очень корректно из-за небольшого процента заемщиков данной категории (всего 63 и 85 человек из 1741 соответственно)."
   ]
  },
  {
   "cell_type": "markdown",
   "id": "e58b4294",
   "metadata": {},
   "source": [
    "<div class=\"alert alert-block alert-warning\">\n",
    "<b>Комментарий ревьюер:</b> \n",
    "\n",
    "⚠️ В выводах давай будет использовать цифры, и сделаем их детальными)) Удели здесь внимание тоже сбалансированности выборок, по большому счету здесь можно сравнивать только три группы)) "
   ]
  },
  {
   "cell_type": "markdown",
   "id": "0c80b1c8",
   "metadata": {},
   "source": [
    "<div class=\"alert alert-block alert-success\">\n",
    "<b>Комментарий ревьюера_V2:</b>\n",
    "\n",
    "✔️  Здесь тоже все отлично по выводам))\n",
    "\n",
    "  </div>"
   ]
  },
  {
   "cell_type": "markdown",
   "id": "9529de68",
   "metadata": {
    "deletable": false,
    "editable": false,
    "id": "9529de68"
   },
   "source": [
    "#### 3.3 Есть ли зависимость между уровнем дохода и возвратом кредита в срок?"
   ]
  },
  {
   "cell_type": "markdown",
   "id": "154f4d9c",
   "metadata": {},
   "source": [
    "<div class=\"alert alert-block alert-danger\">\n",
    "<b>Комментарий ревьюера_V3:</b> \n",
    "\n",
    "❌ Я правильно понимаю, что ты просто не можешь видеть как код исполняется)) Убери везде `data_pivot = data_pivot.droplevel(1, axis=1)`, у тебя он везде будет ломаться, то есть во всех четырех таблицах, то есть уже в трех))<br>\n",
    "Еще забыл написать в прошлый раз,  стоит каждую таблицу называть своим именем, вдруг тебе понадобятся ее еще раз вывести, название каждой таблицы должно быть индивидуальным, например data_children, data_family)) "
   ]
  },
  {
   "cell_type": "code",
   "execution_count": 25,
   "id": "8787f44a",
   "metadata": {
    "deletable": false,
    "id": "8787f44a"
   },
   "outputs": [
    {
     "data": {
      "text/html": [
       "<div>\n",
       "<style scoped>\n",
       "    .dataframe tbody tr th:only-of-type {\n",
       "        vertical-align: middle;\n",
       "    }\n",
       "\n",
       "    .dataframe tbody tr th {\n",
       "        vertical-align: top;\n",
       "    }\n",
       "\n",
       "    .dataframe thead th {\n",
       "        text-align: right;\n",
       "    }\n",
       "</style>\n",
       "<table border=\"1\" class=\"dataframe\">\n",
       "  <thead>\n",
       "    <tr style=\"text-align: right;\">\n",
       "      <th></th>\n",
       "      <th>total_income_type</th>\n",
       "      <th>count</th>\n",
       "      <th>mean</th>\n",
       "      <th>sum</th>\n",
       "    </tr>\n",
       "  </thead>\n",
       "  <tbody>\n",
       "    <tr>\n",
       "      <th>0</th>\n",
       "      <td>высокий</td>\n",
       "      <td>25.0</td>\n",
       "      <td>8.000000</td>\n",
       "      <td>2.0</td>\n",
       "    </tr>\n",
       "    <tr>\n",
       "      <th>1</th>\n",
       "      <td>выше среднего</td>\n",
       "      <td>14110.0</td>\n",
       "      <td>8.114812</td>\n",
       "      <td>1145.0</td>\n",
       "    </tr>\n",
       "    <tr>\n",
       "      <th>2</th>\n",
       "      <td>низкий</td>\n",
       "      <td>371.0</td>\n",
       "      <td>6.199461</td>\n",
       "      <td>23.0</td>\n",
       "    </tr>\n",
       "    <tr>\n",
       "      <th>3</th>\n",
       "      <td>средний</td>\n",
       "      <td>6825.0</td>\n",
       "      <td>8.234432</td>\n",
       "      <td>562.0</td>\n",
       "    </tr>\n",
       "  </tbody>\n",
       "</table>\n",
       "</div>"
      ],
      "text/plain": [
       "  total_income_type    count      mean     sum\n",
       "0           высокий     25.0  8.000000     2.0\n",
       "1     выше среднего  14110.0  8.114812  1145.0\n",
       "2            низкий    371.0  6.199461    23.0\n",
       "3           средний   6825.0  8.234432   562.0"
      ]
     },
     "execution_count": 25,
     "metadata": {},
     "output_type": "execute_result"
    }
   ],
   "source": [
    "def total_income_type(row):\n",
    "    if row['total_income'] <= 50000:\n",
    "        return 'низкий'\n",
    "    elif 50000 < row['total_income'] <= 120000:\n",
    "        return 'средний'\n",
    "    elif row['total_income'] < 1000000:\n",
    "        return 'выше среднего'\n",
    "    else:\n",
    "        return 'высокий'\n",
    "\n",
    "data['total_income_type'] = data.apply(total_income_type, axis=1)\n",
    "\n",
    "def relation(category):\n",
    "    return data.groupby(category)['debt'].mean().to_frame().sort_values(by='debt')\n",
    "\n",
    "relation('total_income_type')\n",
    "# Ваш код будет здесь. Вы можете создавать новые ячейки.\n",
    "\n",
    "data_pivot_income = data.pivot_table(index=['total_income_type'], values='debt', aggfunc=('sum', 'count', 'mean'))\n",
    "\n",
    "data_pivot_income['mean'] = data_pivot_income['mean'] * 100\n",
    "data_pivot_income = data_pivot_income.reset_index()\n",
    "\n",
    "data_pivot_income"
   ]
  },
  {
   "cell_type": "markdown",
   "id": "6dd14b57",
   "metadata": {
    "deletable": false,
    "id": "6dd14b57"
   },
   "source": [
    "**Вывод:**  Заемщики с высоким доходом (более 1.000.000) имеют сравнительно не большой процент невыплат по кредитам - всего 7,82. Однако к заемщикам с высоким уровнем дохода относятся всего 172 человека из 1741, что составляет около 10%.\n",
    "Несколько больше процент просрочки кредитов - 8,16% у людей с доходом выше среднего (от 120.000 до 1.000.000) и так же 8,16 у заемщиков с средним уровнем дохода (от 50.000 до 120.000)\n",
    "    Мы исключили из выборки заемщиков с низким уровнем дохода, так как это всего 23 человека из всей выборки. \n"
   ]
  },
  {
   "cell_type": "markdown",
   "id": "1b4fe28c",
   "metadata": {},
   "source": [
    "<div class=\"alert alert-block alert-warning\">\n",
    "<b>Комментарий ревьюер:</b> \n",
    "\n",
    "⚠️ Здесь сравниваем только две группы B и С, не забываем про сбалансированость выборки)) Выводы делаем детальными<br>"
   ]
  },
  {
   "cell_type": "markdown",
   "id": "19d45271",
   "metadata": {},
   "source": [
    "<div class=\"alert alert-block alert-success\">\n",
    "<b>Комментарий ревьюера_V2:</b>\n",
    "\n",
    "✔️  Здесь сравнил две самые большие группы))\n",
    "\n",
    "  </div>"
   ]
  },
  {
   "cell_type": "markdown",
   "id": "1dcc9b12",
   "metadata": {
    "deletable": false,
    "editable": false,
    "id": "1dcc9b12"
   },
   "source": [
    "#### 3.4 Как разные цели кредита влияют на его возврат в срок?"
   ]
  },
  {
   "cell_type": "code",
   "execution_count": 26,
   "id": "c602bc8b",
   "metadata": {
    "deletable": false,
    "id": "c602bc8b"
   },
   "outputs": [
    {
     "data": {
      "text/html": [
       "<div>\n",
       "<style scoped>\n",
       "    .dataframe tbody tr th:only-of-type {\n",
       "        vertical-align: middle;\n",
       "    }\n",
       "\n",
       "    .dataframe tbody tr th {\n",
       "        vertical-align: top;\n",
       "    }\n",
       "\n",
       "    .dataframe thead th {\n",
       "        text-align: right;\n",
       "    }\n",
       "</style>\n",
       "<table border=\"1\" class=\"dataframe\">\n",
       "  <thead>\n",
       "    <tr style=\"text-align: right;\">\n",
       "      <th></th>\n",
       "      <th>purpose_category</th>\n",
       "      <th>count</th>\n",
       "      <th>mean</th>\n",
       "      <th>sum</th>\n",
       "    </tr>\n",
       "  </thead>\n",
       "  <tbody>\n",
       "    <tr>\n",
       "      <th>0</th>\n",
       "      <td>операции с автомобилем</td>\n",
       "      <td>4279.0</td>\n",
       "      <td>9.347978</td>\n",
       "      <td>400.0</td>\n",
       "    </tr>\n",
       "    <tr>\n",
       "      <th>1</th>\n",
       "      <td>операции с недвижимостью</td>\n",
       "      <td>10751.0</td>\n",
       "      <td>7.255139</td>\n",
       "      <td>780.0</td>\n",
       "    </tr>\n",
       "    <tr>\n",
       "      <th>2</th>\n",
       "      <td>получение образования</td>\n",
       "      <td>3988.0</td>\n",
       "      <td>9.252758</td>\n",
       "      <td>369.0</td>\n",
       "    </tr>\n",
       "    <tr>\n",
       "      <th>3</th>\n",
       "      <td>проведение свадьбы</td>\n",
       "      <td>2313.0</td>\n",
       "      <td>7.911803</td>\n",
       "      <td>183.0</td>\n",
       "    </tr>\n",
       "  </tbody>\n",
       "</table>\n",
       "</div>"
      ],
      "text/plain": [
       "           purpose_category    count      mean    sum\n",
       "0    операции с автомобилем   4279.0  9.347978  400.0\n",
       "1  операции с недвижимостью  10751.0  7.255139  780.0\n",
       "2     получение образования   3988.0  9.252758  369.0\n",
       "3        проведение свадьбы   2313.0  7.911803  183.0"
      ]
     },
     "execution_count": 26,
     "metadata": {},
     "output_type": "execute_result"
    }
   ],
   "source": [
    "def categorize_purpose(row):\n",
    "    try:\n",
    "        if 'автом' in row:\n",
    "            return 'операции с автомобилем'\n",
    "        elif 'жил' in row or 'недвиж' in row:\n",
    "            return 'операции с недвижимостью'\n",
    "        elif 'свад' in row:\n",
    "            return 'проведение свадьбы'\n",
    "        elif 'образов' in row:\n",
    "            return 'получение образования'\n",
    "    except:\n",
    "        return 'нет категории' \n",
    "data['purpose_category'] = data['purpose'].apply(categorize_purpose)\n",
    "\n",
    "def relation(category):\n",
    "    return data.groupby(category)['debt'].mean().to_frame().sort_values(by='debt')\n",
    "relation('purpose_category')\n",
    "\n",
    "data_pivot_putpose = data.pivot_table(index=['purpose_category'], values='debt', aggfunc=('sum', 'count', 'mean'))\n",
    "\n",
    "data_pivot_putpose['mean'] = data_pivot_putpose['mean'] * 100\n",
    "data_pivot_putpose = data_pivot_putpose.reset_index()\n",
    "data_pivot_putpose\n",
    "\n"
   ]
  },
  {
   "cell_type": "markdown",
   "id": "cf05ed63",
   "metadata": {
    "deletable": false,
    "id": "cf05ed63"
   },
   "source": [
    "**Вывод:** Интересная закономерность: почему-то наиболее ответственно к выплату кредита относятся заемщики, берущие деньги под проведение свадьбы - всего 7,92% при выборке всего в 186 человек (что чуть более 10%), а вот операции с недвижимостью люди оплачивают еще с меньшим процентом просрочек - 7,2% при выборке в 782 человека. \n",
    "Больше процент просрочек у заемщиков, берущих деньги для операций с автомобилем - 9,34% при выборке в 403 человека и для получения образования - 9,2% при выборке в 370 человек. "
   ]
  },
  {
   "cell_type": "markdown",
   "id": "04a8f0a2",
   "metadata": {},
   "source": [
    "<div class=\"alert alert-block alert-warning\">\n",
    "<b>Комментарий ревьюера:</b> \n",
    "\n",
    "⚠️ Почему по твоему самые надежные заемщики те, кто берет ипотеку? Здесь можно порасуждать в выводах)) \n",
    "    Может все дело в том, что наличие жилья - базовая необходимость человека? ведь ипотеку дают обычно под залог имущества, страшно остаться без крыши над головой, вот и люди обязательнее себя ведут?\n",
    "    а какие у тебя предположения? или можно посмотреть взаимосвязь каких то еще параметров?\n",
    "    "
   ]
  },
  {
   "cell_type": "markdown",
   "id": "3ec27080",
   "metadata": {},
   "source": [
    "<div class=\"alert alert-block alert-success\">\n",
    "<b>Комментарий ревьюера_V2:</b>\n",
    "\n",
    "✔️ Здесь можно просто порасуждать, самые большие суммы при ипотеке, поэтому банки предъявляют самые жесткие требования к ипотечникам, поэтому их проверяют вдоль и поперек при выдаче кредитов, плюс собственность находится в залоге у банка, не будешь платить она вернется к банку)) \n",
    "   \n",
    "       \n",
    "  </div>"
   ]
  },
  {
   "cell_type": "markdown",
   "id": "46c1f10b",
   "metadata": {
    "deletable": false,
    "editable": false,
    "id": "46c1f10b"
   },
   "source": [
    "#### 3.5 Приведите возможные причины появления пропусков в исходных данных."
   ]
  },
  {
   "cell_type": "markdown",
   "id": "3697d2a9",
   "metadata": {
    "deletable": false,
    "id": "3697d2a9"
   },
   "source": [
    "*Ответ:* причины могут быть технологические или случайные - где то забыли перенести информацию или упустили ее при копировании"
   ]
  },
  {
   "cell_type": "markdown",
   "id": "ade6e987",
   "metadata": {},
   "source": [
    "<div class=\"alert alert-block alert-success\">\n",
    "<b>Комментарий ревьюера:</b>\n",
    "\n",
    "✔️ Ответ правильный)) \n",
    "  </div>"
   ]
  },
  {
   "cell_type": "markdown",
   "id": "3137d257",
   "metadata": {
    "deletable": false,
    "editable": false,
    "id": "3137d257"
   },
   "source": [
    "#### 3.6 Объясните, почему заполнить пропуски медианным значением — лучшее решение для количественных переменных."
   ]
  },
  {
   "cell_type": "markdown",
   "id": "cf40012a",
   "metadata": {
    "deletable": false,
    "id": "cf40012a"
   },
   "source": [
    "*Ответ:* когда мы выбираем метод медианы - она делит всю выборку пополам и выдает среднее значение при пересчете всех от максимального к минимальному. При использовании среднеарифметического (и при наличии \"вборсов\" - т.е. аномальных крайних значений может достаточно сильно сдвинуться показатель среднеарифметического)"
   ]
  },
  {
   "cell_type": "markdown",
   "id": "eac031c5",
   "metadata": {},
   "source": [
    "<div class=\"alert alert-block alert-warning\">\n",
    "<b>Комментарий ревьюера:</b> \n",
    "\n",
    "⚠️ А в чем разница между средним и медианой?))"
   ]
  },
  {
   "cell_type": "markdown",
   "id": "d85d1ed8",
   "metadata": {},
   "source": [
    "<div class=\"alert alert-block alert-success\">\n",
    "<b>Комментарий ревьюера_V2:</b>\n",
    "\n",
    "✔️ Медиана не подвержена выбросам, все верно)) "
   ]
  },
  {
   "cell_type": "markdown",
   "id": "57bc304e",
   "metadata": {
    "deletable": false,
    "editable": false,
    "id": "57bc304e"
   },
   "source": [
    "### Шаг 4: общий вывод."
   ]
  },
  {
   "cell_type": "markdown",
   "id": "1ab75d1c",
   "metadata": {
    "deletable": false,
    "id": "1ab75d1c"
   },
   "source": [
    "1. Мы выявили зависимость между возвратом кредита в срок и наличием детей:\n",
    "Заемщики не имеющие детей имеют наиболее низкий процент просрочки кредита - 7,51% при выборке в 1063 человека.\n",
    "\n",
    "2. Зависимость просрочек по кредиту от семейного положения: \n",
    "Женатые люди лучше всего отдают кредит -  доля должников здесь составляет  7,5%, хуже обстоит дело с кредиторами,кто не состоят в браке (т.е. не женаты или в гражданском браке), имеют более высокую долю невозврата:  9,2% и 9,7% соответственно.\n",
    "\n",
    "3. При сравнении уровня дохода и возврата заема в срок мы выяснили:\n",
    "Заемщики с высоким доходом (более 1.000.000) имеют сравнительно не большой процент невыплат по кредитам - всего 7,82. Однако к заемщикам с высоким уровнем дохода относятся всего 172 человека из 1741, что составляет около 10%.\n",
    "Несколько больше процент просрочки кредитов - 8,16% у людей с доходом выше среднего (от 120.000 до 1.000.000) и так же 8,16 у заемщиков с средним уровнем дохода (от 50.000 до 120.000)\n",
    "\n",
    "4. При анализе взаимосвязи цели кредита его выплаты в срок мы установили:\n",
    "Наиболее ответственно к выплату кредита относятся заемщики, берущие деньги под проведение свадьбы - всего 7,92% при выборке всего в 186 человек (что чуть более 10%), а вот операции с недвижимостью люди оплачивают еще с меньшим процентом просрочек - 7,2% при выборке в 782 человека. \n",
    "Больше процент просрочек у заемщиков, берущих деньги для операций с автомобилем - 9,34% при выборке в 403 человека и для получения образования - 9,2% при выборке в 370 человек. \n",
    "\n",
    "5. Рекомендации по улучшению сбора даннных и скоринга:\n",
    "При заполнении таблицы в столбце \"purpose\" оставьте основные 4-5 вариантов: 'операции с автомобилем', 'операции с недвижимостью', 'проведение свадьбы', 'получение образования'. Многие данные (например, уровень заработной платы) можно сразу присваивать определенным категориям. И уделяйте больше внимания пропускам информации (может имеет смысл внедрить доп проверку) для более полного сбора данных.  "
   ]
  },
  {
   "cell_type": "markdown",
   "id": "d689a9db",
   "metadata": {},
   "source": [
    " <div class=\"alert alert-block alert-success\">\n",
    "<b>Комментарий ревьюера_V2:</b>\n",
    "\n",
    "✔️ Выводы хорошо переработала, молодец)) Рекомендации даны банку, исследование проведено))\n",
    "  \n",
    "  \n",
    "</div>"
   ]
  },
  {
   "cell_type": "markdown",
   "id": "be12ea7e",
   "metadata": {},
   "source": [
    "<div class=\"alert alert-block alert-danger\">\n",
    "<b>Комментарий ревьюера:</b> \n",
    "\n",
    "❌ Выводы должны быть детальными:\n",
    "- Отвечаешь на вопрос \"Есть ли зависимость между количеством детей и возвратом кредита в срок?\"\n",
    "- Отвечаешь на вопрос  \"Есть ли зависимость между семейным положением и возвратом кредита в срок?\"\n",
    "- Отвечаешь на вопрос  \"Есть ли зависимость между уровнем дохода и возвратом кредита в срок?\"\n",
    "- Отвечаешь на вопрос  \"Как разные цели кредита влияют на его возврат в срок?\"\n",
    "- Даешь рекомендацией банку по улучшению сбора данных и скоринга.\n",
    "\n",
    "Общий вывод - резюме этой работы. Большинство заказчиков посмотрят сначала его (а некоторые только его). Чтобы выводы не огорошивали заказчика своей очевидностью, стоит добавить в них цифр, всяких корреляций, процентов итд :) Сделай так, чтобы вся найденная в данных информация была отражена в выводе))"
   ]
  },
  {
   "cell_type": "markdown",
   "id": "4d5a69d8",
   "metadata": {},
   "source": [
    "<div class=\"alert alert-block alert-success\">\n",
    "<b>Комментарий ревьюера:</b>\n",
    "    \n",
    "Галина, отлично поработала, видно что умеешь работать с кодом, в общем молодец, но нужно будет оптимизировать код при изучении взаимосвязей и поработать над выводами)) \n",
    "<br> Жду исправленного варианта)\n",
    "  </div>"
   ]
  },
  {
   "cell_type": "markdown",
   "id": "974b4ebf",
   "metadata": {},
   "source": [
    "<div class=\"alert alert-block alert-success\">\n",
    "<b>Комментарий ревьюера:</b>\n",
    "    \n",
    "Галина, нужно будет исправить там где ломается код, в остальном все отлично)) Жду ипсравленного варианта))\n",
    "   \n",
    "  </div>"
   ]
  },
  {
   "cell_type": "markdown",
   "id": "6f9e4a23",
   "metadata": {},
   "source": [
    "<div class=\"alert alert-block alert-success\">\n",
    "<b>Комментарий ревьюера:</b>\n",
    "    \n",
    "Галина, у тебя ломается код, нужно везде избавиться `droplevel(1, axis=1)`, чтобы код нормально везде работал)) Также давай каждую таблицу в изучении взаимосвязей назовем по своему))\n",
    "   \n",
    "  </div>\n",
    "  + переименовала таблицы\n",
    "  + убрала `droplevel(1, axis=1)`\n",
    "  + у меня остался вопрос в первом задании в 3 части по поводу seaborn - могу ли я для визуализации оттуда брать инструменты? если да, подскажи, как это лучше сделать."
   ]
  },
  {
   "cell_type": "markdown",
   "id": "4b48d259",
   "metadata": {},
   "source": [
    "<div class=\"alert alert-block alert-success\">\n",
    "<b>Комментарий ревьюера_V3:</b>\n",
    "    \n",
    "Галина, вижу, теперь код полностью работает)) \n",
    "Конечно можешь вначале импортируешь библиотеку, а затем уже начинаешь строить графики \n",
    "      \n",
    "      import seaborn as sns\n",
    "      sns.barplot(data=data_pivot_children_type, x='children_type', y='mean')\n",
    " \n",
    "    \n",
    "Галина, отлично поработала, все исправила, теперь можно двигаться дальше)) Успехов в дальнейшем обучении)) "
   ]
  }
 ],
 "metadata": {
  "ExecuteTimeLog": [
   {
    "duration": 49,
    "start_time": "2023-02-23T14:16:32.877Z"
   },
   {
    "duration": 7,
    "start_time": "2023-02-23T14:16:40.397Z"
   },
   {
    "duration": 7,
    "start_time": "2023-02-23T14:19:29.802Z"
   },
   {
    "duration": 11,
    "start_time": "2023-02-23T14:26:05.265Z"
   },
   {
    "duration": 71,
    "start_time": "2023-02-23T15:36:50.675Z"
   },
   {
    "duration": 8,
    "start_time": "2023-02-23T15:37:10.487Z"
   },
   {
    "duration": 8,
    "start_time": "2023-02-23T15:41:50.427Z"
   },
   {
    "duration": 3,
    "start_time": "2023-02-23T15:41:52.834Z"
   },
   {
    "duration": 3,
    "start_time": "2023-02-23T15:41:53.342Z"
   },
   {
    "duration": 51,
    "start_time": "2023-02-23T15:44:04.249Z"
   },
   {
    "duration": 7,
    "start_time": "2023-02-23T15:44:37.527Z"
   },
   {
    "duration": 7,
    "start_time": "2023-02-23T15:44:54.823Z"
   },
   {
    "duration": 7,
    "start_time": "2023-02-23T15:44:57.545Z"
   },
   {
    "duration": 7,
    "start_time": "2023-02-23T16:34:22.885Z"
   },
   {
    "duration": 8,
    "start_time": "2023-02-23T16:46:00.807Z"
   },
   {
    "duration": 663,
    "start_time": "2023-02-23T20:59:32.134Z"
   },
   {
    "duration": 20,
    "start_time": "2023-02-23T20:59:32.801Z"
   },
   {
    "duration": 14,
    "start_time": "2023-02-23T20:59:32.823Z"
   },
   {
    "duration": 27,
    "start_time": "2023-02-23T20:59:32.838Z"
   },
   {
    "duration": 56,
    "start_time": "2023-02-23T20:59:32.867Z"
   },
   {
    "duration": 3,
    "start_time": "2023-02-23T20:59:32.925Z"
   },
   {
    "duration": 9,
    "start_time": "2023-02-23T20:59:32.930Z"
   },
   {
    "duration": 4,
    "start_time": "2023-02-23T20:59:32.940Z"
   },
   {
    "duration": 8,
    "start_time": "2023-02-23T20:59:32.946Z"
   },
   {
    "duration": 4,
    "start_time": "2023-02-23T20:59:32.955Z"
   },
   {
    "duration": 60,
    "start_time": "2023-02-23T20:59:32.960Z"
   },
   {
    "duration": 9,
    "start_time": "2023-02-23T20:59:33.022Z"
   },
   {
    "duration": 4,
    "start_time": "2023-02-23T20:59:33.032Z"
   },
   {
    "duration": 12,
    "start_time": "2023-02-23T20:59:33.038Z"
   },
   {
    "duration": 41,
    "start_time": "2023-02-23T20:59:33.051Z"
   },
   {
    "duration": 15,
    "start_time": "2023-02-23T20:59:33.094Z"
   },
   {
    "duration": 4,
    "start_time": "2023-02-23T20:59:33.111Z"
   },
   {
    "duration": 12,
    "start_time": "2023-02-23T20:59:33.116Z"
   },
   {
    "duration": 5,
    "start_time": "2023-02-23T20:59:33.129Z"
   },
   {
    "duration": 5,
    "start_time": "2023-02-23T20:59:33.136Z"
   },
   {
    "duration": 12,
    "start_time": "2023-02-23T20:59:33.142Z"
   },
   {
    "duration": 184,
    "start_time": "2023-02-23T20:59:33.155Z"
   },
   {
    "duration": 14,
    "start_time": "2023-02-23T20:59:33.341Z"
   },
   {
    "duration": 237,
    "start_time": "2023-02-23T20:59:33.357Z"
   },
   {
    "duration": 17,
    "start_time": "2023-02-23T20:59:33.596Z"
   },
   {
    "duration": 52,
    "start_time": "2023-02-24T10:51:14.813Z"
   },
   {
    "duration": 45,
    "start_time": "2023-02-24T11:32:44.721Z"
   },
   {
    "duration": 8,
    "start_time": "2023-02-24T11:32:50.528Z"
   },
   {
    "duration": 11,
    "start_time": "2023-02-24T11:36:08.129Z"
   },
   {
    "duration": 8,
    "start_time": "2023-02-24T11:45:02.969Z"
   },
   {
    "duration": 9,
    "start_time": "2023-02-24T12:18:12.642Z"
   },
   {
    "duration": 1021,
    "start_time": "2023-02-24T22:08:22.305Z"
   },
   {
    "duration": 29,
    "start_time": "2023-02-24T22:08:23.329Z"
   },
   {
    "duration": 16,
    "start_time": "2023-02-24T22:08:23.360Z"
   },
   {
    "duration": 15,
    "start_time": "2023-02-24T22:08:23.378Z"
   },
   {
    "duration": 36,
    "start_time": "2023-02-24T22:08:23.394Z"
   },
   {
    "duration": 4,
    "start_time": "2023-02-24T22:08:23.432Z"
   },
   {
    "duration": 13,
    "start_time": "2023-02-24T22:08:23.438Z"
   },
   {
    "duration": 10,
    "start_time": "2023-02-24T22:08:23.453Z"
   },
   {
    "duration": 30,
    "start_time": "2023-02-24T22:08:23.465Z"
   },
   {
    "duration": 23,
    "start_time": "2023-02-24T22:08:23.497Z"
   },
   {
    "duration": 42,
    "start_time": "2023-02-24T22:08:23.522Z"
   },
   {
    "duration": 10,
    "start_time": "2023-02-24T22:08:23.565Z"
   },
   {
    "duration": 3,
    "start_time": "2023-02-24T22:08:23.577Z"
   },
   {
    "duration": 20,
    "start_time": "2023-02-24T22:08:23.582Z"
   },
   {
    "duration": 25,
    "start_time": "2023-02-24T22:08:23.604Z"
   },
   {
    "duration": 17,
    "start_time": "2023-02-24T22:08:23.630Z"
   },
   {
    "duration": 4,
    "start_time": "2023-02-24T22:08:23.649Z"
   },
   {
    "duration": 17,
    "start_time": "2023-02-24T22:08:23.654Z"
   },
   {
    "duration": 19,
    "start_time": "2023-02-24T22:08:23.673Z"
   },
   {
    "duration": 3,
    "start_time": "2023-02-24T22:08:23.694Z"
   },
   {
    "duration": 14,
    "start_time": "2023-02-24T22:08:23.699Z"
   },
   {
    "duration": 259,
    "start_time": "2023-02-24T22:08:23.715Z"
   },
   {
    "duration": 0,
    "start_time": "2023-02-24T22:08:23.976Z"
   },
   {
    "duration": 0,
    "start_time": "2023-02-24T22:08:23.978Z"
   },
   {
    "duration": 0,
    "start_time": "2023-02-24T22:08:23.979Z"
   },
   {
    "duration": 456,
    "start_time": "2023-02-24T22:28:29.455Z"
   },
   {
    "duration": 23,
    "start_time": "2023-02-24T22:28:29.913Z"
   },
   {
    "duration": 16,
    "start_time": "2023-02-24T22:28:29.937Z"
   },
   {
    "duration": 9,
    "start_time": "2023-02-24T22:28:29.955Z"
   },
   {
    "duration": 54,
    "start_time": "2023-02-24T22:28:29.966Z"
   },
   {
    "duration": 4,
    "start_time": "2023-02-24T22:28:30.021Z"
   },
   {
    "duration": 14,
    "start_time": "2023-02-24T22:28:30.027Z"
   },
   {
    "duration": 11,
    "start_time": "2023-02-24T22:28:30.042Z"
   },
   {
    "duration": 11,
    "start_time": "2023-02-24T22:28:30.055Z"
   },
   {
    "duration": 24,
    "start_time": "2023-02-24T22:28:30.069Z"
   },
   {
    "duration": 49,
    "start_time": "2023-02-24T22:28:30.094Z"
   },
   {
    "duration": 9,
    "start_time": "2023-02-24T22:28:30.145Z"
   },
   {
    "duration": 35,
    "start_time": "2023-02-24T22:28:30.156Z"
   },
   {
    "duration": 34,
    "start_time": "2023-02-24T22:28:30.193Z"
   },
   {
    "duration": 55,
    "start_time": "2023-02-24T22:28:30.229Z"
   },
   {
    "duration": 28,
    "start_time": "2023-02-24T22:28:30.286Z"
   },
   {
    "duration": 3,
    "start_time": "2023-02-24T22:28:30.316Z"
   },
   {
    "duration": 57,
    "start_time": "2023-02-24T22:28:30.321Z"
   },
   {
    "duration": 26,
    "start_time": "2023-02-24T22:28:30.379Z"
   },
   {
    "duration": 27,
    "start_time": "2023-02-24T22:28:30.407Z"
   },
   {
    "duration": 38,
    "start_time": "2023-02-24T22:28:30.437Z"
   },
   {
    "duration": 273,
    "start_time": "2023-02-24T22:28:30.477Z"
   },
   {
    "duration": 0,
    "start_time": "2023-02-24T22:28:30.752Z"
   },
   {
    "duration": 0,
    "start_time": "2023-02-24T22:28:30.754Z"
   },
   {
    "duration": 0,
    "start_time": "2023-02-24T22:28:30.756Z"
   },
   {
    "duration": 555,
    "start_time": "2023-02-26T11:57:26.909Z"
   },
   {
    "duration": 24,
    "start_time": "2023-02-26T11:57:27.466Z"
   },
   {
    "duration": 16,
    "start_time": "2023-02-26T11:57:27.492Z"
   },
   {
    "duration": 33,
    "start_time": "2023-02-26T11:57:27.510Z"
   },
   {
    "duration": 56,
    "start_time": "2023-02-26T11:57:27.545Z"
   },
   {
    "duration": 3,
    "start_time": "2023-02-26T11:57:27.603Z"
   },
   {
    "duration": 25,
    "start_time": "2023-02-26T11:57:27.608Z"
   },
   {
    "duration": 16,
    "start_time": "2023-02-26T11:57:27.635Z"
   },
   {
    "duration": 17,
    "start_time": "2023-02-26T11:57:27.653Z"
   },
   {
    "duration": 10,
    "start_time": "2023-02-26T11:57:27.673Z"
   },
   {
    "duration": 45,
    "start_time": "2023-02-26T11:57:27.685Z"
   },
   {
    "duration": 10,
    "start_time": "2023-02-26T11:57:27.732Z"
   },
   {
    "duration": 11,
    "start_time": "2023-02-26T11:57:27.744Z"
   },
   {
    "duration": 14,
    "start_time": "2023-02-26T11:57:27.756Z"
   },
   {
    "duration": 25,
    "start_time": "2023-02-26T11:57:27.772Z"
   },
   {
    "duration": 18,
    "start_time": "2023-02-26T11:57:27.799Z"
   },
   {
    "duration": 3,
    "start_time": "2023-02-26T11:57:27.819Z"
   },
   {
    "duration": 23,
    "start_time": "2023-02-26T11:57:27.823Z"
   },
   {
    "duration": 30,
    "start_time": "2023-02-26T11:57:27.848Z"
   },
   {
    "duration": 25,
    "start_time": "2023-02-26T11:57:27.880Z"
   },
   {
    "duration": 53,
    "start_time": "2023-02-26T11:57:27.906Z"
   },
   {
    "duration": 229,
    "start_time": "2023-02-26T11:57:27.961Z"
   },
   {
    "duration": 52,
    "start_time": "2023-02-26T11:57:28.192Z"
   },
   {
    "duration": 334,
    "start_time": "2023-02-26T11:57:28.247Z"
   },
   {
    "duration": 0,
    "start_time": "2023-02-26T11:57:28.583Z"
   },
   {
    "duration": 56,
    "start_time": "2023-02-26T12:33:35.165Z"
   },
   {
    "duration": 611,
    "start_time": "2023-02-26T22:55:02.815Z"
   },
   {
    "duration": 23,
    "start_time": "2023-02-26T22:55:03.430Z"
   },
   {
    "duration": 14,
    "start_time": "2023-02-26T22:55:03.455Z"
   },
   {
    "duration": 10,
    "start_time": "2023-02-26T22:55:03.471Z"
   },
   {
    "duration": 60,
    "start_time": "2023-02-26T22:55:03.483Z"
   },
   {
    "duration": 4,
    "start_time": "2023-02-26T22:55:03.545Z"
   },
   {
    "duration": 18,
    "start_time": "2023-02-26T22:55:03.551Z"
   },
   {
    "duration": 5,
    "start_time": "2023-02-26T22:55:03.572Z"
   },
   {
    "duration": 27,
    "start_time": "2023-02-26T22:55:03.580Z"
   },
   {
    "duration": 40,
    "start_time": "2023-02-26T22:55:03.616Z"
   },
   {
    "duration": 65,
    "start_time": "2023-02-26T22:55:03.657Z"
   },
   {
    "duration": 18,
    "start_time": "2023-02-26T22:55:03.724Z"
   },
   {
    "duration": 4,
    "start_time": "2023-02-26T22:55:03.743Z"
   },
   {
    "duration": 23,
    "start_time": "2023-02-26T22:55:03.749Z"
   },
   {
    "duration": 20,
    "start_time": "2023-02-26T22:55:03.774Z"
   },
   {
    "duration": 75,
    "start_time": "2023-02-26T22:55:03.796Z"
   },
   {
    "duration": 8,
    "start_time": "2023-02-26T22:55:03.873Z"
   },
   {
    "duration": 58,
    "start_time": "2023-02-26T22:55:03.883Z"
   },
   {
    "duration": 25,
    "start_time": "2023-02-26T22:55:03.942Z"
   },
   {
    "duration": 51,
    "start_time": "2023-02-26T22:55:03.968Z"
   },
   {
    "duration": 14,
    "start_time": "2023-02-26T22:55:04.024Z"
   },
   {
    "duration": 210,
    "start_time": "2023-02-26T22:55:04.040Z"
   },
   {
    "duration": 42,
    "start_time": "2023-02-26T22:55:04.252Z"
   },
   {
    "duration": 289,
    "start_time": "2023-02-26T22:55:04.295Z"
   },
   {
    "duration": 51,
    "start_time": "2023-02-26T22:55:04.594Z"
   },
   {
    "duration": 1494,
    "start_time": "2024-05-26T17:06:35.638Z"
   },
   {
    "duration": 708,
    "start_time": "2024-05-26T17:07:05.552Z"
   },
   {
    "duration": 25,
    "start_time": "2024-05-26T17:07:06.262Z"
   },
   {
    "duration": 18,
    "start_time": "2024-05-26T17:07:06.289Z"
   },
   {
    "duration": 13,
    "start_time": "2024-05-26T17:07:06.309Z"
   },
   {
    "duration": 75,
    "start_time": "2024-05-26T17:07:06.323Z"
   },
   {
    "duration": 4,
    "start_time": "2024-05-26T17:07:06.400Z"
   },
   {
    "duration": 10,
    "start_time": "2024-05-26T17:07:06.406Z"
   },
   {
    "duration": 5,
    "start_time": "2024-05-26T17:07:06.417Z"
   },
   {
    "duration": 36,
    "start_time": "2024-05-26T17:07:06.424Z"
   },
   {
    "duration": 32,
    "start_time": "2024-05-26T17:07:06.465Z"
   },
   {
    "duration": 41,
    "start_time": "2024-05-26T17:07:06.499Z"
   },
   {
    "duration": 10,
    "start_time": "2024-05-26T17:07:06.542Z"
   },
   {
    "duration": 3,
    "start_time": "2024-05-26T17:07:06.554Z"
   },
   {
    "duration": 13,
    "start_time": "2024-05-26T17:07:06.558Z"
   },
   {
    "duration": 21,
    "start_time": "2024-05-26T17:07:06.572Z"
   },
   {
    "duration": 17,
    "start_time": "2024-05-26T17:07:06.594Z"
   },
   {
    "duration": 3,
    "start_time": "2024-05-26T17:07:06.613Z"
   },
   {
    "duration": 12,
    "start_time": "2024-05-26T17:07:06.618Z"
   },
   {
    "duration": 31,
    "start_time": "2024-05-26T17:07:06.632Z"
   },
   {
    "duration": 4,
    "start_time": "2024-05-26T17:07:06.664Z"
   },
   {
    "duration": 25,
    "start_time": "2024-05-26T17:07:06.669Z"
   },
   {
    "duration": 217,
    "start_time": "2024-05-26T17:07:06.695Z"
   },
   {
    "duration": 953,
    "start_time": "2024-05-26T17:07:06.913Z"
   },
   {
    "duration": 43,
    "start_time": "2024-05-26T17:07:07.869Z"
   },
   {
    "duration": 272,
    "start_time": "2024-05-26T17:07:07.914Z"
   },
   {
    "duration": 36,
    "start_time": "2024-05-26T17:07:08.188Z"
   }
  ],
  "colab": {
   "provenance": []
  },
  "kernelspec": {
   "display_name": "Python 3 (ipykernel)",
   "language": "python",
   "name": "python3"
  },
  "language_info": {
   "codemirror_mode": {
    "name": "ipython",
    "version": 3
   },
   "file_extension": ".py",
   "mimetype": "text/x-python",
   "name": "python",
   "nbconvert_exporter": "python",
   "pygments_lexer": "ipython3",
   "version": "3.9.5"
  },
  "toc": {
   "base_numbering": 1,
   "nav_menu": {},
   "number_sections": true,
   "sideBar": true,
   "skip_h1_title": true,
   "title_cell": "Table of Contents",
   "title_sidebar": "Contents",
   "toc_cell": false,
   "toc_position": {},
   "toc_section_display": true,
   "toc_window_display": false
  }
 },
 "nbformat": 4,
 "nbformat_minor": 5
}
